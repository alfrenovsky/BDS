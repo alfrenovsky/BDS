{
  "cells": [
    {
      "cell_type": "markdown",
      "metadata": {
        "id": "view-in-github",
        "colab_type": "text"
      },
      "source": [
        "<a href=\"https://colab.research.google.com/github/cristiandarioortegayubro/BDS/blob/main/modulo.08/bds_aprendizaje_profundo_001_02_Backpropagation.ipynb\" target=\"_parent\"><img src=\"https://colab.research.google.com/assets/colab-badge.svg\" alt=\"Open In Colab\"/></a>"
      ]
    },
    {
      "cell_type": "markdown",
      "source": [
        "<p align=\"center\">\n",
        "<img src=\"https://github.com/cristiandarioortegayubro/BDS/blob/main/images/Logo%20BDS%20Horizontal%208.png?raw=true\">\n",
        "</p>"
      ],
      "metadata": {
        "id": "yZh8KLahzvXu"
      },
      "id": "yZh8KLahzvXu"
    },
    {
      "cell_type": "markdown",
      "source": [
        " # **<font color=\"DeepPink\">Backpropagation</font>**"
      ],
      "metadata": {
        "id": "88lavUpdzxy-"
      },
      "id": "88lavUpdzxy-"
    },
    {
      "cell_type": "markdown",
      "id": "e293521c",
      "metadata": {
        "id": "e293521c"
      },
      "source": [
        "Ejemplo extraído de https://machinelearningmastery.com/implement-backpropagation-algorithm-scratch-python/"
      ]
    },
    {
      "cell_type": "code",
      "execution_count": null,
      "id": "e3d0e95b",
      "metadata": {
        "id": "e3d0e95b"
      },
      "outputs": [],
      "source": [
        "from random import seed\n",
        "from random import random\n",
        "from math import exp"
      ]
    },
    {
      "cell_type": "code",
      "execution_count": null,
      "id": "14ef5b64",
      "metadata": {
        "id": "14ef5b64"
      },
      "outputs": [],
      "source": [
        "# Generamos una red neuronal sencilla con 1 capa o layer\n",
        "# Function takes as inputs: number of neurons, numbers of hidden layers, number of categories (outputs)\n",
        "def initialize_network(n_inputs, n_hidden, n_outputs):\n",
        "    network = list()\n",
        "    hidden_layer = [{'weights':[random() for i in range(n_inputs + 1)]} for i in range(n_hidden)]\n",
        "    network.append(hidden_layer)\n",
        "    output_layer = [{'weights':[random() for i in range(n_hidden + 1)]} for i in range(n_outputs)]\n",
        "    network.append(output_layer)\n",
        "    return network"
      ]
    },
    {
      "cell_type": "code",
      "execution_count": null,
      "id": "f6662409",
      "metadata": {
        "id": "f6662409",
        "outputId": "3eda8e99-28b3-4784-b1dd-363d9648ab37",
        "colab": {
          "base_uri": "https://localhost:8080/"
        }
      },
      "outputs": [
        {
          "output_type": "stream",
          "name": "stdout",
          "text": [
            "[{'weights': [0.13436424411240122, 0.8474337369372327, 0.763774618976614]}]\n",
            "[{'weights': [0.2550690257394217, 0.49543508709194095]}, {'weights': [0.4494910647887381, 0.651592972722763]}]\n"
          ]
        }
      ],
      "source": [
        "# Generamos una red neuronal sencilla con 1 capa y 1 neurona en dicha capa\n",
        "# La hidden layer tiene 2 weights y el bias, mientras que la output layer tiene en cada unidad 1 weight y 1 bias\n",
        "seed(1)\n",
        "network = initialize_network(2, 1, 2)\n",
        "for layer in network:\n",
        "    print(layer)"
      ]
    },
    {
      "cell_type": "markdown",
      "id": "d45d2b94",
      "metadata": {
        "id": "d45d2b94"
      },
      "source": [
        "En el siguiente paso, desarrollamos una función para activar la red neuronal"
      ]
    },
    {
      "cell_type": "code",
      "execution_count": null,
      "id": "9bde3ddb",
      "metadata": {
        "id": "9bde3ddb"
      },
      "outputs": [],
      "source": [
        "# Se \"activa\" la neurona de una red a partir de los weights y los inputs\n",
        "def activate(weights, inputs):\n",
        "    activation = weights[-1]\n",
        "    for i in range(len(weights)-1):\n",
        "        activation += weights[i] * inputs[i]\n",
        "    return activation"
      ]
    },
    {
      "cell_type": "markdown",
      "id": "7b2027cf",
      "metadata": {
        "id": "7b2027cf"
      },
      "source": [
        "Se utiliza la función sigmoide como función de activación de las neuronas"
      ]
    },
    {
      "cell_type": "code",
      "execution_count": null,
      "id": "a4613576",
      "metadata": {
        "id": "a4613576"
      },
      "outputs": [],
      "source": [
        "# Se utiliza la función sigmoide como función de activación\n",
        "def transfer(activation):\n",
        "    return 1.0 / (1.0 + exp(-activation))"
      ]
    },
    {
      "cell_type": "markdown",
      "id": "06422f17",
      "metadata": {
        "id": "06422f17"
      },
      "source": [
        "Comenzamos con el paso de \"forward propagation\", que es el paso desde la capa de inputs hasta la de outputs"
      ]
    },
    {
      "cell_type": "code",
      "execution_count": null,
      "id": "9ede0c66",
      "metadata": {
        "id": "9ede0c66",
        "outputId": "96151cb1-4c19-43de-b78d-8fa80bed8346",
        "colab": {
          "base_uri": "https://localhost:8080/"
        }
      },
      "outputs": [
        {
          "output_type": "stream",
          "name": "stdout",
          "text": [
            "[0.6629970129852887, 0.7253160725279748]\n"
          ]
        }
      ],
      "source": [
        "def forward_propagate(network, row):\n",
        "    inputs = row\n",
        "    for layer in network:\n",
        "        new_inputs = []\n",
        "        for neuron in layer:\n",
        "            activation = activate(neuron['weights'], inputs)\n",
        "            neuron['output'] = transfer(activation)\n",
        "            new_inputs.append(neuron['output'])\n",
        "        inputs = new_inputs\n",
        "    return inputs\n",
        "\n",
        "# test forward propagation\n",
        "network = [[{'weights': [0.13436424411240122, 0.8474337369372327, 0.763774618976614]}],\n",
        "           [{'weights': [0.2550690257394217, 0.49543508709194095]}, {'weights': [0.4494910647887381, 0.651592972722763]}]]\n",
        "row = [1, 0, None] # Valores iniciales de los weights y bias de la neurona en la hidden layer\n",
        "output = forward_propagate(network, row)\n",
        "print(output)"
      ]
    },
    {
      "cell_type": "markdown",
      "id": "98003b5c",
      "metadata": {
        "id": "98003b5c"
      },
      "source": [
        "Vamos ahora al paso de Backpropagation, donde el error de predicción es propagado hacia atrás en la red neuronal"
      ]
    },
    {
      "cell_type": "code",
      "execution_count": null,
      "id": "7c148414",
      "metadata": {
        "id": "7c148414"
      },
      "outputs": [],
      "source": [
        "# Por lo tanto, la función para la derivada de la función sigmoide será:\n",
        "\n",
        "def transfer_derivative(output):\n",
        "    return output * (1.0 - output)"
      ]
    },
    {
      "cell_type": "code",
      "execution_count": null,
      "id": "b621daa7",
      "metadata": {
        "id": "b621daa7"
      },
      "outputs": [],
      "source": [
        "# Definimos a su vez la función para \"propagar hacia atrás\" el error\n",
        "def backward_propagate_error(network, expected):\n",
        "    for i in reversed(range(len(network))):\n",
        "        layer = network[i]\n",
        "        errors = list()\n",
        "        if i != len(network)-1:\n",
        "            for j in range(len(layer)):\n",
        "                error = 0.0\n",
        "                for neuron in network[i + 1]:\n",
        "                    error += (neuron['weights'][j] * neuron['delta'])\n",
        "                    errors.append(error)\n",
        "        else:\n",
        "            for j in range(len(layer)):\n",
        "                neuron = layer[j]\n",
        "                errors.append(neuron['output'] - expected[j])\n",
        "        for j in range(len(layer)):\n",
        "            neuron = layer[j]\n",
        "            neuron['delta'] = errors[j] * transfer_derivative(neuron['output'])"
      ]
    },
    {
      "cell_type": "code",
      "execution_count": null,
      "id": "3cf553d3",
      "metadata": {
        "id": "3cf553d3",
        "outputId": "f01f9252-43d5-486e-b372-730a8c5924f5",
        "colab": {
          "base_uri": "https://localhost:8080/"
        }
      },
      "outputs": [
        {
          "output_type": "stream",
          "name": "stdout",
          "text": [
            "[{'output': 0.7105668883115941, 'weights': [0.13436424411240122, 0.8474337369372327, 0.763774618976614], 'delta': 0.007668854370284511}]\n",
            "[{'output': 0.6213859615555266, 'weights': [0.2550690257394217, 0.49543508709194095], 'delta': 0.14619064683582808}, {'output': 0.6573693455986976, 'weights': [0.4494910647887381, 0.651592972722763], 'delta': -0.0771723774346327}]\n"
          ]
        }
      ],
      "source": [
        "# Testeamos el backpropagation\n",
        "network = [[{'output': 0.7105668883115941, 'weights': [0.13436424411240122, 0.8474337369372327, 0.763774618976614]}],\n",
        "[{'output': 0.6213859615555266, 'weights': [0.2550690257394217, 0.49543508709194095]}, {'output': 0.6573693455986976, 'weights': [0.4494910647887381, 0.651592972722763]}]]\n",
        "expected = [0, 1]\n",
        "backward_propagate_error(network, expected)\n",
        "for layer in network:\n",
        "    print(layer)"
      ]
    },
    {
      "cell_type": "code",
      "execution_count": null,
      "id": "9ae31c69",
      "metadata": {
        "id": "9ae31c69"
      },
      "outputs": [],
      "source": [
        "# Hacemos el update de los weights\n",
        "def update_weights(network, row, l_rate):\n",
        "    for i in range(len(network)):\n",
        "        inputs = row[:-1]\n",
        "        if i != 0:\n",
        "            inputs = [neuron['output'] for neuron in network[i - 1]]\n",
        "        for neuron in network[i]:\n",
        "            for j in range(len(inputs)):\n",
        "                neuron['weights'][j] -= l_rate * neuron['delta'] * inputs[j]\n",
        "            neuron['weights'][-1] -= l_rate * neuron['delta']"
      ]
    },
    {
      "cell_type": "code",
      "execution_count": null,
      "id": "f35dfa1b",
      "metadata": {
        "id": "f35dfa1b"
      },
      "outputs": [],
      "source": [
        "# Finalmente, se entrena el modelo para un número dado de epochs\n",
        "def train_network(network, train, l_rate, n_epoch, n_outputs):\n",
        "    for epoch in range(n_epoch):\n",
        "        sum_error = 0\n",
        "        for row in train:\n",
        "            outputs = forward_propagate(network, row)\n",
        "            expected = [0 for i in range(n_outputs)]\n",
        "            expected[row[-1]] = 1\n",
        "            sum_error += sum([(expected[i]-outputs[i])**2 for i in range(len(expected))])\n",
        "            backward_propagate_error(network, expected)\n",
        "            update_weights(network, row, l_rate)\n",
        "        print('>epoch=%d, lrate=%.3f, error=%.3f' % (epoch, l_rate, sum_error))"
      ]
    },
    {
      "cell_type": "code",
      "execution_count": null,
      "id": "92233450",
      "metadata": {
        "id": "92233450",
        "outputId": "cda5b7cc-3499-4545-ca17-8683b641d7b2",
        "colab": {
          "base_uri": "https://localhost:8080/"
        }
      },
      "outputs": [
        {
          "output_type": "stream",
          "name": "stdout",
          "text": [
            ">epoch=0, lrate=0.500, error=6.365\n",
            ">epoch=1, lrate=0.500, error=5.557\n",
            ">epoch=2, lrate=0.500, error=5.291\n",
            ">epoch=3, lrate=0.500, error=5.262\n",
            ">epoch=4, lrate=0.500, error=5.217\n",
            ">epoch=5, lrate=0.500, error=4.899\n",
            ">epoch=6, lrate=0.500, error=4.419\n",
            ">epoch=7, lrate=0.500, error=3.900\n",
            ">epoch=8, lrate=0.500, error=3.461\n",
            ">epoch=9, lrate=0.500, error=3.087\n",
            ">epoch=10, lrate=0.500, error=2.758\n",
            ">epoch=11, lrate=0.500, error=2.468\n",
            ">epoch=12, lrate=0.500, error=2.213\n",
            ">epoch=13, lrate=0.500, error=1.989\n",
            ">epoch=14, lrate=0.500, error=1.792\n",
            ">epoch=15, lrate=0.500, error=1.621\n",
            ">epoch=16, lrate=0.500, error=1.470\n",
            ">epoch=17, lrate=0.500, error=1.339\n",
            ">epoch=18, lrate=0.500, error=1.223\n",
            ">epoch=19, lrate=0.500, error=1.122\n",
            "[{'weights': [-0.9766426647918854, 1.0573043092399, 0.7999535671683315], 'output': 0.05429927062285241, 'delta': 0.0035328621774792703}, {'weights': [-1.2245133652927975, 1.4766900503308025, 0.7507113892487565], 'output': 0.03737569585208105, 'delta': 0.005989297622698788}]\n",
            "[{'weights': [1.4965066037208181, 1.770264295168642, -1.28526000789383], 'output': 0.24698288711606625, 'delta': 0.04593445543099784}, {'weights': [-1.8260068779176126, -1.1775229580602165, 1.1610216434075609], 'output': 0.7292895947013409, 'delta': -0.05344534875231567}]\n"
          ]
        }
      ],
      "source": [
        "# Testeamos la red construida de esta forma para un ejemplo particular.\n",
        "seed(1)\n",
        "dataset = [[2.7810836,2.550537003,0],\n",
        " [1.465489372,2.362125076,0],\n",
        " [3.396561688,4.400293529,0],\n",
        " [1.38807019,1.850220317,0],\n",
        " [3.06407232,3.005305973,0],\n",
        " [7.627531214,2.759262235,1],\n",
        " [5.332441248,2.088626775,1],\n",
        " [6.922596716,1.77106367,1],\n",
        " [8.675418651,-0.242068655,1],\n",
        " [7.673756466,3.508563011,1]]\n",
        "n_inputs = len(dataset[0]) - 1\n",
        "n_outputs = len(set([row[-1] for row in dataset]))\n",
        "network = initialize_network(n_inputs, 2, n_outputs)\n",
        "train_network(network, dataset, 0.5, 20, n_outputs)\n",
        "for layer in network:\n",
        "    print(layer)"
      ]
    },
    {
      "cell_type": "markdown",
      "source": [
        "<br>\n",
        "<br>\n",
        "<p align=\"center\"><b>\n",
        "💗\n",
        "<font color=\"DeepPink\">\n",
        "Hemos llegado al final de nuestro colab...\n",
        "</font>\n",
        "</p>\n",
        "<br>\n",
        "<p align=\"center\">\n",
        "<img src=\"https://github.com/cristiandarioortegayubro/BDS/blob/main/images/Logo%20BDS%20Horizontal%208.png?raw=true\">\n",
        "</p>\n",
        "\n",
        "---"
      ],
      "metadata": {
        "id": "tTLNi7ai0CBt"
      },
      "id": "tTLNi7ai0CBt"
    }
  ],
  "metadata": {
    "kernelspec": {
      "display_name": "Python 3",
      "language": "python",
      "name": "python3"
    },
    "language_info": {
      "codemirror_mode": {
        "name": "ipython",
        "version": 3
      },
      "file_extension": ".py",
      "mimetype": "text/x-python",
      "name": "python",
      "nbconvert_exporter": "python",
      "pygments_lexer": "ipython3",
      "version": "3.8.8"
    },
    "colab": {
      "provenance": [],
      "include_colab_link": true
    }
  },
  "nbformat": 4,
  "nbformat_minor": 5
}