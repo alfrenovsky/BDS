{
  "cells": [
    {
      "cell_type": "markdown",
      "metadata": {
        "id": "view-in-github",
        "colab_type": "text"
      },
      "source": [
        "<a href=\"https://colab.research.google.com/github/cristiandarioortegayubro/BDS/blob/main/modulo.08/bds_aprendizaje_profundo_002_03_Optimizadores_en_Redes_Neuronales_2.ipynb\" target=\"_parent\"><img src=\"https://colab.research.google.com/assets/colab-badge.svg\" alt=\"Open In Colab\"/></a>"
      ]
    },
    {
      "cell_type": "markdown",
      "source": [
        "<p align=\"center\">\n",
        "<img src=\"https://github.com/cristiandarioortegayubro/BDS/blob/main/images/Logo%20BDS%20Horizontal%208.png?raw=true\">\n",
        "</p>"
      ],
      "metadata": {
        "id": "yZh8KLahzvXu"
      },
      "id": "yZh8KLahzvXu"
    },
    {
      "cell_type": "markdown",
      "source": [
        " # **<font color=\"DeepPink\">Optimizadores en Redes Neuronales </font>**"
      ],
      "metadata": {
        "id": "88lavUpdzxy-"
      },
      "id": "88lavUpdzxy-"
    },
    {
      "cell_type": "markdown",
      "id": "2ee04a12",
      "metadata": {
        "id": "2ee04a12"
      },
      "source": [
        "Ejemplo extraído de https://www.analyticsvidhya.com/blog/2021/10/a-comprehensive-guide-on-deep-learning-optimizers/"
      ]
    },
    {
      "cell_type": "code",
      "execution_count": null,
      "id": "79e01663",
      "metadata": {
        "id": "79e01663"
      },
      "outputs": [],
      "source": [
        "import keras\n",
        "from keras.datasets import mnist\n",
        "from keras.models import Sequential\n",
        "from keras.layers import Dense, Dropout, Flatten\n",
        "from keras.layers import Conv2D, MaxPooling2D\n",
        "from keras import backend as K"
      ]
    },
    {
      "cell_type": "code",
      "execution_count": null,
      "id": "72d8c763",
      "metadata": {
        "id": "72d8c763",
        "outputId": "a1dbe480-1d8f-4cdc-82a0-8ca9fca85a2d"
      },
      "outputs": [
        {
          "name": "stdout",
          "output_type": "stream",
          "text": [
            "(60000, 28, 28) (60000,)\n"
          ]
        }
      ],
      "source": [
        "(x_train, y_train), (x_test, y_test) = mnist.load_data()\n",
        "print(x_train.shape, y_train.shape)"
      ]
    },
    {
      "cell_type": "code",
      "execution_count": null,
      "id": "f4512e2e",
      "metadata": {
        "id": "f4512e2e"
      },
      "outputs": [],
      "source": [
        "x_train= x_train.reshape(x_train.shape[0],28,28,1)\n",
        "x_test=  x_test.reshape(x_test.shape[0],28,28,1)\n",
        "input_shape=(28,28,1)\n",
        "y_train=keras.utils.to_categorical(y_train)#,num_classes=)\n",
        "y_test=keras.utils.to_categorical(y_test)#, num_classes)\n",
        "x_train= x_train.astype('float32')\n",
        "x_test= x_test.astype('float32')\n",
        "x_train /= 255\n",
        "x_test /=255"
      ]
    },
    {
      "cell_type": "code",
      "execution_count": null,
      "id": "0a463e57",
      "metadata": {
        "id": "0a463e57",
        "outputId": "b2325892-6765-44f1-9a5b-84b6a2726434"
      },
      "outputs": [
        {
          "name": "stdout",
          "output_type": "stream",
          "text": [
            "Epoch 1/10\n",
            "938/938 [==============================] - 22s 22ms/step - loss: 2.2701 - accuracy: 0.1717 - val_loss: 2.2141 - val_accuracy: 0.3835\n",
            "Epoch 2/10\n",
            "938/938 [==============================] - 21s 22ms/step - loss: 2.1855 - accuracy: 0.3125 - val_loss: 2.1169 - val_accuracy: 0.5920\n",
            "Epoch 3/10\n",
            "938/938 [==============================] - 21s 22ms/step - loss: 2.0905 - accuracy: 0.4387 - val_loss: 2.0054 - val_accuracy: 0.6892\n",
            "Epoch 4/10\n",
            "938/938 [==============================] - 21s 22ms/step - loss: 1.9825 - accuracy: 0.5331 - val_loss: 1.8783 - val_accuracy: 0.7375\n",
            "Epoch 5/10\n",
            "938/938 [==============================] - 21s 23ms/step - loss: 1.8607 - accuracy: 0.5940 - val_loss: 1.7395 - val_accuracy: 0.7680\n",
            "Epoch 6/10\n",
            "938/938 [==============================] - 21s 22ms/step - loss: 1.7294 - accuracy: 0.6367 - val_loss: 1.5939 - val_accuracy: 0.7845\n",
            "Epoch 7/10\n",
            "938/938 [==============================] - 21s 22ms/step - loss: 1.5941 - accuracy: 0.6669 - val_loss: 1.4481 - val_accuracy: 0.7968\n",
            "Epoch 8/10\n",
            "938/938 [==============================] - 21s 23ms/step - loss: 1.4643 - accuracy: 0.6904 - val_loss: 1.3092 - val_accuracy: 0.8081\n",
            "Epoch 9/10\n",
            "938/938 [==============================] - 21s 23ms/step - loss: 1.3413 - accuracy: 0.7076 - val_loss: 1.1821 - val_accuracy: 0.8191\n",
            "Epoch 10/10\n",
            "938/938 [==============================] - 21s 23ms/step - loss: 1.2291 - accuracy: 0.7255 - val_loss: 1.0690 - val_accuracy: 0.8265\n",
            "Epoch 1/10\n",
            "938/938 [==============================] - 16s 16ms/step - loss: 1.5314 - accuracy: 0.5703 - val_loss: 0.7407 - val_accuracy: 0.8421\n",
            "Epoch 2/10\n",
            "938/938 [==============================] - 15s 16ms/step - loss: 0.7288 - accuracy: 0.7929 - val_loss: 0.4663 - val_accuracy: 0.8813\n",
            "Epoch 3/10\n",
            "938/938 [==============================] - 15s 16ms/step - loss: 0.5633 - accuracy: 0.8347 - val_loss: 0.3861 - val_accuracy: 0.8969\n",
            "Epoch 4/10\n",
            "938/938 [==============================] - 15s 16ms/step - loss: 0.4931 - accuracy: 0.8540 - val_loss: 0.3469 - val_accuracy: 0.9063\n",
            "Epoch 5/10\n",
            "938/938 [==============================] - 15s 16ms/step - loss: 0.4500 - accuracy: 0.8667 - val_loss: 0.3206 - val_accuracy: 0.9119\n",
            "Epoch 6/10\n",
            "938/938 [==============================] - 15s 16ms/step - loss: 0.4242 - accuracy: 0.8733 - val_loss: 0.3011 - val_accuracy: 0.9173\n",
            "Epoch 7/10\n",
            "938/938 [==============================] - 15s 16ms/step - loss: 0.4035 - accuracy: 0.8789 - val_loss: 0.2873 - val_accuracy: 0.9195\n",
            "Epoch 8/10\n",
            "938/938 [==============================] - 15s 16ms/step - loss: 0.3840 - accuracy: 0.8859 - val_loss: 0.2743 - val_accuracy: 0.9220\n",
            "Epoch 9/10\n",
            "938/938 [==============================] - 15s 16ms/step - loss: 0.3691 - accuracy: 0.8903 - val_loss: 0.2641 - val_accuracy: 0.9238\n",
            "Epoch 10/10\n",
            "938/938 [==============================] - 15s 16ms/step - loss: 0.3545 - accuracy: 0.8940 - val_loss: 0.2539 - val_accuracy: 0.9261\n",
            "Epoch 1/10\n",
            "938/938 [==============================] - 18s 19ms/step - loss: 0.2330 - accuracy: 0.9280 - val_loss: 0.0672 - val_accuracy: 0.9791\n",
            "Epoch 2/10\n",
            "938/938 [==============================] - 17s 19ms/step - loss: 0.0910 - accuracy: 0.9725 - val_loss: 0.0506 - val_accuracy: 0.9841\n",
            "Epoch 3/10\n",
            "938/938 [==============================] - 17s 19ms/step - loss: 0.0668 - accuracy: 0.9800 - val_loss: 0.0380 - val_accuracy: 0.9869\n",
            "Epoch 4/10\n",
            "938/938 [==============================] - 17s 19ms/step - loss: 0.0560 - accuracy: 0.9820 - val_loss: 0.0340 - val_accuracy: 0.9890\n",
            "Epoch 5/10\n",
            "938/938 [==============================] - 17s 18ms/step - loss: 0.0457 - accuracy: 0.9855 - val_loss: 0.0348 - val_accuracy: 0.9876\n",
            "Epoch 6/10\n",
            "938/938 [==============================] - 17s 18ms/step - loss: 0.0409 - accuracy: 0.9869 - val_loss: 0.0379 - val_accuracy: 0.9878\n",
            "Epoch 7/10\n",
            "938/938 [==============================] - 17s 19ms/step - loss: 0.0350 - accuracy: 0.9887 - val_loss: 0.0345 - val_accuracy: 0.9878\n",
            "Epoch 8/10\n",
            "938/938 [==============================] - 17s 19ms/step - loss: 0.0318 - accuracy: 0.9899 - val_loss: 0.0353 - val_accuracy: 0.9887\n",
            "Epoch 9/10\n",
            "938/938 [==============================] - 17s 19ms/step - loss: 0.0281 - accuracy: 0.9911 - val_loss: 0.0333 - val_accuracy: 0.9896\n",
            "Epoch 10/10\n",
            "938/938 [==============================] - 17s 19ms/step - loss: 0.0261 - accuracy: 0.9912 - val_loss: 0.0342 - val_accuracy: 0.9886\n",
            "Epoch 1/10\n",
            "938/938 [==============================] - 16s 16ms/step - loss: 0.2484 - accuracy: 0.9234 - val_loss: 0.0694 - val_accuracy: 0.9778\n",
            "Epoch 2/10\n",
            "938/938 [==============================] - 15s 16ms/step - loss: 0.0905 - accuracy: 0.9729 - val_loss: 0.0477 - val_accuracy: 0.9836\n",
            "Epoch 3/10\n",
            "938/938 [==============================] - 15s 16ms/step - loss: 0.0695 - accuracy: 0.9788 - val_loss: 0.0441 - val_accuracy: 0.9851\n",
            "Epoch 4/10\n",
            "938/938 [==============================] - 15s 16ms/step - loss: 0.0598 - accuracy: 0.9823 - val_loss: 0.0432 - val_accuracy: 0.9850\n",
            "Epoch 5/10\n",
            "938/938 [==============================] - 15s 16ms/step - loss: 0.0537 - accuracy: 0.9830 - val_loss: 0.0343 - val_accuracy: 0.9882\n",
            "Epoch 6/10\n",
            "938/938 [==============================] - 15s 16ms/step - loss: 0.0485 - accuracy: 0.9853 - val_loss: 0.0370 - val_accuracy: 0.9872\n",
            "Epoch 7/10\n",
            "938/938 [==============================] - 15s 16ms/step - loss: 0.0447 - accuracy: 0.9862 - val_loss: 0.0353 - val_accuracy: 0.9885\n",
            "Epoch 8/10\n",
            "938/938 [==============================] - 15s 16ms/step - loss: 0.0424 - accuracy: 0.9870 - val_loss: 0.0388 - val_accuracy: 0.9879\n",
            "Epoch 9/10\n",
            "938/938 [==============================] - 15s 16ms/step - loss: 0.0394 - accuracy: 0.9876 - val_loss: 0.0407 - val_accuracy: 0.9882\n",
            "Epoch 10/10\n",
            "938/938 [==============================] - 15s 16ms/step - loss: 0.0389 - accuracy: 0.9884 - val_loss: 0.0345 - val_accuracy: 0.9890\n",
            "Epoch 1/10\n",
            "938/938 [==============================] - 12s 13ms/step - loss: 0.7818 - accuracy: 0.7634 - val_loss: 0.3077 - val_accuracy: 0.9132\n",
            "Epoch 2/10\n",
            "938/938 [==============================] - 12s 12ms/step - loss: 0.3834 - accuracy: 0.8820 - val_loss: 0.2305 - val_accuracy: 0.9342\n",
            "Epoch 3/10\n",
            "938/938 [==============================] - 12s 13ms/step - loss: 0.3139 - accuracy: 0.9038 - val_loss: 0.1902 - val_accuracy: 0.9438\n",
            "Epoch 4/10\n",
            "938/938 [==============================] - 12s 13ms/step - loss: 0.2739 - accuracy: 0.9168 - val_loss: 0.1673 - val_accuracy: 0.9530\n",
            "Epoch 5/10\n",
            "938/938 [==============================] - 12s 13ms/step - loss: 0.2473 - accuracy: 0.9250 - val_loss: 0.1491 - val_accuracy: 0.9549\n",
            "Epoch 6/10\n",
            "938/938 [==============================] - 12s 12ms/step - loss: 0.2273 - accuracy: 0.9314 - val_loss: 0.1382 - val_accuracy: 0.9592\n",
            "Epoch 7/10\n",
            "938/938 [==============================] - 12s 13ms/step - loss: 0.2119 - accuracy: 0.9363 - val_loss: 0.1257 - val_accuracy: 0.9626\n",
            "Epoch 8/10\n",
            "938/938 [==============================] - 12s 13ms/step - loss: 0.2038 - accuracy: 0.9383 - val_loss: 0.1217 - val_accuracy: 0.9637\n",
            "Epoch 9/10\n",
            "938/938 [==============================] - 12s 13ms/step - loss: 0.1922 - accuracy: 0.9416 - val_loss: 0.1125 - val_accuracy: 0.9667\n",
            "Epoch 10/10\n",
            "938/938 [==============================] - 12s 13ms/step - loss: 0.1822 - accuracy: 0.9455 - val_loss: 0.1068 - val_accuracy: 0.9677\n"
          ]
        }
      ],
      "source": [
        "batch_size=64\n",
        "\n",
        "num_classes=10\n",
        "\n",
        "epochs=10\n",
        "\n",
        "def build_model(optimizer):\n",
        "\n",
        "    model=Sequential()\n",
        "\n",
        "    model.add(Conv2D(32,kernel_size=(3,3),activation='relu',input_shape=input_shape))\n",
        "\n",
        "    model.add(MaxPooling2D(pool_size=(2,2)))\n",
        "\n",
        "    model.add(Dropout(0.25))\n",
        "\n",
        "    model.add(Flatten())\n",
        "\n",
        "    model.add(Dense(256, activation='relu'))\n",
        "\n",
        "    model.add(Dropout(0.5))\n",
        "\n",
        "    model.add(Dense(num_classes, activation='softmax'))\n",
        "\n",
        "    model.compile(loss=keras.losses.categorical_crossentropy, optimizer= optimizer, metrics=['accuracy'])\n",
        "\n",
        "    return model\n",
        "# Train the Model\n",
        "optimizers = ['Adadelta', 'Adagrad', 'Adam', 'RMSprop', 'SGD']\n",
        "\n",
        "for i in optimizers:\n",
        "\n",
        "    model = build_model(i)\n",
        "\n",
        "    hist=model.fit(x_train, y_train, batch_size=batch_size, epochs=epochs, verbose=1, validation_data=(x_test,y_test))"
      ]
    },
    {
      "cell_type": "markdown",
      "source": [
        "<br>\n",
        "<br>\n",
        "<p align=\"center\"><b>\n",
        "💗\n",
        "<font color=\"DeepPink\">\n",
        "Hemos llegado al final de nuestro colab...\n",
        "</font>\n",
        "</p>\n",
        "<br>\n",
        "<p align=\"center\">\n",
        "<img src=\"https://github.com/cristiandarioortegayubro/BDS/blob/main/images/Logo%20BDS%20Horizontal%208.png?raw=true\">\n",
        "</p>\n",
        "\n",
        "---"
      ],
      "metadata": {
        "id": "tTLNi7ai0CBt"
      },
      "id": "tTLNi7ai0CBt"
    }
  ],
  "metadata": {
    "kernelspec": {
      "display_name": "Python 3",
      "language": "python",
      "name": "python3"
    },
    "language_info": {
      "codemirror_mode": {
        "name": "ipython",
        "version": 3
      },
      "file_extension": ".py",
      "mimetype": "text/x-python",
      "name": "python",
      "nbconvert_exporter": "python",
      "pygments_lexer": "ipython3",
      "version": "3.8.8"
    },
    "colab": {
      "provenance": [],
      "include_colab_link": true
    }
  },
  "nbformat": 4,
  "nbformat_minor": 5
}