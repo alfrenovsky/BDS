{
  "cells": [
    {
      "cell_type": "markdown",
      "metadata": {
        "id": "view-in-github",
        "colab_type": "text"
      },
      "source": [
        "<a href=\"https://colab.research.google.com/github/cristiandarioortegayubro/BDS/blob/main/modulo.08/Apliacai%C3%B3n_RRN_AMZN.ipynb\" target=\"_parent\"><img src=\"https://colab.research.google.com/assets/colab-badge.svg\" alt=\"Open In Colab\"/></a>"
      ]
    },
    {
      "cell_type": "markdown",
      "id": "7ae32aa7",
      "metadata": {
        "id": "7ae32aa7"
      },
      "source": [
        "Ejemplo extraído de https://medium.datadriveninvestor.com/stock-price-prediction-using-recurrent-neural-network-artificial-intelligence-ffe6ac1bd344"
      ]
    },
    {
      "cell_type": "code",
      "execution_count": null,
      "id": "028aca91",
      "metadata": {
        "id": "028aca91"
      },
      "outputs": [],
      "source": [
        "#importing libraries\n",
        "import math\n",
        "import pandas_datareader as web\n",
        "import numpy as np\n",
        "import pandas as pd\n",
        "from sklearn.preprocessing import MinMaxScaler\n",
        "from keras.models import Sequential\n",
        "from keras.layers import Dense, LSTM\n",
        "import matplotlib.pyplot as plt\n",
        "import datetime\n",
        "plt.style.use('fivethirtyeight')"
      ]
    },
    {
      "cell_type": "code",
      "execution_count": null,
      "id": "968a1e94",
      "metadata": {
        "id": "968a1e94",
        "outputId": "865d2dd9-c727-4206-dd16-5cbaf746014c"
      },
      "outputs": [
        {
          "data": {
            "text/html": [
              "<div>\n",
              "<style scoped>\n",
              "    .dataframe tbody tr th:only-of-type {\n",
              "        vertical-align: middle;\n",
              "    }\n",
              "\n",
              "    .dataframe tbody tr th {\n",
              "        vertical-align: top;\n",
              "    }\n",
              "\n",
              "    .dataframe thead th {\n",
              "        text-align: right;\n",
              "    }\n",
              "</style>\n",
              "<table border=\"1\" class=\"dataframe\">\n",
              "  <thead>\n",
              "    <tr style=\"text-align: right;\">\n",
              "      <th></th>\n",
              "      <th>Date</th>\n",
              "      <th>Open</th>\n",
              "      <th>High</th>\n",
              "      <th>Low</th>\n",
              "      <th>Close</th>\n",
              "      <th>Adj Close</th>\n",
              "      <th>Volume</th>\n",
              "    </tr>\n",
              "  </thead>\n",
              "  <tbody>\n",
              "    <tr>\n",
              "      <th>0</th>\n",
              "      <td>2012-01-03</td>\n",
              "      <td>8.794500</td>\n",
              "      <td>8.974000</td>\n",
              "      <td>8.777500</td>\n",
              "      <td>8.951500</td>\n",
              "      <td>8.951500</td>\n",
              "      <td>102216000</td>\n",
              "    </tr>\n",
              "    <tr>\n",
              "      <th>1</th>\n",
              "      <td>2012-01-04</td>\n",
              "      <td>8.960500</td>\n",
              "      <td>9.025000</td>\n",
              "      <td>8.803500</td>\n",
              "      <td>8.875500</td>\n",
              "      <td>8.875500</td>\n",
              "      <td>84104000</td>\n",
              "    </tr>\n",
              "    <tr>\n",
              "      <th>2</th>\n",
              "      <td>2012-01-05</td>\n",
              "      <td>8.797000</td>\n",
              "      <td>8.912500</td>\n",
              "      <td>8.702500</td>\n",
              "      <td>8.880500</td>\n",
              "      <td>8.880500</td>\n",
              "      <td>76182000</td>\n",
              "    </tr>\n",
              "    <tr>\n",
              "      <th>3</th>\n",
              "      <td>2012-01-06</td>\n",
              "      <td>8.903500</td>\n",
              "      <td>9.232500</td>\n",
              "      <td>8.875000</td>\n",
              "      <td>9.130500</td>\n",
              "      <td>9.130500</td>\n",
              "      <td>140168000</td>\n",
              "    </tr>\n",
              "    <tr>\n",
              "      <th>4</th>\n",
              "      <td>2012-01-09</td>\n",
              "      <td>9.138000</td>\n",
              "      <td>9.218500</td>\n",
              "      <td>8.850000</td>\n",
              "      <td>8.928000</td>\n",
              "      <td>8.928000</td>\n",
              "      <td>101138000</td>\n",
              "    </tr>\n",
              "    <tr>\n",
              "      <th>...</th>\n",
              "      <td>...</td>\n",
              "      <td>...</td>\n",
              "      <td>...</td>\n",
              "      <td>...</td>\n",
              "      <td>...</td>\n",
              "      <td>...</td>\n",
              "      <td>...</td>\n",
              "    </tr>\n",
              "    <tr>\n",
              "      <th>2164</th>\n",
              "      <td>2020-08-10</td>\n",
              "      <td>158.515503</td>\n",
              "      <td>158.625504</td>\n",
              "      <td>155.076004</td>\n",
              "      <td>157.408005</td>\n",
              "      <td>157.408005</td>\n",
              "      <td>63346000</td>\n",
              "    </tr>\n",
              "    <tr>\n",
              "      <th>2165</th>\n",
              "      <td>2020-08-11</td>\n",
              "      <td>155.660004</td>\n",
              "      <td>157.960999</td>\n",
              "      <td>153.649994</td>\n",
              "      <td>154.033493</td>\n",
              "      <td>154.033493</td>\n",
              "      <td>74362000</td>\n",
              "    </tr>\n",
              "    <tr>\n",
              "      <th>2166</th>\n",
              "      <td>2020-08-12</td>\n",
              "      <td>155.399994</td>\n",
              "      <td>158.719498</td>\n",
              "      <td>155.070999</td>\n",
              "      <td>158.112000</td>\n",
              "      <td>158.112000</td>\n",
              "      <td>70442000</td>\n",
              "    </tr>\n",
              "    <tr>\n",
              "      <th>2167</th>\n",
              "      <td>2020-08-13</td>\n",
              "      <td>159.149506</td>\n",
              "      <td>160.876007</td>\n",
              "      <td>157.750000</td>\n",
              "      <td>158.050995</td>\n",
              "      <td>158.050995</td>\n",
              "      <td>62980000</td>\n",
              "    </tr>\n",
              "    <tr>\n",
              "      <th>2168</th>\n",
              "      <td>2020-08-14</td>\n",
              "      <td>158.908997</td>\n",
              "      <td>158.912003</td>\n",
              "      <td>156.000000</td>\n",
              "      <td>157.401001</td>\n",
              "      <td>157.401001</td>\n",
              "      <td>55034000</td>\n",
              "    </tr>\n",
              "  </tbody>\n",
              "</table>\n",
              "<p>2169 rows × 7 columns</p>\n",
              "</div>"
            ],
            "text/plain": [
              "            Date        Open        High         Low       Close   Adj Close  \\\n",
              "0     2012-01-03    8.794500    8.974000    8.777500    8.951500    8.951500   \n",
              "1     2012-01-04    8.960500    9.025000    8.803500    8.875500    8.875500   \n",
              "2     2012-01-05    8.797000    8.912500    8.702500    8.880500    8.880500   \n",
              "3     2012-01-06    8.903500    9.232500    8.875000    9.130500    9.130500   \n",
              "4     2012-01-09    9.138000    9.218500    8.850000    8.928000    8.928000   \n",
              "...          ...         ...         ...         ...         ...         ...   \n",
              "2164  2020-08-10  158.515503  158.625504  155.076004  157.408005  157.408005   \n",
              "2165  2020-08-11  155.660004  157.960999  153.649994  154.033493  154.033493   \n",
              "2166  2020-08-12  155.399994  158.719498  155.070999  158.112000  158.112000   \n",
              "2167  2020-08-13  159.149506  160.876007  157.750000  158.050995  158.050995   \n",
              "2168  2020-08-14  158.908997  158.912003  156.000000  157.401001  157.401001   \n",
              "\n",
              "         Volume  \n",
              "0     102216000  \n",
              "1      84104000  \n",
              "2      76182000  \n",
              "3     140168000  \n",
              "4     101138000  \n",
              "...         ...  \n",
              "2164   63346000  \n",
              "2165   74362000  \n",
              "2166   70442000  \n",
              "2167   62980000  \n",
              "2168   55034000  \n",
              "\n",
              "[2169 rows x 7 columns]"
            ]
          },
          "execution_count": 12,
          "metadata": {},
          "output_type": "execute_result"
        }
      ],
      "source": [
        "#dataset of amazon stock info\n",
        "path = \"C:\\Curso Pronóstico\\Business DS\\AMZN.csv\"\n",
        "df = pd.read_csv(path)\n",
        "df"
      ]
    },
    {
      "cell_type": "code",
      "execution_count": null,
      "id": "2ff45865",
      "metadata": {
        "id": "2ff45865",
        "outputId": "b1bbe3e7-718d-4757-e280-444c69e21fc7"
      },
      "outputs": [
        {
          "data": {
            "image/png": "[encoded data removed]",
            "text/plain": [
              "<Figure size 1152x576 with 1 Axes>"
            ]
          },
          "metadata": {
            "needs_background": "light"
          },
          "output_type": "display_data"
        }
      ],
      "source": [
        "#Visualize the closing price history of amazon\n",
        "plt.figure(figsize=(16,8))\n",
        "plt.title('Close Price History of AMAZON')\n",
        "plt.plot(df['Close'])\n",
        "plt.xlabel('Date',fontsize=18)\n",
        "plt.ylabel('close price USD ($)',fontsize=18)\n",
        "plt.show()"
      ]
    },
    {
      "cell_type": "code",
      "execution_count": null,
      "id": "7b3f1483",
      "metadata": {
        "id": "7b3f1483",
        "outputId": "7c240250-b2fe-44a2-a648-ef0f3b069e3c"
      },
      "outputs": [
        {
          "data": {
            "text/plain": [
              "1736"
            ]
          },
          "execution_count": 14,
          "metadata": {},
          "output_type": "execute_result"
        }
      ],
      "source": [
        "#Create a new data frame with only the 'Close column'\n",
        "data = df.filter(['Close'])\n",
        "\n",
        "#Convert the dataframe to numpy array\n",
        "dataset = data.values\n",
        "\n",
        "#Get the number of rows to train the model on\n",
        "training_data_len = math.ceil(len(dataset) * .8 )\n",
        "\n",
        "training_data_len"
      ]
    },
    {
      "cell_type": "code",
      "execution_count": null,
      "id": "20b1f913",
      "metadata": {
        "id": "20b1f913",
        "outputId": "8755c8df-5dd0-4fa9-8426-bb8c88d322f9"
      },
      "outputs": [
        {
          "data": {
            "text/plain": [
              "array([[1.01670345e-03],\n",
              "       [5.18190793e-04],\n",
              "       [5.50987678e-04],\n",
              "       ...,\n",
              "       [9.79416675e-01],\n",
              "       [9.79016520e-01],\n",
              "       [9.74752964e-01]])"
            ]
          },
          "execution_count": 15,
          "metadata": {},
          "output_type": "execute_result"
        }
      ],
      "source": [
        "#Scale the data before it presents to neural netrwork as it good practice by preprocessing the datae\n",
        "scaler = MinMaxScaler(feature_range=(0,1))\n",
        "scaled_data = scaler.fit_transform(dataset)\n",
        "scaled_data"
      ]
    },
    {
      "cell_type": "code",
      "execution_count": null,
      "id": "ccc09896",
      "metadata": {
        "id": "ccc09896",
        "outputId": "15deb60a-e3b8-4147-95c1-28c6930ed77f"
      },
      "outputs": [
        {
          "name": "stdout",
          "output_type": "stream",
          "text": [
            "[array([0.0010167 , 0.00051819, 0.00055099, 0.00219083, 0.00086256,\n",
            "       0.00111837, 0.00097407, 0.        , 0.00081664, 0.00187926,\n",
            "       0.00443086, 0.00607398, 0.00491953, 0.00333216, 0.00363062,\n",
            "       0.00389299, 0.00570338, 0.00637571, 0.00531965, 0.0060707 ,\n",
            "       0.00115773, 0.00189894, 0.00385363, 0.00236466, 0.00270902,\n",
            "       0.0031321 , 0.00296812, 0.00315178, 0.00513599, 0.00504088,\n",
            "       0.00280085, 0.00131188, 0.00215476, 0.00207604, 0.00152506,\n",
            "       0.00097079, 0.0010495 , 0.00085272, 0.00258111, 0.00123316,\n",
            "       0.00134795, 0.00110526, 0.00142011, 0.00169232, 0.00257128,\n",
            "       0.00384052, 0.00275166, 0.00244665, 0.00284021, 0.00207604,\n",
            "       0.00278774, 0.00299108, 0.00314522, 0.00537869, 0.00518191,\n",
            "       0.00540165, 0.00626748, 0.00883548, 0.00967836, 0.00827465,\n",
            "       0.00940615, 0.00871741, 0.00725467, 0.0077827 , 0.00592312,\n",
            "       0.00605431, 0.00522782, 0.00362406, 0.00394875, 0.00484082,\n",
            "       0.00410945, 0.00313866, 0.00408649, 0.00496545, 0.00497529,\n",
            "       0.00460796, 0.0040373 , 0.00472275, 0.00606414, 0.00657906,\n",
            "       0.01670017, 0.01835642, 0.01774639, 0.01781527, 0.01755289,\n",
            "       0.01576218, 0.01614591, 0.01573267, 0.01543093, 0.0166477 ,\n",
            "       0.01697239, 0.01541454, 0.01589337, 0.01578514, 0.01391572,\n",
            "       0.01243658, 0.01383373, 0.01292197, 0.01356151, 0.01289246,\n",
            "       0.01212173, 0.01273175, 0.01092136, 0.01212829, 0.01059011,\n",
            "       0.01267272, 0.01222668, 0.01367958, 0.01406002, 0.01395507,\n",
            "       0.0133057 , 0.01327946, 0.01272519, 0.01263336, 0.01391244,\n",
            "       0.01532598, 0.0157753 , 0.01544405, 0.01464053, 0.015162  ])]\n",
            "[0.014476545307257636]\n",
            "\n",
            "[array([0.0010167 , 0.00051819, 0.00055099, 0.00219083, 0.00086256,\n",
            "       0.00111837, 0.00097407, 0.        , 0.00081664, 0.00187926,\n",
            "       0.00443086, 0.00607398, 0.00491953, 0.00333216, 0.00363062,\n",
            "       0.00389299, 0.00570338, 0.00637571, 0.00531965, 0.0060707 ,\n",
            "       0.00115773, 0.00189894, 0.00385363, 0.00236466, 0.00270902,\n",
            "       0.0031321 , 0.00296812, 0.00315178, 0.00513599, 0.00504088,\n",
            "       0.00280085, 0.00131188, 0.00215476, 0.00207604, 0.00152506,\n",
            "       0.00097079, 0.0010495 , 0.00085272, 0.00258111, 0.00123316,\n",
            "       0.00134795, 0.00110526, 0.00142011, 0.00169232, 0.00257128,\n",
            "       0.00384052, 0.00275166, 0.00244665, 0.00284021, 0.00207604,\n",
            "       0.00278774, 0.00299108, 0.00314522, 0.00537869, 0.00518191,\n",
            "       0.00540165, 0.00626748, 0.00883548, 0.00967836, 0.00827465,\n",
            "       0.00940615, 0.00871741, 0.00725467, 0.0077827 , 0.00592312,\n",
            "       0.00605431, 0.00522782, 0.00362406, 0.00394875, 0.00484082,\n",
            "       0.00410945, 0.00313866, 0.00408649, 0.00496545, 0.00497529,\n",
            "       0.00460796, 0.0040373 , 0.00472275, 0.00606414, 0.00657906,\n",
            "       0.01670017, 0.01835642, 0.01774639, 0.01781527, 0.01755289,\n",
            "       0.01576218, 0.01614591, 0.01573267, 0.01543093, 0.0166477 ,\n",
            "       0.01697239, 0.01541454, 0.01589337, 0.01578514, 0.01391572,\n",
            "       0.01243658, 0.01383373, 0.01292197, 0.01356151, 0.01289246,\n",
            "       0.01212173, 0.01273175, 0.01092136, 0.01212829, 0.01059011,\n",
            "       0.01267272, 0.01222668, 0.01367958, 0.01406002, 0.01395507,\n",
            "       0.0133057 , 0.01327946, 0.01272519, 0.01263336, 0.01391244,\n",
            "       0.01532598, 0.0157753 , 0.01544405, 0.01464053, 0.015162  ]), array([0.00051819, 0.00055099, 0.00219083, 0.00086256, 0.00111837,\n",
            "       0.00097407, 0.        , 0.00081664, 0.00187926, 0.00443086,\n",
            "       0.00607398, 0.00491953, 0.00333216, 0.00363062, 0.00389299,\n",
            "       0.00570338, 0.00637571, 0.00531965, 0.0060707 , 0.00115773,\n",
            "       0.00189894, 0.00385363, 0.00236466, 0.00270902, 0.0031321 ,\n",
            "       0.00296812, 0.00315178, 0.00513599, 0.00504088, 0.00280085,\n",
            "       0.00131188, 0.00215476, 0.00207604, 0.00152506, 0.00097079,\n",
            "       0.0010495 , 0.00085272, 0.00258111, 0.00123316, 0.00134795,\n",
            "       0.00110526, 0.00142011, 0.00169232, 0.00257128, 0.00384052,\n",
            "       0.00275166, 0.00244665, 0.00284021, 0.00207604, 0.00278774,\n",
            "       0.00299108, 0.00314522, 0.00537869, 0.00518191, 0.00540165,\n",
            "       0.00626748, 0.00883548, 0.00967836, 0.00827465, 0.00940615,\n",
            "       0.00871741, 0.00725467, 0.0077827 , 0.00592312, 0.00605431,\n",
            "       0.00522782, 0.00362406, 0.00394875, 0.00484082, 0.00410945,\n",
            "       0.00313866, 0.00408649, 0.00496545, 0.00497529, 0.00460796,\n",
            "       0.0040373 , 0.00472275, 0.00606414, 0.00657906, 0.01670017,\n",
            "       0.01835642, 0.01774639, 0.01781527, 0.01755289, 0.01576218,\n",
            "       0.01614591, 0.01573267, 0.01543093, 0.0166477 , 0.01697239,\n",
            "       0.01541454, 0.01589337, 0.01578514, 0.01391572, 0.01243658,\n",
            "       0.01383373, 0.01292197, 0.01356151, 0.01289246, 0.01212173,\n",
            "       0.01273175, 0.01092136, 0.01212829, 0.01059011, 0.01267272,\n",
            "       0.01222668, 0.01367958, 0.01406002, 0.01395507, 0.0133057 ,\n",
            "       0.01327946, 0.01272519, 0.01263336, 0.01391244, 0.01532598,\n",
            "       0.0157753 , 0.01544405, 0.01464053, 0.015162  , 0.01447655])]\n",
            "[0.014476545307257636, 0.016293492769926567]\n",
            "\n"
          ]
        }
      ],
      "source": [
        "#Create the training data set\n",
        "#Crete the scaled training set\n",
        "train_data = scaled_data[0:training_data_len , :]\n",
        "\n",
        "#Split the data into x_train and y_train data sets\n",
        "x_train = []\n",
        "y_train = []\n",
        "\n",
        "for i in range(120, len(train_data)):\n",
        "    x_train.append(train_data[i-120:i, 0])\n",
        "    y_train.append(train_data[i,0])\n",
        "    if i<=121:\n",
        "        print(x_train)\n",
        "        print(y_train)\n",
        "        print()"
      ]
    },
    {
      "cell_type": "code",
      "execution_count": null,
      "id": "01e27b26",
      "metadata": {
        "id": "01e27b26"
      },
      "outputs": [],
      "source": [
        "#Build the LSTM model\n",
        "model = Sequential()\n",
        "model.add(LSTM(50, return_sequences=True, input_shape= (pd.DataFrame(x_train).shape[1], 1)))\n",
        "model.add(LSTM(50, return_sequences=False))\n",
        "model.add(Dense(25))\n",
        "model.add(Dense(1))"
      ]
    },
    {
      "cell_type": "code",
      "execution_count": null,
      "id": "cbf3e7b3",
      "metadata": {
        "id": "cbf3e7b3"
      },
      "outputs": [],
      "source": [
        "#compile the model\n",
        "model.compile(optimizer='adam', loss='mean_squared_error')"
      ]
    },
    {
      "cell_type": "code",
      "execution_count": null,
      "id": "19b378fc",
      "metadata": {
        "id": "19b378fc",
        "outputId": "6b951f9c-0fe3-456b-cb62-5be3c2b57968"
      },
      "outputs": [
        {
          "name": "stdout",
          "output_type": "stream",
          "text": [
            "1616/1616 [==============================] - 42s 25ms/step - loss: 5.0956e-04\n"
          ]
        },
        {
          "data": {
            "text/plain": [
              "<keras.src.callbacks.History at 0x1e545da79d0>"
            ]
          },
          "execution_count": 27,
          "metadata": {},
          "output_type": "execute_result"
        }
      ],
      "source": [
        "#Train the model\n",
        "model.fit(np.array(x_train), np.array(y_train), batch_size=1, epochs=1)"
      ]
    },
    {
      "cell_type": "code",
      "execution_count": null,
      "id": "e61fe10f",
      "metadata": {
        "id": "e61fe10f"
      },
      "outputs": [],
      "source": [
        "#Create the testing data set\n",
        "#Create a new array containing scaled values from index 1616 to 2170\n",
        "test_data = scaled_data[training_data_len - 120: , :]\n",
        "\n",
        "#Create the data sets x_test and y_test\n",
        "x_test = []\n",
        "y_test = dataset[training_data_len:, :]\n",
        "for i in range(120, len(test_data)):\n",
        "    x_test.append(test_data[i-120:i, 0])"
      ]
    },
    {
      "cell_type": "code",
      "execution_count": null,
      "id": "cd4abe9e",
      "metadata": {
        "id": "cd4abe9e",
        "outputId": "77dbf8fa-53f6-4771-d810-bef6b24c36a5"
      },
      "outputs": [
        {
          "name": "stdout",
          "output_type": "stream",
          "text": [
            "14/14 [==============================] - 1s 14ms/step\n"
          ]
        }
      ],
      "source": [
        "#Get the model predicted price values\n",
        "predictions = model.predict(np.array(x_test))\n",
        "predictions = scaler.inverse_transform(predictions)"
      ]
    },
    {
      "cell_type": "code",
      "execution_count": null,
      "id": "331e2b3e",
      "metadata": {
        "id": "331e2b3e",
        "outputId": "0b82d591-70df-49d7-8d51-de33e7e2a210"
      },
      "outputs": [
        {
          "data": {
            "text/plain": [
              "2.8210467112487367"
            ]
          },
          "execution_count": 31,
          "metadata": {},
          "output_type": "execute_result"
        }
      ],
      "source": [
        "# Get the root mean squared error (RSME)\n",
        "rsme = np.sqrt( np.mean( predictions - np.array(y_test ))**2 )\n",
        "rsme"
      ]
    },
    {
      "cell_type": "code",
      "execution_count": null,
      "id": "d6d4a967",
      "metadata": {
        "id": "d6d4a967",
        "outputId": "6e8580dd-8da0-440e-ad4f-abfd19bb26bd"
      },
      "outputs": [
        {
          "name": "stderr",
          "output_type": "stream",
          "text": [
            "<ipython-input-32-a227fc0f8268>:4: SettingWithCopyWarning: \n",
            "A value is trying to be set on a copy of a slice from a DataFrame.\n",
            "Try using .loc[row_indexer,col_indexer] = value instead\n",
            "\n",
            "See the caveats in the documentation: https://pandas.pydata.org/pandas-docs/stable/user_guide/indexing.html#returning-a-view-versus-a-copy\n",
            "  valid['Predictions'] = predictions\n"
          ]
        },
        {
          "data": {
            "image/png": "[encoded data removed]",
            "text/plain": [
              "<Figure size 1152x576 with 1 Axes>"
            ]
          },
          "metadata": {
            "needs_background": "light"
          },
          "output_type": "display_data"
        }
      ],
      "source": [
        "#plot the data\n",
        "train = data[:training_data_len]\n",
        "valid = data[training_data_len:]\n",
        "valid['Predictions'] = predictions\n",
        "\n",
        "#Visualize the data\n",
        "plt.figure(figsize=(16,8))\n",
        "plt.title('Model')\n",
        "plt.xlabel('Date', fontsize=18)\n",
        "plt.ylabel('Close price USD ($)', fontsize=18)\n",
        "plt.plot(train['Close'])\n",
        "plt.plot(valid[['Close', 'Predictions']])\n",
        "plt.legend(['Train', 'Val', 'Predictions'], loc='lower right')\n",
        "plt.show()"
      ]
    },
    {
      "cell_type": "code",
      "execution_count": null,
      "id": "cacdd565",
      "metadata": {
        "id": "cacdd565"
      },
      "outputs": [],
      "source": []
    }
  ],
  "metadata": {
    "kernelspec": {
      "display_name": "Python 3",
      "language": "python",
      "name": "python3"
    },
    "language_info": {
      "codemirror_mode": {
        "name": "ipython",
        "version": 3
      },
      "file_extension": ".py",
      "mimetype": "text/x-python",
      "name": "python",
      "nbconvert_exporter": "python",
      "pygments_lexer": "ipython3",
      "version": "3.8.8"
    },
    "colab": {
      "provenance": [],
      "include_colab_link": true
    }
  },
  "nbformat": 4,
  "nbformat_minor": 5
}