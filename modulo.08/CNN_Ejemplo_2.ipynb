{
  "cells": [
    {
      "cell_type": "markdown",
      "metadata": {
        "id": "view-in-github",
        "colab_type": "text"
      },
      "source": [
        "<a href=\"https://colab.research.google.com/github/cristiandarioortegayubro/BDS/blob/main/modulo.08/CNN_Ejemplo_2.ipynb\" target=\"_parent\"><img src=\"https://colab.research.google.com/assets/colab-badge.svg\" alt=\"Open In Colab\"/></a>"
      ]
    },
    {
      "cell_type": "markdown",
      "source": [
        "<p align=\"center\">\n",
        "<img src=\"https://github.com/cristiandarioortegayubro/BDS/blob/main/images/Logo%20BDS%20Horizontal%208.png?raw=true\">\n",
        "</p>"
      ],
      "metadata": {
        "id": "0VE0gx1OSWma"
      },
      "id": "0VE0gx1OSWma"
    },
    {
      "cell_type": "markdown",
      "id": "caa4e556",
      "metadata": {
        "id": "caa4e556"
      },
      "source": [
        "### Ejemplo extraído de https://towardsdatascience.com/covolutional-neural-network-cb0883dd6529"
      ]
    },
    {
      "cell_type": "code",
      "execution_count": null,
      "id": "f403610d",
      "metadata": {
        "id": "f403610d"
      },
      "outputs": [],
      "source": [
        "import numpy as np\n",
        "import matplotlib.pyplot as plt\n",
        "%matplotlib inline\n",
        "from __future__ import print_function\n",
        "import keras\n",
        "from keras.models import Sequential\n",
        "from keras.utils import to_categorical\n",
        "from keras.layers import Dense, Conv2D, MaxPooling2D, Dropout, Flatten"
      ]
    },
    {
      "cell_type": "code",
      "execution_count": null,
      "id": "cb46177e",
      "metadata": {
        "id": "cb46177e",
        "outputId": "4e1f53e8-6d26-4f75-af35-010c274024b6"
      },
      "outputs": [
        {
          "name": "stdout",
          "output_type": "stream",
          "text": [
            "Downloading data from https://www.cs.toronto.edu/~kriz/cifar-10-python.tar.gz\n",
            "170498071/170498071 [==============================] - 35s 0us/step\n"
          ]
        }
      ],
      "source": [
        "from keras.datasets import cifar10\n",
        "(train_images, train_labels), (test_images, test_labels) = cifar10.load_data()"
      ]
    },
    {
      "cell_type": "code",
      "execution_count": null,
      "id": "68fde7f3",
      "metadata": {
        "id": "68fde7f3",
        "outputId": "36dbbe70-0452-45e7-8259-23197cf42253"
      },
      "outputs": [
        {
          "name": "stdout",
          "output_type": "stream",
          "text": [
            "Training data shape :  (50000, 32, 32, 3) (50000, 1)\n",
            "Testing data shape :  (10000, 32, 32, 3) (10000, 1)\n",
            "Total number of outputs :  10\n",
            "Output classes :  [0 1 2 3 4 5 6 7 8 9]\n"
          ]
        },
        {
          "data": {
            "text/plain": [
              "Text(0.5, 1.0, 'Ground Truth : [3]')"
            ]
          },
          "execution_count": 3,
          "metadata": {},
          "output_type": "execute_result"
        },
        {
          "data": {
            "image/png": "[encoded data removed]",
            "text/plain": [
              "<Figure size 288x144 with 2 Axes>"
            ]
          },
          "metadata": {
            "needs_background": "light"
          },
          "output_type": "display_data"
        }
      ],
      "source": [
        "print('Training data shape : ', train_images.shape, train_labels.shape)\n",
        "\n",
        "print('Testing data shape : ', test_images.shape, test_labels.shape)\n",
        "\n",
        "# Find the unique numbers from the train labels\n",
        "classes = np.unique(train_labels)\n",
        "nClasses = len(classes)\n",
        "print('Total number of outputs : ', nClasses)\n",
        "print('Output classes : ', classes)\n",
        "\n",
        "plt.figure(figsize=[4,2])\n",
        "\n",
        "# Display the first image in training data\n",
        "plt.subplot(121)\n",
        "plt.imshow(train_images[0,:,:], cmap='gray')\n",
        "plt.title(\"Ground Truth : {}\".format(train_labels[0]))\n",
        "\n",
        "# Display the first image in testing data\n",
        "plt.subplot(122)\n",
        "plt.imshow(test_images[0,:,:], cmap='gray')\n",
        "plt.title(\"Ground Truth : {}\".format(test_labels[0]))"
      ]
    },
    {
      "cell_type": "markdown",
      "id": "51982c82",
      "metadata": {
        "id": "51982c82"
      },
      "source": [
        "Find the shape of input image then reshape it into input format for training and testing sets. After that change all datatypes into floats."
      ]
    },
    {
      "cell_type": "code",
      "execution_count": null,
      "id": "d62a7317",
      "metadata": {
        "id": "d62a7317"
      },
      "outputs": [],
      "source": [
        "nRows,nCols,nDims = train_images.shape[1:]\n",
        "train_data = train_images.reshape(train_images.shape[0], nRows, nCols, nDims)\n",
        "test_data = test_images.reshape(test_images.shape[0], nRows, nCols, nDims)\n",
        "input_shape = (nRows, nCols, nDims)\n",
        "\n",
        "train_data = train_data.astype('float32')\n",
        "test_data = test_data.astype('float32')"
      ]
    },
    {
      "cell_type": "markdown",
      "id": "a47e3f3c",
      "metadata": {
        "id": "a47e3f3c"
      },
      "source": [
        "Normalize the data between 0–1 by dividing train data and test data with 255 then convert all labels into one-hot vector with to_catagorical() function."
      ]
    },
    {
      "cell_type": "code",
      "execution_count": null,
      "id": "2abe87d9",
      "metadata": {
        "id": "2abe87d9"
      },
      "outputs": [],
      "source": [
        "train_data /= 255\n",
        "test_data /= 255\n",
        "\n",
        "train_labels_one_hot = to_categorical(train_labels)\n",
        "test_labels_one_hot = to_categorical(test_labels)"
      ]
    },
    {
      "cell_type": "code",
      "execution_count": null,
      "id": "277f832b",
      "metadata": {
        "id": "277f832b",
        "outputId": "1a9cb13f-a7f3-48eb-bf72-399d124ea598"
      },
      "outputs": [
        {
          "data": {
            "text/plain": [
              "array([0., 0., 0., 0., 0., 0., 1., 0., 0., 0.], dtype=float32)"
            ]
          },
          "execution_count": 7,
          "metadata": {},
          "output_type": "execute_result"
        }
      ],
      "source": [
        "train_labels_one_hot[0]"
      ]
    },
    {
      "cell_type": "markdown",
      "id": "0158f4a5",
      "metadata": {
        "id": "0158f4a5"
      },
      "source": [
        "Display the change for category label using one-hot encoding."
      ]
    },
    {
      "cell_type": "code",
      "execution_count": null,
      "id": "b7cc94c0",
      "metadata": {
        "id": "b7cc94c0",
        "outputId": "bd0d49b0-2c8c-4e3f-ad6b-39bc8b80ecd3"
      },
      "outputs": [
        {
          "name": "stdout",
          "output_type": "stream",
          "text": [
            "Original label 0 :  [6]\n",
            "After conversion to categorical ( one-hot ) :  [0. 0. 0. 0. 0. 0. 1. 0. 0. 0.]\n"
          ]
        }
      ],
      "source": [
        "print('Original label 0 : ', train_labels[0])\n",
        "print('After conversion to categorical ( one-hot ) : ', train_labels_one_hot[0])"
      ]
    },
    {
      "cell_type": "code",
      "execution_count": null,
      "id": "ff552cd3",
      "metadata": {
        "id": "ff552cd3"
      },
      "outputs": [],
      "source": [
        "def createModel():\n",
        "    model = Sequential()\n",
        "    # The first two layers with 32 filters of window size 3x3\n",
        "    model.add(Conv2D(32, (3, 3), padding='same', activation='relu', input_shape=input_shape))\n",
        "    model.add(Conv2D(32, (3, 3), activation='relu'))\n",
        "    model.add(MaxPooling2D(pool_size=(2, 2)))\n",
        "    model.add(Dropout(0.25))\n",
        "\n",
        "    model.add(Conv2D(64, (3, 3), padding='same', activation='relu'))\n",
        "    model.add(Conv2D(64, (3, 3), activation='relu'))\n",
        "    model.add(MaxPooling2D(pool_size=(2, 2)))\n",
        "    model.add(Dropout(0.25))\n",
        "\n",
        "    model.add(Conv2D(64, (3, 3), padding='same', activation='relu'))\n",
        "    model.add(Conv2D(64, (3, 3), activation='relu'))\n",
        "    model.add(MaxPooling2D(pool_size=(2, 2)))\n",
        "    model.add(Dropout(0.25))\n",
        "\n",
        "    model.add(Flatten())\n",
        "    model.add(Dense(512, activation='relu'))\n",
        "    model.add(Dropout(0.5))\n",
        "    model.add(Dense(nClasses, activation='softmax'))\n",
        "\n",
        "    return model"
      ]
    },
    {
      "cell_type": "markdown",
      "id": "14aaf75d",
      "metadata": {
        "id": "14aaf75d"
      },
      "source": [
        "Now create our model. We will add up Convo layers followed by pooling layers. Then we will connect Dense(FC) layer to predict the classes. Input data fed to first Convo layer, output of that Convo layer acts as input for next Convo layer and so on. Finally data is fed to FC layer which try to predict the correct labels."
      ]
    },
    {
      "cell_type": "code",
      "execution_count": null,
      "id": "ced75c8c",
      "metadata": {
        "id": "ced75c8c"
      },
      "outputs": [],
      "source": [
        "model1 = createModel()\n",
        "batch_size = 256\n",
        "epochs = 20\n",
        "model1.compile(optimizer='rmsprop', loss='categorical_crossentropy', metrics=['accuracy'])"
      ]
    },
    {
      "cell_type": "code",
      "execution_count": null,
      "id": "f626e45d",
      "metadata": {
        "id": "f626e45d",
        "outputId": "c7d70b33-59a5-4dcc-d205-83eb80ed1c34"
      },
      "outputs": [
        {
          "name": "stdout",
          "output_type": "stream",
          "text": [
            "Model: \"sequential_1\"\n",
            "_________________________________________________________________\n",
            " Layer (type)                Output Shape              Param #   \n",
            "=================================================================\n",
            " conv2d_6 (Conv2D)           (None, 32, 32, 32)        896       \n",
            "                                                                 \n",
            " conv2d_7 (Conv2D)           (None, 30, 30, 32)        9248      \n",
            "                                                                 \n",
            " max_pooling2d_3 (MaxPoolin  (None, 15, 15, 32)        0         \n",
            " g2D)                                                            \n",
            "                                                                 \n",
            " dropout_4 (Dropout)         (None, 15, 15, 32)        0         \n",
            "                                                                 \n",
            " conv2d_8 (Conv2D)           (None, 15, 15, 64)        18496     \n",
            "                                                                 \n",
            " conv2d_9 (Conv2D)           (None, 13, 13, 64)        36928     \n",
            "                                                                 \n",
            " max_pooling2d_4 (MaxPoolin  (None, 6, 6, 64)          0         \n",
            " g2D)                                                            \n",
            "                                                                 \n",
            " dropout_5 (Dropout)         (None, 6, 6, 64)          0         \n",
            "                                                                 \n",
            " conv2d_10 (Conv2D)          (None, 6, 6, 64)          36928     \n",
            "                                                                 \n",
            " conv2d_11 (Conv2D)          (None, 4, 4, 64)          36928     \n",
            "                                                                 \n",
            " max_pooling2d_5 (MaxPoolin  (None, 2, 2, 64)          0         \n",
            " g2D)                                                            \n",
            "                                                                 \n",
            " dropout_6 (Dropout)         (None, 2, 2, 64)          0         \n",
            "                                                                 \n",
            " flatten_1 (Flatten)         (None, 256)               0         \n",
            "                                                                 \n",
            " dense_2 (Dense)             (None, 512)               131584    \n",
            "                                                                 \n",
            " dropout_7 (Dropout)         (None, 512)               0         \n",
            "                                                                 \n",
            " dense_3 (Dense)             (None, 10)                5130      \n",
            "                                                                 \n",
            "=================================================================\n",
            "Total params: 276138 (1.05 MB)\n",
            "Trainable params: 276138 (1.05 MB)\n",
            "Non-trainable params: 0 (0.00 Byte)\n",
            "_________________________________________________________________\n"
          ]
        }
      ],
      "source": [
        "\n",
        "model1.summary()"
      ]
    },
    {
      "cell_type": "code",
      "execution_count": null,
      "id": "d7d11dee",
      "metadata": {
        "id": "d7d11dee",
        "outputId": "aceb90e9-7dde-45fe-c623-11dc59f7412b"
      },
      "outputs": [
        {
          "name": "stdout",
          "output_type": "stream",
          "text": [
            "Epoch 1/20\n",
            "196/196 [==============================] - 90s 444ms/step - loss: 2.1029 - accuracy: 0.2223 - val_loss: 1.7864 - val_accuracy: 0.3438\n",
            "Epoch 2/20\n",
            "196/196 [==============================] - 88s 450ms/step - loss: 1.7774 - accuracy: 0.3572 - val_loss: 1.8326 - val_accuracy: 0.3495\n",
            "Epoch 3/20\n",
            "196/196 [==============================] - 85s 434ms/step - loss: 1.5792 - accuracy: 0.4264 - val_loss: 1.4713 - val_accuracy: 0.4620\n",
            "Epoch 4/20\n",
            "196/196 [==============================] - 86s 441ms/step - loss: 1.4419 - accuracy: 0.4822 - val_loss: 1.4449 - val_accuracy: 0.4818\n",
            "Epoch 5/20\n",
            "196/196 [==============================] - 86s 441ms/step - loss: 1.3210 - accuracy: 0.5262 - val_loss: 1.2035 - val_accuracy: 0.5704\n",
            "Epoch 6/20\n",
            "196/196 [==============================] - 89s 453ms/step - loss: 1.2283 - accuracy: 0.5624 - val_loss: 1.2137 - val_accuracy: 0.5752\n",
            "Epoch 7/20\n",
            "196/196 [==============================] - 88s 450ms/step - loss: 1.1601 - accuracy: 0.5885 - val_loss: 1.1109 - val_accuracy: 0.6061\n",
            "Epoch 8/20\n",
            "196/196 [==============================] - 62s 318ms/step - loss: 1.0961 - accuracy: 0.6133 - val_loss: 0.9767 - val_accuracy: 0.6531\n",
            "Epoch 9/20\n",
            "196/196 [==============================] - 53s 271ms/step - loss: 1.0427 - accuracy: 0.6326 - val_loss: 0.9608 - val_accuracy: 0.6596\n",
            "Epoch 10/20\n",
            " 29/196 [===>..........................] - ETA: 42s - loss: 0.9654 - accuracy: 0.6633"
          ]
        }
      ],
      "source": [
        "# We now train and evaluate the model on test_data\n",
        "\n",
        "history = model1.fit(train_data, train_labels_one_hot, batch_size=batch_size, epochs=epochs, verbose=1,\n",
        "                   validation_data=(test_data, test_labels_one_hot))\n",
        "model1.evaluate(test_data, test_labels_one_hot)"
      ]
    },
    {
      "cell_type": "markdown",
      "source": [
        "<br>\n",
        "<br>\n",
        "<p align=\"center\"><b>\n",
        "💗\n",
        "<font color=\"DeepPink\">\n",
        "Hemos llegado al final de nuestro colab...\n",
        "</font>\n",
        "</p>\n",
        "<br>\n",
        "<p align=\"center\">\n",
        "<img src=\"https://github.com/cristiandarioortegayubro/BDS/blob/main/images/Logo%20BDS%20Horizontal%208.png?raw=true\">\n",
        "</p>\n",
        "\n",
        "---"
      ],
      "metadata": {
        "id": "pat5cxLHTxXP"
      },
      "id": "pat5cxLHTxXP"
    }
  ],
  "metadata": {
    "kernelspec": {
      "display_name": "Python 3",
      "language": "python",
      "name": "python3"
    },
    "language_info": {
      "codemirror_mode": {
        "name": "ipython",
        "version": 3
      },
      "file_extension": ".py",
      "mimetype": "text/x-python",
      "name": "python",
      "nbconvert_exporter": "python",
      "pygments_lexer": "ipython3",
      "version": "3.8.8"
    },
    "colab": {
      "provenance": [],
      "include_colab_link": true
    }
  },
  "nbformat": 4,
  "nbformat_minor": 5
}