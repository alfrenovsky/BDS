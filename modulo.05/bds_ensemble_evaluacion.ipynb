{
  "nbformat": 4,
  "nbformat_minor": 0,
  "metadata": {
    "colab": {
      "provenance": [],
      "include_colab_link": true
    },
    "kernelspec": {
      "name": "python3",
      "display_name": "Python 3"
    },
    "language_info": {
      "name": "python"
    }
  },
  "cells": [
    {
      "cell_type": "markdown",
      "metadata": {
        "id": "view-in-github",
        "colab_type": "text"
      },
      "source": [
        "<a href=\"https://colab.research.google.com/github/cristiandarioortegayubro/BDS/blob/main/modulo.05/bds_ensemble_evaluacion.ipynb\" target=\"_parent\"><img src=\"https://colab.research.google.com/assets/colab-badge.svg\" alt=\"Open In Colab\"/></a>"
      ]
    },
    {
      "cell_type": "markdown",
      "source": [
        "<p align=\"center\">\n",
        "<img src=\"https://github.com/cristiandarioortegayubro/BDS/blob/main/images/Logo%20BDS%20Horizontal%208.png?raw=true\">\n",
        "</p>\n"
      ],
      "metadata": {
        "id": "iheuwam9e4CH"
      }
    },
    {
      "cell_type": "markdown",
      "source": [
        "<p align=\"center\">\n",
        "<img src=\"https://github.com/cristiandarioortegayubro/BDS/blob/main/images/Logo%20Scikit-learn.png?raw=true\">\n",
        "</p>\n"
      ],
      "metadata": {
        "id": "XM-hn7ZLmgQc"
      }
    },
    {
      "cell_type": "markdown",
      "source": [
        " # **<font color=\"DeepPink\">Ensambles y evaluación del desempeño</font>**"
      ],
      "metadata": {
        "id": "_o8tuKydjnRZ"
      }
    },
    {
      "cell_type": "markdown",
      "source": [
        "Apellido y Nombre"
      ],
      "metadata": {
        "id": "6jJ2oUw8xyYY"
      }
    },
    {
      "cell_type": "code",
      "source": [
        "# (puede usar otro conjunto de datos)\n",
        "url=\"https://raw.githubusercontent.com/cristiandarioortegayubro/BDS/main/datasets/house_prices.csv\""
      ],
      "metadata": {
        "id": "KEGoCiUEkNaA"
      },
      "execution_count": null,
      "outputs": []
    },
    {
      "cell_type": "markdown",
      "source": [
        " ## **<font color=\"DeepPink\">Generar el DataFrame</font>**"
      ],
      "metadata": {
        "id": "eTyZwY2TPZnv"
      }
    },
    {
      "cell_type": "code",
      "source": [
        "# mi código aquí"
      ],
      "metadata": {
        "id": "CWj7_IZyPhMc"
      },
      "execution_count": null,
      "outputs": []
    },
    {
      "cell_type": "markdown",
      "source": [
        " ## **<font color=\"DeepPink\">Dividir la variable objetivo del conjunto de datos</font>**"
      ],
      "metadata": {
        "id": "S3GqS1p0Pls_"
      }
    },
    {
      "cell_type": "code",
      "source": [
        "# mi codigo aquí"
      ],
      "metadata": {
        "id": "1oXwjkwchvqq"
      },
      "execution_count": null,
      "outputs": []
    },
    {
      "cell_type": "markdown",
      "source": [
        " ## **<font color=\"DeepPink\">Preprocesar los datos con `sklearn`</font>**"
      ],
      "metadata": {
        "id": "jSSZpa4ji-Fk"
      }
    },
    {
      "cell_type": "code",
      "source": [
        "# mi codigo aquí"
      ],
      "metadata": {
        "id": "YgIP5JYaYFGE"
      },
      "execution_count": null,
      "outputs": []
    },
    {
      "cell_type": "markdown",
      "source": [
        " ## **<font color=\"DeepPink\">Dividir el conjunto de entrenamiento y prueba</font>**"
      ],
      "metadata": {
        "id": "MZugtXWYzKJy"
      }
    },
    {
      "cell_type": "code",
      "source": [
        "# mi codigo aquí"
      ],
      "metadata": {
        "id": "srUfsE6uzQVa"
      },
      "execution_count": null,
      "outputs": []
    },
    {
      "cell_type": "markdown",
      "source": [
        " ## **<font color=\"DeepPink\">Definir el modelo de ensamble y construir el pipeline</font>**"
      ],
      "metadata": {
        "id": "Y-0vC182kalQ"
      }
    },
    {
      "cell_type": "code",
      "source": [
        "# mi codigo aquí"
      ],
      "metadata": {
        "id": "uJOUc6k8kecS"
      },
      "execution_count": null,
      "outputs": []
    },
    {
      "cell_type": "markdown",
      "source": [
        " ## **<font color=\"DeepPink\">Predecir en base al modelo entrenado</font>**"
      ],
      "metadata": {
        "id": "bexR1PWkMCY_"
      }
    },
    {
      "cell_type": "code",
      "source": [
        "# mi codigo aqui"
      ],
      "metadata": {
        "id": "grUmlPxwMa4t"
      },
      "execution_count": null,
      "outputs": []
    },
    {
      "cell_type": "markdown",
      "source": [
        " ## **<font color=\"DeepPink\">Determinar la importancia de las variables predictoras</font>**"
      ],
      "metadata": {
        "id": "L9kkgQxaz9L_"
      }
    },
    {
      "cell_type": "code",
      "source": [
        "# mi codigo aqui"
      ],
      "metadata": {
        "id": "FR6XHtgfz9L_"
      },
      "execution_count": null,
      "outputs": []
    },
    {
      "cell_type": "markdown",
      "source": [
        " ## **<font color=\"DeepPink\">Evaluar el desempeño del modelo final mediante al menos 3 métricas</font>**"
      ],
      "metadata": {
        "id": "E6JfvaiURgfR"
      }
    },
    {
      "cell_type": "code",
      "source": [
        "# mi codigo aqui"
      ],
      "metadata": {
        "id": "neX7ANEMMiX9"
      },
      "execution_count": null,
      "outputs": []
    },
    {
      "cell_type": "markdown",
      "source": [
        " ## **<font color=\"DeepPink\">Conclusiones</font>**"
      ],
      "metadata": {
        "id": "DtczA8j82AqZ"
      }
    },
    {
      "cell_type": "markdown",
      "source": [
        " mis conclusiones aqui"
      ],
      "metadata": {
        "id": "8O6Yd_uQ2EY4"
      }
    },
    {
      "cell_type": "markdown",
      "source": [
        "<br>\n",
        "<br>\n",
        "<p align=\"center\"><b>\n",
        "💗\n",
        "<font color=\"DeepPink\">\n",
        "Has llegado al final de la evaluación, felicitaciones por el esfuerzo...\n",
        "</font>\n",
        "</p>\n",
        "<br>\n",
        "<p align=\"center\">\n",
        "<img src=\"https://github.com/cristiandarioortegayubro/BDS/blob/main/images/Logo%20BDS%20Horizontal%208.png?raw=true\">\n",
        "</p>\n",
        "\n",
        "---\n"
      ],
      "metadata": {
        "id": "wtgChAZSaUMQ"
      }
    }
  ]
}