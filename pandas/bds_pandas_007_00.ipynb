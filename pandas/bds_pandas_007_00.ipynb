{
  "cells": [
    {
      "cell_type": "markdown",
      "metadata": {
        "id": "view-in-github",
        "colab_type": "text"
      },
      "source": [
        "<a href=\"https://colab.research.google.com/github/cristiandarioortegayubro/BDS/blob/main/pandas/bds_pandas_007_00.ipynb\" target=\"_parent\"><img src=\"https://colab.research.google.com/assets/colab-badge.svg\" alt=\"Open In Colab\"/></a>"
      ]
    },
    {
      "cell_type": "markdown",
      "source": [
        "<p align=\"center\">\n",
        "<img src=\"https://github.com/cristiandarioortegayubro/BDS/blob/main/images/Logo%20Pandas.png?raw=true\">\n",
        "</p>\n"
      ],
      "metadata": {
        "id": "lrt79ZQvi6c1"
      }
    },
    {
      "cell_type": "markdown",
      "metadata": {
        "id": "_o8tuKydjnRZ"
      },
      "source": [
        " # **<font color=\"DeepPink\">Data Ingestion --> Ingestión de datos 🐼 </font>**"
      ]
    },
    {
      "cell_type": "markdown",
      "metadata": {
        "id": "nW9lN0L_nFT7"
      },
      "source": [
        "<p align=\"justify\">\n",
        "👀 En este colab, estaremos trabajando con los principales métodos para la ingestión de datos, siendo un paso fundamental en cualquier proyecto de ciencia de datos; en cualquier caso, no podremos analizar datos en los que tenemos dificultad para acceder. Además, utilizaremos diversas fuentes de datos, como así también varias técnicas que hemos visto para limpiar datos. En este caso, utilizaremos pandas como principal biblioteca para analizar y acceder a estas fuentes.\n",
        "<br>\n",
        "En este Colab, nuestro objetivo es:</p>\n",
        "\n",
        "- Identificar posibles fuentes de datos y en qué situaciones podrían presentarse.\n",
        "- Acceder a las fuentes de datos y realizar una ingestión en un dataframe.\n",
        "- Hacer uso de <code>pandas</code> para poder limpiar y analizar los datos.\n",
        "<br>\n",
        "<p align=\"justify\">"
      ]
    },
    {
      "cell_type": "markdown",
      "metadata": {
        "id": "rLHNek7pS7ue"
      },
      "source": [
        "## **<font color=\"DeepPink\">1. Flat files - Archivos planos</font>**\n",
        "\n",
        "Los archivos planos son simples, lo que los hace populares para almacenar y compartir datos. Se pueden exportar desde sistemas de administración de bases de datos y aplicaciones de hojas de cálculo, y muchos portales de datos en línea ofrecen descargas de archivos planos. En un archivo plano, los datos se almacenan como texto sin formato. Cada línea del archivo representa una fila, con valores de columna separados por un carácter elegido denominado delimitador. Por lo general, el delimitador es una coma y estos archivos se denominan CSV o valores separados por comas, pero se pueden usar otros caracteres. Una sola función de pandas carga todos los archivos planos, sin importar el delimitador: `read_csv()`.\n",
        "\n",
        "En resumen:\n",
        "- Archivos simples\n",
        "- No poseen formato, ya que son texto plano\n",
        "- Cada linea representa a una fila\n",
        "- Valores separados por un delimitador (el más común es el conocido comma-separated values \",\")\n",
        "- Pandas facilita su carga a través de `read_csv()`\n",
        "<br>\n",
        "<p align=\"justify\">"
      ]
    },
    {
      "cell_type": "markdown",
      "metadata": {
        "id": "XzeAyXBAS7uf"
      },
      "source": [
        "---\n",
        "\n",
        "Importamos las bibliotecas a utilizar: `numpy`, `pandas` y `plotly express`.\n",
        "\n",
        "---"
      ]
    },
    {
      "cell_type": "code",
      "execution_count": null,
      "metadata": {
        "id": "dQtWrchXqRb3"
      },
      "outputs": [],
      "source": [
        "import numpy as np\n",
        "import pandas as pd\n",
        "import plotly.express as px"
      ]
    },
    {
      "cell_type": "markdown",
      "metadata": {
        "id": "bj7CiYZeS7uk"
      },
      "source": [
        "---\n",
        "\n",
        "Vamos a leer nuestro CSV a través de la funcion `read_csv` de pandas.\n",
        "\n",
        "***Pero... hay muchos parámetros para pasar... cuál deberíamos utilizar?***\n",
        "\n",
        "Click [aquí](https://pandas.pydata.org/docs/reference/api/pandas.read_csv.html) para ir a la documentación oficial de pandas respecto al método.\n",
        "\n",
        "---\n",
        "1. Para qué nos sirve el parámetro `index_col`?\n",
        "\n",
        "Columna(s) para usar como etiquetas de fila del DataFrame, ya sea como nombre de cadena o índice de columna.\n",
        "\n",
        "En nuestro caso, lo podríamos utilizar para evitar el index que trae el propio csv.\n",
        "\n",
        "---\n",
        "\n",
        "2. Para qué nos sirve `sep` o `delimiter`?\n",
        "\n",
        "Delimiter es un alias para sep. Lo cual indica que hacen exactamente lo mismo.\n",
        "\n",
        "Como su nombre lo indica, nos sirve para delimitar y separar los valores de nuestro documento.\n",
        "\n",
        "---\n",
        "\n",
        "3. Para qué nos sirve `nrows`?\n",
        "\n",
        "Nos sirve para delimitar el número de filas del archivo a leer. Útil para leer sólo una parte de aquellos archivos muy grandes.\n",
        "\n",
        "---\n",
        "\n",
        "4. Para qué nos sirve `skiprows`?\n",
        "\n",
        "Nos sirve para delimitar el número de líneas para omitir al comienzo del archivo.\n",
        "\n",
        "---\n",
        "\n",
        "5. Para qué nos sirve `header`?\n",
        "\n",
        "Nos sirve para delimitar el número de filas para usar como nombres de columna y el inicio de los datos.\n",
        "\n",
        "---\n",
        "\n",
        "6. Para qué nos sirve `names`?\n",
        "\n",
        "Nos sirve para delimitar los nombres de columna a usar."
      ]
    },
    {
      "cell_type": "code",
      "execution_count": null,
      "metadata": {
        "id": "CrAA-UTEQRCa"
      },
      "outputs": [],
      "source": [
        "filepath_world_pop_csv = \"https://raw.githubusercontent.com/cristiandarioortegayubro/BDS/main/datasets/world_pop.csv\"\n",
        "\n",
        "world_pop_csv = pd.read_csv(filepath_world_pop_csv, index_col=0)"
      ]
    },
    {
      "cell_type": "code",
      "execution_count": null,
      "metadata": {
        "colab": {
          "base_uri": "https://localhost:8080/",
          "height": 381
        },
        "id": "qPAX9PkOQWIs",
        "outputId": "8824b591-859d-4fa4-c05d-2d94be8fbc50"
      },
      "outputs": [
        {
          "data": {
            "text/html": [
              "<div>\n",
              "<style scoped>\n",
              "    .dataframe tbody tr th:only-of-type {\n",
              "        vertical-align: middle;\n",
              "    }\n",
              "\n",
              "    .dataframe tbody tr th {\n",
              "        vertical-align: top;\n",
              "    }\n",
              "\n",
              "    .dataframe thead th {\n",
              "        text-align: right;\n",
              "    }\n",
              "</style>\n",
              "<table border=\"1\" class=\"dataframe\">\n",
              "  <thead>\n",
              "    <tr style=\"text-align: right;\">\n",
              "      <th></th>\n",
              "      <th>country</th>\n",
              "      <th>year_1960</th>\n",
              "      <th>year_1961</th>\n",
              "      <th>year_1962</th>\n",
              "      <th>year_1963</th>\n",
              "      <th>year_1964</th>\n",
              "      <th>year_1965</th>\n",
              "      <th>year_1966</th>\n",
              "      <th>year_1967</th>\n",
              "      <th>year_1968</th>\n",
              "      <th>...</th>\n",
              "      <th>year_2011</th>\n",
              "      <th>year_2012</th>\n",
              "      <th>year_2013</th>\n",
              "      <th>year_2014</th>\n",
              "      <th>year_2015</th>\n",
              "      <th>year_2016</th>\n",
              "      <th>year_2017</th>\n",
              "      <th>year_2018</th>\n",
              "      <th>year_2019</th>\n",
              "      <th>year_2020</th>\n",
              "    </tr>\n",
              "  </thead>\n",
              "  <tbody>\n",
              "    <tr>\n",
              "      <th>1</th>\n",
              "      <td>Afghanistan</td>\n",
              "      <td>8996967.0</td>\n",
              "      <td>9169406.0</td>\n",
              "      <td>9351442.0</td>\n",
              "      <td>9543200.0</td>\n",
              "      <td>9744772.0</td>\n",
              "      <td>9956318.0</td>\n",
              "      <td>10174840.0</td>\n",
              "      <td>10399936.0</td>\n",
              "      <td>10637064.0</td>\n",
              "      <td>...</td>\n",
              "      <td>30117411</td>\n",
              "      <td>31161378.0</td>\n",
              "      <td>32269592.0</td>\n",
              "      <td>33370804.0</td>\n",
              "      <td>34413603.0</td>\n",
              "      <td>35383028.0</td>\n",
              "      <td>36296111.0</td>\n",
              "      <td>37171922.0</td>\n",
              "      <td>38041757.0</td>\n",
              "      <td>38928341.0</td>\n",
              "    </tr>\n",
              "    <tr>\n",
              "      <th>2</th>\n",
              "      <td>Albania</td>\n",
              "      <td>1608800.0</td>\n",
              "      <td>1659800.0</td>\n",
              "      <td>1711319.0</td>\n",
              "      <td>1762621.0</td>\n",
              "      <td>1814135.0</td>\n",
              "      <td>1864791.0</td>\n",
              "      <td>1914573.0</td>\n",
              "      <td>1965598.0</td>\n",
              "      <td>2022272.0</td>\n",
              "      <td>...</td>\n",
              "      <td>2905195</td>\n",
              "      <td>2900401.0</td>\n",
              "      <td>2895092.0</td>\n",
              "      <td>2889104.0</td>\n",
              "      <td>2880703.0</td>\n",
              "      <td>2876101.0</td>\n",
              "      <td>2873457.0</td>\n",
              "      <td>2866376.0</td>\n",
              "      <td>2854191.0</td>\n",
              "      <td>2837743.0</td>\n",
              "    </tr>\n",
              "    <tr>\n",
              "      <th>3</th>\n",
              "      <td>Algeria</td>\n",
              "      <td>11057864.0</td>\n",
              "      <td>11336336.0</td>\n",
              "      <td>11619828.0</td>\n",
              "      <td>11912800.0</td>\n",
              "      <td>12221675.0</td>\n",
              "      <td>12550880.0</td>\n",
              "      <td>12902626.0</td>\n",
              "      <td>13275020.0</td>\n",
              "      <td>13663581.0</td>\n",
              "      <td>...</td>\n",
              "      <td>36661438</td>\n",
              "      <td>37383899.0</td>\n",
              "      <td>38140135.0</td>\n",
              "      <td>38923688.0</td>\n",
              "      <td>39728020.0</td>\n",
              "      <td>40551398.0</td>\n",
              "      <td>41389174.0</td>\n",
              "      <td>42228415.0</td>\n",
              "      <td>43053054.0</td>\n",
              "      <td>43851043.0</td>\n",
              "    </tr>\n",
              "    <tr>\n",
              "      <th>4</th>\n",
              "      <td>American Samoa</td>\n",
              "      <td>20127.0</td>\n",
              "      <td>20605.0</td>\n",
              "      <td>21246.0</td>\n",
              "      <td>22029.0</td>\n",
              "      <td>22850.0</td>\n",
              "      <td>23675.0</td>\n",
              "      <td>24473.0</td>\n",
              "      <td>25235.0</td>\n",
              "      <td>25980.0</td>\n",
              "      <td>...</td>\n",
              "      <td>55755</td>\n",
              "      <td>55669.0</td>\n",
              "      <td>55717.0</td>\n",
              "      <td>55791.0</td>\n",
              "      <td>55806.0</td>\n",
              "      <td>55739.0</td>\n",
              "      <td>55617.0</td>\n",
              "      <td>55461.0</td>\n",
              "      <td>55312.0</td>\n",
              "      <td>55197.0</td>\n",
              "    </tr>\n",
              "    <tr>\n",
              "      <th>5</th>\n",
              "      <td>Andorra</td>\n",
              "      <td>13410.0</td>\n",
              "      <td>14378.0</td>\n",
              "      <td>15379.0</td>\n",
              "      <td>16407.0</td>\n",
              "      <td>17466.0</td>\n",
              "      <td>18542.0</td>\n",
              "      <td>19646.0</td>\n",
              "      <td>20760.0</td>\n",
              "      <td>21886.0</td>\n",
              "      <td>...</td>\n",
              "      <td>83748</td>\n",
              "      <td>82427.0</td>\n",
              "      <td>80770.0</td>\n",
              "      <td>79213.0</td>\n",
              "      <td>77993.0</td>\n",
              "      <td>77295.0</td>\n",
              "      <td>76997.0</td>\n",
              "      <td>77008.0</td>\n",
              "      <td>77146.0</td>\n",
              "      <td>77265.0</td>\n",
              "    </tr>\n",
              "  </tbody>\n",
              "</table>\n",
              "<p>5 rows × 62 columns</p>\n",
              "</div>"
            ],
            "text/plain": [
              "          country   year_1960   year_1961   year_1962   year_1963   year_1964  \\\n",
              "1     Afghanistan   8996967.0   9169406.0   9351442.0   9543200.0   9744772.0   \n",
              "2         Albania   1608800.0   1659800.0   1711319.0   1762621.0   1814135.0   \n",
              "3         Algeria  11057864.0  11336336.0  11619828.0  11912800.0  12221675.0   \n",
              "4  American Samoa     20127.0     20605.0     21246.0     22029.0     22850.0   \n",
              "5         Andorra     13410.0     14378.0     15379.0     16407.0     17466.0   \n",
              "\n",
              "    year_1965   year_1966   year_1967   year_1968  ...  year_2011   year_2012  \\\n",
              "1   9956318.0  10174840.0  10399936.0  10637064.0  ...   30117411  31161378.0   \n",
              "2   1864791.0   1914573.0   1965598.0   2022272.0  ...    2905195   2900401.0   \n",
              "3  12550880.0  12902626.0  13275020.0  13663581.0  ...   36661438  37383899.0   \n",
              "4     23675.0     24473.0     25235.0     25980.0  ...      55755     55669.0   \n",
              "5     18542.0     19646.0     20760.0     21886.0  ...      83748     82427.0   \n",
              "\n",
              "    year_2013   year_2014   year_2015   year_2016   year_2017   year_2018  \\\n",
              "1  32269592.0  33370804.0  34413603.0  35383028.0  36296111.0  37171922.0   \n",
              "2   2895092.0   2889104.0   2880703.0   2876101.0   2873457.0   2866376.0   \n",
              "3  38140135.0  38923688.0  39728020.0  40551398.0  41389174.0  42228415.0   \n",
              "4     55717.0     55791.0     55806.0     55739.0     55617.0     55461.0   \n",
              "5     80770.0     79213.0     77993.0     77295.0     76997.0     77008.0   \n",
              "\n",
              "    year_2019   year_2020  \n",
              "1  38041757.0  38928341.0  \n",
              "2   2854191.0   2837743.0  \n",
              "3  43053054.0  43851043.0  \n",
              "4     55312.0     55197.0  \n",
              "5     77146.0     77265.0  \n",
              "\n",
              "[5 rows x 62 columns]"
            ]
          },
          "execution_count": 22,
          "metadata": {},
          "output_type": "execute_result"
        }
      ],
      "source": [
        "world_pop_csv.head()"
      ]
    },
    {
      "cell_type": "markdown",
      "metadata": {
        "id": "p-tiUPzsS7uo"
      },
      "source": [
        "---\n",
        "\n",
        "Qué fácil!\n",
        "\n",
        "Si bien este es uno de los archivos más utilizamos, no siempre tendremos tan fácil nuestro camino.\n",
        "\n",
        "Vamos a ver otro tipo de archivos planos pero con diferente delimitadores...\n",
        "\n",
        "---"
      ]
    },
    {
      "cell_type": "code",
      "execution_count": null,
      "metadata": {
        "id": "2U7vocfmS7up"
      },
      "outputs": [],
      "source": [
        "filepath_world_pop_tab = \"https://raw.githubusercontent.com/cristiandarioortegayubro/BDS/main/datasets/world_pop_tab.csv\"\n",
        "\n",
        "world_pop_tab = pd.read_csv(filepath_world_pop_tab, sep=\"\\t\", index_col=0)"
      ]
    },
    {
      "cell_type": "code",
      "execution_count": null,
      "metadata": {
        "id": "mwXtAp9WS7uq",
        "outputId": "0b3081d3-ee61-4e69-9540-df3b2f3b8e00"
      },
      "outputs": [
        {
          "data": {
            "text/html": [
              "<div>\n",
              "<style scoped>\n",
              "    .dataframe tbody tr th:only-of-type {\n",
              "        vertical-align: middle;\n",
              "    }\n",
              "\n",
              "    .dataframe tbody tr th {\n",
              "        vertical-align: top;\n",
              "    }\n",
              "\n",
              "    .dataframe thead th {\n",
              "        text-align: right;\n",
              "    }\n",
              "</style>\n",
              "<table border=\"1\" class=\"dataframe\">\n",
              "  <thead>\n",
              "    <tr style=\"text-align: right;\">\n",
              "      <th></th>\n",
              "      <th>country</th>\n",
              "      <th>year_1960</th>\n",
              "      <th>year_1961</th>\n",
              "      <th>year_1962</th>\n",
              "      <th>year_1963</th>\n",
              "      <th>year_1964</th>\n",
              "      <th>year_1965</th>\n",
              "      <th>year_1966</th>\n",
              "      <th>year_1967</th>\n",
              "      <th>year_1968</th>\n",
              "      <th>...</th>\n",
              "      <th>year_2011</th>\n",
              "      <th>year_2012</th>\n",
              "      <th>year_2013</th>\n",
              "      <th>year_2014</th>\n",
              "      <th>year_2015</th>\n",
              "      <th>year_2016</th>\n",
              "      <th>year_2017</th>\n",
              "      <th>year_2018</th>\n",
              "      <th>year_2019</th>\n",
              "      <th>year_2020</th>\n",
              "    </tr>\n",
              "  </thead>\n",
              "  <tbody>\n",
              "    <tr>\n",
              "      <th>1</th>\n",
              "      <td>Afghanistan</td>\n",
              "      <td>8996967.0</td>\n",
              "      <td>9169406.0</td>\n",
              "      <td>9351442.0</td>\n",
              "      <td>9543200.0</td>\n",
              "      <td>9744772.0</td>\n",
              "      <td>9956318.0</td>\n",
              "      <td>10174840.0</td>\n",
              "      <td>10399936.0</td>\n",
              "      <td>10637064.0</td>\n",
              "      <td>...</td>\n",
              "      <td>30117411</td>\n",
              "      <td>31161378.0</td>\n",
              "      <td>32269592.0</td>\n",
              "      <td>33370804.0</td>\n",
              "      <td>34413603.0</td>\n",
              "      <td>35383028.0</td>\n",
              "      <td>36296111.0</td>\n",
              "      <td>37171922.0</td>\n",
              "      <td>38041757.0</td>\n",
              "      <td>38928341.0</td>\n",
              "    </tr>\n",
              "    <tr>\n",
              "      <th>2</th>\n",
              "      <td>Albania</td>\n",
              "      <td>1608800.0</td>\n",
              "      <td>1659800.0</td>\n",
              "      <td>1711319.0</td>\n",
              "      <td>1762621.0</td>\n",
              "      <td>1814135.0</td>\n",
              "      <td>1864791.0</td>\n",
              "      <td>1914573.0</td>\n",
              "      <td>1965598.0</td>\n",
              "      <td>2022272.0</td>\n",
              "      <td>...</td>\n",
              "      <td>2905195</td>\n",
              "      <td>2900401.0</td>\n",
              "      <td>2895092.0</td>\n",
              "      <td>2889104.0</td>\n",
              "      <td>2880703.0</td>\n",
              "      <td>2876101.0</td>\n",
              "      <td>2873457.0</td>\n",
              "      <td>2866376.0</td>\n",
              "      <td>2854191.0</td>\n",
              "      <td>2837743.0</td>\n",
              "    </tr>\n",
              "    <tr>\n",
              "      <th>3</th>\n",
              "      <td>Algeria</td>\n",
              "      <td>11057864.0</td>\n",
              "      <td>11336336.0</td>\n",
              "      <td>11619828.0</td>\n",
              "      <td>11912800.0</td>\n",
              "      <td>12221675.0</td>\n",
              "      <td>12550880.0</td>\n",
              "      <td>12902626.0</td>\n",
              "      <td>13275020.0</td>\n",
              "      <td>13663581.0</td>\n",
              "      <td>...</td>\n",
              "      <td>36661438</td>\n",
              "      <td>37383899.0</td>\n",
              "      <td>38140135.0</td>\n",
              "      <td>38923688.0</td>\n",
              "      <td>39728020.0</td>\n",
              "      <td>40551398.0</td>\n",
              "      <td>41389174.0</td>\n",
              "      <td>42228415.0</td>\n",
              "      <td>43053054.0</td>\n",
              "      <td>43851043.0</td>\n",
              "    </tr>\n",
              "    <tr>\n",
              "      <th>4</th>\n",
              "      <td>American Samoa</td>\n",
              "      <td>20127.0</td>\n",
              "      <td>20605.0</td>\n",
              "      <td>21246.0</td>\n",
              "      <td>22029.0</td>\n",
              "      <td>22850.0</td>\n",
              "      <td>23675.0</td>\n",
              "      <td>24473.0</td>\n",
              "      <td>25235.0</td>\n",
              "      <td>25980.0</td>\n",
              "      <td>...</td>\n",
              "      <td>55755</td>\n",
              "      <td>55669.0</td>\n",
              "      <td>55717.0</td>\n",
              "      <td>55791.0</td>\n",
              "      <td>55806.0</td>\n",
              "      <td>55739.0</td>\n",
              "      <td>55617.0</td>\n",
              "      <td>55461.0</td>\n",
              "      <td>55312.0</td>\n",
              "      <td>55197.0</td>\n",
              "    </tr>\n",
              "    <tr>\n",
              "      <th>5</th>\n",
              "      <td>Andorra</td>\n",
              "      <td>13410.0</td>\n",
              "      <td>14378.0</td>\n",
              "      <td>15379.0</td>\n",
              "      <td>16407.0</td>\n",
              "      <td>17466.0</td>\n",
              "      <td>18542.0</td>\n",
              "      <td>19646.0</td>\n",
              "      <td>20760.0</td>\n",
              "      <td>21886.0</td>\n",
              "      <td>...</td>\n",
              "      <td>83748</td>\n",
              "      <td>82427.0</td>\n",
              "      <td>80770.0</td>\n",
              "      <td>79213.0</td>\n",
              "      <td>77993.0</td>\n",
              "      <td>77295.0</td>\n",
              "      <td>76997.0</td>\n",
              "      <td>77008.0</td>\n",
              "      <td>77146.0</td>\n",
              "      <td>77265.0</td>\n",
              "    </tr>\n",
              "  </tbody>\n",
              "</table>\n",
              "<p>5 rows × 62 columns</p>\n",
              "</div>"
            ],
            "text/plain": [
              "          country   year_1960   year_1961   year_1962   year_1963   year_1964  \\\n",
              "1     Afghanistan   8996967.0   9169406.0   9351442.0   9543200.0   9744772.0   \n",
              "2         Albania   1608800.0   1659800.0   1711319.0   1762621.0   1814135.0   \n",
              "3         Algeria  11057864.0  11336336.0  11619828.0  11912800.0  12221675.0   \n",
              "4  American Samoa     20127.0     20605.0     21246.0     22029.0     22850.0   \n",
              "5         Andorra     13410.0     14378.0     15379.0     16407.0     17466.0   \n",
              "\n",
              "    year_1965   year_1966   year_1967   year_1968  ...  year_2011   year_2012  \\\n",
              "1   9956318.0  10174840.0  10399936.0  10637064.0  ...   30117411  31161378.0   \n",
              "2   1864791.0   1914573.0   1965598.0   2022272.0  ...    2905195   2900401.0   \n",
              "3  12550880.0  12902626.0  13275020.0  13663581.0  ...   36661438  37383899.0   \n",
              "4     23675.0     24473.0     25235.0     25980.0  ...      55755     55669.0   \n",
              "5     18542.0     19646.0     20760.0     21886.0  ...      83748     82427.0   \n",
              "\n",
              "    year_2013   year_2014   year_2015   year_2016   year_2017   year_2018  \\\n",
              "1  32269592.0  33370804.0  34413603.0  35383028.0  36296111.0  37171922.0   \n",
              "2   2895092.0   2889104.0   2880703.0   2876101.0   2873457.0   2866376.0   \n",
              "3  38140135.0  38923688.0  39728020.0  40551398.0  41389174.0  42228415.0   \n",
              "4     55717.0     55791.0     55806.0     55739.0     55617.0     55461.0   \n",
              "5     80770.0     79213.0     77993.0     77295.0     76997.0     77008.0   \n",
              "\n",
              "    year_2019   year_2020  \n",
              "1  38041757.0  38928341.0  \n",
              "2   2854191.0   2837743.0  \n",
              "3  43053054.0  43851043.0  \n",
              "4     55312.0     55197.0  \n",
              "5     77146.0     77265.0  \n",
              "\n",
              "[5 rows x 62 columns]"
            ]
          },
          "execution_count": 24,
          "metadata": {},
          "output_type": "execute_result"
        }
      ],
      "source": [
        "world_pop_tab.head()"
      ]
    },
    {
      "cell_type": "markdown",
      "metadata": {
        "id": "p7bOeQ4hS7us"
      },
      "source": [
        "---\n",
        "\n",
        "Veamos datos generales de este DataFrame!\n",
        "\n",
        "Index, columnas, datos, tipo de datos... con qué método será conveniente?\n",
        "\n",
        "---"
      ]
    },
    {
      "cell_type": "code",
      "execution_count": null,
      "metadata": {
        "id": "vR6dvFQYS7ut",
        "outputId": "69ed5b5c-b7d2-4711-8824-92b0e8cc79a5"
      },
      "outputs": [
        {
          "name": "stdout",
          "output_type": "stream",
          "text": [
            "<class 'pandas.core.frame.DataFrame'>\n",
            "Int64Index: 216 entries, 1 to 216\n",
            "Data columns (total 62 columns):\n",
            " #   Column     Non-Null Count  Dtype  \n",
            "---  ------     --------------  -----  \n",
            " 0   country    216 non-null    object \n",
            " 1   year_1960  215 non-null    float64\n",
            " 2   year_1961  215 non-null    float64\n",
            " 3   year_1962  215 non-null    float64\n",
            " 4   year_1963  215 non-null    float64\n",
            " 5   year_1964  215 non-null    float64\n",
            " 6   year_1965  215 non-null    float64\n",
            " 7   year_1966  215 non-null    float64\n",
            " 8   year_1967  215 non-null    float64\n",
            " 9   year_1968  215 non-null    float64\n",
            " 10  year_1969  215 non-null    float64\n",
            " 11  year_1970  215 non-null    float64\n",
            " 12  year_1971  215 non-null    float64\n",
            " 13  year_1972  215 non-null    float64\n",
            " 14  year_1973  215 non-null    float64\n",
            " 15  year_1974  215 non-null    float64\n",
            " 16  year_1975  215 non-null    float64\n",
            " 17  year_1976  215 non-null    float64\n",
            " 18  year_1977  215 non-null    float64\n",
            " 19  year_1978  215 non-null    float64\n",
            " 20  year_1979  215 non-null    float64\n",
            " 21  year_1980  215 non-null    float64\n",
            " 22  year_1981  215 non-null    float64\n",
            " 23  year_1982  215 non-null    float64\n",
            " 24  year_1983  215 non-null    float64\n",
            " 25  year_1984  215 non-null    float64\n",
            " 26  year_1985  215 non-null    float64\n",
            " 27  year_1986  215 non-null    float64\n",
            " 28  year_1987  215 non-null    float64\n",
            " 29  year_1988  215 non-null    float64\n",
            " 30  year_1989  215 non-null    float64\n",
            " 31  year_1990  216 non-null    int64  \n",
            " 32  year_1991  216 non-null    int64  \n",
            " 33  year_1992  215 non-null    float64\n",
            " 34  year_1993  215 non-null    float64\n",
            " 35  year_1994  215 non-null    float64\n",
            " 36  year_1995  216 non-null    int64  \n",
            " 37  year_1996  216 non-null    int64  \n",
            " 38  year_1997  216 non-null    int64  \n",
            " 39  year_1998  216 non-null    int64  \n",
            " 40  year_1999  216 non-null    int64  \n",
            " 41  year_2000  216 non-null    int64  \n",
            " 42  year_2001  216 non-null    int64  \n",
            " 43  year_2002  216 non-null    int64  \n",
            " 44  year_2003  216 non-null    int64  \n",
            " 45  year_2004  216 non-null    int64  \n",
            " 46  year_2005  216 non-null    int64  \n",
            " 47  year_2006  216 non-null    int64  \n",
            " 48  year_2007  216 non-null    int64  \n",
            " 49  year_2008  216 non-null    int64  \n",
            " 50  year_2009  216 non-null    int64  \n",
            " 51  year_2010  216 non-null    int64  \n",
            " 52  year_2011  216 non-null    int64  \n",
            " 53  year_2012  215 non-null    float64\n",
            " 54  year_2013  215 non-null    float64\n",
            " 55  year_2014  215 non-null    float64\n",
            " 56  year_2015  215 non-null    float64\n",
            " 57  year_2016  215 non-null    float64\n",
            " 58  year_2017  215 non-null    float64\n",
            " 59  year_2018  215 non-null    float64\n",
            " 60  year_2019  215 non-null    float64\n",
            " 61  year_2020  215 non-null    float64\n",
            "dtypes: float64(42), int64(19), object(1)\n",
            "memory usage: 106.3+ KB\n"
          ]
        }
      ],
      "source": [
        "world_pop_tab.info()"
      ]
    },
    {
      "cell_type": "markdown",
      "metadata": {
        "id": "3N-i7KJCS7uu"
      },
      "source": [
        "---\n",
        "\n",
        "Vamos a hacer un pequeño gráfico utilizando `plotly`!\n",
        "\n",
        "La idea es visualizar la población por país de acuerdo a los años que van pasando...\n",
        "\n",
        "Ahora bien.. sólo queremos saber el **top 10** de países más poblados...\n",
        "\n",
        "Para ello, deberemos hacer un reshape del DataFrame, principalmente para graficar más fácilmente.\n",
        "\n",
        "---"
      ]
    },
    {
      "cell_type": "code",
      "execution_count": null,
      "metadata": {
        "id": "YfeQLypES7uv"
      },
      "outputs": [],
      "source": [
        "# Hacemos reshape del dataframe\n",
        "world_pop_reshape = world_pop_tab.set_index('country').stack().reset_index()\n",
        "world_pop_reshape.columns = ['country', 'year', 'population']"
      ]
    },
    {
      "cell_type": "markdown",
      "metadata": {
        "id": "jowgAzkGS7uw"
      },
      "source": [
        "---\n",
        "1. Para qué nos sirve `set_index()`?\n",
        "\n",
        "Realiza una operación en la que setea la columna deseada como el index del DataFrame propiamente dicho.\n",
        "\n",
        "En nuestro caso, solamente cambiamos el index a la columna \"country\".\n",
        "\n",
        "Click [aquí](https://pandas.pydata.org/docs/reference/api/pandas.DataFrame.set_index.html) para ir a la documentación oficial de pandas.\n",
        "\n",
        "---\n",
        "\n",
        "2. Para qué nos sirve `stack()`?\n",
        "\n",
        "Hace un reshape de nuestro DataFrame, en donde apila verticalmente las columnas, es decir, convirtiendolas en una sola columna por vez y creando un MultiIndex DataFrame. Pero.. a qué hace referencia esto?\n",
        "\n",
        "En última consecuencia, nuestro DataFrame posee dos niveles de índices, por un lado el index de \"country\" original y, por otro lado, el nuevo índice para las columnas apiladas.\n",
        "\n",
        "Click [aquí](https://pandas.pydata.org/docs/reference/api/pandas.DataFrame.stack.html) para ir a la documentación oficial de pandas.\n",
        "\n",
        "---\n",
        "\n",
        "3. Para qué nos sirve `reset_index()`?\n",
        "\n",
        "Realiza una operación en la que restablece todos los índices, convirtiéndolos nuevamente en columnas regulares.\n",
        "\n",
        "Los valores de las columnas apiladas se convierten en una columna nueva y el índice de \"country\" original se restaura como una columna regular.\n",
        "\n",
        "Click [aquí](https://pandas.pydata.org/docs/reference/api/pandas.DataFrame.reset_index.html) para ir a la documentación oficial de pandas.\n",
        "\n",
        "---"
      ]
    },
    {
      "cell_type": "code",
      "execution_count": null,
      "metadata": {
        "id": "N_SfZlnbS7uw",
        "outputId": "616d4e1a-0646-4bad-ebd9-a52fc28175db"
      },
      "outputs": [
        {
          "data": {
            "text/html": [
              "<div>\n",
              "<style scoped>\n",
              "    .dataframe tbody tr th:only-of-type {\n",
              "        vertical-align: middle;\n",
              "    }\n",
              "\n",
              "    .dataframe tbody tr th {\n",
              "        vertical-align: top;\n",
              "    }\n",
              "\n",
              "    .dataframe thead th {\n",
              "        text-align: right;\n",
              "    }\n",
              "</style>\n",
              "<table border=\"1\" class=\"dataframe\">\n",
              "  <thead>\n",
              "    <tr style=\"text-align: right;\">\n",
              "      <th></th>\n",
              "      <th>country</th>\n",
              "      <th>year</th>\n",
              "      <th>population</th>\n",
              "    </tr>\n",
              "  </thead>\n",
              "  <tbody>\n",
              "    <tr>\n",
              "      <th>0</th>\n",
              "      <td>Afghanistan</td>\n",
              "      <td>year_1960</td>\n",
              "      <td>8996967.0</td>\n",
              "    </tr>\n",
              "    <tr>\n",
              "      <th>1</th>\n",
              "      <td>Afghanistan</td>\n",
              "      <td>year_1961</td>\n",
              "      <td>9169406.0</td>\n",
              "    </tr>\n",
              "    <tr>\n",
              "      <th>2</th>\n",
              "      <td>Afghanistan</td>\n",
              "      <td>year_1962</td>\n",
              "      <td>9351442.0</td>\n",
              "    </tr>\n",
              "    <tr>\n",
              "      <th>3</th>\n",
              "      <td>Afghanistan</td>\n",
              "      <td>year_1963</td>\n",
              "      <td>9543200.0</td>\n",
              "    </tr>\n",
              "    <tr>\n",
              "      <th>4</th>\n",
              "      <td>Afghanistan</td>\n",
              "      <td>year_1964</td>\n",
              "      <td>9744772.0</td>\n",
              "    </tr>\n",
              "    <tr>\n",
              "      <th>...</th>\n",
              "      <td>...</td>\n",
              "      <td>...</td>\n",
              "      <td>...</td>\n",
              "    </tr>\n",
              "    <tr>\n",
              "      <th>13129</th>\n",
              "      <td>Zimbabwe</td>\n",
              "      <td>year_2016</td>\n",
              "      <td>14030338.0</td>\n",
              "    </tr>\n",
              "    <tr>\n",
              "      <th>13130</th>\n",
              "      <td>Zimbabwe</td>\n",
              "      <td>year_2017</td>\n",
              "      <td>14236599.0</td>\n",
              "    </tr>\n",
              "    <tr>\n",
              "      <th>13131</th>\n",
              "      <td>Zimbabwe</td>\n",
              "      <td>year_2018</td>\n",
              "      <td>14438812.0</td>\n",
              "    </tr>\n",
              "    <tr>\n",
              "      <th>13132</th>\n",
              "      <td>Zimbabwe</td>\n",
              "      <td>year_2019</td>\n",
              "      <td>14645473.0</td>\n",
              "    </tr>\n",
              "    <tr>\n",
              "      <th>13133</th>\n",
              "      <td>Zimbabwe</td>\n",
              "      <td>year_2020</td>\n",
              "      <td>14862927.0</td>\n",
              "    </tr>\n",
              "  </tbody>\n",
              "</table>\n",
              "<p>13134 rows × 3 columns</p>\n",
              "</div>"
            ],
            "text/plain": [
              "           country       year  population\n",
              "0      Afghanistan  year_1960   8996967.0\n",
              "1      Afghanistan  year_1961   9169406.0\n",
              "2      Afghanistan  year_1962   9351442.0\n",
              "3      Afghanistan  year_1963   9543200.0\n",
              "4      Afghanistan  year_1964   9744772.0\n",
              "...            ...        ...         ...\n",
              "13129     Zimbabwe  year_2016  14030338.0\n",
              "13130     Zimbabwe  year_2017  14236599.0\n",
              "13131     Zimbabwe  year_2018  14438812.0\n",
              "13132     Zimbabwe  year_2019  14645473.0\n",
              "13133     Zimbabwe  year_2020  14862927.0\n",
              "\n",
              "[13134 rows x 3 columns]"
            ]
          },
          "execution_count": 27,
          "metadata": {},
          "output_type": "execute_result"
        }
      ],
      "source": [
        "world_pop_reshape"
      ]
    },
    {
      "cell_type": "code",
      "execution_count": null,
      "metadata": {
        "id": "XYjLATsnS7ux"
      },
      "outputs": [],
      "source": [
        "# Quitamos el \"year_\" del string para que sea más fácil de leer\n",
        "world_pop_reshape['year'] = world_pop_reshape['year'].str.replace('year_', '')"
      ]
    },
    {
      "cell_type": "code",
      "execution_count": null,
      "metadata": {
        "id": "ebp5f_U8S7uy",
        "outputId": "f21d3db8-ed9b-40d9-84dc-84529bc01aee"
      },
      "outputs": [
        {
          "data": {
            "text/html": [
              "<div>\n",
              "<style scoped>\n",
              "    .dataframe tbody tr th:only-of-type {\n",
              "        vertical-align: middle;\n",
              "    }\n",
              "\n",
              "    .dataframe tbody tr th {\n",
              "        vertical-align: top;\n",
              "    }\n",
              "\n",
              "    .dataframe thead th {\n",
              "        text-align: right;\n",
              "    }\n",
              "</style>\n",
              "<table border=\"1\" class=\"dataframe\">\n",
              "  <thead>\n",
              "    <tr style=\"text-align: right;\">\n",
              "      <th></th>\n",
              "      <th>country</th>\n",
              "      <th>year</th>\n",
              "      <th>population</th>\n",
              "    </tr>\n",
              "  </thead>\n",
              "  <tbody>\n",
              "    <tr>\n",
              "      <th>0</th>\n",
              "      <td>Afghanistan</td>\n",
              "      <td>1960</td>\n",
              "      <td>8996967.0</td>\n",
              "    </tr>\n",
              "    <tr>\n",
              "      <th>1</th>\n",
              "      <td>Afghanistan</td>\n",
              "      <td>1961</td>\n",
              "      <td>9169406.0</td>\n",
              "    </tr>\n",
              "    <tr>\n",
              "      <th>2</th>\n",
              "      <td>Afghanistan</td>\n",
              "      <td>1962</td>\n",
              "      <td>9351442.0</td>\n",
              "    </tr>\n",
              "    <tr>\n",
              "      <th>3</th>\n",
              "      <td>Afghanistan</td>\n",
              "      <td>1963</td>\n",
              "      <td>9543200.0</td>\n",
              "    </tr>\n",
              "    <tr>\n",
              "      <th>4</th>\n",
              "      <td>Afghanistan</td>\n",
              "      <td>1964</td>\n",
              "      <td>9744772.0</td>\n",
              "    </tr>\n",
              "    <tr>\n",
              "      <th>...</th>\n",
              "      <td>...</td>\n",
              "      <td>...</td>\n",
              "      <td>...</td>\n",
              "    </tr>\n",
              "    <tr>\n",
              "      <th>13129</th>\n",
              "      <td>Zimbabwe</td>\n",
              "      <td>2016</td>\n",
              "      <td>14030338.0</td>\n",
              "    </tr>\n",
              "    <tr>\n",
              "      <th>13130</th>\n",
              "      <td>Zimbabwe</td>\n",
              "      <td>2017</td>\n",
              "      <td>14236599.0</td>\n",
              "    </tr>\n",
              "    <tr>\n",
              "      <th>13131</th>\n",
              "      <td>Zimbabwe</td>\n",
              "      <td>2018</td>\n",
              "      <td>14438812.0</td>\n",
              "    </tr>\n",
              "    <tr>\n",
              "      <th>13132</th>\n",
              "      <td>Zimbabwe</td>\n",
              "      <td>2019</td>\n",
              "      <td>14645473.0</td>\n",
              "    </tr>\n",
              "    <tr>\n",
              "      <th>13133</th>\n",
              "      <td>Zimbabwe</td>\n",
              "      <td>2020</td>\n",
              "      <td>14862927.0</td>\n",
              "    </tr>\n",
              "  </tbody>\n",
              "</table>\n",
              "<p>13134 rows × 3 columns</p>\n",
              "</div>"
            ],
            "text/plain": [
              "           country  year  population\n",
              "0      Afghanistan  1960   8996967.0\n",
              "1      Afghanistan  1961   9169406.0\n",
              "2      Afghanistan  1962   9351442.0\n",
              "3      Afghanistan  1963   9543200.0\n",
              "4      Afghanistan  1964   9744772.0\n",
              "...            ...   ...         ...\n",
              "13129     Zimbabwe  2016  14030338.0\n",
              "13130     Zimbabwe  2017  14236599.0\n",
              "13131     Zimbabwe  2018  14438812.0\n",
              "13132     Zimbabwe  2019  14645473.0\n",
              "13133     Zimbabwe  2020  14862927.0\n",
              "\n",
              "[13134 rows x 3 columns]"
            ]
          },
          "execution_count": 29,
          "metadata": {},
          "output_type": "execute_result"
        }
      ],
      "source": [
        "world_pop_reshape"
      ]
    },
    {
      "cell_type": "code",
      "execution_count": null,
      "metadata": {
        "id": "V2QR4wkRS7uz"
      },
      "outputs": [],
      "source": [
        "# Calcular el top10 de paises según su población\n",
        "top_countries = world_pop_reshape.groupby('country')['population'].max().nlargest(10).reset_index()\n",
        "df_top10 = world_pop_reshape[world_pop_reshape['country'].isin(top_countries['country'])]"
      ]
    },
    {
      "cell_type": "markdown",
      "metadata": {
        "id": "ZvCo86a0S7u0"
      },
      "source": [
        "---\n",
        "\n",
        "1. Para qué nos sirve `max()`?\n",
        "\n",
        "Devuelve una serie con el valor máximo de cada columna.\n",
        "\n",
        "Click [aquí](https://pandas.pydata.org/docs/reference/api/pandas.DataFrame.max.html) para ir a la documentación oficial de pandas.\n",
        "\n",
        "---\n",
        "\n",
        "2. Para qué nos sirve `nlargest()`?\n",
        "\n",
        "Devuelve las n primeras filas ordenadas por columnas en orden descendente.\n",
        "\n",
        "Devuelve las primeras n filas con los valores más grandes en columnas, en orden descendente. Las columnas que no se especifican también se devuelven, pero no se utilizan para ordenar.\n",
        "\n",
        "Click [aquí](https://pandas.pydata.org/docs/reference/api/pandas.DataFrame.nlargest.html) para ir a la documentación oficial de pandas.\n",
        "\n",
        "---"
      ]
    },
    {
      "cell_type": "code",
      "execution_count": null,
      "metadata": {
        "id": "u1aRxjeES7u1",
        "outputId": "b190583b-152c-4d94-b883-c0cee495347a"
      },
      "outputs": [
        {
          "data": {
            "application/vnd.plotly.v1+json": {
              "config": {
                "plotlyServerURL": "https://plot.ly"
              },
              "data": [
                {
                  "hovertemplate": "year=1960<br>country=%{x}<br>population=%{y}<extra></extra>",
                  "legendgroup": "",
                  "line": {
                    "color": "#636efa",
                    "dash": "solid"
                  },
                  "marker": {
                    "symbol": "circle"
                  },
                  "mode": "lines",
                  "name": "",
                  "orientation": "v",
                  "showlegend": false,
                  "type": "scatter",
                  "x": [
                    "Bangladesh",
                    "Brazil",
                    "China",
                    "India",
                    "Indonesia",
                    "Mexico",
                    "Nigeria",
                    "Pakistan",
                    "Russian Federation",
                    "United States"
                  ],
                  "xaxis": "x",
                  "y": [
                    48013505,
                    72179235,
                    667070000,
                    450547675,
                    87751066,
                    37771861,
                    45138460,
                    44988690,
                    119897000,
                    180671000
                  ],
                  "yaxis": "y"
                }
              ],
              "frames": [
                {
                  "data": [
                    {
                      "hovertemplate": "year=1960<br>country=%{x}<br>population=%{y}<extra></extra>",
                      "legendgroup": "",
                      "line": {
                        "color": "#636efa",
                        "dash": "solid"
                      },
                      "marker": {
                        "symbol": "circle"
                      },
                      "mode": "lines",
                      "name": "",
                      "orientation": "v",
                      "showlegend": false,
                      "type": "scatter",
                      "x": [
                        "Bangladesh",
                        "Brazil",
                        "China",
                        "India",
                        "Indonesia",
                        "Mexico",
                        "Nigeria",
                        "Pakistan",
                        "Russian Federation",
                        "United States"
                      ],
                      "xaxis": "x",
                      "y": [
                        48013505,
                        72179235,
                        667070000,
                        450547675,
                        87751066,
                        37771861,
                        45138460,
                        44988690,
                        119897000,
                        180671000
                      ],
                      "yaxis": "y"
                    }
                  ],
                  "name": "1960"
                },
                {
                  "data": [
                    {
                      "hovertemplate": "year=1961<br>country=%{x}<br>population=%{y}<extra></extra>",
                      "legendgroup": "",
                      "line": {
                        "color": "#636efa",
                        "dash": "solid"
                      },
                      "marker": {
                        "symbol": "circle"
                      },
                      "mode": "lines",
                      "name": "",
                      "orientation": "v",
                      "showlegend": false,
                      "type": "scatter",
                      "x": [
                        "Bangladesh",
                        "Brazil",
                        "China",
                        "India",
                        "Indonesia",
                        "Mexico",
                        "Nigeria",
                        "Pakistan",
                        "Russian Federation",
                        "United States"
                      ],
                      "xaxis": "x",
                      "y": [
                        49362834,
                        74311338,
                        660330000,
                        459642166,
                        90098396,
                        38966049,
                        46063570,
                        46065229,
                        121236000,
                        183691000
                      ],
                      "yaxis": "y"
                    }
                  ],
                  "name": "1961"
                },
                {
                  "data": [
                    {
                      "hovertemplate": "year=1962<br>country=%{x}<br>population=%{y}<extra></extra>",
                      "legendgroup": "",
                      "line": {
                        "color": "#636efa",
                        "dash": "solid"
                      },
                      "marker": {
                        "symbol": "circle"
                      },
                      "mode": "lines",
                      "name": "",
                      "orientation": "v",
                      "showlegend": false,
                      "type": "scatter",
                      "x": [
                        "Bangladesh",
                        "Brazil",
                        "China",
                        "India",
                        "Indonesia",
                        "Mexico",
                        "Nigeria",
                        "Pakistan",
                        "Russian Federation",
                        "United States"
                      ],
                      "xaxis": "x",
                      "y": [
                        50752150,
                        76514329,
                        665770000,
                        469077191,
                        92518373,
                        40195318,
                        47029818,
                        47198886,
                        122591000,
                        186538000
                      ],
                      "yaxis": "y"
                    }
                  ],
                  "name": "1962"
                },
                {
                  "data": [
                    {
                      "hovertemplate": "year=1963<br>country=%{x}<br>population=%{y}<extra></extra>",
                      "legendgroup": "",
                      "line": {
                        "color": "#636efa",
                        "dash": "solid"
                      },
                      "marker": {
                        "symbol": "circle"
                      },
                      "mode": "lines",
                      "name": "",
                      "orientation": "v",
                      "showlegend": false,
                      "type": "scatter",
                      "x": [
                        "Bangladesh",
                        "Brazil",
                        "China",
                        "India",
                        "Indonesia",
                        "Mexico",
                        "Nigeria",
                        "Pakistan",
                        "Russian Federation",
                        "United States"
                      ],
                      "xaxis": "x",
                      "y": [
                        52202008,
                        78772647,
                        682335000,
                        478825602,
                        95015295,
                        41462373,
                        48032932,
                        48387293,
                        123960000,
                        189242000
                      ],
                      "yaxis": "y"
                    }
                  ],
                  "name": "1963"
                },
                {
                  "data": [
                    {
                      "hovertemplate": "year=1964<br>country=%{x}<br>population=%{y}<extra></extra>",
                      "legendgroup": "",
                      "line": {
                        "color": "#636efa",
                        "dash": "solid"
                      },
                      "marker": {
                        "symbol": "circle"
                      },
                      "mode": "lines",
                      "name": "",
                      "orientation": "v",
                      "showlegend": false,
                      "type": "scatter",
                      "x": [
                        "Bangladesh",
                        "Brazil",
                        "China",
                        "India",
                        "Indonesia",
                        "Mexico",
                        "Nigeria",
                        "Pakistan",
                        "Russian Federation",
                        "United States"
                      ],
                      "xaxis": "x",
                      "y": [
                        53741721,
                        81064572,
                        698355000,
                        488848139,
                        97596728,
                        42771077,
                        49066762,
                        49627623,
                        125345000,
                        191889000
                      ],
                      "yaxis": "y"
                    }
                  ],
                  "name": "1964"
                },
                {
                  "data": [
                    {
                      "hovertemplate": "year=1965<br>country=%{x}<br>population=%{y}<extra></extra>",
                      "legendgroup": "",
                      "line": {
                        "color": "#636efa",
                        "dash": "solid"
                      },
                      "marker": {
                        "symbol": "circle"
                      },
                      "mode": "lines",
                      "name": "",
                      "orientation": "v",
                      "showlegend": false,
                      "type": "scatter",
                      "x": [
                        "Bangladesh",
                        "Brazil",
                        "China",
                        "India",
                        "Indonesia",
                        "Mexico",
                        "Nigeria",
                        "Pakistan",
                        "Russian Federation",
                        "United States"
                      ],
                      "xaxis": "x",
                      "y": [
                        55385114,
                        83373533,
                        715185000,
                        499123328,
                        100267070,
                        44123863,
                        50127920,
                        50917975,
                        126745000,
                        194303000
                      ],
                      "yaxis": "y"
                    }
                  ],
                  "name": "1965"
                },
                {
                  "data": [
                    {
                      "hovertemplate": "year=1966<br>country=%{x}<br>population=%{y}<extra></extra>",
                      "legendgroup": "",
                      "line": {
                        "color": "#636efa",
                        "dash": "solid"
                      },
                      "marker": {
                        "symbol": "circle"
                      },
                      "mode": "lines",
                      "name": "",
                      "orientation": "v",
                      "showlegend": false,
                      "type": "scatter",
                      "x": [
                        "Bangladesh",
                        "Brazil",
                        "China",
                        "India",
                        "Indonesia",
                        "Mexico",
                        "Nigeria",
                        "Pakistan",
                        "Russian Federation",
                        "United States"
                      ],
                      "xaxis": "x",
                      "y": [
                        57157651,
                        85696502,
                        735400000,
                        509631509,
                        103025423,
                        45519746,
                        51217969,
                        52260183,
                        127468000,
                        196560000
                      ],
                      "yaxis": "y"
                    }
                  ],
                  "name": "1966"
                },
                {
                  "data": [
                    {
                      "hovertemplate": "year=1967<br>country=%{x}<br>population=%{y}<extra></extra>",
                      "legendgroup": "",
                      "line": {
                        "color": "#636efa",
                        "dash": "solid"
                      },
                      "marker": {
                        "symbol": "circle"
                      },
                      "mode": "lines",
                      "name": "",
                      "orientation": "v",
                      "showlegend": false,
                      "type": "scatter",
                      "x": [
                        "Bangladesh",
                        "Brazil",
                        "China",
                        "India",
                        "Indonesia",
                        "Mexico",
                        "Nigeria",
                        "Pakistan",
                        "Russian Federation",
                        "United States"
                      ],
                      "xaxis": "x",
                      "y": [
                        59034250,
                        88035815,
                        754550000,
                        520400577,
                        105865576,
                        46956208,
                        52342231,
                        53655783,
                        128196000,
                        198712000
                      ],
                      "yaxis": "y"
                    }
                  ],
                  "name": "1967"
                },
                {
                  "data": [
                    {
                      "hovertemplate": "year=1968<br>country=%{x}<br>population=%{y}<extra></extra>",
                      "legendgroup": "",
                      "line": {
                        "color": "#636efa",
                        "dash": "solid"
                      },
                      "marker": {
                        "symbol": "circle"
                      },
                      "mode": "lines",
                      "name": "",
                      "orientation": "v",
                      "showlegend": false,
                      "type": "scatter",
                      "x": [
                        "Bangladesh",
                        "Brazil",
                        "China",
                        "India",
                        "Indonesia",
                        "Mexico",
                        "Nigeria",
                        "Pakistan",
                        "Russian Federation",
                        "United States"
                      ],
                      "xaxis": "x",
                      "y": [
                        60918452,
                        90387079,
                        774510000,
                        531513834,
                        108779926,
                        48431971,
                        53506201,
                        55102690,
                        128928000,
                        200706000
                      ],
                      "yaxis": "y"
                    }
                  ],
                  "name": "1968"
                },
                {
                  "data": [
                    {
                      "hovertemplate": "year=1969<br>country=%{x}<br>population=%{y}<extra></extra>",
                      "legendgroup": "",
                      "line": {
                        "color": "#636efa",
                        "dash": "solid"
                      },
                      "marker": {
                        "symbol": "circle"
                      },
                      "mode": "lines",
                      "name": "",
                      "orientation": "v",
                      "showlegend": false,
                      "type": "scatter",
                      "x": [
                        "Bangladesh",
                        "Brazil",
                        "China",
                        "India",
                        "Indonesia",
                        "Mexico",
                        "Nigeria",
                        "Pakistan",
                        "Russian Federation",
                        "United States"
                      ],
                      "xaxis": "x",
                      "y": [
                        62679765,
                        92746607,
                        796025000,
                        543084333,
                        111758566,
                        49945278,
                        54717035,
                        56598148,
                        129664000,
                        202677000
                      ],
                      "yaxis": "y"
                    }
                  ],
                  "name": "1969"
                },
                {
                  "data": [
                    {
                      "hovertemplate": "year=1970<br>country=%{x}<br>population=%{y}<extra></extra>",
                      "legendgroup": "",
                      "line": {
                        "color": "#636efa",
                        "dash": "solid"
                      },
                      "marker": {
                        "symbol": "circle"
                      },
                      "mode": "lines",
                      "name": "",
                      "orientation": "v",
                      "showlegend": false,
                      "type": "scatter",
                      "x": [
                        "Bangladesh",
                        "Brazil",
                        "China",
                        "India",
                        "Indonesia",
                        "Mexico",
                        "Nigeria",
                        "Pakistan",
                        "Russian Federation",
                        "United States"
                      ],
                      "xaxis": "x",
                      "y": [
                        64232486,
                        95113265,
                        818315000,
                        555189797,
                        114793179,
                        51493565,
                        55982142,
                        58142062,
                        130404000,
                        205052000
                      ],
                      "yaxis": "y"
                    }
                  ],
                  "name": "1970"
                },
                {
                  "data": [
                    {
                      "hovertemplate": "year=1971<br>country=%{x}<br>population=%{y}<extra></extra>",
                      "legendgroup": "",
                      "line": {
                        "color": "#636efa",
                        "dash": "solid"
                      },
                      "marker": {
                        "symbol": "circle"
                      },
                      "mode": "lines",
                      "name": "",
                      "orientation": "v",
                      "showlegend": false,
                      "type": "scatter",
                      "x": [
                        "Bangladesh",
                        "Brazil",
                        "China",
                        "India",
                        "Indonesia",
                        "Mexico",
                        "Nigeria",
                        "Pakistan",
                        "Russian Federation",
                        "United States"
                      ],
                      "xaxis": "x",
                      "y": [
                        65531635,
                        97482928,
                        841105000,
                        567868021,
                        117880146,
                        53076366,
                        57296988,
                        59734479,
                        131155000,
                        207661000
                      ],
                      "yaxis": "y"
                    }
                  ],
                  "name": "1971"
                },
                {
                  "data": [
                    {
                      "hovertemplate": "year=1972<br>country=%{x}<br>population=%{y}<extra></extra>",
                      "legendgroup": "",
                      "line": {
                        "color": "#636efa",
                        "dash": "solid"
                      },
                      "marker": {
                        "symbol": "circle"
                      },
                      "mode": "lines",
                      "name": "",
                      "orientation": "v",
                      "showlegend": false,
                      "type": "scatter",
                      "x": [
                        "Bangladesh",
                        "Brazil",
                        "China",
                        "India",
                        "Indonesia",
                        "Mexico",
                        "Nigeria",
                        "Pakistan",
                        "Russian Federation",
                        "United States"
                      ],
                      "xaxis": "x",
                      "y": [
                        66625706,
                        99859388,
                        862030000,
                        581087255,
                        121017316,
                        54689944,
                        58665813,
                        61381982,
                        131909000,
                        209896000
                      ],
                      "yaxis": "y"
                    }
                  ],
                  "name": "1972"
                },
                {
                  "data": [
                    {
                      "hovertemplate": "year=1973<br>country=%{x}<br>population=%{y}<extra></extra>",
                      "legendgroup": "",
                      "line": {
                        "color": "#636efa",
                        "dash": "solid"
                      },
                      "marker": {
                        "symbol": "circle"
                      },
                      "mode": "lines",
                      "name": "",
                      "orientation": "v",
                      "showlegend": false,
                      "type": "scatter",
                      "x": [
                        "Bangladesh",
                        "Brazil",
                        "China",
                        "India",
                        "Indonesia",
                        "Mexico",
                        "Nigeria",
                        "Pakistan",
                        "Russian Federation",
                        "United States"
                      ],
                      "xaxis": "x",
                      "y": [
                        67637541,
                        102259497,
                        881940000,
                        594770136,
                        124199693,
                        56324310,
                        60114615,
                        63099404,
                        132669000,
                        211909000
                      ],
                      "yaxis": "y"
                    }
                  ],
                  "name": "1973"
                },
                {
                  "data": [
                    {
                      "hovertemplate": "year=1974<br>country=%{x}<br>population=%{y}<extra></extra>",
                      "legendgroup": "",
                      "line": {
                        "color": "#636efa",
                        "dash": "solid"
                      },
                      "marker": {
                        "symbol": "circle"
                      },
                      "mode": "lines",
                      "name": "",
                      "orientation": "v",
                      "showlegend": false,
                      "type": "scatter",
                      "x": [
                        "Bangladesh",
                        "Brazil",
                        "China",
                        "India",
                        "Indonesia",
                        "Mexico",
                        "Nigeria",
                        "Pakistan",
                        "Russian Federation",
                        "United States"
                      ],
                      "xaxis": "x",
                      "y": [
                        68742222,
                        104706193,
                        900350000,
                        608802595,
                        127422198,
                        57966812,
                        61677167,
                        64905996,
                        133432000,
                        213854000
                      ],
                      "yaxis": "y"
                    }
                  ],
                  "name": "1974"
                },
                {
                  "data": [
                    {
                      "hovertemplate": "year=1975<br>country=%{x}<br>population=%{y}<extra></extra>",
                      "legendgroup": "",
                      "line": {
                        "color": "#636efa",
                        "dash": "solid"
                      },
                      "marker": {
                        "symbol": "circle"
                      },
                      "mode": "lines",
                      "name": "",
                      "orientation": "v",
                      "showlegend": false,
                      "type": "scatter",
                      "x": [
                        "Bangladesh",
                        "Brazil",
                        "China",
                        "India",
                        "Indonesia",
                        "Mexico",
                        "Nigeria",
                        "Pakistan",
                        "Russian Federation",
                        "United States"
                      ],
                      "xaxis": "x",
                      "y": [
                        70066310,
                        107216209,
                        916395000,
                        623102900,
                        130680730,
                        59607947,
                        63374289,
                        66816875,
                        134200000,
                        215973000
                      ],
                      "yaxis": "y"
                    }
                  ],
                  "name": "1975"
                },
                {
                  "data": [
                    {
                      "hovertemplate": "year=1976<br>country=%{x}<br>population=%{y}<extra></extra>",
                      "legendgroup": "",
                      "line": {
                        "color": "#636efa",
                        "dash": "solid"
                      },
                      "marker": {
                        "symbol": "circle"
                      },
                      "mode": "lines",
                      "name": "",
                      "orientation": "v",
                      "showlegend": false,
                      "type": "scatter",
                      "x": [
                        "Bangladesh",
                        "Brazil",
                        "China",
                        "India",
                        "Indonesia",
                        "Mexico",
                        "Nigeria",
                        "Pakistan",
                        "Russian Federation",
                        "United States"
                      ],
                      "xaxis": "x",
                      "y": [
                        71652386,
                        109790943,
                        930685000,
                        637630085,
                        133966940,
                        61242189,
                        65221379,
                        68834324,
                        135147000,
                        218035000
                      ],
                      "yaxis": "y"
                    }
                  ],
                  "name": "1976"
                },
                {
                  "data": [
                    {
                      "hovertemplate": "year=1977<br>country=%{x}<br>population=%{y}<extra></extra>",
                      "legendgroup": "",
                      "line": {
                        "color": "#636efa",
                        "dash": "solid"
                      },
                      "marker": {
                        "symbol": "circle"
                      },
                      "mode": "lines",
                      "name": "",
                      "orientation": "v",
                      "showlegend": false,
                      "type": "scatter",
                      "x": [
                        "Bangladesh",
                        "Brazil",
                        "China",
                        "India",
                        "Indonesia",
                        "Mexico",
                        "Nigeria",
                        "Pakistan",
                        "Russian Federation",
                        "United States"
                      ],
                      "xaxis": "x",
                      "y": [
                        73463593,
                        112425392,
                        943455000,
                        652408766,
                        137278057,
                        62869908,
                        67203134,
                        70958168,
                        136100000,
                        220239000
                      ],
                      "yaxis": "y"
                    }
                  ],
                  "name": "1977"
                },
                {
                  "data": [
                    {
                      "hovertemplate": "year=1978<br>country=%{x}<br>population=%{y}<extra></extra>",
                      "legendgroup": "",
                      "line": {
                        "color": "#636efa",
                        "dash": "solid"
                      },
                      "marker": {
                        "symbol": "circle"
                      },
                      "mode": "lines",
                      "name": "",
                      "orientation": "v",
                      "showlegend": false,
                      "type": "scatter",
                      "x": [
                        "Bangladesh",
                        "Brazil",
                        "China",
                        "India",
                        "Indonesia",
                        "Mexico",
                        "Nigeria",
                        "Pakistan",
                        "Russian Federation",
                        "United States"
                      ],
                      "xaxis": "x",
                      "y": [
                        75450033,
                        115121158,
                        956165000,
                        667499815,
                        140621731,
                        64494872,
                        69271915,
                        73197254,
                        137060000,
                        222585000
                      ],
                      "yaxis": "y"
                    }
                  ],
                  "name": "1978"
                },
                {
                  "data": [
                    {
                      "hovertemplate": "year=1979<br>country=%{x}<br>population=%{y}<extra></extra>",
                      "legendgroup": "",
                      "line": {
                        "color": "#636efa",
                        "dash": "solid"
                      },
                      "marker": {
                        "symbol": "circle"
                      },
                      "mode": "lines",
                      "name": "",
                      "orientation": "v",
                      "showlegend": false,
                      "type": "scatter",
                      "x": [
                        "Bangladesh",
                        "Brazil",
                        "China",
                        "India",
                        "Indonesia",
                        "Mexico",
                        "Nigeria",
                        "Pakistan",
                        "Russian Federation",
                        "United States"
                      ],
                      "xaxis": "x",
                      "y": [
                        77529040,
                        117878412,
                        969005000,
                        682995348,
                        144009844,
                        66123908,
                        71361141,
                        75561128,
                        138027000,
                        225055000
                      ],
                      "yaxis": "y"
                    }
                  ],
                  "name": "1979"
                },
                {
                  "data": [
                    {
                      "hovertemplate": "year=1980<br>country=%{x}<br>population=%{y}<extra></extra>",
                      "legendgroup": "",
                      "line": {
                        "color": "#636efa",
                        "dash": "solid"
                      },
                      "marker": {
                        "symbol": "circle"
                      },
                      "mode": "lines",
                      "name": "",
                      "orientation": "v",
                      "showlegend": false,
                      "type": "scatter",
                      "x": [
                        "Bangladesh",
                        "Brazil",
                        "China",
                        "India",
                        "Indonesia",
                        "Mexico",
                        "Nigeria",
                        "Pakistan",
                        "Russian Federation",
                        "United States"
                      ],
                      "xaxis": "x",
                      "y": [
                        79639498,
                        120694012,
                        981235000,
                        698952837,
                        147447834,
                        67761367,
                        73423646,
                        78054346,
                        139010000,
                        227225000
                      ],
                      "yaxis": "y"
                    }
                  ],
                  "name": "1980"
                },
                {
                  "data": [
                    {
                      "hovertemplate": "year=1981<br>country=%{x}<br>population=%{y}<extra></extra>",
                      "legendgroup": "",
                      "line": {
                        "color": "#636efa",
                        "dash": "solid"
                      },
                      "marker": {
                        "symbol": "circle"
                      },
                      "mode": "lines",
                      "name": "",
                      "orientation": "v",
                      "showlegend": false,
                      "type": "scatter",
                      "x": [
                        "Bangladesh",
                        "Brazil",
                        "China",
                        "India",
                        "Indonesia",
                        "Mexico",
                        "Nigeria",
                        "Pakistan",
                        "Russian Federation",
                        "United States"
                      ],
                      "xaxis": "x",
                      "y": [
                        81767516,
                        123570327,
                        993885000,
                        715384997,
                        150938222,
                        69407623,
                        75440505,
                        80680461,
                        139941000,
                        229466000
                      ],
                      "yaxis": "y"
                    }
                  ],
                  "name": "1981"
                },
                {
                  "data": [
                    {
                      "hovertemplate": "year=1982<br>country=%{x}<br>population=%{y}<extra></extra>",
                      "legendgroup": "",
                      "line": {
                        "color": "#636efa",
                        "dash": "solid"
                      },
                      "marker": {
                        "symbol": "circle"
                      },
                      "mode": "lines",
                      "name": "",
                      "orientation": "v",
                      "showlegend": false,
                      "type": "scatter",
                      "x": [
                        "Bangladesh",
                        "Brazil",
                        "China",
                        "India",
                        "Indonesia",
                        "Mexico",
                        "Nigeria",
                        "Pakistan",
                        "Russian Federation",
                        "United States"
                      ],
                      "xaxis": "x",
                      "y": [
                        83932132,
                        126498322,
                        1008630000,
                        732239498,
                        154468235,
                        71058650,
                        77427539,
                        83431597,
                        140823000,
                        231664000
                      ],
                      "yaxis": "y"
                    }
                  ],
                  "name": "1982"
                },
                {
                  "data": [
                    {
                      "hovertemplate": "year=1983<br>country=%{x}<br>population=%{y}<extra></extra>",
                      "legendgroup": "",
                      "line": {
                        "color": "#636efa",
                        "dash": "solid"
                      },
                      "marker": {
                        "symbol": "circle"
                      },
                      "mode": "lines",
                      "name": "",
                      "orientation": "v",
                      "showlegend": false,
                      "type": "scatter",
                      "x": [
                        "Bangladesh",
                        "Brazil",
                        "China",
                        "India",
                        "Indonesia",
                        "Mexico",
                        "Nigeria",
                        "Pakistan",
                        "Russian Federation",
                        "United States"
                      ],
                      "xaxis": "x",
                      "y": [
                        86142490,
                        129448815,
                        1023310000,
                        749428958,
                        158009248,
                        72709306,
                        79414841,
                        86285936,
                        141668000,
                        233792000
                      ],
                      "yaxis": "y"
                    }
                  ],
                  "name": "1983"
                },
                {
                  "data": [
                    {
                      "hovertemplate": "year=1984<br>country=%{x}<br>population=%{y}<extra></extra>",
                      "legendgroup": "",
                      "line": {
                        "color": "#636efa",
                        "dash": "solid"
                      },
                      "marker": {
                        "symbol": "circle"
                      },
                      "mode": "lines",
                      "name": "",
                      "orientation": "v",
                      "showlegend": false,
                      "type": "scatter",
                      "x": [
                        "Bangladesh",
                        "Brazil",
                        "China",
                        "India",
                        "Indonesia",
                        "Mexico",
                        "Nigeria",
                        "Pakistan",
                        "Russian Federation",
                        "United States"
                      ],
                      "xaxis": "x",
                      "y": [
                        88416529,
                        132383569,
                        1036825000,
                        766833411,
                        161523353,
                        74352631,
                        81448757,
                        89213708,
                        142745000,
                        235825000
                      ],
                      "yaxis": "y"
                    }
                  ],
                  "name": "1984"
                },
                {
                  "data": [
                    {
                      "hovertemplate": "year=1985<br>country=%{x}<br>population=%{y}<extra></extra>",
                      "legendgroup": "",
                      "line": {
                        "color": "#636efa",
                        "dash": "solid"
                      },
                      "marker": {
                        "symbol": "circle"
                      },
                      "mode": "lines",
                      "name": "",
                      "orientation": "v",
                      "showlegend": false,
                      "type": "scatter",
                      "x": [
                        "Bangladesh",
                        "Brazil",
                        "China",
                        "India",
                        "Indonesia",
                        "Mexico",
                        "Nigeria",
                        "Pakistan",
                        "Russian Federation",
                        "United States"
                      ],
                      "xaxis": "x",
                      "y": [
                        90764180,
                        135274083,
                        1051040000,
                        784360012,
                        164982452,
                        75983486,
                        83562776,
                        92191505,
                        143858000,
                        237924000
                      ],
                      "yaxis": "y"
                    }
                  ],
                  "name": "1985"
                },
                {
                  "data": [
                    {
                      "hovertemplate": "year=1986<br>country=%{x}<br>population=%{y}<extra></extra>",
                      "legendgroup": "",
                      "line": {
                        "color": "#636efa",
                        "dash": "solid"
                      },
                      "marker": {
                        "symbol": "circle"
                      },
                      "mode": "lines",
                      "name": "",
                      "orientation": "v",
                      "showlegend": false,
                      "type": "scatter",
                      "x": [
                        "Bangladesh",
                        "Brazil",
                        "China",
                        "India",
                        "Indonesia",
                        "Mexico",
                        "Nigeria",
                        "Pakistan",
                        "Russian Federation",
                        "United States"
                      ],
                      "xaxis": "x",
                      "y": [
                        93187593,
                        138108915,
                        1066790000,
                        801975250,
                        168374287,
                        77599105,
                        85766396,
                        95215375,
                        144894000,
                        240133000
                      ],
                      "yaxis": "y"
                    }
                  ],
                  "name": "1986"
                },
                {
                  "data": [
                    {
                      "hovertemplate": "year=1987<br>country=%{x}<br>population=%{y}<extra></extra>",
                      "legendgroup": "",
                      "line": {
                        "color": "#636efa",
                        "dash": "solid"
                      },
                      "marker": {
                        "symbol": "circle"
                      },
                      "mode": "lines",
                      "name": "",
                      "orientation": "v",
                      "showlegend": false,
                      "type": "scatter",
                      "x": [
                        "Bangladesh",
                        "Brazil",
                        "China",
                        "India",
                        "Indonesia",
                        "Mexico",
                        "Nigeria",
                        "Pakistan",
                        "Russian Federation",
                        "United States"
                      ],
                      "xaxis": "x",
                      "y": [
                        95671159,
                        140891606,
                        1084035000,
                        819682095,
                        171702756,
                        79200081,
                        88048029,
                        98285762,
                        145908000,
                        242289000
                      ],
                      "yaxis": "y"
                    }
                  ],
                  "name": "1987"
                },
                {
                  "data": [
                    {
                      "hovertemplate": "year=1988<br>country=%{x}<br>population=%{y}<extra></extra>",
                      "legendgroup": "",
                      "line": {
                        "color": "#636efa",
                        "dash": "solid"
                      },
                      "marker": {
                        "symbol": "circle"
                      },
                      "mode": "lines",
                      "name": "",
                      "orientation": "v",
                      "showlegend": false,
                      "type": "scatter",
                      "x": [
                        "Bangladesh",
                        "Brazil",
                        "China",
                        "India",
                        "Indonesia",
                        "Mexico",
                        "Nigeria",
                        "Pakistan",
                        "Russian Federation",
                        "United States"
                      ],
                      "xaxis": "x",
                      "y": [
                        98186350,
                        143627505,
                        1101630000,
                        837468938,
                        174975953,
                        80788725,
                        90395278,
                        101389603,
                        146857000,
                        244499000
                      ],
                      "yaxis": "y"
                    }
                  ],
                  "name": "1988"
                },
                {
                  "data": [
                    {
                      "hovertemplate": "year=1989<br>country=%{x}<br>population=%{y}<extra></extra>",
                      "legendgroup": "",
                      "line": {
                        "color": "#636efa",
                        "dash": "solid"
                      },
                      "marker": {
                        "symbol": "circle"
                      },
                      "mode": "lines",
                      "name": "",
                      "orientation": "v",
                      "showlegend": false,
                      "type": "scatter",
                      "x": [
                        "Bangladesh",
                        "Brazil",
                        "China",
                        "India",
                        "Indonesia",
                        "Mexico",
                        "Nigeria",
                        "Pakistan",
                        "Russian Federation",
                        "United States"
                      ],
                      "xaxis": "x",
                      "y": [
                        100695496,
                        146328305,
                        1118650000,
                        855334675,
                        178209147,
                        82368930,
                        92788039,
                        104512874,
                        147721000,
                        246819000
                      ],
                      "yaxis": "y"
                    }
                  ],
                  "name": "1989"
                },
                {
                  "data": [
                    {
                      "hovertemplate": "year=1990<br>country=%{x}<br>population=%{y}<extra></extra>",
                      "legendgroup": "",
                      "line": {
                        "color": "#636efa",
                        "dash": "solid"
                      },
                      "marker": {
                        "symbol": "circle"
                      },
                      "mode": "lines",
                      "name": "",
                      "orientation": "v",
                      "showlegend": false,
                      "type": "scatter",
                      "x": [
                        "Bangladesh",
                        "Brazil",
                        "China",
                        "India",
                        "Indonesia",
                        "Mexico",
                        "Nigeria",
                        "Pakistan",
                        "Russian Federation",
                        "United States"
                      ],
                      "xaxis": "x",
                      "y": [
                        103171957,
                        149003225,
                        1135185000,
                        873277799,
                        181413398,
                        83943135,
                        95212454,
                        107647918,
                        147969407,
                        249623000
                      ],
                      "yaxis": "y"
                    }
                  ],
                  "name": "1990"
                },
                {
                  "data": [
                    {
                      "hovertemplate": "year=1991<br>country=%{x}<br>population=%{y}<extra></extra>",
                      "legendgroup": "",
                      "line": {
                        "color": "#636efa",
                        "dash": "solid"
                      },
                      "marker": {
                        "symbol": "circle"
                      },
                      "mode": "lines",
                      "name": "",
                      "orientation": "v",
                      "showlegend": false,
                      "type": "scatter",
                      "x": [
                        "Bangladesh",
                        "Brazil",
                        "China",
                        "India",
                        "Indonesia",
                        "Mexico",
                        "Nigeria",
                        "Pakistan",
                        "Russian Federation",
                        "United States"
                      ],
                      "xaxis": "x",
                      "y": [
                        105599125,
                        151648007,
                        1150780000,
                        891273202,
                        184591897,
                        85512621,
                        97667632,
                        110778655,
                        148394216,
                        252981000
                      ],
                      "yaxis": "y"
                    }
                  ],
                  "name": "1991"
                },
                {
                  "data": [
                    {
                      "hovertemplate": "year=1992<br>country=%{x}<br>population=%{y}<extra></extra>",
                      "legendgroup": "",
                      "line": {
                        "color": "#636efa",
                        "dash": "solid"
                      },
                      "marker": {
                        "symbol": "circle"
                      },
                      "mode": "lines",
                      "name": "",
                      "orientation": "v",
                      "showlegend": false,
                      "type": "scatter",
                      "x": [
                        "Bangladesh",
                        "Brazil",
                        "China",
                        "India",
                        "Indonesia",
                        "Mexico",
                        "Nigeria",
                        "Pakistan",
                        "Russian Federation",
                        "United States"
                      ],
                      "xaxis": "x",
                      "y": [
                        107983708,
                        154259382,
                        1164970000,
                        909307018,
                        187739786,
                        87075136,
                        100161708,
                        113911126,
                        148538197,
                        256514000
                      ],
                      "yaxis": "y"
                    }
                  ],
                  "name": "1992"
                },
                {
                  "data": [
                    {
                      "hovertemplate": "year=1993<br>country=%{x}<br>population=%{y}<extra></extra>",
                      "legendgroup": "",
                      "line": {
                        "color": "#636efa",
                        "dash": "solid"
                      },
                      "marker": {
                        "symbol": "circle"
                      },
                      "mode": "lines",
                      "name": "",
                      "orientation": "v",
                      "showlegend": false,
                      "type": "scatter",
                      "x": [
                        "Bangladesh",
                        "Brazil",
                        "China",
                        "India",
                        "Indonesia",
                        "Mexico",
                        "Nigeria",
                        "Pakistan",
                        "Russian Federation",
                        "United States"
                      ],
                      "xaxis": "x",
                      "y": [
                        110350641,
                        156849086,
                        1178440000,
                        927403866,
                        190851184,
                        88625440,
                        102700751,
                        117086680,
                        148458777,
                        259919000
                      ],
                      "yaxis": "y"
                    }
                  ],
                  "name": "1993"
                },
                {
                  "data": [
                    {
                      "hovertemplate": "year=1994<br>country=%{x}<br>population=%{y}<extra></extra>",
                      "legendgroup": "",
                      "line": {
                        "color": "#636efa",
                        "dash": "solid"
                      },
                      "marker": {
                        "symbol": "circle"
                      },
                      "mode": "lines",
                      "name": "",
                      "orientation": "v",
                      "showlegend": false,
                      "type": "scatter",
                      "x": [
                        "Bangladesh",
                        "Brazil",
                        "China",
                        "India",
                        "Indonesia",
                        "Mexico",
                        "Nigeria",
                        "Pakistan",
                        "Russian Federation",
                        "United States"
                      ],
                      "xaxis": "x",
                      "y": [
                        112737684,
                        159432717,
                        1191835000,
                        945601828,
                        193917458,
                        90156396,
                        105293701,
                        120362764,
                        148407912,
                        263126000
                      ],
                      "yaxis": "y"
                    }
                  ],
                  "name": "1994"
                },
                {
                  "data": [
                    {
                      "hovertemplate": "year=1995<br>country=%{x}<br>population=%{y}<extra></extra>",
                      "legendgroup": "",
                      "line": {
                        "color": "#636efa",
                        "dash": "solid"
                      },
                      "marker": {
                        "symbol": "circle"
                      },
                      "mode": "lines",
                      "name": "",
                      "orientation": "v",
                      "showlegend": false,
                      "type": "scatter",
                      "x": [
                        "Bangladesh",
                        "Brazil",
                        "China",
                        "India",
                        "Indonesia",
                        "Mexico",
                        "Nigeria",
                        "Pakistan",
                        "Russian Federation",
                        "United States"
                      ],
                      "xaxis": "x",
                      "y": [
                        115169933,
                        162019889,
                        1204855000,
                        963922586,
                        196934257,
                        91663290,
                        107948339,
                        123776835,
                        148375787,
                        266278000
                      ],
                      "yaxis": "y"
                    }
                  ],
                  "name": "1995"
                },
                {
                  "data": [
                    {
                      "hovertemplate": "year=1996<br>country=%{x}<br>population=%{y}<extra></extra>",
                      "legendgroup": "",
                      "line": {
                        "color": "#636efa",
                        "dash": "solid"
                      },
                      "marker": {
                        "symbol": "circle"
                      },
                      "mode": "lines",
                      "name": "",
                      "orientation": "v",
                      "showlegend": false,
                      "type": "scatter",
                      "x": [
                        "Bangladesh",
                        "Brazil",
                        "China",
                        "India",
                        "Indonesia",
                        "Mexico",
                        "Nigeria",
                        "Pakistan",
                        "Russian Federation",
                        "United States"
                      ],
                      "xaxis": "x",
                      "y": [
                        117649927,
                        164614682,
                        1217550000,
                        982365248,
                        199901231,
                        93147045,
                        110668784,
                        127349293,
                        148160129,
                        269394000
                      ],
                      "yaxis": "y"
                    }
                  ],
                  "name": "1996"
                },
                {
                  "data": [
                    {
                      "hovertemplate": "year=1997<br>country=%{x}<br>population=%{y}<extra></extra>",
                      "legendgroup": "",
                      "line": {
                        "color": "#636efa",
                        "dash": "solid"
                      },
                      "marker": {
                        "symbol": "circle"
                      },
                      "mode": "lines",
                      "name": "",
                      "orientation": "v",
                      "showlegend": false,
                      "type": "scatter",
                      "x": [
                        "Bangladesh",
                        "Brazil",
                        "China",
                        "India",
                        "Indonesia",
                        "Mexico",
                        "Nigeria",
                        "Pakistan",
                        "Russian Federation",
                        "United States"
                      ],
                      "xaxis": "x",
                      "y": [
                        120160571,
                        167209046,
                        1230075000,
                        1000900028,
                        202826444,
                        94611008,
                        113457661,
                        131057432,
                        147915361,
                        272657000
                      ],
                      "yaxis": "y"
                    }
                  ],
                  "name": "1997"
                },
                {
                  "data": [
                    {
                      "hovertemplate": "year=1998<br>country=%{x}<br>population=%{y}<extra></extra>",
                      "legendgroup": "",
                      "line": {
                        "color": "#636efa",
                        "dash": "solid"
                      },
                      "marker": {
                        "symbol": "circle"
                      },
                      "mode": "lines",
                      "name": "",
                      "orientation": "v",
                      "showlegend": false,
                      "type": "scatter",
                      "x": [
                        "Bangladesh",
                        "Brazil",
                        "China",
                        "India",
                        "Indonesia",
                        "Mexico",
                        "Nigeria",
                        "Pakistan",
                        "Russian Federation",
                        "United States"
                      ],
                      "xaxis": "x",
                      "y": [
                        122682818,
                        169785253,
                        1241935000,
                        1019483586,
                        205724597,
                        96056313,
                        116319763,
                        134843233,
                        147670784,
                        275854000
                      ],
                      "yaxis": "y"
                    }
                  ],
                  "name": "1998"
                },
                {
                  "data": [
                    {
                      "hovertemplate": "year=1999<br>country=%{x}<br>population=%{y}<extra></extra>",
                      "legendgroup": "",
                      "line": {
                        "color": "#636efa",
                        "dash": "solid"
                      },
                      "marker": {
                        "symbol": "circle"
                      },
                      "mode": "lines",
                      "name": "",
                      "orientation": "v",
                      "showlegend": false,
                      "type": "scatter",
                      "x": [
                        "Bangladesh",
                        "Brazil",
                        "China",
                        "India",
                        "Indonesia",
                        "Mexico",
                        "Nigeria",
                        "Pakistan",
                        "Russian Federation",
                        "United States"
                      ],
                      "xaxis": "x",
                      "y": [
                        125189655,
                        172318674,
                        1252735000,
                        1038058154,
                        208615171,
                        97484823,
                        119260055,
                        138624625,
                        147214776,
                        279040000
                      ],
                      "yaxis": "y"
                    }
                  ],
                  "name": "1999"
                },
                {
                  "data": [
                    {
                      "hovertemplate": "year=2000<br>country=%{x}<br>population=%{y}<extra></extra>",
                      "legendgroup": "",
                      "line": {
                        "color": "#636efa",
                        "dash": "solid"
                      },
                      "marker": {
                        "symbol": "circle"
                      },
                      "mode": "lines",
                      "name": "",
                      "orientation": "v",
                      "showlegend": false,
                      "type": "scatter",
                      "x": [
                        "Bangladesh",
                        "Brazil",
                        "China",
                        "India",
                        "Indonesia",
                        "Mexico",
                        "Nigeria",
                        "Pakistan",
                        "Russian Federation",
                        "United States"
                      ],
                      "xaxis": "x",
                      "y": [
                        127657862,
                        174790339,
                        1262645000,
                        1056575548,
                        211513822,
                        98899845,
                        122283853,
                        142343583,
                        146596869,
                        282162411
                      ],
                      "yaxis": "y"
                    }
                  ],
                  "name": "2000"
                },
                {
                  "data": [
                    {
                      "hovertemplate": "year=2001<br>country=%{x}<br>population=%{y}<extra></extra>",
                      "legendgroup": "",
                      "line": {
                        "color": "#636efa",
                        "dash": "solid"
                      },
                      "marker": {
                        "symbol": "circle"
                      },
                      "mode": "lines",
                      "name": "",
                      "orientation": "v",
                      "showlegend": false,
                      "type": "scatter",
                      "x": [
                        "Bangladesh",
                        "Brazil",
                        "China",
                        "India",
                        "Indonesia",
                        "Mexico",
                        "Nigeria",
                        "Pakistan",
                        "Russian Federation",
                        "United States"
                      ],
                      "xaxis": "x",
                      "y": [
                        130088709,
                        177196051,
                        1271850000,
                        1075000094,
                        214427419,
                        100298152,
                        125394046,
                        145978408,
                        145976482,
                        284968955
                      ],
                      "yaxis": "y"
                    }
                  ],
                  "name": "2001"
                },
                {
                  "data": [
                    {
                      "hovertemplate": "year=2002<br>country=%{x}<br>population=%{y}<extra></extra>",
                      "legendgroup": "",
                      "line": {
                        "color": "#636efa",
                        "dash": "solid"
                      },
                      "marker": {
                        "symbol": "circle"
                      },
                      "mode": "lines",
                      "name": "",
                      "orientation": "v",
                      "showlegend": false,
                      "type": "scatter",
                      "x": [
                        "Bangladesh",
                        "Brazil",
                        "China",
                        "India",
                        "Indonesia",
                        "Mexico",
                        "Nigeria",
                        "Pakistan",
                        "Russian Federation",
                        "United States"
                      ],
                      "xaxis": "x",
                      "y": [
                        132478077,
                        179537523,
                        1280400000,
                        1093317187,
                        217357790,
                        101684764,
                        128596079,
                        149549695,
                        145306497,
                        287625193
                      ],
                      "yaxis": "y"
                    }
                  ],
                  "name": "2002"
                },
                {
                  "data": [
                    {
                      "hovertemplate": "year=2003<br>country=%{x}<br>population=%{y}<extra></extra>",
                      "legendgroup": "",
                      "line": {
                        "color": "#636efa",
                        "dash": "solid"
                      },
                      "marker": {
                        "symbol": "circle"
                      },
                      "mode": "lines",
                      "name": "",
                      "orientation": "v",
                      "showlegend": false,
                      "type": "scatter",
                      "x": [
                        "Bangladesh",
                        "Brazil",
                        "China",
                        "India",
                        "Indonesia",
                        "Mexico",
                        "Nigeria",
                        "Pakistan",
                        "Russian Federation",
                        "United States"
                      ],
                      "xaxis": "x",
                      "y": [
                        134791598,
                        181809244,
                        1288400000,
                        1111523146,
                        220309473,
                        103081020,
                        131900634,
                        153093371,
                        144648618,
                        290107933
                      ],
                      "yaxis": "y"
                    }
                  ],
                  "name": "2003"
                },
                {
                  "data": [
                    {
                      "hovertemplate": "year=2004<br>country=%{x}<br>population=%{y}<extra></extra>",
                      "legendgroup": "",
                      "line": {
                        "color": "#636efa",
                        "dash": "solid"
                      },
                      "marker": {
                        "symbol": "circle"
                      },
                      "mode": "lines",
                      "name": "",
                      "orientation": "v",
                      "showlegend": false,
                      "type": "scatter",
                      "x": [
                        "Bangladesh",
                        "Brazil",
                        "China",
                        "India",
                        "Indonesia",
                        "Mexico",
                        "Nigeria",
                        "Pakistan",
                        "Russian Federation",
                        "United States"
                      ],
                      "xaxis": "x",
                      "y": [
                        136986429,
                        184006479,
                        1296075000,
                        1129623466,
                        223285666,
                        104514934,
                        135320420,
                        156664698,
                        144067316,
                        292805298
                      ],
                      "yaxis": "y"
                    }
                  ],
                  "name": "2004"
                },
                {
                  "data": [
                    {
                      "hovertemplate": "year=2005<br>country=%{x}<br>population=%{y}<extra></extra>",
                      "legendgroup": "",
                      "line": {
                        "color": "#636efa",
                        "dash": "solid"
                      },
                      "marker": {
                        "symbol": "circle"
                      },
                      "mode": "lines",
                      "name": "",
                      "orientation": "v",
                      "showlegend": false,
                      "type": "scatter",
                      "x": [
                        "Bangladesh",
                        "Brazil",
                        "China",
                        "India",
                        "Indonesia",
                        "Mexico",
                        "Nigeria",
                        "Pakistan",
                        "Russian Federation",
                        "United States"
                      ],
                      "xaxis": "x",
                      "y": [
                        139035505,
                        186127108,
                        1303720000,
                        1147609924,
                        226289468,
                        106005199,
                        138865014,
                        160304007,
                        143518814,
                        295516599
                      ],
                      "yaxis": "y"
                    }
                  ],
                  "name": "2005"
                },
                {
                  "data": [
                    {
                      "hovertemplate": "year=2006<br>country=%{x}<br>population=%{y}<extra></extra>",
                      "legendgroup": "",
                      "line": {
                        "color": "#636efa",
                        "dash": "solid"
                      },
                      "marker": {
                        "symbol": "circle"
                      },
                      "mode": "lines",
                      "name": "",
                      "orientation": "v",
                      "showlegend": false,
                      "type": "scatter",
                      "x": [
                        "Bangladesh",
                        "Brazil",
                        "China",
                        "India",
                        "Indonesia",
                        "Mexico",
                        "Nigeria",
                        "Pakistan",
                        "Russian Federation",
                        "United States"
                      ],
                      "xaxis": "x",
                      "y": [
                        140921154,
                        188167353,
                        1311020000,
                        1165486291,
                        229318262,
                        107560155,
                        142538305,
                        164022626,
                        143049637,
                        298379912
                      ],
                      "yaxis": "y"
                    }
                  ],
                  "name": "2006"
                },
                {
                  "data": [
                    {
                      "hovertemplate": "year=2007<br>country=%{x}<br>population=%{y}<extra></extra>",
                      "legendgroup": "",
                      "line": {
                        "color": "#636efa",
                        "dash": "solid"
                      },
                      "marker": {
                        "symbol": "circle"
                      },
                      "mode": "lines",
                      "name": "",
                      "orientation": "v",
                      "showlegend": false,
                      "type": "scatter",
                      "x": [
                        "Bangladesh",
                        "Brazil",
                        "China",
                        "India",
                        "Indonesia",
                        "Mexico",
                        "Nigeria",
                        "Pakistan",
                        "Russian Federation",
                        "United States"
                      ],
                      "xaxis": "x",
                      "y": [
                        142660381,
                        190130445,
                        1317885000,
                        1183209471,
                        232374239,
                        109170503,
                        146339971,
                        167808106,
                        142805114,
                        301231207
                      ],
                      "yaxis": "y"
                    }
                  ],
                  "name": "2007"
                },
                {
                  "data": [
                    {
                      "hovertemplate": "year=2008<br>country=%{x}<br>population=%{y}<extra></extra>",
                      "legendgroup": "",
                      "line": {
                        "color": "#636efa",
                        "dash": "solid"
                      },
                      "marker": {
                        "symbol": "circle"
                      },
                      "mode": "lines",
                      "name": "",
                      "orientation": "v",
                      "showlegend": false,
                      "type": "scatter",
                      "x": [
                        "Bangladesh",
                        "Brazil",
                        "China",
                        "India",
                        "Indonesia",
                        "Mexico",
                        "Nigeria",
                        "Pakistan",
                        "Russian Federation",
                        "United States"
                      ],
                      "xaxis": "x",
                      "y": [
                        144304164,
                        192030362,
                        1324655000,
                        1200669762,
                        235469755,
                        110815272,
                        150269622,
                        171648984,
                        142742366,
                        304093966
                      ],
                      "yaxis": "y"
                    }
                  ],
                  "name": "2008"
                },
                {
                  "data": [
                    {
                      "hovertemplate": "year=2009<br>country=%{x}<br>population=%{y}<extra></extra>",
                      "legendgroup": "",
                      "line": {
                        "color": "#636efa",
                        "dash": "solid"
                      },
                      "marker": {
                        "symbol": "circle"
                      },
                      "mode": "lines",
                      "name": "",
                      "orientation": "v",
                      "showlegend": false,
                      "type": "scatter",
                      "x": [
                        "Bangladesh",
                        "Brazil",
                        "China",
                        "India",
                        "Indonesia",
                        "Mexico",
                        "Nigeria",
                        "Pakistan",
                        "Russian Federation",
                        "United States"
                      ],
                      "xaxis": "x",
                      "y": [
                        145924795,
                        193886505,
                        1331260000,
                        1217726217,
                        238620554,
                        112463886,
                        154324939,
                        175525610,
                        142785349,
                        306771529
                      ],
                      "yaxis": "y"
                    }
                  ],
                  "name": "2009"
                },
                {
                  "data": [
                    {
                      "hovertemplate": "year=2010<br>country=%{x}<br>population=%{y}<extra></extra>",
                      "legendgroup": "",
                      "line": {
                        "color": "#636efa",
                        "dash": "solid"
                      },
                      "marker": {
                        "symbol": "circle"
                      },
                      "mode": "lines",
                      "name": "",
                      "orientation": "v",
                      "showlegend": false,
                      "type": "scatter",
                      "x": [
                        "Bangladesh",
                        "Brazil",
                        "China",
                        "India",
                        "Indonesia",
                        "Mexico",
                        "Nigeria",
                        "Pakistan",
                        "Russian Federation",
                        "United States"
                      ],
                      "xaxis": "x",
                      "y": [
                        147575433,
                        195713637,
                        1337705000,
                        1234281163,
                        241834226,
                        114092961,
                        158503203,
                        179424643,
                        142849468,
                        309327143
                      ],
                      "yaxis": "y"
                    }
                  ],
                  "name": "2010"
                },
                {
                  "data": [
                    {
                      "hovertemplate": "year=2011<br>country=%{x}<br>population=%{y}<extra></extra>",
                      "legendgroup": "",
                      "line": {
                        "color": "#636efa",
                        "dash": "solid"
                      },
                      "marker": {
                        "symbol": "circle"
                      },
                      "mode": "lines",
                      "name": "",
                      "orientation": "v",
                      "showlegend": false,
                      "type": "scatter",
                      "x": [
                        "Bangladesh",
                        "Brazil",
                        "China",
                        "India",
                        "Indonesia",
                        "Mexico",
                        "Nigeria",
                        "Pakistan",
                        "Russian Federation",
                        "United States"
                      ],
                      "xaxis": "x",
                      "y": [
                        149273134,
                        197514541,
                        1344130000,
                        1250287939,
                        245115988,
                        115695468,
                        162805080,
                        183340168,
                        142960908,
                        311583481
                      ],
                      "yaxis": "y"
                    }
                  ],
                  "name": "2011"
                },
                {
                  "data": [
                    {
                      "hovertemplate": "year=2012<br>country=%{x}<br>population=%{y}<extra></extra>",
                      "legendgroup": "",
                      "line": {
                        "color": "#636efa",
                        "dash": "solid"
                      },
                      "marker": {
                        "symbol": "circle"
                      },
                      "mode": "lines",
                      "name": "",
                      "orientation": "v",
                      "showlegend": false,
                      "type": "scatter",
                      "x": [
                        "Bangladesh",
                        "Brazil",
                        "China",
                        "India",
                        "Indonesia",
                        "Mexico",
                        "Nigeria",
                        "Pakistan",
                        "Russian Federation",
                        "United States"
                      ],
                      "xaxis": "x",
                      "y": [
                        151005733,
                        199287292,
                        1350695000,
                        1265780243,
                        248451714,
                        117274156,
                        167228803,
                        187280125,
                        143201721,
                        313877662
                      ],
                      "yaxis": "y"
                    }
                  ],
                  "name": "2012"
                },
                {
                  "data": [
                    {
                      "hovertemplate": "year=2013<br>country=%{x}<br>population=%{y}<extra></extra>",
                      "legendgroup": "",
                      "line": {
                        "color": "#636efa",
                        "dash": "solid"
                      },
                      "marker": {
                        "symbol": "circle"
                      },
                      "mode": "lines",
                      "name": "",
                      "orientation": "v",
                      "showlegend": false,
                      "type": "scatter",
                      "x": [
                        "Bangladesh",
                        "Brazil",
                        "China",
                        "India",
                        "Indonesia",
                        "Mexico",
                        "Nigeria",
                        "Pakistan",
                        "Russian Federation",
                        "United States"
                      ],
                      "xaxis": "x",
                      "y": [
                        152761413,
                        201035904,
                        1357380000,
                        1280842119,
                        251805314,
                        118827158,
                        171765819,
                        191260799,
                        143506995,
                        316059947
                      ],
                      "yaxis": "y"
                    }
                  ],
                  "name": "2013"
                },
                {
                  "data": [
                    {
                      "hovertemplate": "year=2014<br>country=%{x}<br>population=%{y}<extra></extra>",
                      "legendgroup": "",
                      "line": {
                        "color": "#636efa",
                        "dash": "solid"
                      },
                      "marker": {
                        "symbol": "circle"
                      },
                      "mode": "lines",
                      "name": "",
                      "orientation": "v",
                      "showlegend": false,
                      "type": "scatter",
                      "x": [
                        "Bangladesh",
                        "Brazil",
                        "China",
                        "India",
                        "Indonesia",
                        "Mexico",
                        "Nigeria",
                        "Pakistan",
                        "Russian Federation",
                        "United States"
                      ],
                      "xaxis": "x",
                      "y": [
                        154517385,
                        202763744,
                        1364270000,
                        1295600768,
                        255128076,
                        120355137,
                        176404931,
                        195305012,
                        143819667,
                        318386329
                      ],
                      "yaxis": "y"
                    }
                  ],
                  "name": "2014"
                },
                {
                  "data": [
                    {
                      "hovertemplate": "year=2015<br>country=%{x}<br>population=%{y}<extra></extra>",
                      "legendgroup": "",
                      "line": {
                        "color": "#636efa",
                        "dash": "solid"
                      },
                      "marker": {
                        "symbol": "circle"
                      },
                      "mode": "lines",
                      "name": "",
                      "orientation": "v",
                      "showlegend": false,
                      "type": "scatter",
                      "x": [
                        "Bangladesh",
                        "Brazil",
                        "China",
                        "India",
                        "Indonesia",
                        "Mexico",
                        "Nigeria",
                        "Pakistan",
                        "Russian Federation",
                        "United States"
                      ],
                      "xaxis": "x",
                      "y": [
                        156256287,
                        204471759,
                        1371220000,
                        1310152392,
                        258383257,
                        121858251,
                        181137454,
                        199426953,
                        144096870,
                        320738994
                      ],
                      "yaxis": "y"
                    }
                  ],
                  "name": "2015"
                },
                {
                  "data": [
                    {
                      "hovertemplate": "year=2016<br>country=%{x}<br>population=%{y}<extra></extra>",
                      "legendgroup": "",
                      "line": {
                        "color": "#636efa",
                        "dash": "solid"
                      },
                      "marker": {
                        "symbol": "circle"
                      },
                      "mode": "lines",
                      "name": "",
                      "orientation": "v",
                      "showlegend": false,
                      "type": "scatter",
                      "x": [
                        "Bangladesh",
                        "Brazil",
                        "China",
                        "India",
                        "Indonesia",
                        "Mexico",
                        "Nigeria",
                        "Pakistan",
                        "Russian Federation",
                        "United States"
                      ],
                      "xaxis": "x",
                      "y": [
                        157977151,
                        206163056,
                        1378665000,
                        1324517250,
                        261556386,
                        123333379,
                        185960244,
                        203631356,
                        144342397,
                        323071755
                      ],
                      "yaxis": "y"
                    }
                  ],
                  "name": "2016"
                },
                {
                  "data": [
                    {
                      "hovertemplate": "year=2017<br>country=%{x}<br>population=%{y}<extra></extra>",
                      "legendgroup": "",
                      "line": {
                        "color": "#636efa",
                        "dash": "solid"
                      },
                      "marker": {
                        "symbol": "circle"
                      },
                      "mode": "lines",
                      "name": "",
                      "orientation": "v",
                      "showlegend": false,
                      "type": "scatter",
                      "x": [
                        "Bangladesh",
                        "Brazil",
                        "China",
                        "India",
                        "Indonesia",
                        "Mexico",
                        "Nigeria",
                        "Pakistan",
                        "Russian Federation",
                        "United States"
                      ],
                      "xaxis": "x",
                      "y": [
                        159685421,
                        207833825,
                        1386395000,
                        1338676779,
                        264650969,
                        124777326,
                        190873247,
                        207906210,
                        144496739,
                        325122128
                      ],
                      "yaxis": "y"
                    }
                  ],
                  "name": "2017"
                },
                {
                  "data": [
                    {
                      "hovertemplate": "year=2018<br>country=%{x}<br>population=%{y}<extra></extra>",
                      "legendgroup": "",
                      "line": {
                        "color": "#636efa",
                        "dash": "solid"
                      },
                      "marker": {
                        "symbol": "circle"
                      },
                      "mode": "lines",
                      "name": "",
                      "orientation": "v",
                      "showlegend": false,
                      "type": "scatter",
                      "x": [
                        "Bangladesh",
                        "Brazil",
                        "China",
                        "India",
                        "Indonesia",
                        "Mexico",
                        "Nigeria",
                        "Pakistan",
                        "Russian Federation",
                        "United States"
                      ],
                      "xaxis": "x",
                      "y": [
                        161376713,
                        209469320,
                        1392730000,
                        1352642283,
                        267670549,
                        126190782,
                        195874685,
                        212228288,
                        144477859,
                        326838199
                      ],
                      "yaxis": "y"
                    }
                  ],
                  "name": "2018"
                },
                {
                  "data": [
                    {
                      "hovertemplate": "year=2019<br>country=%{x}<br>population=%{y}<extra></extra>",
                      "legendgroup": "",
                      "line": {
                        "color": "#636efa",
                        "dash": "solid"
                      },
                      "marker": {
                        "symbol": "circle"
                      },
                      "mode": "lines",
                      "name": "",
                      "orientation": "v",
                      "showlegend": false,
                      "type": "scatter",
                      "x": [
                        "Bangladesh",
                        "Brazil",
                        "China",
                        "India",
                        "Indonesia",
                        "Mexico",
                        "Nigeria",
                        "Pakistan",
                        "Russian Federation",
                        "United States"
                      ],
                      "xaxis": "x",
                      "y": [
                        163046173,
                        211049519,
                        1397715000,
                        1366417756,
                        270625567,
                        127575529,
                        200963603,
                        216565317,
                        144406261,
                        328329953
                      ],
                      "yaxis": "y"
                    }
                  ],
                  "name": "2019"
                },
                {
                  "data": [
                    {
                      "hovertemplate": "year=2020<br>country=%{x}<br>population=%{y}<extra></extra>",
                      "legendgroup": "",
                      "line": {
                        "color": "#636efa",
                        "dash": "solid"
                      },
                      "marker": {
                        "symbol": "circle"
                      },
                      "mode": "lines",
                      "name": "",
                      "orientation": "v",
                      "showlegend": false,
                      "type": "scatter",
                      "x": [
                        "Bangladesh",
                        "Brazil",
                        "China",
                        "India",
                        "Indonesia",
                        "Mexico",
                        "Nigeria",
                        "Pakistan",
                        "Russian Federation",
                        "United States"
                      ],
                      "xaxis": "x",
                      "y": [
                        164689383,
                        212559409,
                        1402112000,
                        1380004385,
                        273523621,
                        128932753,
                        206139587,
                        220892331,
                        144104080,
                        329484123
                      ],
                      "yaxis": "y"
                    }
                  ],
                  "name": "2020"
                }
              ],
              "layout": {
                "legend": {
                  "tracegroupgap": 0
                },
                "sliders": [
                  {
                    "active": 0,
                    "currentvalue": {
                      "prefix": "year="
                    },
                    "len": 0.9,
                    "pad": {
                      "b": 10,
                      "t": 60
                    },
                    "steps": [
                      {
                        "args": [
                          [
                            "1960"
                          ],
                          {
                            "frame": {
                              "duration": 0,
                              "redraw": false
                            },
                            "fromcurrent": true,
                            "mode": "immediate",
                            "transition": {
                              "duration": 0,
                              "easing": "linear"
                            }
                          }
                        ],
                        "label": "1960",
                        "method": "animate"
                      },
                      {
                        "args": [
                          [
                            "1961"
                          ],
                          {
                            "frame": {
                              "duration": 0,
                              "redraw": false
                            },
                            "fromcurrent": true,
                            "mode": "immediate",
                            "transition": {
                              "duration": 0,
                              "easing": "linear"
                            }
                          }
                        ],
                        "label": "1961",
                        "method": "animate"
                      },
                      {
                        "args": [
                          [
                            "1962"
                          ],
                          {
                            "frame": {
                              "duration": 0,
                              "redraw": false
                            },
                            "fromcurrent": true,
                            "mode": "immediate",
                            "transition": {
                              "duration": 0,
                              "easing": "linear"
                            }
                          }
                        ],
                        "label": "1962",
                        "method": "animate"
                      },
                      {
                        "args": [
                          [
                            "1963"
                          ],
                          {
                            "frame": {
                              "duration": 0,
                              "redraw": false
                            },
                            "fromcurrent": true,
                            "mode": "immediate",
                            "transition": {
                              "duration": 0,
                              "easing": "linear"
                            }
                          }
                        ],
                        "label": "1963",
                        "method": "animate"
                      },
                      {
                        "args": [
                          [
                            "1964"
                          ],
                          {
                            "frame": {
                              "duration": 0,
                              "redraw": false
                            },
                            "fromcurrent": true,
                            "mode": "immediate",
                            "transition": {
                              "duration": 0,
                              "easing": "linear"
                            }
                          }
                        ],
                        "label": "1964",
                        "method": "animate"
                      },
                      {
                        "args": [
                          [
                            "1965"
                          ],
                          {
                            "frame": {
                              "duration": 0,
                              "redraw": false
                            },
                            "fromcurrent": true,
                            "mode": "immediate",
                            "transition": {
                              "duration": 0,
                              "easing": "linear"
                            }
                          }
                        ],
                        "label": "1965",
                        "method": "animate"
                      },
                      {
                        "args": [
                          [
                            "1966"
                          ],
                          {
                            "frame": {
                              "duration": 0,
                              "redraw": false
                            },
                            "fromcurrent": true,
                            "mode": "immediate",
                            "transition": {
                              "duration": 0,
                              "easing": "linear"
                            }
                          }
                        ],
                        "label": "1966",
                        "method": "animate"
                      },
                      {
                        "args": [
                          [
                            "1967"
                          ],
                          {
                            "frame": {
                              "duration": 0,
                              "redraw": false
                            },
                            "fromcurrent": true,
                            "mode": "immediate",
                            "transition": {
                              "duration": 0,
                              "easing": "linear"
                            }
                          }
                        ],
                        "label": "1967",
                        "method": "animate"
                      },
                      {
                        "args": [
                          [
                            "1968"
                          ],
                          {
                            "frame": {
                              "duration": 0,
                              "redraw": false
                            },
                            "fromcurrent": true,
                            "mode": "immediate",
                            "transition": {
                              "duration": 0,
                              "easing": "linear"
                            }
                          }
                        ],
                        "label": "1968",
                        "method": "animate"
                      },
                      {
                        "args": [
                          [
                            "1969"
                          ],
                          {
                            "frame": {
                              "duration": 0,
                              "redraw": false
                            },
                            "fromcurrent": true,
                            "mode": "immediate",
                            "transition": {
                              "duration": 0,
                              "easing": "linear"
                            }
                          }
                        ],
                        "label": "1969",
                        "method": "animate"
                      },
                      {
                        "args": [
                          [
                            "1970"
                          ],
                          {
                            "frame": {
                              "duration": 0,
                              "redraw": false
                            },
                            "fromcurrent": true,
                            "mode": "immediate",
                            "transition": {
                              "duration": 0,
                              "easing": "linear"
                            }
                          }
                        ],
                        "label": "1970",
                        "method": "animate"
                      },
                      {
                        "args": [
                          [
                            "1971"
                          ],
                          {
                            "frame": {
                              "duration": 0,
                              "redraw": false
                            },
                            "fromcurrent": true,
                            "mode": "immediate",
                            "transition": {
                              "duration": 0,
                              "easing": "linear"
                            }
                          }
                        ],
                        "label": "1971",
                        "method": "animate"
                      },
                      {
                        "args": [
                          [
                            "1972"
                          ],
                          {
                            "frame": {
                              "duration": 0,
                              "redraw": false
                            },
                            "fromcurrent": true,
                            "mode": "immediate",
                            "transition": {
                              "duration": 0,
                              "easing": "linear"
                            }
                          }
                        ],
                        "label": "1972",
                        "method": "animate"
                      },
                      {
                        "args": [
                          [
                            "1973"
                          ],
                          {
                            "frame": {
                              "duration": 0,
                              "redraw": false
                            },
                            "fromcurrent": true,
                            "mode": "immediate",
                            "transition": {
                              "duration": 0,
                              "easing": "linear"
                            }
                          }
                        ],
                        "label": "1973",
                        "method": "animate"
                      },
                      {
                        "args": [
                          [
                            "1974"
                          ],
                          {
                            "frame": {
                              "duration": 0,
                              "redraw": false
                            },
                            "fromcurrent": true,
                            "mode": "immediate",
                            "transition": {
                              "duration": 0,
                              "easing": "linear"
                            }
                          }
                        ],
                        "label": "1974",
                        "method": "animate"
                      },
                      {
                        "args": [
                          [
                            "1975"
                          ],
                          {
                            "frame": {
                              "duration": 0,
                              "redraw": false
                            },
                            "fromcurrent": true,
                            "mode": "immediate",
                            "transition": {
                              "duration": 0,
                              "easing": "linear"
                            }
                          }
                        ],
                        "label": "1975",
                        "method": "animate"
                      },
                      {
                        "args": [
                          [
                            "1976"
                          ],
                          {
                            "frame": {
                              "duration": 0,
                              "redraw": false
                            },
                            "fromcurrent": true,
                            "mode": "immediate",
                            "transition": {
                              "duration": 0,
                              "easing": "linear"
                            }
                          }
                        ],
                        "label": "1976",
                        "method": "animate"
                      },
                      {
                        "args": [
                          [
                            "1977"
                          ],
                          {
                            "frame": {
                              "duration": 0,
                              "redraw": false
                            },
                            "fromcurrent": true,
                            "mode": "immediate",
                            "transition": {
                              "duration": 0,
                              "easing": "linear"
                            }
                          }
                        ],
                        "label": "1977",
                        "method": "animate"
                      },
                      {
                        "args": [
                          [
                            "1978"
                          ],
                          {
                            "frame": {
                              "duration": 0,
                              "redraw": false
                            },
                            "fromcurrent": true,
                            "mode": "immediate",
                            "transition": {
                              "duration": 0,
                              "easing": "linear"
                            }
                          }
                        ],
                        "label": "1978",
                        "method": "animate"
                      },
                      {
                        "args": [
                          [
                            "1979"
                          ],
                          {
                            "frame": {
                              "duration": 0,
                              "redraw": false
                            },
                            "fromcurrent": true,
                            "mode": "immediate",
                            "transition": {
                              "duration": 0,
                              "easing": "linear"
                            }
                          }
                        ],
                        "label": "1979",
                        "method": "animate"
                      },
                      {
                        "args": [
                          [
                            "1980"
                          ],
                          {
                            "frame": {
                              "duration": 0,
                              "redraw": false
                            },
                            "fromcurrent": true,
                            "mode": "immediate",
                            "transition": {
                              "duration": 0,
                              "easing": "linear"
                            }
                          }
                        ],
                        "label": "1980",
                        "method": "animate"
                      },
                      {
                        "args": [
                          [
                            "1981"
                          ],
                          {
                            "frame": {
                              "duration": 0,
                              "redraw": false
                            },
                            "fromcurrent": true,
                            "mode": "immediate",
                            "transition": {
                              "duration": 0,
                              "easing": "linear"
                            }
                          }
                        ],
                        "label": "1981",
                        "method": "animate"
                      },
                      {
                        "args": [
                          [
                            "1982"
                          ],
                          {
                            "frame": {
                              "duration": 0,
                              "redraw": false
                            },
                            "fromcurrent": true,
                            "mode": "immediate",
                            "transition": {
                              "duration": 0,
                              "easing": "linear"
                            }
                          }
                        ],
                        "label": "1982",
                        "method": "animate"
                      },
                      {
                        "args": [
                          [
                            "1983"
                          ],
                          {
                            "frame": {
                              "duration": 0,
                              "redraw": false
                            },
                            "fromcurrent": true,
                            "mode": "immediate",
                            "transition": {
                              "duration": 0,
                              "easing": "linear"
                            }
                          }
                        ],
                        "label": "1983",
                        "method": "animate"
                      },
                      {
                        "args": [
                          [
                            "1984"
                          ],
                          {
                            "frame": {
                              "duration": 0,
                              "redraw": false
                            },
                            "fromcurrent": true,
                            "mode": "immediate",
                            "transition": {
                              "duration": 0,
                              "easing": "linear"
                            }
                          }
                        ],
                        "label": "1984",
                        "method": "animate"
                      },
                      {
                        "args": [
                          [
                            "1985"
                          ],
                          {
                            "frame": {
                              "duration": 0,
                              "redraw": false
                            },
                            "fromcurrent": true,
                            "mode": "immediate",
                            "transition": {
                              "duration": 0,
                              "easing": "linear"
                            }
                          }
                        ],
                        "label": "1985",
                        "method": "animate"
                      },
                      {
                        "args": [
                          [
                            "1986"
                          ],
                          {
                            "frame": {
                              "duration": 0,
                              "redraw": false
                            },
                            "fromcurrent": true,
                            "mode": "immediate",
                            "transition": {
                              "duration": 0,
                              "easing": "linear"
                            }
                          }
                        ],
                        "label": "1986",
                        "method": "animate"
                      },
                      {
                        "args": [
                          [
                            "1987"
                          ],
                          {
                            "frame": {
                              "duration": 0,
                              "redraw": false
                            },
                            "fromcurrent": true,
                            "mode": "immediate",
                            "transition": {
                              "duration": 0,
                              "easing": "linear"
                            }
                          }
                        ],
                        "label": "1987",
                        "method": "animate"
                      },
                      {
                        "args": [
                          [
                            "1988"
                          ],
                          {
                            "frame": {
                              "duration": 0,
                              "redraw": false
                            },
                            "fromcurrent": true,
                            "mode": "immediate",
                            "transition": {
                              "duration": 0,
                              "easing": "linear"
                            }
                          }
                        ],
                        "label": "1988",
                        "method": "animate"
                      },
                      {
                        "args": [
                          [
                            "1989"
                          ],
                          {
                            "frame": {
                              "duration": 0,
                              "redraw": false
                            },
                            "fromcurrent": true,
                            "mode": "immediate",
                            "transition": {
                              "duration": 0,
                              "easing": "linear"
                            }
                          }
                        ],
                        "label": "1989",
                        "method": "animate"
                      },
                      {
                        "args": [
                          [
                            "1990"
                          ],
                          {
                            "frame": {
                              "duration": 0,
                              "redraw": false
                            },
                            "fromcurrent": true,
                            "mode": "immediate",
                            "transition": {
                              "duration": 0,
                              "easing": "linear"
                            }
                          }
                        ],
                        "label": "1990",
                        "method": "animate"
                      },
                      {
                        "args": [
                          [
                            "1991"
                          ],
                          {
                            "frame": {
                              "duration": 0,
                              "redraw": false
                            },
                            "fromcurrent": true,
                            "mode": "immediate",
                            "transition": {
                              "duration": 0,
                              "easing": "linear"
                            }
                          }
                        ],
                        "label": "1991",
                        "method": "animate"
                      },
                      {
                        "args": [
                          [
                            "1992"
                          ],
                          {
                            "frame": {
                              "duration": 0,
                              "redraw": false
                            },
                            "fromcurrent": true,
                            "mode": "immediate",
                            "transition": {
                              "duration": 0,
                              "easing": "linear"
                            }
                          }
                        ],
                        "label": "1992",
                        "method": "animate"
                      },
                      {
                        "args": [
                          [
                            "1993"
                          ],
                          {
                            "frame": {
                              "duration": 0,
                              "redraw": false
                            },
                            "fromcurrent": true,
                            "mode": "immediate",
                            "transition": {
                              "duration": 0,
                              "easing": "linear"
                            }
                          }
                        ],
                        "label": "1993",
                        "method": "animate"
                      },
                      {
                        "args": [
                          [
                            "1994"
                          ],
                          {
                            "frame": {
                              "duration": 0,
                              "redraw": false
                            },
                            "fromcurrent": true,
                            "mode": "immediate",
                            "transition": {
                              "duration": 0,
                              "easing": "linear"
                            }
                          }
                        ],
                        "label": "1994",
                        "method": "animate"
                      },
                      {
                        "args": [
                          [
                            "1995"
                          ],
                          {
                            "frame": {
                              "duration": 0,
                              "redraw": false
                            },
                            "fromcurrent": true,
                            "mode": "immediate",
                            "transition": {
                              "duration": 0,
                              "easing": "linear"
                            }
                          }
                        ],
                        "label": "1995",
                        "method": "animate"
                      },
                      {
                        "args": [
                          [
                            "1996"
                          ],
                          {
                            "frame": {
                              "duration": 0,
                              "redraw": false
                            },
                            "fromcurrent": true,
                            "mode": "immediate",
                            "transition": {
                              "duration": 0,
                              "easing": "linear"
                            }
                          }
                        ],
                        "label": "1996",
                        "method": "animate"
                      },
                      {
                        "args": [
                          [
                            "1997"
                          ],
                          {
                            "frame": {
                              "duration": 0,
                              "redraw": false
                            },
                            "fromcurrent": true,
                            "mode": "immediate",
                            "transition": {
                              "duration": 0,
                              "easing": "linear"
                            }
                          }
                        ],
                        "label": "1997",
                        "method": "animate"
                      },
                      {
                        "args": [
                          [
                            "1998"
                          ],
                          {
                            "frame": {
                              "duration": 0,
                              "redraw": false
                            },
                            "fromcurrent": true,
                            "mode": "immediate",
                            "transition": {
                              "duration": 0,
                              "easing": "linear"
                            }
                          }
                        ],
                        "label": "1998",
                        "method": "animate"
                      },
                      {
                        "args": [
                          [
                            "1999"
                          ],
                          {
                            "frame": {
                              "duration": 0,
                              "redraw": false
                            },
                            "fromcurrent": true,
                            "mode": "immediate",
                            "transition": {
                              "duration": 0,
                              "easing": "linear"
                            }
                          }
                        ],
                        "label": "1999",
                        "method": "animate"
                      },
                      {
                        "args": [
                          [
                            "2000"
                          ],
                          {
                            "frame": {
                              "duration": 0,
                              "redraw": false
                            },
                            "fromcurrent": true,
                            "mode": "immediate",
                            "transition": {
                              "duration": 0,
                              "easing": "linear"
                            }
                          }
                        ],
                        "label": "2000",
                        "method": "animate"
                      },
                      {
                        "args": [
                          [
                            "2001"
                          ],
                          {
                            "frame": {
                              "duration": 0,
                              "redraw": false
                            },
                            "fromcurrent": true,
                            "mode": "immediate",
                            "transition": {
                              "duration": 0,
                              "easing": "linear"
                            }
                          }
                        ],
                        "label": "2001",
                        "method": "animate"
                      },
                      {
                        "args": [
                          [
                            "2002"
                          ],
                          {
                            "frame": {
                              "duration": 0,
                              "redraw": false
                            },
                            "fromcurrent": true,
                            "mode": "immediate",
                            "transition": {
                              "duration": 0,
                              "easing": "linear"
                            }
                          }
                        ],
                        "label": "2002",
                        "method": "animate"
                      },
                      {
                        "args": [
                          [
                            "2003"
                          ],
                          {
                            "frame": {
                              "duration": 0,
                              "redraw": false
                            },
                            "fromcurrent": true,
                            "mode": "immediate",
                            "transition": {
                              "duration": 0,
                              "easing": "linear"
                            }
                          }
                        ],
                        "label": "2003",
                        "method": "animate"
                      },
                      {
                        "args": [
                          [
                            "2004"
                          ],
                          {
                            "frame": {
                              "duration": 0,
                              "redraw": false
                            },
                            "fromcurrent": true,
                            "mode": "immediate",
                            "transition": {
                              "duration": 0,
                              "easing": "linear"
                            }
                          }
                        ],
                        "label": "2004",
                        "method": "animate"
                      },
                      {
                        "args": [
                          [
                            "2005"
                          ],
                          {
                            "frame": {
                              "duration": 0,
                              "redraw": false
                            },
                            "fromcurrent": true,
                            "mode": "immediate",
                            "transition": {
                              "duration": 0,
                              "easing": "linear"
                            }
                          }
                        ],
                        "label": "2005",
                        "method": "animate"
                      },
                      {
                        "args": [
                          [
                            "2006"
                          ],
                          {
                            "frame": {
                              "duration": 0,
                              "redraw": false
                            },
                            "fromcurrent": true,
                            "mode": "immediate",
                            "transition": {
                              "duration": 0,
                              "easing": "linear"
                            }
                          }
                        ],
                        "label": "2006",
                        "method": "animate"
                      },
                      {
                        "args": [
                          [
                            "2007"
                          ],
                          {
                            "frame": {
                              "duration": 0,
                              "redraw": false
                            },
                            "fromcurrent": true,
                            "mode": "immediate",
                            "transition": {
                              "duration": 0,
                              "easing": "linear"
                            }
                          }
                        ],
                        "label": "2007",
                        "method": "animate"
                      },
                      {
                        "args": [
                          [
                            "2008"
                          ],
                          {
                            "frame": {
                              "duration": 0,
                              "redraw": false
                            },
                            "fromcurrent": true,
                            "mode": "immediate",
                            "transition": {
                              "duration": 0,
                              "easing": "linear"
                            }
                          }
                        ],
                        "label": "2008",
                        "method": "animate"
                      },
                      {
                        "args": [
                          [
                            "2009"
                          ],
                          {
                            "frame": {
                              "duration": 0,
                              "redraw": false
                            },
                            "fromcurrent": true,
                            "mode": "immediate",
                            "transition": {
                              "duration": 0,
                              "easing": "linear"
                            }
                          }
                        ],
                        "label": "2009",
                        "method": "animate"
                      },
                      {
                        "args": [
                          [
                            "2010"
                          ],
                          {
                            "frame": {
                              "duration": 0,
                              "redraw": false
                            },
                            "fromcurrent": true,
                            "mode": "immediate",
                            "transition": {
                              "duration": 0,
                              "easing": "linear"
                            }
                          }
                        ],
                        "label": "2010",
                        "method": "animate"
                      },
                      {
                        "args": [
                          [
                            "2011"
                          ],
                          {
                            "frame": {
                              "duration": 0,
                              "redraw": false
                            },
                            "fromcurrent": true,
                            "mode": "immediate",
                            "transition": {
                              "duration": 0,
                              "easing": "linear"
                            }
                          }
                        ],
                        "label": "2011",
                        "method": "animate"
                      },
                      {
                        "args": [
                          [
                            "2012"
                          ],
                          {
                            "frame": {
                              "duration": 0,
                              "redraw": false
                            },
                            "fromcurrent": true,
                            "mode": "immediate",
                            "transition": {
                              "duration": 0,
                              "easing": "linear"
                            }
                          }
                        ],
                        "label": "2012",
                        "method": "animate"
                      },
                      {
                        "args": [
                          [
                            "2013"
                          ],
                          {
                            "frame": {
                              "duration": 0,
                              "redraw": false
                            },
                            "fromcurrent": true,
                            "mode": "immediate",
                            "transition": {
                              "duration": 0,
                              "easing": "linear"
                            }
                          }
                        ],
                        "label": "2013",
                        "method": "animate"
                      },
                      {
                        "args": [
                          [
                            "2014"
                          ],
                          {
                            "frame": {
                              "duration": 0,
                              "redraw": false
                            },
                            "fromcurrent": true,
                            "mode": "immediate",
                            "transition": {
                              "duration": 0,
                              "easing": "linear"
                            }
                          }
                        ],
                        "label": "2014",
                        "method": "animate"
                      },
                      {
                        "args": [
                          [
                            "2015"
                          ],
                          {
                            "frame": {
                              "duration": 0,
                              "redraw": false
                            },
                            "fromcurrent": true,
                            "mode": "immediate",
                            "transition": {
                              "duration": 0,
                              "easing": "linear"
                            }
                          }
                        ],
                        "label": "2015",
                        "method": "animate"
                      },
                      {
                        "args": [
                          [
                            "2016"
                          ],
                          {
                            "frame": {
                              "duration": 0,
                              "redraw": false
                            },
                            "fromcurrent": true,
                            "mode": "immediate",
                            "transition": {
                              "duration": 0,
                              "easing": "linear"
                            }
                          }
                        ],
                        "label": "2016",
                        "method": "animate"
                      },
                      {
                        "args": [
                          [
                            "2017"
                          ],
                          {
                            "frame": {
                              "duration": 0,
                              "redraw": false
                            },
                            "fromcurrent": true,
                            "mode": "immediate",
                            "transition": {
                              "duration": 0,
                              "easing": "linear"
                            }
                          }
                        ],
                        "label": "2017",
                        "method": "animate"
                      },
                      {
                        "args": [
                          [
                            "2018"
                          ],
                          {
                            "frame": {
                              "duration": 0,
                              "redraw": false
                            },
                            "fromcurrent": true,
                            "mode": "immediate",
                            "transition": {
                              "duration": 0,
                              "easing": "linear"
                            }
                          }
                        ],
                        "label": "2018",
                        "method": "animate"
                      },
                      {
                        "args": [
                          [
                            "2019"
                          ],
                          {
                            "frame": {
                              "duration": 0,
                              "redraw": false
                            },
                            "fromcurrent": true,
                            "mode": "immediate",
                            "transition": {
                              "duration": 0,
                              "easing": "linear"
                            }
                          }
                        ],
                        "label": "2019",
                        "method": "animate"
                      },
                      {
                        "args": [
                          [
                            "2020"
                          ],
                          {
                            "frame": {
                              "duration": 0,
                              "redraw": false
                            },
                            "fromcurrent": true,
                            "mode": "immediate",
                            "transition": {
                              "duration": 0,
                              "easing": "linear"
                            }
                          }
                        ],
                        "label": "2020",
                        "method": "animate"
                      }
                    ],
                    "x": 0.1,
                    "xanchor": "left",
                    "y": 0,
                    "yanchor": "top"
                  }
                ],
                "template": {
                  "data": {
                    "bar": [
                      {
                        "error_x": {
                          "color": "#2a3f5f"
                        },
                        "error_y": {
                          "color": "#2a3f5f"
                        },
                        "marker": {
                          "line": {
                            "color": "#E5ECF6",
                            "width": 0.5
                          },
                          "pattern": {
                            "fillmode": "overlay",
                            "size": 10,
                            "solidity": 0.2
                          }
                        },
                        "type": "bar"
                      }
                    ],
                    "barpolar": [
                      {
                        "marker": {
                          "line": {
                            "color": "#E5ECF6",
                            "width": 0.5
                          },
                          "pattern": {
                            "fillmode": "overlay",
                            "size": 10,
                            "solidity": 0.2
                          }
                        },
                        "type": "barpolar"
                      }
                    ],
                    "carpet": [
                      {
                        "aaxis": {
                          "endlinecolor": "#2a3f5f",
                          "gridcolor": "white",
                          "linecolor": "white",
                          "minorgridcolor": "white",
                          "startlinecolor": "#2a3f5f"
                        },
                        "baxis": {
                          "endlinecolor": "#2a3f5f",
                          "gridcolor": "white",
                          "linecolor": "white",
                          "minorgridcolor": "white",
                          "startlinecolor": "#2a3f5f"
                        },
                        "type": "carpet"
                      }
                    ],
                    "choropleth": [
                      {
                        "colorbar": {
                          "outlinewidth": 0,
                          "ticks": ""
                        },
                        "type": "choropleth"
                      }
                    ],
                    "contour": [
                      {
                        "colorbar": {
                          "outlinewidth": 0,
                          "ticks": ""
                        },
                        "colorscale": [
                          [
                            0,
                            "#0d0887"
                          ],
                          [
                            0.1111111111111111,
                            "#46039f"
                          ],
                          [
                            0.2222222222222222,
                            "#7201a8"
                          ],
                          [
                            0.3333333333333333,
                            "#9c179e"
                          ],
                          [
                            0.4444444444444444,
                            "#bd3786"
                          ],
                          [
                            0.5555555555555556,
                            "#d8576b"
                          ],
                          [
                            0.6666666666666666,
                            "#ed7953"
                          ],
                          [
                            0.7777777777777778,
                            "#fb9f3a"
                          ],
                          [
                            0.8888888888888888,
                            "#fdca26"
                          ],
                          [
                            1,
                            "#f0f921"
                          ]
                        ],
                        "type": "contour"
                      }
                    ],
                    "contourcarpet": [
                      {
                        "colorbar": {
                          "outlinewidth": 0,
                          "ticks": ""
                        },
                        "type": "contourcarpet"
                      }
                    ],
                    "heatmap": [
                      {
                        "colorbar": {
                          "outlinewidth": 0,
                          "ticks": ""
                        },
                        "colorscale": [
                          [
                            0,
                            "#0d0887"
                          ],
                          [
                            0.1111111111111111,
                            "#46039f"
                          ],
                          [
                            0.2222222222222222,
                            "#7201a8"
                          ],
                          [
                            0.3333333333333333,
                            "#9c179e"
                          ],
                          [
                            0.4444444444444444,
                            "#bd3786"
                          ],
                          [
                            0.5555555555555556,
                            "#d8576b"
                          ],
                          [
                            0.6666666666666666,
                            "#ed7953"
                          ],
                          [
                            0.7777777777777778,
                            "#fb9f3a"
                          ],
                          [
                            0.8888888888888888,
                            "#fdca26"
                          ],
                          [
                            1,
                            "#f0f921"
                          ]
                        ],
                        "type": "heatmap"
                      }
                    ],
                    "heatmapgl": [
                      {
                        "colorbar": {
                          "outlinewidth": 0,
                          "ticks": ""
                        },
                        "colorscale": [
                          [
                            0,
                            "#0d0887"
                          ],
                          [
                            0.1111111111111111,
                            "#46039f"
                          ],
                          [
                            0.2222222222222222,
                            "#7201a8"
                          ],
                          [
                            0.3333333333333333,
                            "#9c179e"
                          ],
                          [
                            0.4444444444444444,
                            "#bd3786"
                          ],
                          [
                            0.5555555555555556,
                            "#d8576b"
                          ],
                          [
                            0.6666666666666666,
                            "#ed7953"
                          ],
                          [
                            0.7777777777777778,
                            "#fb9f3a"
                          ],
                          [
                            0.8888888888888888,
                            "#fdca26"
                          ],
                          [
                            1,
                            "#f0f921"
                          ]
                        ],
                        "type": "heatmapgl"
                      }
                    ],
                    "histogram": [
                      {
                        "marker": {
                          "pattern": {
                            "fillmode": "overlay",
                            "size": 10,
                            "solidity": 0.2
                          }
                        },
                        "type": "histogram"
                      }
                    ],
                    "histogram2d": [
                      {
                        "colorbar": {
                          "outlinewidth": 0,
                          "ticks": ""
                        },
                        "colorscale": [
                          [
                            0,
                            "#0d0887"
                          ],
                          [
                            0.1111111111111111,
                            "#46039f"
                          ],
                          [
                            0.2222222222222222,
                            "#7201a8"
                          ],
                          [
                            0.3333333333333333,
                            "#9c179e"
                          ],
                          [
                            0.4444444444444444,
                            "#bd3786"
                          ],
                          [
                            0.5555555555555556,
                            "#d8576b"
                          ],
                          [
                            0.6666666666666666,
                            "#ed7953"
                          ],
                          [
                            0.7777777777777778,
                            "#fb9f3a"
                          ],
                          [
                            0.8888888888888888,
                            "#fdca26"
                          ],
                          [
                            1,
                            "#f0f921"
                          ]
                        ],
                        "type": "histogram2d"
                      }
                    ],
                    "histogram2dcontour": [
                      {
                        "colorbar": {
                          "outlinewidth": 0,
                          "ticks": ""
                        },
                        "colorscale": [
                          [
                            0,
                            "#0d0887"
                          ],
                          [
                            0.1111111111111111,
                            "#46039f"
                          ],
                          [
                            0.2222222222222222,
                            "#7201a8"
                          ],
                          [
                            0.3333333333333333,
                            "#9c179e"
                          ],
                          [
                            0.4444444444444444,
                            "#bd3786"
                          ],
                          [
                            0.5555555555555556,
                            "#d8576b"
                          ],
                          [
                            0.6666666666666666,
                            "#ed7953"
                          ],
                          [
                            0.7777777777777778,
                            "#fb9f3a"
                          ],
                          [
                            0.8888888888888888,
                            "#fdca26"
                          ],
                          [
                            1,
                            "#f0f921"
                          ]
                        ],
                        "type": "histogram2dcontour"
                      }
                    ],
                    "mesh3d": [
                      {
                        "colorbar": {
                          "outlinewidth": 0,
                          "ticks": ""
                        },
                        "type": "mesh3d"
                      }
                    ],
                    "parcoords": [
                      {
                        "line": {
                          "colorbar": {
                            "outlinewidth": 0,
                            "ticks": ""
                          }
                        },
                        "type": "parcoords"
                      }
                    ],
                    "pie": [
                      {
                        "automargin": true,
                        "type": "pie"
                      }
                    ],
                    "scatter": [
                      {
                        "fillpattern": {
                          "fillmode": "overlay",
                          "size": 10,
                          "solidity": 0.2
                        },
                        "type": "scatter"
                      }
                    ],
                    "scatter3d": [
                      {
                        "line": {
                          "colorbar": {
                            "outlinewidth": 0,
                            "ticks": ""
                          }
                        },
                        "marker": {
                          "colorbar": {
                            "outlinewidth": 0,
                            "ticks": ""
                          }
                        },
                        "type": "scatter3d"
                      }
                    ],
                    "scattercarpet": [
                      {
                        "marker": {
                          "colorbar": {
                            "outlinewidth": 0,
                            "ticks": ""
                          }
                        },
                        "type": "scattercarpet"
                      }
                    ],
                    "scattergeo": [
                      {
                        "marker": {
                          "colorbar": {
                            "outlinewidth": 0,
                            "ticks": ""
                          }
                        },
                        "type": "scattergeo"
                      }
                    ],
                    "scattergl": [
                      {
                        "marker": {
                          "colorbar": {
                            "outlinewidth": 0,
                            "ticks": ""
                          }
                        },
                        "type": "scattergl"
                      }
                    ],
                    "scattermapbox": [
                      {
                        "marker": {
                          "colorbar": {
                            "outlinewidth": 0,
                            "ticks": ""
                          }
                        },
                        "type": "scattermapbox"
                      }
                    ],
                    "scatterpolar": [
                      {
                        "marker": {
                          "colorbar": {
                            "outlinewidth": 0,
                            "ticks": ""
                          }
                        },
                        "type": "scatterpolar"
                      }
                    ],
                    "scatterpolargl": [
                      {
                        "marker": {
                          "colorbar": {
                            "outlinewidth": 0,
                            "ticks": ""
                          }
                        },
                        "type": "scatterpolargl"
                      }
                    ],
                    "scatterternary": [
                      {
                        "marker": {
                          "colorbar": {
                            "outlinewidth": 0,
                            "ticks": ""
                          }
                        },
                        "type": "scatterternary"
                      }
                    ],
                    "surface": [
                      {
                        "colorbar": {
                          "outlinewidth": 0,
                          "ticks": ""
                        },
                        "colorscale": [
                          [
                            0,
                            "#0d0887"
                          ],
                          [
                            0.1111111111111111,
                            "#46039f"
                          ],
                          [
                            0.2222222222222222,
                            "#7201a8"
                          ],
                          [
                            0.3333333333333333,
                            "#9c179e"
                          ],
                          [
                            0.4444444444444444,
                            "#bd3786"
                          ],
                          [
                            0.5555555555555556,
                            "#d8576b"
                          ],
                          [
                            0.6666666666666666,
                            "#ed7953"
                          ],
                          [
                            0.7777777777777778,
                            "#fb9f3a"
                          ],
                          [
                            0.8888888888888888,
                            "#fdca26"
                          ],
                          [
                            1,
                            "#f0f921"
                          ]
                        ],
                        "type": "surface"
                      }
                    ],
                    "table": [
                      {
                        "cells": {
                          "fill": {
                            "color": "#EBF0F8"
                          },
                          "line": {
                            "color": "white"
                          }
                        },
                        "header": {
                          "fill": {
                            "color": "#C8D4E3"
                          },
                          "line": {
                            "color": "white"
                          }
                        },
                        "type": "table"
                      }
                    ]
                  },
                  "layout": {
                    "annotationdefaults": {
                      "arrowcolor": "#2a3f5f",
                      "arrowhead": 0,
                      "arrowwidth": 1
                    },
                    "autotypenumbers": "strict",
                    "coloraxis": {
                      "colorbar": {
                        "outlinewidth": 0,
                        "ticks": ""
                      }
                    },
                    "colorscale": {
                      "diverging": [
                        [
                          0,
                          "#8e0152"
                        ],
                        [
                          0.1,
                          "#c51b7d"
                        ],
                        [
                          0.2,
                          "#de77ae"
                        ],
                        [
                          0.3,
                          "#f1b6da"
                        ],
                        [
                          0.4,
                          "#fde0ef"
                        ],
                        [
                          0.5,
                          "#f7f7f7"
                        ],
                        [
                          0.6,
                          "#e6f5d0"
                        ],
                        [
                          0.7,
                          "#b8e186"
                        ],
                        [
                          0.8,
                          "#7fbc41"
                        ],
                        [
                          0.9,
                          "#4d9221"
                        ],
                        [
                          1,
                          "#276419"
                        ]
                      ],
                      "sequential": [
                        [
                          0,
                          "#0d0887"
                        ],
                        [
                          0.1111111111111111,
                          "#46039f"
                        ],
                        [
                          0.2222222222222222,
                          "#7201a8"
                        ],
                        [
                          0.3333333333333333,
                          "#9c179e"
                        ],
                        [
                          0.4444444444444444,
                          "#bd3786"
                        ],
                        [
                          0.5555555555555556,
                          "#d8576b"
                        ],
                        [
                          0.6666666666666666,
                          "#ed7953"
                        ],
                        [
                          0.7777777777777778,
                          "#fb9f3a"
                        ],
                        [
                          0.8888888888888888,
                          "#fdca26"
                        ],
                        [
                          1,
                          "#f0f921"
                        ]
                      ],
                      "sequentialminus": [
                        [
                          0,
                          "#0d0887"
                        ],
                        [
                          0.1111111111111111,
                          "#46039f"
                        ],
                        [
                          0.2222222222222222,
                          "#7201a8"
                        ],
                        [
                          0.3333333333333333,
                          "#9c179e"
                        ],
                        [
                          0.4444444444444444,
                          "#bd3786"
                        ],
                        [
                          0.5555555555555556,
                          "#d8576b"
                        ],
                        [
                          0.6666666666666666,
                          "#ed7953"
                        ],
                        [
                          0.7777777777777778,
                          "#fb9f3a"
                        ],
                        [
                          0.8888888888888888,
                          "#fdca26"
                        ],
                        [
                          1,
                          "#f0f921"
                        ]
                      ]
                    },
                    "colorway": [
                      "#636efa",
                      "#EF553B",
                      "#00cc96",
                      "#ab63fa",
                      "#FFA15A",
                      "#19d3f3",
                      "#FF6692",
                      "#B6E880",
                      "#FF97FF",
                      "#FECB52"
                    ],
                    "font": {
                      "color": "#2a3f5f"
                    },
                    "geo": {
                      "bgcolor": "white",
                      "lakecolor": "white",
                      "landcolor": "#E5ECF6",
                      "showlakes": true,
                      "showland": true,
                      "subunitcolor": "white"
                    },
                    "hoverlabel": {
                      "align": "left"
                    },
                    "hovermode": "closest",
                    "mapbox": {
                      "style": "light"
                    },
                    "paper_bgcolor": "white",
                    "plot_bgcolor": "#E5ECF6",
                    "polar": {
                      "angularaxis": {
                        "gridcolor": "white",
                        "linecolor": "white",
                        "ticks": ""
                      },
                      "bgcolor": "#E5ECF6",
                      "radialaxis": {
                        "gridcolor": "white",
                        "linecolor": "white",
                        "ticks": ""
                      }
                    },
                    "scene": {
                      "xaxis": {
                        "backgroundcolor": "#E5ECF6",
                        "gridcolor": "white",
                        "gridwidth": 2,
                        "linecolor": "white",
                        "showbackground": true,
                        "ticks": "",
                        "zerolinecolor": "white"
                      },
                      "yaxis": {
                        "backgroundcolor": "#E5ECF6",
                        "gridcolor": "white",
                        "gridwidth": 2,
                        "linecolor": "white",
                        "showbackground": true,
                        "ticks": "",
                        "zerolinecolor": "white"
                      },
                      "zaxis": {
                        "backgroundcolor": "#E5ECF6",
                        "gridcolor": "white",
                        "gridwidth": 2,
                        "linecolor": "white",
                        "showbackground": true,
                        "ticks": "",
                        "zerolinecolor": "white"
                      }
                    },
                    "shapedefaults": {
                      "line": {
                        "color": "#2a3f5f"
                      }
                    },
                    "ternary": {
                      "aaxis": {
                        "gridcolor": "white",
                        "linecolor": "white",
                        "ticks": ""
                      },
                      "baxis": {
                        "gridcolor": "white",
                        "linecolor": "white",
                        "ticks": ""
                      },
                      "bgcolor": "#E5ECF6",
                      "caxis": {
                        "gridcolor": "white",
                        "linecolor": "white",
                        "ticks": ""
                      }
                    },
                    "title": {
                      "x": 0.05
                    },
                    "xaxis": {
                      "automargin": true,
                      "gridcolor": "white",
                      "linecolor": "white",
                      "ticks": "",
                      "title": {
                        "standoff": 15
                      },
                      "zerolinecolor": "white",
                      "zerolinewidth": 2
                    },
                    "yaxis": {
                      "automargin": true,
                      "gridcolor": "white",
                      "linecolor": "white",
                      "ticks": "",
                      "title": {
                        "standoff": 15
                      },
                      "zerolinecolor": "white",
                      "zerolinewidth": 2
                    }
                  }
                },
                "title": {
                  "text": "Population Over Time"
                },
                "updatemenus": [
                  {
                    "buttons": [
                      {
                        "args": [
                          null,
                          {
                            "frame": {
                              "duration": 500,
                              "redraw": false
                            },
                            "fromcurrent": true,
                            "mode": "immediate",
                            "transition": {
                              "duration": 500,
                              "easing": "linear"
                            }
                          }
                        ],
                        "label": "&#9654;",
                        "method": "animate"
                      },
                      {
                        "args": [
                          [
                            null
                          ],
                          {
                            "frame": {
                              "duration": 0,
                              "redraw": false
                            },
                            "fromcurrent": true,
                            "mode": "immediate",
                            "transition": {
                              "duration": 0,
                              "easing": "linear"
                            }
                          }
                        ],
                        "label": "&#9724;",
                        "method": "animate"
                      }
                    ],
                    "direction": "left",
                    "pad": {
                      "r": 10,
                      "t": 70
                    },
                    "showactive": false,
                    "type": "buttons",
                    "x": 0.1,
                    "xanchor": "right",
                    "y": 0,
                    "yanchor": "top"
                  }
                ],
                "xaxis": {
                  "anchor": "y",
                  "domain": [
                    0,
                    1
                  ],
                  "title": {
                    "text": "Country"
                  }
                },
                "yaxis": {
                  "anchor": "x",
                  "domain": [
                    0,
                    1
                  ],
                  "range": [
                    0,
                    1402112000
                  ],
                  "title": {
                    "text": "Population"
                  }
                }
              }
            }
          },
          "metadata": {},
          "output_type": "display_data"
        }
      ],
      "source": [
        "# Create a line chart using Plotly Express\n",
        "fig = px.line(df_top10, x='country', y='population',\n",
        "              animation_frame='year', range_y=[0, df_top10['population'].max()],\n",
        "              title='Population Over Time',\n",
        "              )\n",
        "\n",
        "# Update the layout\n",
        "fig.update_layout(\n",
        "    title='Population Over Time',\n",
        "    xaxis_title='Country',\n",
        "    yaxis_title='Population'\n",
        ")\n",
        "\n",
        "# Display the chart\n",
        "fig.show()"
      ]
    },
    {
      "cell_type": "markdown",
      "metadata": {
        "id": "KINJZmc2S7u2"
      },
      "source": [
        "## **<font color=\"DeepPink\">2. Spreadsheets files - Hojas de cálculo (a.k.a. Documentos de Excel)</font>**\n",
        "\n",
        "Las hojas de cálculo, también llamadas archivos/documentos de Excel, siguen aún vigentes.\n",
        "\n",
        "Al igual que los DataFrames, las hojas de cálculo organizan la información en tablas, con celdas de datos en filas y columnas.\n",
        "\n",
        "A diferencia de los DataFrames y los archivos planos, las hojas de cálculo pueden tener fórmulas con resultados que se actualizan automáticamente.\n",
        "\n",
        "Las hojas de cálculo, al contrario de los archivos planos, admiten formatos.\n",
        "\n",
        "Finalmente, un archivo o libro de Excel puede tener varias hojas de cálculo.\n",
        "\n",
        "Una función de pandas carga las hojas de cálculo: `read_excel()`.\n",
        "\n",
        "En resumen:\n",
        "- Conocidos como archivos de excel\n",
        "- Información en forma tabular, con celdas de datos en filas y columnas.\n",
        "- Puede tener fórmulas y formato.\n",
        "- Pueden existir múltiples hojas de cálculo dentro de un mismo archivo.\n",
        "- Use usa `read_excel()` para poder leer estos archivos.\n",
        "<br>\n",
        "<p align=\"justify\">"
      ]
    },
    {
      "cell_type": "markdown",
      "metadata": {
        "id": "pdl9AjTxS7u3"
      },
      "source": [
        "---\n",
        "\n",
        "Vamos a leer nuestro spreasheets a través de la funcion `read_excel()` de pandas.\n",
        "\n",
        "***Si bien hay muchos parámetros, estos tienen muchos en común con la función `read_csv()` que anteriormente vimos.***\n",
        "\n",
        "- Click [aquí](https://pandas.pydata.org/docs/reference/api/pandas.read_excel.html) para ir a la documentación oficial de pandas respecto al método.\n",
        "\n",
        "De todos modos, vamos a ver algunos importantes:\n",
        "\n",
        "---\n",
        "1. Para qué nos sirve `nrows`?\n",
        "\n",
        "Nos sirve para delimitar el número de filas del archivo a leer. Útil para leer sólo una parte de aquellos archivos muy grandes.\n",
        "\n",
        "---\n",
        "\n",
        "2. Para qué nos sirve `skiprows`?\n",
        "\n",
        "Nos sirve para delimitar el número de líneas para omitir al comienzo del archivo.\n",
        "\n",
        "---\n",
        "\n",
        "3. Para qué nos sirve `usecols`?\n",
        "\n",
        "Nos permite elegir las columnas de acuerdo al nombre, posición o letras (ejemplo: \"**B:F**\")\n",
        "\n",
        "---\n",
        "\n",
        "3. Para qué nos sirve `sheet_name`?\n",
        "\n",
        "Nos permite elegir qué hojas se van a leer del archivo. Podemos pasarle la posición o el nombre real de la hoja e incluso una lista combinando ambos métodos. Si pasamos `None` como argumento, leerá todas las hojas y nos devolverá un diccionario.\n",
        "\n",
        "---"
      ]
    },
    {
      "cell_type": "code",
      "execution_count": null,
      "metadata": {
        "id": "A5VO6OXAS7u3"
      },
      "outputs": [],
      "source": [
        "filepath_world_pop_xlsx = \"https://raw.githubusercontent.com/cristiandarioortegayubro/BDS/main/datasets/world_pop.xlsx\"\n",
        "\n",
        "world_pop_excel = pd.read_excel(filepath_world_pop_xlsx, skiprows=3, index_col=0)"
      ]
    },
    {
      "cell_type": "code",
      "execution_count": null,
      "metadata": {
        "id": "hApJxtNxS7u4",
        "outputId": "89d5ca61-8d0b-46f6-ae62-e32de9e51786"
      },
      "outputs": [
        {
          "data": {
            "text/html": [
              "<div>\n",
              "<style scoped>\n",
              "    .dataframe tbody tr th:only-of-type {\n",
              "        vertical-align: middle;\n",
              "    }\n",
              "\n",
              "    .dataframe tbody tr th {\n",
              "        vertical-align: top;\n",
              "    }\n",
              "\n",
              "    .dataframe thead th {\n",
              "        text-align: right;\n",
              "    }\n",
              "</style>\n",
              "<table border=\"1\" class=\"dataframe\">\n",
              "  <thead>\n",
              "    <tr style=\"text-align: right;\">\n",
              "      <th></th>\n",
              "      <th>country</th>\n",
              "      <th>year_1960</th>\n",
              "      <th>year_1961</th>\n",
              "      <th>year_1962</th>\n",
              "      <th>year_1963</th>\n",
              "      <th>year_1964</th>\n",
              "      <th>year_1965</th>\n",
              "      <th>year_1966</th>\n",
              "      <th>year_1967</th>\n",
              "      <th>year_1968</th>\n",
              "      <th>...</th>\n",
              "      <th>year_2011</th>\n",
              "      <th>year_2012</th>\n",
              "      <th>year_2013</th>\n",
              "      <th>year_2014</th>\n",
              "      <th>year_2015</th>\n",
              "      <th>year_2016</th>\n",
              "      <th>year_2017</th>\n",
              "      <th>year_2018</th>\n",
              "      <th>year_2019</th>\n",
              "      <th>year_2020</th>\n",
              "    </tr>\n",
              "  </thead>\n",
              "  <tbody>\n",
              "    <tr>\n",
              "      <th>1</th>\n",
              "      <td>Afghanistan</td>\n",
              "      <td>8996967</td>\n",
              "      <td>9169406</td>\n",
              "      <td>9351442</td>\n",
              "      <td>9543200</td>\n",
              "      <td>9744772</td>\n",
              "      <td>9956318</td>\n",
              "      <td>10174840</td>\n",
              "      <td>10399936</td>\n",
              "      <td>10637064</td>\n",
              "      <td>...</td>\n",
              "      <td>30117411</td>\n",
              "      <td>31161378.0</td>\n",
              "      <td>32269592.0</td>\n",
              "      <td>33370804.0</td>\n",
              "      <td>34413603.0</td>\n",
              "      <td>35383028.0</td>\n",
              "      <td>36296111.0</td>\n",
              "      <td>37171922.0</td>\n",
              "      <td>38041757.0</td>\n",
              "      <td>38928341.0</td>\n",
              "    </tr>\n",
              "    <tr>\n",
              "      <th>2</th>\n",
              "      <td>Albania</td>\n",
              "      <td>1608800</td>\n",
              "      <td>1659800</td>\n",
              "      <td>1711319</td>\n",
              "      <td>1762621</td>\n",
              "      <td>1814135</td>\n",
              "      <td>1864791</td>\n",
              "      <td>1914573</td>\n",
              "      <td>1965598</td>\n",
              "      <td>2022272</td>\n",
              "      <td>...</td>\n",
              "      <td>2905195</td>\n",
              "      <td>2900401.0</td>\n",
              "      <td>2895092.0</td>\n",
              "      <td>2889104.0</td>\n",
              "      <td>2880703.0</td>\n",
              "      <td>2876101.0</td>\n",
              "      <td>2873457.0</td>\n",
              "      <td>2866376.0</td>\n",
              "      <td>2854191.0</td>\n",
              "      <td>2837743.0</td>\n",
              "    </tr>\n",
              "    <tr>\n",
              "      <th>3</th>\n",
              "      <td>Algeria</td>\n",
              "      <td>11057864</td>\n",
              "      <td>11336336</td>\n",
              "      <td>11619828</td>\n",
              "      <td>11912800</td>\n",
              "      <td>12221675</td>\n",
              "      <td>12550880</td>\n",
              "      <td>12902626</td>\n",
              "      <td>13275020</td>\n",
              "      <td>13663581</td>\n",
              "      <td>...</td>\n",
              "      <td>36661438</td>\n",
              "      <td>37383899.0</td>\n",
              "      <td>38140135.0</td>\n",
              "      <td>38923688.0</td>\n",
              "      <td>39728020.0</td>\n",
              "      <td>40551398.0</td>\n",
              "      <td>41389174.0</td>\n",
              "      <td>42228415.0</td>\n",
              "      <td>43053054.0</td>\n",
              "      <td>43851043.0</td>\n",
              "    </tr>\n",
              "    <tr>\n",
              "      <th>4</th>\n",
              "      <td>American Samoa</td>\n",
              "      <td>20127</td>\n",
              "      <td>20605</td>\n",
              "      <td>21246</td>\n",
              "      <td>22029</td>\n",
              "      <td>22850</td>\n",
              "      <td>23675</td>\n",
              "      <td>24473</td>\n",
              "      <td>25235</td>\n",
              "      <td>25980</td>\n",
              "      <td>...</td>\n",
              "      <td>55755</td>\n",
              "      <td>55669.0</td>\n",
              "      <td>55717.0</td>\n",
              "      <td>55791.0</td>\n",
              "      <td>55806.0</td>\n",
              "      <td>55739.0</td>\n",
              "      <td>55617.0</td>\n",
              "      <td>55461.0</td>\n",
              "      <td>55312.0</td>\n",
              "      <td>55197.0</td>\n",
              "    </tr>\n",
              "    <tr>\n",
              "      <th>5</th>\n",
              "      <td>Andorra</td>\n",
              "      <td>13410</td>\n",
              "      <td>14378</td>\n",
              "      <td>15379</td>\n",
              "      <td>16407</td>\n",
              "      <td>17466</td>\n",
              "      <td>18542</td>\n",
              "      <td>19646</td>\n",
              "      <td>20760</td>\n",
              "      <td>21886</td>\n",
              "      <td>...</td>\n",
              "      <td>83748</td>\n",
              "      <td>82427.0</td>\n",
              "      <td>80770.0</td>\n",
              "      <td>79213.0</td>\n",
              "      <td>77993.0</td>\n",
              "      <td>77295.0</td>\n",
              "      <td>76997.0</td>\n",
              "      <td>77008.0</td>\n",
              "      <td>77146.0</td>\n",
              "      <td>77265.0</td>\n",
              "    </tr>\n",
              "    <tr>\n",
              "      <th>...</th>\n",
              "      <td>...</td>\n",
              "      <td>...</td>\n",
              "      <td>...</td>\n",
              "      <td>...</td>\n",
              "      <td>...</td>\n",
              "      <td>...</td>\n",
              "      <td>...</td>\n",
              "      <td>...</td>\n",
              "      <td>...</td>\n",
              "      <td>...</td>\n",
              "      <td>...</td>\n",
              "      <td>...</td>\n",
              "      <td>...</td>\n",
              "      <td>...</td>\n",
              "      <td>...</td>\n",
              "      <td>...</td>\n",
              "      <td>...</td>\n",
              "      <td>...</td>\n",
              "      <td>...</td>\n",
              "      <td>...</td>\n",
              "      <td>...</td>\n",
              "    </tr>\n",
              "    <tr>\n",
              "      <th>96</th>\n",
              "      <td>Italy</td>\n",
              "      <td>50199700</td>\n",
              "      <td>50536350</td>\n",
              "      <td>50879450</td>\n",
              "      <td>51252000</td>\n",
              "      <td>51675350</td>\n",
              "      <td>52112350</td>\n",
              "      <td>52519000</td>\n",
              "      <td>52900500</td>\n",
              "      <td>53235750</td>\n",
              "      <td>...</td>\n",
              "      <td>59379449</td>\n",
              "      <td>59539717.0</td>\n",
              "      <td>60233948.0</td>\n",
              "      <td>60789140.0</td>\n",
              "      <td>60730582.0</td>\n",
              "      <td>60627498.0</td>\n",
              "      <td>60536709.0</td>\n",
              "      <td>60421760.0</td>\n",
              "      <td>59729081.0</td>\n",
              "      <td>59554023.0</td>\n",
              "    </tr>\n",
              "    <tr>\n",
              "      <th>97</th>\n",
              "      <td>Jamaica</td>\n",
              "      <td>1628524</td>\n",
              "      <td>1651067</td>\n",
              "      <td>1676500</td>\n",
              "      <td>1703660</td>\n",
              "      <td>1730739</td>\n",
              "      <td>1756508</td>\n",
              "      <td>1780522</td>\n",
              "      <td>1803324</td>\n",
              "      <td>1825873</td>\n",
              "      <td>...</td>\n",
              "      <td>2825932</td>\n",
              "      <td>2842128.0</td>\n",
              "      <td>2858710.0</td>\n",
              "      <td>2875137.0</td>\n",
              "      <td>2891024.0</td>\n",
              "      <td>2906242.0</td>\n",
              "      <td>2920848.0</td>\n",
              "      <td>2934853.0</td>\n",
              "      <td>2948277.0</td>\n",
              "      <td>2961161.0</td>\n",
              "    </tr>\n",
              "    <tr>\n",
              "      <th>98</th>\n",
              "      <td>Japan</td>\n",
              "      <td>93216000</td>\n",
              "      <td>94055000</td>\n",
              "      <td>94933000</td>\n",
              "      <td>95900000</td>\n",
              "      <td>96903000</td>\n",
              "      <td>97952000</td>\n",
              "      <td>98851000</td>\n",
              "      <td>99879000</td>\n",
              "      <td>101011000</td>\n",
              "      <td>...</td>\n",
              "      <td>127833000</td>\n",
              "      <td>127629000.0</td>\n",
              "      <td>127445000.0</td>\n",
              "      <td>127276000.0</td>\n",
              "      <td>127141000.0</td>\n",
              "      <td>126994511.0</td>\n",
              "      <td>126785797.0</td>\n",
              "      <td>126529100.0</td>\n",
              "      <td>126264931.0</td>\n",
              "      <td>125836021.0</td>\n",
              "    </tr>\n",
              "    <tr>\n",
              "      <th>99</th>\n",
              "      <td>Jordan</td>\n",
              "      <td>933102</td>\n",
              "      <td>973983</td>\n",
              "      <td>1010647</td>\n",
              "      <td>1050212</td>\n",
              "      <td>1102404</td>\n",
              "      <td>1173603</td>\n",
              "      <td>1267063</td>\n",
              "      <td>1378995</td>\n",
              "      <td>1500168</td>\n",
              "      <td>...</td>\n",
              "      <td>7662858</td>\n",
              "      <td>8089963.0</td>\n",
              "      <td>8518992.0</td>\n",
              "      <td>8918822.0</td>\n",
              "      <td>9266573.0</td>\n",
              "      <td>9554286.0</td>\n",
              "      <td>9785840.0</td>\n",
              "      <td>9965322.0</td>\n",
              "      <td>10101697.0</td>\n",
              "      <td>10203140.0</td>\n",
              "    </tr>\n",
              "    <tr>\n",
              "      <th>100</th>\n",
              "      <td>Kazakhstan</td>\n",
              "      <td>9934564</td>\n",
              "      <td>10349422</td>\n",
              "      <td>10756931</td>\n",
              "      <td>11147860</td>\n",
              "      <td>11511856</td>\n",
              "      <td>11841926</td>\n",
              "      <td>12132560</td>\n",
              "      <td>12385706</td>\n",
              "      <td>12611432</td>\n",
              "      <td>...</td>\n",
              "      <td>16557202</td>\n",
              "      <td>16792090.0</td>\n",
              "      <td>17035551.0</td>\n",
              "      <td>17288285.0</td>\n",
              "      <td>17542806.0</td>\n",
              "      <td>17794055.0</td>\n",
              "      <td>18037776.0</td>\n",
              "      <td>18276452.0</td>\n",
              "      <td>18513673.0</td>\n",
              "      <td>18754440.0</td>\n",
              "    </tr>\n",
              "  </tbody>\n",
              "</table>\n",
              "<p>100 rows × 62 columns</p>\n",
              "</div>"
            ],
            "text/plain": [
              "            country  year_1960  year_1961  year_1962  year_1963  year_1964  \\\n",
              "1       Afghanistan    8996967    9169406    9351442    9543200    9744772   \n",
              "2           Albania    1608800    1659800    1711319    1762621    1814135   \n",
              "3           Algeria   11057864   11336336   11619828   11912800   12221675   \n",
              "4    American Samoa      20127      20605      21246      22029      22850   \n",
              "5           Andorra      13410      14378      15379      16407      17466   \n",
              "..              ...        ...        ...        ...        ...        ...   \n",
              "96            Italy   50199700   50536350   50879450   51252000   51675350   \n",
              "97          Jamaica    1628524    1651067    1676500    1703660    1730739   \n",
              "98            Japan   93216000   94055000   94933000   95900000   96903000   \n",
              "99           Jordan     933102     973983    1010647    1050212    1102404   \n",
              "100      Kazakhstan    9934564   10349422   10756931   11147860   11511856   \n",
              "\n",
              "     year_1965  year_1966  year_1967  year_1968  ...  year_2011    year_2012  \\\n",
              "1      9956318   10174840   10399936   10637064  ...   30117411   31161378.0   \n",
              "2      1864791    1914573    1965598    2022272  ...    2905195    2900401.0   \n",
              "3     12550880   12902626   13275020   13663581  ...   36661438   37383899.0   \n",
              "4        23675      24473      25235      25980  ...      55755      55669.0   \n",
              "5        18542      19646      20760      21886  ...      83748      82427.0   \n",
              "..         ...        ...        ...        ...  ...        ...          ...   \n",
              "96    52112350   52519000   52900500   53235750  ...   59379449   59539717.0   \n",
              "97     1756508    1780522    1803324    1825873  ...    2825932    2842128.0   \n",
              "98    97952000   98851000   99879000  101011000  ...  127833000  127629000.0   \n",
              "99     1173603    1267063    1378995    1500168  ...    7662858    8089963.0   \n",
              "100   11841926   12132560   12385706   12611432  ...   16557202   16792090.0   \n",
              "\n",
              "       year_2013    year_2014    year_2015    year_2016    year_2017  \\\n",
              "1     32269592.0   33370804.0   34413603.0   35383028.0   36296111.0   \n",
              "2      2895092.0    2889104.0    2880703.0    2876101.0    2873457.0   \n",
              "3     38140135.0   38923688.0   39728020.0   40551398.0   41389174.0   \n",
              "4        55717.0      55791.0      55806.0      55739.0      55617.0   \n",
              "5        80770.0      79213.0      77993.0      77295.0      76997.0   \n",
              "..           ...          ...          ...          ...          ...   \n",
              "96    60233948.0   60789140.0   60730582.0   60627498.0   60536709.0   \n",
              "97     2858710.0    2875137.0    2891024.0    2906242.0    2920848.0   \n",
              "98   127445000.0  127276000.0  127141000.0  126994511.0  126785797.0   \n",
              "99     8518992.0    8918822.0    9266573.0    9554286.0    9785840.0   \n",
              "100   17035551.0   17288285.0   17542806.0   17794055.0   18037776.0   \n",
              "\n",
              "       year_2018    year_2019    year_2020  \n",
              "1     37171922.0   38041757.0   38928341.0  \n",
              "2      2866376.0    2854191.0    2837743.0  \n",
              "3     42228415.0   43053054.0   43851043.0  \n",
              "4        55461.0      55312.0      55197.0  \n",
              "5        77008.0      77146.0      77265.0  \n",
              "..           ...          ...          ...  \n",
              "96    60421760.0   59729081.0   59554023.0  \n",
              "97     2934853.0    2948277.0    2961161.0  \n",
              "98   126529100.0  126264931.0  125836021.0  \n",
              "99     9965322.0   10101697.0   10203140.0  \n",
              "100   18276452.0   18513673.0   18754440.0  \n",
              "\n",
              "[100 rows x 62 columns]"
            ]
          },
          "execution_count": 33,
          "metadata": {},
          "output_type": "execute_result"
        }
      ],
      "source": [
        "world_pop_excel"
      ]
    },
    {
      "cell_type": "markdown",
      "metadata": {
        "id": "c7wGBD--S7u5"
      },
      "source": [
        "---\n",
        "\n",
        "Ya cargamos el archivo, pero... algo falta....\n",
        "\n",
        "\n",
        "Oh, el número de filas no es el mismo. Esto posiblemente se deba a que falten o bien... tal vez estén en **otra hoja**.\n",
        "\n",
        "Recordemos que, por defecto, la función `read_excel()` sólo carga la hoja número 1.\n",
        "\n",
        "Vamos a ver!\n",
        "\n",
        "---"
      ]
    },
    {
      "cell_type": "code",
      "execution_count": null,
      "metadata": {
        "id": "T12qBAAPS7u6"
      },
      "outputs": [],
      "source": [
        "world_pop_excel_all = pd.read_excel(filepath_world_pop_xlsx, sheet_name=None, skiprows=3, index_col=0)"
      ]
    },
    {
      "cell_type": "code",
      "execution_count": null,
      "metadata": {
        "id": "SPI348-PS7u6",
        "outputId": "bdc2c888-d8be-4a07-8ff6-91550b233027"
      },
      "outputs": [
        {
          "name": "stdout",
          "output_type": "stream",
          "text": [
            "<class 'dict'>\n"
          ]
        }
      ],
      "source": [
        "print(type(world_pop_excel_all))"
      ]
    },
    {
      "cell_type": "markdown",
      "metadata": {
        "id": "8HFKzZhJS7u7"
      },
      "source": [
        "---\n",
        "\n",
        "Pero no nos sirve un diccionario con dataframes separados...\n",
        "\n",
        "Tendremos que trabajarlo diferente.\n",
        "\n",
        "Crearemos un DataFrame vacío y luego haremos una iteración sobre los items de ese diccionario, para luego hacer un append.\n",
        "\n",
        "Y con ello, deberíamos tener un DataFrame completo con todas las hojas.\n",
        "\n",
        "**TENER EN CUENTA**: Cada argumento que se pasa en `read_excel()`, se pasará a todas las hojas.\n",
        "\n",
        "---"
      ]
    },
    {
      "cell_type": "code",
      "execution_count": null,
      "metadata": {
        "id": "koD7yVMxS7u9",
        "outputId": "59464f71-4d0b-48cb-e73f-295cf6ab6a5b"
      },
      "outputs": [
        {
          "name": "stdout",
          "output_type": "stream",
          "text": [
            "Adding 100 rows\n",
            "Adding 116 rows\n"
          ]
        }
      ],
      "source": [
        "all_excel = pd.DataFrame()\n",
        "\n",
        "for df in world_pop_excel_all.values():\n",
        "    print(f\"Adding {df.shape[0]} rows\")\n",
        "    all_excel = pd.concat([all_excel, df], axis=0)"
      ]
    },
    {
      "cell_type": "code",
      "execution_count": null,
      "metadata": {
        "id": "bCRuM2Q4S7vA",
        "outputId": "001805fd-a9dc-4e96-8548-f3757db696ba"
      },
      "outputs": [
        {
          "data": {
            "text/html": [
              "<div>\n",
              "<style scoped>\n",
              "    .dataframe tbody tr th:only-of-type {\n",
              "        vertical-align: middle;\n",
              "    }\n",
              "\n",
              "    .dataframe tbody tr th {\n",
              "        vertical-align: top;\n",
              "    }\n",
              "\n",
              "    .dataframe thead th {\n",
              "        text-align: right;\n",
              "    }\n",
              "</style>\n",
              "<table border=\"1\" class=\"dataframe\">\n",
              "  <thead>\n",
              "    <tr style=\"text-align: right;\">\n",
              "      <th></th>\n",
              "      <th>country</th>\n",
              "      <th>year_1960</th>\n",
              "      <th>year_1961</th>\n",
              "      <th>year_1962</th>\n",
              "      <th>year_1963</th>\n",
              "      <th>year_1964</th>\n",
              "      <th>year_1965</th>\n",
              "      <th>year_1966</th>\n",
              "      <th>year_1967</th>\n",
              "      <th>year_1968</th>\n",
              "      <th>...</th>\n",
              "      <th>year_2011</th>\n",
              "      <th>year_2012</th>\n",
              "      <th>year_2013</th>\n",
              "      <th>year_2014</th>\n",
              "      <th>year_2015</th>\n",
              "      <th>year_2016</th>\n",
              "      <th>year_2017</th>\n",
              "      <th>year_2018</th>\n",
              "      <th>year_2019</th>\n",
              "      <th>year_2020</th>\n",
              "    </tr>\n",
              "  </thead>\n",
              "  <tbody>\n",
              "    <tr>\n",
              "      <th>1</th>\n",
              "      <td>Afghanistan</td>\n",
              "      <td>8996967.0</td>\n",
              "      <td>9169406.0</td>\n",
              "      <td>9351442.0</td>\n",
              "      <td>9543200.0</td>\n",
              "      <td>9744772.0</td>\n",
              "      <td>9956318.0</td>\n",
              "      <td>10174840.0</td>\n",
              "      <td>10399936.0</td>\n",
              "      <td>10637064.0</td>\n",
              "      <td>...</td>\n",
              "      <td>30117411</td>\n",
              "      <td>31161378.0</td>\n",
              "      <td>32269592.0</td>\n",
              "      <td>33370804.0</td>\n",
              "      <td>34413603.0</td>\n",
              "      <td>35383028.0</td>\n",
              "      <td>36296111.0</td>\n",
              "      <td>37171922.0</td>\n",
              "      <td>38041757.0</td>\n",
              "      <td>38928341.0</td>\n",
              "    </tr>\n",
              "    <tr>\n",
              "      <th>2</th>\n",
              "      <td>Albania</td>\n",
              "      <td>1608800.0</td>\n",
              "      <td>1659800.0</td>\n",
              "      <td>1711319.0</td>\n",
              "      <td>1762621.0</td>\n",
              "      <td>1814135.0</td>\n",
              "      <td>1864791.0</td>\n",
              "      <td>1914573.0</td>\n",
              "      <td>1965598.0</td>\n",
              "      <td>2022272.0</td>\n",
              "      <td>...</td>\n",
              "      <td>2905195</td>\n",
              "      <td>2900401.0</td>\n",
              "      <td>2895092.0</td>\n",
              "      <td>2889104.0</td>\n",
              "      <td>2880703.0</td>\n",
              "      <td>2876101.0</td>\n",
              "      <td>2873457.0</td>\n",
              "      <td>2866376.0</td>\n",
              "      <td>2854191.0</td>\n",
              "      <td>2837743.0</td>\n",
              "    </tr>\n",
              "    <tr>\n",
              "      <th>3</th>\n",
              "      <td>Algeria</td>\n",
              "      <td>11057864.0</td>\n",
              "      <td>11336336.0</td>\n",
              "      <td>11619828.0</td>\n",
              "      <td>11912800.0</td>\n",
              "      <td>12221675.0</td>\n",
              "      <td>12550880.0</td>\n",
              "      <td>12902626.0</td>\n",
              "      <td>13275020.0</td>\n",
              "      <td>13663581.0</td>\n",
              "      <td>...</td>\n",
              "      <td>36661438</td>\n",
              "      <td>37383899.0</td>\n",
              "      <td>38140135.0</td>\n",
              "      <td>38923688.0</td>\n",
              "      <td>39728020.0</td>\n",
              "      <td>40551398.0</td>\n",
              "      <td>41389174.0</td>\n",
              "      <td>42228415.0</td>\n",
              "      <td>43053054.0</td>\n",
              "      <td>43851043.0</td>\n",
              "    </tr>\n",
              "    <tr>\n",
              "      <th>4</th>\n",
              "      <td>American Samoa</td>\n",
              "      <td>20127.0</td>\n",
              "      <td>20605.0</td>\n",
              "      <td>21246.0</td>\n",
              "      <td>22029.0</td>\n",
              "      <td>22850.0</td>\n",
              "      <td>23675.0</td>\n",
              "      <td>24473.0</td>\n",
              "      <td>25235.0</td>\n",
              "      <td>25980.0</td>\n",
              "      <td>...</td>\n",
              "      <td>55755</td>\n",
              "      <td>55669.0</td>\n",
              "      <td>55717.0</td>\n",
              "      <td>55791.0</td>\n",
              "      <td>55806.0</td>\n",
              "      <td>55739.0</td>\n",
              "      <td>55617.0</td>\n",
              "      <td>55461.0</td>\n",
              "      <td>55312.0</td>\n",
              "      <td>55197.0</td>\n",
              "    </tr>\n",
              "    <tr>\n",
              "      <th>5</th>\n",
              "      <td>Andorra</td>\n",
              "      <td>13410.0</td>\n",
              "      <td>14378.0</td>\n",
              "      <td>15379.0</td>\n",
              "      <td>16407.0</td>\n",
              "      <td>17466.0</td>\n",
              "      <td>18542.0</td>\n",
              "      <td>19646.0</td>\n",
              "      <td>20760.0</td>\n",
              "      <td>21886.0</td>\n",
              "      <td>...</td>\n",
              "      <td>83748</td>\n",
              "      <td>82427.0</td>\n",
              "      <td>80770.0</td>\n",
              "      <td>79213.0</td>\n",
              "      <td>77993.0</td>\n",
              "      <td>77295.0</td>\n",
              "      <td>76997.0</td>\n",
              "      <td>77008.0</td>\n",
              "      <td>77146.0</td>\n",
              "      <td>77265.0</td>\n",
              "    </tr>\n",
              "    <tr>\n",
              "      <th>...</th>\n",
              "      <td>...</td>\n",
              "      <td>...</td>\n",
              "      <td>...</td>\n",
              "      <td>...</td>\n",
              "      <td>...</td>\n",
              "      <td>...</td>\n",
              "      <td>...</td>\n",
              "      <td>...</td>\n",
              "      <td>...</td>\n",
              "      <td>...</td>\n",
              "      <td>...</td>\n",
              "      <td>...</td>\n",
              "      <td>...</td>\n",
              "      <td>...</td>\n",
              "      <td>...</td>\n",
              "      <td>...</td>\n",
              "      <td>...</td>\n",
              "      <td>...</td>\n",
              "      <td>...</td>\n",
              "      <td>...</td>\n",
              "      <td>...</td>\n",
              "    </tr>\n",
              "    <tr>\n",
              "      <th>112</th>\n",
              "      <td>Virgin Islands (U.S.)</td>\n",
              "      <td>32500.0</td>\n",
              "      <td>34300.0</td>\n",
              "      <td>35000.0</td>\n",
              "      <td>39800.0</td>\n",
              "      <td>40800.0</td>\n",
              "      <td>43500.0</td>\n",
              "      <td>46200.0</td>\n",
              "      <td>49100.0</td>\n",
              "      <td>55700.0</td>\n",
              "      <td>...</td>\n",
              "      <td>108290</td>\n",
              "      <td>108188.0</td>\n",
              "      <td>108041.0</td>\n",
              "      <td>107882.0</td>\n",
              "      <td>107712.0</td>\n",
              "      <td>107516.0</td>\n",
              "      <td>107281.0</td>\n",
              "      <td>107001.0</td>\n",
              "      <td>106669.0</td>\n",
              "      <td>106290.0</td>\n",
              "    </tr>\n",
              "    <tr>\n",
              "      <th>113</th>\n",
              "      <td>West Bank and Gaza</td>\n",
              "      <td>NaN</td>\n",
              "      <td>NaN</td>\n",
              "      <td>NaN</td>\n",
              "      <td>NaN</td>\n",
              "      <td>NaN</td>\n",
              "      <td>NaN</td>\n",
              "      <td>NaN</td>\n",
              "      <td>NaN</td>\n",
              "      <td>NaN</td>\n",
              "      <td>...</td>\n",
              "      <td>3882986</td>\n",
              "      <td>3979998.0</td>\n",
              "      <td>4076708.0</td>\n",
              "      <td>4173398.0</td>\n",
              "      <td>4270092.0</td>\n",
              "      <td>4367088.0</td>\n",
              "      <td>4454805.0</td>\n",
              "      <td>4569087.0</td>\n",
              "      <td>4685306.0</td>\n",
              "      <td>4803269.0</td>\n",
              "    </tr>\n",
              "    <tr>\n",
              "      <th>114</th>\n",
              "      <td>Yemen, Rep.</td>\n",
              "      <td>5315351.0</td>\n",
              "      <td>5393034.0</td>\n",
              "      <td>5473671.0</td>\n",
              "      <td>5556767.0</td>\n",
              "      <td>5641598.0</td>\n",
              "      <td>5727745.0</td>\n",
              "      <td>5816241.0</td>\n",
              "      <td>5907873.0</td>\n",
              "      <td>6001858.0</td>\n",
              "      <td>...</td>\n",
              "      <td>23807586</td>\n",
              "      <td>24473176.0</td>\n",
              "      <td>25147112.0</td>\n",
              "      <td>25823488.0</td>\n",
              "      <td>26497881.0</td>\n",
              "      <td>27168210.0</td>\n",
              "      <td>27834811.0</td>\n",
              "      <td>28498683.0</td>\n",
              "      <td>29161922.0</td>\n",
              "      <td>29825968.0</td>\n",
              "    </tr>\n",
              "    <tr>\n",
              "      <th>115</th>\n",
              "      <td>Zambia</td>\n",
              "      <td>3070780.0</td>\n",
              "      <td>3164330.0</td>\n",
              "      <td>3260645.0</td>\n",
              "      <td>3360099.0</td>\n",
              "      <td>3463211.0</td>\n",
              "      <td>3570466.0</td>\n",
              "      <td>3681953.0</td>\n",
              "      <td>3797877.0</td>\n",
              "      <td>3918872.0</td>\n",
              "      <td>...</td>\n",
              "      <td>14023199</td>\n",
              "      <td>14465148.0</td>\n",
              "      <td>14926551.0</td>\n",
              "      <td>15399793.0</td>\n",
              "      <td>15879370.0</td>\n",
              "      <td>16363449.0</td>\n",
              "      <td>16853608.0</td>\n",
              "      <td>17351714.0</td>\n",
              "      <td>17861034.0</td>\n",
              "      <td>18383956.0</td>\n",
              "    </tr>\n",
              "    <tr>\n",
              "      <th>116</th>\n",
              "      <td>Zimbabwe</td>\n",
              "      <td>3776679.0</td>\n",
              "      <td>3905038.0</td>\n",
              "      <td>4039209.0</td>\n",
              "      <td>4178726.0</td>\n",
              "      <td>4322854.0</td>\n",
              "      <td>4471178.0</td>\n",
              "      <td>4623340.0</td>\n",
              "      <td>4779825.0</td>\n",
              "      <td>4941901.0</td>\n",
              "      <td>...</td>\n",
              "      <td>12894323</td>\n",
              "      <td>13115149.0</td>\n",
              "      <td>13350378.0</td>\n",
              "      <td>13586710.0</td>\n",
              "      <td>13814642.0</td>\n",
              "      <td>14030338.0</td>\n",
              "      <td>14236599.0</td>\n",
              "      <td>14438812.0</td>\n",
              "      <td>14645473.0</td>\n",
              "      <td>14862927.0</td>\n",
              "    </tr>\n",
              "  </tbody>\n",
              "</table>\n",
              "<p>216 rows × 62 columns</p>\n",
              "</div>"
            ],
            "text/plain": [
              "                   country   year_1960   year_1961   year_1962   year_1963  \\\n",
              "1              Afghanistan   8996967.0   9169406.0   9351442.0   9543200.0   \n",
              "2                  Albania   1608800.0   1659800.0   1711319.0   1762621.0   \n",
              "3                  Algeria  11057864.0  11336336.0  11619828.0  11912800.0   \n",
              "4           American Samoa     20127.0     20605.0     21246.0     22029.0   \n",
              "5                  Andorra     13410.0     14378.0     15379.0     16407.0   \n",
              "..                     ...         ...         ...         ...         ...   \n",
              "112  Virgin Islands (U.S.)     32500.0     34300.0     35000.0     39800.0   \n",
              "113     West Bank and Gaza         NaN         NaN         NaN         NaN   \n",
              "114            Yemen, Rep.   5315351.0   5393034.0   5473671.0   5556767.0   \n",
              "115                 Zambia   3070780.0   3164330.0   3260645.0   3360099.0   \n",
              "116               Zimbabwe   3776679.0   3905038.0   4039209.0   4178726.0   \n",
              "\n",
              "      year_1964   year_1965   year_1966   year_1967   year_1968  ...  \\\n",
              "1     9744772.0   9956318.0  10174840.0  10399936.0  10637064.0  ...   \n",
              "2     1814135.0   1864791.0   1914573.0   1965598.0   2022272.0  ...   \n",
              "3    12221675.0  12550880.0  12902626.0  13275020.0  13663581.0  ...   \n",
              "4       22850.0     23675.0     24473.0     25235.0     25980.0  ...   \n",
              "5       17466.0     18542.0     19646.0     20760.0     21886.0  ...   \n",
              "..          ...         ...         ...         ...         ...  ...   \n",
              "112     40800.0     43500.0     46200.0     49100.0     55700.0  ...   \n",
              "113         NaN         NaN         NaN         NaN         NaN  ...   \n",
              "114   5641598.0   5727745.0   5816241.0   5907873.0   6001858.0  ...   \n",
              "115   3463211.0   3570466.0   3681953.0   3797877.0   3918872.0  ...   \n",
              "116   4322854.0   4471178.0   4623340.0   4779825.0   4941901.0  ...   \n",
              "\n",
              "     year_2011   year_2012   year_2013   year_2014   year_2015   year_2016  \\\n",
              "1     30117411  31161378.0  32269592.0  33370804.0  34413603.0  35383028.0   \n",
              "2      2905195   2900401.0   2895092.0   2889104.0   2880703.0   2876101.0   \n",
              "3     36661438  37383899.0  38140135.0  38923688.0  39728020.0  40551398.0   \n",
              "4        55755     55669.0     55717.0     55791.0     55806.0     55739.0   \n",
              "5        83748     82427.0     80770.0     79213.0     77993.0     77295.0   \n",
              "..         ...         ...         ...         ...         ...         ...   \n",
              "112     108290    108188.0    108041.0    107882.0    107712.0    107516.0   \n",
              "113    3882986   3979998.0   4076708.0   4173398.0   4270092.0   4367088.0   \n",
              "114   23807586  24473176.0  25147112.0  25823488.0  26497881.0  27168210.0   \n",
              "115   14023199  14465148.0  14926551.0  15399793.0  15879370.0  16363449.0   \n",
              "116   12894323  13115149.0  13350378.0  13586710.0  13814642.0  14030338.0   \n",
              "\n",
              "      year_2017   year_2018   year_2019   year_2020  \n",
              "1    36296111.0  37171922.0  38041757.0  38928341.0  \n",
              "2     2873457.0   2866376.0   2854191.0   2837743.0  \n",
              "3    41389174.0  42228415.0  43053054.0  43851043.0  \n",
              "4       55617.0     55461.0     55312.0     55197.0  \n",
              "5       76997.0     77008.0     77146.0     77265.0  \n",
              "..          ...         ...         ...         ...  \n",
              "112    107281.0    107001.0    106669.0    106290.0  \n",
              "113   4454805.0   4569087.0   4685306.0   4803269.0  \n",
              "114  27834811.0  28498683.0  29161922.0  29825968.0  \n",
              "115  16853608.0  17351714.0  17861034.0  18383956.0  \n",
              "116  14236599.0  14438812.0  14645473.0  14862927.0  \n",
              "\n",
              "[216 rows x 62 columns]"
            ]
          },
          "execution_count": 37,
          "metadata": {},
          "output_type": "execute_result"
        }
      ],
      "source": [
        "all_excel"
      ]
    },
    {
      "cell_type": "markdown",
      "metadata": {
        "id": "D2oposkjS7vC"
      },
      "source": [
        "## **<font color=\"DeepPink\">3. Relational Databases - Bases de datos relacionales</font>**\n",
        "\n",
        "Las bases de datos relacionales organizan datos sobre entidades en tablas, con filas que representan instancias de entidades y columnas de atributos. Hay un punto en común con otros que vimos anteriormente: los DataFrame, los archivos planos y muchas hojas de Excel organizan los datos de manera similar. Las bases de datos relacionales difieren en que las tablas se pueden vincular o relacionar a través de identificadores de registros únicos o claves. Las bases de datos manejan más datos y admiten más usuarios simultáneos que las hojas de cálculo o los archivos planos. También ofrecen más controles de calidad de datos, como la posibilidad de hacer cumplir los tipos de datos de cada columna. Por último, interactuamos con bases de datos a través de un lenguaje específico: lenguaje de consulta estructurado o SQL.\n",
        "\n",
        "En resumen:\n",
        "- Los datos sobre las entidades se organizan en tablas.\n",
        "- Cada fila o registro es una instancia de una entidad.\n",
        "- Cada columna tiene información sobre un atributo.\n",
        "- Las tablas se pueden vincular entre sí a través de claves únicas.\n",
        "- Soporta más datos, múltiples usuarios simultáneos y añade controles de calidad.\n",
        "- Los tipos de datos deben especificarse para cada columna.\n",
        "- SQL (lenguaje de consulta estructurado) para interactuar con bases de datos\n",
        "\n",
        "Ejemplos de bases de datos relacionales\n",
        "- Microsoft SQL Server\n",
        "- MySQL\n",
        "- Oracle\n",
        "- PostgreSQL\n",
        "- SQLite\n",
        "<br>\n",
        "<p align=\"justify\">"
      ]
    },
    {
      "cell_type": "markdown",
      "metadata": {
        "id": "VtwTL8WSS7vF"
      },
      "source": [
        "### Y cómo nos conectamos a una base de datos?\n",
        "\n",
        "Es un proceso de dos pasos:\n",
        "1. Creamos una conexión a la base de datos\n",
        "2. Hacemos una consulta (query).\n",
        "\n",
        "En este caso, vamos a utilizar la biblioteca `sqlite3` como kit de herramientas SQL para Python."
      ]
    },
    {
      "cell_type": "markdown",
      "metadata": {
        "id": "x8ue7jCzS7vH"
      },
      "source": [
        "### Qué es SQLite?\n",
        "\n",
        "- SQLite es un software de código abierto. El software no requiere ninguna licencia después de la instalación.\n",
        "\n",
        "- SQLite no tiene servidor, ya que no necesita un proceso o sistema de servidor diferente para operar.\n",
        "\n",
        "- SQLite facilita trabajar en múltiples bases de datos en la misma sesión simultáneamente, lo que lo hace flexible.\n",
        "\n",
        "- SQLite es un DBMS multiplataforma que puede ejecutarse en todas las plataformas, incluidas macOS, Windows, etc.\n",
        "\n",
        "- SQLite no requiere ninguna configuración/administración."
      ]
    },
    {
      "cell_type": "code",
      "execution_count": null,
      "metadata": {
        "id": "3Na1Cxr9S7vI"
      },
      "outputs": [],
      "source": [
        "# Importamos la biblioteca\n",
        "import sqlite3"
      ]
    },
    {
      "cell_type": "code",
      "execution_count": null,
      "metadata": {
        "id": "48drYUfPS7vJ"
      },
      "outputs": [],
      "source": [
        "# Creamos una conexión con una base de datos que vamos a crear.\n",
        "connection = sqlite3.connect(\"favorite_fruit.db\")"
      ]
    },
    {
      "cell_type": "markdown",
      "metadata": {
        "id": "LxZKGeihS7vK"
      },
      "source": [
        "---\n",
        "\n",
        "Una vez creada la conexión, podremos empezar a trabajar con la base de datos.\n",
        "\n",
        "Pero antes, deberemos entender un concepto interesante e indispensable.\n",
        "\n",
        "**Cursores (cursors)**:\n",
        "- Nos permiten procesar datos fila por fila, lo que puede ser útil cuando necesitamos realizar cálculos complejos o transformaciones en los datos.\n",
        "- Nos permiten iterar sobre un conjunto de resultados varias veces, lo que puede ser útil cuando necesitamos realizar varias operaciones en los mismos datos.\n",
        "- Pueden ser útiles cuando necesitamos unir varias tablas con relaciones complejas.\n",
        "- Nos permiten realizar operaciones como actualizar, eliminar o insertar registros en función de alguna condición o criterio.\n",
        "- Son especialmente útiles cuando se procesan datos de varias tablas donde las relaciones no son sencillas.\n",
        "\n",
        "---\n",
        "\n",
        "Y cómo lo creamos? Es muy sencillo!\n",
        "\n",
        "---"
      ]
    },
    {
      "cell_type": "code",
      "execution_count": null,
      "metadata": {
        "id": "xrh0wauSS7vM"
      },
      "outputs": [],
      "source": [
        "# Creamos un cursor de base de datos\n",
        "cursor = connection.cursor()"
      ]
    },
    {
      "cell_type": "code",
      "execution_count": null,
      "metadata": {
        "id": "0saEqJYSS7vN",
        "outputId": "fa1cec91-6970-44bc-d3a5-06317391419e"
      },
      "outputs": [
        {
          "data": {
            "text/plain": [
              "<sqlite3.Cursor at 0x2260c59b180>"
            ]
          },
          "execution_count": 41,
          "metadata": {},
          "output_type": "execute_result"
        }
      ],
      "source": [
        "# Ahora que ya tenemos la conexión a la base de datos y un cursor, podemos empezar a crear nuestras tablas.\n",
        "cursor.execute(\"CREATE TABLE IF NOT EXISTS users (name TEXT, age NUMBER, fav_fruit STRING)\")"
      ]
    },
    {
      "cell_type": "markdown",
      "metadata": {
        "id": "oxKIaYjDS7vO"
      },
      "source": [
        "---\n",
        "\n",
        "Podemos verificar que la nueva tabla se haya creado consultando la tabla `sqlite_master` integrada en `SQLite`, que ahora debería contener una entrada para la definición de la tabla de `movie`.\n",
        "\n",
        "---"
      ]
    },
    {
      "cell_type": "code",
      "execution_count": null,
      "metadata": {
        "id": "7T3aHIAUS7vQ",
        "outputId": "f49a0167-55e1-4380-edea-d908428ac7a5"
      },
      "outputs": [
        {
          "data": {
            "text/plain": [
              "('users',)"
            ]
          },
          "execution_count": 42,
          "metadata": {},
          "output_type": "execute_result"
        }
      ],
      "source": [
        "response = cursor.execute(\"SELECT name from sqlite_master\")\n",
        "fetchone = response.fetchone()\n",
        "\n",
        "fetchone"
      ]
    },
    {
      "cell_type": "code",
      "execution_count": null,
      "metadata": {
        "id": "uYEft9nJS7vR",
        "outputId": "65891780-1b1a-4011-c37d-75a6986b1cd9"
      },
      "outputs": [
        {
          "data": {
            "text/plain": [
              "<sqlite3.Cursor at 0x2260c59b180>"
            ]
          },
          "execution_count": 43,
          "metadata": {},
          "output_type": "execute_result"
        }
      ],
      "source": [
        "# Generamos una lista de tuplas con información correspondiente a nuestras columnas de users.\n",
        "data = [(\"Ale\", 22, \"apple\"), (\"Mon\", 23, \"kiwi\"), (\"Monty\", 13, \"apple\"), (\"Bel\", 63, \"apple\"), (\"Usal\", 44, \"orange\"), (\"Ynte\", 64, \"orange\"), (\"Alepsa\", 62, \"apple\"), (\"Monday\", 75, \"orange\"), (\"Montal\", 29, \"orange\"),\n",
        "        (\"Onsa\", 36, \"orange\"), (\"Oliver\", 77, \"kiwi\"), (\"Loster\", 63, \"kiwi\"), (\"Alexis\", 16, \"apple\"), (\"Luis\", 18, \"apple\"), (\"Montenegro\", 47, \"apple\"), (\"Ale\", 22, \"apple\"), (\"Mon\", 23, \"watermelon\"), (\"Sandy\", 36, \"apple\")]\n",
        "\n",
        "# A través de nuestro cursor, ejecutamos la operación varias veces, insertando los datos de nuestra lista (utilizamos el placeholder \"?\" para evitar SQL injections)\n",
        "cursor.executemany(\"INSERT INTO users VALUES(?, ?, ?)\", data)"
      ]
    },
    {
      "cell_type": "code",
      "execution_count": null,
      "metadata": {
        "id": "SOz94upwS7vS"
      },
      "outputs": [],
      "source": [
        "# Efectivizamos la operación/transacción haciendo COMMIT en la conexión.\n",
        "connection.commit()"
      ]
    },
    {
      "cell_type": "code",
      "execution_count": null,
      "metadata": {
        "id": "3np-T1kKS7vT",
        "outputId": "4f0cacfe-b2ca-4a47-e87a-d785347a7615"
      },
      "outputs": [
        {
          "data": {
            "text/plain": [
              "[('Ale', 22, 'apple'),\n",
              " ('Mon', 23, 'kiwi'),\n",
              " ('Monty', 13, 'apple'),\n",
              " ('Bel', 63, 'apple'),\n",
              " ('Usal', 44, 'orange'),\n",
              " ('Ynte', 64, 'orange'),\n",
              " ('Alepsa', 62, 'apple'),\n",
              " ('Monday', 75, 'orange'),\n",
              " ('Montal', 29, 'orange'),\n",
              " ('Onsa', 36, 'orange'),\n",
              " ('Oliver', 77, 'kiwi'),\n",
              " ('Loster', 63, 'kiwi'),\n",
              " ('Alexis', 16, 'apple'),\n",
              " ('Luis', 18, 'apple'),\n",
              " ('Montenegro', 47, 'apple'),\n",
              " ('Ale', 22, 'apple'),\n",
              " ('Mon', 23, 'watermelon'),\n",
              " ('Sandy', 36, 'apple')]"
            ]
          },
          "execution_count": 45,
          "metadata": {},
          "output_type": "execute_result"
        }
      ],
      "source": [
        "# Vamos a hacer un query de la información de la tabla Users\n",
        "# Utilizamos fetchall ya que sabemos que van a ser varias filas. En este caso, siempre nos devolverá una tupla por cada fila.\n",
        "query_users = cursor.execute(\"SELECT * FROM users\")\n",
        "fetchall = query_users.fetchall()\n",
        "\n",
        "fetchall"
      ]
    },
    {
      "cell_type": "code",
      "execution_count": null,
      "metadata": {
        "id": "DWy1qZJ9S7vT",
        "outputId": "537ca028-779c-4502-b904-d9b7e5c4cbaf"
      },
      "outputs": [
        {
          "data": {
            "text/plain": [
              "[(9, 'apple'), (3, 'kiwi'), (5, 'orange'), (1, 'watermelon')]"
            ]
          },
          "execution_count": 46,
          "metadata": {},
          "output_type": "execute_result"
        }
      ],
      "source": [
        "# Si queremos utilizar funciones de agregacion, también podemos hacerlo!\n",
        "cursor.execute(\"\"\"SELECT count(*), fav_fruit\n",
        "                FROM users\n",
        "                GROUP BY fav_fruit\n",
        "                ORDER BY fav_fruit\n",
        "            \"\"\")\n",
        "fetch = cursor.fetchall()\n",
        "\n",
        "fetch"
      ]
    },
    {
      "cell_type": "markdown",
      "metadata": {
        "id": "w0ubnPRYS7vU"
      },
      "source": [
        "---\n",
        "\n",
        "Ahora bien, ya entendemos como hacer consultas a nuestra base de datos...\n",
        "\n",
        "Pero... cómo haríamos para obtener un DataFrame de pandas?\n",
        "\n",
        "Una de las maneras más sencillas sería la siguiente\n",
        "\n",
        "---"
      ]
    },
    {
      "cell_type": "code",
      "execution_count": null,
      "metadata": {
        "id": "SxUM_iXIS7vV"
      },
      "outputs": [],
      "source": [
        "query_users = \"SELECT * FROM users\"\n",
        "\n",
        "fav_fruit = pd.read_sql_query(query_users, connection)"
      ]
    },
    {
      "cell_type": "code",
      "execution_count": null,
      "metadata": {
        "id": "1os3a1NcS7vV",
        "outputId": "2af99e05-b53b-42ed-e2b4-68cdc34d02f9"
      },
      "outputs": [
        {
          "data": {
            "text/html": [
              "<div>\n",
              "<style scoped>\n",
              "    .dataframe tbody tr th:only-of-type {\n",
              "        vertical-align: middle;\n",
              "    }\n",
              "\n",
              "    .dataframe tbody tr th {\n",
              "        vertical-align: top;\n",
              "    }\n",
              "\n",
              "    .dataframe thead th {\n",
              "        text-align: right;\n",
              "    }\n",
              "</style>\n",
              "<table border=\"1\" class=\"dataframe\">\n",
              "  <thead>\n",
              "    <tr style=\"text-align: right;\">\n",
              "      <th></th>\n",
              "      <th>name</th>\n",
              "      <th>age</th>\n",
              "      <th>fav_fruit</th>\n",
              "    </tr>\n",
              "  </thead>\n",
              "  <tbody>\n",
              "    <tr>\n",
              "      <th>0</th>\n",
              "      <td>Ale</td>\n",
              "      <td>22</td>\n",
              "      <td>apple</td>\n",
              "    </tr>\n",
              "    <tr>\n",
              "      <th>1</th>\n",
              "      <td>Mon</td>\n",
              "      <td>23</td>\n",
              "      <td>kiwi</td>\n",
              "    </tr>\n",
              "    <tr>\n",
              "      <th>2</th>\n",
              "      <td>Monty</td>\n",
              "      <td>13</td>\n",
              "      <td>apple</td>\n",
              "    </tr>\n",
              "    <tr>\n",
              "      <th>3</th>\n",
              "      <td>Bel</td>\n",
              "      <td>63</td>\n",
              "      <td>apple</td>\n",
              "    </tr>\n",
              "    <tr>\n",
              "      <th>4</th>\n",
              "      <td>Usal</td>\n",
              "      <td>44</td>\n",
              "      <td>orange</td>\n",
              "    </tr>\n",
              "  </tbody>\n",
              "</table>\n",
              "</div>"
            ],
            "text/plain": [
              "    name  age fav_fruit\n",
              "0    Ale   22     apple\n",
              "1    Mon   23      kiwi\n",
              "2  Monty   13     apple\n",
              "3    Bel   63     apple\n",
              "4   Usal   44    orange"
            ]
          },
          "execution_count": 48,
          "metadata": {},
          "output_type": "execute_result"
        }
      ],
      "source": [
        "fav_fruit.head()"
      ]
    },
    {
      "cell_type": "markdown",
      "metadata": {
        "id": "uhDFRc2_S7vW"
      },
      "source": [
        "---\n",
        "\n",
        "Otra posibilidad es simplemente pasar la lista de tuplas (obtenidas a través de la consulta a la base de datos) al constructor DataFrame de pandas.\n",
        "\n",
        "---"
      ]
    },
    {
      "cell_type": "code",
      "execution_count": null,
      "metadata": {
        "id": "tD7wKeBUS7vX"
      },
      "outputs": [],
      "source": [
        "# Hacemos nuevamente la consulta a la base de datos y guardamos en una variable los resultados del query.\n",
        "query_users = cursor.execute(\"SELECT * FROM users\")\n",
        "fav_fruits_fetch = query_users.fetchall()"
      ]
    },
    {
      "cell_type": "code",
      "execution_count": null,
      "metadata": {
        "id": "A8UDawI0S7vY",
        "outputId": "cc5af736-bb78-4656-b59b-ce0c372b551b"
      },
      "outputs": [
        {
          "data": {
            "text/html": [
              "<div>\n",
              "<style scoped>\n",
              "    .dataframe tbody tr th:only-of-type {\n",
              "        vertical-align: middle;\n",
              "    }\n",
              "\n",
              "    .dataframe tbody tr th {\n",
              "        vertical-align: top;\n",
              "    }\n",
              "\n",
              "    .dataframe thead th {\n",
              "        text-align: right;\n",
              "    }\n",
              "</style>\n",
              "<table border=\"1\" class=\"dataframe\">\n",
              "  <thead>\n",
              "    <tr style=\"text-align: right;\">\n",
              "      <th></th>\n",
              "      <th>name</th>\n",
              "      <th>age</th>\n",
              "      <th>fav_fruit</th>\n",
              "    </tr>\n",
              "  </thead>\n",
              "  <tbody>\n",
              "    <tr>\n",
              "      <th>0</th>\n",
              "      <td>Ale</td>\n",
              "      <td>22</td>\n",
              "      <td>apple</td>\n",
              "    </tr>\n",
              "    <tr>\n",
              "      <th>1</th>\n",
              "      <td>Mon</td>\n",
              "      <td>23</td>\n",
              "      <td>kiwi</td>\n",
              "    </tr>\n",
              "    <tr>\n",
              "      <th>2</th>\n",
              "      <td>Monty</td>\n",
              "      <td>13</td>\n",
              "      <td>apple</td>\n",
              "    </tr>\n",
              "    <tr>\n",
              "      <th>3</th>\n",
              "      <td>Bel</td>\n",
              "      <td>63</td>\n",
              "      <td>apple</td>\n",
              "    </tr>\n",
              "    <tr>\n",
              "      <th>4</th>\n",
              "      <td>Usal</td>\n",
              "      <td>44</td>\n",
              "      <td>orange</td>\n",
              "    </tr>\n",
              "  </tbody>\n",
              "</table>\n",
              "</div>"
            ],
            "text/plain": [
              "    name  age fav_fruit\n",
              "0    Ale   22     apple\n",
              "1    Mon   23      kiwi\n",
              "2  Monty   13     apple\n",
              "3    Bel   63     apple\n",
              "4   Usal   44    orange"
            ]
          },
          "execution_count": 50,
          "metadata": {},
          "output_type": "execute_result"
        }
      ],
      "source": [
        "# Generamos un nuevo DataFrame, le pasamos la lista de tuplas y generamos las columnas que necesitamos.\n",
        "df_fav_fruit = pd.DataFrame(fav_fruits_fetch, columns=[\"name\", \"age\", \"fav_fruit\"])\n",
        "\n",
        "df_fav_fruit.head()"
      ]
    },
    {
      "cell_type": "markdown",
      "metadata": {
        "id": "sb_nW2eNS7vZ"
      },
      "source": [
        "---\n",
        "\n",
        "Y otra posibilidad más sería utilizar un método de pandas para construir nuestro DataFrame.\n",
        "\n",
        "En este caso, podríamos utilizar `from_records()`\n",
        "\n",
        "Este método convierte en DataFrame a:\n",
        "- Un array estructurado de numpy\n",
        "- Una lista de diccionarios\n",
        "- Una lista de tuplas (con la correspondiente columna/s)\n",
        "---"
      ]
    },
    {
      "cell_type": "code",
      "execution_count": null,
      "metadata": {
        "id": "rOkKVEeWS7vZ",
        "outputId": "d6447291-9063-4df7-9e26-790fb6459c2e"
      },
      "outputs": [
        {
          "data": {
            "text/html": [
              "<div>\n",
              "<style scoped>\n",
              "    .dataframe tbody tr th:only-of-type {\n",
              "        vertical-align: middle;\n",
              "    }\n",
              "\n",
              "    .dataframe tbody tr th {\n",
              "        vertical-align: top;\n",
              "    }\n",
              "\n",
              "    .dataframe thead th {\n",
              "        text-align: right;\n",
              "    }\n",
              "</style>\n",
              "<table border=\"1\" class=\"dataframe\">\n",
              "  <thead>\n",
              "    <tr style=\"text-align: right;\">\n",
              "      <th></th>\n",
              "      <th>name</th>\n",
              "      <th>age</th>\n",
              "      <th>fav_fruit</th>\n",
              "    </tr>\n",
              "  </thead>\n",
              "  <tbody>\n",
              "    <tr>\n",
              "      <th>0</th>\n",
              "      <td>Ale</td>\n",
              "      <td>22</td>\n",
              "      <td>apple</td>\n",
              "    </tr>\n",
              "    <tr>\n",
              "      <th>1</th>\n",
              "      <td>Mon</td>\n",
              "      <td>23</td>\n",
              "      <td>kiwi</td>\n",
              "    </tr>\n",
              "    <tr>\n",
              "      <th>2</th>\n",
              "      <td>Monty</td>\n",
              "      <td>13</td>\n",
              "      <td>apple</td>\n",
              "    </tr>\n",
              "    <tr>\n",
              "      <th>3</th>\n",
              "      <td>Bel</td>\n",
              "      <td>63</td>\n",
              "      <td>apple</td>\n",
              "    </tr>\n",
              "    <tr>\n",
              "      <th>4</th>\n",
              "      <td>Usal</td>\n",
              "      <td>44</td>\n",
              "      <td>orange</td>\n",
              "    </tr>\n",
              "  </tbody>\n",
              "</table>\n",
              "</div>"
            ],
            "text/plain": [
              "    name  age fav_fruit\n",
              "0    Ale   22     apple\n",
              "1    Mon   23      kiwi\n",
              "2  Monty   13     apple\n",
              "3    Bel   63     apple\n",
              "4   Usal   44    orange"
            ]
          },
          "execution_count": 51,
          "metadata": {},
          "output_type": "execute_result"
        }
      ],
      "source": [
        "df_from_records_fav_fruits = pd.DataFrame.from_records(fav_fruits_fetch, columns=[\"name\", \"age\", \"fav_fruit\"])\n",
        "\n",
        "df_from_records_fav_fruits.head()"
      ]
    },
    {
      "cell_type": "code",
      "execution_count": null,
      "metadata": {
        "id": "lRph1XR7S7va",
        "outputId": "352c4604-010e-423f-cca4-2a2edfa26cca"
      },
      "outputs": [
        {
          "data": {
            "application/vnd.plotly.v1+json": {
              "config": {
                "plotlyServerURL": "https://plot.ly"
              },
              "data": [
                {
                  "alignmentgroup": "True",
                  "hovertemplate": "fav_fruit=%{x}<br>age=%{y}<extra></extra>",
                  "legendgroup": "",
                  "marker": {
                    "color": "#636efa"
                  },
                  "name": "",
                  "notched": false,
                  "offsetgroup": "",
                  "orientation": "v",
                  "showlegend": false,
                  "type": "box",
                  "x": [
                    "apple",
                    "kiwi",
                    "apple",
                    "apple",
                    "orange",
                    "orange",
                    "apple",
                    "orange",
                    "orange",
                    "orange",
                    "kiwi",
                    "kiwi",
                    "apple",
                    "apple",
                    "apple",
                    "apple",
                    "watermelon",
                    "apple"
                  ],
                  "x0": " ",
                  "xaxis": "x",
                  "y": [
                    22,
                    23,
                    13,
                    63,
                    44,
                    64,
                    62,
                    75,
                    29,
                    36,
                    77,
                    63,
                    16,
                    18,
                    47,
                    22,
                    23,
                    36
                  ],
                  "y0": " ",
                  "yaxis": "y"
                }
              ],
              "layout": {
                "boxmode": "group",
                "legend": {
                  "tracegroupgap": 0
                },
                "margin": {
                  "t": 60
                },
                "template": {
                  "data": {
                    "bar": [
                      {
                        "error_x": {
                          "color": "#f2f5fa"
                        },
                        "error_y": {
                          "color": "#f2f5fa"
                        },
                        "marker": {
                          "line": {
                            "color": "rgb(17,17,17)",
                            "width": 0.5
                          },
                          "pattern": {
                            "fillmode": "overlay",
                            "size": 10,
                            "solidity": 0.2
                          }
                        },
                        "type": "bar"
                      }
                    ],
                    "barpolar": [
                      {
                        "marker": {
                          "line": {
                            "color": "rgb(17,17,17)",
                            "width": 0.5
                          },
                          "pattern": {
                            "fillmode": "overlay",
                            "size": 10,
                            "solidity": 0.2
                          }
                        },
                        "type": "barpolar"
                      }
                    ],
                    "carpet": [
                      {
                        "aaxis": {
                          "endlinecolor": "#A2B1C6",
                          "gridcolor": "#506784",
                          "linecolor": "#506784",
                          "minorgridcolor": "#506784",
                          "startlinecolor": "#A2B1C6"
                        },
                        "baxis": {
                          "endlinecolor": "#A2B1C6",
                          "gridcolor": "#506784",
                          "linecolor": "#506784",
                          "minorgridcolor": "#506784",
                          "startlinecolor": "#A2B1C6"
                        },
                        "type": "carpet"
                      }
                    ],
                    "choropleth": [
                      {
                        "colorbar": {
                          "outlinewidth": 0,
                          "ticks": ""
                        },
                        "type": "choropleth"
                      }
                    ],
                    "contour": [
                      {
                        "colorbar": {
                          "outlinewidth": 0,
                          "ticks": ""
                        },
                        "colorscale": [
                          [
                            0,
                            "#0d0887"
                          ],
                          [
                            0.1111111111111111,
                            "#46039f"
                          ],
                          [
                            0.2222222222222222,
                            "#7201a8"
                          ],
                          [
                            0.3333333333333333,
                            "#9c179e"
                          ],
                          [
                            0.4444444444444444,
                            "#bd3786"
                          ],
                          [
                            0.5555555555555556,
                            "#d8576b"
                          ],
                          [
                            0.6666666666666666,
                            "#ed7953"
                          ],
                          [
                            0.7777777777777778,
                            "#fb9f3a"
                          ],
                          [
                            0.8888888888888888,
                            "#fdca26"
                          ],
                          [
                            1,
                            "#f0f921"
                          ]
                        ],
                        "type": "contour"
                      }
                    ],
                    "contourcarpet": [
                      {
                        "colorbar": {
                          "outlinewidth": 0,
                          "ticks": ""
                        },
                        "type": "contourcarpet"
                      }
                    ],
                    "heatmap": [
                      {
                        "colorbar": {
                          "outlinewidth": 0,
                          "ticks": ""
                        },
                        "colorscale": [
                          [
                            0,
                            "#0d0887"
                          ],
                          [
                            0.1111111111111111,
                            "#46039f"
                          ],
                          [
                            0.2222222222222222,
                            "#7201a8"
                          ],
                          [
                            0.3333333333333333,
                            "#9c179e"
                          ],
                          [
                            0.4444444444444444,
                            "#bd3786"
                          ],
                          [
                            0.5555555555555556,
                            "#d8576b"
                          ],
                          [
                            0.6666666666666666,
                            "#ed7953"
                          ],
                          [
                            0.7777777777777778,
                            "#fb9f3a"
                          ],
                          [
                            0.8888888888888888,
                            "#fdca26"
                          ],
                          [
                            1,
                            "#f0f921"
                          ]
                        ],
                        "type": "heatmap"
                      }
                    ],
                    "heatmapgl": [
                      {
                        "colorbar": {
                          "outlinewidth": 0,
                          "ticks": ""
                        },
                        "colorscale": [
                          [
                            0,
                            "#0d0887"
                          ],
                          [
                            0.1111111111111111,
                            "#46039f"
                          ],
                          [
                            0.2222222222222222,
                            "#7201a8"
                          ],
                          [
                            0.3333333333333333,
                            "#9c179e"
                          ],
                          [
                            0.4444444444444444,
                            "#bd3786"
                          ],
                          [
                            0.5555555555555556,
                            "#d8576b"
                          ],
                          [
                            0.6666666666666666,
                            "#ed7953"
                          ],
                          [
                            0.7777777777777778,
                            "#fb9f3a"
                          ],
                          [
                            0.8888888888888888,
                            "#fdca26"
                          ],
                          [
                            1,
                            "#f0f921"
                          ]
                        ],
                        "type": "heatmapgl"
                      }
                    ],
                    "histogram": [
                      {
                        "marker": {
                          "pattern": {
                            "fillmode": "overlay",
                            "size": 10,
                            "solidity": 0.2
                          }
                        },
                        "type": "histogram"
                      }
                    ],
                    "histogram2d": [
                      {
                        "colorbar": {
                          "outlinewidth": 0,
                          "ticks": ""
                        },
                        "colorscale": [
                          [
                            0,
                            "#0d0887"
                          ],
                          [
                            0.1111111111111111,
                            "#46039f"
                          ],
                          [
                            0.2222222222222222,
                            "#7201a8"
                          ],
                          [
                            0.3333333333333333,
                            "#9c179e"
                          ],
                          [
                            0.4444444444444444,
                            "#bd3786"
                          ],
                          [
                            0.5555555555555556,
                            "#d8576b"
                          ],
                          [
                            0.6666666666666666,
                            "#ed7953"
                          ],
                          [
                            0.7777777777777778,
                            "#fb9f3a"
                          ],
                          [
                            0.8888888888888888,
                            "#fdca26"
                          ],
                          [
                            1,
                            "#f0f921"
                          ]
                        ],
                        "type": "histogram2d"
                      }
                    ],
                    "histogram2dcontour": [
                      {
                        "colorbar": {
                          "outlinewidth": 0,
                          "ticks": ""
                        },
                        "colorscale": [
                          [
                            0,
                            "#0d0887"
                          ],
                          [
                            0.1111111111111111,
                            "#46039f"
                          ],
                          [
                            0.2222222222222222,
                            "#7201a8"
                          ],
                          [
                            0.3333333333333333,
                            "#9c179e"
                          ],
                          [
                            0.4444444444444444,
                            "#bd3786"
                          ],
                          [
                            0.5555555555555556,
                            "#d8576b"
                          ],
                          [
                            0.6666666666666666,
                            "#ed7953"
                          ],
                          [
                            0.7777777777777778,
                            "#fb9f3a"
                          ],
                          [
                            0.8888888888888888,
                            "#fdca26"
                          ],
                          [
                            1,
                            "#f0f921"
                          ]
                        ],
                        "type": "histogram2dcontour"
                      }
                    ],
                    "mesh3d": [
                      {
                        "colorbar": {
                          "outlinewidth": 0,
                          "ticks": ""
                        },
                        "type": "mesh3d"
                      }
                    ],
                    "parcoords": [
                      {
                        "line": {
                          "colorbar": {
                            "outlinewidth": 0,
                            "ticks": ""
                          }
                        },
                        "type": "parcoords"
                      }
                    ],
                    "pie": [
                      {
                        "automargin": true,
                        "type": "pie"
                      }
                    ],
                    "scatter": [
                      {
                        "marker": {
                          "line": {
                            "color": "#283442"
                          }
                        },
                        "type": "scatter"
                      }
                    ],
                    "scatter3d": [
                      {
                        "line": {
                          "colorbar": {
                            "outlinewidth": 0,
                            "ticks": ""
                          }
                        },
                        "marker": {
                          "colorbar": {
                            "outlinewidth": 0,
                            "ticks": ""
                          }
                        },
                        "type": "scatter3d"
                      }
                    ],
                    "scattercarpet": [
                      {
                        "marker": {
                          "colorbar": {
                            "outlinewidth": 0,
                            "ticks": ""
                          }
                        },
                        "type": "scattercarpet"
                      }
                    ],
                    "scattergeo": [
                      {
                        "marker": {
                          "colorbar": {
                            "outlinewidth": 0,
                            "ticks": ""
                          }
                        },
                        "type": "scattergeo"
                      }
                    ],
                    "scattergl": [
                      {
                        "marker": {
                          "line": {
                            "color": "#283442"
                          }
                        },
                        "type": "scattergl"
                      }
                    ],
                    "scattermapbox": [
                      {
                        "marker": {
                          "colorbar": {
                            "outlinewidth": 0,
                            "ticks": ""
                          }
                        },
                        "type": "scattermapbox"
                      }
                    ],
                    "scatterpolar": [
                      {
                        "marker": {
                          "colorbar": {
                            "outlinewidth": 0,
                            "ticks": ""
                          }
                        },
                        "type": "scatterpolar"
                      }
                    ],
                    "scatterpolargl": [
                      {
                        "marker": {
                          "colorbar": {
                            "outlinewidth": 0,
                            "ticks": ""
                          }
                        },
                        "type": "scatterpolargl"
                      }
                    ],
                    "scatterternary": [
                      {
                        "marker": {
                          "colorbar": {
                            "outlinewidth": 0,
                            "ticks": ""
                          }
                        },
                        "type": "scatterternary"
                      }
                    ],
                    "surface": [
                      {
                        "colorbar": {
                          "outlinewidth": 0,
                          "ticks": ""
                        },
                        "colorscale": [
                          [
                            0,
                            "#0d0887"
                          ],
                          [
                            0.1111111111111111,
                            "#46039f"
                          ],
                          [
                            0.2222222222222222,
                            "#7201a8"
                          ],
                          [
                            0.3333333333333333,
                            "#9c179e"
                          ],
                          [
                            0.4444444444444444,
                            "#bd3786"
                          ],
                          [
                            0.5555555555555556,
                            "#d8576b"
                          ],
                          [
                            0.6666666666666666,
                            "#ed7953"
                          ],
                          [
                            0.7777777777777778,
                            "#fb9f3a"
                          ],
                          [
                            0.8888888888888888,
                            "#fdca26"
                          ],
                          [
                            1,
                            "#f0f921"
                          ]
                        ],
                        "type": "surface"
                      }
                    ],
                    "table": [
                      {
                        "cells": {
                          "fill": {
                            "color": "#506784"
                          },
                          "line": {
                            "color": "rgb(17,17,17)"
                          }
                        },
                        "header": {
                          "fill": {
                            "color": "#2a3f5f"
                          },
                          "line": {
                            "color": "rgb(17,17,17)"
                          }
                        },
                        "type": "table"
                      }
                    ]
                  },
                  "layout": {
                    "annotationdefaults": {
                      "arrowcolor": "#f2f5fa",
                      "arrowhead": 0,
                      "arrowwidth": 1
                    },
                    "autotypenumbers": "strict",
                    "coloraxis": {
                      "colorbar": {
                        "outlinewidth": 0,
                        "ticks": ""
                      }
                    },
                    "colorscale": {
                      "diverging": [
                        [
                          0,
                          "#8e0152"
                        ],
                        [
                          0.1,
                          "#c51b7d"
                        ],
                        [
                          0.2,
                          "#de77ae"
                        ],
                        [
                          0.3,
                          "#f1b6da"
                        ],
                        [
                          0.4,
                          "#fde0ef"
                        ],
                        [
                          0.5,
                          "#f7f7f7"
                        ],
                        [
                          0.6,
                          "#e6f5d0"
                        ],
                        [
                          0.7,
                          "#b8e186"
                        ],
                        [
                          0.8,
                          "#7fbc41"
                        ],
                        [
                          0.9,
                          "#4d9221"
                        ],
                        [
                          1,
                          "#276419"
                        ]
                      ],
                      "sequential": [
                        [
                          0,
                          "#0d0887"
                        ],
                        [
                          0.1111111111111111,
                          "#46039f"
                        ],
                        [
                          0.2222222222222222,
                          "#7201a8"
                        ],
                        [
                          0.3333333333333333,
                          "#9c179e"
                        ],
                        [
                          0.4444444444444444,
                          "#bd3786"
                        ],
                        [
                          0.5555555555555556,
                          "#d8576b"
                        ],
                        [
                          0.6666666666666666,
                          "#ed7953"
                        ],
                        [
                          0.7777777777777778,
                          "#fb9f3a"
                        ],
                        [
                          0.8888888888888888,
                          "#fdca26"
                        ],
                        [
                          1,
                          "#f0f921"
                        ]
                      ],
                      "sequentialminus": [
                        [
                          0,
                          "#0d0887"
                        ],
                        [
                          0.1111111111111111,
                          "#46039f"
                        ],
                        [
                          0.2222222222222222,
                          "#7201a8"
                        ],
                        [
                          0.3333333333333333,
                          "#9c179e"
                        ],
                        [
                          0.4444444444444444,
                          "#bd3786"
                        ],
                        [
                          0.5555555555555556,
                          "#d8576b"
                        ],
                        [
                          0.6666666666666666,
                          "#ed7953"
                        ],
                        [
                          0.7777777777777778,
                          "#fb9f3a"
                        ],
                        [
                          0.8888888888888888,
                          "#fdca26"
                        ],
                        [
                          1,
                          "#f0f921"
                        ]
                      ]
                    },
                    "colorway": [
                      "#636efa",
                      "#EF553B",
                      "#00cc96",
                      "#ab63fa",
                      "#FFA15A",
                      "#19d3f3",
                      "#FF6692",
                      "#B6E880",
                      "#FF97FF",
                      "#FECB52"
                    ],
                    "font": {
                      "color": "#f2f5fa"
                    },
                    "geo": {
                      "bgcolor": "rgb(17,17,17)",
                      "lakecolor": "rgb(17,17,17)",
                      "landcolor": "rgb(17,17,17)",
                      "showlakes": true,
                      "showland": true,
                      "subunitcolor": "#506784"
                    },
                    "hoverlabel": {
                      "align": "left"
                    },
                    "hovermode": "closest",
                    "mapbox": {
                      "style": "dark"
                    },
                    "paper_bgcolor": "rgb(17,17,17)",
                    "plot_bgcolor": "rgb(17,17,17)",
                    "polar": {
                      "angularaxis": {
                        "gridcolor": "#506784",
                        "linecolor": "#506784",
                        "ticks": ""
                      },
                      "bgcolor": "rgb(17,17,17)",
                      "radialaxis": {
                        "gridcolor": "#506784",
                        "linecolor": "#506784",
                        "ticks": ""
                      }
                    },
                    "scene": {
                      "xaxis": {
                        "backgroundcolor": "rgb(17,17,17)",
                        "gridcolor": "#506784",
                        "gridwidth": 2,
                        "linecolor": "#506784",
                        "showbackground": true,
                        "ticks": "",
                        "zerolinecolor": "#C8D4E3"
                      },
                      "yaxis": {
                        "backgroundcolor": "rgb(17,17,17)",
                        "gridcolor": "#506784",
                        "gridwidth": 2,
                        "linecolor": "#506784",
                        "showbackground": true,
                        "ticks": "",
                        "zerolinecolor": "#C8D4E3"
                      },
                      "zaxis": {
                        "backgroundcolor": "rgb(17,17,17)",
                        "gridcolor": "#506784",
                        "gridwidth": 2,
                        "linecolor": "#506784",
                        "showbackground": true,
                        "ticks": "",
                        "zerolinecolor": "#C8D4E3"
                      }
                    },
                    "shapedefaults": {
                      "line": {
                        "color": "#f2f5fa"
                      }
                    },
                    "sliderdefaults": {
                      "bgcolor": "#C8D4E3",
                      "bordercolor": "rgb(17,17,17)",
                      "borderwidth": 1,
                      "tickwidth": 0
                    },
                    "ternary": {
                      "aaxis": {
                        "gridcolor": "#506784",
                        "linecolor": "#506784",
                        "ticks": ""
                      },
                      "baxis": {
                        "gridcolor": "#506784",
                        "linecolor": "#506784",
                        "ticks": ""
                      },
                      "bgcolor": "rgb(17,17,17)",
                      "caxis": {
                        "gridcolor": "#506784",
                        "linecolor": "#506784",
                        "ticks": ""
                      }
                    },
                    "title": {
                      "x": 0.05
                    },
                    "updatemenudefaults": {
                      "bgcolor": "#506784",
                      "borderwidth": 0
                    },
                    "xaxis": {
                      "automargin": true,
                      "gridcolor": "#283442",
                      "linecolor": "#506784",
                      "ticks": "",
                      "title": {
                        "standoff": 15
                      },
                      "zerolinecolor": "#283442",
                      "zerolinewidth": 2
                    },
                    "yaxis": {
                      "automargin": true,
                      "gridcolor": "#283442",
                      "linecolor": "#506784",
                      "ticks": "",
                      "title": {
                        "standoff": 15
                      },
                      "zerolinecolor": "#283442",
                      "zerolinewidth": 2
                    }
                  }
                },
                "title": {
                  "text": "Favorite food over people's age"
                },
                "xaxis": {
                  "anchor": "y",
                  "domain": [
                    0,
                    1
                  ],
                  "title": {
                    "text": "Fruit"
                  }
                },
                "yaxis": {
                  "anchor": "x",
                  "domain": [
                    0,
                    1
                  ],
                  "title": {
                    "text": "Age"
                  }
                }
              }
            }
          },
          "metadata": {},
          "output_type": "display_data"
        }
      ],
      "source": [
        "# Vamos a gráficar algo muy sencillo para probar nuestro DataFrame!\n",
        "\n",
        "fig = px.box(fav_fruit, x='fav_fruit', y='age')\n",
        "\n",
        "fig.update_layout(\n",
        "    title=\"Favorite food over people's age\",\n",
        "    xaxis_title='Fruit',\n",
        "    yaxis_title='Age',\n",
        "    template='plotly_dark'\n",
        ")\n",
        "\n",
        "fig.show()"
      ]
    },
    {
      "cell_type": "markdown",
      "metadata": {
        "id": "ZnL1XClKS7vb"
      },
      "source": [
        "## **<font color=\"DeepPink\">4. Application Programming Interface (API) - Interfaz de programación de aplicaciones</font>**\n",
        "\n",
        "Una interfaz de programación de aplicaciones (API) es una forma definida para que una aplicación se comunique con otros programas y viceversa. Permiten a los programadores obtener datos de una aplicación sin tener que conocer la arquitectura de la base de datos de esa aplicación.\n",
        "\n",
        "Usar una API para obtener datos es como usar un catálogo para pedir productos. El catálogo muestra lo que está disponible y proporciona instrucciones de pedido. Enviamos un pedido debidamente formado a la dirección correcta y efectivamente recibimos lo que ordenamos.\n",
        "\n",
        "De manera similar, una API proporciona un punto final para enviar solicitudes y la documentación describe cómo debería verse una solicitud, como los parámetros que se deben incluir.\n",
        "\n",
        "En resumen:\n",
        "- Permite la comunicación entre diferentes programas y aplicaciones.\n",
        "- Proporciona una forma definida y estructurada de interacción.\n",
        "- Permite a los programadores obtener datos y realizar acciones en una aplicación sin conocer los detalles internos.\n",
        "- Funciona como un catálogo de productos para hacer pedidos.\n",
        "- El catálogo muestra lo disponible y proporciona instrucciones de pedido.\n",
        "- Una API tiene un punto final (endpoint) para enviar solicitudes.\n",
        "- La documentación describe cómo debe verse una solicitud, incluyendo los parámetros necesarios.\n",
        "- Permite obtener datos y realizar acciones de manera estandarizada.\n",
        "\n",
        "Algunos ejemplos de APIs:\n",
        "- [Advice Slip API](https://api.adviceslip.com/)\n",
        "- [PokeAPI](https://pokeapi.co/)\n",
        "- [Open Weather API](https://openweathermap.org/api/)\n",
        "- [JSON Placeholder API](https://jsonplaceholder.typicode.com/)"
      ]
    },
    {
      "cell_type": "markdown",
      "metadata": {
        "id": "Ni9P1SvYS7vc"
      },
      "source": [
        "---\n",
        "\n",
        "Si bien podemos utilizar bibliotecas que ya tengan su propio wrapper API y formas de hacer peticiones, por ejemplo:\n",
        "- [OpenAI](https://platform.openai.com/docs/libraries)\n",
        "- [SpotiPy](https://spotipy.readthedocs.io/en/2.22.1/)\n",
        "- [PokeBase](https://github.com/PokeAPI/pokebase/)\n",
        "\n",
        "En nuestro caso, utilizaremos una biblioteca de python llamada `Requests` para hacer nuestras propias peticiones HTTP.\n",
        "- [Requests Docs](https://pypi.org/project/requests/)\n",
        "\n",
        "---"
      ]
    },
    {
      "cell_type": "markdown",
      "metadata": {
        "id": "8xyd_DKlS7vd"
      },
      "source": [
        "**Por qué esta librería?**\n",
        "- Nos permite enviar y recibir información de cualquier sitio web (o API)\n",
        "- No está atada a alguna API en particular (por lo que podemos utilizarla en infinidad de ocasiones)\n",
        "- Es sencilla de utilizar para dar nuestros primeros pasos.\n",
        "\n",
        "---"
      ]
    },
    {
      "cell_type": "markdown",
      "metadata": {
        "id": "xp5nYfJPS7vd"
      },
      "source": [
        "Si bien anteriormente solo hemos manejado datos en forma tabular, ahora entraremos en otro formato de notación de objetos Javascript. Más conocido como **JSON** o Javascript Object Notation.\n",
        "\n",
        "Pero... qué es un `JSON`?\n",
        "- Es un formato ligero y legible por humanos utilizado para el intercambio de datos entre aplicaciones\n",
        "\n",
        "Principales características:\n",
        "- La mayoría de los lenguajes de programación hacen uso de las estructuras de datos utilizadas por JSON.\n",
        "- Permite generar y analizar datos de forma legible para los humanos.\n",
        "- Es comúnmente utilizado en el desarrollo web para transmitir datos a través de la web.\n",
        "- Los datos JSON no son tabulares como los DataFrames.\n",
        "- Los objetos son similares a los diccionarios de Python y se encierran entre llaves.\n",
        "- Los objetos contienen pares de atributo-valor (key-value).\n",
        "- Los JSON permiten anidar valores, lo que significa que los valores pueden ser objetos o listas de objetos.\n",
        "\n",
        "---\n",
        "\n",
        "Con pandas, una de las formas más sencillas de leer un JSON es con el método `read_json()`.\n",
        "\n",
        "Vamos con ello!\n",
        "\n",
        "---"
      ]
    },
    {
      "cell_type": "code",
      "execution_count": null,
      "metadata": {
        "id": "qzQFST_3S7ve"
      },
      "outputs": [],
      "source": [
        "# Vamos a importar las librerías de requests y json.\n",
        "import json\n",
        "import requests"
      ]
    },
    {
      "cell_type": "code",
      "execution_count": null,
      "metadata": {
        "id": "ZljMRSCsS7vf"
      },
      "outputs": [],
      "source": [
        "api_cat_facts = \"https://cat-fact.herokuapp.com/facts\"\n",
        "\n",
        "response = requests.get(api_cat_facts)"
      ]
    },
    {
      "cell_type": "code",
      "execution_count": null,
      "metadata": {
        "id": "yDbRTPpLS7vg",
        "outputId": "a78655c7-4e23-49d0-9a45-fc9c84905903"
      },
      "outputs": [
        {
          "data": {
            "text/plain": [
              "<Response [200]>"
            ]
          },
          "execution_count": 55,
          "metadata": {},
          "output_type": "execute_result"
        }
      ],
      "source": [
        "response"
      ]
    },
    {
      "cell_type": "code",
      "execution_count": null,
      "metadata": {
        "id": "1LAaUaxuS7vh",
        "outputId": "6fb4bbc1-d2c5-49a0-8504-453711b183b5"
      },
      "outputs": [
        {
          "data": {
            "text/plain": [
              "[{'status': {'verified': True, 'feedback': '', 'sentCount': 1},\n",
              "  '_id': '5887e1d85c873e0011036889',\n",
              "  'user': '5a9ac18c7478810ea6c06381',\n",
              "  'text': 'Cats make about 100 different sounds. Dogs make only about 10.',\n",
              "  '__v': 0,\n",
              "  'source': 'user',\n",
              "  'updatedAt': '2020-09-03T16:39:39.578Z',\n",
              "  'type': 'cat',\n",
              "  'createdAt': '2018-01-15T21:20:00.003Z',\n",
              "  'deleted': False,\n",
              "  'used': True},\n",
              " {'status': {'verified': True, 'sentCount': 1},\n",
              "  '_id': '588e746706ac2b00110e59ff',\n",
              "  'user': '588e6e8806ac2b00110e59c3',\n",
              "  'text': 'Domestic cats spend about 70 percent of the day sleeping and 15 percent of the day grooming.',\n",
              "  '__v': 0,\n",
              "  'source': 'user',\n",
              "  'updatedAt': '2020-08-26T20:20:02.359Z',\n",
              "  'type': 'cat',\n",
              "  'createdAt': '2018-01-14T21:20:02.750Z',\n",
              "  'deleted': False,\n",
              "  'used': True},\n",
              " {'status': {'verified': True, 'sentCount': 1},\n",
              "  '_id': '58923f2fc3878c0011784c79',\n",
              "  'user': '5887e9f65c873e001103688d',\n",
              "  'text': \"I don't know anything about cats.\",\n",
              "  '__v': 0,\n",
              "  'source': 'user',\n",
              "  'updatedAt': '2020-08-23T20:20:01.611Z',\n",
              "  'type': 'cat',\n",
              "  'createdAt': '2018-02-25T21:20:03.060Z',\n",
              "  'deleted': False,\n",
              "  'used': False},\n",
              " {'status': {'verified': True, 'sentCount': 1},\n",
              "  '_id': '5894af975cdc7400113ef7f9',\n",
              "  'user': '5a9ac18c7478810ea6c06381',\n",
              "  'text': 'The technical term for a cat’s hairball is a bezoar.',\n",
              "  '__v': 0,\n",
              "  'source': 'user',\n",
              "  'updatedAt': '2020-11-25T21:20:03.895Z',\n",
              "  'type': 'cat',\n",
              "  'createdAt': '2018-02-27T21:20:02.854Z',\n",
              "  'deleted': False,\n",
              "  'used': True},\n",
              " {'status': {'verified': True, 'sentCount': 1},\n",
              "  '_id': '58e007cc0aac31001185ecf5',\n",
              "  'user': '58e007480aac31001185ecef',\n",
              "  'text': 'Cats are the most popular pet in the United States: There are 88 million pet cats and 74 million dogs.',\n",
              "  '__v': 0,\n",
              "  'source': 'user',\n",
              "  'updatedAt': '2020-08-23T20:20:01.611Z',\n",
              "  'type': 'cat',\n",
              "  'createdAt': '2018-03-01T21:20:02.713Z',\n",
              "  'deleted': False,\n",
              "  'used': False}]"
            ]
          },
          "execution_count": 56,
          "metadata": {},
          "output_type": "execute_result"
        }
      ],
      "source": [
        "response.json()"
      ]
    },
    {
      "cell_type": "code",
      "execution_count": null,
      "metadata": {
        "id": "iQOLdagQS7vh",
        "outputId": "88564190-718c-4d75-842b-07969cbfec02"
      },
      "outputs": [
        {
          "name": "stdout",
          "output_type": "stream",
          "text": [
            "[ 1 ] {'status': {'verified': True, 'feedback': '', 'sentCount': 1}, '_id': '5887e1d85c873e0011036889', 'user': '5a9ac18c7478810ea6c06381', 'text': 'Cats make about 100 different sounds. Dogs make only about 10.', '__v': 0, 'source': 'user', 'updatedAt': '2020-09-03T16:39:39.578Z', 'type': 'cat', 'createdAt': '2018-01-15T21:20:00.003Z', 'deleted': False, 'used': True}\n",
            "[ 2 ] {'status': {'verified': True, 'sentCount': 1}, '_id': '588e746706ac2b00110e59ff', 'user': '588e6e8806ac2b00110e59c3', 'text': 'Domestic cats spend about 70 percent of the day sleeping and 15 percent of the day grooming.', '__v': 0, 'source': 'user', 'updatedAt': '2020-08-26T20:20:02.359Z', 'type': 'cat', 'createdAt': '2018-01-14T21:20:02.750Z', 'deleted': False, 'used': True}\n",
            "[ 3 ] {'status': {'verified': True, 'sentCount': 1}, '_id': '58923f2fc3878c0011784c79', 'user': '5887e9f65c873e001103688d', 'text': \"I don't know anything about cats.\", '__v': 0, 'source': 'user', 'updatedAt': '2020-08-23T20:20:01.611Z', 'type': 'cat', 'createdAt': '2018-02-25T21:20:03.060Z', 'deleted': False, 'used': False}\n",
            "[ 4 ] {'status': {'verified': True, 'sentCount': 1}, '_id': '5894af975cdc7400113ef7f9', 'user': '5a9ac18c7478810ea6c06381', 'text': 'The technical term for a cat’s hairball is a bezoar.', '__v': 0, 'source': 'user', 'updatedAt': '2020-11-25T21:20:03.895Z', 'type': 'cat', 'createdAt': '2018-02-27T21:20:02.854Z', 'deleted': False, 'used': True}\n",
            "[ 5 ] {'status': {'verified': True, 'sentCount': 1}, '_id': '58e007cc0aac31001185ecf5', 'user': '58e007480aac31001185ecef', 'text': 'Cats are the most popular pet in the United States: There are 88 million pet cats and 74 million dogs.', '__v': 0, 'source': 'user', 'updatedAt': '2020-08-23T20:20:01.611Z', 'type': 'cat', 'createdAt': '2018-03-01T21:20:02.713Z', 'deleted': False, 'used': False}\n"
          ]
        }
      ],
      "source": [
        "data = response.json()\n",
        "\n",
        "for idx, fact in enumerate(data):\n",
        "    print(f\"[ {idx+1} ] {fact}\")"
      ]
    },
    {
      "cell_type": "code",
      "execution_count": null,
      "metadata": {
        "id": "qe-Md5kuS7vi",
        "outputId": "e1b49a01-43dc-43cd-b3d3-3503aae14fa0"
      },
      "outputs": [
        {
          "data": {
            "text/plain": [
              "['Cats make about 100 different sounds. Dogs make only about 10.',\n",
              " 'Domestic cats spend about 70 percent of the day sleeping and 15 percent of the day grooming.',\n",
              " \"I don't know anything about cats.\",\n",
              " 'The technical term for a cat’s hairball is a bezoar.',\n",
              " 'Cats are the most popular pet in the United States: There are 88 million pet cats and 74 million dogs.']"
            ]
          },
          "execution_count": 58,
          "metadata": {},
          "output_type": "execute_result"
        }
      ],
      "source": [
        "# Podríamos crear una lista que contenga los textos... pero quizá aún sea mejor tener un DataFrame!\n",
        "facts = [fact['text'] for fact in data]\n",
        "\n",
        "facts"
      ]
    },
    {
      "cell_type": "code",
      "execution_count": null,
      "metadata": {
        "id": "XsrPcjIdS7vj"
      },
      "outputs": [],
      "source": [
        "cat_facts = pd.DataFrame(data)"
      ]
    },
    {
      "cell_type": "code",
      "execution_count": null,
      "metadata": {
        "id": "XVx3B7x2S7vk",
        "outputId": "96977e94-6336-4d6d-8bee-6a5b726d46a1"
      },
      "outputs": [
        {
          "data": {
            "text/html": [
              "<div>\n",
              "<style scoped>\n",
              "    .dataframe tbody tr th:only-of-type {\n",
              "        vertical-align: middle;\n",
              "    }\n",
              "\n",
              "    .dataframe tbody tr th {\n",
              "        vertical-align: top;\n",
              "    }\n",
              "\n",
              "    .dataframe thead th {\n",
              "        text-align: right;\n",
              "    }\n",
              "</style>\n",
              "<table border=\"1\" class=\"dataframe\">\n",
              "  <thead>\n",
              "    <tr style=\"text-align: right;\">\n",
              "      <th></th>\n",
              "      <th>status</th>\n",
              "      <th>_id</th>\n",
              "      <th>user</th>\n",
              "      <th>text</th>\n",
              "      <th>__v</th>\n",
              "      <th>source</th>\n",
              "      <th>updatedAt</th>\n",
              "      <th>type</th>\n",
              "      <th>createdAt</th>\n",
              "      <th>deleted</th>\n",
              "      <th>used</th>\n",
              "    </tr>\n",
              "  </thead>\n",
              "  <tbody>\n",
              "    <tr>\n",
              "      <th>0</th>\n",
              "      <td>{'verified': True, 'feedback': '', 'sentCount'...</td>\n",
              "      <td>5887e1d85c873e0011036889</td>\n",
              "      <td>5a9ac18c7478810ea6c06381</td>\n",
              "      <td>Cats make about 100 different sounds. Dogs mak...</td>\n",
              "      <td>0</td>\n",
              "      <td>user</td>\n",
              "      <td>2020-09-03T16:39:39.578Z</td>\n",
              "      <td>cat</td>\n",
              "      <td>2018-01-15T21:20:00.003Z</td>\n",
              "      <td>False</td>\n",
              "      <td>True</td>\n",
              "    </tr>\n",
              "    <tr>\n",
              "      <th>1</th>\n",
              "      <td>{'verified': True, 'sentCount': 1}</td>\n",
              "      <td>588e746706ac2b00110e59ff</td>\n",
              "      <td>588e6e8806ac2b00110e59c3</td>\n",
              "      <td>Domestic cats spend about 70 percent of the da...</td>\n",
              "      <td>0</td>\n",
              "      <td>user</td>\n",
              "      <td>2020-08-26T20:20:02.359Z</td>\n",
              "      <td>cat</td>\n",
              "      <td>2018-01-14T21:20:02.750Z</td>\n",
              "      <td>False</td>\n",
              "      <td>True</td>\n",
              "    </tr>\n",
              "    <tr>\n",
              "      <th>2</th>\n",
              "      <td>{'verified': True, 'sentCount': 1}</td>\n",
              "      <td>58923f2fc3878c0011784c79</td>\n",
              "      <td>5887e9f65c873e001103688d</td>\n",
              "      <td>I don't know anything about cats.</td>\n",
              "      <td>0</td>\n",
              "      <td>user</td>\n",
              "      <td>2020-08-23T20:20:01.611Z</td>\n",
              "      <td>cat</td>\n",
              "      <td>2018-02-25T21:20:03.060Z</td>\n",
              "      <td>False</td>\n",
              "      <td>False</td>\n",
              "    </tr>\n",
              "    <tr>\n",
              "      <th>3</th>\n",
              "      <td>{'verified': True, 'sentCount': 1}</td>\n",
              "      <td>5894af975cdc7400113ef7f9</td>\n",
              "      <td>5a9ac18c7478810ea6c06381</td>\n",
              "      <td>The technical term for a cat’s hairball is a b...</td>\n",
              "      <td>0</td>\n",
              "      <td>user</td>\n",
              "      <td>2020-11-25T21:20:03.895Z</td>\n",
              "      <td>cat</td>\n",
              "      <td>2018-02-27T21:20:02.854Z</td>\n",
              "      <td>False</td>\n",
              "      <td>True</td>\n",
              "    </tr>\n",
              "    <tr>\n",
              "      <th>4</th>\n",
              "      <td>{'verified': True, 'sentCount': 1}</td>\n",
              "      <td>58e007cc0aac31001185ecf5</td>\n",
              "      <td>58e007480aac31001185ecef</td>\n",
              "      <td>Cats are the most popular pet in the United St...</td>\n",
              "      <td>0</td>\n",
              "      <td>user</td>\n",
              "      <td>2020-08-23T20:20:01.611Z</td>\n",
              "      <td>cat</td>\n",
              "      <td>2018-03-01T21:20:02.713Z</td>\n",
              "      <td>False</td>\n",
              "      <td>False</td>\n",
              "    </tr>\n",
              "  </tbody>\n",
              "</table>\n",
              "</div>"
            ],
            "text/plain": [
              "                                              status  \\\n",
              "0  {'verified': True, 'feedback': '', 'sentCount'...   \n",
              "1                 {'verified': True, 'sentCount': 1}   \n",
              "2                 {'verified': True, 'sentCount': 1}   \n",
              "3                 {'verified': True, 'sentCount': 1}   \n",
              "4                 {'verified': True, 'sentCount': 1}   \n",
              "\n",
              "                        _id                      user  \\\n",
              "0  5887e1d85c873e0011036889  5a9ac18c7478810ea6c06381   \n",
              "1  588e746706ac2b00110e59ff  588e6e8806ac2b00110e59c3   \n",
              "2  58923f2fc3878c0011784c79  5887e9f65c873e001103688d   \n",
              "3  5894af975cdc7400113ef7f9  5a9ac18c7478810ea6c06381   \n",
              "4  58e007cc0aac31001185ecf5  58e007480aac31001185ecef   \n",
              "\n",
              "                                                text  __v source  \\\n",
              "0  Cats make about 100 different sounds. Dogs mak...    0   user   \n",
              "1  Domestic cats spend about 70 percent of the da...    0   user   \n",
              "2                  I don't know anything about cats.    0   user   \n",
              "3  The technical term for a cat’s hairball is a b...    0   user   \n",
              "4  Cats are the most popular pet in the United St...    0   user   \n",
              "\n",
              "                  updatedAt type                 createdAt  deleted   used  \n",
              "0  2020-09-03T16:39:39.578Z  cat  2018-01-15T21:20:00.003Z    False   True  \n",
              "1  2020-08-26T20:20:02.359Z  cat  2018-01-14T21:20:02.750Z    False   True  \n",
              "2  2020-08-23T20:20:01.611Z  cat  2018-02-25T21:20:03.060Z    False  False  \n",
              "3  2020-11-25T21:20:03.895Z  cat  2018-02-27T21:20:02.854Z    False   True  \n",
              "4  2020-08-23T20:20:01.611Z  cat  2018-03-01T21:20:02.713Z    False  False  "
            ]
          },
          "execution_count": 60,
          "metadata": {},
          "output_type": "execute_result"
        }
      ],
      "source": [
        "cat_facts"
      ]
    },
    {
      "cell_type": "markdown",
      "metadata": {
        "id": "V-BerhtdS7vk"
      },
      "source": [
        "---\n",
        "\n",
        "Vamos a probar otra API!\n",
        "\n",
        "En este caso, vamos a ver **PokeAPI** 🐢🐦🐎\n",
        "\n",
        "---"
      ]
    },
    {
      "cell_type": "code",
      "execution_count": null,
      "metadata": {
        "id": "jWIXbbczS7vl"
      },
      "outputs": [],
      "source": [
        "api_poke = \"https://pokeapi.co/api/v2/pokemon/\"\n",
        "\n",
        "pokemon = str(input())\n",
        "\n",
        "response = requests.get(api_poke+pokemon)"
      ]
    },
    {
      "cell_type": "code",
      "execution_count": null,
      "metadata": {
        "id": "MLxgiWneS7vl"
      },
      "outputs": [],
      "source": [
        "data = response.json()"
      ]
    },
    {
      "cell_type": "code",
      "execution_count": null,
      "metadata": {
        "id": "cmwbPOaVS7vm",
        "outputId": "c204931e-6bb8-45c4-e166-a5f70018288c"
      },
      "outputs": [
        {
          "name": "stdout",
          "output_type": "stream",
          "text": [
            "abilities\n",
            "base_experience\n",
            "forms\n",
            "game_indices\n",
            "height\n",
            "held_items\n",
            "id\n",
            "is_default\n",
            "location_area_encounters\n",
            "moves\n",
            "name\n",
            "order\n",
            "past_types\n",
            "species\n",
            "sprites\n",
            "stats\n",
            "types\n",
            "weight\n"
          ]
        }
      ],
      "source": [
        "for key in data.keys():\n",
        "    print(key)"
      ]
    },
    {
      "cell_type": "code",
      "execution_count": null,
      "metadata": {
        "id": "zpT35MQ2S7vn"
      },
      "outputs": [],
      "source": [
        "pokedex_stats = pd.DataFrame(data['stats'])"
      ]
    },
    {
      "cell_type": "code",
      "execution_count": null,
      "metadata": {
        "id": "HTj7ssvmS7vo",
        "outputId": "6481a3fc-85b7-4e0e-cb6a-54fc116f61c0"
      },
      "outputs": [
        {
          "data": {
            "text/html": [
              "<div>\n",
              "<style scoped>\n",
              "    .dataframe tbody tr th:only-of-type {\n",
              "        vertical-align: middle;\n",
              "    }\n",
              "\n",
              "    .dataframe tbody tr th {\n",
              "        vertical-align: top;\n",
              "    }\n",
              "\n",
              "    .dataframe thead th {\n",
              "        text-align: right;\n",
              "    }\n",
              "</style>\n",
              "<table border=\"1\" class=\"dataframe\">\n",
              "  <thead>\n",
              "    <tr style=\"text-align: right;\">\n",
              "      <th></th>\n",
              "      <th>base_stat</th>\n",
              "      <th>effort</th>\n",
              "      <th>stat</th>\n",
              "    </tr>\n",
              "  </thead>\n",
              "  <tbody>\n",
              "    <tr>\n",
              "      <th>0</th>\n",
              "      <td>39</td>\n",
              "      <td>0</td>\n",
              "      <td>{'name': 'hp', 'url': 'https://pokeapi.co/api/...</td>\n",
              "    </tr>\n",
              "    <tr>\n",
              "      <th>1</th>\n",
              "      <td>52</td>\n",
              "      <td>0</td>\n",
              "      <td>{'name': 'attack', 'url': 'https://pokeapi.co/...</td>\n",
              "    </tr>\n",
              "    <tr>\n",
              "      <th>2</th>\n",
              "      <td>43</td>\n",
              "      <td>0</td>\n",
              "      <td>{'name': 'defense', 'url': 'https://pokeapi.co...</td>\n",
              "    </tr>\n",
              "    <tr>\n",
              "      <th>3</th>\n",
              "      <td>60</td>\n",
              "      <td>0</td>\n",
              "      <td>{'name': 'special-attack', 'url': 'https://pok...</td>\n",
              "    </tr>\n",
              "    <tr>\n",
              "      <th>4</th>\n",
              "      <td>50</td>\n",
              "      <td>0</td>\n",
              "      <td>{'name': 'special-defense', 'url': 'https://po...</td>\n",
              "    </tr>\n",
              "    <tr>\n",
              "      <th>5</th>\n",
              "      <td>65</td>\n",
              "      <td>1</td>\n",
              "      <td>{'name': 'speed', 'url': 'https://pokeapi.co/a...</td>\n",
              "    </tr>\n",
              "  </tbody>\n",
              "</table>\n",
              "</div>"
            ],
            "text/plain": [
              "   base_stat  effort                                               stat\n",
              "0         39       0  {'name': 'hp', 'url': 'https://pokeapi.co/api/...\n",
              "1         52       0  {'name': 'attack', 'url': 'https://pokeapi.co/...\n",
              "2         43       0  {'name': 'defense', 'url': 'https://pokeapi.co...\n",
              "3         60       0  {'name': 'special-attack', 'url': 'https://pok...\n",
              "4         50       0  {'name': 'special-defense', 'url': 'https://po...\n",
              "5         65       1  {'name': 'speed', 'url': 'https://pokeapi.co/a..."
            ]
          },
          "execution_count": 65,
          "metadata": {},
          "output_type": "execute_result"
        }
      ],
      "source": [
        "pokedex_stats"
      ]
    },
    {
      "cell_type": "markdown",
      "metadata": {
        "id": "Um66ViyqS7vo"
      },
      "source": [
        "---\n",
        "\n",
        "Estas APIs son públicas y podemos hacerles peticiones GET directamente al endpoint.\n",
        "\n",
        "Pero vale la pena recordar que algunas que utilicemos, pueden llegar a tener autenticación y, por tanto debamos pasar un header u otros parámetros más. Por ejemplo\n",
        "\n",
        "``` python\n",
        "headers = {\"Authorization\": f\"Bearer {api_key}\"}\n",
        "response = requests.get(api_url, headers=headers)\n",
        "```\n",
        "\n",
        "En esta ocasión, no ahondaremos en este tema.\n",
        "\n",
        "---"
      ]
    },
    {
      "cell_type": "markdown",
      "metadata": {
        "id": "AeFSFlMVY2kF"
      },
      "source": [
        " # **<font color=\"DeepPink\">Conclusiones</font>**"
      ]
    },
    {
      "cell_type": "markdown",
      "metadata": {
        "id": "hMlr5a9OY9xY"
      },
      "source": [
        "<p align=\"justify\">\n",
        "👀 En este colab nosotros, aprendimos acerca de la ingestión de datos en:\n",
        "<br><br>\n",
        "✅ Archivos planos (y sus diferentes variantes).\n",
        "<br>\n",
        "✅ Archivos de excel (o spreadsheets).\n",
        "<br>\n",
        "✅ Bases de datos relacionales y cómo poder utilizar sus datos mediantes consultas en python.\n",
        "<br>\n",
        "✅ APIs y cómo hacer uso de sus datos mediante algunas peticiones.\n",
        "</p>\n",
        "\n",
        "<p align=\"justify\">\n",
        "\n"
      ]
    },
    {
      "cell_type": "markdown",
      "metadata": {
        "id": "wtgChAZSaUMQ"
      },
      "source": [
        "<br>\n",
        "<br>\n",
        "<p align=\"center\"><b>\n",
        "💗\n",
        "<font color=\"DeepPink\">\n",
        "Hemos llegado al final de nuestro colab, a seguir codeando...\n",
        "</font>\n",
        "</p>\n"
      ]
    }
  ],
  "metadata": {
    "colab": {
      "provenance": [],
      "include_colab_link": true
    },
    "kernelspec": {
      "display_name": "Python 3",
      "name": "python3"
    },
    "language_info": {
      "codemirror_mode": {
        "name": "ipython",
        "version": 3
      },
      "file_extension": ".py",
      "mimetype": "text/x-python",
      "name": "python",
      "nbconvert_exporter": "python",
      "pygments_lexer": "ipython3",
      "version": "3.8.12"
    }
  },
  "nbformat": 4,
  "nbformat_minor": 0
}