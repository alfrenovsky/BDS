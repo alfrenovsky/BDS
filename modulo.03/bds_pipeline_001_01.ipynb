{
  "nbformat": 4,
  "nbformat_minor": 0,
  "metadata": {
    "colab": {
      "provenance": [],
      "include_colab_link": true
    },
    "kernelspec": {
      "name": "python3",
      "display_name": "Python 3"
    },
    "language_info": {
      "name": "python"
    }
  },
  "cells": [
    {
      "cell_type": "markdown",
      "metadata": {
        "id": "view-in-github",
        "colab_type": "text"
      },
      "source": [
        "<a href=\"https://colab.research.google.com/github/cristiandarioortegayubro/BDS/blob/main/modulo.03/bds_pipeline_001_01.ipynb\" target=\"_parent\"><img src=\"https://colab.research.google.com/assets/colab-badge.svg\" alt=\"Open In Colab\"/></a>"
      ]
    },
    {
      "cell_type": "markdown",
      "source": [
        "<p align=\"center\">\n",
        "<img src=\"https://github.com/cristiandarioortegayubro/BDS/blob/main/images/Logo%20Scikit-learn.png?raw=true\">\n",
        "</p>\n"
      ],
      "metadata": {
        "id": "XM-hn7ZLmgQc"
      }
    },
    {
      "cell_type": "markdown",
      "source": [
        " # **<font color=\"DeepPink\">Historia de scikit-learn</font>**"
      ],
      "metadata": {
        "id": "_o8tuKydjnRZ"
      }
    },
    {
      "cell_type": "markdown",
      "source": [
        "<p align=\"justify\">\n",
        "La historia de scikit-learn es interesante, ya que se ha convertido en una de las bibliotecas de aprendizaje automático más populares y ampliamente utilizadas en el ecosistema de Python.\n",
        "<br><br>\n",
        "👀 Resumen de su historia:\n",
        "<br><br>\n",
        "\n",
        "1. **Orígenes y lanzamiento inicial:**\n",
        "   Scikit-learn fue creado por David Cournapeau en 2007 como parte de su tesis doctoral en la Universidad Tecnológica de Nueva Gales del Sur, en Australia. Originalmente, la biblioteca se llamaba \"scikits.learn\" y se diseñó como un proyecto de código abierto para proporcionar herramientas simples y eficientes para el aprendizaje automático en Python. La primera versión pública fue lanzada en el año 2010.\n",
        "\n",
        "2. **Crecimiento y adopción:**\n",
        "   Desde su lanzamiento inicial, scikit-learn ha experimentado un crecimiento significativo en términos de funcionalidad, rendimiento y popularidad. Se han agregado numerosos algoritmos de aprendizaje automático, herramientas de preprocesamiento de datos, métricas de evaluación y utilidades para facilitar el desarrollo de modelos predictivos y análisis de datos.\n",
        "\n",
        "3. **Contribuciones y comunidad:**\n",
        "   Una de las fortalezas de scikit-learn es su activa comunidad de desarrolladores y contribuyentes. A lo largo de los años, cientos de desarrolladores han contribuido al proyecto, añadiendo nuevas características, corrigiendo errores y mejorando la documentación. Esto ha permitido que scikit-learn evolucione rápidamente y se mantenga al día con los avances en el campo del aprendizaje automático.\n",
        "\n",
        "4. **Reconocimiento y uso generalizado:**\n",
        "   Scikit-learn ha sido ampliamente reconocido en la comunidad de aprendizaje automático por su facilidad de uso, su enfoque en la simplicidad y su amplia gama de algoritmos implementados. Se ha convertido en una herramienta estándar para estudiantes, académicos, investigadores y profesionales de la industria que trabajan en aprendizaje automático y análisis de datos.\n",
        "\n",
        "5. **Integración con ecosistema de Python:**\n",
        "   Scikit-learn se integra bien con otras bibliotecas y herramientas populares en el ecosistema de Python, como NumPy, SciPy, Pandas, Matplotlib, Seaborn y Plotly lo que permite construir y desplegar flujos de trabajo completos para el análisis de datos y el desarrollo de modelos predictivos.\n",
        "\n",
        "<br>\n",
        "<p align=\"justify\">\n",
        "✅ La historia de scikit-learn es la de un proyecto de código abierto que ha crecido desde sus humildes comienzos hasta convertirse en una de las bibliotecas de aprendizaje automático más utilizadas y respetadas en la comunidad de Python. Su simplicidad, funcionalidad y comunidad activa han contribuido en gran medida a su éxito y adopción generalizada."
      ],
      "metadata": {
        "id": "_BfDGMapj0dr"
      }
    },
    {
      "cell_type": "markdown",
      "source": [
        " # **<font color=\"DeepPink\">Primer modelo con scikit-learn</font>**"
      ],
      "metadata": {
        "id": "35ClOH8Rj0M1"
      }
    },
    {
      "cell_type": "markdown",
      "source": [
        "❤ https://scikit-learn.org/stable/"
      ],
      "metadata": {
        "id": "hgRR1HRUKIed"
      }
    },
    {
      "cell_type": "markdown",
      "source": [
        "<p align=\"justify\">\n",
        "👀 En este Colab, vamos a construir un modelo predictivo de datos tabulares y solo con las variables numéricas. <br><br>En particular, se destacan las siguientes funciones y métodos:\n",
        "</p>\n",
        "\n",
        "- <code>.fit(X, y)</code> para entrenar.\n",
        "- <code>.predict(X)</code> para predecir.\n",
        "- <code>.score(X, y)</code> para evaluar la predicción.\n",
        "- Evaluación del rendimiento del modelo con:\n",
        "     - un conjunto de datos de entrenamiento.\n",
        "     - un conjunto de datos de prueba."
      ],
      "metadata": {
        "id": "nW9lN0L_nFT7"
      }
    },
    {
      "cell_type": "markdown",
      "source": [
        "<p align=\"justify\"> 👀 Los <mark>datos numéricos</mark> son el tipo de datos que <mark>se utilizan naturalmente en los modelos de aprendizaje automático</mark> y pueden incorporarse directamente a los modelos predictivos, bueno, casi directamente (conviene normalizarlos).<br><br> Ahora a continuación, vamos a cargar un conjunto de  datos, pero solo vamos a trabajar con las columnas numéricas. Por eso, habilitamos <code>Pandas</code>, <code>Numpy</code> y leemos los datos de <code>Github</code>.</p>"
      ],
      "metadata": {
        "id": "riE9ZSRbOdsF"
      }
    },
    {
      "cell_type": "code",
      "source": [
        "import numpy as np\n",
        "import pandas as pd"
      ],
      "metadata": {
        "id": "dQtWrchXqRb3"
      },
      "execution_count": null,
      "outputs": []
    },
    {
      "cell_type": "code",
      "source": [
        "adult_census = pd.read_csv(\"https://raw.githubusercontent.com/cristiandarioortegayubro/BDS/main/datasets/adult_census.csv\")"
      ],
      "metadata": {
        "id": "CrAA-UTEQRCa"
      },
      "execution_count": null,
      "outputs": []
    },
    {
      "cell_type": "markdown",
      "source": [
        "<p align=\"justify\">\n",
        "👀 Vamos a trabajar con los datos del censo.\n",
        "</p>\n",
        "\n",
        "Las columnas son:\n",
        "\n",
        "- Edad - Age\n",
        "- Clase de Trabajo - Workclass\n",
        "- Educacion - Education\n",
        "- Educacion numerica - Education num\n",
        "- Estado civil - Marital status\n",
        "- Ocupacion - Occupation\n",
        "- Relacion - Relationship\n",
        "- Raza - Race\n",
        "- Sexo - Sex\n",
        "- Ganancia de capital - Capital gain\n",
        "- Perdida de capital - Capital loss\n",
        "- Horas por semana - Hours per week\n",
        "- Pais nativo - Native country\n",
        "- Clase - Class"
      ],
      "metadata": {
        "id": "MyPXUzWXv_KZ"
      }
    },
    {
      "cell_type": "code",
      "source": [
        "adult_census.info()"
      ],
      "metadata": {
        "colab": {
          "base_uri": "https://localhost:8080/"
        },
        "id": "qPAX9PkOQWIs",
        "outputId": "775f3ea6-84c0-47f8-e123-d378300570ff"
      },
      "execution_count": null,
      "outputs": [
        {
          "output_type": "stream",
          "name": "stdout",
          "text": [
            "<class 'pandas.core.frame.DataFrame'>\n",
            "RangeIndex: 48842 entries, 0 to 48841\n",
            "Data columns (total 14 columns):\n",
            " #   Column          Non-Null Count  Dtype \n",
            "---  ------          --------------  ----- \n",
            " 0   age             48842 non-null  int64 \n",
            " 1   workclass       48842 non-null  object\n",
            " 2   education       48842 non-null  object\n",
            " 3   education-num   48842 non-null  int64 \n",
            " 4   marital-status  48842 non-null  object\n",
            " 5   occupation      48842 non-null  object\n",
            " 6   relationship    48842 non-null  object\n",
            " 7   race            48842 non-null  object\n",
            " 8   sex             48842 non-null  object\n",
            " 9   capital-gain    48842 non-null  int64 \n",
            " 10  capital-loss    48842 non-null  int64 \n",
            " 11  hours-per-week  48842 non-null  int64 \n",
            " 12  native-country  48842 non-null  object\n",
            " 13  class           48842 non-null  object\n",
            "dtypes: int64(5), object(9)\n",
            "memory usage: 5.2+ MB\n"
          ]
        }
      ]
    },
    {
      "cell_type": "markdown",
      "source": [
        "<p align=\"justify\">\n",
        "👀 Asignamos a un objeto la variable objetivo:\n",
        "</p>\n"
      ],
      "metadata": {
        "id": "7U4aftIZOkF0"
      }
    },
    {
      "cell_type": "code",
      "source": [
        "target_column = \"class\""
      ],
      "metadata": {
        "id": "VwvLae88Oe_N"
      },
      "execution_count": null,
      "outputs": []
    },
    {
      "cell_type": "markdown",
      "source": [
        "<p align=\"justify\">\n",
        "👀 Generamos la lista de las variables (columnas) numericas.\n",
        "</p>\n"
      ],
      "metadata": {
        "id": "E0mpx3iTN2Ph"
      }
    },
    {
      "cell_type": "code",
      "source": [
        "numerical_columns = [\"age\",\n",
        "                     \"education-num\",\n",
        "                     \"capital-gain\",\n",
        "                     \"capital-loss\",\n",
        "                     \"hours-per-week\"]"
      ],
      "metadata": {
        "id": "F6TyquqPNrPl"
      },
      "execution_count": null,
      "outputs": []
    },
    {
      "cell_type": "markdown",
      "source": [
        "<p align=\"justify\">\n",
        "👀 Las columnas numéricas y la variable objetivo.\n",
        "</p>"
      ],
      "metadata": {
        "id": "W53GBwMzOwoT"
      }
    },
    {
      "cell_type": "code",
      "source": [
        "all_columns = numerical_columns + [target_column]"
      ],
      "metadata": {
        "id": "S155zZL0OyJP"
      },
      "execution_count": null,
      "outputs": []
    },
    {
      "cell_type": "code",
      "source": [
        "df = adult_census[all_columns]"
      ],
      "metadata": {
        "id": "iI9EUYF6N6aE"
      },
      "execution_count": null,
      "outputs": []
    },
    {
      "cell_type": "markdown",
      "source": [
        "👀 Ahora si, nuestro <code>DataFrame</code> de columnas numéricas..., excepto la variable objetivo que no es numérica..."
      ],
      "metadata": {
        "id": "cLivojogMDeo"
      }
    },
    {
      "cell_type": "code",
      "source": [
        "df"
      ],
      "metadata": {
        "colab": {
          "base_uri": "https://localhost:8080/",
          "height": 423
        },
        "id": "TgsvasWWOItZ",
        "outputId": "7fed1c76-8c10-46ae-ea80-dfa7f33150f5"
      },
      "execution_count": null,
      "outputs": [
        {
          "output_type": "execute_result",
          "data": {
            "text/plain": [
              "       age  education-num  capital-gain  capital-loss  hours-per-week   class\n",
              "0       25              7             0             0              40   <=50K\n",
              "1       38              9             0             0              50   <=50K\n",
              "2       28             12             0             0              40    >50K\n",
              "3       44             10          7688             0              40    >50K\n",
              "4       18             10             0             0              30   <=50K\n",
              "...    ...            ...           ...           ...             ...     ...\n",
              "48837   27             12             0             0              38   <=50K\n",
              "48838   40              9             0             0              40    >50K\n",
              "48839   58              9             0             0              40   <=50K\n",
              "48840   22              9             0             0              20   <=50K\n",
              "48841   52              9         15024             0              40    >50K\n",
              "\n",
              "[48842 rows x 6 columns]"
            ],
            "text/html": [
              "\n",
              "  <div id=\"df-740e9486-9c56-411d-b527-a29f41d425a6\">\n",
              "    <div class=\"colab-df-container\">\n",
              "      <div>\n",
              "<style scoped>\n",
              "    .dataframe tbody tr th:only-of-type {\n",
              "        vertical-align: middle;\n",
              "    }\n",
              "\n",
              "    .dataframe tbody tr th {\n",
              "        vertical-align: top;\n",
              "    }\n",
              "\n",
              "    .dataframe thead th {\n",
              "        text-align: right;\n",
              "    }\n",
              "</style>\n",
              "<table border=\"1\" class=\"dataframe\">\n",
              "  <thead>\n",
              "    <tr style=\"text-align: right;\">\n",
              "      <th></th>\n",
              "      <th>age</th>\n",
              "      <th>education-num</th>\n",
              "      <th>capital-gain</th>\n",
              "      <th>capital-loss</th>\n",
              "      <th>hours-per-week</th>\n",
              "      <th>class</th>\n",
              "    </tr>\n",
              "  </thead>\n",
              "  <tbody>\n",
              "    <tr>\n",
              "      <th>0</th>\n",
              "      <td>25</td>\n",
              "      <td>7</td>\n",
              "      <td>0</td>\n",
              "      <td>0</td>\n",
              "      <td>40</td>\n",
              "      <td>&lt;=50K</td>\n",
              "    </tr>\n",
              "    <tr>\n",
              "      <th>1</th>\n",
              "      <td>38</td>\n",
              "      <td>9</td>\n",
              "      <td>0</td>\n",
              "      <td>0</td>\n",
              "      <td>50</td>\n",
              "      <td>&lt;=50K</td>\n",
              "    </tr>\n",
              "    <tr>\n",
              "      <th>2</th>\n",
              "      <td>28</td>\n",
              "      <td>12</td>\n",
              "      <td>0</td>\n",
              "      <td>0</td>\n",
              "      <td>40</td>\n",
              "      <td>&gt;50K</td>\n",
              "    </tr>\n",
              "    <tr>\n",
              "      <th>3</th>\n",
              "      <td>44</td>\n",
              "      <td>10</td>\n",
              "      <td>7688</td>\n",
              "      <td>0</td>\n",
              "      <td>40</td>\n",
              "      <td>&gt;50K</td>\n",
              "    </tr>\n",
              "    <tr>\n",
              "      <th>4</th>\n",
              "      <td>18</td>\n",
              "      <td>10</td>\n",
              "      <td>0</td>\n",
              "      <td>0</td>\n",
              "      <td>30</td>\n",
              "      <td>&lt;=50K</td>\n",
              "    </tr>\n",
              "    <tr>\n",
              "      <th>...</th>\n",
              "      <td>...</td>\n",
              "      <td>...</td>\n",
              "      <td>...</td>\n",
              "      <td>...</td>\n",
              "      <td>...</td>\n",
              "      <td>...</td>\n",
              "    </tr>\n",
              "    <tr>\n",
              "      <th>48837</th>\n",
              "      <td>27</td>\n",
              "      <td>12</td>\n",
              "      <td>0</td>\n",
              "      <td>0</td>\n",
              "      <td>38</td>\n",
              "      <td>&lt;=50K</td>\n",
              "    </tr>\n",
              "    <tr>\n",
              "      <th>48838</th>\n",
              "      <td>40</td>\n",
              "      <td>9</td>\n",
              "      <td>0</td>\n",
              "      <td>0</td>\n",
              "      <td>40</td>\n",
              "      <td>&gt;50K</td>\n",
              "    </tr>\n",
              "    <tr>\n",
              "      <th>48839</th>\n",
              "      <td>58</td>\n",
              "      <td>9</td>\n",
              "      <td>0</td>\n",
              "      <td>0</td>\n",
              "      <td>40</td>\n",
              "      <td>&lt;=50K</td>\n",
              "    </tr>\n",
              "    <tr>\n",
              "      <th>48840</th>\n",
              "      <td>22</td>\n",
              "      <td>9</td>\n",
              "      <td>0</td>\n",
              "      <td>0</td>\n",
              "      <td>20</td>\n",
              "      <td>&lt;=50K</td>\n",
              "    </tr>\n",
              "    <tr>\n",
              "      <th>48841</th>\n",
              "      <td>52</td>\n",
              "      <td>9</td>\n",
              "      <td>15024</td>\n",
              "      <td>0</td>\n",
              "      <td>40</td>\n",
              "      <td>&gt;50K</td>\n",
              "    </tr>\n",
              "  </tbody>\n",
              "</table>\n",
              "<p>48842 rows × 6 columns</p>\n",
              "</div>\n",
              "      <button class=\"colab-df-convert\" onclick=\"convertToInteractive('df-740e9486-9c56-411d-b527-a29f41d425a6')\"\n",
              "              title=\"Convert this dataframe to an interactive table.\"\n",
              "              style=\"display:none;\">\n",
              "        \n",
              "  <svg xmlns=\"http://www.w3.org/2000/svg\" height=\"24px\"viewBox=\"0 0 24 24\"\n",
              "       width=\"24px\">\n",
              "    <path d=\"M0 0h24v24H0V0z\" fill=\"none\"/>\n",
              "    <path d=\"M18.56 5.44l.94 2.06.94-2.06 2.06-.94-2.06-.94-.94-2.06-.94 2.06-2.06.94zm-11 1L8.5 8.5l.94-2.06 2.06-.94-2.06-.94L8.5 2.5l-.94 2.06-2.06.94zm10 10l.94 2.06.94-2.06 2.06-.94-2.06-.94-.94-2.06-.94 2.06-2.06.94z\"/><path d=\"M17.41 7.96l-1.37-1.37c-.4-.4-.92-.59-1.43-.59-.52 0-1.04.2-1.43.59L10.3 9.45l-7.72 7.72c-.78.78-.78 2.05 0 2.83L4 21.41c.39.39.9.59 1.41.59.51 0 1.02-.2 1.41-.59l7.78-7.78 2.81-2.81c.8-.78.8-2.07 0-2.86zM5.41 20L4 18.59l7.72-7.72 1.47 1.35L5.41 20z\"/>\n",
              "  </svg>\n",
              "      </button>\n",
              "      \n",
              "  <style>\n",
              "    .colab-df-container {\n",
              "      display:flex;\n",
              "      flex-wrap:wrap;\n",
              "      gap: 12px;\n",
              "    }\n",
              "\n",
              "    .colab-df-convert {\n",
              "      background-color: #E8F0FE;\n",
              "      border: none;\n",
              "      border-radius: 50%;\n",
              "      cursor: pointer;\n",
              "      display: none;\n",
              "      fill: #1967D2;\n",
              "      height: 32px;\n",
              "      padding: 0 0 0 0;\n",
              "      width: 32px;\n",
              "    }\n",
              "\n",
              "    .colab-df-convert:hover {\n",
              "      background-color: #E2EBFA;\n",
              "      box-shadow: 0px 1px 2px rgba(60, 64, 67, 0.3), 0px 1px 3px 1px rgba(60, 64, 67, 0.15);\n",
              "      fill: #174EA6;\n",
              "    }\n",
              "\n",
              "    [theme=dark] .colab-df-convert {\n",
              "      background-color: #3B4455;\n",
              "      fill: #D2E3FC;\n",
              "    }\n",
              "\n",
              "    [theme=dark] .colab-df-convert:hover {\n",
              "      background-color: #434B5C;\n",
              "      box-shadow: 0px 1px 3px 1px rgba(0, 0, 0, 0.15);\n",
              "      filter: drop-shadow(0px 1px 2px rgba(0, 0, 0, 0.3));\n",
              "      fill: #FFFFFF;\n",
              "    }\n",
              "  </style>\n",
              "\n",
              "      <script>\n",
              "        const buttonEl =\n",
              "          document.querySelector('#df-740e9486-9c56-411d-b527-a29f41d425a6 button.colab-df-convert');\n",
              "        buttonEl.style.display =\n",
              "          google.colab.kernel.accessAllowed ? 'block' : 'none';\n",
              "\n",
              "        async function convertToInteractive(key) {\n",
              "          const element = document.querySelector('#df-740e9486-9c56-411d-b527-a29f41d425a6');\n",
              "          const dataTable =\n",
              "            await google.colab.kernel.invokeFunction('convertToInteractive',\n",
              "                                                     [key], {});\n",
              "          if (!dataTable) return;\n",
              "\n",
              "          const docLinkHtml = 'Like what you see? Visit the ' +\n",
              "            '<a target=\"_blank\" href=https://colab.research.google.com/notebooks/data_table.ipynb>data table notebook</a>'\n",
              "            + ' to learn more about interactive tables.';\n",
              "          element.innerHTML = '';\n",
              "          dataTable['output_type'] = 'display_data';\n",
              "          await google.colab.output.renderOutput(dataTable, element);\n",
              "          const docLink = document.createElement('div');\n",
              "          docLink.innerHTML = docLinkHtml;\n",
              "          element.appendChild(docLink);\n",
              "        }\n",
              "      </script>\n",
              "    </div>\n",
              "  </div>\n",
              "  "
            ]
          },
          "metadata": {},
          "execution_count": 8
        }
      ]
    },
    {
      "cell_type": "code",
      "source": [
        "df.dtypes"
      ],
      "metadata": {
        "colab": {
          "base_uri": "https://localhost:8080/"
        },
        "id": "NsfalR3XMP1y",
        "outputId": "3f5c78d5-907c-4b67-faf1-234e9064a384"
      },
      "execution_count": null,
      "outputs": [
        {
          "output_type": "execute_result",
          "data": {
            "text/plain": [
              "age                int64\n",
              "education-num      int64\n",
              "capital-gain       int64\n",
              "capital-loss       int64\n",
              "hours-per-week     int64\n",
              "class             object\n",
              "dtype: object"
            ]
          },
          "metadata": {},
          "execution_count": 9
        }
      ]
    },
    {
      "cell_type": "markdown",
      "source": [
        "<p align=\"justify\">\n",
        "✅ El objetivo con estos datos es predecir si una persona gana más de 50K al año a partir de las variables que se encuentran a disposición.\n",
        "</p>\n",
        "\n"
      ],
      "metadata": {
        "id": "9PJ74u_kRATa"
      }
    },
    {
      "cell_type": "markdown",
      "source": [
        " # **<font color=\"DeepPink\">Algunos conceptos de Aprendizaje Automático</font>**"
      ],
      "metadata": {
        "id": "AxpsObB0cO74"
      }
    },
    {
      "cell_type": "markdown",
      "source": [
        "<p align=\"justify\">\n",
        "✅ En general, un problema de <b>Aprendizaje Automático</b> considera un conjunto de $n$ muestras de datos y luego trata de predecir las propiedades de los datos desconocidos. Si cada muestra es más que un solo número, por ejemplo los datos multivariados, se dice que la muestra tiene varios atributos o características.\n",
        "<br><br> Vamos a dividir los problemas de Aprendizaje Automático en dos categorías:\n",
        "<br><br>\n",
        "</p>\n",
        "\n",
        "+ **Aprendizaje Supervisado**, en el que los datos vienen con atributos adicionales que queremos predecir. El Aprendizaje Supervisado puede ser de:\n",
        "\n",
        " + **Clasificación**: las muestras pertenecen a dos (clasificacion binaria) o más clases (clasificacion multiclase) y queremos aprender de los datos ya etiquetados (variable objetivo) para predecir la clase de aquellos datos que no estan etiquetados (datos nuevos). Un ejemplo de un problema de clasificación binaria sería la predicción de la contratación de un seguro ofrecido por un banco, en virtud de las caracteristicas de los clientes del banco.\n",
        "\n",
        "  + **Regresión**: si la salida deseada consiste en una o más variables continuas, entonces este modelo se llama regresión. Un ejemplo de un problema de regresión sería la predicción del precio de una propiedad en virtud de las caracteristicas de la propiedad.\n",
        "\n",
        "+ **Aprendizaje no Supervisado**, en el que los datos de entrenamiento consisten en un conjunto de vectores de entrada $x$ sin ninguna variable objetivo correspondiente, ya que el objetivo de tales problemas de Aprendizaje no Supervisado puede ser descubrir grupos de ejemplos similares dentro de los datos, lo que se denomina agrupamiento, o determinar la distribución de los datos, conocido como estimación de densidad, o proyectar los datos desde un punto de vista de dimensión, como por ejemplo, reducir el espacio a dos o tres dimensiones con el propósito de visualización.\n"
      ],
      "metadata": {
        "id": "z8Ih8odicWju"
      }
    },
    {
      "cell_type": "markdown",
      "source": [
        "<p align=\"center\">\n",
        "<img src=\"https://github.com/cristiandarioortegayubro/BDS/blob/main/images/ML-001.png?raw=true\" width=\"500\">\n",
        "</p>\n"
      ],
      "metadata": {
        "id": "SCqFuG6-gL4O"
      }
    },
    {
      "cell_type": "markdown",
      "source": [
        " # **<font color=\"DeepPink\">Separar la variable objetivo y las variables explicativas</font>**"
      ],
      "metadata": {
        "id": "Y7LDCZ14PIKr"
      }
    },
    {
      "cell_type": "markdown",
      "source": [
        "👀 Ahora vamos a dividir del conjunto de datos, la variable objetivo y las variables explicativas, es decir, vamos a obtener una <code>Serie</code> para la variable objetivo y un <code>DataFrame</code> con las variables explicativas..."
      ],
      "metadata": {
        "id": "altA6V1pMkaH"
      }
    },
    {
      "cell_type": "markdown",
      "source": [
        " ## **<font color=\"DeepPink\">Variable objetivo</font>**"
      ],
      "metadata": {
        "id": "-arLUF-RRYV5"
      }
    },
    {
      "cell_type": "code",
      "source": [
        "y = df[target_column]\n",
        "y"
      ],
      "metadata": {
        "colab": {
          "base_uri": "https://localhost:8080/"
        },
        "id": "0R_PbU2nTHxL",
        "outputId": "cea73a2b-8693-4ecc-9281-df7ebe1bbb39"
      },
      "execution_count": null,
      "outputs": [
        {
          "output_type": "execute_result",
          "data": {
            "text/plain": [
              "0         <=50K\n",
              "1         <=50K\n",
              "2          >50K\n",
              "3          >50K\n",
              "4         <=50K\n",
              "          ...  \n",
              "48837     <=50K\n",
              "48838      >50K\n",
              "48839     <=50K\n",
              "48840     <=50K\n",
              "48841      >50K\n",
              "Name: class, Length: 48842, dtype: object"
            ]
          },
          "metadata": {},
          "execution_count": 10
        }
      ]
    },
    {
      "cell_type": "markdown",
      "source": [
        "👀 Verificamos que el objeto es una <code>Serie</code>..."
      ],
      "metadata": {
        "id": "d6AecnHEZjxy"
      }
    },
    {
      "cell_type": "code",
      "source": [
        "type(y)"
      ],
      "metadata": {
        "colab": {
          "base_uri": "https://localhost:8080/"
        },
        "id": "DrcL5nKxZNVr",
        "outputId": "71537119-77b9-4a5a-cb23-158df8f4c3ca"
      },
      "execution_count": null,
      "outputs": [
        {
          "output_type": "execute_result",
          "data": {
            "text/plain": [
              "pandas.core.series.Series"
            ]
          },
          "metadata": {},
          "execution_count": 11
        }
      ]
    },
    {
      "cell_type": "code",
      "source": [
        "y.dtype"
      ],
      "metadata": {
        "colab": {
          "base_uri": "https://localhost:8080/"
        },
        "id": "5pp7a5uLZT1x",
        "outputId": "c1ba44b5-ad24-4337-8136-b919295aba8e"
      },
      "execution_count": null,
      "outputs": [
        {
          "output_type": "execute_result",
          "data": {
            "text/plain": [
              "dtype('O')"
            ]
          },
          "metadata": {},
          "execution_count": 12
        }
      ]
    },
    {
      "cell_type": "markdown",
      "source": [
        " ## **<font color=\"DeepPink\">Variables explicativas</font>**"
      ],
      "metadata": {
        "id": "4jf6V2nQRuf2"
      }
    },
    {
      "cell_type": "code",
      "source": [
        "X = df.drop(columns=[\"class\"])\n",
        "X"
      ],
      "metadata": {
        "id": "wIftI-C-HchO",
        "colab": {
          "base_uri": "https://localhost:8080/",
          "height": 423
        },
        "outputId": "6cdd21ff-8a80-4716-8bc4-f2e9b593f105"
      },
      "execution_count": null,
      "outputs": [
        {
          "output_type": "execute_result",
          "data": {
            "text/plain": [
              "       age  education-num  capital-gain  capital-loss  hours-per-week\n",
              "0       25              7             0             0              40\n",
              "1       38              9             0             0              50\n",
              "2       28             12             0             0              40\n",
              "3       44             10          7688             0              40\n",
              "4       18             10             0             0              30\n",
              "...    ...            ...           ...           ...             ...\n",
              "48837   27             12             0             0              38\n",
              "48838   40              9             0             0              40\n",
              "48839   58              9             0             0              40\n",
              "48840   22              9             0             0              20\n",
              "48841   52              9         15024             0              40\n",
              "\n",
              "[48842 rows x 5 columns]"
            ],
            "text/html": [
              "\n",
              "  <div id=\"df-0e0a900e-849a-45ca-bf17-eb2eb4fca07d\">\n",
              "    <div class=\"colab-df-container\">\n",
              "      <div>\n",
              "<style scoped>\n",
              "    .dataframe tbody tr th:only-of-type {\n",
              "        vertical-align: middle;\n",
              "    }\n",
              "\n",
              "    .dataframe tbody tr th {\n",
              "        vertical-align: top;\n",
              "    }\n",
              "\n",
              "    .dataframe thead th {\n",
              "        text-align: right;\n",
              "    }\n",
              "</style>\n",
              "<table border=\"1\" class=\"dataframe\">\n",
              "  <thead>\n",
              "    <tr style=\"text-align: right;\">\n",
              "      <th></th>\n",
              "      <th>age</th>\n",
              "      <th>education-num</th>\n",
              "      <th>capital-gain</th>\n",
              "      <th>capital-loss</th>\n",
              "      <th>hours-per-week</th>\n",
              "    </tr>\n",
              "  </thead>\n",
              "  <tbody>\n",
              "    <tr>\n",
              "      <th>0</th>\n",
              "      <td>25</td>\n",
              "      <td>7</td>\n",
              "      <td>0</td>\n",
              "      <td>0</td>\n",
              "      <td>40</td>\n",
              "    </tr>\n",
              "    <tr>\n",
              "      <th>1</th>\n",
              "      <td>38</td>\n",
              "      <td>9</td>\n",
              "      <td>0</td>\n",
              "      <td>0</td>\n",
              "      <td>50</td>\n",
              "    </tr>\n",
              "    <tr>\n",
              "      <th>2</th>\n",
              "      <td>28</td>\n",
              "      <td>12</td>\n",
              "      <td>0</td>\n",
              "      <td>0</td>\n",
              "      <td>40</td>\n",
              "    </tr>\n",
              "    <tr>\n",
              "      <th>3</th>\n",
              "      <td>44</td>\n",
              "      <td>10</td>\n",
              "      <td>7688</td>\n",
              "      <td>0</td>\n",
              "      <td>40</td>\n",
              "    </tr>\n",
              "    <tr>\n",
              "      <th>4</th>\n",
              "      <td>18</td>\n",
              "      <td>10</td>\n",
              "      <td>0</td>\n",
              "      <td>0</td>\n",
              "      <td>30</td>\n",
              "    </tr>\n",
              "    <tr>\n",
              "      <th>...</th>\n",
              "      <td>...</td>\n",
              "      <td>...</td>\n",
              "      <td>...</td>\n",
              "      <td>...</td>\n",
              "      <td>...</td>\n",
              "    </tr>\n",
              "    <tr>\n",
              "      <th>48837</th>\n",
              "      <td>27</td>\n",
              "      <td>12</td>\n",
              "      <td>0</td>\n",
              "      <td>0</td>\n",
              "      <td>38</td>\n",
              "    </tr>\n",
              "    <tr>\n",
              "      <th>48838</th>\n",
              "      <td>40</td>\n",
              "      <td>9</td>\n",
              "      <td>0</td>\n",
              "      <td>0</td>\n",
              "      <td>40</td>\n",
              "    </tr>\n",
              "    <tr>\n",
              "      <th>48839</th>\n",
              "      <td>58</td>\n",
              "      <td>9</td>\n",
              "      <td>0</td>\n",
              "      <td>0</td>\n",
              "      <td>40</td>\n",
              "    </tr>\n",
              "    <tr>\n",
              "      <th>48840</th>\n",
              "      <td>22</td>\n",
              "      <td>9</td>\n",
              "      <td>0</td>\n",
              "      <td>0</td>\n",
              "      <td>20</td>\n",
              "    </tr>\n",
              "    <tr>\n",
              "      <th>48841</th>\n",
              "      <td>52</td>\n",
              "      <td>9</td>\n",
              "      <td>15024</td>\n",
              "      <td>0</td>\n",
              "      <td>40</td>\n",
              "    </tr>\n",
              "  </tbody>\n",
              "</table>\n",
              "<p>48842 rows × 5 columns</p>\n",
              "</div>\n",
              "      <button class=\"colab-df-convert\" onclick=\"convertToInteractive('df-0e0a900e-849a-45ca-bf17-eb2eb4fca07d')\"\n",
              "              title=\"Convert this dataframe to an interactive table.\"\n",
              "              style=\"display:none;\">\n",
              "        \n",
              "  <svg xmlns=\"http://www.w3.org/2000/svg\" height=\"24px\"viewBox=\"0 0 24 24\"\n",
              "       width=\"24px\">\n",
              "    <path d=\"M0 0h24v24H0V0z\" fill=\"none\"/>\n",
              "    <path d=\"M18.56 5.44l.94 2.06.94-2.06 2.06-.94-2.06-.94-.94-2.06-.94 2.06-2.06.94zm-11 1L8.5 8.5l.94-2.06 2.06-.94-2.06-.94L8.5 2.5l-.94 2.06-2.06.94zm10 10l.94 2.06.94-2.06 2.06-.94-2.06-.94-.94-2.06-.94 2.06-2.06.94z\"/><path d=\"M17.41 7.96l-1.37-1.37c-.4-.4-.92-.59-1.43-.59-.52 0-1.04.2-1.43.59L10.3 9.45l-7.72 7.72c-.78.78-.78 2.05 0 2.83L4 21.41c.39.39.9.59 1.41.59.51 0 1.02-.2 1.41-.59l7.78-7.78 2.81-2.81c.8-.78.8-2.07 0-2.86zM5.41 20L4 18.59l7.72-7.72 1.47 1.35L5.41 20z\"/>\n",
              "  </svg>\n",
              "      </button>\n",
              "      \n",
              "  <style>\n",
              "    .colab-df-container {\n",
              "      display:flex;\n",
              "      flex-wrap:wrap;\n",
              "      gap: 12px;\n",
              "    }\n",
              "\n",
              "    .colab-df-convert {\n",
              "      background-color: #E8F0FE;\n",
              "      border: none;\n",
              "      border-radius: 50%;\n",
              "      cursor: pointer;\n",
              "      display: none;\n",
              "      fill: #1967D2;\n",
              "      height: 32px;\n",
              "      padding: 0 0 0 0;\n",
              "      width: 32px;\n",
              "    }\n",
              "\n",
              "    .colab-df-convert:hover {\n",
              "      background-color: #E2EBFA;\n",
              "      box-shadow: 0px 1px 2px rgba(60, 64, 67, 0.3), 0px 1px 3px 1px rgba(60, 64, 67, 0.15);\n",
              "      fill: #174EA6;\n",
              "    }\n",
              "\n",
              "    [theme=dark] .colab-df-convert {\n",
              "      background-color: #3B4455;\n",
              "      fill: #D2E3FC;\n",
              "    }\n",
              "\n",
              "    [theme=dark] .colab-df-convert:hover {\n",
              "      background-color: #434B5C;\n",
              "      box-shadow: 0px 1px 3px 1px rgba(0, 0, 0, 0.15);\n",
              "      filter: drop-shadow(0px 1px 2px rgba(0, 0, 0, 0.3));\n",
              "      fill: #FFFFFF;\n",
              "    }\n",
              "  </style>\n",
              "\n",
              "      <script>\n",
              "        const buttonEl =\n",
              "          document.querySelector('#df-0e0a900e-849a-45ca-bf17-eb2eb4fca07d button.colab-df-convert');\n",
              "        buttonEl.style.display =\n",
              "          google.colab.kernel.accessAllowed ? 'block' : 'none';\n",
              "\n",
              "        async function convertToInteractive(key) {\n",
              "          const element = document.querySelector('#df-0e0a900e-849a-45ca-bf17-eb2eb4fca07d');\n",
              "          const dataTable =\n",
              "            await google.colab.kernel.invokeFunction('convertToInteractive',\n",
              "                                                     [key], {});\n",
              "          if (!dataTable) return;\n",
              "\n",
              "          const docLinkHtml = 'Like what you see? Visit the ' +\n",
              "            '<a target=\"_blank\" href=https://colab.research.google.com/notebooks/data_table.ipynb>data table notebook</a>'\n",
              "            + ' to learn more about interactive tables.';\n",
              "          element.innerHTML = '';\n",
              "          dataTable['output_type'] = 'display_data';\n",
              "          await google.colab.output.renderOutput(dataTable, element);\n",
              "          const docLink = document.createElement('div');\n",
              "          docLink.innerHTML = docLinkHtml;\n",
              "          element.appendChild(docLink);\n",
              "        }\n",
              "      </script>\n",
              "    </div>\n",
              "  </div>\n",
              "  "
            ]
          },
          "metadata": {},
          "execution_count": 13
        }
      ]
    },
    {
      "cell_type": "markdown",
      "source": [
        "👀 Verificamos que el objeto es un <code>DataFrame</code>..."
      ],
      "metadata": {
        "id": "uw7pMacNZuCA"
      }
    },
    {
      "cell_type": "code",
      "source": [
        "type(X)"
      ],
      "metadata": {
        "colab": {
          "base_uri": "https://localhost:8080/"
        },
        "id": "wG1c6reHZbwb",
        "outputId": "d08a2bac-fe37-44f9-c8c5-cff6865764b0"
      },
      "execution_count": null,
      "outputs": [
        {
          "output_type": "execute_result",
          "data": {
            "text/plain": [
              "pandas.core.frame.DataFrame"
            ]
          },
          "metadata": {},
          "execution_count": 14
        }
      ]
    },
    {
      "cell_type": "markdown",
      "source": [
        "👀 Todas las columnas del <code>DataFrame</code> son numéricas..."
      ],
      "metadata": {
        "id": "UOxYpBvsZ1fV"
      }
    },
    {
      "cell_type": "code",
      "source": [
        "X.dtypes"
      ],
      "metadata": {
        "colab": {
          "base_uri": "https://localhost:8080/"
        },
        "id": "_ZMtlBVTZeGf",
        "outputId": "ccbe6aaa-19ad-4d97-da87-3a99c92181e5"
      },
      "execution_count": null,
      "outputs": [
        {
          "output_type": "execute_result",
          "data": {
            "text/plain": [
              "age               int64\n",
              "education-num     int64\n",
              "capital-gain      int64\n",
              "capital-loss      int64\n",
              "hours-per-week    int64\n",
              "dtype: object"
            ]
          },
          "metadata": {},
          "execution_count": 15
        }
      ]
    },
    {
      "cell_type": "code",
      "source": [
        "X.shape"
      ],
      "metadata": {
        "colab": {
          "base_uri": "https://localhost:8080/"
        },
        "id": "OHZP7vVlaBQ2",
        "outputId": "576ed56f-7ea4-4997-cd71-2b7681a01dc3"
      },
      "execution_count": null,
      "outputs": [
        {
          "output_type": "execute_result",
          "data": {
            "text/plain": [
              "(48842, 5)"
            ]
          },
          "metadata": {},
          "execution_count": 16
        }
      ]
    },
    {
      "cell_type": "code",
      "source": [
        "print(\"\")\n",
        "print(f\"El conjunto de datos contiene {X.shape[0]} registros y \"\n",
        "      f\"{X.shape[1]} variables explicativas\")"
      ],
      "metadata": {
        "colab": {
          "base_uri": "https://localhost:8080/"
        },
        "id": "rOfL4sNxR_4l",
        "outputId": "1583eb01-da89-4559-f6ca-d9bf2bbc6cc0"
      },
      "execution_count": null,
      "outputs": [
        {
          "output_type": "stream",
          "name": "stdout",
          "text": [
            "\n",
            "El conjunto de datos contiene 48842 registros y 5 variables explicativas\n"
          ]
        }
      ]
    },
    {
      "cell_type": "markdown",
      "source": [
        " # **<font color=\"DeepPink\">Ajustar un modelo y hacer predicciones</font>**"
      ],
      "metadata": {
        "id": "rHUBo58fSvTW"
      }
    },
    {
      "cell_type": "markdown",
      "source": [
        "❤ https://scikit-learn.org/stable/modules/generated/sklearn.linear_model.LogisticRegression.html"
      ],
      "metadata": {
        "id": "5y6Yad8JGkb_"
      }
    },
    {
      "cell_type": "markdown",
      "source": [
        "<p align=\"justify\">\n",
        "👀 Construiremos un modelo de clasificación binaria usando el algoritmo de <code>regresión logística</code>.\n",
        "</p>\n"
      ],
      "metadata": {
        "id": "LbDxLPLMHn1r"
      }
    },
    {
      "cell_type": "code",
      "source": [
        "from sklearn.linear_model import LogisticRegression"
      ],
      "metadata": {
        "id": "RbjIFIJYG0lO"
      },
      "execution_count": null,
      "outputs": []
    },
    {
      "cell_type": "code",
      "source": [
        "model = LogisticRegression()\n",
        "_ = model.fit(X, y)"
      ],
      "metadata": {
        "id": "5pWi2f01HqTa"
      },
      "execution_count": null,
      "outputs": []
    },
    {
      "cell_type": "markdown",
      "source": [
        "<p align=\"justify\">\n",
        "👀 El método <code>fit</code> que vamos a utilizar, se compone de dos elementos:\n",
        "</p>\n",
        "\n",
        "- Un algoritmo de aprendizaje, y\n",
        "- Algunos estados de los modelos.\n",
        "\n",
        "<br>\n",
        "<p align=\"justify\">\n",
        "El algoritmo de aprendizaje toma el conjunto de datos de entrenamiento y la variable objetivo de entrenamiento como entrada, es decir como <code>input</code> y establece los estados del modelo. Estos estados de los modelos se usarán más tarde para predecir (para clasificadores y regresores)\n",
        "o para transformar datos (para transformadores). <br><br>Tanto el algoritmo de aprendizaje como el tipo de estado del modelo son específicos de cada modelo.\n",
        "</p>"
      ],
      "metadata": {
        "id": "w-OgExJEIA53"
      }
    },
    {
      "cell_type": "markdown",
      "source": [
        "<p align=\"justify\">\n",
        "👀 Ahora bien, para predecir un modelo se utiliza una función de predicción. El método que se utiliza es <code>predict()</code>.\n",
        "</p>\n"
      ],
      "metadata": {
        "id": "-bKS9194ctyT"
      }
    },
    {
      "cell_type": "code",
      "source": [
        "target_predicted = model.predict(X)"
      ],
      "metadata": {
        "id": "6VSPaviMH91w"
      },
      "execution_count": null,
      "outputs": []
    },
    {
      "cell_type": "markdown",
      "source": [
        "<p align=\"justify\">\n",
        "👀 Ahora observamos las predicciones generadas. Solo veremos las primeras 10  predicciones...\n",
        "</p>\n"
      ],
      "metadata": {
        "id": "c5hAkq_Ge5io"
      }
    },
    {
      "cell_type": "code",
      "source": [
        "target_predicted[:10]"
      ],
      "metadata": {
        "colab": {
          "base_uri": "https://localhost:8080/"
        },
        "id": "UNtavOD3nJGW",
        "outputId": "6e754719-baa1-4871-a10d-2809740e74d1"
      },
      "execution_count": null,
      "outputs": [
        {
          "output_type": "execute_result",
          "data": {
            "text/plain": [
              "array([' <=50K', ' <=50K', ' <=50K', ' >50K', ' <=50K', ' <=50K',\n",
              "       ' <=50K', ' >50K', ' <=50K', ' <=50K'], dtype=object)"
            ]
          },
          "metadata": {},
          "execution_count": 21
        }
      ]
    },
    {
      "cell_type": "markdown",
      "source": [
        "👀 Y vemos los datos reales..."
      ],
      "metadata": {
        "id": "VGsgdptHi6KV"
      }
    },
    {
      "cell_type": "code",
      "source": [
        "y[:10]"
      ],
      "metadata": {
        "colab": {
          "base_uri": "https://localhost:8080/"
        },
        "id": "Y2wcxBW4nT1Q",
        "outputId": "0dd1ad76-d23c-4119-81e3-a574e4b7f337"
      },
      "execution_count": null,
      "outputs": [
        {
          "output_type": "execute_result",
          "data": {
            "text/plain": [
              "0     <=50K\n",
              "1     <=50K\n",
              "2      >50K\n",
              "3      >50K\n",
              "4     <=50K\n",
              "5     <=50K\n",
              "6     <=50K\n",
              "7      >50K\n",
              "8     <=50K\n",
              "9     <=50K\n",
              "Name: class, dtype: object"
            ]
          },
          "metadata": {},
          "execution_count": 22
        }
      ]
    },
    {
      "cell_type": "markdown",
      "source": [
        "👀 Y comparamos los datos reales, con las predicciones, solo para las primeras 10 muestras..."
      ],
      "metadata": {
        "id": "1kLCb06ui_Q_"
      }
    },
    {
      "cell_type": "code",
      "source": [
        "y[:10] == target_predicted[:10]"
      ],
      "metadata": {
        "colab": {
          "base_uri": "https://localhost:8080/"
        },
        "id": "Rj-NZOhrnaAB",
        "outputId": "eb2476ce-f033-4786-f8de-e47871c5c020"
      },
      "execution_count": null,
      "outputs": [
        {
          "output_type": "execute_result",
          "data": {
            "text/plain": [
              "0     True\n",
              "1     True\n",
              "2    False\n",
              "3     True\n",
              "4     True\n",
              "5     True\n",
              "6     True\n",
              "7     True\n",
              "8     True\n",
              "9     True\n",
              "Name: class, dtype: bool"
            ]
          },
          "metadata": {},
          "execution_count": 23
        }
      ]
    },
    {
      "cell_type": "markdown",
      "source": [
        "👀 Y podemos ver cuantas predicciones son correctas para estas 10 muestras..."
      ],
      "metadata": {
        "id": "b7BeK3AEjNmP"
      }
    },
    {
      "cell_type": "code",
      "source": [
        "print(\"\")\n",
        "print(f\"Número de predicciones correctas: \"\n",
        "      f\"{(y[:10] == target_predicted[:10]).sum()} / 10\")"
      ],
      "metadata": {
        "colab": {
          "base_uri": "https://localhost:8080/"
        },
        "id": "-u4F8NYonpF6",
        "outputId": "3243b26c-345b-4c5f-c1d5-f72fdc13f951"
      },
      "execution_count": null,
      "outputs": [
        {
          "output_type": "stream",
          "name": "stdout",
          "text": [
            "\n",
            "Número de predicciones correctas: 9 / 10\n"
          ]
        }
      ]
    },
    {
      "cell_type": "markdown",
      "source": [
        "👀 Y podemos calcular la media de las predicciones correctas..."
      ],
      "metadata": {
        "id": "8zHGUjlDjdI-"
      }
    },
    {
      "cell_type": "code",
      "source": [
        "(y == target_predicted).mean().round(4)"
      ],
      "metadata": {
        "colab": {
          "base_uri": "https://localhost:8080/"
        },
        "id": "mBGTdZqppGSP",
        "outputId": "035048ad-3b33-4279-e7b6-986495f9220d"
      },
      "execution_count": null,
      "outputs": [
        {
          "output_type": "execute_result",
          "data": {
            "text/plain": [
              "0.8143"
            ]
          },
          "metadata": {},
          "execution_count": 25
        }
      ]
    },
    {
      "cell_type": "code",
      "source": [
        "model.score(X, y).round(4)"
      ],
      "metadata": {
        "colab": {
          "base_uri": "https://localhost:8080/"
        },
        "id": "KgmWLDXHLfTP",
        "outputId": "88e47fa5-34d4-440d-ce62-e3d35945d023"
      },
      "execution_count": null,
      "outputs": [
        {
          "output_type": "execute_result",
          "data": {
            "text/plain": [
              "0.8143"
            ]
          },
          "metadata": {},
          "execution_count": 26
        }
      ]
    },
    {
      "cell_type": "markdown",
      "source": [
        "<p align=\"justify\">\n",
        "👀 Este resultado significa que el modelo hace una predicción correcta para aproximadamente $81$ muestras de $100$ muestras. Hay que tener en cuenta que usamos los mismos datos para entrenar y para evaluar el modelo. ¿Se puede confiar en esta evaluación, o esta evaluación es demasiado buena para ser verdad?.\n",
        "<br><br>Para poder responder esa interrogante, en vez de trabajar con todas las muestras, vamos a dividir nuestros datos en un conjunto de datos de entrenamiento y un conjunto de datos de prueba...\n",
        "</p>\n"
      ],
      "metadata": {
        "id": "GCV3VSTdq1Ga"
      }
    },
    {
      "cell_type": "markdown",
      "source": [
        " # **<font color=\"DeepPink\">División de datos de entrenamiento y prueba</font>**"
      ],
      "metadata": {
        "id": "Y_BPVB2hrS4K"
      }
    },
    {
      "cell_type": "markdown",
      "source": [
        "<p align=\"justify\">\n",
        "👀 Al construir un modelo de aprendizaje automático, es importante evaluar el modelo entrenado en datos que no se usaron para ajustarlo <code>fit</code>, ya que la generalización de un modelo es más que la memorización.\n",
        "<br><br>\n",
        "Esto significa que queremos un modelo de aprendizaje que generalice a nuevos datos, y no un modelo que compara con los datos que memorizamos.\n",
        "<br><br>\n",
        "Es más difícil concluir sobre casos nunca vistos, que concluir sobre los casos que ya hemos vistos. Por este motivo, es que se plantea una división de los datos disponibles.\n",
        "<br><br>\n",
        "Por ese motivo, los datos utilizados para ajustar un modelo se denominan datos de entrenamiento, mientras que los datos utilizados para evaluar un modelo se denominan datos de prueba, es decir, dividimos el conjunto de datos en un conjunto de datos de entrenamiento y un conjunto de datos de prueba.\n",
        "</p>\n"
      ],
      "metadata": {
        "id": "L7pzIlRJraU7"
      }
    },
    {
      "cell_type": "markdown",
      "source": [
        "👀 Nuestro <code>DataFrame</code> tiene las siguientes dimensiones..."
      ],
      "metadata": {
        "id": "On1IRa_Um_8E"
      }
    },
    {
      "cell_type": "code",
      "source": [
        "df.shape"
      ],
      "metadata": {
        "colab": {
          "base_uri": "https://localhost:8080/"
        },
        "id": "8b5ViWExm2Tu",
        "outputId": "f25c2665-149a-40c3-e6d0-86d63a0b16cb"
      },
      "execution_count": null,
      "outputs": [
        {
          "output_type": "execute_result",
          "data": {
            "text/plain": [
              "(48842, 6)"
            ]
          },
          "metadata": {},
          "execution_count": 27
        }
      ]
    },
    {
      "cell_type": "markdown",
      "source": [
        "👀 Vamos a tomar una muestra de 9769 muestras (indices) y luego vamos a resetear el indice de nuestro <code>DataFrame</code> con el método <code>reset_index()</code>. A destacar, usamos el parámetro <code>random_state</code> para ajustar la pseudoalietoriedad de la selección de las muestras...\n",
        "<br><br>\n",
        "Este valor es aproximadamente el $20$% de las muestras del <code>DataFrame</code>..."
      ],
      "metadata": {
        "id": "MB1-gi0rm4t5"
      }
    },
    {
      "cell_type": "code",
      "source": [
        "df_test = df.sample(9769, random_state=123)"
      ],
      "metadata": {
        "id": "ikibA1ORS1jY"
      },
      "execution_count": null,
      "outputs": []
    },
    {
      "cell_type": "code",
      "source": [
        "round((df_test.shape[0]/df.shape[0]),3)"
      ],
      "metadata": {
        "colab": {
          "base_uri": "https://localhost:8080/"
        },
        "id": "SIGit9eKrgoQ",
        "outputId": "c73cc6f0-4190-4f3e-a6e1-93deedca9546"
      },
      "execution_count": null,
      "outputs": [
        {
          "output_type": "execute_result",
          "data": {
            "text/plain": [
              "0.2"
            ]
          },
          "metadata": {},
          "execution_count": 29
        }
      ]
    },
    {
      "cell_type": "markdown",
      "source": [
        "👀 Ahora vamos a sacar del <code>DataFrame</code> el conjunto de datos de prueba..."
      ],
      "metadata": {
        "id": "js6bb1vbUVgj"
      }
    },
    {
      "cell_type": "code",
      "source": [
        "df1 = df.drop(index=df_test.index)"
      ],
      "metadata": {
        "id": "Zg7yeK_MTO6j"
      },
      "execution_count": null,
      "outputs": []
    },
    {
      "cell_type": "code",
      "source": [
        "round((df1.shape[0]/df.shape[0]),3)"
      ],
      "metadata": {
        "colab": {
          "base_uri": "https://localhost:8080/"
        },
        "id": "wkC8xmpHT9At",
        "outputId": "1b6aa446-5836-41bc-d9d9-9409d2a149c9"
      },
      "execution_count": null,
      "outputs": [
        {
          "output_type": "execute_result",
          "data": {
            "text/plain": [
              "0.8"
            ]
          },
          "metadata": {},
          "execution_count": 31
        }
      ]
    },
    {
      "cell_type": "markdown",
      "source": [
        "👀 y reseteamos los indices de los dos conjuntos de datos..."
      ],
      "metadata": {
        "id": "RiJrjXY7Uis-"
      }
    },
    {
      "cell_type": "code",
      "source": [
        "df_test.reset_index(drop=True, inplace=True)\n",
        "df1.reset_index(drop=True, inplace=True)"
      ],
      "metadata": {
        "id": "KNwjbknjtVaP"
      },
      "execution_count": null,
      "outputs": []
    },
    {
      "cell_type": "markdown",
      "source": [
        "👀 Ahora tenemos un <code>DataFrame</code> de testeo..."
      ],
      "metadata": {
        "id": "MwvWAzgSn8yK"
      }
    },
    {
      "cell_type": "code",
      "source": [
        "df_test"
      ],
      "metadata": {
        "colab": {
          "base_uri": "https://localhost:8080/",
          "height": 423
        },
        "id": "nm6aQxBttto2",
        "outputId": "5f36bd06-a573-43e4-fbca-fb208fac7477"
      },
      "execution_count": null,
      "outputs": [
        {
          "output_type": "execute_result",
          "data": {
            "text/plain": [
              "      age  education-num  capital-gain  capital-loss  hours-per-week   class\n",
              "0      52              9             0             0              40   <=50K\n",
              "1      19              6             0             0              30   <=50K\n",
              "2      31              9             0             0              40   <=50K\n",
              "3      25             13             0             0              40   <=50K\n",
              "4      36              4             0             0              35   <=50K\n",
              "...   ...            ...           ...           ...             ...     ...\n",
              "9764   33              9             0             0              40    >50K\n",
              "9765   60              9             0             0              50   <=50K\n",
              "9766   38             10             0             0              40    >50K\n",
              "9767   42             13             0             0              55   <=50K\n",
              "9768   47              6             0             0              30   <=50K\n",
              "\n",
              "[9769 rows x 6 columns]"
            ],
            "text/html": [
              "\n",
              "  <div id=\"df-9f655410-c864-498a-9aa8-55f6a8ea2aec\">\n",
              "    <div class=\"colab-df-container\">\n",
              "      <div>\n",
              "<style scoped>\n",
              "    .dataframe tbody tr th:only-of-type {\n",
              "        vertical-align: middle;\n",
              "    }\n",
              "\n",
              "    .dataframe tbody tr th {\n",
              "        vertical-align: top;\n",
              "    }\n",
              "\n",
              "    .dataframe thead th {\n",
              "        text-align: right;\n",
              "    }\n",
              "</style>\n",
              "<table border=\"1\" class=\"dataframe\">\n",
              "  <thead>\n",
              "    <tr style=\"text-align: right;\">\n",
              "      <th></th>\n",
              "      <th>age</th>\n",
              "      <th>education-num</th>\n",
              "      <th>capital-gain</th>\n",
              "      <th>capital-loss</th>\n",
              "      <th>hours-per-week</th>\n",
              "      <th>class</th>\n",
              "    </tr>\n",
              "  </thead>\n",
              "  <tbody>\n",
              "    <tr>\n",
              "      <th>0</th>\n",
              "      <td>52</td>\n",
              "      <td>9</td>\n",
              "      <td>0</td>\n",
              "      <td>0</td>\n",
              "      <td>40</td>\n",
              "      <td>&lt;=50K</td>\n",
              "    </tr>\n",
              "    <tr>\n",
              "      <th>1</th>\n",
              "      <td>19</td>\n",
              "      <td>6</td>\n",
              "      <td>0</td>\n",
              "      <td>0</td>\n",
              "      <td>30</td>\n",
              "      <td>&lt;=50K</td>\n",
              "    </tr>\n",
              "    <tr>\n",
              "      <th>2</th>\n",
              "      <td>31</td>\n",
              "      <td>9</td>\n",
              "      <td>0</td>\n",
              "      <td>0</td>\n",
              "      <td>40</td>\n",
              "      <td>&lt;=50K</td>\n",
              "    </tr>\n",
              "    <tr>\n",
              "      <th>3</th>\n",
              "      <td>25</td>\n",
              "      <td>13</td>\n",
              "      <td>0</td>\n",
              "      <td>0</td>\n",
              "      <td>40</td>\n",
              "      <td>&lt;=50K</td>\n",
              "    </tr>\n",
              "    <tr>\n",
              "      <th>4</th>\n",
              "      <td>36</td>\n",
              "      <td>4</td>\n",
              "      <td>0</td>\n",
              "      <td>0</td>\n",
              "      <td>35</td>\n",
              "      <td>&lt;=50K</td>\n",
              "    </tr>\n",
              "    <tr>\n",
              "      <th>...</th>\n",
              "      <td>...</td>\n",
              "      <td>...</td>\n",
              "      <td>...</td>\n",
              "      <td>...</td>\n",
              "      <td>...</td>\n",
              "      <td>...</td>\n",
              "    </tr>\n",
              "    <tr>\n",
              "      <th>9764</th>\n",
              "      <td>33</td>\n",
              "      <td>9</td>\n",
              "      <td>0</td>\n",
              "      <td>0</td>\n",
              "      <td>40</td>\n",
              "      <td>&gt;50K</td>\n",
              "    </tr>\n",
              "    <tr>\n",
              "      <th>9765</th>\n",
              "      <td>60</td>\n",
              "      <td>9</td>\n",
              "      <td>0</td>\n",
              "      <td>0</td>\n",
              "      <td>50</td>\n",
              "      <td>&lt;=50K</td>\n",
              "    </tr>\n",
              "    <tr>\n",
              "      <th>9766</th>\n",
              "      <td>38</td>\n",
              "      <td>10</td>\n",
              "      <td>0</td>\n",
              "      <td>0</td>\n",
              "      <td>40</td>\n",
              "      <td>&gt;50K</td>\n",
              "    </tr>\n",
              "    <tr>\n",
              "      <th>9767</th>\n",
              "      <td>42</td>\n",
              "      <td>13</td>\n",
              "      <td>0</td>\n",
              "      <td>0</td>\n",
              "      <td>55</td>\n",
              "      <td>&lt;=50K</td>\n",
              "    </tr>\n",
              "    <tr>\n",
              "      <th>9768</th>\n",
              "      <td>47</td>\n",
              "      <td>6</td>\n",
              "      <td>0</td>\n",
              "      <td>0</td>\n",
              "      <td>30</td>\n",
              "      <td>&lt;=50K</td>\n",
              "    </tr>\n",
              "  </tbody>\n",
              "</table>\n",
              "<p>9769 rows × 6 columns</p>\n",
              "</div>\n",
              "      <button class=\"colab-df-convert\" onclick=\"convertToInteractive('df-9f655410-c864-498a-9aa8-55f6a8ea2aec')\"\n",
              "              title=\"Convert this dataframe to an interactive table.\"\n",
              "              style=\"display:none;\">\n",
              "        \n",
              "  <svg xmlns=\"http://www.w3.org/2000/svg\" height=\"24px\"viewBox=\"0 0 24 24\"\n",
              "       width=\"24px\">\n",
              "    <path d=\"M0 0h24v24H0V0z\" fill=\"none\"/>\n",
              "    <path d=\"M18.56 5.44l.94 2.06.94-2.06 2.06-.94-2.06-.94-.94-2.06-.94 2.06-2.06.94zm-11 1L8.5 8.5l.94-2.06 2.06-.94-2.06-.94L8.5 2.5l-.94 2.06-2.06.94zm10 10l.94 2.06.94-2.06 2.06-.94-2.06-.94-.94-2.06-.94 2.06-2.06.94z\"/><path d=\"M17.41 7.96l-1.37-1.37c-.4-.4-.92-.59-1.43-.59-.52 0-1.04.2-1.43.59L10.3 9.45l-7.72 7.72c-.78.78-.78 2.05 0 2.83L4 21.41c.39.39.9.59 1.41.59.51 0 1.02-.2 1.41-.59l7.78-7.78 2.81-2.81c.8-.78.8-2.07 0-2.86zM5.41 20L4 18.59l7.72-7.72 1.47 1.35L5.41 20z\"/>\n",
              "  </svg>\n",
              "      </button>\n",
              "      \n",
              "  <style>\n",
              "    .colab-df-container {\n",
              "      display:flex;\n",
              "      flex-wrap:wrap;\n",
              "      gap: 12px;\n",
              "    }\n",
              "\n",
              "    .colab-df-convert {\n",
              "      background-color: #E8F0FE;\n",
              "      border: none;\n",
              "      border-radius: 50%;\n",
              "      cursor: pointer;\n",
              "      display: none;\n",
              "      fill: #1967D2;\n",
              "      height: 32px;\n",
              "      padding: 0 0 0 0;\n",
              "      width: 32px;\n",
              "    }\n",
              "\n",
              "    .colab-df-convert:hover {\n",
              "      background-color: #E2EBFA;\n",
              "      box-shadow: 0px 1px 2px rgba(60, 64, 67, 0.3), 0px 1px 3px 1px rgba(60, 64, 67, 0.15);\n",
              "      fill: #174EA6;\n",
              "    }\n",
              "\n",
              "    [theme=dark] .colab-df-convert {\n",
              "      background-color: #3B4455;\n",
              "      fill: #D2E3FC;\n",
              "    }\n",
              "\n",
              "    [theme=dark] .colab-df-convert:hover {\n",
              "      background-color: #434B5C;\n",
              "      box-shadow: 0px 1px 3px 1px rgba(0, 0, 0, 0.15);\n",
              "      filter: drop-shadow(0px 1px 2px rgba(0, 0, 0, 0.3));\n",
              "      fill: #FFFFFF;\n",
              "    }\n",
              "  </style>\n",
              "\n",
              "      <script>\n",
              "        const buttonEl =\n",
              "          document.querySelector('#df-9f655410-c864-498a-9aa8-55f6a8ea2aec button.colab-df-convert');\n",
              "        buttonEl.style.display =\n",
              "          google.colab.kernel.accessAllowed ? 'block' : 'none';\n",
              "\n",
              "        async function convertToInteractive(key) {\n",
              "          const element = document.querySelector('#df-9f655410-c864-498a-9aa8-55f6a8ea2aec');\n",
              "          const dataTable =\n",
              "            await google.colab.kernel.invokeFunction('convertToInteractive',\n",
              "                                                     [key], {});\n",
              "          if (!dataTable) return;\n",
              "\n",
              "          const docLinkHtml = 'Like what you see? Visit the ' +\n",
              "            '<a target=\"_blank\" href=https://colab.research.google.com/notebooks/data_table.ipynb>data table notebook</a>'\n",
              "            + ' to learn more about interactive tables.';\n",
              "          element.innerHTML = '';\n",
              "          dataTable['output_type'] = 'display_data';\n",
              "          await google.colab.output.renderOutput(dataTable, element);\n",
              "          const docLink = document.createElement('div');\n",
              "          docLink.innerHTML = docLinkHtml;\n",
              "          element.appendChild(docLink);\n",
              "        }\n",
              "      </script>\n",
              "    </div>\n",
              "  </div>\n",
              "  "
            ]
          },
          "metadata": {},
          "execution_count": 33
        }
      ]
    },
    {
      "cell_type": "code",
      "source": [
        "df_test.shape"
      ],
      "metadata": {
        "colab": {
          "base_uri": "https://localhost:8080/"
        },
        "id": "uElUmMKHox7N",
        "outputId": "abb573f5-2952-4bff-c6c1-b622293c0264"
      },
      "execution_count": null,
      "outputs": [
        {
          "output_type": "execute_result",
          "data": {
            "text/plain": [
              "(9769, 6)"
            ]
          },
          "metadata": {},
          "execution_count": 34
        }
      ]
    },
    {
      "cell_type": "markdown",
      "source": [
        "👀 Y tenemos un <code>DataFrame</code> sin los datos de la muestra..."
      ],
      "metadata": {
        "id": "eEamJHexVeYH"
      }
    },
    {
      "cell_type": "code",
      "source": [
        "df1"
      ],
      "metadata": {
        "colab": {
          "base_uri": "https://localhost:8080/",
          "height": 423
        },
        "id": "FhjSNjVDVgsP",
        "outputId": "28772b33-b151-4444-8376-2bafb56945ef"
      },
      "execution_count": null,
      "outputs": [
        {
          "output_type": "execute_result",
          "data": {
            "text/plain": [
              "       age  education-num  capital-gain  capital-loss  hours-per-week   class\n",
              "0       25              7             0             0              40   <=50K\n",
              "1       28             12             0             0              40    >50K\n",
              "2       44             10          7688             0              40    >50K\n",
              "3       18             10             0             0              30   <=50K\n",
              "4       34              6             0             0              30   <=50K\n",
              "...    ...            ...           ...           ...             ...     ...\n",
              "39068   53             14             0             0              40    >50K\n",
              "39069   22             10             0             0              40   <=50K\n",
              "39070   40              9             0             0              40    >50K\n",
              "39071   58              9             0             0              40   <=50K\n",
              "39072   22              9             0             0              20   <=50K\n",
              "\n",
              "[39073 rows x 6 columns]"
            ],
            "text/html": [
              "\n",
              "  <div id=\"df-5aff2ef1-541d-43d0-b887-e910e72b5257\">\n",
              "    <div class=\"colab-df-container\">\n",
              "      <div>\n",
              "<style scoped>\n",
              "    .dataframe tbody tr th:only-of-type {\n",
              "        vertical-align: middle;\n",
              "    }\n",
              "\n",
              "    .dataframe tbody tr th {\n",
              "        vertical-align: top;\n",
              "    }\n",
              "\n",
              "    .dataframe thead th {\n",
              "        text-align: right;\n",
              "    }\n",
              "</style>\n",
              "<table border=\"1\" class=\"dataframe\">\n",
              "  <thead>\n",
              "    <tr style=\"text-align: right;\">\n",
              "      <th></th>\n",
              "      <th>age</th>\n",
              "      <th>education-num</th>\n",
              "      <th>capital-gain</th>\n",
              "      <th>capital-loss</th>\n",
              "      <th>hours-per-week</th>\n",
              "      <th>class</th>\n",
              "    </tr>\n",
              "  </thead>\n",
              "  <tbody>\n",
              "    <tr>\n",
              "      <th>0</th>\n",
              "      <td>25</td>\n",
              "      <td>7</td>\n",
              "      <td>0</td>\n",
              "      <td>0</td>\n",
              "      <td>40</td>\n",
              "      <td>&lt;=50K</td>\n",
              "    </tr>\n",
              "    <tr>\n",
              "      <th>1</th>\n",
              "      <td>28</td>\n",
              "      <td>12</td>\n",
              "      <td>0</td>\n",
              "      <td>0</td>\n",
              "      <td>40</td>\n",
              "      <td>&gt;50K</td>\n",
              "    </tr>\n",
              "    <tr>\n",
              "      <th>2</th>\n",
              "      <td>44</td>\n",
              "      <td>10</td>\n",
              "      <td>7688</td>\n",
              "      <td>0</td>\n",
              "      <td>40</td>\n",
              "      <td>&gt;50K</td>\n",
              "    </tr>\n",
              "    <tr>\n",
              "      <th>3</th>\n",
              "      <td>18</td>\n",
              "      <td>10</td>\n",
              "      <td>0</td>\n",
              "      <td>0</td>\n",
              "      <td>30</td>\n",
              "      <td>&lt;=50K</td>\n",
              "    </tr>\n",
              "    <tr>\n",
              "      <th>4</th>\n",
              "      <td>34</td>\n",
              "      <td>6</td>\n",
              "      <td>0</td>\n",
              "      <td>0</td>\n",
              "      <td>30</td>\n",
              "      <td>&lt;=50K</td>\n",
              "    </tr>\n",
              "    <tr>\n",
              "      <th>...</th>\n",
              "      <td>...</td>\n",
              "      <td>...</td>\n",
              "      <td>...</td>\n",
              "      <td>...</td>\n",
              "      <td>...</td>\n",
              "      <td>...</td>\n",
              "    </tr>\n",
              "    <tr>\n",
              "      <th>39068</th>\n",
              "      <td>53</td>\n",
              "      <td>14</td>\n",
              "      <td>0</td>\n",
              "      <td>0</td>\n",
              "      <td>40</td>\n",
              "      <td>&gt;50K</td>\n",
              "    </tr>\n",
              "    <tr>\n",
              "      <th>39069</th>\n",
              "      <td>22</td>\n",
              "      <td>10</td>\n",
              "      <td>0</td>\n",
              "      <td>0</td>\n",
              "      <td>40</td>\n",
              "      <td>&lt;=50K</td>\n",
              "    </tr>\n",
              "    <tr>\n",
              "      <th>39070</th>\n",
              "      <td>40</td>\n",
              "      <td>9</td>\n",
              "      <td>0</td>\n",
              "      <td>0</td>\n",
              "      <td>40</td>\n",
              "      <td>&gt;50K</td>\n",
              "    </tr>\n",
              "    <tr>\n",
              "      <th>39071</th>\n",
              "      <td>58</td>\n",
              "      <td>9</td>\n",
              "      <td>0</td>\n",
              "      <td>0</td>\n",
              "      <td>40</td>\n",
              "      <td>&lt;=50K</td>\n",
              "    </tr>\n",
              "    <tr>\n",
              "      <th>39072</th>\n",
              "      <td>22</td>\n",
              "      <td>9</td>\n",
              "      <td>0</td>\n",
              "      <td>0</td>\n",
              "      <td>20</td>\n",
              "      <td>&lt;=50K</td>\n",
              "    </tr>\n",
              "  </tbody>\n",
              "</table>\n",
              "<p>39073 rows × 6 columns</p>\n",
              "</div>\n",
              "      <button class=\"colab-df-convert\" onclick=\"convertToInteractive('df-5aff2ef1-541d-43d0-b887-e910e72b5257')\"\n",
              "              title=\"Convert this dataframe to an interactive table.\"\n",
              "              style=\"display:none;\">\n",
              "        \n",
              "  <svg xmlns=\"http://www.w3.org/2000/svg\" height=\"24px\"viewBox=\"0 0 24 24\"\n",
              "       width=\"24px\">\n",
              "    <path d=\"M0 0h24v24H0V0z\" fill=\"none\"/>\n",
              "    <path d=\"M18.56 5.44l.94 2.06.94-2.06 2.06-.94-2.06-.94-.94-2.06-.94 2.06-2.06.94zm-11 1L8.5 8.5l.94-2.06 2.06-.94-2.06-.94L8.5 2.5l-.94 2.06-2.06.94zm10 10l.94 2.06.94-2.06 2.06-.94-2.06-.94-.94-2.06-.94 2.06-2.06.94z\"/><path d=\"M17.41 7.96l-1.37-1.37c-.4-.4-.92-.59-1.43-.59-.52 0-1.04.2-1.43.59L10.3 9.45l-7.72 7.72c-.78.78-.78 2.05 0 2.83L4 21.41c.39.39.9.59 1.41.59.51 0 1.02-.2 1.41-.59l7.78-7.78 2.81-2.81c.8-.78.8-2.07 0-2.86zM5.41 20L4 18.59l7.72-7.72 1.47 1.35L5.41 20z\"/>\n",
              "  </svg>\n",
              "      </button>\n",
              "      \n",
              "  <style>\n",
              "    .colab-df-container {\n",
              "      display:flex;\n",
              "      flex-wrap:wrap;\n",
              "      gap: 12px;\n",
              "    }\n",
              "\n",
              "    .colab-df-convert {\n",
              "      background-color: #E8F0FE;\n",
              "      border: none;\n",
              "      border-radius: 50%;\n",
              "      cursor: pointer;\n",
              "      display: none;\n",
              "      fill: #1967D2;\n",
              "      height: 32px;\n",
              "      padding: 0 0 0 0;\n",
              "      width: 32px;\n",
              "    }\n",
              "\n",
              "    .colab-df-convert:hover {\n",
              "      background-color: #E2EBFA;\n",
              "      box-shadow: 0px 1px 2px rgba(60, 64, 67, 0.3), 0px 1px 3px 1px rgba(60, 64, 67, 0.15);\n",
              "      fill: #174EA6;\n",
              "    }\n",
              "\n",
              "    [theme=dark] .colab-df-convert {\n",
              "      background-color: #3B4455;\n",
              "      fill: #D2E3FC;\n",
              "    }\n",
              "\n",
              "    [theme=dark] .colab-df-convert:hover {\n",
              "      background-color: #434B5C;\n",
              "      box-shadow: 0px 1px 3px 1px rgba(0, 0, 0, 0.15);\n",
              "      filter: drop-shadow(0px 1px 2px rgba(0, 0, 0, 0.3));\n",
              "      fill: #FFFFFF;\n",
              "    }\n",
              "  </style>\n",
              "\n",
              "      <script>\n",
              "        const buttonEl =\n",
              "          document.querySelector('#df-5aff2ef1-541d-43d0-b887-e910e72b5257 button.colab-df-convert');\n",
              "        buttonEl.style.display =\n",
              "          google.colab.kernel.accessAllowed ? 'block' : 'none';\n",
              "\n",
              "        async function convertToInteractive(key) {\n",
              "          const element = document.querySelector('#df-5aff2ef1-541d-43d0-b887-e910e72b5257');\n",
              "          const dataTable =\n",
              "            await google.colab.kernel.invokeFunction('convertToInteractive',\n",
              "                                                     [key], {});\n",
              "          if (!dataTable) return;\n",
              "\n",
              "          const docLinkHtml = 'Like what you see? Visit the ' +\n",
              "            '<a target=\"_blank\" href=https://colab.research.google.com/notebooks/data_table.ipynb>data table notebook</a>'\n",
              "            + ' to learn more about interactive tables.';\n",
              "          element.innerHTML = '';\n",
              "          dataTable['output_type'] = 'display_data';\n",
              "          await google.colab.output.renderOutput(dataTable, element);\n",
              "          const docLink = document.createElement('div');\n",
              "          docLink.innerHTML = docLinkHtml;\n",
              "          element.appendChild(docLink);\n",
              "        }\n",
              "      </script>\n",
              "    </div>\n",
              "  </div>\n",
              "  "
            ]
          },
          "metadata": {},
          "execution_count": 35
        }
      ]
    },
    {
      "cell_type": "code",
      "source": [
        "df1.shape"
      ],
      "metadata": {
        "colab": {
          "base_uri": "https://localhost:8080/"
        },
        "id": "W4B59uH4Vkhc",
        "outputId": "cce33934-da79-4929-ca07-81319f2c694f"
      },
      "execution_count": null,
      "outputs": [
        {
          "output_type": "execute_result",
          "data": {
            "text/plain": [
              "(39073, 6)"
            ]
          },
          "metadata": {},
          "execution_count": 36
        }
      ]
    },
    {
      "cell_type": "markdown",
      "source": [
        "👀 De este <code>DataFrame</code> de testeo, separamos en variable objetivo y vector de caracteristicas, la variable objetivo es nuestra $y$, el vector de caracteristicas es nuestro $X$..."
      ],
      "metadata": {
        "id": "UPsy_Kn9oQVE"
      }
    },
    {
      "cell_type": "code",
      "source": [
        "y_test = df_test[\"class\"]\n",
        "X_test = df_test.drop(columns=[\"class\"])"
      ],
      "metadata": {
        "id": "DX_oNgIEt_zX"
      },
      "execution_count": null,
      "outputs": []
    },
    {
      "cell_type": "code",
      "source": [
        "y_test.shape"
      ],
      "metadata": {
        "colab": {
          "base_uri": "https://localhost:8080/"
        },
        "id": "Eqdig8fvuCUY",
        "outputId": "8cee774d-a773-4730-a4d0-efb20b2ae758"
      },
      "execution_count": null,
      "outputs": [
        {
          "output_type": "execute_result",
          "data": {
            "text/plain": [
              "(9769,)"
            ]
          },
          "metadata": {},
          "execution_count": 38
        }
      ]
    },
    {
      "cell_type": "code",
      "source": [
        "X_test.shape"
      ],
      "metadata": {
        "colab": {
          "base_uri": "https://localhost:8080/"
        },
        "id": "OIDy5v5ruGFu",
        "outputId": "be0d646a-bc92-4057-e752-93a2bf8a3547"
      },
      "execution_count": null,
      "outputs": [
        {
          "output_type": "execute_result",
          "data": {
            "text/plain": [
              "(9769, 5)"
            ]
          },
          "metadata": {},
          "execution_count": 39
        }
      ]
    },
    {
      "cell_type": "code",
      "source": [
        "print(\"\")\n",
        "print(f\"El conjunto de prueba contiene {X_test.shape[0]} registros y \"\n",
        "      f\"{X.shape[1]} variables explicativas.\")"
      ],
      "metadata": {
        "colab": {
          "base_uri": "https://localhost:8080/"
        },
        "id": "l0Uw4T2VuJ4-",
        "outputId": "fd58a887-7f7d-445b-f3a6-fcfe3782dcca"
      },
      "execution_count": null,
      "outputs": [
        {
          "output_type": "stream",
          "name": "stdout",
          "text": [
            "\n",
            "El conjunto de prueba contiene 9769 registros y 5 variables explicativas.\n"
          ]
        }
      ]
    },
    {
      "cell_type": "markdown",
      "source": [
        "👀 Hacemos lo mismo con el conjunto de datos..."
      ],
      "metadata": {
        "id": "vchKHJyJVM3u"
      }
    },
    {
      "cell_type": "code",
      "source": [
        "y1 = df1[\"class\"]\n",
        "X1 = df1.drop(columns=[\"class\"])"
      ],
      "metadata": {
        "id": "vXe1ENk4VW5o"
      },
      "execution_count": null,
      "outputs": []
    },
    {
      "cell_type": "code",
      "source": [
        "print(\"\")\n",
        "print(f\"El conjunto de prueba contiene {X1.shape[0]} registros y \"\n",
        "      f\"{X.shape[1]} variables explicativas.\")"
      ],
      "metadata": {
        "colab": {
          "base_uri": "https://localhost:8080/"
        },
        "id": "_K-59qcUVx33",
        "outputId": "38985a8c-af92-4a1f-f32d-941587c568f2"
      },
      "execution_count": null,
      "outputs": [
        {
          "output_type": "stream",
          "name": "stdout",
          "text": [
            "\n",
            "El conjunto de prueba contiene 39073 registros y 5 variables explicativas.\n"
          ]
        }
      ]
    },
    {
      "cell_type": "markdown",
      "source": [
        "<p align=\"justify\">\n",
        "👀 En lugar de calcular la predicción y calcular manualmente la tasa de éxito promedio de esa predicción, podemos usar la puntuación del método. Cuando se trata de clasificadores, este método devuelve su métrica de rendimiento.\n",
        "</p>\n"
      ],
      "metadata": {
        "id": "4ymO9DIduYR3"
      }
    },
    {
      "cell_type": "code",
      "source": [
        "model = LogisticRegression()\n",
        "_ = model.fit(X1, y1)"
      ],
      "metadata": {
        "id": "cheT1lNzWNoe"
      },
      "execution_count": null,
      "outputs": []
    },
    {
      "cell_type": "code",
      "source": [
        "model"
      ],
      "metadata": {
        "colab": {
          "base_uri": "https://localhost:8080/",
          "height": 74
        },
        "id": "9ENsmK6zQQfy",
        "outputId": "e08ac8bf-a087-4dce-ef16-df8b851dadd5"
      },
      "execution_count": null,
      "outputs": [
        {
          "output_type": "execute_result",
          "data": {
            "text/plain": [
              "LogisticRegression()"
            ],
            "text/html": [
              "<style>#sk-container-id-1 {color: black;background-color: white;}#sk-container-id-1 pre{padding: 0;}#sk-container-id-1 div.sk-toggleable {background-color: white;}#sk-container-id-1 label.sk-toggleable__label {cursor: pointer;display: block;width: 100%;margin-bottom: 0;padding: 0.3em;box-sizing: border-box;text-align: center;}#sk-container-id-1 label.sk-toggleable__label-arrow:before {content: \"▸\";float: left;margin-right: 0.25em;color: #696969;}#sk-container-id-1 label.sk-toggleable__label-arrow:hover:before {color: black;}#sk-container-id-1 div.sk-estimator:hover label.sk-toggleable__label-arrow:before {color: black;}#sk-container-id-1 div.sk-toggleable__content {max-height: 0;max-width: 0;overflow: hidden;text-align: left;background-color: #f0f8ff;}#sk-container-id-1 div.sk-toggleable__content pre {margin: 0.2em;color: black;border-radius: 0.25em;background-color: #f0f8ff;}#sk-container-id-1 input.sk-toggleable__control:checked~div.sk-toggleable__content {max-height: 200px;max-width: 100%;overflow: auto;}#sk-container-id-1 input.sk-toggleable__control:checked~label.sk-toggleable__label-arrow:before {content: \"▾\";}#sk-container-id-1 div.sk-estimator input.sk-toggleable__control:checked~label.sk-toggleable__label {background-color: #d4ebff;}#sk-container-id-1 div.sk-label input.sk-toggleable__control:checked~label.sk-toggleable__label {background-color: #d4ebff;}#sk-container-id-1 input.sk-hidden--visually {border: 0;clip: rect(1px 1px 1px 1px);clip: rect(1px, 1px, 1px, 1px);height: 1px;margin: -1px;overflow: hidden;padding: 0;position: absolute;width: 1px;}#sk-container-id-1 div.sk-estimator {font-family: monospace;background-color: #f0f8ff;border: 1px dotted black;border-radius: 0.25em;box-sizing: border-box;margin-bottom: 0.5em;}#sk-container-id-1 div.sk-estimator:hover {background-color: #d4ebff;}#sk-container-id-1 div.sk-parallel-item::after {content: \"\";width: 100%;border-bottom: 1px solid gray;flex-grow: 1;}#sk-container-id-1 div.sk-label:hover label.sk-toggleable__label {background-color: #d4ebff;}#sk-container-id-1 div.sk-serial::before {content: \"\";position: absolute;border-left: 1px solid gray;box-sizing: border-box;top: 0;bottom: 0;left: 50%;z-index: 0;}#sk-container-id-1 div.sk-serial {display: flex;flex-direction: column;align-items: center;background-color: white;padding-right: 0.2em;padding-left: 0.2em;position: relative;}#sk-container-id-1 div.sk-item {position: relative;z-index: 1;}#sk-container-id-1 div.sk-parallel {display: flex;align-items: stretch;justify-content: center;background-color: white;position: relative;}#sk-container-id-1 div.sk-item::before, #sk-container-id-1 div.sk-parallel-item::before {content: \"\";position: absolute;border-left: 1px solid gray;box-sizing: border-box;top: 0;bottom: 0;left: 50%;z-index: -1;}#sk-container-id-1 div.sk-parallel-item {display: flex;flex-direction: column;z-index: 1;position: relative;background-color: white;}#sk-container-id-1 div.sk-parallel-item:first-child::after {align-self: flex-end;width: 50%;}#sk-container-id-1 div.sk-parallel-item:last-child::after {align-self: flex-start;width: 50%;}#sk-container-id-1 div.sk-parallel-item:only-child::after {width: 0;}#sk-container-id-1 div.sk-dashed-wrapped {border: 1px dashed gray;margin: 0 0.4em 0.5em 0.4em;box-sizing: border-box;padding-bottom: 0.4em;background-color: white;}#sk-container-id-1 div.sk-label label {font-family: monospace;font-weight: bold;display: inline-block;line-height: 1.2em;}#sk-container-id-1 div.sk-label-container {text-align: center;}#sk-container-id-1 div.sk-container {/* jupyter's `normalize.less` sets `[hidden] { display: none; }` but bootstrap.min.css set `[hidden] { display: none !important; }` so we also need the `!important` here to be able to override the default hidden behavior on the sphinx rendered scikit-learn.org. See: https://github.com/scikit-learn/scikit-learn/issues/21755 */display: inline-block !important;position: relative;}#sk-container-id-1 div.sk-text-repr-fallback {display: none;}</style><div id=\"sk-container-id-1\" class=\"sk-top-container\"><div class=\"sk-text-repr-fallback\"><pre>LogisticRegression()</pre><b>In a Jupyter environment, please rerun this cell to show the HTML representation or trust the notebook. <br />On GitHub, the HTML representation is unable to render, please try loading this page with nbviewer.org.</b></div><div class=\"sk-container\" hidden><div class=\"sk-item\"><div class=\"sk-estimator sk-toggleable\"><input class=\"sk-toggleable__control sk-hidden--visually\" id=\"sk-estimator-id-1\" type=\"checkbox\" checked><label for=\"sk-estimator-id-1\" class=\"sk-toggleable__label sk-toggleable__label-arrow\">LogisticRegression</label><div class=\"sk-toggleable__content\"><pre>LogisticRegression()</pre></div></div></div></div></div>"
            ]
          },
          "metadata": {},
          "execution_count": 44
        }
      ]
    },
    {
      "cell_type": "code",
      "source": [
        "accuracy = model.score(X_test, y_test).round(4)\n",
        "accuracy"
      ],
      "metadata": {
        "colab": {
          "base_uri": "https://localhost:8080/"
        },
        "id": "XsBZD_Mnup4h",
        "outputId": "678038bf-edf5-4468-f17e-574fbe144158"
      },
      "execution_count": null,
      "outputs": [
        {
          "output_type": "execute_result",
          "data": {
            "text/plain": [
              "0.8122"
            ]
          },
          "metadata": {},
          "execution_count": 45
        }
      ]
    },
    {
      "cell_type": "markdown",
      "source": [
        "👀 El nombre del modelo es..."
      ],
      "metadata": {
        "id": "pfvlgk8UpKxB"
      }
    },
    {
      "cell_type": "code",
      "source": [
        "model_name = model.__class__.__name__\n",
        "model_name"
      ],
      "metadata": {
        "colab": {
          "base_uri": "https://localhost:8080/",
          "height": 36
        },
        "id": "uNGsAPLGuxu0",
        "outputId": "690ead8f-5723-44fa-cd6c-02b95311aa92"
      },
      "execution_count": null,
      "outputs": [
        {
          "output_type": "execute_result",
          "data": {
            "text/plain": [
              "'LogisticRegression'"
            ],
            "application/vnd.google.colaboratory.intrinsic+json": {
              "type": "string"
            }
          },
          "metadata": {},
          "execution_count": 46
        }
      ]
    },
    {
      "cell_type": "code",
      "source": [
        "print(\"\")\n",
        "print(f\"El accuracy del modelo {model_name} es \"\n",
        "      f\"{accuracy:.4f}\")"
      ],
      "metadata": {
        "colab": {
          "base_uri": "https://localhost:8080/"
        },
        "id": "bb4FTy1TvKPg",
        "outputId": "a4082974-7b41-4fda-bb5b-aa59e9b79ccf"
      },
      "execution_count": null,
      "outputs": [
        {
          "output_type": "stream",
          "name": "stdout",
          "text": [
            "\n",
            "El accuracy del modelo LogisticRegression es 0.8122\n"
          ]
        }
      ]
    },
    {
      "cell_type": "markdown",
      "source": [
        "<p align=\"justify\">\n",
        "👀 Para calcular la puntuación de la métrica, el predictor primero calcula las predicciones (usando el método de predicción) y luego usa una función de puntuación para comparar la variable objetivo real y las predicciones realizadas. Finalmente, se devuelve la puntuación obtenida en virtud de los aciertos en las predicciones.<br><br>Por lo tanto, es importante probar siempre el rendimiento de generalización de los modelos predictivos en un conjunto diferente al utilizado para entrenar los modelos, en este caso en el conjunto de prueba.\n",
        "</p>\n"
      ],
      "metadata": {
        "id": "EqkXvSxRvqQK"
      }
    },
    {
      "cell_type": "code",
      "source": [
        "model.score(X, y).round(4)"
      ],
      "metadata": {
        "colab": {
          "base_uri": "https://localhost:8080/"
        },
        "id": "pA-J9zoMMOx1",
        "outputId": "cb36e4fb-c248-42de-fd40-78808dab3083"
      },
      "execution_count": null,
      "outputs": [
        {
          "output_type": "execute_result",
          "data": {
            "text/plain": [
              "0.8143"
            ]
          },
          "metadata": {},
          "execution_count": 48
        }
      ]
    },
    {
      "cell_type": "code",
      "source": [
        "model.score(X_test, y_test).round(4)"
      ],
      "metadata": {
        "colab": {
          "base_uri": "https://localhost:8080/"
        },
        "id": "3DrM1npWMXvk",
        "outputId": "b70b6da9-f282-4953-8df8-034c3ec49a22"
      },
      "execution_count": null,
      "outputs": [
        {
          "output_type": "execute_result",
          "data": {
            "text/plain": [
              "0.8122"
            ]
          },
          "metadata": {},
          "execution_count": 49
        }
      ]
    },
    {
      "cell_type": "markdown",
      "source": [
        " # **<font color=\"DeepPink\">Conclusiones</font>**"
      ],
      "metadata": {
        "id": "AeFSFlMVY2kF"
      }
    },
    {
      "cell_type": "markdown",
      "source": [
        "<p align=\"justify\">\n",
        "👀 En este colab nosotros:\n",
        "<br><br>\n",
        "✅ Cargamos los datos de un archivo <code>CSV</code> usando <code>Pandas</code>.<br>\n",
        "✅ Examinamos las variables numéricas.\n",
        "<br>  \n",
        "✅ Hicimos un modelo con todo el conjunto de datos.\n",
        "<br>\n",
        "✅ Tambien generamos un conjunto de datos de prueba para evaluar.</p>\n"
      ],
      "metadata": {
        "id": "hMlr5a9OY9xY"
      }
    },
    {
      "cell_type": "markdown",
      "source": [
        "<br>\n",
        "<br>\n",
        "<p align=\"center\"><b>\n",
        "💗\n",
        "<font color=\"DeepPink\">\n",
        "Hemos llegado al final de nuestro colab, a seguir codeando...\n",
        "</font>\n",
        "</p>\n"
      ],
      "metadata": {
        "id": "wtgChAZSaUMQ"
      }
    }
  ]
}