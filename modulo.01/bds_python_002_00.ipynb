{
  "nbformat": 4,
  "nbformat_minor": 0,
  "metadata": {
    "colab": {
      "provenance": [],
      "include_colab_link": true
    },
    "kernelspec": {
      "name": "python3",
      "display_name": "Python 3"
    },
    "language_info": {
      "name": "python"
    }
  },
  "cells": [
    {
      "cell_type": "markdown",
      "metadata": {
        "id": "view-in-github",
        "colab_type": "text"
      },
      "source": [
        "<a href=\"https://colab.research.google.com/github/cristiandarioortegayubro/BDS/blob/main/modulo.01/bds_python_002_00.ipynb\" target=\"_parent\"><img src=\"https://colab.research.google.com/assets/colab-badge.svg\" alt=\"Open In Colab\"/></a>"
      ]
    },
    {
      "cell_type": "markdown",
      "source": [
        "<p align=\"center\">\n",
        "<img src=\"https://github.com/cristiandarioortegayubro/BDS/blob/main/images/Logo%20BDS%20Horizontal%208.png?raw=true\">\n",
        "</p>\n"
      ],
      "metadata": {
        "id": "iheuwam9e4CH"
      }
    },
    {
      "cell_type": "markdown",
      "source": [
        "# **<font color=\"DeepPink\">Fundamentos de programacion en Python</font>**"
      ],
      "metadata": {
        "id": "_fRBXj8mbrnO"
      }
    },
    {
      "cell_type": "markdown",
      "source": [
        "<p align=\"center\">\n",
        "<img src=\"https://www.python.org/static/community_logos/python-powered-h-70x91.png\"/>\n",
        "</p>\n"
      ],
      "metadata": {
        "id": "gjpEYi_23t-3"
      }
    },
    {
      "cell_type": "markdown",
      "source": [
        "<p align=\"justify\"><b>\n",
        "<font color=\"DeepPink\">\n",
        "💗 Todo el mundo deberia aprender a programar, porque te enseña a pensar...\n",
        "</font>\n",
        "</p>\n",
        "<p align=\"right\"><b>\n",
        "<font color=\"DeepPink\">\n",
        "Steve Jobs (1995)\n",
        "</font>\n",
        "</p>\n",
        "<br>\n",
        "<br>\n",
        "\n"
      ],
      "metadata": {
        "id": "vy2CAnk9uZ9E"
      }
    },
    {
      "cell_type": "markdown",
      "source": [
        "# **<font color=\"DeepPink\">Variables</font>**"
      ],
      "metadata": {
        "id": "8i5MiaPKfJOg"
      }
    },
    {
      "cell_type": "markdown",
      "source": [
        "<p align=\"justify\">\n",
        "Python, en principio, asume que la codificación es ASCII y, por tanto, no reconocerá caracteres fuera de esa codificación. Por ese motivo los archivos que se utilicen deberán estar codificados en UTF-8 y el interprete de Python debería admitir el uso de caracteres UTF-8 en nuestros scripts. En cualquier caso, no es recomendable el uso de caracteres no ASCII en nombre de variables o funciones.\n",
        "</p>"
      ],
      "metadata": {
        "id": "QpDcUNiRd9Sb"
      }
    },
    {
      "cell_type": "markdown",
      "source": [
        "<p align=\"justify\">\n",
        "Una variable es \"algo\" en lo que puedes almacenar información para su uso posterior. En Python, una variable puede almacenar un número, una letra, un conjunto de números o de letras o incluso conjuntos de conjuntos. <br><br> Las letras permitidas para la generacion de variables son las letras del alfabeto inglés, por lo que están prohibidas la ñ, la ç o las vocales con acentos y dieresis. <br><br>Las palabras reservadas del lenguaje también están prohibidas. En caso de que se otorgue un nombre incorrecto a una variable, Python mostrará un mensaje de error al ejecutar el\n",
        "script. Aunque no es obligatorio, normalmente conviene que el nombre de la variable esté relacionado con\n",
        "la información que se almacena en ella, para que sea más fácil entender el script. Mientras se estan escribiendo las líneas de código, esto no parece muy importante, pero si consultas un notebook que has\n",
        "desarrollado hace tiempo (o que lo ha desarrollado otra persona), resultará mucho más fácil entender el script si los nombres están bien elegidos.\n",
        "</p>"
      ],
      "metadata": {
        "id": "faATtytyfQoA"
      }
    },
    {
      "cell_type": "markdown",
      "source": [
        "## **<font color=\"DeepPink\">Tipos de datos</font>**"
      ],
      "metadata": {
        "id": "v8abc96k3sr9"
      }
    },
    {
      "cell_type": "markdown",
      "source": [
        "<p align=\"justify\">\n",
        "En Python los tipos de datos básicos se dividen en:</p>\n",
        "\n",
        "- Numéricos, como pueden ser:\n",
        "   - enteros\n",
        "   - decimales\n",
        "   - complejos\n",
        "- Cadenas de caracteres\n",
        "- Booleanos\n",
        "- Fecha"
      ],
      "metadata": {
        "id": "mI4wSKB7XZvA"
      }
    },
    {
      "cell_type": "markdown",
      "source": [
        "### **<font color=\"DeepPink\">Datos numéricos</font>**"
      ],
      "metadata": {
        "id": "8d84UNXMLeVr"
      }
    },
    {
      "cell_type": "markdown",
      "source": [
        "<p align=\"justify\">\n",
        "En Python se pueden representar números enteros, reales y complejos.<br><br>Los números enteros son aquellos números positivos o negativos que no tienen decimales (además del cero). En Python se pueden representar mediante el tipo <code>int</code> (de integer, entero).<br><br>Los números reales son los que tienen decimales. En Python se expresan mediante el tipo <code>float</code>.<br><br>Los números complejos son aquellos que tienen parte imaginaria. Si no conocías su existencia, es más que probable que nunca los  necesites. De hecho la mayor parte de lenguajes de programación carecen de este tipo númerico, aunque sea muy utilizado por ingenieros y científicos en general. Este tipo de dato numérico, llamado <code>complex</code> en Python, también se almacena usando coma flotante, debido a que estos son una extensión de los números reales.\n",
        "</p>\n"
      ],
      "metadata": {
        "id": "s73nHEN417kx"
      }
    },
    {
      "cell_type": "markdown",
      "source": [
        "### **<font color=\"DeepPink\">Cadenas de caracteres</font>**"
      ],
      "metadata": {
        "id": "7k7GRoTN1dlo"
      }
    },
    {
      "cell_type": "markdown",
      "source": [
        "<p align=\"justify\">\n",
        "Las cadenas no son más que texto encerrado entre comillas simples (‘cadena’) o dobles (“cadena”). Dentro de las comillas se pueden añadir caracteres especiales con <code>\\</code>, como <code>\\n</code>, lo que implica una nueva línea, o <code>\\t</code>, que sería una tabulación.\n",
        "</p>\n"
      ],
      "metadata": {
        "id": "_XS-nB9yndvM"
      }
    },
    {
      "cell_type": "markdown",
      "source": [
        "### **<font color=\"DeepPink\">Booleanos</font>**"
      ],
      "metadata": {
        "id": "z9nwWrgxpBb_"
      }
    },
    {
      "cell_type": "markdown",
      "source": [
        "<p align=\"justify\">\n",
        "Una variable de tipo booleano sólo puede tener dos valores: <code>True</code> (cierto) y <code>False</code> (falso). Estos valores son importantes para las expresiones condicionales y los bucles. En realidad el tipo <code>bool</code> (el tipo de los booleanos) es una subclase del tipo <code>int</code>.\n",
        "</p>\n"
      ],
      "metadata": {
        "id": "WOGi6wqZpFWy"
      }
    },
    {
      "cell_type": "markdown",
      "source": [
        "## **<font color=\"DeepPink\">Operadores aritméticos</font>**"
      ],
      "metadata": {
        "id": "lvEjTnlW1ka5"
      }
    },
    {
      "cell_type": "code",
      "source": [
        "import math\n",
        "import numpy as np"
      ],
      "metadata": {
        "id": "NrXj0GD84C3w"
      },
      "execution_count": null,
      "outputs": []
    },
    {
      "cell_type": "code",
      "source": [
        "a = math.sqrt(2)\n",
        "a"
      ],
      "metadata": {
        "colab": {
          "base_uri": "https://localhost:8080/"
        },
        "id": "Lzk_lncH4I_X",
        "outputId": "8f682f3d-e6fb-4e9d-e0be-69116197b099"
      },
      "execution_count": null,
      "outputs": [
        {
          "output_type": "execute_result",
          "data": {
            "text/plain": [
              "1.4142135623730951"
            ]
          },
          "metadata": {},
          "execution_count": 2
        }
      ]
    },
    {
      "cell_type": "code",
      "source": [
        "b = np.sqrt(2)\n",
        "b"
      ],
      "metadata": {
        "colab": {
          "base_uri": "https://localhost:8080/"
        },
        "id": "EUWIwvHC4Lme",
        "outputId": "bc403462-3fcc-42f6-d981-35d56e1ac6c3"
      },
      "execution_count": null,
      "outputs": [
        {
          "output_type": "execute_result",
          "data": {
            "text/plain": [
              "1.4142135623730951"
            ]
          },
          "metadata": {},
          "execution_count": 3
        }
      ]
    },
    {
      "cell_type": "code",
      "source": [
        "a==b"
      ],
      "metadata": {
        "colab": {
          "base_uri": "https://localhost:8080/"
        },
        "id": "xc-g8A7P4P-L",
        "outputId": "e754c5d6-8032-4a16-836b-1e692209b7fd"
      },
      "execution_count": null,
      "outputs": [
        {
          "output_type": "execute_result",
          "data": {
            "text/plain": [
              "True"
            ]
          },
          "metadata": {},
          "execution_count": 4
        }
      ]
    },
    {
      "cell_type": "code",
      "source": [
        "a is b #ocupa distinto espacio en memoria"
      ],
      "metadata": {
        "colab": {
          "base_uri": "https://localhost:8080/"
        },
        "id": "e6z0dTQi4bCM",
        "outputId": "2662548e-a9d2-47f9-804a-8355a15dbe20"
      },
      "execution_count": null,
      "outputs": [
        {
          "output_type": "execute_result",
          "data": {
            "text/plain": [
              "False"
            ]
          },
          "metadata": {},
          "execution_count": 5
        }
      ]
    },
    {
      "cell_type": "code",
      "source": [
        "np.sqrt([2,3,4])"
      ],
      "metadata": {
        "colab": {
          "base_uri": "https://localhost:8080/"
        },
        "id": "B-Gj19mT4fp6",
        "outputId": "6f8fef74-aa4e-4ccf-d830-79a717d58d9a"
      },
      "execution_count": null,
      "outputs": [
        {
          "output_type": "execute_result",
          "data": {
            "text/plain": [
              "array([1.41421356, 1.73205081, 2.        ])"
            ]
          },
          "metadata": {},
          "execution_count": 6
        }
      ]
    },
    {
      "cell_type": "code",
      "source": [
        "math.sqrt([2,3,4]) #no soporta listas"
      ],
      "metadata": {
        "id": "9KJlNrkC4kSt",
        "outputId": "f30ac92c-325d-4f36-d9e9-73905939010f",
        "colab": {
          "base_uri": "https://localhost:8080/",
          "height": 165
        }
      },
      "execution_count": null,
      "outputs": [
        {
          "output_type": "error",
          "ename": "TypeError",
          "evalue": "ignored",
          "traceback": [
            "\u001b[0;31m---------------------------------------------------------------------------\u001b[0m",
            "\u001b[0;31mTypeError\u001b[0m                                 Traceback (most recent call last)",
            "\u001b[0;32m<ipython-input-7-deec65880084>\u001b[0m in \u001b[0;36m<module>\u001b[0;34m\u001b[0m\n\u001b[0;32m----> 1\u001b[0;31m \u001b[0mmath\u001b[0m\u001b[0;34m.\u001b[0m\u001b[0msqrt\u001b[0m\u001b[0;34m(\u001b[0m\u001b[0;34m[\u001b[0m\u001b[0;36m2\u001b[0m\u001b[0;34m,\u001b[0m\u001b[0;36m3\u001b[0m\u001b[0;34m,\u001b[0m\u001b[0;36m4\u001b[0m\u001b[0;34m]\u001b[0m\u001b[0;34m)\u001b[0m \u001b[0;31m#no soporta listas\u001b[0m\u001b[0;34m\u001b[0m\u001b[0;34m\u001b[0m\u001b[0m\n\u001b[0m",
            "\u001b[0;31mTypeError\u001b[0m: must be real number, not list"
          ]
        }
      ]
    },
    {
      "cell_type": "markdown",
      "source": [
        "# **<font color=\"DeepPink\">Estructuras de control</font>**"
      ],
      "metadata": {
        "id": "uHim-Cf1vJfO"
      }
    },
    {
      "cell_type": "markdown",
      "source": [
        "<p align=\"justify\">\n",
        "Un programa medianamente útil necesita reaccionar ante cambios en su \"entorno\", de modo que se\n",
        "ejecuten distintas secciones del código en distintas circunstancias. Para ello existen las estructuras\n",
        "condicionales que se encargan de comparar valores (ya sean de variables, constantes, arrays...) y, en función del resultado de esa comparación, ejecutar o no un determinado bloque de código. <br><br>👀 Un bucle es un segmento de código que se ejecuta repetidas veces mientras se cumpla una condición determinada.\n",
        "\n",
        "</p>"
      ],
      "metadata": {
        "id": "Dw47Qi8QxNKm"
      }
    },
    {
      "cell_type": "markdown",
      "source": [
        "## **<font color=\"DeepPink\">Teorema de la programación estructurada</font>**"
      ],
      "metadata": {
        "id": "-gVMNymkyS3j"
      }
    },
    {
      "cell_type": "markdown",
      "source": [
        "<p align=\"justify\">\n",
        "El teorema de la programación estructurada afirma (y demuestra) que toda función computable\n",
        "puede codificarse usando sólo combinaciones de tres tipos de estructuras básicas de control:\n",
        "</p><br>\n",
        "\n",
        "- Secuencia,\n",
        "- Condicional,\n",
        "- Bucle\n",
        "\n"
      ],
      "metadata": {
        "id": "zEoBgYBTyhmR"
      }
    },
    {
      "cell_type": "markdown",
      "source": [
        "### **<font color=\"DeepPink\">Secuencia</font>**"
      ],
      "metadata": {
        "id": "JuSTMA50hwdQ"
      }
    },
    {
      "cell_type": "markdown",
      "source": [
        "<p align=\"justify\">\n",
        "La secuencia ejecuta una orden y despues otra. Viene a ser el flujo \"natural\" de un programa, tal como hemos hecho en un cuaderno notebook, ejecutamos las celdas de código en secuencia.</p>\n"
      ],
      "metadata": {
        "id": "4_21CsNXh0PY"
      }
    },
    {
      "cell_type": "markdown",
      "source": [
        "### **<font color=\"DeepPink\">Condicional</font>**"
      ],
      "metadata": {
        "id": "Sq7v2TmTiNy_"
      }
    },
    {
      "cell_type": "markdown",
      "source": [
        "\n",
        "<p align=\"justify\">\n",
        "El condicional ejecuta una de dos instrucciones, dependiendo de un valor verdadero o falso. Naturalmente, el condicional puede combinarse para multiplicar diversas opciones, y unirse a la secuencia para elegir bloques completos de código."
      ],
      "metadata": {
        "id": "kmzg_wKYiAS9"
      }
    },
    {
      "cell_type": "markdown",
      "source": [
        "### **<font color=\"DeepPink\">Bucle</font>**"
      ],
      "metadata": {
        "id": "_oXhjsuIiQiA"
      }
    },
    {
      "cell_type": "markdown",
      "source": [
        "<p align=\"justify\">\n",
        "El bucle ejecuta una instrucción mientras una condición sea cierta, o (lo que viene a ser lo mismo) ejecuta una instrucción hasta que deja de serlo.\n",
        "\n"
      ],
      "metadata": {
        "id": "h2xFzHutiFBW"
      }
    },
    {
      "cell_type": "markdown",
      "source": [
        "## **<font color=\"DeepPink\">Anidamiento</font>**"
      ],
      "metadata": {
        "id": "k1VvU1sT0pXk"
      }
    },
    {
      "cell_type": "markdown",
      "source": [
        "<p align=\"justify\">\n",
        "Las instrucciones pueden \"anidarse\". Es decir, pueden incluirse unas dentro de otras para hacer dependiente su ejecución. En Python, el anidamiento de instrucciones no se hace con llaves ni otros símbolos contenedores, si\n",
        "no por medio de la indentación. las instrucciones con un nivel de indentación estań contenidas en ese nivel de identación.<br><br> La identación es una cantidad de espacios. Lo recomendable, según Guido van Rossum, son cuatro espacios por cada nivel de indentación.<br><br> 👀 Google Colab hace la identación automáticamente.\n",
        "\n",
        "</p>"
      ],
      "metadata": {
        "id": "b_U2kMgU1MWu"
      }
    },
    {
      "cell_type": "markdown",
      "source": [
        "## **<font color=\"DeepPink\">Verdadero o Falso</font>**"
      ],
      "metadata": {
        "id": "FN7JCLos2fgD"
      }
    },
    {
      "cell_type": "markdown",
      "source": [
        "<p align=\"justify\">\n",
        "Los valores booleanos en Python se escriben como <code>True</code> y <code>False</code>.\n",
        "</p>"
      ],
      "metadata": {
        "id": "I_00aPk8hDtA"
      }
    },
    {
      "cell_type": "code",
      "source": [
        "True and True"
      ],
      "metadata": {
        "colab": {
          "base_uri": "https://localhost:8080/"
        },
        "id": "ldl5js6nNlcS",
        "outputId": "fc54e4d0-1913-4468-e5bc-c74b3009a4c3"
      },
      "execution_count": null,
      "outputs": [
        {
          "output_type": "execute_result",
          "data": {
            "text/plain": [
              "True"
            ]
          },
          "metadata": {},
          "execution_count": 42
        }
      ]
    },
    {
      "cell_type": "code",
      "source": [
        "True or False"
      ],
      "metadata": {
        "colab": {
          "base_uri": "https://localhost:8080/"
        },
        "id": "n4aDr9mZhPBE",
        "outputId": "41a29fdd-18bd-48ed-f3c1-e0a29083fc26"
      },
      "execution_count": null,
      "outputs": [
        {
          "output_type": "execute_result",
          "data": {
            "text/plain": [
              "True"
            ]
          },
          "metadata": {},
          "execution_count": 43
        }
      ]
    },
    {
      "cell_type": "code",
      "source": [
        "a = True\n",
        "b = False"
      ],
      "metadata": {
        "id": "cw4g0HsrNlY7"
      },
      "execution_count": null,
      "outputs": []
    },
    {
      "cell_type": "code",
      "source": [
        "not a"
      ],
      "metadata": {
        "colab": {
          "base_uri": "https://localhost:8080/"
        },
        "id": "r-wDUzBjhaJA",
        "outputId": "3230f772-b35b-4c99-95e4-40f620711cab"
      },
      "execution_count": null,
      "outputs": [
        {
          "output_type": "execute_result",
          "data": {
            "text/plain": [
              "False"
            ]
          },
          "metadata": {},
          "execution_count": 46
        }
      ]
    },
    {
      "cell_type": "code",
      "source": [
        "not b"
      ],
      "metadata": {
        "colab": {
          "base_uri": "https://localhost:8080/"
        },
        "id": "dacZ4ip0hmHF",
        "outputId": "eb5fc965-fd7e-4011-aefb-595d014c8e08"
      },
      "execution_count": null,
      "outputs": [
        {
          "output_type": "execute_result",
          "data": {
            "text/plain": [
              "True"
            ]
          },
          "metadata": {},
          "execution_count": 47
        }
      ]
    },
    {
      "cell_type": "markdown",
      "source": [
        "<p align=\"justify\">\n",
        "👀 <code>None</code> es el tipo de valor nulo de Python.\n",
        "</p>"
      ],
      "metadata": {
        "id": "9E8I3ElKiUYn"
      }
    },
    {
      "cell_type": "code",
      "source": [
        "c = None"
      ],
      "metadata": {
        "id": "pUvAOjeANlWG"
      },
      "execution_count": null,
      "outputs": []
    },
    {
      "cell_type": "code",
      "source": [
        "c is None"
      ],
      "metadata": {
        "colab": {
          "base_uri": "https://localhost:8080/"
        },
        "id": "iZYOXCknNlHy",
        "outputId": "c63f3286-406a-4fb8-c27f-118e8f826df7"
      },
      "execution_count": null,
      "outputs": [
        {
          "output_type": "execute_result",
          "data": {
            "text/plain": [
              "True"
            ]
          },
          "metadata": {},
          "execution_count": 50
        }
      ]
    },
    {
      "cell_type": "code",
      "source": [
        "d = 5"
      ],
      "metadata": {
        "id": "10DCHsdIgZgf"
      },
      "execution_count": null,
      "outputs": []
    },
    {
      "cell_type": "code",
      "source": [
        "d is None"
      ],
      "metadata": {
        "colab": {
          "base_uri": "https://localhost:8080/"
        },
        "id": "8jJ7NV22gdQQ",
        "outputId": "a75e9927-5d96-482c-97f1-8711681d79c7"
      },
      "execution_count": null,
      "outputs": [
        {
          "output_type": "execute_result",
          "data": {
            "text/plain": [
              "False"
            ]
          },
          "metadata": {},
          "execution_count": 52
        }
      ]
    },
    {
      "cell_type": "markdown",
      "source": [
        "## **<font color=\"DeepPink\">Condicionales  <code>if</code>, <code>elif</code> y <code>else</code></font>**"
      ],
      "metadata": {
        "id": "oIwwLeyp2jxO"
      }
    },
    {
      "cell_type": "markdown",
      "source": [
        "<p align=\"justify\">\n",
        "Python tiene varias palabras clave integradas para lógica condicional, bucles y otros conceptos de flujo de control estándar que se encuentran en otros lenguajes de programación. Uno de los mas conocidos es <code>if</code>, <code>elif</code> y <code>else</code>\n",
        "\n",
        "</p>"
      ],
      "metadata": {
        "id": "BWji0MFYH18r"
      }
    },
    {
      "cell_type": "code",
      "source": [
        "x = -5\n",
        "if x < 0:\n",
        "  print(\"El valor es negativo\")"
      ],
      "metadata": {
        "colab": {
          "base_uri": "https://localhost:8080/"
        },
        "id": "mRH0SqFZ2i8O",
        "outputId": "54f36064-15c9-40a8-c53a-a537c4d0f527"
      },
      "execution_count": null,
      "outputs": [
        {
          "output_type": "stream",
          "name": "stdout",
          "text": [
            "El valor es negativo\n"
          ]
        }
      ]
    },
    {
      "cell_type": "markdown",
      "source": [
        "<p align=\"justify\">\n",
        "👀 Una instrucción puede ir seguida opcionalmente de uno o más bloques...</p>"
      ],
      "metadata": {
        "id": "wW5w_DFvJKHb"
      }
    },
    {
      "cell_type": "markdown",
      "source": [
        "### **<font color=\"DeepPink\"><code>if</code></font>**"
      ],
      "metadata": {
        "id": "fBg5Cu0HJsiY"
      }
    },
    {
      "cell_type": "markdown",
      "source": [
        "<p align=\"justify\">Para una sola condición, se usa la estructura de control <code>if</code></p>.\n",
        "\n",
        "~~~python\n",
        "if condicion_1:\n",
        "     sentencia_1\n",
        "~~~"
      ],
      "metadata": {
        "id": "jeBJ37dbJ9Ct"
      }
    },
    {
      "cell_type": "code",
      "source": [
        "positivo = int(input(\"Escriba un número positivo: \"))"
      ],
      "metadata": {
        "colab": {
          "base_uri": "https://localhost:8080/"
        },
        "id": "INR1Q9UL2i41",
        "outputId": "80d7c2c4-cf1b-4c56-a591-d23fa4533679"
      },
      "execution_count": null,
      "outputs": [
        {
          "name": "stdout",
          "output_type": "stream",
          "text": [
            "Escriba un número positivo: 5\n"
          ]
        }
      ]
    },
    {
      "cell_type": "code",
      "source": [
        "if positivo < 0:\n",
        "  print(\"No es un número positivo!\")\n",
        "print(f\"El número {positivo} es un número positivo\")"
      ],
      "metadata": {
        "colab": {
          "base_uri": "https://localhost:8080/"
        },
        "id": "g0OMzT2_KUAa",
        "outputId": "c56b46bb-f60d-4eee-9704-4a3007f4b119"
      },
      "execution_count": null,
      "outputs": [
        {
          "output_type": "stream",
          "name": "stdout",
          "text": [
            "El número 5 es un número positivo\n"
          ]
        }
      ]
    },
    {
      "cell_type": "markdown",
      "source": [
        "### **<font color=\"DeepPink\"><code>if</code> <code>else</code></font>**"
      ],
      "metadata": {
        "id": "d2AKmii8K7ph"
      }
    },
    {
      "cell_type": "markdown",
      "source": [
        "<p align=\"justify\">Para dos condiciones, se usa la estructura de control <code>if</code> y <code>else</code>. Es decir, o se cumple una condición, o se cumple otra condición</p>.\n",
        "\n",
        "~~~python\n",
        "if condicion_1:\n",
        "     instrucciones_1\n",
        "          \n",
        "else:\n",
        "     instrucciones_2\n",
        "~~~"
      ],
      "metadata": {
        "id": "GWd1OrZ7LEX2"
      }
    },
    {
      "cell_type": "code",
      "source": [
        "edad = int(input(\"¿Cuántos años tiene? \"))\n",
        "if edad < 18:\n",
        "  print(\"Es menor de edad, no está habilitado para realizar operaciones comerciales\")\n",
        "else:\n",
        "  print(\"Es mayor de edad, usted puede realizar operaciones comerciales\")"
      ],
      "metadata": {
        "colab": {
          "base_uri": "https://localhost:8080/"
        },
        "id": "WV7D_z64Kpw_",
        "outputId": "e24aea18-d9f2-40d6-e9ef-8407f0c5049a"
      },
      "execution_count": null,
      "outputs": [
        {
          "output_type": "stream",
          "name": "stdout",
          "text": [
            "¿Cuántos años tiene? 18\n",
            "Es mayor de edad, usted puede realizar operaciones comerciales\n"
          ]
        }
      ]
    },
    {
      "cell_type": "markdown",
      "source": [
        "### **<font color=\"DeepPink\"><code>if</code> <code>elif</code> <code>else</code></font>**"
      ],
      "metadata": {
        "id": "Gei3H018L8Ap"
      }
    },
    {
      "cell_type": "markdown",
      "source": [
        "<p align=\"justify\">Para mas de dos condiciones, se usa la estructura de control <code lang=\"python\">if</code> <code>elif</code> y <code>else</code>.</p>\n",
        "\n",
        "~~~python\n",
        "if condicion_1:\n",
        "     instrucciones_1\n",
        "     \n",
        "elif condicion_2:\n",
        "     instrucciones_2\n",
        "     \n",
        "else:\n",
        "     instrucciones_3\n",
        "~~~"
      ],
      "metadata": {
        "id": "8-u4zBJlMGO5"
      }
    },
    {
      "cell_type": "code",
      "source": [
        "x = int(input(\"Ingresar un número entero positivo o negativo, por favor: \"))\n",
        "if x < 0:\n",
        "  print(f\"El numero {x} ingresado es negativo\")\n",
        "elif x == 0:\n",
        "  print(f\"El numero ingresado es cero\")\n",
        "else:\n",
        "  print(f\"El numero {x} ingresado es positivo\")"
      ],
      "metadata": {
        "colab": {
          "base_uri": "https://localhost:8080/"
        },
        "id": "tDj5FmYYKpto",
        "outputId": "62003de9-6171-4352-dce0-426c9817cf03"
      },
      "execution_count": null,
      "outputs": [
        {
          "output_type": "stream",
          "name": "stdout",
          "text": [
            "Ingresar un número entero positivo o negativo, por favor: 0\n",
            "El numero ingresado es cero\n"
          ]
        }
      ]
    },
    {
      "cell_type": "markdown",
      "source": [
        "<p align=\"justify\">\n",
        "👀 Si alguna de las condiciones se cumple y nuestro script tiene varias condiciones a evaluar, entonces cumplida una condición, ya no se siguen evaluando las siguientes condiciones...</p>"
      ],
      "metadata": {
        "id": "B91FnU2dOTuV"
      }
    },
    {
      "cell_type": "code",
      "source": [
        "activo_corriente = 500;\n",
        "pasivo_corriente = 700;\n",
        "activo_no_corriente = 800;\n",
        "pasivo_no_corriente = 1000"
      ],
      "metadata": {
        "id": "AV1eEpxyOk9I"
      },
      "execution_count": null,
      "outputs": []
    },
    {
      "cell_type": "code",
      "source": [
        "if activo_corriente < pasivo_corriente or activo_no_corriente > pasivo_no_corriente:\n",
        "  print(\"Verificado\")"
      ],
      "metadata": {
        "colab": {
          "base_uri": "https://localhost:8080/"
        },
        "id": "J0ZHQn0gPYaL",
        "outputId": "6b9dd279-e3d2-4500-8bb8-21be8e76eb39"
      },
      "execution_count": null,
      "outputs": [
        {
          "output_type": "stream",
          "name": "stdout",
          "text": [
            "Verificado\n"
          ]
        }
      ]
    },
    {
      "cell_type": "markdown",
      "source": [
        "<p align=\"justify\">\n",
        "👀 La comparación <code>activo_no_corriente</code> con <code>pasivo_no_corriente</code> nunca se evalúa porque la primera comparación entre activo y pasivo corriente fue <code lang=\"python\">True</code>...<br><br>También es posible encadenar comparaciones, ejemplo:</p>"
      ],
      "metadata": {
        "id": "BLQpiazBP71P"
      }
    },
    {
      "cell_type": "code",
      "source": [
        "4 > 3 > 2 > 1"
      ],
      "metadata": {
        "colab": {
          "base_uri": "https://localhost:8080/"
        },
        "id": "nCyRcR2-Rnzl",
        "outputId": "5b8c78aa-d502-42b7-e22a-6cd993815900"
      },
      "execution_count": null,
      "outputs": [
        {
          "output_type": "execute_result",
          "data": {
            "text/plain": [
              "True"
            ]
          },
          "metadata": {},
          "execution_count": 12
        }
      ]
    },
    {
      "cell_type": "code",
      "source": [
        "activo_corriente > activo_no_corriente > pasivo_corriente > pasivo_no_corriente"
      ],
      "metadata": {
        "colab": {
          "base_uri": "https://localhost:8080/"
        },
        "id": "nna6oVP6RtEh",
        "outputId": "b31b1881-4907-44a1-aa7b-8e17dba92b81"
      },
      "execution_count": null,
      "outputs": [
        {
          "output_type": "execute_result",
          "data": {
            "text/plain": [
              "False"
            ]
          },
          "metadata": {},
          "execution_count": 13
        }
      ]
    },
    {
      "cell_type": "markdown",
      "source": [
        "## **<font color=\"DeepPink\">Bucle For</font>**"
      ],
      "metadata": {
        "id": "7Kg2o5pF2teA"
      }
    },
    {
      "cell_type": "markdown",
      "source": [
        "<p align=\"justify\">Los bucles <code>for</code> son para iterar sobre una colección (como una tupla, lista, cadena, etc) o un sobre un elemento iterable. La sintaxis estándar para un bucle <code>for</code> es:</p>\n",
        "\n",
        "\n",
        "~~~python\n",
        "for variable in elemento iterable (tupla, lista, cadena, etc.):\n",
        "    cuerpo bucle\n",
        "~~~"
      ],
      "metadata": {
        "id": "GZbbBT2nN1R7"
      }
    },
    {
      "cell_type": "code",
      "source": [
        "lista = [\"Activo\",\"Pasivo\",\"Patrimonio Neto\"]\n",
        "for i in lista:\n",
        "  print(f\"Elemento del Estado de Situación Patrimonial, el {i}\")"
      ],
      "metadata": {
        "colab": {
          "base_uri": "https://localhost:8080/"
        },
        "id": "1zau0WBPuw9f",
        "outputId": "4ab37317-4100-4d4b-85db-2ae0ec09ae63"
      },
      "execution_count": null,
      "outputs": [
        {
          "output_type": "stream",
          "name": "stdout",
          "text": [
            "Elemento del Estado de Situación Patrimonial, el Activo\n",
            "Elemento del Estado de Situación Patrimonial, el Pasivo\n",
            "Elemento del Estado de Situación Patrimonial, el Patrimonio Neto\n"
          ]
        }
      ]
    },
    {
      "cell_type": "markdown",
      "source": [
        "## **<font color=\"DeepPink\">Break y Continue</font>**"
      ],
      "metadata": {
        "id": "xSWmFe7a3GD0"
      }
    },
    {
      "cell_type": "markdown",
      "source": [
        "<p align=\"justify\">\n",
        "👀 Podemos avanzar un bucle a la siguiente iteración, omitiendo el resto del bloque, utilizando la palabra clave <code>continue</code>. Por ejemplo, el siguiente bucle <code>for</code> omite valores <code>None</code>.\n",
        "\n",
        "</p>"
      ],
      "metadata": {
        "id": "5AaxGnHBV8Tt"
      }
    },
    {
      "cell_type": "code",
      "source": [
        "unidades = [100, 200, None, 450, None, 580]\n",
        "total = 0\n",
        "for i in unidades:\n",
        "  if i is None:\n",
        "    continue\n",
        "  total += i"
      ],
      "metadata": {
        "id": "YHplNJtAuw6R"
      },
      "execution_count": null,
      "outputs": []
    },
    {
      "cell_type": "code",
      "source": [
        "total"
      ],
      "metadata": {
        "colab": {
          "base_uri": "https://localhost:8080/"
        },
        "id": "OwGDIhtPYCei",
        "outputId": "d39fe3aa-fb14-4635-946d-45ce1c9b0a56"
      },
      "execution_count": null,
      "outputs": [
        {
          "output_type": "execute_result",
          "data": {
            "text/plain": [
              "1330"
            ]
          },
          "metadata": {},
          "execution_count": 25
        }
      ]
    },
    {
      "cell_type": "markdown",
      "source": [
        "<p align=\"justify\">\n",
        "👀 O tambien podemos detener un bucle, utilizando la palabra clave <code>break</code>. Por ejemplo, el siguiente bucle <code>for</code> detiene el bucle cuando se encuentre el valor cinco.\n",
        "\n",
        "</p>"
      ],
      "metadata": {
        "id": "gHH0WpV7Y_FI"
      }
    },
    {
      "cell_type": "code",
      "source": [
        "secuencia = [1, 2, 0, 4, 6, 5, 2, 1]\n",
        "total_limite_5 = 0\n",
        "for i in secuencia:\n",
        "  if i == 5:\n",
        "    break\n",
        "  total_limite_5 += i"
      ],
      "metadata": {
        "id": "7817NH3kXbgl"
      },
      "execution_count": null,
      "outputs": []
    },
    {
      "cell_type": "code",
      "source": [
        "total_limite_5"
      ],
      "metadata": {
        "colab": {
          "base_uri": "https://localhost:8080/"
        },
        "id": "WaFewPLZYgGT",
        "outputId": "11bacd0b-8e38-40cf-c42d-fc73f98da914"
      },
      "execution_count": null,
      "outputs": [
        {
          "output_type": "execute_result",
          "data": {
            "text/plain": [
              "13"
            ]
          },
          "metadata": {},
          "execution_count": 27
        }
      ]
    },
    {
      "cell_type": "markdown",
      "source": [
        "<p align=\"justify\">\n",
        "👀 La palabra clave <code>break</code> detiene el bucle mas interno, y los bucles externos siguen ejecutándose. Por ejemplo:\n",
        "\n",
        "</p>"
      ],
      "metadata": {
        "id": "Slhn7vXLZj0d"
      }
    },
    {
      "cell_type": "code",
      "source": [
        "for i in range(4):\n",
        "  for j in range(4):\n",
        "    if j > i:\n",
        "      break\n",
        "    print((i, j))"
      ],
      "metadata": {
        "colab": {
          "base_uri": "https://localhost:8080/"
        },
        "id": "8E2KOeQwZ0Je",
        "outputId": "5330003d-1b7c-4d89-c447-178b7efcf832"
      },
      "execution_count": null,
      "outputs": [
        {
          "output_type": "stream",
          "name": "stdout",
          "text": [
            "(0, 0)\n",
            "(1, 0)\n",
            "(1, 1)\n",
            "(2, 0)\n",
            "(2, 1)\n",
            "(2, 2)\n",
            "(3, 0)\n",
            "(3, 1)\n",
            "(3, 2)\n",
            "(3, 3)\n"
          ]
        }
      ]
    },
    {
      "cell_type": "markdown",
      "source": [
        "## **<font color=\"DeepPink\">Bucle While</font>**"
      ],
      "metadata": {
        "id": "V0-I4Zgw2_Tp"
      }
    },
    {
      "cell_type": "markdown",
      "source": [
        "<p align=\"justify\">Un bucle <code>while</code> especifica una condición y un bloque de código que se ejecutará hasta que la condición <code>False</code> se evalúe o el bucle termine explícitamente con <code>break</code>:</p>\n",
        "\n",
        "\n",
        "~~~python\n",
        "while condicion:\n",
        "    cuerpo bucle\n",
        "~~~\n"
      ],
      "metadata": {
        "id": "kGWIlg6MahFZ"
      }
    },
    {
      "cell_type": "code",
      "source": [
        "cuenta = 1\n",
        "while cuenta <= 5:\n",
        "  if cuenta == 1:\n",
        "    print(f\"A la {cuenta}\")\n",
        "  else:\n",
        "   print(f\"A las {cuenta}\")\n",
        "  cuenta += 1"
      ],
      "metadata": {
        "colab": {
          "base_uri": "https://localhost:8080/"
        },
        "id": "JkTeVY_I3FRe",
        "outputId": "79f78c5e-1e11-41e4-bbea-27fda301ba1d"
      },
      "execution_count": null,
      "outputs": [
        {
          "output_type": "stream",
          "name": "stdout",
          "text": [
            "A la 1\n",
            "A las 2\n",
            "A las 3\n",
            "A las 4\n",
            "A las 5\n"
          ]
        }
      ]
    },
    {
      "cell_type": "markdown",
      "source": [
        "<p align=\"center\"><b>\n",
        "💗\n",
        "<font color=\"DeepPink\">\n",
        "Hemos llegado al final de nuestro colab, a seguir codeando...\n",
        "</font>\n",
        "</p>\n",
        "\n"
      ],
      "metadata": {
        "id": "jLFcCFoEuxr6"
      }
    },
    {
      "cell_type": "markdown",
      "source": [
        "<p align=\"center\">\n",
        "<img src=\"https://github.com/cristiandarioortegayubro/BDS/blob/main/images/Logo%20BDS%20Horizontal%208.png?raw=true\">\n",
        "</p>\n",
        "\n",
        "---"
      ],
      "metadata": {
        "id": "PD8Rhj5uu2no"
      }
    }
  ]
}