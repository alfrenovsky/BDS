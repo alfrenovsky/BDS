{
  "nbformat": 4,
  "nbformat_minor": 0,
  "metadata": {
    "colab": {
      "provenance": [],
      "toc_visible": true,
      "include_colab_link": true
    },
    "kernelspec": {
      "name": "python3",
      "display_name": "Python 3"
    },
    "language_info": {
      "name": "python"
    }
  },
  "cells": [
    {
      "cell_type": "markdown",
      "metadata": {
        "id": "view-in-github",
        "colab_type": "text"
      },
      "source": [
        "<a href=\"https://colab.research.google.com/github/cristiandarioortegayubro/BDS/blob/main/modulo.01/bds_python_003_00.ipynb\" target=\"_parent\"><img src=\"https://colab.research.google.com/assets/colab-badge.svg\" alt=\"Open In Colab\"/></a>"
      ]
    },
    {
      "cell_type": "markdown",
      "source": [
        "<p align=\"center\">\n",
        "<img src=\"https://github.com/cristiandarioortegayubro/BDS/blob/main/images/Logo%20BDS%20Horizontal%208.png?raw=true\"/>\n",
        "</p>\n",
        "\n",
        "\n"
      ],
      "metadata": {
        "id": "iheuwam9e4CH"
      }
    },
    {
      "cell_type": "markdown",
      "source": [
        "# **<font color=\"DeepPink\">Estructuras y secuencias de datos</font>**"
      ],
      "metadata": {
        "id": "_fRBXj8mbrnO"
      }
    },
    {
      "cell_type": "markdown",
      "source": [
        "<p align=\"center\">\n",
        "<img src=\"https://www.python.org/static/community_logos/python-powered-h-70x91.png\"/>\n",
        "</p>\n"
      ],
      "metadata": {
        "id": "gjpEYi_23t-3"
      }
    },
    {
      "cell_type": "markdown",
      "source": [
        "<p align=\"justify\"><b>\n",
        "<font color=\"DeepPink\">\n",
        "💗 Todo el mundo deberia aprender a programar, porque te enseña a pensar...\n",
        "</font>\n",
        "</p>\n",
        "<p align=\"right\"><b>\n",
        "<font color=\"DeepPink\">\n",
        "Steve Jobs (1995)\n",
        "</font>\n",
        "</p>\n",
        "<br>\n",
        "<br>\n",
        "\n"
      ],
      "metadata": {
        "id": "rGyq57WV2bpw"
      }
    },
    {
      "cell_type": "markdown",
      "source": [
        "<p align=\"justify\">\n",
        "En este colab, vamos a desarrollar las estructuras y secuencias de datos de Python. Conocer estas estructuras, es fundamental para el desarrollo de los contenidos propuestos. Por ese motivo, vamos a explayarnos en las estructuras de datos y en métodos usuales.\n",
        "</p>\n"
      ],
      "metadata": {
        "id": "xvkv1nfK4Sb5"
      }
    },
    {
      "cell_type": "markdown",
      "source": [
        "<p>\n",
        "<font color=\"DeepPink\">\n",
        "\n",
        "**👀 Antes que nada, verificamos la versión de Python con la cual estamos trabajando...**\n",
        "\n",
        "</font>\n",
        "</p>"
      ],
      "metadata": {
        "id": "a0pV8J7YPZTO"
      }
    },
    {
      "cell_type": "code",
      "source": [
        "!python3 -V"
      ],
      "metadata": {
        "colab": {
          "base_uri": "https://localhost:8080/"
        },
        "id": "dCZl-lBzPghY",
        "outputId": "5d8443a8-c531-412d-b54b-56f3b7017306"
      },
      "execution_count": 1,
      "outputs": [
        {
          "output_type": "stream",
          "name": "stdout",
          "text": [
            "Python 3.10.12\n"
          ]
        }
      ]
    },
    {
      "cell_type": "markdown",
      "source": [
        "<p align=\"justify\">\n",
        "El comando <code>!python3 -V</code> en Google Colab se utiliza para verificar la versión de Python que está instalada en el entorno de ejecución de Colab. Al ejecutar este comando en una celda de código precedido por el signo de exclamación (`!`), se mostrará la versión de Python que está siendo utilizada.\n",
        "<br><br>\n",
        "Este comando imprime la información de la versión de Python, y la salida típicamente se ve algo así:\n",
        "</p>\n",
        "\n",
        "```\n",
        "Python 3.x.x\n",
        "```\n",
        "<p align=\"justify\">\n",
        "Donde \"3.x.x\" es la versión específica de Python que está instalada en ese momento en Google Colab. Es útil para confirmar la versión de Python antes de ejecutar código, ya que algunas bibliotecas y funciones pueden variar entre diferentes versiones de Python.</p>"
      ],
      "metadata": {
        "id": "_7DrgyiYKPUN"
      }
    },
    {
      "cell_type": "markdown",
      "source": [
        "## **<font color=\"DeepPink\">Tuplas</font>**"
      ],
      "metadata": {
        "id": "v8abc96k3sr9"
      }
    },
    {
      "cell_type": "markdown",
      "source": [
        "<p align=\"justify\">\n",
        "Una tupla es una secuencia inmutable de longitud fija de objetos de Python que, una vez asignados, no se pueden cambiar. La forma más fácil de crear uno es con una secuencia de valores separados por comas entre paréntesis:\n",
        "</p>\n"
      ],
      "metadata": {
        "id": "OrOEIgsY5jih"
      }
    },
    {
      "cell_type": "code",
      "source": [
        "contribuyentes = (\"evasor\", \"no evasor\")"
      ],
      "metadata": {
        "id": "LTtHcJIO51wt"
      },
      "execution_count": null,
      "outputs": []
    },
    {
      "cell_type": "markdown",
      "source": [
        "<p align=\"justify\">\n",
        "La línea de código está creando una variable llamada <code>contribuyentes</code> y le está asignando una tupla con dos elementos: \"evasor\" y \"no evasor\". Aquí hay una explicación más detallada:\n",
        "<ul>\n",
        "<li><code>contribuyentes</code>: Es el nombre de la variable que estás creando. Puedes pensar en esta variable como un contenedor que puede almacenar información.</li><br>\n",
        "<li><code>(\"evasor\", \"no evasor\")</code>: Esta es una tupla, que es un tipo de estructura de datos en Python. En este caso, la tupla tiene dos elementos: \"evasor\" y \"no evasor\".</li>\n",
        "</ul>\n",
        "<p align=\"justify\">\n",
        "Una tupla es similar a una lista, pero a diferencia de las listas, las tuplas son inmutables, lo que significa que no pueden ser modificadas una vez que se han creado.\n",
        "<br><br>\n",
        "Entonces, la variable <code>contribuyentes</code> contiene una tupla con dos cadenas de texto. Puedes acceder a los elementos de la tupla utilizando índices, por ejemplo, <code>contribuyentes[0]</code> te daría \"evasor\" y <code>contribuyentes[1]</code> te daría \"no evasor\"."
      ],
      "metadata": {
        "id": "f7o2a2yqKn3K"
      }
    },
    {
      "cell_type": "markdown",
      "source": [
        "<p align=\"justify\">\n",
        "Para crear una tupla, los paréntesis se pueden omitir, por lo que aquí también podríamos haber escrito una tupla de la siguiente forma:\n",
        "</p>\n"
      ],
      "metadata": {
        "id": "JqDDrTxN9AMW"
      }
    },
    {
      "cell_type": "code",
      "source": [
        "clasificacion = \"riesgo tipo 1\", \"riesgo tipo 2\", \"riesgo tipo 3\""
      ],
      "metadata": {
        "id": "XL_rc9m19YJ8"
      },
      "execution_count": null,
      "outputs": []
    },
    {
      "cell_type": "markdown",
      "source": [
        "<p align=\"justify\">\n",
        "👀 Importante, <mark>no olvidar de separar los elementos de la tupla</mark>, con comas...\n",
        "</p>"
      ],
      "metadata": {
        "id": "oXLIAxNo9w1_"
      }
    },
    {
      "cell_type": "markdown",
      "source": [
        "### **<font color=\"DeepPink\">Conversión</font>**\n"
      ],
      "metadata": {
        "id": "dQxtP8Tl6p3v"
      }
    },
    {
      "cell_type": "markdown",
      "source": [
        "<p align=\"justify\">\n",
        "Podemos convertir cualquier secuencia o iterador en una tupla con el método <code> tuple()</code>\n",
        "</p>\n",
        "\n"
      ],
      "metadata": {
        "id": "NnLUttg--cID"
      }
    },
    {
      "cell_type": "code",
      "source": [
        "tuple([10, 15, 20, 25, 30])"
      ],
      "metadata": {
        "colab": {
          "base_uri": "https://localhost:8080/"
        },
        "id": "rtFKpahFBoCH",
        "outputId": "5663e674-73ac-4ce4-9c87-337b9192d720"
      },
      "execution_count": null,
      "outputs": [
        {
          "output_type": "execute_result",
          "data": {
            "text/plain": [
              "(10, 15, 20, 25, 30)"
            ]
          },
          "metadata": {},
          "execution_count": 3
        }
      ]
    },
    {
      "cell_type": "markdown",
      "source": [
        "<p align=justify>\n",
        "Esta línea de código está utilizando la función <code>tuple()</code> en Python para convertir una lista en una tupla. Aquí hay una explicación más detallada:\n",
        "\n",
        "- `tuple()`: Es una función incorporada en Python que se utiliza para crear una tupla. Puede tomar un iterable (como una lista) como argumento y convertirlo en una tupla.\n",
        "\n",
        "- `[10, 15, 20, 25, 30]`: Esta es una lista que contiene cinco números enteros: 10, 15, 20, 25, y 30.\n",
        "\n",
        "<p align=justify>\n",
        "Entonces, la línea de código <code>tuple([10, 15, 20, 25, 30])</code> está tomando la lista de números y convirtiéndola en una tupla. La salida sería una tupla que contiene los mismos elementos que la lista original, en el mismo orden.\n",
        "<br><br>\n",
        "En este caso, la tupla resultante sería <code>(10, 15, 20, 25, 30)</code>."
      ],
      "metadata": {
        "id": "dbdneG68Nbac"
      }
    },
    {
      "cell_type": "code",
      "source": [
        "tupla = tuple('procesos')\n",
        "tupla"
      ],
      "metadata": {
        "colab": {
          "base_uri": "https://localhost:8080/"
        },
        "id": "O5HNsC3eB19M",
        "outputId": "a7a3f9cf-43dd-4a7c-907f-518c97ae1840"
      },
      "execution_count": null,
      "outputs": [
        {
          "output_type": "execute_result",
          "data": {
            "text/plain": [
              "('p', 'r', 'o', 'c', 'e', 's', 'o', 's')"
            ]
          },
          "metadata": {},
          "execution_count": 4
        }
      ]
    },
    {
      "cell_type": "markdown",
      "source": [
        "<p align=\"justify\">\n",
        "Entonces, las tuplas son inmutables, si bien los objetos almacenados en una tupla pueden ser mutables, una vez que se crea la tupla, no es posible modificar ese objeto. Si un elemento dentro de una tupla es un objeto mutable, como por ejemplo, una lista, entonces ese elemento puede ser modificado, de la siguiente forma:</p>\n"
      ],
      "metadata": {
        "id": "em8_wpZ1DRw7"
      }
    },
    {
      "cell_type": "code",
      "source": [
        "tupla = (\"evasor\", \"no evasor\", [\"riesgo tipo 1\", \"riesgo tipo 2\", \"riesgo tipo 3\"], 10, 15, 20, 25, 30)"
      ],
      "metadata": {
        "id": "wBA8PrpvvfcA"
      },
      "execution_count": null,
      "outputs": []
    },
    {
      "cell_type": "code",
      "source": [
        "tupla[2].append(\"riesgo tipo 4\")"
      ],
      "metadata": {
        "id": "YiPnvQ8Ixeca"
      },
      "execution_count": null,
      "outputs": []
    },
    {
      "cell_type": "code",
      "source": [
        "print(tupla[2])"
      ],
      "metadata": {
        "colab": {
          "base_uri": "https://localhost:8080/"
        },
        "id": "HtlrSKzLx0H9",
        "outputId": "89967968-47a7-4177-da65-9ed23decb7dd"
      },
      "execution_count": null,
      "outputs": [
        {
          "output_type": "stream",
          "name": "stdout",
          "text": [
            "['riesgo tipo 1', 'riesgo tipo 2', 'riesgo tipo 3', 'riesgo tipo 4']\n"
          ]
        }
      ]
    },
    {
      "cell_type": "markdown",
      "source": [
        "\n",
        "<p align=\"justify\">\n",
        "Tambien podemos consultar cuantos elementos tiene un elemento especifico de la tupla con el método <code> len()</code>\n",
        "</p>\n"
      ],
      "metadata": {
        "id": "YesTSX73yuuA"
      }
    },
    {
      "cell_type": "code",
      "source": [
        "len(tupla[2])"
      ],
      "metadata": {
        "colab": {
          "base_uri": "https://localhost:8080/"
        },
        "id": "E1z2DdWNzP8m",
        "outputId": "99afb5a4-8040-4b5a-943b-3071a1d0cca3"
      },
      "execution_count": null,
      "outputs": [
        {
          "output_type": "execute_result",
          "data": {
            "text/plain": [
              "4"
            ]
          },
          "metadata": {},
          "execution_count": 8
        }
      ]
    },
    {
      "cell_type": "markdown",
      "source": [
        "<p align=\"justify\">\n",
        "👀 Importante como utilizamos las funciones integradas...\n",
        "</p>"
      ],
      "metadata": {
        "id": "hZu_tefHz7x-"
      }
    },
    {
      "cell_type": "markdown",
      "source": [
        "### **<font color=\"DeepPink\">Empaquetado</font>**\n"
      ],
      "metadata": {
        "id": "Pc1JJetv2Jir"
      }
    },
    {
      "cell_type": "markdown",
      "source": [
        "<p align=\"justify\">\n",
        "Ahora vamos a empaquetar y desempaquetar una tupla...\n",
        "</p>\n",
        "\n",
        "\n"
      ],
      "metadata": {
        "id": "RkcG_MzW0Wbm"
      }
    },
    {
      "cell_type": "code",
      "source": [
        "dolar = 1040.4 , 1042.8 , 1043.9, 1042.5, 1041.7, 1042.1, 1043.9"
      ],
      "metadata": {
        "id": "JxVdGF-d1okd"
      },
      "execution_count": 2,
      "outputs": []
    },
    {
      "cell_type": "markdown",
      "source": [
        "<p align=justify>\n",
        "La línea de código está creando una variable llamada <code>dolar</code> y le está asignando una tupla con varios valores numéricos. Aquí está la explicación detallada:\n",
        "\n",
        "- `dolar`: Es el nombre de la variable que estás creando para almacenar información relacionada con el dólar (posiblemente tasas de cambio u otros valores).\n",
        "\n",
        "- `(1040.4, 1042.8, 1043.9, 1042.5, 1041.7, 1042.1, 1043.9)`: Esta es una tupla que contiene siete valores numéricos separados por comas. Cada valor numérico parece representar algún tipo de dato relacionado con el dólar, como posiblemente tasas de cambio en diferentes momentos.\n"
      ],
      "metadata": {
        "id": "0IVOCiN7OgVh"
      }
    },
    {
      "cell_type": "markdown",
      "source": [
        "### **<font color=\"DeepPink\">Desempaquetado</font>**\n"
      ],
      "metadata": {
        "id": "CBDsRUfe2QW3"
      }
    },
    {
      "cell_type": "code",
      "source": [
        "dia01, dia02, dia03, dia04, dia05, dia06, dia07 = dolar"
      ],
      "metadata": {
        "id": "uDBxR_kx2TxV"
      },
      "execution_count": 3,
      "outputs": []
    },
    {
      "cell_type": "code",
      "source": [
        "print(f\"Cotizacion de la semana \\n primer dia {dia01} \\n segundo dia {dia02}\")"
      ],
      "metadata": {
        "colab": {
          "base_uri": "https://localhost:8080/"
        },
        "id": "cNsoU-6r3uPn",
        "outputId": "6de51c7c-9b5c-4a20-db70-3531e993f13d"
      },
      "execution_count": 4,
      "outputs": [
        {
          "output_type": "stream",
          "name": "stdout",
          "text": [
            "Cotizacion de la semana \n",
            " primer dia 1040.4 \n",
            " segundo dia 1042.8\n"
          ]
        }
      ]
    },
    {
      "cell_type": "markdown",
      "source": [
        "<p align=\"justify\">\n",
        "👀 Como las tuplas son inmutables, y no se pueden modificar, entonces los métodos que posee son acotados, pero el metodo más útil de una tupla, es el método <code>count()</code> que utilizaremos más adelante...<br><br>Un uso común del desempaquetado de variables es iterar sobre secuencias de tuplas o secuencias de listas.<br><br> Por ejemplo:\n",
        "</p>\n"
      ],
      "metadata": {
        "id": "mG1Gog9_5J5n"
      }
    },
    {
      "cell_type": "code",
      "source": [
        "secuencias = ((100, 150, 190), (200, 240, 280), (300, 330, 360))"
      ],
      "metadata": {
        "id": "se7x5Kh69i_p"
      },
      "execution_count": 5,
      "outputs": []
    },
    {
      "cell_type": "code",
      "source": [
        "for i in secuencias:\n",
        "  for j in i:\n",
        "    print(j)"
      ],
      "metadata": {
        "colab": {
          "base_uri": "https://localhost:8080/"
        },
        "id": "o2Iv8yxXX6Pk",
        "outputId": "ecfda920-5c23-48a3-828f-f2a3a2c017fa"
      },
      "execution_count": 6,
      "outputs": [
        {
          "output_type": "stream",
          "name": "stdout",
          "text": [
            "100\n",
            "150\n",
            "190\n",
            "200\n",
            "240\n",
            "280\n",
            "300\n",
            "330\n",
            "360\n"
          ]
        }
      ]
    },
    {
      "cell_type": "code",
      "source": [
        "for i, j, k in secuencias:\n",
        "  print(f\"primer elemento {i}, segundo elemento {j}, tercer elemento {k}\")"
      ],
      "metadata": {
        "colab": {
          "base_uri": "https://localhost:8080/"
        },
        "id": "ykX-Ks3w94AI",
        "outputId": "3b5b5511-b5d3-490a-e4ef-13ac2eb2e4c8"
      },
      "execution_count": 7,
      "outputs": [
        {
          "output_type": "stream",
          "name": "stdout",
          "text": [
            "primer elemento 100, segundo elemento 150, tercer elemento 190\n",
            "primer elemento 200, segundo elemento 240, tercer elemento 280\n",
            "primer elemento 300, segundo elemento 330, tercer elemento 360\n"
          ]
        }
      ]
    },
    {
      "cell_type": "markdown",
      "source": [
        "### **<font color=\"DeepPink\">Intercambio</font>**\n"
      ],
      "metadata": {
        "id": "Lr_OLUyz7bZK"
      }
    },
    {
      "cell_type": "markdown",
      "source": [
        "<p align=\"justify\">\n",
        "El intercambio se realiza de la siguiente manera:\n",
        "</p>\n"
      ],
      "metadata": {
        "id": "1OcOOd4r7eS4"
      }
    },
    {
      "cell_type": "code",
      "source": [
        "a, p = \"activo\", \"pasivo\""
      ],
      "metadata": {
        "id": "-_GE_a2K71tw"
      },
      "execution_count": null,
      "outputs": []
    },
    {
      "cell_type": "code",
      "source": [
        "a"
      ],
      "metadata": {
        "colab": {
          "base_uri": "https://localhost:8080/",
          "height": 35
        },
        "id": "kYZaSwSM7-R1",
        "outputId": "cc424a0a-57b0-4149-9dfb-ce3a785ceb00"
      },
      "execution_count": null,
      "outputs": [
        {
          "output_type": "execute_result",
          "data": {
            "text/plain": [
              "'activo'"
            ],
            "application/vnd.google.colaboratory.intrinsic+json": {
              "type": "string"
            }
          },
          "metadata": {},
          "execution_count": 15
        }
      ]
    },
    {
      "cell_type": "code",
      "source": [
        "p"
      ],
      "metadata": {
        "colab": {
          "base_uri": "https://localhost:8080/",
          "height": 35
        },
        "id": "31qrOqry8ALK",
        "outputId": "7ea6b80a-2e11-4fe9-a33c-0a4286e18c21"
      },
      "execution_count": null,
      "outputs": [
        {
          "output_type": "execute_result",
          "data": {
            "text/plain": [
              "'pasivo'"
            ],
            "application/vnd.google.colaboratory.intrinsic+json": {
              "type": "string"
            }
          },
          "metadata": {},
          "execution_count": 16
        }
      ]
    },
    {
      "cell_type": "code",
      "source": [
        "a, p = p, a"
      ],
      "metadata": {
        "id": "eLJ5e0YJ7_3a"
      },
      "execution_count": null,
      "outputs": []
    },
    {
      "cell_type": "code",
      "source": [
        "a"
      ],
      "metadata": {
        "colab": {
          "base_uri": "https://localhost:8080/",
          "height": 35
        },
        "id": "Zdhq2Soj8Ht_",
        "outputId": "717baae5-c513-495d-f74f-367b621cfcb5"
      },
      "execution_count": null,
      "outputs": [
        {
          "output_type": "execute_result",
          "data": {
            "text/plain": [
              "'pasivo'"
            ],
            "application/vnd.google.colaboratory.intrinsic+json": {
              "type": "string"
            }
          },
          "metadata": {},
          "execution_count": 18
        }
      ]
    },
    {
      "cell_type": "code",
      "source": [
        "p"
      ],
      "metadata": {
        "colab": {
          "base_uri": "https://localhost:8080/",
          "height": 35
        },
        "id": "DxoI8cB18J0X",
        "outputId": "8652152c-4627-49fb-d4e8-3bc35d123246"
      },
      "execution_count": null,
      "outputs": [
        {
          "output_type": "execute_result",
          "data": {
            "text/plain": [
              "'activo'"
            ],
            "application/vnd.google.colaboratory.intrinsic+json": {
              "type": "string"
            }
          },
          "metadata": {},
          "execution_count": 19
        }
      ]
    },
    {
      "cell_type": "markdown",
      "source": [
        "## **<font color=\"DeepPink\">Listas</font>**\n"
      ],
      "metadata": {
        "id": "kijjAsizCgEf"
      }
    },
    {
      "cell_type": "markdown",
      "source": [
        "<p align=\"justify\">\n",
        "A diferencia de las tuplas, las listas se pueden modificar. Las listas son mutables. Las listas pueden crearse usando corchetes <code>[]</code>, o usando la función <code>list()</code>. La lista es, en definitiva, una colección de datos ordenada, y las equivalencias de la lista con otros lenguajes serian los arrays o los vectores.<br><br> A tener en cuenta, las tuplas y las listas semanticamente son similares y el uso que se les da, tambien. De hecho se pueden usar indistintamente en algunos casos. Hay que tener presente que la función <code>list()</code> se utiliza frecuentemente en el procesamiento de datos cuando se quiere materializar un objeto iterable. <br><br> Por ejemplo:\n",
        "</p>\n",
        "\n",
        "\n",
        "\n"
      ],
      "metadata": {
        "id": "ChvgUzrt5FIV"
      }
    },
    {
      "cell_type": "code",
      "source": [
        "horas = range(13)"
      ],
      "metadata": {
        "id": "H2lsZxHDCppf"
      },
      "execution_count": null,
      "outputs": []
    },
    {
      "cell_type": "code",
      "source": [
        "horas"
      ],
      "metadata": {
        "id": "uaJT4N4hCpdX",
        "colab": {
          "base_uri": "https://localhost:8080/"
        },
        "outputId": "081a8eda-b7fa-410e-b17e-0c5919272254"
      },
      "execution_count": null,
      "outputs": [
        {
          "output_type": "execute_result",
          "data": {
            "text/plain": [
              "range(0, 13)"
            ]
          },
          "metadata": {},
          "execution_count": 21
        }
      ]
    },
    {
      "cell_type": "code",
      "source": [
        "list(horas)"
      ],
      "metadata": {
        "id": "lvxdck_SCq5A",
        "colab": {
          "base_uri": "https://localhost:8080/"
        },
        "outputId": "b447f039-a761-44a2-b925-b6515ea60e1b"
      },
      "execution_count": null,
      "outputs": [
        {
          "output_type": "execute_result",
          "data": {
            "text/plain": [
              "[0, 1, 2, 3, 4, 5, 6, 7, 8, 9, 10, 11, 12]"
            ]
          },
          "metadata": {},
          "execution_count": 22
        }
      ]
    },
    {
      "cell_type": "markdown",
      "source": [
        "<p align=\"justify\">Para adicionar elementos a una lista, se pueden utilizar el método <code>append()</code> o el método <code>insert()</code>.<br><br><code>insert()</code>es computacionalmente costoso en comparación con <code>append()</code>, porque las referencias a los elementos subsiguientes deben cambiarse internamente para dejar espacio para el nuevo elemento.<br><br> 👀 Podemos comprobar si una lista contiene un valor utilizando la palabra clave <code>in</code>.<br><br>Por ejemplo:\n",
        "\n",
        "</p>\n",
        "\n"
      ],
      "metadata": {
        "id": "w5UKhpjDHeyi"
      }
    },
    {
      "cell_type": "code",
      "source": [
        "elementos = [\"activo\", \"pasivo\", \"patrimonio neto\"]"
      ],
      "metadata": {
        "id": "ac09SjYPLfWw"
      },
      "execution_count": null,
      "outputs": []
    },
    {
      "cell_type": "code",
      "source": [
        "\"activo corriente\" in elementos"
      ],
      "metadata": {
        "colab": {
          "base_uri": "https://localhost:8080/"
        },
        "id": "7t0oA5scLmAc",
        "outputId": "03f826f6-2f41-4b9e-8f9b-318bdf23645f"
      },
      "execution_count": null,
      "outputs": [
        {
          "output_type": "execute_result",
          "data": {
            "text/plain": [
              "False"
            ]
          },
          "metadata": {},
          "execution_count": 24
        }
      ]
    },
    {
      "cell_type": "markdown",
      "source": [
        "<p align=\"justify\"> 👀 La palabra <code>not</code> se puede usar para negar <code>in</code>.<br><br>Por ejemplo:\n",
        "\n",
        "</p>\n"
      ],
      "metadata": {
        "id": "gVB3vbo5MCv4"
      }
    },
    {
      "cell_type": "code",
      "source": [
        "\"activo corriente\" not in elementos"
      ],
      "metadata": {
        "colab": {
          "base_uri": "https://localhost:8080/"
        },
        "id": "feS5WpL5MUCZ",
        "outputId": "5c8e9546-e2ac-438f-81c9-e7d7ebe71186"
      },
      "execution_count": null,
      "outputs": [
        {
          "output_type": "execute_result",
          "data": {
            "text/plain": [
              "True"
            ]
          },
          "metadata": {},
          "execution_count": 25
        }
      ]
    },
    {
      "cell_type": "markdown",
      "source": [
        "<p align=\"justify\">Verificar si una lista contiene un elemento es mucho más lento que verificar con diccionarios y conjuntos, ya que Python realiza un escaneo lineal a través de los elementos de la lista.\n",
        "\n",
        "</p>\n"
      ],
      "metadata": {
        "id": "Qthj8BGnNHkH"
      }
    },
    {
      "cell_type": "markdown",
      "source": [
        "### **<font color=\"DeepPink\">Concatenar y combinar listas</font>**\n"
      ],
      "metadata": {
        "id": "0kIL1UYvNnWg"
      }
    },
    {
      "cell_type": "markdown",
      "source": [
        "<p align=\"justify\">Si ya tenelos una lista definida, podemos agregarle varios elementos usando el método <code>extend()</code>.<br><br>Por ejemplo:\n",
        "\n",
        "</p>\n"
      ],
      "metadata": {
        "id": "v6jpWN9LQFBJ"
      }
    },
    {
      "cell_type": "code",
      "source": [
        "elementos"
      ],
      "metadata": {
        "colab": {
          "base_uri": "https://localhost:8080/"
        },
        "id": "CuwONZfwQbAI",
        "outputId": "d7b831ef-208f-414d-9e39-c665a7ab85f0"
      },
      "execution_count": null,
      "outputs": [
        {
          "output_type": "execute_result",
          "data": {
            "text/plain": [
              "['activo',\n",
              " 'pasivo',\n",
              " 'patrimonio neto',\n",
              " ['activo corriente',\n",
              "  'activo no corriente',\n",
              "  'pasivo corriente',\n",
              "  'pasivo no corriente']]"
            ]
          },
          "metadata": {},
          "execution_count": 40
        }
      ]
    },
    {
      "cell_type": "code",
      "source": [
        "mas_elementos = [\"activo corriente\", \"activo no corriente\", \"pasivo corriente\", \"pasivo no corriente\"]"
      ],
      "metadata": {
        "id": "2ieIRFnidBzj"
      },
      "execution_count": null,
      "outputs": []
    },
    {
      "cell_type": "code",
      "source": [
        "elementos.append(mas_elementos)"
      ],
      "metadata": {
        "id": "lb3B-r6kdGdo"
      },
      "execution_count": null,
      "outputs": []
    },
    {
      "cell_type": "code",
      "source": [
        "elementos"
      ],
      "metadata": {
        "colab": {
          "base_uri": "https://localhost:8080/"
        },
        "id": "67giStM2dLN3",
        "outputId": "a5bc5340-2a8e-4fb8-ff62-9a2821ade136"
      },
      "execution_count": null,
      "outputs": [
        {
          "output_type": "execute_result",
          "data": {
            "text/plain": [
              "['activo',\n",
              " 'pasivo',\n",
              " 'patrimonio neto',\n",
              " ['activo corriente',\n",
              "  'activo no corriente',\n",
              "  'pasivo corriente',\n",
              "  'pasivo no corriente']]"
            ]
          },
          "metadata": {},
          "execution_count": 13
        }
      ]
    },
    {
      "cell_type": "code",
      "source": [
        "elementos.extend([\"activo corriente\", \"activo no corriente\", \"pasivo corriente\", \"pasivo no corriente\"])"
      ],
      "metadata": {
        "id": "VFeB4aN-RrhR"
      },
      "execution_count": null,
      "outputs": []
    },
    {
      "cell_type": "code",
      "source": [
        "elementos"
      ],
      "metadata": {
        "colab": {
          "base_uri": "https://localhost:8080/"
        },
        "id": "ZdR60WTqR8cw",
        "outputId": "4e7a3d48-cf9d-4e4f-9569-8fa0e98f00ae"
      },
      "execution_count": null,
      "outputs": [
        {
          "output_type": "execute_result",
          "data": {
            "text/plain": [
              "['activo',\n",
              " 'pasivo',\n",
              " 'patrimonio neto',\n",
              " 'activo corriente',\n",
              " 'activo no corriente',\n",
              " 'pasivo corriente',\n",
              " 'pasivo no corriente']"
            ]
          },
          "metadata": {},
          "execution_count": 43
        }
      ]
    },
    {
      "cell_type": "markdown",
      "source": [
        "<p align=\"justify\"> 👀 Hay que tener en cuenta que la concatenación de listas es una operación computacionalmente costosa, ya que se debe crear una nueva lista y copiar cada uno de los elementos. <br><br> Usualmente es preferible usar el metodo <code>extend()</code>para agregar elementos a una lista existente, y más aún si se está creando una lista grande.\n",
        "\n",
        "</p>\n"
      ],
      "metadata": {
        "id": "sLb16KV_SQB5"
      }
    },
    {
      "cell_type": "markdown",
      "source": [
        "### **<font color=\"DeepPink\">Sorting</font>**\n"
      ],
      "metadata": {
        "id": "z--8E78wTY29"
      }
    },
    {
      "cell_type": "markdown",
      "source": [
        "<p align=\"justify\"> Se puede ordenar una lista, sin la necesidad de crear un objeto nuevo, llamando a la función <code>sort()</code>:\n",
        "\n",
        "</p>\n"
      ],
      "metadata": {
        "id": "gcbxXzAcTcIV"
      }
    },
    {
      "cell_type": "code",
      "source": [
        "elementos"
      ],
      "metadata": {
        "id": "Szr_FrpQUGhZ",
        "colab": {
          "base_uri": "https://localhost:8080/"
        },
        "outputId": "0a5e17db-f37b-42b9-e126-8af4e429f40c"
      },
      "execution_count": null,
      "outputs": [
        {
          "output_type": "execute_result",
          "data": {
            "text/plain": [
              "['activo',\n",
              " 'pasivo',\n",
              " 'patrimonio neto',\n",
              " 'activo corriente',\n",
              " 'activo no corriente',\n",
              " 'pasivo corriente',\n",
              " 'pasivo no corriente']"
            ]
          },
          "metadata": {},
          "execution_count": 29
        }
      ]
    },
    {
      "cell_type": "code",
      "source": [
        "elementos.sort()"
      ],
      "metadata": {
        "id": "s-f5eMXoTcyP"
      },
      "execution_count": null,
      "outputs": []
    },
    {
      "cell_type": "code",
      "source": [
        "elementos"
      ],
      "metadata": {
        "colab": {
          "base_uri": "https://localhost:8080/"
        },
        "id": "nr7n5ogiUBmC",
        "outputId": "0b82df86-376d-4b5c-b196-860922b916d9"
      },
      "execution_count": null,
      "outputs": [
        {
          "output_type": "execute_result",
          "data": {
            "text/plain": [
              "['activo',\n",
              " 'activo corriente',\n",
              " 'activo no corriente',\n",
              " 'pasivo',\n",
              " 'pasivo corriente',\n",
              " 'pasivo no corriente',\n",
              " 'patrimonio neto']"
            ]
          },
          "metadata": {},
          "execution_count": 31
        }
      ]
    },
    {
      "cell_type": "code",
      "source": [
        "nombres = ['Pedro', 'Juan', 'agusto']"
      ],
      "metadata": {
        "id": "oPFru17IfQww"
      },
      "execution_count": null,
      "outputs": []
    },
    {
      "cell_type": "code",
      "source": [
        "nombres_ordenados= nombres.copy().sort()"
      ],
      "metadata": {
        "id": "WZ_J7CNLfXrK"
      },
      "execution_count": null,
      "outputs": []
    },
    {
      "cell_type": "code",
      "source": [
        "nombres"
      ],
      "metadata": {
        "colab": {
          "base_uri": "https://localhost:8080/"
        },
        "id": "08CvklOjfdxi",
        "outputId": "c61689ab-25e7-4c0b-9a8a-ac5bc3348283"
      },
      "execution_count": null,
      "outputs": [
        {
          "output_type": "execute_result",
          "data": {
            "text/plain": [
              "['Pedro', 'Juan', 'agusto']"
            ]
          },
          "metadata": {},
          "execution_count": 30
        }
      ]
    },
    {
      "cell_type": "code",
      "source": [
        "nombres_ordenados"
      ],
      "metadata": {
        "id": "iiOuktOhgKcW"
      },
      "execution_count": null,
      "outputs": []
    },
    {
      "cell_type": "markdown",
      "source": [
        "### **<font color=\"DeepPink\">Slicing</font>**\n"
      ],
      "metadata": {
        "id": "A-BOKvi1TdgV"
      }
    },
    {
      "cell_type": "markdown",
      "source": [
        "<p align=\"justify\"> Podemos seleccionar secciones de la mayoría de los tipos de secuencias, utilizando la notación de división. Por ejemplo:\n",
        "\n",
        "</p>"
      ],
      "metadata": {
        "id": "YX5aUcsXUnYK"
      }
    },
    {
      "cell_type": "code",
      "source": [
        "elementos[0:3]"
      ],
      "metadata": {
        "colab": {
          "base_uri": "https://localhost:8080/"
        },
        "id": "ei92NysQU2IQ",
        "outputId": "1dde17b9-8f44-4b82-99d6-4af0bd42fa76"
      },
      "execution_count": null,
      "outputs": [
        {
          "output_type": "execute_result",
          "data": {
            "text/plain": [
              "['activo', 'activo corriente', 'activo no corriente']"
            ]
          },
          "metadata": {},
          "execution_count": 32
        }
      ]
    },
    {
      "cell_type": "code",
      "source": [
        "elementos[3:6]"
      ],
      "metadata": {
        "colab": {
          "base_uri": "https://localhost:8080/"
        },
        "id": "36U9SCJ5VFvl",
        "outputId": "45549c23-2e11-43e2-b836-7f8382f95e83"
      },
      "execution_count": null,
      "outputs": [
        {
          "output_type": "execute_result",
          "data": {
            "text/plain": [
              "['pasivo', 'pasivo corriente', 'pasivo no corriente']"
            ]
          },
          "metadata": {},
          "execution_count": 33
        }
      ]
    },
    {
      "cell_type": "markdown",
      "source": [
        "## **<font color=\"DeepPink\">Diccionarios</font>**"
      ],
      "metadata": {
        "id": "DXw6b71aCrWB"
      }
    },
    {
      "cell_type": "markdown",
      "source": [
        "<p align=\"justify\"> El diccionario puede ser la estructura de datos más importante de Python. En otros lenguajes de programación, los diccionarios a veces se denominan mapas hash o matrices asociativas. <br><br>Un diccionario almacena una colección de pares clave valor. Cada clave está asociada con un valor para que pueda recuperarse, insertarse, modificarse o eliminarse convenientemente dada una clave en particular. El primer valor de un diccionario entonces, es la clave y el segundo, el valor asociado a la clave. Como clave podemos\n",
        "utilizar cualquier valor inmutable: podríamos usar números, cadenas, booleanos, tuplas, pero no se podrían utilizar listas o diccionarios, dado que son mutables. Esto es así porque los diccionarios se implementan\n",
        "como tablas hash, y a la hora de introducir un nuevo par clave valor en el diccionario se calcula el\n",
        "hash de la clave para después poder encontrar el valor asociado a esa clave. Si se modificara el objeto clave después de haber sido introducido en el diccionario, evidentemente, su hash también cambiaría y no podría ser encontrado. <br><br>Un enfoque para crear un diccionario es usar llaves <code>{}</code> y dos puntos para separar las claves de los valores, el otro enfoque, usar la función <code>dict()</code>\n",
        "\n",
        "</p>"
      ],
      "metadata": {
        "id": "FxDltfCZXN2m"
      }
    },
    {
      "cell_type": "code",
      "source": [
        "diccionario = {\"Actividad\": \"Posgrado\", \"Contenido\": \"Business Data Science\"}\n",
        "diccionario"
      ],
      "metadata": {
        "id": "6h9nfmnjCvPm",
        "colab": {
          "base_uri": "https://localhost:8080/"
        },
        "outputId": "1fae1c79-edb0-470a-aef0-3ddf2625e392"
      },
      "execution_count": null,
      "outputs": [
        {
          "output_type": "execute_result",
          "data": {
            "text/plain": [
              "{'Actividad': 'Posgrado', 'Contenido': 'Business Data Science'}"
            ]
          },
          "metadata": {},
          "execution_count": 33
        }
      ]
    },
    {
      "cell_type": "code",
      "source": [
        "diccionario = dict(Actividad = \"Posgrado\", Contenido = \"Business Data Science\")\n",
        "diccionario"
      ],
      "metadata": {
        "id": "3tOEQSR_CvFm",
        "colab": {
          "base_uri": "https://localhost:8080/"
        },
        "outputId": "ac0742ee-b1e4-4c45-bb4d-d13cd0ca85cf"
      },
      "execution_count": null,
      "outputs": [
        {
          "output_type": "execute_result",
          "data": {
            "text/plain": [
              "{'Actividad': 'Posgrado', 'Contenido': 'Business Data Science'}"
            ]
          },
          "metadata": {},
          "execution_count": 34
        }
      ]
    },
    {
      "cell_type": "markdown",
      "source": [
        "<p align=\"justify\"> 👀 La diferencia principal entre los diccionarios y las listas o las tuplas es que a los valores almacenados en un diccionario se les accede no por su índice, porque de hecho no tienen orden, sino por su clave.\n",
        "\n",
        "</p>"
      ],
      "metadata": {
        "id": "eKVqi-n4wwSv"
      }
    },
    {
      "cell_type": "markdown",
      "source": [
        "### **<font color=\"DeepPink\">Creando diccionarios a partir de secuencias</font>**\n"
      ],
      "metadata": {
        "id": "GprcFk5rSLGC"
      }
    },
    {
      "cell_type": "markdown",
      "source": [
        "<p align=\"justify\"> Es común terminar ocasionalmente con dos secuencias, como por ejemplo dos listas, y se quiere llevarlas a un un diccionario. Uno de los metodos empleados para esta tarea es el metodo <code>zip()</code>. <br><br> Por ejemplo:\n",
        "\n",
        "</p>"
      ],
      "metadata": {
        "id": "iVe4IEVqSYxt"
      }
    },
    {
      "cell_type": "code",
      "source": [
        "elementos"
      ],
      "metadata": {
        "id": "7-Yut0eYCu1O",
        "colab": {
          "base_uri": "https://localhost:8080/"
        },
        "outputId": "36836a7b-b1c7-48eb-f673-bb10d242fd39"
      },
      "execution_count": null,
      "outputs": [
        {
          "output_type": "execute_result",
          "data": {
            "text/plain": [
              "['activo',\n",
              " 'pasivo',\n",
              " 'patrimonio neto',\n",
              " 'activo corriente',\n",
              " 'activo no corriente',\n",
              " 'pasivo corriente',\n",
              " 'pasivo no corriente']"
            ]
          },
          "metadata": {},
          "execution_count": 44
        }
      ]
    },
    {
      "cell_type": "code",
      "source": [
        "valores = [1000, 400, 600, 600, 400, 200, 400]"
      ],
      "metadata": {
        "id": "Dz9f9SiCU7XF"
      },
      "execution_count": null,
      "outputs": []
    },
    {
      "cell_type": "code",
      "source": [
        "diccionario = {}"
      ],
      "metadata": {
        "id": "GAUdg5UWVPPI"
      },
      "execution_count": null,
      "outputs": []
    },
    {
      "cell_type": "code",
      "source": [
        "for key, value in zip(elementos, valores):\n",
        "  diccionario[key] = value"
      ],
      "metadata": {
        "id": "7vd3n8UdVSGK"
      },
      "execution_count": null,
      "outputs": []
    },
    {
      "cell_type": "code",
      "source": [
        "diccionario"
      ],
      "metadata": {
        "colab": {
          "base_uri": "https://localhost:8080/"
        },
        "id": "OqLZ3NgTVxRs",
        "outputId": "7ed3400a-653d-41ea-b07a-f99f8b207140"
      },
      "execution_count": null,
      "outputs": [
        {
          "output_type": "execute_result",
          "data": {
            "text/plain": [
              "{'activo': 1000,\n",
              " 'activo corriente': 400,\n",
              " 'activo no corriente': 600,\n",
              " 'pasivo': 600,\n",
              " 'pasivo corriente': 400,\n",
              " 'pasivo no corriente': 200,\n",
              " 'patrimonio neto': 400}"
            ]
          },
          "metadata": {},
          "execution_count": 38
        }
      ]
    },
    {
      "cell_type": "markdown",
      "source": [
        "<p align=\"justify\"> Dado que un diccionario es esencialmente una colección de 2 tuplas, la función <code>dict()</code> acepta una lista de 2 tuplas.\n",
        "\n",
        "</p>"
      ],
      "metadata": {
        "id": "Snaku4dsW1P_"
      }
    },
    {
      "cell_type": "code",
      "source": [
        "tuplas = zip(range(7), reversed(range(7)))\n",
        "tuplas"
      ],
      "metadata": {
        "colab": {
          "base_uri": "https://localhost:8080/"
        },
        "id": "038Cn4uXXymZ",
        "outputId": "a78b5374-8504-4cba-a9f6-99fbbbd82932"
      },
      "execution_count": null,
      "outputs": [
        {
          "output_type": "execute_result",
          "data": {
            "text/plain": [
              "<zip at 0x7f98bc734640>"
            ]
          },
          "metadata": {},
          "execution_count": 39
        }
      ]
    },
    {
      "cell_type": "code",
      "source": [
        "diccionario = dict(tuplas)\n",
        "diccionario"
      ],
      "metadata": {
        "colab": {
          "base_uri": "https://localhost:8080/"
        },
        "id": "FlqcNMQAYBO0",
        "outputId": "e9fa3a55-56da-450b-eba0-02c57de775c2"
      },
      "execution_count": null,
      "outputs": [
        {
          "output_type": "execute_result",
          "data": {
            "text/plain": [
              "{0: 6, 1: 5, 2: 4, 3: 3, 4: 2, 5: 1, 6: 0}"
            ]
          },
          "metadata": {},
          "execution_count": 40
        }
      ]
    },
    {
      "cell_type": "markdown",
      "source": [
        "<p align=\"justify\"> Tambien se podrían categorizar los elementos patrimoniales en un diccionario, tomando como valor clave, la primera letra de los elementos de la lista.<br><br> Por ejemplo:\n",
        "\n",
        "</p>"
      ],
      "metadata": {
        "id": "ui41wG3tZ230"
      }
    },
    {
      "cell_type": "code",
      "source": [
        "elementos"
      ],
      "metadata": {
        "colab": {
          "base_uri": "https://localhost:8080/"
        },
        "id": "8mi4WXgOZ3iH",
        "outputId": "8d62259b-acef-41d9-9162-2cdf799e9d9a"
      },
      "execution_count": null,
      "outputs": [
        {
          "output_type": "execute_result",
          "data": {
            "text/plain": [
              "['activo',\n",
              " 'activo corriente',\n",
              " 'activo no corriente',\n",
              " 'pasivo',\n",
              " 'pasivo corriente',\n",
              " 'pasivo no corriente',\n",
              " 'patrimonio neto']"
            ]
          },
          "metadata": {},
          "execution_count": 41
        }
      ]
    },
    {
      "cell_type": "code",
      "source": [
        "por_elementos = {}"
      ],
      "metadata": {
        "id": "EC2cMxfjZ9yU"
      },
      "execution_count": null,
      "outputs": []
    },
    {
      "cell_type": "code",
      "source": [
        "for i in elementos:\n",
        "  letra = i[0]\n",
        "  if letra not in por_elementos:\n",
        "    por_elementos[letra] = [i]\n",
        "  else:\n",
        "    por_elementos[letra].append(i)"
      ],
      "metadata": {
        "id": "wer8PdDraIRl"
      },
      "execution_count": null,
      "outputs": []
    },
    {
      "cell_type": "code",
      "source": [
        "por_elementos"
      ],
      "metadata": {
        "colab": {
          "base_uri": "https://localhost:8080/"
        },
        "id": "08N-GA4qbMSA",
        "outputId": "14fa7a72-4281-4bdf-bbd1-7ec25e6511df"
      },
      "execution_count": null,
      "outputs": [
        {
          "output_type": "execute_result",
          "data": {
            "text/plain": [
              "{'a': ['activo', 'activo corriente', 'activo no corriente'],\n",
              " 'p': ['pasivo', 'pasivo corriente', 'pasivo no corriente', 'patrimonio neto']}"
            ]
          },
          "metadata": {},
          "execution_count": 44
        }
      ]
    },
    {
      "cell_type": "markdown",
      "source": [
        "<p align=\"justify\"> 👀 Lo desarrollado anteriormente se puede simplificar aún mas, habilitando el módulo <code> collections</code> y la clase <code> defaultdict</code>.<br><br> Por ejemplo:\n",
        "\n",
        "</p>"
      ],
      "metadata": {
        "id": "BL_ZAfIRdRnY"
      }
    },
    {
      "cell_type": "code",
      "source": [
        "from collections import defaultdict"
      ],
      "metadata": {
        "id": "PS3AO2DUdRBW"
      },
      "execution_count": null,
      "outputs": []
    },
    {
      "cell_type": "code",
      "source": [
        "por_elementos = defaultdict(list)"
      ],
      "metadata": {
        "id": "TzjcnCkufSWY"
      },
      "execution_count": null,
      "outputs": []
    },
    {
      "cell_type": "code",
      "source": [
        "for i in elementos:\n",
        "  por_elementos[i[0]].append(i)"
      ],
      "metadata": {
        "id": "y7lMU76Pfjm0"
      },
      "execution_count": null,
      "outputs": []
    },
    {
      "cell_type": "code",
      "source": [
        "por_elementos"
      ],
      "metadata": {
        "colab": {
          "base_uri": "https://localhost:8080/"
        },
        "id": "neItObebf2qj",
        "outputId": "77b5f9c0-0757-4172-c87b-66a0441a12aa"
      },
      "execution_count": null,
      "outputs": [
        {
          "output_type": "execute_result",
          "data": {
            "text/plain": [
              "defaultdict(list,\n",
              "            {'a': ['activo', 'activo corriente', 'activo no corriente'],\n",
              "             'p': ['pasivo',\n",
              "              'pasivo corriente',\n",
              "              'pasivo no corriente',\n",
              "              'patrimonio neto']})"
            ]
          },
          "metadata": {},
          "execution_count": 48
        }
      ]
    },
    {
      "cell_type": "markdown",
      "source": [
        "## **<font color=\"DeepPink\">Conjuntos</font>**"
      ],
      "metadata": {
        "id": "8l-NtpmsCv8n"
      }
    },
    {
      "cell_type": "markdown",
      "source": [
        "<p align=\"justify\"> Un conjunto es una colección desordenada de elementos únicos. Un conjunto se puede crear de dos maneras: a través de la función <code> set()</code> o a través de un conjunto literal con llaves.<br><br> Por ejemplo:\n",
        "\n",
        "</p>"
      ],
      "metadata": {
        "id": "iJbsG_c8hFLj"
      }
    },
    {
      "cell_type": "code",
      "source": [
        "set([2, 2, 2, 1, 3, 3])"
      ],
      "metadata": {
        "colab": {
          "base_uri": "https://localhost:8080/"
        },
        "id": "RQQ_XeC5hzZ1",
        "outputId": "d164e474-acf8-4da7-afcc-3d25dce7b2ec"
      },
      "execution_count": null,
      "outputs": [
        {
          "output_type": "execute_result",
          "data": {
            "text/plain": [
              "{1, 2, 3}"
            ]
          },
          "metadata": {},
          "execution_count": 49
        }
      ]
    },
    {
      "cell_type": "code",
      "source": [
        "{2, 2, 2, 1, 3, 3}"
      ],
      "metadata": {
        "colab": {
          "base_uri": "https://localhost:8080/"
        },
        "id": "6D-CAm8eiC0c",
        "outputId": "499cd4c4-0f89-46c4-8b8f-ce1cf83062ef"
      },
      "execution_count": null,
      "outputs": [
        {
          "output_type": "execute_result",
          "data": {
            "text/plain": [
              "{1, 2, 3}"
            ]
          },
          "metadata": {},
          "execution_count": 50
        }
      ]
    },
    {
      "cell_type": "code",
      "source": [
        "conjunto = set([2, 2, 2, 1, 3, 3])\n",
        "conjunto"
      ],
      "metadata": {
        "colab": {
          "base_uri": "https://localhost:8080/"
        },
        "id": "w8tNVLgciFFe",
        "outputId": "b5717ec9-9f1c-46c0-9bc2-36eee2215004"
      },
      "execution_count": null,
      "outputs": [
        {
          "output_type": "execute_result",
          "data": {
            "text/plain": [
              "{1, 2, 3}"
            ]
          },
          "metadata": {},
          "execution_count": 51
        }
      ]
    },
    {
      "cell_type": "markdown",
      "source": [
        "<p align=\"justify\">👀 Los conjuntos admiten las operaciones matemáticas como la unión, la intersección, la diferencia y la diferencia simétrica.\n",
        "\n",
        "</p>"
      ],
      "metadata": {
        "id": "q6iQiNIXie-1"
      }
    },
    {
      "cell_type": "code",
      "source": [
        "a = {0, 1, 2, 3, 4, 5}\n",
        "b = {3, 4, 5, 6, 7, 8, 9, 10}"
      ],
      "metadata": {
        "id": "KM3hPSVki99c"
      },
      "execution_count": null,
      "outputs": []
    },
    {
      "cell_type": "markdown",
      "source": [
        "<p align=\"center\">\n",
        "<img src=\"https://github.com/cristiandarioortegayubro/BDS/blob/main/images/Image_0003.jpg?raw=true\" width=\"600\" height=\"\">\n",
        "</p>\n"
      ],
      "metadata": {
        "id": "_1JKAsY0RZUb"
      }
    },
    {
      "cell_type": "markdown",
      "source": [
        "### **<font color=\"DeepPink\">Union</font>**\n"
      ],
      "metadata": {
        "id": "rbRWiECUjEgr"
      }
    },
    {
      "cell_type": "markdown",
      "source": [
        "<p align=\"justify\">La unión de dos conjuntos es el conjunto de elementos distintos que ocurren en cualquiera de los conjuntos. Esto se puede calcular con el método <code>union()</code> o el operador binario | <br><br>Por ejemplo:\n",
        "</p>"
      ],
      "metadata": {
        "id": "n9gduXGgjLxN"
      }
    },
    {
      "cell_type": "code",
      "source": [
        "a"
      ],
      "metadata": {
        "colab": {
          "base_uri": "https://localhost:8080/"
        },
        "id": "hyQYQY62DVk3",
        "outputId": "5e83b9fa-2316-4227-c0c1-2401545b3c5e"
      },
      "execution_count": null,
      "outputs": [
        {
          "output_type": "execute_result",
          "data": {
            "text/plain": [
              "{0, 1, 2, 3, 4, 5}"
            ]
          },
          "metadata": {},
          "execution_count": 86
        }
      ]
    },
    {
      "cell_type": "code",
      "source": [
        "b"
      ],
      "metadata": {
        "colab": {
          "base_uri": "https://localhost:8080/"
        },
        "id": "MYNHIzZmDXO3",
        "outputId": "2633a93f-96de-4188-c8ee-efac7d242d6f"
      },
      "execution_count": null,
      "outputs": [
        {
          "output_type": "execute_result",
          "data": {
            "text/plain": [
              "{3, 4, 5, 6, 7, 8, 9, 10}"
            ]
          },
          "metadata": {},
          "execution_count": 87
        }
      ]
    },
    {
      "cell_type": "code",
      "source": [
        "a.union(b)"
      ],
      "metadata": {
        "colab": {
          "base_uri": "https://localhost:8080/"
        },
        "id": "fCOSt0twjLL-",
        "outputId": "36793f38-76f2-4a9e-fd5c-bc7d55131ed4"
      },
      "execution_count": null,
      "outputs": [
        {
          "output_type": "execute_result",
          "data": {
            "text/plain": [
              "{0, 1, 2, 3, 4, 5, 6, 7, 8, 9, 10}"
            ]
          },
          "metadata": {},
          "execution_count": 53
        }
      ]
    },
    {
      "cell_type": "code",
      "source": [
        "a | b"
      ],
      "metadata": {
        "colab": {
          "base_uri": "https://localhost:8080/"
        },
        "id": "TBDIs6UjjyaS",
        "outputId": "caaca089-155a-4e27-b39e-43dde0b48078"
      },
      "execution_count": null,
      "outputs": [
        {
          "output_type": "execute_result",
          "data": {
            "text/plain": [
              "{0, 1, 2, 3, 4, 5, 6, 7, 8, 9, 10}"
            ]
          },
          "metadata": {},
          "execution_count": 54
        }
      ]
    },
    {
      "cell_type": "markdown",
      "source": [
        "### **<font color=\"DeepPink\">Interseccion</font>**\n"
      ],
      "metadata": {
        "id": "xP_9Tgv9ktnL"
      }
    },
    {
      "cell_type": "markdown",
      "source": [
        "<p align=\"justify\">La intersección contiene los elementos que ocurren en ambos conjuntos. Esto se puede calcular con el método <code>intersection()</code> o el operador binario & <br><br>Por ejemplo:\n",
        "</p>"
      ],
      "metadata": {
        "id": "IU86Nz0Sk5AV"
      }
    },
    {
      "cell_type": "code",
      "source": [
        "a"
      ],
      "metadata": {
        "colab": {
          "base_uri": "https://localhost:8080/"
        },
        "id": "u7MDuFJ_DZeG",
        "outputId": "58195858-e9b8-4c73-a6d2-314c6e17e3df"
      },
      "execution_count": null,
      "outputs": [
        {
          "output_type": "execute_result",
          "data": {
            "text/plain": [
              "{0, 1, 2, 3, 4, 5}"
            ]
          },
          "metadata": {},
          "execution_count": 88
        }
      ]
    },
    {
      "cell_type": "code",
      "source": [
        "b"
      ],
      "metadata": {
        "colab": {
          "base_uri": "https://localhost:8080/"
        },
        "id": "sPiWxTx5DbOD",
        "outputId": "0c29f7ba-54d5-4e34-eb59-b1ccd6fcd5e9"
      },
      "execution_count": null,
      "outputs": [
        {
          "output_type": "execute_result",
          "data": {
            "text/plain": [
              "{3, 4, 5, 6, 7, 8, 9, 10}"
            ]
          },
          "metadata": {},
          "execution_count": 89
        }
      ]
    },
    {
      "cell_type": "code",
      "source": [
        "a.intersection(b)"
      ],
      "metadata": {
        "colab": {
          "base_uri": "https://localhost:8080/"
        },
        "id": "gSzQm9YHnjQk",
        "outputId": "305c19d8-4c90-41ec-fbcd-afbd98476854"
      },
      "execution_count": null,
      "outputs": [
        {
          "output_type": "execute_result",
          "data": {
            "text/plain": [
              "{3, 4, 5}"
            ]
          },
          "metadata": {},
          "execution_count": 55
        }
      ]
    },
    {
      "cell_type": "code",
      "source": [
        "a & b"
      ],
      "metadata": {
        "colab": {
          "base_uri": "https://localhost:8080/"
        },
        "id": "HZXoWfuVnxNH",
        "outputId": "af245c12-2992-48ae-8995-c3ee1b999547"
      },
      "execution_count": null,
      "outputs": [
        {
          "output_type": "execute_result",
          "data": {
            "text/plain": [
              "{3, 4, 5}"
            ]
          },
          "metadata": {},
          "execution_count": 56
        }
      ]
    },
    {
      "cell_type": "markdown",
      "source": [
        "## **<font color=\"DeepPink\">Funciones de secuencias</font>**"
      ],
      "metadata": {
        "id": "ZRym3zjKtZ3Y"
      }
    },
    {
      "cell_type": "markdown",
      "source": [
        "<p align=\"justify\">👀 Ahora vemos algunas funciones de secuencias muy útiles de Python.\n",
        "\n",
        "</p>"
      ],
      "metadata": {
        "id": "nyX0SZQitgww"
      }
    },
    {
      "cell_type": "markdown",
      "source": [
        "### **<font color=\"DeepPink\">Enumerar</font>**\n"
      ],
      "metadata": {
        "id": "S0X8ABdttwK5"
      }
    },
    {
      "cell_type": "markdown",
      "source": [
        "<p align=\"justify\">Es común cuando se itera sobre un objeto iteralble, querer realizar un seguimiento del índice los elementos del objeto. <br><br>Por ejemplo:\n",
        "</p>"
      ],
      "metadata": {
        "id": "oPcnB6RIt1Zy"
      }
    },
    {
      "cell_type": "code",
      "source": [
        "elementos"
      ],
      "metadata": {
        "colab": {
          "base_uri": "https://localhost:8080/"
        },
        "id": "fd_9GT1Et030",
        "outputId": "e0f64d95-2eb7-4a9c-ba84-0200099a13e0"
      },
      "execution_count": null,
      "outputs": [
        {
          "output_type": "execute_result",
          "data": {
            "text/plain": [
              "['activo',\n",
              " 'activo corriente',\n",
              " 'activo no corriente',\n",
              " 'pasivo',\n",
              " 'pasivo corriente',\n",
              " 'pasivo no corriente',\n",
              " 'patrimonio neto']"
            ]
          },
          "metadata": {},
          "execution_count": 57
        }
      ]
    },
    {
      "cell_type": "code",
      "source": [
        "index = 0\n",
        "for i in elementos:\n",
        "   print(f\"{index} {i}\")\n",
        "   index += 1"
      ],
      "metadata": {
        "colab": {
          "base_uri": "https://localhost:8080/"
        },
        "id": "4w9XW7D4uUcK",
        "outputId": "e12ba568-d5f5-4609-c6cf-861c30dd6c82"
      },
      "execution_count": null,
      "outputs": [
        {
          "output_type": "stream",
          "name": "stdout",
          "text": [
            "0 activo\n",
            "1 activo corriente\n",
            "2 activo no corriente\n",
            "3 pasivo\n",
            "4 pasivo corriente\n",
            "5 pasivo no corriente\n",
            "6 patrimonio neto\n"
          ]
        }
      ]
    },
    {
      "cell_type": "markdown",
      "source": [
        "<p align=\"justify\">Lo mismo, pero utilizando la función <code>enumerate(i, value)</code> y el resultado será una secuencia de tuplas. <br><br>Por ejemplo:\n",
        "</p>"
      ],
      "metadata": {
        "id": "97FgTBmUvsDQ"
      }
    },
    {
      "cell_type": "code",
      "source": [
        "elementos"
      ],
      "metadata": {
        "colab": {
          "base_uri": "https://localhost:8080/"
        },
        "id": "Zhp09CuHwB9p",
        "outputId": "3da430a8-4427-4672-ea30-14cb7312ffdc"
      },
      "execution_count": null,
      "outputs": [
        {
          "output_type": "execute_result",
          "data": {
            "text/plain": [
              "['activo',\n",
              " 'activo corriente',\n",
              " 'activo no corriente',\n",
              " 'pasivo',\n",
              " 'pasivo corriente',\n",
              " 'pasivo no corriente',\n",
              " 'patrimonio neto']"
            ]
          },
          "metadata": {},
          "execution_count": 59
        }
      ]
    },
    {
      "cell_type": "code",
      "source": [
        "for i, j in enumerate(elementos):\n",
        "  print(f\"{i} {j}\")"
      ],
      "metadata": {
        "colab": {
          "base_uri": "https://localhost:8080/"
        },
        "id": "QcM2wbndwEQp",
        "outputId": "ab31632a-245b-47d4-98b3-6f9453ef0760"
      },
      "execution_count": null,
      "outputs": [
        {
          "output_type": "stream",
          "name": "stdout",
          "text": [
            "0 activo\n",
            "1 activo corriente\n",
            "2 activo no corriente\n",
            "3 pasivo\n",
            "4 pasivo corriente\n",
            "5 pasivo no corriente\n",
            "6 patrimonio neto\n"
          ]
        }
      ]
    },
    {
      "cell_type": "markdown",
      "source": [
        "### **<font color=\"DeepPink\">Ordenar</font>**\n"
      ],
      "metadata": {
        "id": "fEmcqsWFwlBE"
      }
    },
    {
      "cell_type": "markdown",
      "source": [
        "<p align=\"justify\">La función <code>sorted()</code> devuelve una nueva lista ordenada de los elementos de cualquier secuencia. <br><br>Por ejemplo:\n",
        "</p>"
      ],
      "metadata": {
        "id": "II0fxBYkw5nz"
      }
    },
    {
      "cell_type": "code",
      "source": [
        "sorted([7, 1, 2, 6, 0, 3, 2])"
      ],
      "metadata": {
        "colab": {
          "base_uri": "https://localhost:8080/"
        },
        "id": "pGvRtIGIxIgD",
        "outputId": "8118cdd2-4aa5-41ad-e512-d6a42a693a54"
      },
      "execution_count": null,
      "outputs": [
        {
          "output_type": "execute_result",
          "data": {
            "text/plain": [
              "[0, 1, 2, 2, 3, 6, 7]"
            ]
          },
          "metadata": {},
          "execution_count": 61
        }
      ]
    },
    {
      "cell_type": "code",
      "source": [
        "sorted(elementos)"
      ],
      "metadata": {
        "colab": {
          "base_uri": "https://localhost:8080/"
        },
        "id": "UvujFjb4xNKc",
        "outputId": "6dc7f444-a439-4023-eab0-97ac5024f6b5"
      },
      "execution_count": null,
      "outputs": [
        {
          "output_type": "execute_result",
          "data": {
            "text/plain": [
              "['activo',\n",
              " 'activo corriente',\n",
              " 'activo no corriente',\n",
              " 'pasivo',\n",
              " 'pasivo corriente',\n",
              " 'pasivo no corriente',\n",
              " 'patrimonio neto']"
            ]
          },
          "metadata": {},
          "execution_count": 62
        }
      ]
    },
    {
      "cell_type": "markdown",
      "source": [
        "<p align=\"justify\"> 👀 La función <code>sorted()</code> acepta los mismos argumentos que el método <code>sort()</code> de las listas.\n",
        "\n",
        "</p>"
      ],
      "metadata": {
        "id": "29oPfGznxhd-"
      }
    },
    {
      "cell_type": "markdown",
      "source": [
        "### **<font color=\"DeepPink\">Zip</font>**\n"
      ],
      "metadata": {
        "id": "vkmuCjCe0kS7"
      }
    },
    {
      "cell_type": "markdown",
      "source": [
        "<p align=\"justify\">La función <code>zip()</code> \"empareja\" los elementos de una serie de listas, tuplas u otras secuencias para crear una lista de tuplas. <br><br>Por ejemplo:\n",
        "</p>"
      ],
      "metadata": {
        "id": "oZ2lZlMV0j0V"
      }
    },
    {
      "cell_type": "code",
      "source": [
        "elementos"
      ],
      "metadata": {
        "colab": {
          "base_uri": "https://localhost:8080/"
        },
        "id": "_4PvIkEK2KxX",
        "outputId": "76a56840-fdc7-458f-ec00-68b8bac81380"
      },
      "execution_count": null,
      "outputs": [
        {
          "output_type": "execute_result",
          "data": {
            "text/plain": [
              "['activo',\n",
              " 'activo corriente',\n",
              " 'activo no corriente',\n",
              " 'pasivo',\n",
              " 'pasivo corriente',\n",
              " 'pasivo no corriente',\n",
              " 'patrimonio neto']"
            ]
          },
          "metadata": {},
          "execution_count": 63
        }
      ]
    },
    {
      "cell_type": "code",
      "source": [
        "valores"
      ],
      "metadata": {
        "colab": {
          "base_uri": "https://localhost:8080/"
        },
        "id": "YvUcbtbY2NMF",
        "outputId": "821c1407-e50d-49c6-bcce-42ea1d151d01"
      },
      "execution_count": null,
      "outputs": [
        {
          "output_type": "execute_result",
          "data": {
            "text/plain": [
              "[1000, 400, 600, 600, 400, 200, 400]"
            ]
          },
          "metadata": {},
          "execution_count": 64
        }
      ]
    },
    {
      "cell_type": "code",
      "source": [
        "estado = zip(elementos, valores)\n",
        "tuple(estado)"
      ],
      "metadata": {
        "colab": {
          "base_uri": "https://localhost:8080/"
        },
        "id": "oKUAnNcD2xul",
        "outputId": "fff2e247-1bf2-4780-f839-3c5542e4566e"
      },
      "execution_count": null,
      "outputs": [
        {
          "output_type": "execute_result",
          "data": {
            "text/plain": [
              "(('activo', 1000),\n",
              " ('activo corriente', 400),\n",
              " ('activo no corriente', 600),\n",
              " ('pasivo', 600),\n",
              " ('pasivo corriente', 400),\n",
              " ('pasivo no corriente', 200),\n",
              " ('patrimonio neto', 400))"
            ]
          },
          "metadata": {},
          "execution_count": 65
        }
      ]
    },
    {
      "cell_type": "code",
      "source": [
        "estado = zip(elementos, valores)\n",
        "list(estado)"
      ],
      "metadata": {
        "colab": {
          "base_uri": "https://localhost:8080/"
        },
        "id": "zwJHOb2G2PWF",
        "outputId": "7c92506f-4fdb-43f5-a5ab-203f4fbd9f9a"
      },
      "execution_count": null,
      "outputs": [
        {
          "output_type": "execute_result",
          "data": {
            "text/plain": [
              "[('activo', 1000),\n",
              " ('activo corriente', 400),\n",
              " ('activo no corriente', 600),\n",
              " ('pasivo', 600),\n",
              " ('pasivo corriente', 400),\n",
              " ('pasivo no corriente', 200),\n",
              " ('patrimonio neto', 400)]"
            ]
          },
          "metadata": {},
          "execution_count": 66
        }
      ]
    },
    {
      "cell_type": "code",
      "source": [
        "estado = zip(elementos, valores)\n",
        "dict(estado)"
      ],
      "metadata": {
        "colab": {
          "base_uri": "https://localhost:8080/"
        },
        "id": "en1PNRSC3Bha",
        "outputId": "75c4ba12-25e7-4fc8-92bd-7f7c20727ec6"
      },
      "execution_count": null,
      "outputs": [
        {
          "output_type": "execute_result",
          "data": {
            "text/plain": [
              "{'activo': 1000,\n",
              " 'activo corriente': 400,\n",
              " 'activo no corriente': 600,\n",
              " 'pasivo': 600,\n",
              " 'pasivo corriente': 400,\n",
              " 'pasivo no corriente': 200,\n",
              " 'patrimonio neto': 400}"
            ]
          },
          "metadata": {},
          "execution_count": 67
        }
      ]
    },
    {
      "cell_type": "markdown",
      "source": [
        "<p align=\"justify\"> 👀 Un uso común de es iterar simultáneamente sobre múltiples secuencias.<br><br> Por ejemplo:\n",
        "\n",
        "</p>"
      ],
      "metadata": {
        "id": "EUGa_a123dIS"
      }
    },
    {
      "cell_type": "code",
      "source": [
        "for i, (j, k) in enumerate(zip(elementos, valores)):\n",
        "  print(f\"{i}: {j}, {k}\")"
      ],
      "metadata": {
        "colab": {
          "base_uri": "https://localhost:8080/"
        },
        "id": "h2QZBeqz3mHB",
        "outputId": "597b12f7-c87a-4663-f675-699b66872a5b"
      },
      "execution_count": null,
      "outputs": [
        {
          "output_type": "stream",
          "name": "stdout",
          "text": [
            "0: activo, 1000\n",
            "1: activo corriente, 400\n",
            "2: activo no corriente, 600\n",
            "3: pasivo, 600\n",
            "4: pasivo corriente, 400\n",
            "5: pasivo no corriente, 200\n",
            "6: patrimonio neto, 400\n"
          ]
        }
      ]
    },
    {
      "cell_type": "code",
      "source": [
        "for i, [j, k] in enumerate(zip(elementos, valores)):\n",
        "  print(f\"{i}: {j}, {k}\")"
      ],
      "metadata": {
        "colab": {
          "base_uri": "https://localhost:8080/"
        },
        "id": "cKrYkOB34M4V",
        "outputId": "f379c9e0-2695-4334-811a-045d11df2483"
      },
      "execution_count": null,
      "outputs": [
        {
          "output_type": "stream",
          "name": "stdout",
          "text": [
            "0: activo, 1000\n",
            "1: activo corriente, 400\n",
            "2: activo no corriente, 600\n",
            "3: pasivo, 600\n",
            "4: pasivo corriente, 400\n",
            "5: pasivo no corriente, 200\n",
            "6: patrimonio neto, 400\n"
          ]
        }
      ]
    },
    {
      "cell_type": "markdown",
      "source": [
        "### **<font color=\"DeepPink\">Invertir</font>**\n"
      ],
      "metadata": {
        "id": "46TQOnf-4hU-"
      }
    },
    {
      "cell_type": "markdown",
      "source": [
        "<p align=\"justify\">La función <code>reversed()</code>  itera sobre los elementos en orden inverso. <br><br>Por ejemplo:\n",
        "</p>"
      ],
      "metadata": {
        "id": "UsDLhu2f4sGR"
      }
    },
    {
      "cell_type": "code",
      "source": [
        "elementos"
      ],
      "metadata": {
        "colab": {
          "base_uri": "https://localhost:8080/"
        },
        "id": "v84ArVcY5Pqf",
        "outputId": "32c97ae7-8f73-47b9-afd9-fd2e8c323acf"
      },
      "execution_count": null,
      "outputs": [
        {
          "output_type": "execute_result",
          "data": {
            "text/plain": [
              "['activo',\n",
              " 'activo corriente',\n",
              " 'activo no corriente',\n",
              " 'pasivo',\n",
              " 'pasivo corriente',\n",
              " 'pasivo no corriente',\n",
              " 'patrimonio neto']"
            ]
          },
          "metadata": {},
          "execution_count": 70
        }
      ]
    },
    {
      "cell_type": "code",
      "source": [
        "list(reversed(elementos))"
      ],
      "metadata": {
        "colab": {
          "base_uri": "https://localhost:8080/"
        },
        "id": "lYJRcN6t5PX1",
        "outputId": "cba7bcb1-81f7-49ac-c81a-a7838d7c6760"
      },
      "execution_count": null,
      "outputs": [
        {
          "output_type": "execute_result",
          "data": {
            "text/plain": [
              "['patrimonio neto',\n",
              " 'pasivo no corriente',\n",
              " 'pasivo corriente',\n",
              " 'pasivo',\n",
              " 'activo no corriente',\n",
              " 'activo corriente',\n",
              " 'activo']"
            ]
          },
          "metadata": {},
          "execution_count": 71
        }
      ]
    },
    {
      "cell_type": "markdown",
      "source": [
        "## **<font color=\"DeepPink\">Comprensión de listas, conjuntos y diccionarios</font>**"
      ],
      "metadata": {
        "id": "sNakizE85prr"
      }
    },
    {
      "cell_type": "markdown",
      "source": [
        "<p align=\"justify\">La comprensión de listas es una característica conveniente y ampliamente utilizada en Python. Permite formar de manera concisa una nueva lista filtrando los elementos de un objeto, transformando los elementos que pasan el filtro en una expresión determinada.<br><br>La comprensión de listas es una característica tomada del lenguaje de programación funcional Haskell que está presente en Python desde la versión 2.0 y consiste en una construcción que permite crear listas a partir de otras listas. Cada una de estas construcciones consta de una expresión que determina cómo modificar el elemento de la lista original, seguida de una o varias clausulas <code>for</code> y opcionalmente una o varias clausulas <code>if</code>.  \n",
        "\n",
        "</p>"
      ],
      "metadata": {
        "id": "egYwW5yw5wOb"
      }
    },
    {
      "cell_type": "markdown",
      "source": [
        "```python\n",
        "[expresion for valor in objeto]\n",
        "\n",
        "[expresion for valor in objeto if condicion]\n",
        "```"
      ],
      "metadata": {
        "id": "J9wTz4CN8lU0"
      }
    },
    {
      "cell_type": "markdown",
      "source": [
        "Lo que seria igual a:"
      ],
      "metadata": {
        "id": "JI92UK-K689f"
      }
    },
    {
      "cell_type": "markdown",
      "source": [
        "```python\n",
        "resultado = []\n",
        "for valor in objeto:\n",
        "    if condicion:\n",
        "        resultado.append(expresion)\n",
        "```"
      ],
      "metadata": {
        "id": "wSM94i_C7AtS"
      }
    },
    {
      "cell_type": "markdown",
      "source": [
        "### **<font color=\"DeepPink\">Listas</font>**\n"
      ],
      "metadata": {
        "id": "7MX7v9T9C2Kn"
      }
    },
    {
      "cell_type": "markdown",
      "source": [
        "Por ejemplo:"
      ],
      "metadata": {
        "id": "qTRdelzK7nah"
      }
    },
    {
      "cell_type": "code",
      "source": [
        "elementos"
      ],
      "metadata": {
        "colab": {
          "base_uri": "https://localhost:8080/"
        },
        "id": "rdB7NHhh7lXS",
        "outputId": "f0000f78-362b-4f71-9443-9a56d7fa95a8"
      },
      "execution_count": null,
      "outputs": [
        {
          "output_type": "execute_result",
          "data": {
            "text/plain": [
              "['activo',\n",
              " 'activo corriente',\n",
              " 'activo no corriente',\n",
              " 'pasivo',\n",
              " 'pasivo corriente',\n",
              " 'pasivo no corriente',\n",
              " 'patrimonio neto']"
            ]
          },
          "metadata": {},
          "execution_count": 72
        }
      ]
    },
    {
      "cell_type": "code",
      "source": [
        "[i.upper() for i in elementos]"
      ],
      "metadata": {
        "colab": {
          "base_uri": "https://localhost:8080/"
        },
        "id": "unJgcdOe7vRp",
        "outputId": "6a8aa37d-f3b9-4a36-ea43-0e85acbe620d"
      },
      "execution_count": null,
      "outputs": [
        {
          "output_type": "execute_result",
          "data": {
            "text/plain": [
              "['ACTIVO',\n",
              " 'ACTIVO CORRIENTE',\n",
              " 'ACTIVO NO CORRIENTE',\n",
              " 'PASIVO',\n",
              " 'PASIVO CORRIENTE',\n",
              " 'PASIVO NO CORRIENTE',\n",
              " 'PATRIMONIO NETO']"
            ]
          },
          "metadata": {},
          "execution_count": 73
        }
      ]
    },
    {
      "cell_type": "code",
      "source": [
        "[i.upper() for i in elementos if len(i) > 15]"
      ],
      "metadata": {
        "colab": {
          "base_uri": "https://localhost:8080/"
        },
        "id": "jbl6lwDi8FEK",
        "outputId": "095451b7-1473-4250-839f-822a3ab4476e"
      },
      "execution_count": null,
      "outputs": [
        {
          "output_type": "execute_result",
          "data": {
            "text/plain": [
              "['ACTIVO CORRIENTE',\n",
              " 'ACTIVO NO CORRIENTE',\n",
              " 'PASIVO CORRIENTE',\n",
              " 'PASIVO NO CORRIENTE']"
            ]
          },
          "metadata": {},
          "execution_count": 74
        }
      ]
    },
    {
      "cell_type": "markdown",
      "source": [
        "<p align=\"justify\">Al igual que las comprensiones de listas, las comprensiones de conjuntos y diccionarios son en su mayoría utiles, y de manera similar pueden hacer que el código sea más fácil de escribir y leer.\n",
        "\n",
        "</p>"
      ],
      "metadata": {
        "id": "sxSvJoaz-7ou"
      }
    },
    {
      "cell_type": "markdown",
      "source": [
        "### **<font color=\"DeepPink\">Conjuntos</font>**\n"
      ],
      "metadata": {
        "id": "5nWTFJ8IC-Ib"
      }
    },
    {
      "cell_type": "code",
      "source": [
        "elementos"
      ],
      "metadata": {
        "colab": {
          "base_uri": "https://localhost:8080/"
        },
        "id": "QFsM8IiI_Qbt",
        "outputId": "05f03a1f-a22b-4ac0-ae08-4bf5baac1fd9"
      },
      "execution_count": null,
      "outputs": [
        {
          "output_type": "execute_result",
          "data": {
            "text/plain": [
              "['activo',\n",
              " 'activo corriente',\n",
              " 'activo no corriente',\n",
              " 'pasivo',\n",
              " 'pasivo corriente',\n",
              " 'pasivo no corriente',\n",
              " 'patrimonio neto']"
            ]
          },
          "metadata": {},
          "execution_count": 75
        }
      ]
    },
    {
      "cell_type": "code",
      "source": [
        "{len(i) for i in elementos}"
      ],
      "metadata": {
        "colab": {
          "base_uri": "https://localhost:8080/"
        },
        "id": "PmZNarA-A1ST",
        "outputId": "3504b156-3ff4-4ce7-a2f4-fb088352a8b0"
      },
      "execution_count": null,
      "outputs": [
        {
          "output_type": "execute_result",
          "data": {
            "text/plain": [
              "{6, 15, 16, 19}"
            ]
          },
          "metadata": {},
          "execution_count": 76
        }
      ]
    },
    {
      "cell_type": "code",
      "source": [
        "{len(i) for i in elementos if len(i) > 15}"
      ],
      "metadata": {
        "colab": {
          "base_uri": "https://localhost:8080/"
        },
        "id": "o7dj5QUdDiS7",
        "outputId": "1bc01059-8dc1-4c58-dfeb-2493e55568a5"
      },
      "execution_count": null,
      "outputs": [
        {
          "output_type": "execute_result",
          "data": {
            "text/plain": [
              "{16, 19}"
            ]
          },
          "metadata": {},
          "execution_count": 77
        }
      ]
    },
    {
      "cell_type": "markdown",
      "source": [
        "### **<font color=\"DeepPink\">Diccionarios</font>**\n"
      ],
      "metadata": {
        "id": "MxNOSaYKDBGR"
      }
    },
    {
      "cell_type": "code",
      "source": [
        "elementos"
      ],
      "metadata": {
        "colab": {
          "base_uri": "https://localhost:8080/"
        },
        "id": "sEsbNyrhDG1c",
        "outputId": "c5eb1aaa-3544-452e-829c-b6ecf15a7da1"
      },
      "execution_count": null,
      "outputs": [
        {
          "output_type": "execute_result",
          "data": {
            "text/plain": [
              "['activo',\n",
              " 'activo corriente',\n",
              " 'activo no corriente',\n",
              " 'pasivo',\n",
              " 'pasivo corriente',\n",
              " 'pasivo no corriente',\n",
              " 'patrimonio neto']"
            ]
          },
          "metadata": {},
          "execution_count": 78
        }
      ]
    },
    {
      "cell_type": "code",
      "source": [
        "{i : j for i, j in enumerate(elementos)}"
      ],
      "metadata": {
        "colab": {
          "base_uri": "https://localhost:8080/"
        },
        "id": "yzW-hRZpBCmk",
        "outputId": "6f8bea46-5eec-412c-bd9a-dea305baa9dc"
      },
      "execution_count": null,
      "outputs": [
        {
          "output_type": "execute_result",
          "data": {
            "text/plain": [
              "{0: 'activo',\n",
              " 1: 'activo corriente',\n",
              " 2: 'activo no corriente',\n",
              " 3: 'pasivo',\n",
              " 4: 'pasivo corriente',\n",
              " 5: 'pasivo no corriente',\n",
              " 6: 'patrimonio neto'}"
            ]
          },
          "metadata": {},
          "execution_count": 79
        }
      ]
    },
    {
      "cell_type": "code",
      "source": [
        "{i : j for i, j in enumerate(elementos) if len(j) > 15}"
      ],
      "metadata": {
        "colab": {
          "base_uri": "https://localhost:8080/"
        },
        "id": "7kBpp7wIDWVv",
        "outputId": "e0943886-2197-4c33-a4d3-9d725d91877d"
      },
      "execution_count": null,
      "outputs": [
        {
          "output_type": "execute_result",
          "data": {
            "text/plain": [
              "{1: 'activo corriente',\n",
              " 2: 'activo no corriente',\n",
              " 4: 'pasivo corriente',\n",
              " 5: 'pasivo no corriente'}"
            ]
          },
          "metadata": {},
          "execution_count": 80
        }
      ]
    },
    {
      "cell_type": "markdown",
      "source": [
        "## **<font color=\"DeepPink\">Comprensión de listas anidadas</font>**"
      ],
      "metadata": {
        "id": "o30tySjREJ2Q"
      }
    },
    {
      "cell_type": "markdown",
      "source": [
        "<p align=\"justify\">Al principio, las comprensiones de listas anidadas son un poco difíciles de entender. Las partes de la comprensión de la lista se organizan de acuerdo con el orden de anidamiento, y cualquier condición de filtro se coloca al final como al principio.<br><br>Por ejemplo:\n",
        "\n",
        "</p>"
      ],
      "metadata": {
        "id": "8weQdFVgENsa"
      }
    },
    {
      "cell_type": "code",
      "source": [
        "estado_patrimonial = ((\"Activo\", 1000),(\"Pasivo\", 600),(\"Patrimonio Neto\", 400))\n",
        "estado_patrimonial"
      ],
      "metadata": {
        "colab": {
          "base_uri": "https://localhost:8080/"
        },
        "id": "6b0cV65HEkCP",
        "outputId": "3900e4cd-5783-4a22-8ca3-ffee17432dab"
      },
      "execution_count": null,
      "outputs": [
        {
          "output_type": "execute_result",
          "data": {
            "text/plain": [
              "(('Activo', 1000), ('Pasivo', 600), ('Patrimonio Neto', 400))"
            ]
          },
          "metadata": {},
          "execution_count": 81
        }
      ]
    },
    {
      "cell_type": "code",
      "source": [
        "lista_estado_patrimonial = [j for i in estado_patrimonial for j in i]\n",
        "lista_estado_patrimonial"
      ],
      "metadata": {
        "colab": {
          "base_uri": "https://localhost:8080/"
        },
        "id": "RLp01cvCGK86",
        "outputId": "22eb3ad8-d890-40af-8613-f4ab0a0639c2"
      },
      "execution_count": null,
      "outputs": [
        {
          "output_type": "execute_result",
          "data": {
            "text/plain": [
              "['Activo', 1000, 'Pasivo', 600, 'Patrimonio Neto', 400]"
            ]
          },
          "metadata": {},
          "execution_count": 82
        }
      ]
    },
    {
      "cell_type": "markdown",
      "source": [
        "<p align=\"justify\"> 👀 Lo que sería lo mismo a dos <code>for</code> anidados.<br><br>Por ejemplo:\n"
      ],
      "metadata": {
        "id": "nqJj2_dxHINU"
      }
    },
    {
      "cell_type": "code",
      "source": [
        "lista_estado_patrimonial = []\n",
        "\n",
        "for i in estado_patrimonial:\n",
        "    for j in i:\n",
        "        lista_estado_patrimonial.append(j)"
      ],
      "metadata": {
        "id": "Emruu7NxHHtU"
      },
      "execution_count": null,
      "outputs": []
    },
    {
      "cell_type": "code",
      "source": [
        "lista_estado_patrimonial"
      ],
      "metadata": {
        "colab": {
          "base_uri": "https://localhost:8080/"
        },
        "id": "3GVfwRbAIMIz",
        "outputId": "af2ec284-481f-4314-ea8a-c1e217b37083"
      },
      "execution_count": null,
      "outputs": [
        {
          "output_type": "execute_result",
          "data": {
            "text/plain": [
              "['Activo', 1000, 'Pasivo', 600, 'Patrimonio Neto', 400]"
            ]
          },
          "metadata": {},
          "execution_count": 84
        }
      ]
    },
    {
      "cell_type": "markdown",
      "source": [
        "<p align=\"justify\"> 👀 Ahora podemos verificar la ecuación patrimonial basica donde el activo es igual al pasivo mas el patrimonio neto.\n"
      ],
      "metadata": {
        "id": "XeK-MIBLIbbr"
      }
    },
    {
      "cell_type": "code",
      "source": [
        "lista_estado_patrimonial[1] == lista_estado_patrimonial[3] + lista_estado_patrimonial[5]"
      ],
      "metadata": {
        "colab": {
          "base_uri": "https://localhost:8080/"
        },
        "id": "xtBJVrm6GrUv",
        "outputId": "78fa12ea-b87f-45c1-eb45-b0257c15c06c"
      },
      "execution_count": null,
      "outputs": [
        {
          "output_type": "execute_result",
          "data": {
            "text/plain": [
              "True"
            ]
          },
          "metadata": {},
          "execution_count": 85
        }
      ]
    },
    {
      "cell_type": "markdown",
      "source": [
        "<p align=\"center\"><b>\n",
        "💗\n",
        "<font color=\"DeepPink\">\n",
        "Hemos llegado al final de nuestro colab, a seguir codeando...\n",
        "</font>\n",
        "</p>\n",
        "\n"
      ],
      "metadata": {
        "id": "GgHa2NAAYRqc"
      }
    },
    {
      "cell_type": "markdown",
      "source": [
        "<p align=\"center\">\n",
        "<img src=\"https://github.com/cristiandarioortegayubro/BDS/blob/main/images/Logo%20BDS%20Horizontal%208.png?raw=true\"/>\n",
        "</p>\n",
        "\n",
        "---"
      ],
      "metadata": {
        "id": "_jnpQT4hY1Cr"
      }
    }
  ]
}