{
  "nbformat": 4,
  "nbformat_minor": 0,
  "metadata": {
    "colab": {
      "provenance": [],
      "include_colab_link": true
    },
    "kernelspec": {
      "name": "python3",
      "display_name": "Python 3"
    },
    "language_info": {
      "name": "python"
    }
  },
  "cells": [
    {
      "cell_type": "markdown",
      "metadata": {
        "id": "view-in-github",
        "colab_type": "text"
      },
      "source": [
        "<a href=\"https://colab.research.google.com/github/cristiandarioortegayubro/BDS/blob/main/modulo.01/bds_pandas_003_00.ipynb\" target=\"_parent\"><img src=\"https://colab.research.google.com/assets/colab-badge.svg\" alt=\"Open In Colab\"/></a>"
      ]
    },
    {
      "cell_type": "markdown",
      "source": [
        "<p align=\"center\">\n",
        "<img src=\"https://github.com/cristiandarioortegayubro/BDS/blob/main/images/Logo%20Pandas.png?raw=true\">\n",
        "</p>\n"
      ],
      "metadata": {
        "id": "XM-hn7ZLmgQc"
      }
    },
    {
      "cell_type": "markdown",
      "source": [
        " # **<font color=\"DeepPink\">Cargando datos en Pandas, formatos y archivo de datos 🐼 </font>**"
      ],
      "metadata": {
        "id": "_o8tuKydjnRZ"
      }
    },
    {
      "cell_type": "markdown",
      "source": [
        "<p align=\"justify\">\n",
        "Leer datos y hacerlos accesibles, a veces denominado carga de datos, uno de los pasos del ETL: <ul><li>Extract</li><li>Transform</li><li>Load</li></ul></p> <p align=\"justify\">\n",
        "es el primer paso necesario para todo lo que queremos hacer. El término análisis también se usa a veces para describir la carga de datos de texto y su interpretación como tablas y diferentes tipos de datos. Ahora vamos a desarrollar la entrada y salida de datos usando <code>Pandas</code>, aunque existen numerosas herramientas en otras bibliotecas para hacer lo mismo.\n",
        "</p>"
      ],
      "metadata": {
        "id": "jhI41-bg5fR3"
      }
    },
    {
      "cell_type": "markdown",
      "source": [
        "<p align=\"justify\"> 👀 Por convención, así se importa <code>Pandas</code>:  </p>"
      ],
      "metadata": {
        "id": "riE9ZSRbOdsF"
      }
    },
    {
      "cell_type": "code",
      "source": [
        "import numpy as np\n",
        "import pandas as pd"
      ],
      "metadata": {
        "id": "dQtWrchXqRb3"
      },
      "execution_count": null,
      "outputs": []
    },
    {
      "cell_type": "markdown",
      "source": [
        " # **<font color=\"DeepPink\">Leer y escribir datos en formato de texto</font>**"
      ],
      "metadata": {
        "id": "Y7LDCZ14PIKr"
      }
    },
    {
      "cell_type": "markdown",
      "source": [
        "<p align=\"justify\">\n",
        "<code>Pandas</code> presenta una serie de funciones para leer datos tabulares como un objeto <code>DataFrame</code>.</p>"
      ],
      "metadata": {
        "id": "YicJtxU_PTMu"
      }
    },
    {
      "cell_type": "markdown",
      "source": [
        "<p align=\"justify\"> 👀 Esas funciones son:\n",
        "<ul>\n",
        "<li><code>read_csv()</code> datos delimitados desde archivo CSV, una dirección URL u objeto similar a un archivo</li>\n",
        "<li><code>read_fwf()</code> datos en formato de columna de ancho fijo sin delimitadores</li>\n",
        "<li><code>read_excel()</code> datos tabulares de un archivo Excel XLS o XLSX</li>\n",
        "<li><code>read_hdf()</code> archivos HDF5 escritos por <code>Pandas</code></li>\n",
        "<li><code>read_html()</code> todas las tablas que se encuentran en el documento HTML</li>\n",
        "<li><code>read_json()</code> datos de una cadena, archivo, URL u objeto similar a un archivo JSON (JavaScript Object Notation)</li>\n",
        "<li><code>read_feather()</code> formato de archivo binario Feather</li>\n",
        "<li><code>read_orc()</code> formato de archivo binario Apache ORC</li>\n",
        "<li><code>read_parquet()</code> formato de archivo binario Apache Parquet</li>\n",
        "<li><code>read_pickle()</code> objeto almacenado por <code>Pandas</code> usando el formato pickle de <code>Python</code></li>\n",
        "<li><code>read_sas()</code> conjunto de datos SAS almacenado en formato de almacenamiento del sistema SAS</li>\n",
        "<li><code>read_spss()</code> archivo de datos creado por SPSS</li>\n",
        "<li><code>read_sql()</code> resultados de una consulta SQL (usando SQLAlchemy)</li>\n",
        "<li><code>read_sql_table()</code> tabla SQL completa (usando SQLAlchemy); equivalente a una consulta que selecciona todo</li>\n",
        "<li><code>read_stata()</code> conjunto de datos del formato de archivo Stata</li>\n",
        "<li><code>read_xml()</code> tabla de datos de un archivo XML</li>\n",
        "</ul>\n",
        "</p>"
      ],
      "metadata": {
        "id": "4pOSdiud71lp"
      }
    },
    {
      "cell_type": "markdown",
      "source": [
        " ## **<font color=\"DeepPink\">Lectura de archivos en partes</font>**"
      ],
      "metadata": {
        "id": "T0IE-82RBaTr"
      }
    },
    {
      "cell_type": "markdown",
      "source": [
        "<p align=\"justify\">\n",
        "Al procesar archivos muy grandes o descubrir el conjunto correcto de argumentos para procesar correctamente un archivo grande, <code>Pandas</code> permite leer solo una pequeña parte de un archivo o iterar a través de partes más pequeñas del archivo.</p>"
      ],
      "metadata": {
        "id": "3YuGhKTgOfbW"
      }
    },
    {
      "cell_type": "code",
      "source": [
        "datos=\"https://raw.githubusercontent.com/cristiandarioortegayubro/BDS/main/datasets/beneficios-otorgados-colaborativa-202210.xlsx-Dataset.csv\""
      ],
      "metadata": {
        "id": "cVqv0RW7PQlK"
      },
      "execution_count": null,
      "outputs": []
    },
    {
      "cell_type": "code",
      "source": [
        "subsidios = pd.read_csv(datos)\n",
        "subsidios.head()"
      ],
      "metadata": {
        "colab": {
          "base_uri": "https://localhost:8080/",
          "height": 444
        },
        "id": "rVztkX40AsUu",
        "outputId": "e4e2e91b-8456-4c02-e57e-47ebbf5f9bbf"
      },
      "execution_count": null,
      "outputs": [
        {
          "output_type": "execute_result",
          "data": {
            "text/plain": [
              "                    beneficio_tipo         beneficiario_razon_social  \\\n",
              "0  Bonificación de tasa crediticia                      Esg Dilec SA   \n",
              "1                              ANR                      Esg Dilec SA   \n",
              "2                              ANR  Laboratorio Biológico Tandil SRL   \n",
              "3  Bonificación de tasa crediticia  Laboratorio Biológico Tandil SRL   \n",
              "4  Bonificación de tasa crediticia                       Redimec SRL   \n",
              "\n",
              "   beneficiario_cuit                                    proyecto_nombre  \\\n",
              "0        30708334584  Sistema multiplataforma de lectura, explotació...   \n",
              "1        30708334584  Sistema multiplataforma de lectura, explotació...   \n",
              "2        30638064126                Fabricación de Polarímetro nacional   \n",
              "3        30638064126                Fabricación de Polarímetro nacional   \n",
              "4        33629783909                Fabricación de Polarímetro nacional   \n",
              "\n",
              "   proyecto_id                                   proyecto_resumen  \\\n",
              "0            1  La provisión de una plataforma informática y d...   \n",
              "1            1  La provisión de una plataforma informática y d...   \n",
              "2            2  Industrialización del codesarrollo realizado e...   \n",
              "3            2  Industrialización del codesarrollo realizado e...   \n",
              "4            2  Industrialización del codesarrollo realizado e...   \n",
              "\n",
              "         sector_edc provincia_nombre  provincia_id localidad_nombre  \\\n",
              "0     Industria 4.0         Santa Fe            82          Rosario   \n",
              "1     Industria 4.0         Santa Fe            82          Rosario   \n",
              "2  Biotecnología \\n     Buenos Aires             6           Tandil   \n",
              "3  Biotecnología \\n     Buenos Aires             6           Tandil   \n",
              "4          Software     Buenos Aires             6           Tandil   \n",
              "\n",
              "   localidad_id                       resolucion  anr_abonado  \\\n",
              "0   82084270000  RESOL-2021-407-APN-SIECYGCE#MDP          NaN   \n",
              "1   82084270000  RESOL-2021-407-APN-SIECYGCE#MDP    4954725.0   \n",
              "2    6791050000  RESOL-2021-416-APN-SIECYGCE#MDP    4482165.0   \n",
              "3    6791050000  RESOL-2021-416-APN-SIECYGCE#MDP          NaN   \n",
              "4    6791050000  RESOL-2021-416-APN-SIECYGCE#MDP          NaN   \n",
              "\n",
              "  subsidio_tasa_credito  \n",
              "0               4008128  \n",
              "1                   NaN  \n",
              "2                   NaN  \n",
              "3                720530  \n",
              "4                737628  "
            ],
            "text/html": [
              "\n",
              "  <div id=\"df-f8fa0ac4-74a3-4593-b03e-2e4390749050\">\n",
              "    <div class=\"colab-df-container\">\n",
              "      <div>\n",
              "<style scoped>\n",
              "    .dataframe tbody tr th:only-of-type {\n",
              "        vertical-align: middle;\n",
              "    }\n",
              "\n",
              "    .dataframe tbody tr th {\n",
              "        vertical-align: top;\n",
              "    }\n",
              "\n",
              "    .dataframe thead th {\n",
              "        text-align: right;\n",
              "    }\n",
              "</style>\n",
              "<table border=\"1\" class=\"dataframe\">\n",
              "  <thead>\n",
              "    <tr style=\"text-align: right;\">\n",
              "      <th></th>\n",
              "      <th>beneficio_tipo</th>\n",
              "      <th>beneficiario_razon_social</th>\n",
              "      <th>beneficiario_cuit</th>\n",
              "      <th>proyecto_nombre</th>\n",
              "      <th>proyecto_id</th>\n",
              "      <th>proyecto_resumen</th>\n",
              "      <th>sector_edc</th>\n",
              "      <th>provincia_nombre</th>\n",
              "      <th>provincia_id</th>\n",
              "      <th>localidad_nombre</th>\n",
              "      <th>localidad_id</th>\n",
              "      <th>resolucion</th>\n",
              "      <th>anr_abonado</th>\n",
              "      <th>subsidio_tasa_credito</th>\n",
              "    </tr>\n",
              "  </thead>\n",
              "  <tbody>\n",
              "    <tr>\n",
              "      <th>0</th>\n",
              "      <td>Bonificación de tasa crediticia</td>\n",
              "      <td>Esg Dilec SA</td>\n",
              "      <td>30708334584</td>\n",
              "      <td>Sistema multiplataforma de lectura, explotació...</td>\n",
              "      <td>1</td>\n",
              "      <td>La provisión de una plataforma informática y d...</td>\n",
              "      <td>Industria 4.0</td>\n",
              "      <td>Santa Fe</td>\n",
              "      <td>82</td>\n",
              "      <td>Rosario</td>\n",
              "      <td>82084270000</td>\n",
              "      <td>RESOL-2021-407-APN-SIECYGCE#MDP</td>\n",
              "      <td>NaN</td>\n",
              "      <td>4008128</td>\n",
              "    </tr>\n",
              "    <tr>\n",
              "      <th>1</th>\n",
              "      <td>ANR</td>\n",
              "      <td>Esg Dilec SA</td>\n",
              "      <td>30708334584</td>\n",
              "      <td>Sistema multiplataforma de lectura, explotació...</td>\n",
              "      <td>1</td>\n",
              "      <td>La provisión de una plataforma informática y d...</td>\n",
              "      <td>Industria 4.0</td>\n",
              "      <td>Santa Fe</td>\n",
              "      <td>82</td>\n",
              "      <td>Rosario</td>\n",
              "      <td>82084270000</td>\n",
              "      <td>RESOL-2021-407-APN-SIECYGCE#MDP</td>\n",
              "      <td>4954725.0</td>\n",
              "      <td>NaN</td>\n",
              "    </tr>\n",
              "    <tr>\n",
              "      <th>2</th>\n",
              "      <td>ANR</td>\n",
              "      <td>Laboratorio Biológico Tandil SRL</td>\n",
              "      <td>30638064126</td>\n",
              "      <td>Fabricación de Polarímetro nacional</td>\n",
              "      <td>2</td>\n",
              "      <td>Industrialización del codesarrollo realizado e...</td>\n",
              "      <td>Biotecnología \\n</td>\n",
              "      <td>Buenos Aires</td>\n",
              "      <td>6</td>\n",
              "      <td>Tandil</td>\n",
              "      <td>6791050000</td>\n",
              "      <td>RESOL-2021-416-APN-SIECYGCE#MDP</td>\n",
              "      <td>4482165.0</td>\n",
              "      <td>NaN</td>\n",
              "    </tr>\n",
              "    <tr>\n",
              "      <th>3</th>\n",
              "      <td>Bonificación de tasa crediticia</td>\n",
              "      <td>Laboratorio Biológico Tandil SRL</td>\n",
              "      <td>30638064126</td>\n",
              "      <td>Fabricación de Polarímetro nacional</td>\n",
              "      <td>2</td>\n",
              "      <td>Industrialización del codesarrollo realizado e...</td>\n",
              "      <td>Biotecnología \\n</td>\n",
              "      <td>Buenos Aires</td>\n",
              "      <td>6</td>\n",
              "      <td>Tandil</td>\n",
              "      <td>6791050000</td>\n",
              "      <td>RESOL-2021-416-APN-SIECYGCE#MDP</td>\n",
              "      <td>NaN</td>\n",
              "      <td>720530</td>\n",
              "    </tr>\n",
              "    <tr>\n",
              "      <th>4</th>\n",
              "      <td>Bonificación de tasa crediticia</td>\n",
              "      <td>Redimec SRL</td>\n",
              "      <td>33629783909</td>\n",
              "      <td>Fabricación de Polarímetro nacional</td>\n",
              "      <td>2</td>\n",
              "      <td>Industrialización del codesarrollo realizado e...</td>\n",
              "      <td>Software</td>\n",
              "      <td>Buenos Aires</td>\n",
              "      <td>6</td>\n",
              "      <td>Tandil</td>\n",
              "      <td>6791050000</td>\n",
              "      <td>RESOL-2021-416-APN-SIECYGCE#MDP</td>\n",
              "      <td>NaN</td>\n",
              "      <td>737628</td>\n",
              "    </tr>\n",
              "  </tbody>\n",
              "</table>\n",
              "</div>\n",
              "      <button class=\"colab-df-convert\" onclick=\"convertToInteractive('df-f8fa0ac4-74a3-4593-b03e-2e4390749050')\"\n",
              "              title=\"Convert this dataframe to an interactive table.\"\n",
              "              style=\"display:none;\">\n",
              "        \n",
              "  <svg xmlns=\"http://www.w3.org/2000/svg\" height=\"24px\"viewBox=\"0 0 24 24\"\n",
              "       width=\"24px\">\n",
              "    <path d=\"M0 0h24v24H0V0z\" fill=\"none\"/>\n",
              "    <path d=\"M18.56 5.44l.94 2.06.94-2.06 2.06-.94-2.06-.94-.94-2.06-.94 2.06-2.06.94zm-11 1L8.5 8.5l.94-2.06 2.06-.94-2.06-.94L8.5 2.5l-.94 2.06-2.06.94zm10 10l.94 2.06.94-2.06 2.06-.94-2.06-.94-.94-2.06-.94 2.06-2.06.94z\"/><path d=\"M17.41 7.96l-1.37-1.37c-.4-.4-.92-.59-1.43-.59-.52 0-1.04.2-1.43.59L10.3 9.45l-7.72 7.72c-.78.78-.78 2.05 0 2.83L4 21.41c.39.39.9.59 1.41.59.51 0 1.02-.2 1.41-.59l7.78-7.78 2.81-2.81c.8-.78.8-2.07 0-2.86zM5.41 20L4 18.59l7.72-7.72 1.47 1.35L5.41 20z\"/>\n",
              "  </svg>\n",
              "      </button>\n",
              "      \n",
              "  <style>\n",
              "    .colab-df-container {\n",
              "      display:flex;\n",
              "      flex-wrap:wrap;\n",
              "      gap: 12px;\n",
              "    }\n",
              "\n",
              "    .colab-df-convert {\n",
              "      background-color: #E8F0FE;\n",
              "      border: none;\n",
              "      border-radius: 50%;\n",
              "      cursor: pointer;\n",
              "      display: none;\n",
              "      fill: #1967D2;\n",
              "      height: 32px;\n",
              "      padding: 0 0 0 0;\n",
              "      width: 32px;\n",
              "    }\n",
              "\n",
              "    .colab-df-convert:hover {\n",
              "      background-color: #E2EBFA;\n",
              "      box-shadow: 0px 1px 2px rgba(60, 64, 67, 0.3), 0px 1px 3px 1px rgba(60, 64, 67, 0.15);\n",
              "      fill: #174EA6;\n",
              "    }\n",
              "\n",
              "    [theme=dark] .colab-df-convert {\n",
              "      background-color: #3B4455;\n",
              "      fill: #D2E3FC;\n",
              "    }\n",
              "\n",
              "    [theme=dark] .colab-df-convert:hover {\n",
              "      background-color: #434B5C;\n",
              "      box-shadow: 0px 1px 3px 1px rgba(0, 0, 0, 0.15);\n",
              "      filter: drop-shadow(0px 1px 2px rgba(0, 0, 0, 0.3));\n",
              "      fill: #FFFFFF;\n",
              "    }\n",
              "  </style>\n",
              "\n",
              "      <script>\n",
              "        const buttonEl =\n",
              "          document.querySelector('#df-f8fa0ac4-74a3-4593-b03e-2e4390749050 button.colab-df-convert');\n",
              "        buttonEl.style.display =\n",
              "          google.colab.kernel.accessAllowed ? 'block' : 'none';\n",
              "\n",
              "        async function convertToInteractive(key) {\n",
              "          const element = document.querySelector('#df-f8fa0ac4-74a3-4593-b03e-2e4390749050');\n",
              "          const dataTable =\n",
              "            await google.colab.kernel.invokeFunction('convertToInteractive',\n",
              "                                                     [key], {});\n",
              "          if (!dataTable) return;\n",
              "\n",
              "          const docLinkHtml = 'Like what you see? Visit the ' +\n",
              "            '<a target=\"_blank\" href=https://colab.research.google.com/notebooks/data_table.ipynb>data table notebook</a>'\n",
              "            + ' to learn more about interactive tables.';\n",
              "          element.innerHTML = '';\n",
              "          dataTable['output_type'] = 'display_data';\n",
              "          await google.colab.output.renderOutput(dataTable, element);\n",
              "          const docLink = document.createElement('div');\n",
              "          docLink.innerHTML = docLinkHtml;\n",
              "          element.appendChild(docLink);\n",
              "        }\n",
              "      </script>\n",
              "    </div>\n",
              "  </div>\n",
              "  "
            ]
          },
          "metadata": {},
          "execution_count": 3
        }
      ]
    },
    {
      "cell_type": "markdown",
      "source": [
        "<p align=\"justify\"> 👀 Los puntos suspensivos $...$ indican que se han omitido las filas en el medio del <code>DataFrame</code>. Se puede leer solo una pequeña cantidad de filas (evitando leer todo el archivo), con el parámetro <code>nrows</code> indicando en él, la cantidad de filas o índices que se quieren leer.\n",
        "</p>"
      ],
      "metadata": {
        "id": "K0OmXegBO-vH"
      }
    },
    {
      "cell_type": "code",
      "source": [
        "pd.read_csv(datos, nrows=4)"
      ],
      "metadata": {
        "colab": {
          "base_uri": "https://localhost:8080/",
          "height": 378
        },
        "id": "eGOoLRxePKAm",
        "outputId": "2d547aec-753f-46ff-8067-9bd30fb23cce"
      },
      "execution_count": null,
      "outputs": [
        {
          "output_type": "execute_result",
          "data": {
            "text/plain": [
              "                    beneficio_tipo         beneficiario_razon_social  \\\n",
              "0  Bonificación de tasa crediticia                      Esg Dilec SA   \n",
              "1                              ANR                      Esg Dilec SA   \n",
              "2                              ANR  Laboratorio Biológico Tandil SRL   \n",
              "3  Bonificación de tasa crediticia  Laboratorio Biológico Tandil SRL   \n",
              "\n",
              "   beneficiario_cuit                                    proyecto_nombre  \\\n",
              "0        30708334584  Sistema multiplataforma de lectura, explotació...   \n",
              "1        30708334584  Sistema multiplataforma de lectura, explotació...   \n",
              "2        30638064126                Fabricación de Polarímetro nacional   \n",
              "3        30638064126                Fabricación de Polarímetro nacional   \n",
              "\n",
              "   proyecto_id                                   proyecto_resumen  \\\n",
              "0            1  La provisión de una plataforma informática y d...   \n",
              "1            1  La provisión de una plataforma informática y d...   \n",
              "2            2  Industrialización del codesarrollo realizado e...   \n",
              "3            2  Industrialización del codesarrollo realizado e...   \n",
              "\n",
              "         sector_edc provincia_nombre  provincia_id localidad_nombre  \\\n",
              "0     Industria 4.0         Santa Fe            82          Rosario   \n",
              "1     Industria 4.0         Santa Fe            82          Rosario   \n",
              "2  Biotecnología \\n     Buenos Aires             6           Tandil   \n",
              "3  Biotecnología \\n     Buenos Aires             6           Tandil   \n",
              "\n",
              "   localidad_id                       resolucion  anr_abonado  \\\n",
              "0   82084270000  RESOL-2021-407-APN-SIECYGCE#MDP          NaN   \n",
              "1   82084270000  RESOL-2021-407-APN-SIECYGCE#MDP    4954725.0   \n",
              "2    6791050000  RESOL-2021-416-APN-SIECYGCE#MDP    4482165.0   \n",
              "3    6791050000  RESOL-2021-416-APN-SIECYGCE#MDP          NaN   \n",
              "\n",
              "   subsidio_tasa_credito  \n",
              "0              4008128.0  \n",
              "1                    NaN  \n",
              "2                    NaN  \n",
              "3               720530.0  "
            ],
            "text/html": [
              "\n",
              "  <div id=\"df-a8f66561-f8e2-462e-a45b-30abbb0d2df7\">\n",
              "    <div class=\"colab-df-container\">\n",
              "      <div>\n",
              "<style scoped>\n",
              "    .dataframe tbody tr th:only-of-type {\n",
              "        vertical-align: middle;\n",
              "    }\n",
              "\n",
              "    .dataframe tbody tr th {\n",
              "        vertical-align: top;\n",
              "    }\n",
              "\n",
              "    .dataframe thead th {\n",
              "        text-align: right;\n",
              "    }\n",
              "</style>\n",
              "<table border=\"1\" class=\"dataframe\">\n",
              "  <thead>\n",
              "    <tr style=\"text-align: right;\">\n",
              "      <th></th>\n",
              "      <th>beneficio_tipo</th>\n",
              "      <th>beneficiario_razon_social</th>\n",
              "      <th>beneficiario_cuit</th>\n",
              "      <th>proyecto_nombre</th>\n",
              "      <th>proyecto_id</th>\n",
              "      <th>proyecto_resumen</th>\n",
              "      <th>sector_edc</th>\n",
              "      <th>provincia_nombre</th>\n",
              "      <th>provincia_id</th>\n",
              "      <th>localidad_nombre</th>\n",
              "      <th>localidad_id</th>\n",
              "      <th>resolucion</th>\n",
              "      <th>anr_abonado</th>\n",
              "      <th>subsidio_tasa_credito</th>\n",
              "    </tr>\n",
              "  </thead>\n",
              "  <tbody>\n",
              "    <tr>\n",
              "      <th>0</th>\n",
              "      <td>Bonificación de tasa crediticia</td>\n",
              "      <td>Esg Dilec SA</td>\n",
              "      <td>30708334584</td>\n",
              "      <td>Sistema multiplataforma de lectura, explotació...</td>\n",
              "      <td>1</td>\n",
              "      <td>La provisión de una plataforma informática y d...</td>\n",
              "      <td>Industria 4.0</td>\n",
              "      <td>Santa Fe</td>\n",
              "      <td>82</td>\n",
              "      <td>Rosario</td>\n",
              "      <td>82084270000</td>\n",
              "      <td>RESOL-2021-407-APN-SIECYGCE#MDP</td>\n",
              "      <td>NaN</td>\n",
              "      <td>4008128.0</td>\n",
              "    </tr>\n",
              "    <tr>\n",
              "      <th>1</th>\n",
              "      <td>ANR</td>\n",
              "      <td>Esg Dilec SA</td>\n",
              "      <td>30708334584</td>\n",
              "      <td>Sistema multiplataforma de lectura, explotació...</td>\n",
              "      <td>1</td>\n",
              "      <td>La provisión de una plataforma informática y d...</td>\n",
              "      <td>Industria 4.0</td>\n",
              "      <td>Santa Fe</td>\n",
              "      <td>82</td>\n",
              "      <td>Rosario</td>\n",
              "      <td>82084270000</td>\n",
              "      <td>RESOL-2021-407-APN-SIECYGCE#MDP</td>\n",
              "      <td>4954725.0</td>\n",
              "      <td>NaN</td>\n",
              "    </tr>\n",
              "    <tr>\n",
              "      <th>2</th>\n",
              "      <td>ANR</td>\n",
              "      <td>Laboratorio Biológico Tandil SRL</td>\n",
              "      <td>30638064126</td>\n",
              "      <td>Fabricación de Polarímetro nacional</td>\n",
              "      <td>2</td>\n",
              "      <td>Industrialización del codesarrollo realizado e...</td>\n",
              "      <td>Biotecnología \\n</td>\n",
              "      <td>Buenos Aires</td>\n",
              "      <td>6</td>\n",
              "      <td>Tandil</td>\n",
              "      <td>6791050000</td>\n",
              "      <td>RESOL-2021-416-APN-SIECYGCE#MDP</td>\n",
              "      <td>4482165.0</td>\n",
              "      <td>NaN</td>\n",
              "    </tr>\n",
              "    <tr>\n",
              "      <th>3</th>\n",
              "      <td>Bonificación de tasa crediticia</td>\n",
              "      <td>Laboratorio Biológico Tandil SRL</td>\n",
              "      <td>30638064126</td>\n",
              "      <td>Fabricación de Polarímetro nacional</td>\n",
              "      <td>2</td>\n",
              "      <td>Industrialización del codesarrollo realizado e...</td>\n",
              "      <td>Biotecnología \\n</td>\n",
              "      <td>Buenos Aires</td>\n",
              "      <td>6</td>\n",
              "      <td>Tandil</td>\n",
              "      <td>6791050000</td>\n",
              "      <td>RESOL-2021-416-APN-SIECYGCE#MDP</td>\n",
              "      <td>NaN</td>\n",
              "      <td>720530.0</td>\n",
              "    </tr>\n",
              "  </tbody>\n",
              "</table>\n",
              "</div>\n",
              "      <button class=\"colab-df-convert\" onclick=\"convertToInteractive('df-a8f66561-f8e2-462e-a45b-30abbb0d2df7')\"\n",
              "              title=\"Convert this dataframe to an interactive table.\"\n",
              "              style=\"display:none;\">\n",
              "        \n",
              "  <svg xmlns=\"http://www.w3.org/2000/svg\" height=\"24px\"viewBox=\"0 0 24 24\"\n",
              "       width=\"24px\">\n",
              "    <path d=\"M0 0h24v24H0V0z\" fill=\"none\"/>\n",
              "    <path d=\"M18.56 5.44l.94 2.06.94-2.06 2.06-.94-2.06-.94-.94-2.06-.94 2.06-2.06.94zm-11 1L8.5 8.5l.94-2.06 2.06-.94-2.06-.94L8.5 2.5l-.94 2.06-2.06.94zm10 10l.94 2.06.94-2.06 2.06-.94-2.06-.94-.94-2.06-.94 2.06-2.06.94z\"/><path d=\"M17.41 7.96l-1.37-1.37c-.4-.4-.92-.59-1.43-.59-.52 0-1.04.2-1.43.59L10.3 9.45l-7.72 7.72c-.78.78-.78 2.05 0 2.83L4 21.41c.39.39.9.59 1.41.59.51 0 1.02-.2 1.41-.59l7.78-7.78 2.81-2.81c.8-.78.8-2.07 0-2.86zM5.41 20L4 18.59l7.72-7.72 1.47 1.35L5.41 20z\"/>\n",
              "  </svg>\n",
              "      </button>\n",
              "      \n",
              "  <style>\n",
              "    .colab-df-container {\n",
              "      display:flex;\n",
              "      flex-wrap:wrap;\n",
              "      gap: 12px;\n",
              "    }\n",
              "\n",
              "    .colab-df-convert {\n",
              "      background-color: #E8F0FE;\n",
              "      border: none;\n",
              "      border-radius: 50%;\n",
              "      cursor: pointer;\n",
              "      display: none;\n",
              "      fill: #1967D2;\n",
              "      height: 32px;\n",
              "      padding: 0 0 0 0;\n",
              "      width: 32px;\n",
              "    }\n",
              "\n",
              "    .colab-df-convert:hover {\n",
              "      background-color: #E2EBFA;\n",
              "      box-shadow: 0px 1px 2px rgba(60, 64, 67, 0.3), 0px 1px 3px 1px rgba(60, 64, 67, 0.15);\n",
              "      fill: #174EA6;\n",
              "    }\n",
              "\n",
              "    [theme=dark] .colab-df-convert {\n",
              "      background-color: #3B4455;\n",
              "      fill: #D2E3FC;\n",
              "    }\n",
              "\n",
              "    [theme=dark] .colab-df-convert:hover {\n",
              "      background-color: #434B5C;\n",
              "      box-shadow: 0px 1px 3px 1px rgba(0, 0, 0, 0.15);\n",
              "      filter: drop-shadow(0px 1px 2px rgba(0, 0, 0, 0.3));\n",
              "      fill: #FFFFFF;\n",
              "    }\n",
              "  </style>\n",
              "\n",
              "      <script>\n",
              "        const buttonEl =\n",
              "          document.querySelector('#df-a8f66561-f8e2-462e-a45b-30abbb0d2df7 button.colab-df-convert');\n",
              "        buttonEl.style.display =\n",
              "          google.colab.kernel.accessAllowed ? 'block' : 'none';\n",
              "\n",
              "        async function convertToInteractive(key) {\n",
              "          const element = document.querySelector('#df-a8f66561-f8e2-462e-a45b-30abbb0d2df7');\n",
              "          const dataTable =\n",
              "            await google.colab.kernel.invokeFunction('convertToInteractive',\n",
              "                                                     [key], {});\n",
              "          if (!dataTable) return;\n",
              "\n",
              "          const docLinkHtml = 'Like what you see? Visit the ' +\n",
              "            '<a target=\"_blank\" href=https://colab.research.google.com/notebooks/data_table.ipynb>data table notebook</a>'\n",
              "            + ' to learn more about interactive tables.';\n",
              "          element.innerHTML = '';\n",
              "          dataTable['output_type'] = 'display_data';\n",
              "          await google.colab.output.renderOutput(dataTable, element);\n",
              "          const docLink = document.createElement('div');\n",
              "          docLink.innerHTML = docLinkHtml;\n",
              "          element.appendChild(docLink);\n",
              "        }\n",
              "      </script>\n",
              "    </div>\n",
              "  </div>\n",
              "  "
            ]
          },
          "metadata": {},
          "execution_count": 4
        }
      ]
    },
    {
      "cell_type": "markdown",
      "source": [
        "<p align=\"justify\"> 👀 Para leer un archivo en partes, se utiliza el parametro <code>chunksize</code> y se especifica el número de filas o índices.\n",
        "</p>"
      ],
      "metadata": {
        "id": "xQawirJFQLJs"
      }
    },
    {
      "cell_type": "code",
      "source": [
        "partes = pd.read_csv(datos, chunksize=20)"
      ],
      "metadata": {
        "id": "khtOZFF8Qfdg"
      },
      "execution_count": null,
      "outputs": []
    },
    {
      "cell_type": "code",
      "source": [
        "type(partes)"
      ],
      "metadata": {
        "colab": {
          "base_uri": "https://localhost:8080/"
        },
        "id": "wZgt7QUlQfaM",
        "outputId": "cdc2eff2-7427-490a-a112-d45e3ffbdf07"
      },
      "execution_count": null,
      "outputs": [
        {
          "output_type": "execute_result",
          "data": {
            "text/plain": [
              "pandas.io.parsers.readers.TextFileReader"
            ]
          },
          "metadata": {},
          "execution_count": 6
        }
      ]
    },
    {
      "cell_type": "code",
      "source": [
        "beneficios = pd.Series([], dtype=\"int64\")"
      ],
      "metadata": {
        "id": "KiZkT_P7QfVB"
      },
      "execution_count": null,
      "outputs": []
    },
    {
      "cell_type": "code",
      "source": [
        "for i in partes:\n",
        "    beneficios = beneficios.add(i[\"beneficio_tipo\"].value_counts(), fill_value=0)"
      ],
      "metadata": {
        "id": "7278fbIKQfSJ"
      },
      "execution_count": null,
      "outputs": []
    },
    {
      "cell_type": "code",
      "source": [
        "beneficios = beneficios.sort_values(ascending=False)\n",
        "beneficios"
      ],
      "metadata": {
        "colab": {
          "base_uri": "https://localhost:8080/"
        },
        "id": "QyQLNG4bR8sA",
        "outputId": "0bb3cb45-19b2-45c4-805c-fe123cc5df64"
      },
      "execution_count": null,
      "outputs": [
        {
          "output_type": "execute_result",
          "data": {
            "text/plain": [
              "ANR                                39.0\n",
              "Bonificación de tasa crediticia    23.0\n",
              "dtype: float64"
            ]
          },
          "metadata": {},
          "execution_count": 9
        }
      ]
    },
    {
      "cell_type": "markdown",
      "source": [
        "<p align=\"justify\"> 👀 En el caso de la funcion <code>read_csv()</code>, los parámetros más destacados, son los siguientes:\n",
        "<ul>\n",
        "<li><code>path()</code> indica la ubicación del sistema de archivos, URL u objeto similar a un archivo</li>\n",
        "<li><code>sep()</code> caracteres o expresión regular que se usará para dividir campos en cada fila</li>\n",
        "<li><code>header()</code> número de fila para nombres de columna, debería ser <code>None</code> si no hay encabezado.</li>\n",
        "<li><code>index_col()</code> número de columna o nombre de columna para usar como índice</li>\n",
        "<li><code>names()</code> lista de nombres de columnas</li>\n",
        "<li><code>skiprows()</code> número de filas al principio del archivo para ignorar o lista de números de fila (a partir de 0) para omitir</li>\n",
        "<li><code>na_values()</code> secuencia de valores para reemplazar con NA</li>\n",
        "<li><code>keep_default_na()</code> usar o no la lista de valores predeterminados NA (<code>True</code> por defecto)</li>\n",
        "<li><code>parse_dates()</code> intenta analizar los datos en <code>datetime</code></li>\n",
        "<li><code>converters()</code> aplicaría la función <code>f</code> a los valores indicados </li>\n",
        "<li><code>dayfirst()</code> al analizar fechas ambiguas, se le aplica formato internacional</li>\n",
        "<li><code>verbose()</code> muestra información de análisis diversa</li>\n",
        "<li><code>encoding()</code> codificación de texto</li>\n",
        "<li><code>squeeze()</code> Si los datos analizados contienen solo una columna, devuelva una <code>Serie</code></li>\n",
        "<li><code>thousands()</code> separador de miles</li>\n",
        "<li><code>decimal()</code> separador decimal</li>\n",
        "<li><code>engine()</code> motor de conversión y análisis de CSV para usar</li>\n",
        "</ul>\n",
        "</p>"
      ],
      "metadata": {
        "id": "mQzQWJyei1s1"
      }
    },
    {
      "cell_type": "markdown",
      "source": [
        " ## **<font color=\"DeepPink\">Escritura de archivos</font>**"
      ],
      "metadata": {
        "id": "ZY77-5sKTFys"
      }
    },
    {
      "cell_type": "markdown",
      "source": [
        "<p align=\"justify\">\n",
        "Los datos también se pueden exportar a un formato delimitado.</p>"
      ],
      "metadata": {
        "id": "cWZ0a2XZhpju"
      }
    },
    {
      "cell_type": "code",
      "source": [
        "subsidios1 = subsidios.iloc[0:10,[0,2]]\n",
        "subsidios1"
      ],
      "metadata": {
        "colab": {
          "base_uri": "https://localhost:8080/",
          "height": 363
        },
        "id": "sbMQabawilpv",
        "outputId": "2b9d5a9a-ceff-453f-d017-32c6e7f424fa"
      },
      "execution_count": null,
      "outputs": [
        {
          "output_type": "execute_result",
          "data": {
            "text/plain": [
              "                    beneficio_tipo  beneficiario_cuit\n",
              "0  Bonificación de tasa crediticia        30708334584\n",
              "1                              ANR        30708334584\n",
              "2                              ANR        30638064126\n",
              "3  Bonificación de tasa crediticia        30638064126\n",
              "4  Bonificación de tasa crediticia        33629783909\n",
              "5                              ANR        33629783909\n",
              "6                              ANR        30709392243\n",
              "7  Bonificación de tasa crediticia        30709585939\n",
              "8                              ANR        30709585939\n",
              "9                              ANR        30560312411"
            ],
            "text/html": [
              "\n",
              "  <div id=\"df-3146f41f-c342-4294-a9b4-50a9e78fe44b\">\n",
              "    <div class=\"colab-df-container\">\n",
              "      <div>\n",
              "<style scoped>\n",
              "    .dataframe tbody tr th:only-of-type {\n",
              "        vertical-align: middle;\n",
              "    }\n",
              "\n",
              "    .dataframe tbody tr th {\n",
              "        vertical-align: top;\n",
              "    }\n",
              "\n",
              "    .dataframe thead th {\n",
              "        text-align: right;\n",
              "    }\n",
              "</style>\n",
              "<table border=\"1\" class=\"dataframe\">\n",
              "  <thead>\n",
              "    <tr style=\"text-align: right;\">\n",
              "      <th></th>\n",
              "      <th>beneficio_tipo</th>\n",
              "      <th>beneficiario_cuit</th>\n",
              "    </tr>\n",
              "  </thead>\n",
              "  <tbody>\n",
              "    <tr>\n",
              "      <th>0</th>\n",
              "      <td>Bonificación de tasa crediticia</td>\n",
              "      <td>30708334584</td>\n",
              "    </tr>\n",
              "    <tr>\n",
              "      <th>1</th>\n",
              "      <td>ANR</td>\n",
              "      <td>30708334584</td>\n",
              "    </tr>\n",
              "    <tr>\n",
              "      <th>2</th>\n",
              "      <td>ANR</td>\n",
              "      <td>30638064126</td>\n",
              "    </tr>\n",
              "    <tr>\n",
              "      <th>3</th>\n",
              "      <td>Bonificación de tasa crediticia</td>\n",
              "      <td>30638064126</td>\n",
              "    </tr>\n",
              "    <tr>\n",
              "      <th>4</th>\n",
              "      <td>Bonificación de tasa crediticia</td>\n",
              "      <td>33629783909</td>\n",
              "    </tr>\n",
              "    <tr>\n",
              "      <th>5</th>\n",
              "      <td>ANR</td>\n",
              "      <td>33629783909</td>\n",
              "    </tr>\n",
              "    <tr>\n",
              "      <th>6</th>\n",
              "      <td>ANR</td>\n",
              "      <td>30709392243</td>\n",
              "    </tr>\n",
              "    <tr>\n",
              "      <th>7</th>\n",
              "      <td>Bonificación de tasa crediticia</td>\n",
              "      <td>30709585939</td>\n",
              "    </tr>\n",
              "    <tr>\n",
              "      <th>8</th>\n",
              "      <td>ANR</td>\n",
              "      <td>30709585939</td>\n",
              "    </tr>\n",
              "    <tr>\n",
              "      <th>9</th>\n",
              "      <td>ANR</td>\n",
              "      <td>30560312411</td>\n",
              "    </tr>\n",
              "  </tbody>\n",
              "</table>\n",
              "</div>\n",
              "      <button class=\"colab-df-convert\" onclick=\"convertToInteractive('df-3146f41f-c342-4294-a9b4-50a9e78fe44b')\"\n",
              "              title=\"Convert this dataframe to an interactive table.\"\n",
              "              style=\"display:none;\">\n",
              "        \n",
              "  <svg xmlns=\"http://www.w3.org/2000/svg\" height=\"24px\"viewBox=\"0 0 24 24\"\n",
              "       width=\"24px\">\n",
              "    <path d=\"M0 0h24v24H0V0z\" fill=\"none\"/>\n",
              "    <path d=\"M18.56 5.44l.94 2.06.94-2.06 2.06-.94-2.06-.94-.94-2.06-.94 2.06-2.06.94zm-11 1L8.5 8.5l.94-2.06 2.06-.94-2.06-.94L8.5 2.5l-.94 2.06-2.06.94zm10 10l.94 2.06.94-2.06 2.06-.94-2.06-.94-.94-2.06-.94 2.06-2.06.94z\"/><path d=\"M17.41 7.96l-1.37-1.37c-.4-.4-.92-.59-1.43-.59-.52 0-1.04.2-1.43.59L10.3 9.45l-7.72 7.72c-.78.78-.78 2.05 0 2.83L4 21.41c.39.39.9.59 1.41.59.51 0 1.02-.2 1.41-.59l7.78-7.78 2.81-2.81c.8-.78.8-2.07 0-2.86zM5.41 20L4 18.59l7.72-7.72 1.47 1.35L5.41 20z\"/>\n",
              "  </svg>\n",
              "      </button>\n",
              "      \n",
              "  <style>\n",
              "    .colab-df-container {\n",
              "      display:flex;\n",
              "      flex-wrap:wrap;\n",
              "      gap: 12px;\n",
              "    }\n",
              "\n",
              "    .colab-df-convert {\n",
              "      background-color: #E8F0FE;\n",
              "      border: none;\n",
              "      border-radius: 50%;\n",
              "      cursor: pointer;\n",
              "      display: none;\n",
              "      fill: #1967D2;\n",
              "      height: 32px;\n",
              "      padding: 0 0 0 0;\n",
              "      width: 32px;\n",
              "    }\n",
              "\n",
              "    .colab-df-convert:hover {\n",
              "      background-color: #E2EBFA;\n",
              "      box-shadow: 0px 1px 2px rgba(60, 64, 67, 0.3), 0px 1px 3px 1px rgba(60, 64, 67, 0.15);\n",
              "      fill: #174EA6;\n",
              "    }\n",
              "\n",
              "    [theme=dark] .colab-df-convert {\n",
              "      background-color: #3B4455;\n",
              "      fill: #D2E3FC;\n",
              "    }\n",
              "\n",
              "    [theme=dark] .colab-df-convert:hover {\n",
              "      background-color: #434B5C;\n",
              "      box-shadow: 0px 1px 3px 1px rgba(0, 0, 0, 0.15);\n",
              "      filter: drop-shadow(0px 1px 2px rgba(0, 0, 0, 0.3));\n",
              "      fill: #FFFFFF;\n",
              "    }\n",
              "  </style>\n",
              "\n",
              "      <script>\n",
              "        const buttonEl =\n",
              "          document.querySelector('#df-3146f41f-c342-4294-a9b4-50a9e78fe44b button.colab-df-convert');\n",
              "        buttonEl.style.display =\n",
              "          google.colab.kernel.accessAllowed ? 'block' : 'none';\n",
              "\n",
              "        async function convertToInteractive(key) {\n",
              "          const element = document.querySelector('#df-3146f41f-c342-4294-a9b4-50a9e78fe44b');\n",
              "          const dataTable =\n",
              "            await google.colab.kernel.invokeFunction('convertToInteractive',\n",
              "                                                     [key], {});\n",
              "          if (!dataTable) return;\n",
              "\n",
              "          const docLinkHtml = 'Like what you see? Visit the ' +\n",
              "            '<a target=\"_blank\" href=https://colab.research.google.com/notebooks/data_table.ipynb>data table notebook</a>'\n",
              "            + ' to learn more about interactive tables.';\n",
              "          element.innerHTML = '';\n",
              "          dataTable['output_type'] = 'display_data';\n",
              "          await google.colab.output.renderOutput(dataTable, element);\n",
              "          const docLink = document.createElement('div');\n",
              "          docLink.innerHTML = docLinkHtml;\n",
              "          element.appendChild(docLink);\n",
              "        }\n",
              "      </script>\n",
              "    </div>\n",
              "  </div>\n",
              "  "
            ]
          },
          "metadata": {},
          "execution_count": 10
        }
      ]
    },
    {
      "cell_type": "markdown",
      "source": [
        "<p align=\"justify\"> 👀 Usando el método <code>to_csv()</code>, podemos escribir los datos en un archivo separado por comas.\n",
        "</p>"
      ],
      "metadata": {
        "id": "s8o34OESjyA2"
      }
    },
    {
      "cell_type": "code",
      "source": [
        "subsidios1.to_csv(\"subsidios.csv\")\n",
        "!cat subsidios.csv"
      ],
      "metadata": {
        "colab": {
          "base_uri": "https://localhost:8080/"
        },
        "id": "PJE7wXwZhpK2",
        "outputId": "56112494-1552-4ff4-dbbb-a4887efea5ae"
      },
      "execution_count": null,
      "outputs": [
        {
          "output_type": "stream",
          "name": "stdout",
          "text": [
            ",beneficio_tipo,beneficiario_cuit\n",
            "0,Bonificación de tasa crediticia,30708334584\n",
            "1,ANR,30708334584\n",
            "2,ANR,30638064126\n",
            "3,Bonificación de tasa crediticia,30638064126\n",
            "4,Bonificación de tasa crediticia,33629783909\n",
            "5,ANR,33629783909\n",
            "6,ANR,30709392243\n",
            "7,Bonificación de tasa crediticia,30709585939\n",
            "8,ANR,30709585939\n",
            "9,ANR,30560312411\n"
          ]
        }
      ]
    },
    {
      "cell_type": "markdown",
      "source": [
        "<p align=\"justify\"> 👀 Se puede usar otros delimitadores.\n",
        "</p>"
      ],
      "metadata": {
        "id": "mG8yO_4h9GDN"
      }
    },
    {
      "cell_type": "code",
      "source": [
        "subsidios1.to_csv(\"subsidios.csv\", sep=\"|\")\n",
        "!cat subsidios.csv"
      ],
      "metadata": {
        "colab": {
          "base_uri": "https://localhost:8080/"
        },
        "id": "UWng7DfQkW4z",
        "outputId": "66640842-6e14-40f8-da7f-58a7c23b9df1"
      },
      "execution_count": null,
      "outputs": [
        {
          "output_type": "stream",
          "name": "stdout",
          "text": [
            "|beneficio_tipo|beneficiario_cuit\n",
            "0|Bonificación de tasa crediticia|30708334584\n",
            "1|ANR|30708334584\n",
            "2|ANR|30638064126\n",
            "3|Bonificación de tasa crediticia|30638064126\n",
            "4|Bonificación de tasa crediticia|33629783909\n",
            "5|ANR|33629783909\n",
            "6|ANR|30709392243\n",
            "7|Bonificación de tasa crediticia|30709585939\n",
            "8|ANR|30709585939\n",
            "9|ANR|30560312411\n"
          ]
        }
      ]
    },
    {
      "cell_type": "markdown",
      "source": [
        "<p align=\"justify\"> 👀 Se puede prescindir del índice.\n",
        "</p>"
      ],
      "metadata": {
        "id": "qsjgRk759l00"
      }
    },
    {
      "cell_type": "code",
      "source": [
        "subsidios1.to_csv(\"subsidios.csv\", index=False)\n",
        "!cat subsidios.csv"
      ],
      "metadata": {
        "colab": {
          "base_uri": "https://localhost:8080/"
        },
        "id": "lNQBF5fT9uMY",
        "outputId": "681f5ad7-df9a-4d71-995a-713a6427d869"
      },
      "execution_count": null,
      "outputs": [
        {
          "output_type": "stream",
          "name": "stdout",
          "text": [
            "beneficio_tipo,beneficiario_cuit\n",
            "Bonificación de tasa crediticia,30708334584\n",
            "ANR,30708334584\n",
            "ANR,30638064126\n",
            "Bonificación de tasa crediticia,30638064126\n",
            "Bonificación de tasa crediticia,33629783909\n",
            "ANR,33629783909\n",
            "ANR,30709392243\n",
            "Bonificación de tasa crediticia,30709585939\n",
            "ANR,30709585939\n",
            "ANR,30560312411\n"
          ]
        }
      ]
    },
    {
      "cell_type": "markdown",
      "source": [
        "<p align=\"justify\"> 👀 y tambien, entre otras cosas, se puede prescindir del encabezado.\n",
        "</p>"
      ],
      "metadata": {
        "id": "2-jWIg4c92dA"
      }
    },
    {
      "cell_type": "code",
      "source": [
        "subsidios1.to_csv(\"subsidios.csv\", header=False)\n",
        "!cat subsidios.csv"
      ],
      "metadata": {
        "colab": {
          "base_uri": "https://localhost:8080/"
        },
        "id": "7H3WkVuc95Ky",
        "outputId": "7cd5101d-3484-446a-b2f7-da309a2e9925"
      },
      "execution_count": null,
      "outputs": [
        {
          "output_type": "stream",
          "name": "stdout",
          "text": [
            "0,Bonificación de tasa crediticia,30708334584\n",
            "1,ANR,30708334584\n",
            "2,ANR,30638064126\n",
            "3,Bonificación de tasa crediticia,30638064126\n",
            "4,Bonificación de tasa crediticia,33629783909\n",
            "5,ANR,33629783909\n",
            "6,ANR,30709392243\n",
            "7,Bonificación de tasa crediticia,30709585939\n",
            "8,ANR,30709585939\n",
            "9,ANR,30560312411\n"
          ]
        }
      ]
    },
    {
      "cell_type": "markdown",
      "source": [
        " # **<font color=\"DeepPink\">HTML Web Scraping</font>**"
      ],
      "metadata": {
        "id": "WV4j5bGH-ahb"
      }
    },
    {
      "cell_type": "markdown",
      "source": [
        "<p align=\"justify\">\n",
        "<code>Python</code> tiene muchas bibliotecas para leer y escribir datos en los  formatos <code>HTML</code> y <code>XML</code>. Los ejemplos incluyen <code>lxml</code>, <code>Beautiful Soup</code> y <code>html5lib</code>. Si bien <code>lxml</code> es comparativamente mucho más rápido en general, las otras bibliotecas pueden manejar mejor los archivos <code>HTML</code> o <code>XML</code> con formato incorrecto.</p>"
      ],
      "metadata": {
        "id": "8_w-csYO-iwJ"
      }
    },
    {
      "cell_type": "markdown",
      "source": [
        "<p align=\"justify\"> 👀 <code>Pandas</code> tiene una función integrada, <code>read_html</code> que utiliza todas estas bibliotecas para analizar automáticamente las tablas de los archivos <code>HTML</code> como objetos <code>DataFrame</code>.\n",
        "</p>"
      ],
      "metadata": {
        "id": "S1vkN4gOAf2Z"
      }
    },
    {
      "cell_type": "markdown",
      "source": [
        "<p align=\"justify\"> 👀 Es recomendable habilitar algunas bibliotecas adicionales, en este caso, las que usa la función <code>read_html</code>.\n",
        "</p>"
      ],
      "metadata": {
        "id": "1qUfLHJIBSx_"
      }
    },
    {
      "cell_type": "code",
      "source": [
        "import lxml\n",
        "import bs4\n",
        "import html5lib"
      ],
      "metadata": {
        "id": "oZmgjxfR-iRv"
      },
      "execution_count": null,
      "outputs": []
    },
    {
      "cell_type": "code",
      "source": [
        "URL = \"https://atm.mendoza.gov.ar/portalatm/zoneBottom/datosInteres/recaudacion/recaudacion_impuesto_ingresos.jsp\""
      ],
      "metadata": {
        "id": "KE0atUpNF6_w"
      },
      "execution_count": null,
      "outputs": []
    },
    {
      "cell_type": "code",
      "source": [
        "recaudacion = pd.read_html(URL)"
      ],
      "metadata": {
        "id": "6x1G8Ep1Hdt-"
      },
      "execution_count": null,
      "outputs": []
    },
    {
      "cell_type": "markdown",
      "source": [
        "<p align=\"justify\"> 👀 El resultado de usar la función <code>read_html</code> es una lista de objetos <code>DataFrame</code>.\n",
        "</p>"
      ],
      "metadata": {
        "id": "PRmP8o4MHPqZ"
      }
    },
    {
      "cell_type": "code",
      "source": [
        "type(recaudacion)"
      ],
      "metadata": {
        "colab": {
          "base_uri": "https://localhost:8080/"
        },
        "id": "eAV8mSmdHfxP",
        "outputId": "3c5cbd3f-065c-409b-e8e0-2f454a559e6e"
      },
      "execution_count": null,
      "outputs": [
        {
          "output_type": "execute_result",
          "data": {
            "text/plain": [
              "list"
            ]
          },
          "metadata": {},
          "execution_count": 18
        }
      ]
    },
    {
      "cell_type": "code",
      "source": [
        "len(recaudacion)"
      ],
      "metadata": {
        "colab": {
          "base_uri": "https://localhost:8080/"
        },
        "id": "hv6XRBHUHjhB",
        "outputId": "4f142d24-45a7-4d61-b8ea-353dd99e0fbe"
      },
      "execution_count": null,
      "outputs": [
        {
          "output_type": "execute_result",
          "data": {
            "text/plain": [
              "1"
            ]
          },
          "metadata": {},
          "execution_count": 19
        }
      ]
    },
    {
      "cell_type": "code",
      "source": [
        "df = recaudacion[0]\n",
        "df"
      ],
      "metadata": {
        "colab": {
          "base_uri": "https://localhost:8080/",
          "height": 599
        },
        "id": "LxOuA6cGDliO",
        "outputId": "836bd661-a718-4f14-bc15-8c4fdbc09295"
      },
      "execution_count": null,
      "outputs": [
        {
          "output_type": "execute_result",
          "data": {
            "text/plain": [
              "                0                1                2                3    \\\n",
              "0   Ingresos Brutos  Ingresos Brutos  Ingresos Brutos  Ingresos Brutos   \n",
              "1             Meses             2000             2001             2002   \n",
              "2             Enero         18843926         18114420         12722708   \n",
              "3           Febrero         16258743         32180909         11237981   \n",
              "4             Marzo         17468327         14453688         11460186   \n",
              "5             Abril         17463084         15809614         12300935   \n",
              "6              Mayo         15978692         14610889         14265621   \n",
              "7             Junio         14676011         14328045         16351168   \n",
              "8             Julio         15299790         14675150         17106546   \n",
              "9            Agosto         15802483         14475158         18373950   \n",
              "10       Septiembre         15756538         16781292         18684199   \n",
              "11          Octubre         15731005         13506128         18518490   \n",
              "12        Noviembre         15660556         13446877         21317298   \n",
              "13        Diciembre         16032799         11570299         19508401   \n",
              "\n",
              "                4                5                6                7    \\\n",
              "0   Ingresos Brutos  Ingresos Brutos  Ingresos Brutos  Ingresos Brutos   \n",
              "1              2003             2004             2005             2006   \n",
              "2          20192886         28492948         37455922         48307581   \n",
              "3          20257924         26276427         35131740         45290618   \n",
              "4          19766456         27124258         33982257         45654235   \n",
              "5          20503786         32466739         39149216         47268950   \n",
              "6          20988947         30252979         39887132         60082271   \n",
              "7          21041197         30687746         39160678         56268381   \n",
              "8          21763328         30962034         39205417         59484119   \n",
              "9          23185411         31937418         40688413         58732118   \n",
              "10         25513569         31578993         43003892         63159166   \n",
              "11         25042384         33774686         41477902         63007199   \n",
              "12         25520492         33742035         42190330         61376701   \n",
              "13         25122948         34519525         45989899         55169335   \n",
              "\n",
              "                8                9    ...              231              232  \\\n",
              "0   Ingresos Brutos  Ingresos Brutos  ...  Ingresos Brutos  Ingresos Brutos   \n",
              "1              2007             2008  ...              NaN              NaN   \n",
              "2          61131913         88818881  ...              NaN              NaN   \n",
              "3          58230197         76675888  ...              NaN              NaN   \n",
              "4          58267059         74072263  ...              NaN              NaN   \n",
              "5          61113108         88241185  ...              NaN              NaN   \n",
              "6          65113469         90479860  ...              NaN              NaN   \n",
              "7          65906755         83292810  ...              NaN              NaN   \n",
              "8          66270873         88028892  ...              NaN              NaN   \n",
              "9          67496826         94763397  ...              NaN              NaN   \n",
              "10         70058014         91342609  ...              NaN              NaN   \n",
              "11         72036143         90090534  ...              NaN              NaN   \n",
              "12         75454989         85291059  ...              NaN              NaN   \n",
              "13         66286135         88008564  ...              NaN              NaN   \n",
              "\n",
              "                233              234              235              236  \\\n",
              "0   Ingresos Brutos  Ingresos Brutos  Ingresos Brutos  Ingresos Brutos   \n",
              "1               NaN              NaN              NaN              NaN   \n",
              "2               NaN              NaN              NaN              NaN   \n",
              "3               NaN              NaN              NaN              NaN   \n",
              "4               NaN              NaN              NaN              NaN   \n",
              "5               NaN              NaN              NaN              NaN   \n",
              "6               NaN              NaN              NaN              NaN   \n",
              "7               NaN              NaN              NaN              NaN   \n",
              "8               NaN              NaN              NaN              NaN   \n",
              "9               NaN              NaN              NaN              NaN   \n",
              "10              NaN              NaN              NaN              NaN   \n",
              "11              NaN              NaN              NaN              NaN   \n",
              "12              NaN              NaN              NaN              NaN   \n",
              "13              NaN              NaN              NaN              NaN   \n",
              "\n",
              "                237              238              239              240  \n",
              "0   Ingresos Brutos  Ingresos Brutos  Ingresos Brutos  Ingresos Brutos  \n",
              "1               NaN              NaN              NaN              NaN  \n",
              "2               NaN              NaN              NaN              NaN  \n",
              "3               NaN              NaN              NaN              NaN  \n",
              "4               NaN              NaN              NaN              NaN  \n",
              "5               NaN              NaN              NaN              NaN  \n",
              "6               NaN              NaN              NaN              NaN  \n",
              "7               NaN              NaN              NaN              NaN  \n",
              "8               NaN              NaN              NaN              NaN  \n",
              "9               NaN              NaN              NaN              NaN  \n",
              "10              NaN              NaN              NaN              NaN  \n",
              "11              NaN              NaN              NaN              NaN  \n",
              "12              NaN              NaN              NaN              NaN  \n",
              "13              NaN              NaN              NaN              NaN  \n",
              "\n",
              "[14 rows x 241 columns]"
            ],
            "text/html": [
              "\n",
              "  <div id=\"df-839af824-2b62-4f86-a514-b568a1550004\">\n",
              "    <div class=\"colab-df-container\">\n",
              "      <div>\n",
              "<style scoped>\n",
              "    .dataframe tbody tr th:only-of-type {\n",
              "        vertical-align: middle;\n",
              "    }\n",
              "\n",
              "    .dataframe tbody tr th {\n",
              "        vertical-align: top;\n",
              "    }\n",
              "\n",
              "    .dataframe thead th {\n",
              "        text-align: right;\n",
              "    }\n",
              "</style>\n",
              "<table border=\"1\" class=\"dataframe\">\n",
              "  <thead>\n",
              "    <tr style=\"text-align: right;\">\n",
              "      <th></th>\n",
              "      <th>0</th>\n",
              "      <th>1</th>\n",
              "      <th>2</th>\n",
              "      <th>3</th>\n",
              "      <th>4</th>\n",
              "      <th>5</th>\n",
              "      <th>6</th>\n",
              "      <th>7</th>\n",
              "      <th>8</th>\n",
              "      <th>9</th>\n",
              "      <th>...</th>\n",
              "      <th>231</th>\n",
              "      <th>232</th>\n",
              "      <th>233</th>\n",
              "      <th>234</th>\n",
              "      <th>235</th>\n",
              "      <th>236</th>\n",
              "      <th>237</th>\n",
              "      <th>238</th>\n",
              "      <th>239</th>\n",
              "      <th>240</th>\n",
              "    </tr>\n",
              "  </thead>\n",
              "  <tbody>\n",
              "    <tr>\n",
              "      <th>0</th>\n",
              "      <td>Ingresos Brutos</td>\n",
              "      <td>Ingresos Brutos</td>\n",
              "      <td>Ingresos Brutos</td>\n",
              "      <td>Ingresos Brutos</td>\n",
              "      <td>Ingresos Brutos</td>\n",
              "      <td>Ingresos Brutos</td>\n",
              "      <td>Ingresos Brutos</td>\n",
              "      <td>Ingresos Brutos</td>\n",
              "      <td>Ingresos Brutos</td>\n",
              "      <td>Ingresos Brutos</td>\n",
              "      <td>...</td>\n",
              "      <td>Ingresos Brutos</td>\n",
              "      <td>Ingresos Brutos</td>\n",
              "      <td>Ingresos Brutos</td>\n",
              "      <td>Ingresos Brutos</td>\n",
              "      <td>Ingresos Brutos</td>\n",
              "      <td>Ingresos Brutos</td>\n",
              "      <td>Ingresos Brutos</td>\n",
              "      <td>Ingresos Brutos</td>\n",
              "      <td>Ingresos Brutos</td>\n",
              "      <td>Ingresos Brutos</td>\n",
              "    </tr>\n",
              "    <tr>\n",
              "      <th>1</th>\n",
              "      <td>Meses</td>\n",
              "      <td>2000</td>\n",
              "      <td>2001</td>\n",
              "      <td>2002</td>\n",
              "      <td>2003</td>\n",
              "      <td>2004</td>\n",
              "      <td>2005</td>\n",
              "      <td>2006</td>\n",
              "      <td>2007</td>\n",
              "      <td>2008</td>\n",
              "      <td>...</td>\n",
              "      <td>NaN</td>\n",
              "      <td>NaN</td>\n",
              "      <td>NaN</td>\n",
              "      <td>NaN</td>\n",
              "      <td>NaN</td>\n",
              "      <td>NaN</td>\n",
              "      <td>NaN</td>\n",
              "      <td>NaN</td>\n",
              "      <td>NaN</td>\n",
              "      <td>NaN</td>\n",
              "    </tr>\n",
              "    <tr>\n",
              "      <th>2</th>\n",
              "      <td>Enero</td>\n",
              "      <td>18843926</td>\n",
              "      <td>18114420</td>\n",
              "      <td>12722708</td>\n",
              "      <td>20192886</td>\n",
              "      <td>28492948</td>\n",
              "      <td>37455922</td>\n",
              "      <td>48307581</td>\n",
              "      <td>61131913</td>\n",
              "      <td>88818881</td>\n",
              "      <td>...</td>\n",
              "      <td>NaN</td>\n",
              "      <td>NaN</td>\n",
              "      <td>NaN</td>\n",
              "      <td>NaN</td>\n",
              "      <td>NaN</td>\n",
              "      <td>NaN</td>\n",
              "      <td>NaN</td>\n",
              "      <td>NaN</td>\n",
              "      <td>NaN</td>\n",
              "      <td>NaN</td>\n",
              "    </tr>\n",
              "    <tr>\n",
              "      <th>3</th>\n",
              "      <td>Febrero</td>\n",
              "      <td>16258743</td>\n",
              "      <td>32180909</td>\n",
              "      <td>11237981</td>\n",
              "      <td>20257924</td>\n",
              "      <td>26276427</td>\n",
              "      <td>35131740</td>\n",
              "      <td>45290618</td>\n",
              "      <td>58230197</td>\n",
              "      <td>76675888</td>\n",
              "      <td>...</td>\n",
              "      <td>NaN</td>\n",
              "      <td>NaN</td>\n",
              "      <td>NaN</td>\n",
              "      <td>NaN</td>\n",
              "      <td>NaN</td>\n",
              "      <td>NaN</td>\n",
              "      <td>NaN</td>\n",
              "      <td>NaN</td>\n",
              "      <td>NaN</td>\n",
              "      <td>NaN</td>\n",
              "    </tr>\n",
              "    <tr>\n",
              "      <th>4</th>\n",
              "      <td>Marzo</td>\n",
              "      <td>17468327</td>\n",
              "      <td>14453688</td>\n",
              "      <td>11460186</td>\n",
              "      <td>19766456</td>\n",
              "      <td>27124258</td>\n",
              "      <td>33982257</td>\n",
              "      <td>45654235</td>\n",
              "      <td>58267059</td>\n",
              "      <td>74072263</td>\n",
              "      <td>...</td>\n",
              "      <td>NaN</td>\n",
              "      <td>NaN</td>\n",
              "      <td>NaN</td>\n",
              "      <td>NaN</td>\n",
              "      <td>NaN</td>\n",
              "      <td>NaN</td>\n",
              "      <td>NaN</td>\n",
              "      <td>NaN</td>\n",
              "      <td>NaN</td>\n",
              "      <td>NaN</td>\n",
              "    </tr>\n",
              "    <tr>\n",
              "      <th>5</th>\n",
              "      <td>Abril</td>\n",
              "      <td>17463084</td>\n",
              "      <td>15809614</td>\n",
              "      <td>12300935</td>\n",
              "      <td>20503786</td>\n",
              "      <td>32466739</td>\n",
              "      <td>39149216</td>\n",
              "      <td>47268950</td>\n",
              "      <td>61113108</td>\n",
              "      <td>88241185</td>\n",
              "      <td>...</td>\n",
              "      <td>NaN</td>\n",
              "      <td>NaN</td>\n",
              "      <td>NaN</td>\n",
              "      <td>NaN</td>\n",
              "      <td>NaN</td>\n",
              "      <td>NaN</td>\n",
              "      <td>NaN</td>\n",
              "      <td>NaN</td>\n",
              "      <td>NaN</td>\n",
              "      <td>NaN</td>\n",
              "    </tr>\n",
              "    <tr>\n",
              "      <th>6</th>\n",
              "      <td>Mayo</td>\n",
              "      <td>15978692</td>\n",
              "      <td>14610889</td>\n",
              "      <td>14265621</td>\n",
              "      <td>20988947</td>\n",
              "      <td>30252979</td>\n",
              "      <td>39887132</td>\n",
              "      <td>60082271</td>\n",
              "      <td>65113469</td>\n",
              "      <td>90479860</td>\n",
              "      <td>...</td>\n",
              "      <td>NaN</td>\n",
              "      <td>NaN</td>\n",
              "      <td>NaN</td>\n",
              "      <td>NaN</td>\n",
              "      <td>NaN</td>\n",
              "      <td>NaN</td>\n",
              "      <td>NaN</td>\n",
              "      <td>NaN</td>\n",
              "      <td>NaN</td>\n",
              "      <td>NaN</td>\n",
              "    </tr>\n",
              "    <tr>\n",
              "      <th>7</th>\n",
              "      <td>Junio</td>\n",
              "      <td>14676011</td>\n",
              "      <td>14328045</td>\n",
              "      <td>16351168</td>\n",
              "      <td>21041197</td>\n",
              "      <td>30687746</td>\n",
              "      <td>39160678</td>\n",
              "      <td>56268381</td>\n",
              "      <td>65906755</td>\n",
              "      <td>83292810</td>\n",
              "      <td>...</td>\n",
              "      <td>NaN</td>\n",
              "      <td>NaN</td>\n",
              "      <td>NaN</td>\n",
              "      <td>NaN</td>\n",
              "      <td>NaN</td>\n",
              "      <td>NaN</td>\n",
              "      <td>NaN</td>\n",
              "      <td>NaN</td>\n",
              "      <td>NaN</td>\n",
              "      <td>NaN</td>\n",
              "    </tr>\n",
              "    <tr>\n",
              "      <th>8</th>\n",
              "      <td>Julio</td>\n",
              "      <td>15299790</td>\n",
              "      <td>14675150</td>\n",
              "      <td>17106546</td>\n",
              "      <td>21763328</td>\n",
              "      <td>30962034</td>\n",
              "      <td>39205417</td>\n",
              "      <td>59484119</td>\n",
              "      <td>66270873</td>\n",
              "      <td>88028892</td>\n",
              "      <td>...</td>\n",
              "      <td>NaN</td>\n",
              "      <td>NaN</td>\n",
              "      <td>NaN</td>\n",
              "      <td>NaN</td>\n",
              "      <td>NaN</td>\n",
              "      <td>NaN</td>\n",
              "      <td>NaN</td>\n",
              "      <td>NaN</td>\n",
              "      <td>NaN</td>\n",
              "      <td>NaN</td>\n",
              "    </tr>\n",
              "    <tr>\n",
              "      <th>9</th>\n",
              "      <td>Agosto</td>\n",
              "      <td>15802483</td>\n",
              "      <td>14475158</td>\n",
              "      <td>18373950</td>\n",
              "      <td>23185411</td>\n",
              "      <td>31937418</td>\n",
              "      <td>40688413</td>\n",
              "      <td>58732118</td>\n",
              "      <td>67496826</td>\n",
              "      <td>94763397</td>\n",
              "      <td>...</td>\n",
              "      <td>NaN</td>\n",
              "      <td>NaN</td>\n",
              "      <td>NaN</td>\n",
              "      <td>NaN</td>\n",
              "      <td>NaN</td>\n",
              "      <td>NaN</td>\n",
              "      <td>NaN</td>\n",
              "      <td>NaN</td>\n",
              "      <td>NaN</td>\n",
              "      <td>NaN</td>\n",
              "    </tr>\n",
              "    <tr>\n",
              "      <th>10</th>\n",
              "      <td>Septiembre</td>\n",
              "      <td>15756538</td>\n",
              "      <td>16781292</td>\n",
              "      <td>18684199</td>\n",
              "      <td>25513569</td>\n",
              "      <td>31578993</td>\n",
              "      <td>43003892</td>\n",
              "      <td>63159166</td>\n",
              "      <td>70058014</td>\n",
              "      <td>91342609</td>\n",
              "      <td>...</td>\n",
              "      <td>NaN</td>\n",
              "      <td>NaN</td>\n",
              "      <td>NaN</td>\n",
              "      <td>NaN</td>\n",
              "      <td>NaN</td>\n",
              "      <td>NaN</td>\n",
              "      <td>NaN</td>\n",
              "      <td>NaN</td>\n",
              "      <td>NaN</td>\n",
              "      <td>NaN</td>\n",
              "    </tr>\n",
              "    <tr>\n",
              "      <th>11</th>\n",
              "      <td>Octubre</td>\n",
              "      <td>15731005</td>\n",
              "      <td>13506128</td>\n",
              "      <td>18518490</td>\n",
              "      <td>25042384</td>\n",
              "      <td>33774686</td>\n",
              "      <td>41477902</td>\n",
              "      <td>63007199</td>\n",
              "      <td>72036143</td>\n",
              "      <td>90090534</td>\n",
              "      <td>...</td>\n",
              "      <td>NaN</td>\n",
              "      <td>NaN</td>\n",
              "      <td>NaN</td>\n",
              "      <td>NaN</td>\n",
              "      <td>NaN</td>\n",
              "      <td>NaN</td>\n",
              "      <td>NaN</td>\n",
              "      <td>NaN</td>\n",
              "      <td>NaN</td>\n",
              "      <td>NaN</td>\n",
              "    </tr>\n",
              "    <tr>\n",
              "      <th>12</th>\n",
              "      <td>Noviembre</td>\n",
              "      <td>15660556</td>\n",
              "      <td>13446877</td>\n",
              "      <td>21317298</td>\n",
              "      <td>25520492</td>\n",
              "      <td>33742035</td>\n",
              "      <td>42190330</td>\n",
              "      <td>61376701</td>\n",
              "      <td>75454989</td>\n",
              "      <td>85291059</td>\n",
              "      <td>...</td>\n",
              "      <td>NaN</td>\n",
              "      <td>NaN</td>\n",
              "      <td>NaN</td>\n",
              "      <td>NaN</td>\n",
              "      <td>NaN</td>\n",
              "      <td>NaN</td>\n",
              "      <td>NaN</td>\n",
              "      <td>NaN</td>\n",
              "      <td>NaN</td>\n",
              "      <td>NaN</td>\n",
              "    </tr>\n",
              "    <tr>\n",
              "      <th>13</th>\n",
              "      <td>Diciembre</td>\n",
              "      <td>16032799</td>\n",
              "      <td>11570299</td>\n",
              "      <td>19508401</td>\n",
              "      <td>25122948</td>\n",
              "      <td>34519525</td>\n",
              "      <td>45989899</td>\n",
              "      <td>55169335</td>\n",
              "      <td>66286135</td>\n",
              "      <td>88008564</td>\n",
              "      <td>...</td>\n",
              "      <td>NaN</td>\n",
              "      <td>NaN</td>\n",
              "      <td>NaN</td>\n",
              "      <td>NaN</td>\n",
              "      <td>NaN</td>\n",
              "      <td>NaN</td>\n",
              "      <td>NaN</td>\n",
              "      <td>NaN</td>\n",
              "      <td>NaN</td>\n",
              "      <td>NaN</td>\n",
              "    </tr>\n",
              "  </tbody>\n",
              "</table>\n",
              "<p>14 rows × 241 columns</p>\n",
              "</div>\n",
              "      <button class=\"colab-df-convert\" onclick=\"convertToInteractive('df-839af824-2b62-4f86-a514-b568a1550004')\"\n",
              "              title=\"Convert this dataframe to an interactive table.\"\n",
              "              style=\"display:none;\">\n",
              "        \n",
              "  <svg xmlns=\"http://www.w3.org/2000/svg\" height=\"24px\"viewBox=\"0 0 24 24\"\n",
              "       width=\"24px\">\n",
              "    <path d=\"M0 0h24v24H0V0z\" fill=\"none\"/>\n",
              "    <path d=\"M18.56 5.44l.94 2.06.94-2.06 2.06-.94-2.06-.94-.94-2.06-.94 2.06-2.06.94zm-11 1L8.5 8.5l.94-2.06 2.06-.94-2.06-.94L8.5 2.5l-.94 2.06-2.06.94zm10 10l.94 2.06.94-2.06 2.06-.94-2.06-.94-.94-2.06-.94 2.06-2.06.94z\"/><path d=\"M17.41 7.96l-1.37-1.37c-.4-.4-.92-.59-1.43-.59-.52 0-1.04.2-1.43.59L10.3 9.45l-7.72 7.72c-.78.78-.78 2.05 0 2.83L4 21.41c.39.39.9.59 1.41.59.51 0 1.02-.2 1.41-.59l7.78-7.78 2.81-2.81c.8-.78.8-2.07 0-2.86zM5.41 20L4 18.59l7.72-7.72 1.47 1.35L5.41 20z\"/>\n",
              "  </svg>\n",
              "      </button>\n",
              "      \n",
              "  <style>\n",
              "    .colab-df-container {\n",
              "      display:flex;\n",
              "      flex-wrap:wrap;\n",
              "      gap: 12px;\n",
              "    }\n",
              "\n",
              "    .colab-df-convert {\n",
              "      background-color: #E8F0FE;\n",
              "      border: none;\n",
              "      border-radius: 50%;\n",
              "      cursor: pointer;\n",
              "      display: none;\n",
              "      fill: #1967D2;\n",
              "      height: 32px;\n",
              "      padding: 0 0 0 0;\n",
              "      width: 32px;\n",
              "    }\n",
              "\n",
              "    .colab-df-convert:hover {\n",
              "      background-color: #E2EBFA;\n",
              "      box-shadow: 0px 1px 2px rgba(60, 64, 67, 0.3), 0px 1px 3px 1px rgba(60, 64, 67, 0.15);\n",
              "      fill: #174EA6;\n",
              "    }\n",
              "\n",
              "    [theme=dark] .colab-df-convert {\n",
              "      background-color: #3B4455;\n",
              "      fill: #D2E3FC;\n",
              "    }\n",
              "\n",
              "    [theme=dark] .colab-df-convert:hover {\n",
              "      background-color: #434B5C;\n",
              "      box-shadow: 0px 1px 3px 1px rgba(0, 0, 0, 0.15);\n",
              "      filter: drop-shadow(0px 1px 2px rgba(0, 0, 0, 0.3));\n",
              "      fill: #FFFFFF;\n",
              "    }\n",
              "  </style>\n",
              "\n",
              "      <script>\n",
              "        const buttonEl =\n",
              "          document.querySelector('#df-839af824-2b62-4f86-a514-b568a1550004 button.colab-df-convert');\n",
              "        buttonEl.style.display =\n",
              "          google.colab.kernel.accessAllowed ? 'block' : 'none';\n",
              "\n",
              "        async function convertToInteractive(key) {\n",
              "          const element = document.querySelector('#df-839af824-2b62-4f86-a514-b568a1550004');\n",
              "          const dataTable =\n",
              "            await google.colab.kernel.invokeFunction('convertToInteractive',\n",
              "                                                     [key], {});\n",
              "          if (!dataTable) return;\n",
              "\n",
              "          const docLinkHtml = 'Like what you see? Visit the ' +\n",
              "            '<a target=\"_blank\" href=https://colab.research.google.com/notebooks/data_table.ipynb>data table notebook</a>'\n",
              "            + ' to learn more about interactive tables.';\n",
              "          element.innerHTML = '';\n",
              "          dataTable['output_type'] = 'display_data';\n",
              "          await google.colab.output.renderOutput(dataTable, element);\n",
              "          const docLink = document.createElement('div');\n",
              "          docLink.innerHTML = docLinkHtml;\n",
              "          element.appendChild(docLink);\n",
              "        }\n",
              "      </script>\n",
              "    </div>\n",
              "  </div>\n",
              "  "
            ]
          },
          "metadata": {},
          "execution_count": 20
        }
      ]
    },
    {
      "cell_type": "markdown",
      "source": [
        "<p align=\"justify\">Este es un <code>DataFrame</code> ideal para hacer tareas de limpieza y transformación de datos.\n",
        "</p>"
      ],
      "metadata": {
        "id": "hD97utIkH_dt"
      }
    },
    {
      "cell_type": "markdown",
      "source": [
        " # **<font color=\"DeepPink\">Algunos formatos de datos binarios</font>**"
      ],
      "metadata": {
        "id": "uwPJ2i6II_jS"
      }
    },
    {
      "cell_type": "markdown",
      "source": [
        "<p align=\"justify\">\n",
        "Una forma sencilla de almacenar o serializar datos en formato binario es usar el módulo integrado de <code>Python</code> denominado <code>pickle</code>. Todos los objetos <code>Pandas</code> tienen un metodo <code>to_pickle()</code> que escribe los datos en formato <code>pickle</code>.</p>"
      ],
      "metadata": {
        "id": "WAa_PdqAJIQv"
      }
    },
    {
      "cell_type": "code",
      "source": [
        "subsidios1"
      ],
      "metadata": {
        "colab": {
          "base_uri": "https://localhost:8080/",
          "height": 363
        },
        "id": "8xraI-mRJItV",
        "outputId": "53763fde-1c8a-47b8-a04d-574e1c9d8b79"
      },
      "execution_count": null,
      "outputs": [
        {
          "output_type": "execute_result",
          "data": {
            "text/plain": [
              "                    beneficio_tipo  beneficiario_cuit\n",
              "0  Bonificación de tasa crediticia        30708334584\n",
              "1                              ANR        30708334584\n",
              "2                              ANR        30638064126\n",
              "3  Bonificación de tasa crediticia        30638064126\n",
              "4  Bonificación de tasa crediticia        33629783909\n",
              "5                              ANR        33629783909\n",
              "6                              ANR        30709392243\n",
              "7  Bonificación de tasa crediticia        30709585939\n",
              "8                              ANR        30709585939\n",
              "9                              ANR        30560312411"
            ],
            "text/html": [
              "\n",
              "  <div id=\"df-e640de1d-9b70-4315-a19e-554667bf353d\">\n",
              "    <div class=\"colab-df-container\">\n",
              "      <div>\n",
              "<style scoped>\n",
              "    .dataframe tbody tr th:only-of-type {\n",
              "        vertical-align: middle;\n",
              "    }\n",
              "\n",
              "    .dataframe tbody tr th {\n",
              "        vertical-align: top;\n",
              "    }\n",
              "\n",
              "    .dataframe thead th {\n",
              "        text-align: right;\n",
              "    }\n",
              "</style>\n",
              "<table border=\"1\" class=\"dataframe\">\n",
              "  <thead>\n",
              "    <tr style=\"text-align: right;\">\n",
              "      <th></th>\n",
              "      <th>beneficio_tipo</th>\n",
              "      <th>beneficiario_cuit</th>\n",
              "    </tr>\n",
              "  </thead>\n",
              "  <tbody>\n",
              "    <tr>\n",
              "      <th>0</th>\n",
              "      <td>Bonificación de tasa crediticia</td>\n",
              "      <td>30708334584</td>\n",
              "    </tr>\n",
              "    <tr>\n",
              "      <th>1</th>\n",
              "      <td>ANR</td>\n",
              "      <td>30708334584</td>\n",
              "    </tr>\n",
              "    <tr>\n",
              "      <th>2</th>\n",
              "      <td>ANR</td>\n",
              "      <td>30638064126</td>\n",
              "    </tr>\n",
              "    <tr>\n",
              "      <th>3</th>\n",
              "      <td>Bonificación de tasa crediticia</td>\n",
              "      <td>30638064126</td>\n",
              "    </tr>\n",
              "    <tr>\n",
              "      <th>4</th>\n",
              "      <td>Bonificación de tasa crediticia</td>\n",
              "      <td>33629783909</td>\n",
              "    </tr>\n",
              "    <tr>\n",
              "      <th>5</th>\n",
              "      <td>ANR</td>\n",
              "      <td>33629783909</td>\n",
              "    </tr>\n",
              "    <tr>\n",
              "      <th>6</th>\n",
              "      <td>ANR</td>\n",
              "      <td>30709392243</td>\n",
              "    </tr>\n",
              "    <tr>\n",
              "      <th>7</th>\n",
              "      <td>Bonificación de tasa crediticia</td>\n",
              "      <td>30709585939</td>\n",
              "    </tr>\n",
              "    <tr>\n",
              "      <th>8</th>\n",
              "      <td>ANR</td>\n",
              "      <td>30709585939</td>\n",
              "    </tr>\n",
              "    <tr>\n",
              "      <th>9</th>\n",
              "      <td>ANR</td>\n",
              "      <td>30560312411</td>\n",
              "    </tr>\n",
              "  </tbody>\n",
              "</table>\n",
              "</div>\n",
              "      <button class=\"colab-df-convert\" onclick=\"convertToInteractive('df-e640de1d-9b70-4315-a19e-554667bf353d')\"\n",
              "              title=\"Convert this dataframe to an interactive table.\"\n",
              "              style=\"display:none;\">\n",
              "        \n",
              "  <svg xmlns=\"http://www.w3.org/2000/svg\" height=\"24px\"viewBox=\"0 0 24 24\"\n",
              "       width=\"24px\">\n",
              "    <path d=\"M0 0h24v24H0V0z\" fill=\"none\"/>\n",
              "    <path d=\"M18.56 5.44l.94 2.06.94-2.06 2.06-.94-2.06-.94-.94-2.06-.94 2.06-2.06.94zm-11 1L8.5 8.5l.94-2.06 2.06-.94-2.06-.94L8.5 2.5l-.94 2.06-2.06.94zm10 10l.94 2.06.94-2.06 2.06-.94-2.06-.94-.94-2.06-.94 2.06-2.06.94z\"/><path d=\"M17.41 7.96l-1.37-1.37c-.4-.4-.92-.59-1.43-.59-.52 0-1.04.2-1.43.59L10.3 9.45l-7.72 7.72c-.78.78-.78 2.05 0 2.83L4 21.41c.39.39.9.59 1.41.59.51 0 1.02-.2 1.41-.59l7.78-7.78 2.81-2.81c.8-.78.8-2.07 0-2.86zM5.41 20L4 18.59l7.72-7.72 1.47 1.35L5.41 20z\"/>\n",
              "  </svg>\n",
              "      </button>\n",
              "      \n",
              "  <style>\n",
              "    .colab-df-container {\n",
              "      display:flex;\n",
              "      flex-wrap:wrap;\n",
              "      gap: 12px;\n",
              "    }\n",
              "\n",
              "    .colab-df-convert {\n",
              "      background-color: #E8F0FE;\n",
              "      border: none;\n",
              "      border-radius: 50%;\n",
              "      cursor: pointer;\n",
              "      display: none;\n",
              "      fill: #1967D2;\n",
              "      height: 32px;\n",
              "      padding: 0 0 0 0;\n",
              "      width: 32px;\n",
              "    }\n",
              "\n",
              "    .colab-df-convert:hover {\n",
              "      background-color: #E2EBFA;\n",
              "      box-shadow: 0px 1px 2px rgba(60, 64, 67, 0.3), 0px 1px 3px 1px rgba(60, 64, 67, 0.15);\n",
              "      fill: #174EA6;\n",
              "    }\n",
              "\n",
              "    [theme=dark] .colab-df-convert {\n",
              "      background-color: #3B4455;\n",
              "      fill: #D2E3FC;\n",
              "    }\n",
              "\n",
              "    [theme=dark] .colab-df-convert:hover {\n",
              "      background-color: #434B5C;\n",
              "      box-shadow: 0px 1px 3px 1px rgba(0, 0, 0, 0.15);\n",
              "      filter: drop-shadow(0px 1px 2px rgba(0, 0, 0, 0.3));\n",
              "      fill: #FFFFFF;\n",
              "    }\n",
              "  </style>\n",
              "\n",
              "      <script>\n",
              "        const buttonEl =\n",
              "          document.querySelector('#df-e640de1d-9b70-4315-a19e-554667bf353d button.colab-df-convert');\n",
              "        buttonEl.style.display =\n",
              "          google.colab.kernel.accessAllowed ? 'block' : 'none';\n",
              "\n",
              "        async function convertToInteractive(key) {\n",
              "          const element = document.querySelector('#df-e640de1d-9b70-4315-a19e-554667bf353d');\n",
              "          const dataTable =\n",
              "            await google.colab.kernel.invokeFunction('convertToInteractive',\n",
              "                                                     [key], {});\n",
              "          if (!dataTable) return;\n",
              "\n",
              "          const docLinkHtml = 'Like what you see? Visit the ' +\n",
              "            '<a target=\"_blank\" href=https://colab.research.google.com/notebooks/data_table.ipynb>data table notebook</a>'\n",
              "            + ' to learn more about interactive tables.';\n",
              "          element.innerHTML = '';\n",
              "          dataTable['output_type'] = 'display_data';\n",
              "          await google.colab.output.renderOutput(dataTable, element);\n",
              "          const docLink = document.createElement('div');\n",
              "          docLink.innerHTML = docLinkHtml;\n",
              "          element.appendChild(docLink);\n",
              "        }\n",
              "      </script>\n",
              "    </div>\n",
              "  </div>\n",
              "  "
            ]
          },
          "metadata": {},
          "execution_count": 21
        }
      ]
    },
    {
      "cell_type": "markdown",
      "source": [
        " ## **<font color=\"DeepPink\">Pickle</font>**"
      ],
      "metadata": {
        "id": "nV1CPktRL0QR"
      }
    },
    {
      "cell_type": "code",
      "source": [
        "subsidios1.to_pickle(\"subsidios.pkl\")"
      ],
      "metadata": {
        "id": "fbIduEarKcQR"
      },
      "execution_count": null,
      "outputs": []
    },
    {
      "cell_type": "markdown",
      "source": [
        " ## **<font color=\"DeepPink\">Parquet</font>**"
      ],
      "metadata": {
        "id": "vbcU5iJMLH60"
      }
    },
    {
      "cell_type": "code",
      "source": [
        "subsidios1.to_parquet(\"subsidios.parquet\")"
      ],
      "metadata": {
        "id": "rjIZhSE9LNgb"
      },
      "execution_count": null,
      "outputs": []
    },
    {
      "cell_type": "markdown",
      "source": [
        " # **<font color=\"DeepPink\">Otros formatos</font>**"
      ],
      "metadata": {
        "id": "YT4PP-TqOARz"
      }
    },
    {
      "cell_type": "markdown",
      "source": [
        " ## **<font color=\"DeepPink\">Json</font>**"
      ],
      "metadata": {
        "id": "jkyS7vS1OI9n"
      }
    },
    {
      "cell_type": "code",
      "source": [
        "subsidios1.to_json(\"subsidios.json\")"
      ],
      "metadata": {
        "id": "czG1tR0WOOFI"
      },
      "execution_count": null,
      "outputs": []
    },
    {
      "cell_type": "markdown",
      "source": [
        " ## **<font color=\"DeepPink\">Hdf</font>**"
      ],
      "metadata": {
        "id": "GSuWMozBOVcD"
      }
    },
    {
      "cell_type": "code",
      "source": [
        "subsidios1.to_hdf(\"subsidios.h5\", key=\"df\")"
      ],
      "metadata": {
        "id": "-by-3WI7OWaj"
      },
      "execution_count": null,
      "outputs": []
    },
    {
      "cell_type": "markdown",
      "source": [
        "<br>\n",
        "<br>\n",
        "<p align=\"center\"><b>\n",
        "💗\n",
        "<font color=\"DeepPink\">\n",
        "Hemos llegado al final de nuestro colab de Pandas, a seguir codeando...\n",
        "</font>\n",
        "</p>\n"
      ],
      "metadata": {
        "id": "n_yI1tzON1pY"
      }
    }
  ]
}