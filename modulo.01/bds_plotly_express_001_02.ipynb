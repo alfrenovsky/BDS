{
  "nbformat": 4,
  "nbformat_minor": 0,
  "metadata": {
    "colab": {
      "provenance": [],
      "include_colab_link": true
    },
    "kernelspec": {
      "name": "python3",
      "display_name": "Python 3"
    },
    "language_info": {
      "name": "python"
    }
  },
  "cells": [
    {
      "cell_type": "markdown",
      "metadata": {
        "id": "view-in-github",
        "colab_type": "text"
      },
      "source": [
        "<a href=\"https://colab.research.google.com/github/cristiandarioortegayubro/BDS/blob/main/modulo.01/bds_plotly_express_001_02.ipynb\" target=\"_parent\"><img src=\"https://colab.research.google.com/assets/colab-badge.svg\" alt=\"Open In Colab\"/></a>"
      ]
    },
    {
      "cell_type": "markdown",
      "source": [
        "<p align=\"center\">\n",
        "<img src=\"https://github.com/cristiandarioortegayubro/BA/blob/main/plotly.png?raw=true\">\n",
        "</p>\n"
      ],
      "metadata": {
        "id": "XM-hn7ZLmgQc"
      }
    },
    {
      "cell_type": "markdown",
      "source": [
        " # **<font color=\"DeepPink\">Usando plotly, gráficos lineales 📉 </font>**"
      ],
      "metadata": {
        "id": "_o8tuKydjnRZ"
      }
    },
    {
      "cell_type": "markdown",
      "source": [
        "https://plotly.com/graphing-libraries/"
      ],
      "metadata": {
        "id": "ZCHoxizYyOGK"
      }
    },
    {
      "cell_type": "markdown",
      "source": [
        "<p align=\"justify\">\n",
        "La biblioteca gráfica <code>Plotly</code> crea gráficos interactivos con calidad de publicación. Ejemplos de cómo crear gráficos de líneas, diagramas de dispersión, gráficos de área, gráficos de barras, barras de error, diagramas de caja, histogramas, mapas de calor, subgráficos, ejes múltiples, gráficos polares, gráficos de burbujas y todo tipos de gráficos, se desarrollarán a continuación.\n",
        "</p>"
      ],
      "metadata": {
        "id": "nW9lN0L_nFT7"
      }
    },
    {
      "cell_type": "markdown",
      "source": [
        "<p align=\"justify\"> 👀 Por convención, así se importa <code>Plotly</code>:  </p>"
      ],
      "metadata": {
        "id": "riE9ZSRbOdsF"
      }
    },
    {
      "cell_type": "code",
      "source": [
        "import plotly.express as px"
      ],
      "metadata": {
        "id": "dQtWrchXqRb3"
      },
      "execution_count": null,
      "outputs": []
    },
    {
      "cell_type": "markdown",
      "source": [
        "<p align=\"justify\">\n",
        "Para poder graficar, vamos a utilizar un conjunto de datos correspondientes a un Fondo Común de Inversión</p>"
      ],
      "metadata": {
        "id": "ZLbvKn-mBkUY"
      }
    },
    {
      "cell_type": "code",
      "source": [
        "import pandas as pd\n",
        "fci = pd.read_csv(\"https://raw.githubusercontent.com/cristiandarioortegayubro/BDS/main/datasets/fci.csv\")\n",
        "fci.Fecha = pd.to_datetime(fci.Fecha,infer_datetime_format=True)\n",
        "fci = fci.round(2)\n",
        "fci.info()\n"
      ],
      "metadata": {
        "colab": {
          "base_uri": "https://localhost:8080/"
        },
        "id": "oTDFQjO9jy8m",
        "outputId": "7d32e83c-cad0-4251-c40f-1ecffa353ee6"
      },
      "execution_count": null,
      "outputs": [
        {
          "output_type": "stream",
          "name": "stdout",
          "text": [
            "<class 'pandas.core.frame.DataFrame'>\n",
            "RangeIndex: 20 entries, 0 to 19\n",
            "Data columns (total 5 columns):\n",
            " #   Column              Non-Null Count  Dtype         \n",
            "---  ------              --------------  -----         \n",
            " 0   Fecha               20 non-null     datetime64[ns]\n",
            " 1   Concepto            20 non-null     object        \n",
            " 2   Valor_de_Cuota      20 non-null     float64       \n",
            " 3   Cantidad_de_Cuotas  20 non-null     float64       \n",
            " 4   Monto               20 non-null     float64       \n",
            "dtypes: datetime64[ns](1), float64(3), object(1)\n",
            "memory usage: 928.0+ bytes\n"
          ]
        }
      ]
    },
    {
      "cell_type": "markdown",
      "source": [
        " # **<font color=\"DeepPink\">Seguimos con los gráficos lineales</font>**"
      ],
      "metadata": {
        "id": "Y7LDCZ14PIKr"
      }
    },
    {
      "cell_type": "markdown",
      "source": [
        "<p align=\"justify\">\n",
        "👀 Con <code>px.line()</code> cada punto de datos se representa como coordenadas (cuya ubicación proviene de la columna $x$ y la columna $y$) generando una línea que une esas coordenadas, en un espacio bidimensional.<br><br> Antes de graficar, vemos los datos de un fondo común de inversión, filtrando por los rescates y las suscripciones:</p>"
      ],
      "metadata": {
        "id": "YicJtxU_PTMu"
      }
    },
    {
      "cell_type": "code",
      "source": [
        "fci.query(\"Concepto == 'Rescate'\").head()"
      ],
      "metadata": {
        "id": "fq0JZkF1jy1j",
        "colab": {
          "base_uri": "https://localhost:8080/",
          "height": 221
        },
        "outputId": "22615df8-2eb6-4a17-af74-29281b0f33f3"
      },
      "execution_count": null,
      "outputs": [
        {
          "output_type": "execute_result",
          "data": {
            "text/plain": [
              "       Fecha Concepto  Valor_de_Cuota  Cantidad_de_Cuotas      Monto\n",
              "1 2022-01-24  Rescate           10.40          -480710.76  5000000.0\n",
              "2 2022-01-25  Rescate           10.41          -480399.51  5000000.0\n",
              "3 2022-01-27  Rescate           10.39          -481340.82  5000000.0\n",
              "4 2022-01-31  Rescate           10.45          -478645.06  5000000.0\n",
              "5 2022-02-01  Rescate           10.42          -479656.11  5000000.0"
            ],
            "text/html": [
              "\n",
              "  <div id=\"df-9aec8d9c-f0d1-47f4-87a6-8d0e83240997\">\n",
              "    <div class=\"colab-df-container\">\n",
              "      <div>\n",
              "<style scoped>\n",
              "    .dataframe tbody tr th:only-of-type {\n",
              "        vertical-align: middle;\n",
              "    }\n",
              "\n",
              "    .dataframe tbody tr th {\n",
              "        vertical-align: top;\n",
              "    }\n",
              "\n",
              "    .dataframe thead th {\n",
              "        text-align: right;\n",
              "    }\n",
              "</style>\n",
              "<table border=\"1\" class=\"dataframe\">\n",
              "  <thead>\n",
              "    <tr style=\"text-align: right;\">\n",
              "      <th></th>\n",
              "      <th>Fecha</th>\n",
              "      <th>Concepto</th>\n",
              "      <th>Valor_de_Cuota</th>\n",
              "      <th>Cantidad_de_Cuotas</th>\n",
              "      <th>Monto</th>\n",
              "    </tr>\n",
              "  </thead>\n",
              "  <tbody>\n",
              "    <tr>\n",
              "      <th>1</th>\n",
              "      <td>2022-01-24</td>\n",
              "      <td>Rescate</td>\n",
              "      <td>10.40</td>\n",
              "      <td>-480710.76</td>\n",
              "      <td>5000000.0</td>\n",
              "    </tr>\n",
              "    <tr>\n",
              "      <th>2</th>\n",
              "      <td>2022-01-25</td>\n",
              "      <td>Rescate</td>\n",
              "      <td>10.41</td>\n",
              "      <td>-480399.51</td>\n",
              "      <td>5000000.0</td>\n",
              "    </tr>\n",
              "    <tr>\n",
              "      <th>3</th>\n",
              "      <td>2022-01-27</td>\n",
              "      <td>Rescate</td>\n",
              "      <td>10.39</td>\n",
              "      <td>-481340.82</td>\n",
              "      <td>5000000.0</td>\n",
              "    </tr>\n",
              "    <tr>\n",
              "      <th>4</th>\n",
              "      <td>2022-01-31</td>\n",
              "      <td>Rescate</td>\n",
              "      <td>10.45</td>\n",
              "      <td>-478645.06</td>\n",
              "      <td>5000000.0</td>\n",
              "    </tr>\n",
              "    <tr>\n",
              "      <th>5</th>\n",
              "      <td>2022-02-01</td>\n",
              "      <td>Rescate</td>\n",
              "      <td>10.42</td>\n",
              "      <td>-479656.11</td>\n",
              "      <td>5000000.0</td>\n",
              "    </tr>\n",
              "  </tbody>\n",
              "</table>\n",
              "</div>\n",
              "      <button class=\"colab-df-convert\" onclick=\"convertToInteractive('df-9aec8d9c-f0d1-47f4-87a6-8d0e83240997')\"\n",
              "              title=\"Convert this dataframe to an interactive table.\"\n",
              "              style=\"display:none;\">\n",
              "        \n",
              "  <svg xmlns=\"http://www.w3.org/2000/svg\" height=\"24px\"viewBox=\"0 0 24 24\"\n",
              "       width=\"24px\">\n",
              "    <path d=\"M0 0h24v24H0V0z\" fill=\"none\"/>\n",
              "    <path d=\"M18.56 5.44l.94 2.06.94-2.06 2.06-.94-2.06-.94-.94-2.06-.94 2.06-2.06.94zm-11 1L8.5 8.5l.94-2.06 2.06-.94-2.06-.94L8.5 2.5l-.94 2.06-2.06.94zm10 10l.94 2.06.94-2.06 2.06-.94-2.06-.94-.94-2.06-.94 2.06-2.06.94z\"/><path d=\"M17.41 7.96l-1.37-1.37c-.4-.4-.92-.59-1.43-.59-.52 0-1.04.2-1.43.59L10.3 9.45l-7.72 7.72c-.78.78-.78 2.05 0 2.83L4 21.41c.39.39.9.59 1.41.59.51 0 1.02-.2 1.41-.59l7.78-7.78 2.81-2.81c.8-.78.8-2.07 0-2.86zM5.41 20L4 18.59l7.72-7.72 1.47 1.35L5.41 20z\"/>\n",
              "  </svg>\n",
              "      </button>\n",
              "      \n",
              "  <style>\n",
              "    .colab-df-container {\n",
              "      display:flex;\n",
              "      flex-wrap:wrap;\n",
              "      gap: 12px;\n",
              "    }\n",
              "\n",
              "    .colab-df-convert {\n",
              "      background-color: #E8F0FE;\n",
              "      border: none;\n",
              "      border-radius: 50%;\n",
              "      cursor: pointer;\n",
              "      display: none;\n",
              "      fill: #1967D2;\n",
              "      height: 32px;\n",
              "      padding: 0 0 0 0;\n",
              "      width: 32px;\n",
              "    }\n",
              "\n",
              "    .colab-df-convert:hover {\n",
              "      background-color: #E2EBFA;\n",
              "      box-shadow: 0px 1px 2px rgba(60, 64, 67, 0.3), 0px 1px 3px 1px rgba(60, 64, 67, 0.15);\n",
              "      fill: #174EA6;\n",
              "    }\n",
              "\n",
              "    [theme=dark] .colab-df-convert {\n",
              "      background-color: #3B4455;\n",
              "      fill: #D2E3FC;\n",
              "    }\n",
              "\n",
              "    [theme=dark] .colab-df-convert:hover {\n",
              "      background-color: #434B5C;\n",
              "      box-shadow: 0px 1px 3px 1px rgba(0, 0, 0, 0.15);\n",
              "      filter: drop-shadow(0px 1px 2px rgba(0, 0, 0, 0.3));\n",
              "      fill: #FFFFFF;\n",
              "    }\n",
              "  </style>\n",
              "\n",
              "      <script>\n",
              "        const buttonEl =\n",
              "          document.querySelector('#df-9aec8d9c-f0d1-47f4-87a6-8d0e83240997 button.colab-df-convert');\n",
              "        buttonEl.style.display =\n",
              "          google.colab.kernel.accessAllowed ? 'block' : 'none';\n",
              "\n",
              "        async function convertToInteractive(key) {\n",
              "          const element = document.querySelector('#df-9aec8d9c-f0d1-47f4-87a6-8d0e83240997');\n",
              "          const dataTable =\n",
              "            await google.colab.kernel.invokeFunction('convertToInteractive',\n",
              "                                                     [key], {});\n",
              "          if (!dataTable) return;\n",
              "\n",
              "          const docLinkHtml = 'Like what you see? Visit the ' +\n",
              "            '<a target=\"_blank\" href=https://colab.research.google.com/notebooks/data_table.ipynb>data table notebook</a>'\n",
              "            + ' to learn more about interactive tables.';\n",
              "          element.innerHTML = '';\n",
              "          dataTable['output_type'] = 'display_data';\n",
              "          await google.colab.output.renderOutput(dataTable, element);\n",
              "          const docLink = document.createElement('div');\n",
              "          docLink.innerHTML = docLinkHtml;\n",
              "          element.appendChild(docLink);\n",
              "        }\n",
              "      </script>\n",
              "    </div>\n",
              "  </div>\n",
              "  "
            ]
          },
          "metadata": {},
          "execution_count": 3
        }
      ]
    },
    {
      "cell_type": "code",
      "source": [
        "fci.query(\"Concepto == 'Suscripción'\").head()"
      ],
      "metadata": {
        "colab": {
          "base_uri": "https://localhost:8080/",
          "height": 221
        },
        "id": "nrLLjAZlU51K",
        "outputId": "5f7b0035-61b8-4b41-bef9-695c5fab63f3"
      },
      "execution_count": null,
      "outputs": [
        {
          "output_type": "execute_result",
          "data": {
            "text/plain": [
              "        Fecha     Concepto  Valor_de_Cuota  Cantidad_de_Cuotas       Monto\n",
              "6  2022-02-03  Suscripción           10.49          1792403.45  18800000.0\n",
              "12 2022-02-24  Suscripción           10.64          2630438.02  28000000.0\n",
              "14 2022-03-14  Suscripción           11.02          1351703.31  14900000.0\n",
              "15 2022-03-17  Suscripción           11.13          1338712.38  14900000.0\n",
              "16 2022-03-21  Suscripción           11.27          1055752.05  11900000.0"
            ],
            "text/html": [
              "\n",
              "  <div id=\"df-22aecb61-64e8-44f0-bf72-0c268f0fbbb2\">\n",
              "    <div class=\"colab-df-container\">\n",
              "      <div>\n",
              "<style scoped>\n",
              "    .dataframe tbody tr th:only-of-type {\n",
              "        vertical-align: middle;\n",
              "    }\n",
              "\n",
              "    .dataframe tbody tr th {\n",
              "        vertical-align: top;\n",
              "    }\n",
              "\n",
              "    .dataframe thead th {\n",
              "        text-align: right;\n",
              "    }\n",
              "</style>\n",
              "<table border=\"1\" class=\"dataframe\">\n",
              "  <thead>\n",
              "    <tr style=\"text-align: right;\">\n",
              "      <th></th>\n",
              "      <th>Fecha</th>\n",
              "      <th>Concepto</th>\n",
              "      <th>Valor_de_Cuota</th>\n",
              "      <th>Cantidad_de_Cuotas</th>\n",
              "      <th>Monto</th>\n",
              "    </tr>\n",
              "  </thead>\n",
              "  <tbody>\n",
              "    <tr>\n",
              "      <th>6</th>\n",
              "      <td>2022-02-03</td>\n",
              "      <td>Suscripción</td>\n",
              "      <td>10.49</td>\n",
              "      <td>1792403.45</td>\n",
              "      <td>18800000.0</td>\n",
              "    </tr>\n",
              "    <tr>\n",
              "      <th>12</th>\n",
              "      <td>2022-02-24</td>\n",
              "      <td>Suscripción</td>\n",
              "      <td>10.64</td>\n",
              "      <td>2630438.02</td>\n",
              "      <td>28000000.0</td>\n",
              "    </tr>\n",
              "    <tr>\n",
              "      <th>14</th>\n",
              "      <td>2022-03-14</td>\n",
              "      <td>Suscripción</td>\n",
              "      <td>11.02</td>\n",
              "      <td>1351703.31</td>\n",
              "      <td>14900000.0</td>\n",
              "    </tr>\n",
              "    <tr>\n",
              "      <th>15</th>\n",
              "      <td>2022-03-17</td>\n",
              "      <td>Suscripción</td>\n",
              "      <td>11.13</td>\n",
              "      <td>1338712.38</td>\n",
              "      <td>14900000.0</td>\n",
              "    </tr>\n",
              "    <tr>\n",
              "      <th>16</th>\n",
              "      <td>2022-03-21</td>\n",
              "      <td>Suscripción</td>\n",
              "      <td>11.27</td>\n",
              "      <td>1055752.05</td>\n",
              "      <td>11900000.0</td>\n",
              "    </tr>\n",
              "  </tbody>\n",
              "</table>\n",
              "</div>\n",
              "      <button class=\"colab-df-convert\" onclick=\"convertToInteractive('df-22aecb61-64e8-44f0-bf72-0c268f0fbbb2')\"\n",
              "              title=\"Convert this dataframe to an interactive table.\"\n",
              "              style=\"display:none;\">\n",
              "        \n",
              "  <svg xmlns=\"http://www.w3.org/2000/svg\" height=\"24px\"viewBox=\"0 0 24 24\"\n",
              "       width=\"24px\">\n",
              "    <path d=\"M0 0h24v24H0V0z\" fill=\"none\"/>\n",
              "    <path d=\"M18.56 5.44l.94 2.06.94-2.06 2.06-.94-2.06-.94-.94-2.06-.94 2.06-2.06.94zm-11 1L8.5 8.5l.94-2.06 2.06-.94-2.06-.94L8.5 2.5l-.94 2.06-2.06.94zm10 10l.94 2.06.94-2.06 2.06-.94-2.06-.94-.94-2.06-.94 2.06-2.06.94z\"/><path d=\"M17.41 7.96l-1.37-1.37c-.4-.4-.92-.59-1.43-.59-.52 0-1.04.2-1.43.59L10.3 9.45l-7.72 7.72c-.78.78-.78 2.05 0 2.83L4 21.41c.39.39.9.59 1.41.59.51 0 1.02-.2 1.41-.59l7.78-7.78 2.81-2.81c.8-.78.8-2.07 0-2.86zM5.41 20L4 18.59l7.72-7.72 1.47 1.35L5.41 20z\"/>\n",
              "  </svg>\n",
              "      </button>\n",
              "      \n",
              "  <style>\n",
              "    .colab-df-container {\n",
              "      display:flex;\n",
              "      flex-wrap:wrap;\n",
              "      gap: 12px;\n",
              "    }\n",
              "\n",
              "    .colab-df-convert {\n",
              "      background-color: #E8F0FE;\n",
              "      border: none;\n",
              "      border-radius: 50%;\n",
              "      cursor: pointer;\n",
              "      display: none;\n",
              "      fill: #1967D2;\n",
              "      height: 32px;\n",
              "      padding: 0 0 0 0;\n",
              "      width: 32px;\n",
              "    }\n",
              "\n",
              "    .colab-df-convert:hover {\n",
              "      background-color: #E2EBFA;\n",
              "      box-shadow: 0px 1px 2px rgba(60, 64, 67, 0.3), 0px 1px 3px 1px rgba(60, 64, 67, 0.15);\n",
              "      fill: #174EA6;\n",
              "    }\n",
              "\n",
              "    [theme=dark] .colab-df-convert {\n",
              "      background-color: #3B4455;\n",
              "      fill: #D2E3FC;\n",
              "    }\n",
              "\n",
              "    [theme=dark] .colab-df-convert:hover {\n",
              "      background-color: #434B5C;\n",
              "      box-shadow: 0px 1px 3px 1px rgba(0, 0, 0, 0.15);\n",
              "      filter: drop-shadow(0px 1px 2px rgba(0, 0, 0, 0.3));\n",
              "      fill: #FFFFFF;\n",
              "    }\n",
              "  </style>\n",
              "\n",
              "      <script>\n",
              "        const buttonEl =\n",
              "          document.querySelector('#df-22aecb61-64e8-44f0-bf72-0c268f0fbbb2 button.colab-df-convert');\n",
              "        buttonEl.style.display =\n",
              "          google.colab.kernel.accessAllowed ? 'block' : 'none';\n",
              "\n",
              "        async function convertToInteractive(key) {\n",
              "          const element = document.querySelector('#df-22aecb61-64e8-44f0-bf72-0c268f0fbbb2');\n",
              "          const dataTable =\n",
              "            await google.colab.kernel.invokeFunction('convertToInteractive',\n",
              "                                                     [key], {});\n",
              "          if (!dataTable) return;\n",
              "\n",
              "          const docLinkHtml = 'Like what you see? Visit the ' +\n",
              "            '<a target=\"_blank\" href=https://colab.research.google.com/notebooks/data_table.ipynb>data table notebook</a>'\n",
              "            + ' to learn more about interactive tables.';\n",
              "          element.innerHTML = '';\n",
              "          dataTable['output_type'] = 'display_data';\n",
              "          await google.colab.output.renderOutput(dataTable, element);\n",
              "          const docLink = document.createElement('div');\n",
              "          docLink.innerHTML = docLinkHtml;\n",
              "          element.appendChild(docLink);\n",
              "        }\n",
              "      </script>\n",
              "    </div>\n",
              "  </div>\n",
              "  "
            ]
          },
          "metadata": {},
          "execution_count": 4
        }
      ]
    },
    {
      "cell_type": "markdown",
      "source": [
        "<p align=\"justify\">\n",
        "Entonces los gráficos líneales de <code>Plotly</code> se implementan como diagramas de dispersión conectados, lo que significa que los puntos se trazan y se conectan con líneas en el orden en que se proporcionan, sin reordenación automática.<br><br>Esto hace posible hacer gráficos como el siguiente (el que se encuentra ordenado por fechas), pero también significa que puede ser necesario ordenar explícitamente los datos antes de graficarlos para evitar que las líneas se muevan \"hacia atrás\" a través del gráfico.\n",
        "</p>\n",
        "\n"
      ],
      "metadata": {
        "id": "elNL55hvKSeL"
      }
    },
    {
      "cell_type": "markdown",
      "source": [
        "<p align=\"justify\">\n",
        "👀 En el siguiente gráfico, usamos algunos parámetros, tales como:</p>\n",
        "\n",
        "- el dataframe.\n",
        "- la serie asignada a $x$ (tambien puede ser una lista de series).\n",
        "- la serie asignada a $y$.\n",
        "- el título del gráfico.\n",
        "- el template utilizado.\n",
        "- los marcadores sobre la línea.\n",
        "- y los labels (para cambiar los nombres de las etiquetas)."
      ],
      "metadata": {
        "id": "Y526RTaTjcYv"
      }
    },
    {
      "cell_type": "code",
      "source": [
        "fig = px.line(fci.query(\"Concepto =='Rescate'\"),\n",
        "              x=\"Fecha\",\n",
        "              y=\"Valor_de_Cuota\",\n",
        "              title='Fondo Común de Inversión',\n",
        "              template=\"gridon\",\n",
        "              markers=True,\n",
        "              labels={\"Valor_de_Cuota\":\"Valor de Cuota\"})\n",
        "fig.show()"
      ],
      "metadata": {
        "id": "DlRNcxTZqRQN",
        "colab": {
          "base_uri": "https://localhost:8080/",
          "height": 562
        },
        "outputId": "f465aaa0-4072-4d62-9538-a830dcbab311"
      },
      "execution_count": null,
      "outputs": [
        {
          "output_type": "display_data",
          "data": {
            "text/html": [
              "<html>\n",
              "<head><meta charset=\"utf-8\" /></head>\n",
              "<body>\n",
              "    <div>            <script src=\"https://cdnjs.cloudflare.com/ajax/libs/mathjax/2.7.5/MathJax.js?config=TeX-AMS-MML_SVG\"></script><script type=\"text/javascript\">if (window.MathJax && window.MathJax.Hub && window.MathJax.Hub.Config) {window.MathJax.Hub.Config({SVG: {font: \"STIX-Web\"}});}</script>                <script type=\"text/javascript\">window.PlotlyConfig = {MathJaxConfig: 'local'};</script>\n",
              "        <script src=\"https://cdn.plot.ly/plotly-2.18.2.min.js\"></script>                <div id=\"968cb0b2-2046-4fb8-8cda-66c22a3b5e62\" class=\"plotly-graph-div\" style=\"height:525px; width:100%;\"></div>            <script type=\"text/javascript\">                                    window.PLOTLYENV=window.PLOTLYENV || {};                                    if (document.getElementById(\"968cb0b2-2046-4fb8-8cda-66c22a3b5e62\")) {                    Plotly.newPlot(                        \"968cb0b2-2046-4fb8-8cda-66c22a3b5e62\",                        [{\"hovertemplate\":\"Fecha=%{x}<br>Valor de Cuota=%{y}<extra></extra>\",\"legendgroup\":\"\",\"line\":{\"color\":\"#1F77B4\",\"dash\":\"solid\"},\"marker\":{\"symbol\":\"circle\"},\"mode\":\"lines+markers\",\"name\":\"\",\"orientation\":\"v\",\"showlegend\":false,\"x\":[\"2022-01-24T00:00:00\",\"2022-01-25T00:00:00\",\"2022-01-27T00:00:00\",\"2022-01-31T00:00:00\",\"2022-02-01T00:00:00\",\"2022-02-07T00:00:00\",\"2022-02-09T00:00:00\",\"2022-02-16T00:00:00\",\"2022-02-17T00:00:00\",\"2022-02-23T00:00:00\",\"2022-03-03T00:00:00\",\"2022-03-22T00:00:00\",\"2022-03-23T00:00:00\"],\"xaxis\":\"x\",\"y\":[10.4,10.41,10.39,10.45,10.42,10.55,10.53,10.6,10.59,10.63,10.88,11.31,11.31],\"yaxis\":\"y\",\"type\":\"scatter\"}],                        {\"template\":{\"data\":{\"pie\":[{\"automargin\":true,\"type\":\"pie\"}]},\"layout\":{\"xaxis\":{\"showgrid\":true,\"title\":{\"standoff\":15}},\"yaxis\":{\"showgrid\":true,\"title\":{\"standoff\":15}}}},\"xaxis\":{\"anchor\":\"y\",\"domain\":[0.0,1.0],\"title\":{\"text\":\"Fecha\"}},\"yaxis\":{\"anchor\":\"x\",\"domain\":[0.0,1.0],\"title\":{\"text\":\"Valor de Cuota\"}},\"legend\":{\"tracegroupgap\":0},\"title\":{\"text\":\"Fondo Com\\u00fan de Inversi\\u00f3n\"}},                        {\"responsive\": true}                    ).then(function(){\n",
              "                            \n",
              "var gd = document.getElementById('968cb0b2-2046-4fb8-8cda-66c22a3b5e62');\n",
              "var x = new MutationObserver(function (mutations, observer) {{\n",
              "        var display = window.getComputedStyle(gd).display;\n",
              "        if (!display || display === 'none') {{\n",
              "            console.log([gd, 'removed!']);\n",
              "            Plotly.purge(gd);\n",
              "            observer.disconnect();\n",
              "        }}\n",
              "}});\n",
              "\n",
              "// Listen for the removal of the full notebook cells\n",
              "var notebookContainer = gd.closest('#notebook-container');\n",
              "if (notebookContainer) {{\n",
              "    x.observe(notebookContainer, {childList: true});\n",
              "}}\n",
              "\n",
              "// Listen for the clearing of the current output cell\n",
              "var outputEl = gd.closest('.output');\n",
              "if (outputEl) {{\n",
              "    x.observe(outputEl, {childList: true});\n",
              "}}\n",
              "\n",
              "                        })                };                            </script>        </div>\n",
              "</body>\n",
              "</html>"
            ]
          },
          "metadata": {}
        }
      ]
    },
    {
      "cell_type": "markdown",
      "source": [
        "<p align=\"justify\">\n",
        "👀 En el siguiente gráfico es lo mismo, pero se aplica otro filtro, para visualizar solo las suscripciones. Interesante destacar que se puede colocar dentro del parametro dataframe, un filtro del mismo.</p>\n"
      ],
      "metadata": {
        "id": "5cKuj7uZkRkB"
      }
    },
    {
      "cell_type": "code",
      "source": [
        "fig = px.line(fci.query(\"Concepto =='Suscripción'\"),\n",
        "              x=\"Fecha\",\n",
        "              y=\"Valor_de_Cuota\",\n",
        "              title='Fondo Común de Inversión',\n",
        "              template=\"gridon\",\n",
        "              markers=True,\n",
        "              labels={\"Valor_de_Cuota\":\"Valor de Cuota\"})\n",
        "fig.show()"
      ],
      "metadata": {
        "colab": {
          "base_uri": "https://localhost:8080/",
          "height": 562
        },
        "id": "3Vj-6f2hUxMT",
        "outputId": "d96e0b76-0ae6-470e-cfc2-86fa496047cf"
      },
      "execution_count": null,
      "outputs": [
        {
          "output_type": "display_data",
          "data": {
            "text/html": [
              "<html>\n",
              "<head><meta charset=\"utf-8\" /></head>\n",
              "<body>\n",
              "    <div>            <script src=\"https://cdnjs.cloudflare.com/ajax/libs/mathjax/2.7.5/MathJax.js?config=TeX-AMS-MML_SVG\"></script><script type=\"text/javascript\">if (window.MathJax && window.MathJax.Hub && window.MathJax.Hub.Config) {window.MathJax.Hub.Config({SVG: {font: \"STIX-Web\"}});}</script>                <script type=\"text/javascript\">window.PlotlyConfig = {MathJaxConfig: 'local'};</script>\n",
              "        <script src=\"https://cdn.plot.ly/plotly-2.18.2.min.js\"></script>                <div id=\"49129e66-d9a7-4904-9637-e5e0c2b9617c\" class=\"plotly-graph-div\" style=\"height:525px; width:100%;\"></div>            <script type=\"text/javascript\">                                    window.PLOTLYENV=window.PLOTLYENV || {};                                    if (document.getElementById(\"49129e66-d9a7-4904-9637-e5e0c2b9617c\")) {                    Plotly.newPlot(                        \"49129e66-d9a7-4904-9637-e5e0c2b9617c\",                        [{\"hovertemplate\":\"Fecha=%{x}<br>Valor de Cuota=%{y}<extra></extra>\",\"legendgroup\":\"\",\"line\":{\"color\":\"#1F77B4\",\"dash\":\"solid\"},\"marker\":{\"symbol\":\"circle\"},\"mode\":\"lines+markers\",\"name\":\"\",\"orientation\":\"v\",\"showlegend\":false,\"x\":[\"2022-02-03T00:00:00\",\"2022-02-24T00:00:00\",\"2022-03-14T00:00:00\",\"2022-03-17T00:00:00\",\"2022-03-21T00:00:00\",\"2022-03-22T00:00:00\"],\"xaxis\":\"x\",\"y\":[10.49,10.64,11.02,11.13,11.27,11.31],\"yaxis\":\"y\",\"type\":\"scatter\"}],                        {\"template\":{\"data\":{\"pie\":[{\"automargin\":true,\"type\":\"pie\"}]},\"layout\":{\"xaxis\":{\"showgrid\":true,\"title\":{\"standoff\":15}},\"yaxis\":{\"showgrid\":true,\"title\":{\"standoff\":15}}}},\"xaxis\":{\"anchor\":\"y\",\"domain\":[0.0,1.0],\"title\":{\"text\":\"Fecha\"}},\"yaxis\":{\"anchor\":\"x\",\"domain\":[0.0,1.0],\"title\":{\"text\":\"Valor de Cuota\"}},\"legend\":{\"tracegroupgap\":0},\"title\":{\"text\":\"Fondo Com\\u00fan de Inversi\\u00f3n\"}},                        {\"responsive\": true}                    ).then(function(){\n",
              "                            \n",
              "var gd = document.getElementById('49129e66-d9a7-4904-9637-e5e0c2b9617c');\n",
              "var x = new MutationObserver(function (mutations, observer) {{\n",
              "        var display = window.getComputedStyle(gd).display;\n",
              "        if (!display || display === 'none') {{\n",
              "            console.log([gd, 'removed!']);\n",
              "            Plotly.purge(gd);\n",
              "            observer.disconnect();\n",
              "        }}\n",
              "}});\n",
              "\n",
              "// Listen for the removal of the full notebook cells\n",
              "var notebookContainer = gd.closest('#notebook-container');\n",
              "if (notebookContainer) {{\n",
              "    x.observe(notebookContainer, {childList: true});\n",
              "}}\n",
              "\n",
              "// Listen for the clearing of the current output cell\n",
              "var outputEl = gd.closest('.output');\n",
              "if (outputEl) {{\n",
              "    x.observe(outputEl, {childList: true});\n",
              "}}\n",
              "\n",
              "                        })                };                            </script>        </div>\n",
              "</body>\n",
              "</html>"
            ]
          },
          "metadata": {}
        }
      ]
    },
    {
      "cell_type": "markdown",
      "source": [
        "<p align=\"justify\">\n",
        "👀 En el siguiente gráfico excluye uno de los valores de la serie <code>Concepto</code>, y agrega un parametro denominado <code>color</code>, que incorpora una variable más a nuestro gráfico.</p>\n"
      ],
      "metadata": {
        "id": "IlNYsnpbkp6U"
      }
    },
    {
      "cell_type": "code",
      "source": [
        "px.line(fci.query(\"Concepto !='Saldo Anterior'\"),\n",
        "        x=\"Fecha\",\n",
        "        y=\"Valor_de_Cuota\",\n",
        "        color=\"Concepto\",\n",
        "        title='Fondo Común de Inversión',\n",
        "        template=\"gridon\",\n",
        "        markers=True,\n",
        "        labels={\"Valor_de_Cuota\":\"Valor de Cuota\"})"
      ],
      "metadata": {
        "id": "03lXteJQGFE2",
        "colab": {
          "base_uri": "https://localhost:8080/",
          "height": 562
        },
        "outputId": "024f0d4a-6090-478a-bd22-915c2491b209"
      },
      "execution_count": null,
      "outputs": [
        {
          "output_type": "display_data",
          "data": {
            "text/html": [
              "<html>\n",
              "<head><meta charset=\"utf-8\" /></head>\n",
              "<body>\n",
              "    <div>            <script src=\"https://cdnjs.cloudflare.com/ajax/libs/mathjax/2.7.5/MathJax.js?config=TeX-AMS-MML_SVG\"></script><script type=\"text/javascript\">if (window.MathJax && window.MathJax.Hub && window.MathJax.Hub.Config) {window.MathJax.Hub.Config({SVG: {font: \"STIX-Web\"}});}</script>                <script type=\"text/javascript\">window.PlotlyConfig = {MathJaxConfig: 'local'};</script>\n",
              "        <script src=\"https://cdn.plot.ly/plotly-2.18.2.min.js\"></script>                <div id=\"0a4de5a6-b0f3-40dc-baa1-b10856eefb0e\" class=\"plotly-graph-div\" style=\"height:525px; width:100%;\"></div>            <script type=\"text/javascript\">                                    window.PLOTLYENV=window.PLOTLYENV || {};                                    if (document.getElementById(\"0a4de5a6-b0f3-40dc-baa1-b10856eefb0e\")) {                    Plotly.newPlot(                        \"0a4de5a6-b0f3-40dc-baa1-b10856eefb0e\",                        [{\"hovertemplate\":\"Concepto=Rescate<br>Fecha=%{x}<br>Valor de Cuota=%{y}<extra></extra>\",\"legendgroup\":\"Rescate\",\"line\":{\"color\":\"#1F77B4\",\"dash\":\"solid\"},\"marker\":{\"symbol\":\"circle\"},\"mode\":\"lines+markers\",\"name\":\"Rescate\",\"orientation\":\"v\",\"showlegend\":true,\"x\":[\"2022-01-24T00:00:00\",\"2022-01-25T00:00:00\",\"2022-01-27T00:00:00\",\"2022-01-31T00:00:00\",\"2022-02-01T00:00:00\",\"2022-02-07T00:00:00\",\"2022-02-09T00:00:00\",\"2022-02-16T00:00:00\",\"2022-02-17T00:00:00\",\"2022-02-23T00:00:00\",\"2022-03-03T00:00:00\",\"2022-03-22T00:00:00\",\"2022-03-23T00:00:00\"],\"xaxis\":\"x\",\"y\":[10.4,10.41,10.39,10.45,10.42,10.55,10.53,10.6,10.59,10.63,10.88,11.31,11.31],\"yaxis\":\"y\",\"type\":\"scatter\"},{\"hovertemplate\":\"Concepto=Suscripci\\u00f3n<br>Fecha=%{x}<br>Valor de Cuota=%{y}<extra></extra>\",\"legendgroup\":\"Suscripci\\u00f3n\",\"line\":{\"color\":\"#FF7F0E\",\"dash\":\"solid\"},\"marker\":{\"symbol\":\"circle\"},\"mode\":\"lines+markers\",\"name\":\"Suscripci\\u00f3n\",\"orientation\":\"v\",\"showlegend\":true,\"x\":[\"2022-02-03T00:00:00\",\"2022-02-24T00:00:00\",\"2022-03-14T00:00:00\",\"2022-03-17T00:00:00\",\"2022-03-21T00:00:00\",\"2022-03-22T00:00:00\"],\"xaxis\":\"x\",\"y\":[10.49,10.64,11.02,11.13,11.27,11.31],\"yaxis\":\"y\",\"type\":\"scatter\"}],                        {\"template\":{\"data\":{\"pie\":[{\"automargin\":true,\"type\":\"pie\"}]},\"layout\":{\"xaxis\":{\"showgrid\":true,\"title\":{\"standoff\":15}},\"yaxis\":{\"showgrid\":true,\"title\":{\"standoff\":15}}}},\"xaxis\":{\"anchor\":\"y\",\"domain\":[0.0,1.0],\"title\":{\"text\":\"Fecha\"}},\"yaxis\":{\"anchor\":\"x\",\"domain\":[0.0,1.0],\"title\":{\"text\":\"Valor de Cuota\"}},\"legend\":{\"title\":{\"text\":\"Concepto\"},\"tracegroupgap\":0},\"title\":{\"text\":\"Fondo Com\\u00fan de Inversi\\u00f3n\"}},                        {\"responsive\": true}                    ).then(function(){\n",
              "                            \n",
              "var gd = document.getElementById('0a4de5a6-b0f3-40dc-baa1-b10856eefb0e');\n",
              "var x = new MutationObserver(function (mutations, observer) {{\n",
              "        var display = window.getComputedStyle(gd).display;\n",
              "        if (!display || display === 'none') {{\n",
              "            console.log([gd, 'removed!']);\n",
              "            Plotly.purge(gd);\n",
              "            observer.disconnect();\n",
              "        }}\n",
              "}});\n",
              "\n",
              "// Listen for the removal of the full notebook cells\n",
              "var notebookContainer = gd.closest('#notebook-container');\n",
              "if (notebookContainer) {{\n",
              "    x.observe(notebookContainer, {childList: true});\n",
              "}}\n",
              "\n",
              "// Listen for the clearing of the current output cell\n",
              "var outputEl = gd.closest('.output');\n",
              "if (outputEl) {{\n",
              "    x.observe(outputEl, {childList: true});\n",
              "}}\n",
              "\n",
              "                        })                };                            </script>        </div>\n",
              "</body>\n",
              "</html>"
            ]
          },
          "metadata": {}
        }
      ]
    },
    {
      "cell_type": "markdown",
      "source": [
        "<p align=\"justify\">\n",
        "👀 Ahora cambiamos el parametro <code>markers</code> por <code>symbol</code>, que agrega sobre la línea, distintos símbolos donde estaban los marcadores.</p>\n"
      ],
      "metadata": {
        "id": "ewB0WMiblTo5"
      }
    },
    {
      "cell_type": "code",
      "source": [
        "px.line(fci.query(\"Concepto !='Saldo Anterior'\"),\n",
        "        x=\"Fecha\",\n",
        "        y=\"Valor_de_Cuota\",\n",
        "        color=\"Concepto\",\n",
        "        title='Fondo Común de Inversión',\n",
        "        template=\"gridon\",\n",
        "        symbol=\"Concepto\",\n",
        "        labels={\"Valor_de_Cuota\":\"Valor de Cuota\"})"
      ],
      "metadata": {
        "colab": {
          "base_uri": "https://localhost:8080/",
          "height": 562
        },
        "id": "20EOeUx6EKYa",
        "outputId": "8a811f9b-67d7-4c19-c810-42e48e3757d9"
      },
      "execution_count": null,
      "outputs": [
        {
          "output_type": "display_data",
          "data": {
            "text/html": [
              "<html>\n",
              "<head><meta charset=\"utf-8\" /></head>\n",
              "<body>\n",
              "    <div>            <script src=\"https://cdnjs.cloudflare.com/ajax/libs/mathjax/2.7.5/MathJax.js?config=TeX-AMS-MML_SVG\"></script><script type=\"text/javascript\">if (window.MathJax && window.MathJax.Hub && window.MathJax.Hub.Config) {window.MathJax.Hub.Config({SVG: {font: \"STIX-Web\"}});}</script>                <script type=\"text/javascript\">window.PlotlyConfig = {MathJaxConfig: 'local'};</script>\n",
              "        <script src=\"https://cdn.plot.ly/plotly-2.18.2.min.js\"></script>                <div id=\"ea584de2-1a5a-477d-929d-8907da6b1c92\" class=\"plotly-graph-div\" style=\"height:525px; width:100%;\"></div>            <script type=\"text/javascript\">                                    window.PLOTLYENV=window.PLOTLYENV || {};                                    if (document.getElementById(\"ea584de2-1a5a-477d-929d-8907da6b1c92\")) {                    Plotly.newPlot(                        \"ea584de2-1a5a-477d-929d-8907da6b1c92\",                        [{\"hovertemplate\":\"Concepto=Rescate<br>Fecha=%{x}<br>Valor de Cuota=%{y}<extra></extra>\",\"legendgroup\":\"Rescate\",\"line\":{\"color\":\"#1F77B4\",\"dash\":\"solid\"},\"marker\":{\"symbol\":\"circle\"},\"mode\":\"lines+markers\",\"name\":\"Rescate\",\"orientation\":\"v\",\"showlegend\":true,\"x\":[\"2022-01-24T00:00:00\",\"2022-01-25T00:00:00\",\"2022-01-27T00:00:00\",\"2022-01-31T00:00:00\",\"2022-02-01T00:00:00\",\"2022-02-07T00:00:00\",\"2022-02-09T00:00:00\",\"2022-02-16T00:00:00\",\"2022-02-17T00:00:00\",\"2022-02-23T00:00:00\",\"2022-03-03T00:00:00\",\"2022-03-22T00:00:00\",\"2022-03-23T00:00:00\"],\"xaxis\":\"x\",\"y\":[10.4,10.41,10.39,10.45,10.42,10.55,10.53,10.6,10.59,10.63,10.88,11.31,11.31],\"yaxis\":\"y\",\"type\":\"scatter\"},{\"hovertemplate\":\"Concepto=Suscripci\\u00f3n<br>Fecha=%{x}<br>Valor de Cuota=%{y}<extra></extra>\",\"legendgroup\":\"Suscripci\\u00f3n\",\"line\":{\"color\":\"#FF7F0E\",\"dash\":\"solid\"},\"marker\":{\"symbol\":\"diamond\"},\"mode\":\"lines+markers\",\"name\":\"Suscripci\\u00f3n\",\"orientation\":\"v\",\"showlegend\":true,\"x\":[\"2022-02-03T00:00:00\",\"2022-02-24T00:00:00\",\"2022-03-14T00:00:00\",\"2022-03-17T00:00:00\",\"2022-03-21T00:00:00\",\"2022-03-22T00:00:00\"],\"xaxis\":\"x\",\"y\":[10.49,10.64,11.02,11.13,11.27,11.31],\"yaxis\":\"y\",\"type\":\"scatter\"}],                        {\"template\":{\"data\":{\"pie\":[{\"automargin\":true,\"type\":\"pie\"}]},\"layout\":{\"xaxis\":{\"showgrid\":true,\"title\":{\"standoff\":15}},\"yaxis\":{\"showgrid\":true,\"title\":{\"standoff\":15}}}},\"xaxis\":{\"anchor\":\"y\",\"domain\":[0.0,1.0],\"title\":{\"text\":\"Fecha\"}},\"yaxis\":{\"anchor\":\"x\",\"domain\":[0.0,1.0],\"title\":{\"text\":\"Valor de Cuota\"}},\"legend\":{\"title\":{\"text\":\"Concepto\"},\"tracegroupgap\":0},\"title\":{\"text\":\"Fondo Com\\u00fan de Inversi\\u00f3n\"}},                        {\"responsive\": true}                    ).then(function(){\n",
              "                            \n",
              "var gd = document.getElementById('ea584de2-1a5a-477d-929d-8907da6b1c92');\n",
              "var x = new MutationObserver(function (mutations, observer) {{\n",
              "        var display = window.getComputedStyle(gd).display;\n",
              "        if (!display || display === 'none') {{\n",
              "            console.log([gd, 'removed!']);\n",
              "            Plotly.purge(gd);\n",
              "            observer.disconnect();\n",
              "        }}\n",
              "}});\n",
              "\n",
              "// Listen for the removal of the full notebook cells\n",
              "var notebookContainer = gd.closest('#notebook-container');\n",
              "if (notebookContainer) {{\n",
              "    x.observe(notebookContainer, {childList: true});\n",
              "}}\n",
              "\n",
              "// Listen for the clearing of the current output cell\n",
              "var outputEl = gd.closest('.output');\n",
              "if (outputEl) {{\n",
              "    x.observe(outputEl, {childList: true});\n",
              "}}\n",
              "\n",
              "                        })                };                            </script>        </div>\n",
              "</body>\n",
              "</html>"
            ]
          },
          "metadata": {}
        }
      ]
    },
    {
      "cell_type": "markdown",
      "source": [
        "<p align=\"justify\">\n",
        "👀 Optimizando un poco mas el gráfico, utilizamos <code>update_traces</code> para colocar sobre la línea, el valor de cada punto. Hay varias posiciones del texto, en este caso, se establece que los valores se ubican por debajo de los puntos de la línea, y a la derecha.</p>\n"
      ],
      "metadata": {
        "id": "5auLppZnlrez"
      }
    },
    {
      "cell_type": "code",
      "source": [
        "fig = px.line(fci.query(\"Concepto =='Suscripción'\"),\n",
        "              x=\"Fecha\",\n",
        "              y=\"Valor_de_Cuota\",\n",
        "              title='Fondo Común de Inversión',\n",
        "              template=\"gridon\",\n",
        "              markers=True,\n",
        "              labels={\"Valor_de_Cuota\":\"Valor de Cuota\"},\n",
        "              text=\"Valor_de_Cuota\")\n",
        "\n",
        "fig.update_traces(textposition=\"bottom right\")\n",
        "\n",
        "fig.show()"
      ],
      "metadata": {
        "id": "z8vTxrF3GE8Z",
        "colab": {
          "base_uri": "https://localhost:8080/",
          "height": 562
        },
        "outputId": "e81615e7-e98f-4ad1-a788-6b6a92ab0d37"
      },
      "execution_count": null,
      "outputs": [
        {
          "output_type": "display_data",
          "data": {
            "text/html": [
              "<html>\n",
              "<head><meta charset=\"utf-8\" /></head>\n",
              "<body>\n",
              "    <div>            <script src=\"https://cdnjs.cloudflare.com/ajax/libs/mathjax/2.7.5/MathJax.js?config=TeX-AMS-MML_SVG\"></script><script type=\"text/javascript\">if (window.MathJax && window.MathJax.Hub && window.MathJax.Hub.Config) {window.MathJax.Hub.Config({SVG: {font: \"STIX-Web\"}});}</script>                <script type=\"text/javascript\">window.PlotlyConfig = {MathJaxConfig: 'local'};</script>\n",
              "        <script src=\"https://cdn.plot.ly/plotly-2.18.2.min.js\"></script>                <div id=\"64a51c1b-138e-41d7-97a4-104ddcf868a6\" class=\"plotly-graph-div\" style=\"height:525px; width:100%;\"></div>            <script type=\"text/javascript\">                                    window.PLOTLYENV=window.PLOTLYENV || {};                                    if (document.getElementById(\"64a51c1b-138e-41d7-97a4-104ddcf868a6\")) {                    Plotly.newPlot(                        \"64a51c1b-138e-41d7-97a4-104ddcf868a6\",                        [{\"hovertemplate\":\"Fecha=%{x}<br>Valor de Cuota=%{text}<extra></extra>\",\"legendgroup\":\"\",\"line\":{\"color\":\"#1F77B4\",\"dash\":\"solid\"},\"marker\":{\"symbol\":\"circle\"},\"mode\":\"lines+markers+text\",\"name\":\"\",\"orientation\":\"v\",\"showlegend\":false,\"text\":[10.49,10.64,11.02,11.13,11.27,11.31],\"x\":[\"2022-02-03T00:00:00\",\"2022-02-24T00:00:00\",\"2022-03-14T00:00:00\",\"2022-03-17T00:00:00\",\"2022-03-21T00:00:00\",\"2022-03-22T00:00:00\"],\"xaxis\":\"x\",\"y\":[10.49,10.64,11.02,11.13,11.27,11.31],\"yaxis\":\"y\",\"type\":\"scatter\",\"textposition\":\"bottom right\"}],                        {\"template\":{\"data\":{\"pie\":[{\"automargin\":true,\"type\":\"pie\"}]},\"layout\":{\"xaxis\":{\"showgrid\":true,\"title\":{\"standoff\":15}},\"yaxis\":{\"showgrid\":true,\"title\":{\"standoff\":15}}}},\"xaxis\":{\"anchor\":\"y\",\"domain\":[0.0,1.0],\"title\":{\"text\":\"Fecha\"}},\"yaxis\":{\"anchor\":\"x\",\"domain\":[0.0,1.0],\"title\":{\"text\":\"Valor de Cuota\"}},\"legend\":{\"tracegroupgap\":0},\"title\":{\"text\":\"Fondo Com\\u00fan de Inversi\\u00f3n\"}},                        {\"responsive\": true}                    ).then(function(){\n",
              "                            \n",
              "var gd = document.getElementById('64a51c1b-138e-41d7-97a4-104ddcf868a6');\n",
              "var x = new MutationObserver(function (mutations, observer) {{\n",
              "        var display = window.getComputedStyle(gd).display;\n",
              "        if (!display || display === 'none') {{\n",
              "            console.log([gd, 'removed!']);\n",
              "            Plotly.purge(gd);\n",
              "            observer.disconnect();\n",
              "        }}\n",
              "}});\n",
              "\n",
              "// Listen for the removal of the full notebook cells\n",
              "var notebookContainer = gd.closest('#notebook-container');\n",
              "if (notebookContainer) {{\n",
              "    x.observe(notebookContainer, {childList: true});\n",
              "}}\n",
              "\n",
              "// Listen for the clearing of the current output cell\n",
              "var outputEl = gd.closest('.output');\n",
              "if (outputEl) {{\n",
              "    x.observe(outputEl, {childList: true});\n",
              "}}\n",
              "\n",
              "                        })                };                            </script>        </div>\n",
              "</body>\n",
              "</html>"
            ]
          },
          "metadata": {}
        }
      ]
    },
    {
      "cell_type": "markdown",
      "source": [
        "<p align=\"justify\">\n",
        "👀 Ahora vamos adicionar botones para poder segmentar nuestro gráfico, para ello hacemos un <code>update_xaxes()</code> con el parámetro <code>rangeselector</code> armando una lista para los botones, y cada boton es un diccionario.</p>\n"
      ],
      "metadata": {
        "id": "BSD-HkDfmY30"
      }
    },
    {
      "cell_type": "code",
      "source": [
        "fig = px.line(fci.query(\"Concepto =='Suscripción'\"),\n",
        "              x=\"Fecha\",\n",
        "              y=\"Valor_de_Cuota\",\n",
        "              title='Fondo Común de Inversión',\n",
        "              template=\"gridon\",\n",
        "              markers=True,\n",
        "              labels={\"Valor_de_Cuota\":\"Valor de Cuota\"},\n",
        "              text=\"Valor_de_Cuota\")\n",
        "\n",
        "fig.update_traces(textposition=\"bottom right\")\n",
        "\n",
        "fig.update_xaxes(rangeselector=dict(buttons=list([\n",
        "    dict(count=7, label=\"7d\", step=\"day\", stepmode=\"backward\"),\n",
        "    dict(count=14, label=\"14d\", step=\"day\", stepmode=\"backward\"),\n",
        "    dict(count=1, label=\"1m\", step=\"month\", stepmode=\"backward\"),\n",
        "    dict(count=2, label=\"2m\", step=\"month\", stepmode=\"backward\"),\n",
        "    dict(label = \"Máx.\", step=\"all\")])))\n",
        "\n",
        "fig.show()"
      ],
      "metadata": {
        "id": "HAnzEzt8GEwO",
        "colab": {
          "base_uri": "https://localhost:8080/",
          "height": 562
        },
        "outputId": "d644d23f-50f3-47c9-d745-d271a7b40f68"
      },
      "execution_count": null,
      "outputs": [
        {
          "output_type": "display_data",
          "data": {
            "text/html": [
              "<html>\n",
              "<head><meta charset=\"utf-8\" /></head>\n",
              "<body>\n",
              "    <div>            <script src=\"https://cdnjs.cloudflare.com/ajax/libs/mathjax/2.7.5/MathJax.js?config=TeX-AMS-MML_SVG\"></script><script type=\"text/javascript\">if (window.MathJax && window.MathJax.Hub && window.MathJax.Hub.Config) {window.MathJax.Hub.Config({SVG: {font: \"STIX-Web\"}});}</script>                <script type=\"text/javascript\">window.PlotlyConfig = {MathJaxConfig: 'local'};</script>\n",
              "        <script src=\"https://cdn.plot.ly/plotly-2.18.2.min.js\"></script>                <div id=\"fc5a74ac-3ae0-47ba-8916-583dd3548c2e\" class=\"plotly-graph-div\" style=\"height:525px; width:100%;\"></div>            <script type=\"text/javascript\">                                    window.PLOTLYENV=window.PLOTLYENV || {};                                    if (document.getElementById(\"fc5a74ac-3ae0-47ba-8916-583dd3548c2e\")) {                    Plotly.newPlot(                        \"fc5a74ac-3ae0-47ba-8916-583dd3548c2e\",                        [{\"hovertemplate\":\"Fecha=%{x}<br>Valor de Cuota=%{text}<extra></extra>\",\"legendgroup\":\"\",\"line\":{\"color\":\"#1F77B4\",\"dash\":\"solid\"},\"marker\":{\"symbol\":\"circle\"},\"mode\":\"lines+markers+text\",\"name\":\"\",\"orientation\":\"v\",\"showlegend\":false,\"text\":[10.49,10.64,11.02,11.13,11.27,11.31],\"x\":[\"2022-02-03T00:00:00\",\"2022-02-24T00:00:00\",\"2022-03-14T00:00:00\",\"2022-03-17T00:00:00\",\"2022-03-21T00:00:00\",\"2022-03-22T00:00:00\"],\"xaxis\":\"x\",\"y\":[10.49,10.64,11.02,11.13,11.27,11.31],\"yaxis\":\"y\",\"type\":\"scatter\",\"textposition\":\"bottom right\"}],                        {\"template\":{\"data\":{\"pie\":[{\"automargin\":true,\"type\":\"pie\"}]},\"layout\":{\"xaxis\":{\"showgrid\":true,\"title\":{\"standoff\":15}},\"yaxis\":{\"showgrid\":true,\"title\":{\"standoff\":15}}}},\"xaxis\":{\"anchor\":\"y\",\"domain\":[0.0,1.0],\"title\":{\"text\":\"Fecha\"},\"rangeselector\":{\"buttons\":[{\"count\":7,\"label\":\"7d\",\"step\":\"day\",\"stepmode\":\"backward\"},{\"count\":14,\"label\":\"14d\",\"step\":\"day\",\"stepmode\":\"backward\"},{\"count\":1,\"label\":\"1m\",\"step\":\"month\",\"stepmode\":\"backward\"},{\"count\":2,\"label\":\"2m\",\"step\":\"month\",\"stepmode\":\"backward\"},{\"label\":\"M\\u00e1x.\",\"step\":\"all\"}]}},\"yaxis\":{\"anchor\":\"x\",\"domain\":[0.0,1.0],\"title\":{\"text\":\"Valor de Cuota\"}},\"legend\":{\"tracegroupgap\":0},\"title\":{\"text\":\"Fondo Com\\u00fan de Inversi\\u00f3n\"}},                        {\"responsive\": true}                    ).then(function(){\n",
              "                            \n",
              "var gd = document.getElementById('fc5a74ac-3ae0-47ba-8916-583dd3548c2e');\n",
              "var x = new MutationObserver(function (mutations, observer) {{\n",
              "        var display = window.getComputedStyle(gd).display;\n",
              "        if (!display || display === 'none') {{\n",
              "            console.log([gd, 'removed!']);\n",
              "            Plotly.purge(gd);\n",
              "            observer.disconnect();\n",
              "        }}\n",
              "}});\n",
              "\n",
              "// Listen for the removal of the full notebook cells\n",
              "var notebookContainer = gd.closest('#notebook-container');\n",
              "if (notebookContainer) {{\n",
              "    x.observe(notebookContainer, {childList: true});\n",
              "}}\n",
              "\n",
              "// Listen for the clearing of the current output cell\n",
              "var outputEl = gd.closest('.output');\n",
              "if (outputEl) {{\n",
              "    x.observe(outputEl, {childList: true});\n",
              "}}\n",
              "\n",
              "                        })                };                            </script>        </div>\n",
              "</body>\n",
              "</html>"
            ]
          },
          "metadata": {}
        }
      ]
    },
    {
      "cell_type": "markdown",
      "source": [
        "<p align=\"justify\">\n",
        "👀 Ahora agregamos una línea constante, con la media de los valores de suscripción, para ello utilizamos <code>add_hline</code> que es una linea horizontal.</p>\n"
      ],
      "metadata": {
        "id": "M6KIl8PzoTvY"
      }
    },
    {
      "cell_type": "code",
      "source": [
        "fci1 = fci.query(\"Concepto =='Suscripción'\")\n",
        "\n",
        "fig = px.line(fci1,\n",
        "              x=\"Fecha\",\n",
        "              y=\"Valor_de_Cuota\",\n",
        "              title='Fondo Común de Inversión',\n",
        "              template=\"gridon\",\n",
        "              markers=True,\n",
        "              labels={\"Valor_de_Cuota\":\"Valor de Cuota\"},\n",
        "              text=\"Valor_de_Cuota\")\n",
        "\n",
        "fig.update_traces(textposition=\"bottom right\")\n",
        "\n",
        "fig.update_xaxes(rangeselector=dict(buttons=list([\n",
        "    dict(count=7, label=\"7d\", step=\"day\", stepmode=\"backward\"),\n",
        "    dict(count=14, label=\"14d\", step=\"day\", stepmode=\"backward\"),\n",
        "    dict(count=1, label=\"1m\", step=\"month\", stepmode=\"backward\"),\n",
        "    dict(count=2, label=\"2m\", step=\"month\", stepmode=\"backward\"),\n",
        "    dict(label = \"Máx.\", step=\"all\")])))\n",
        "\n",
        "fig.add_hline(y=fci1.Valor_de_Cuota.mean(),\n",
        "              line_color=\"green\",\n",
        "              line_dash=\"dot\",\n",
        "              name=\"Media\")\n",
        "\n",
        "fig.show()"
      ],
      "metadata": {
        "id": "WVtvUq8yGEpJ",
        "colab": {
          "base_uri": "https://localhost:8080/",
          "height": 562
        },
        "outputId": "f0644a5a-d349-4989-b3ad-e7d2d01ca3d2"
      },
      "execution_count": null,
      "outputs": [
        {
          "output_type": "display_data",
          "data": {
            "text/html": [
              "<html>\n",
              "<head><meta charset=\"utf-8\" /></head>\n",
              "<body>\n",
              "    <div>            <script src=\"https://cdnjs.cloudflare.com/ajax/libs/mathjax/2.7.5/MathJax.js?config=TeX-AMS-MML_SVG\"></script><script type=\"text/javascript\">if (window.MathJax && window.MathJax.Hub && window.MathJax.Hub.Config) {window.MathJax.Hub.Config({SVG: {font: \"STIX-Web\"}});}</script>                <script type=\"text/javascript\">window.PlotlyConfig = {MathJaxConfig: 'local'};</script>\n",
              "        <script src=\"https://cdn.plot.ly/plotly-2.18.2.min.js\"></script>                <div id=\"19855167-b45f-49de-adac-b148ae7dee30\" class=\"plotly-graph-div\" style=\"height:525px; width:100%;\"></div>            <script type=\"text/javascript\">                                    window.PLOTLYENV=window.PLOTLYENV || {};                                    if (document.getElementById(\"19855167-b45f-49de-adac-b148ae7dee30\")) {                    Plotly.newPlot(                        \"19855167-b45f-49de-adac-b148ae7dee30\",                        [{\"hovertemplate\":\"Fecha=%{x}<br>Valor de Cuota=%{text}<extra></extra>\",\"legendgroup\":\"\",\"line\":{\"color\":\"#1F77B4\",\"dash\":\"solid\"},\"marker\":{\"symbol\":\"circle\"},\"mode\":\"lines+markers+text\",\"name\":\"\",\"orientation\":\"v\",\"showlegend\":false,\"text\":[10.49,10.64,11.02,11.13,11.27,11.31],\"x\":[\"2022-02-03T00:00:00\",\"2022-02-24T00:00:00\",\"2022-03-14T00:00:00\",\"2022-03-17T00:00:00\",\"2022-03-21T00:00:00\",\"2022-03-22T00:00:00\"],\"xaxis\":\"x\",\"y\":[10.49,10.64,11.02,11.13,11.27,11.31],\"yaxis\":\"y\",\"type\":\"scatter\",\"textposition\":\"bottom right\"}],                        {\"template\":{\"data\":{\"pie\":[{\"automargin\":true,\"type\":\"pie\"}]},\"layout\":{\"xaxis\":{\"showgrid\":true,\"title\":{\"standoff\":15}},\"yaxis\":{\"showgrid\":true,\"title\":{\"standoff\":15}}}},\"xaxis\":{\"anchor\":\"y\",\"domain\":[0.0,1.0],\"title\":{\"text\":\"Fecha\"},\"rangeselector\":{\"buttons\":[{\"count\":7,\"label\":\"7d\",\"step\":\"day\",\"stepmode\":\"backward\"},{\"count\":14,\"label\":\"14d\",\"step\":\"day\",\"stepmode\":\"backward\"},{\"count\":1,\"label\":\"1m\",\"step\":\"month\",\"stepmode\":\"backward\"},{\"count\":2,\"label\":\"2m\",\"step\":\"month\",\"stepmode\":\"backward\"},{\"label\":\"M\\u00e1x.\",\"step\":\"all\"}]}},\"yaxis\":{\"anchor\":\"x\",\"domain\":[0.0,1.0],\"title\":{\"text\":\"Valor de Cuota\"}},\"legend\":{\"tracegroupgap\":0},\"title\":{\"text\":\"Fondo Com\\u00fan de Inversi\\u00f3n\"},\"shapes\":[{\"line\":{\"color\":\"green\",\"dash\":\"dot\"},\"name\":\"Media\",\"type\":\"line\",\"x0\":0,\"x1\":1,\"xref\":\"x domain\",\"y0\":10.976666666666668,\"y1\":10.976666666666668,\"yref\":\"y\"}]},                        {\"responsive\": true}                    ).then(function(){\n",
              "                            \n",
              "var gd = document.getElementById('19855167-b45f-49de-adac-b148ae7dee30');\n",
              "var x = new MutationObserver(function (mutations, observer) {{\n",
              "        var display = window.getComputedStyle(gd).display;\n",
              "        if (!display || display === 'none') {{\n",
              "            console.log([gd, 'removed!']);\n",
              "            Plotly.purge(gd);\n",
              "            observer.disconnect();\n",
              "        }}\n",
              "}});\n",
              "\n",
              "// Listen for the removal of the full notebook cells\n",
              "var notebookContainer = gd.closest('#notebook-container');\n",
              "if (notebookContainer) {{\n",
              "    x.observe(notebookContainer, {childList: true});\n",
              "}}\n",
              "\n",
              "// Listen for the clearing of the current output cell\n",
              "var outputEl = gd.closest('.output');\n",
              "if (outputEl) {{\n",
              "    x.observe(outputEl, {childList: true});\n",
              "}}\n",
              "\n",
              "                        })                };                            </script>        </div>\n",
              "</body>\n",
              "</html>"
            ]
          },
          "metadata": {}
        }
      ]
    },
    {
      "cell_type": "markdown",
      "source": [
        "<p align=\"justify\">\n",
        "👀 Y verificamos el valor de la media, calculando con <code>mean()</code> para ver si la linea que adicionamos esta bien posicionada, y vemos que si.<br><br>El truco en este último grafico fue filtrar por fuera del gráfico, asignar el resultante de ese filtrado a un objeto, y trabajar con ese objeto en el script del gráfico</p>\n"
      ],
      "metadata": {
        "id": "p5cg9VimouYX"
      }
    },
    {
      "cell_type": "code",
      "source": [
        "fci1.Valor_de_Cuota.mean().round(2)"
      ],
      "metadata": {
        "colab": {
          "base_uri": "https://localhost:8080/"
        },
        "id": "Rz9pZhRjYYS4",
        "outputId": "d3919b58-a7c8-4344-c6d6-1148034730b3"
      },
      "execution_count": null,
      "outputs": [
        {
          "output_type": "execute_result",
          "data": {
            "text/plain": [
              "10.98"
            ]
          },
          "metadata": {},
          "execution_count": 57
        }
      ]
    },
    {
      "cell_type": "markdown",
      "source": [
        "<br>\n",
        "<br>\n",
        "<p align=\"center\"><b>\n",
        "💗\n",
        "<font color=\"DeepPink\">\n",
        "Hemos llegado al final de nuestro colab, a seguir codeando...\n",
        "</font>\n",
        "</p>\n"
      ],
      "metadata": {
        "id": "JJYZVqPMqSjz"
      }
    }
  ]
}