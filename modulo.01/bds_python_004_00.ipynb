{
  "nbformat": 4,
  "nbformat_minor": 0,
  "metadata": {
    "colab": {
      "provenance": [],
      "include_colab_link": true
    },
    "kernelspec": {
      "name": "python3",
      "display_name": "Python 3"
    },
    "language_info": {
      "name": "python"
    }
  },
  "cells": [
    {
      "cell_type": "markdown",
      "metadata": {
        "id": "view-in-github",
        "colab_type": "text"
      },
      "source": [
        "<a href=\"https://colab.research.google.com/github/cristiandarioortegayubro/BDS/blob/main/modulo.01/bds_python_004_00.ipynb\" target=\"_parent\"><img src=\"https://colab.research.google.com/assets/colab-badge.svg\" alt=\"Open In Colab\"/></a>"
      ]
    },
    {
      "cell_type": "markdown",
      "source": [
        "<p align=\"center\">\n",
        "<img src=\"https://github.com/cristiandarioortegayubro/BDS/blob/main/images/Logo%20BDS%20Horizontal%208.png?raw=true\"/>\n",
        "</p>\n",
        "\n",
        "\n"
      ],
      "metadata": {
        "id": "iheuwam9e4CH"
      }
    },
    {
      "cell_type": "markdown",
      "source": [
        "# **<font color=\"DeepPink\">Funciones, Lambda, Generadores, Manejo de errores y excepciones</font>**"
      ],
      "metadata": {
        "id": "_fRBXj8mbrnO"
      }
    },
    {
      "cell_type": "markdown",
      "source": [
        "<p align=\"center\">\n",
        "<img src=\"https://www.python.org/static/community_logos/python-powered-h-70x91.png\"/>\n",
        "</p>\n"
      ],
      "metadata": {
        "id": "gjpEYi_23t-3"
      }
    },
    {
      "cell_type": "markdown",
      "source": [
        "<p align=\"justify\"><b>\n",
        "<font color=\"DeepPink\">\n",
        "💗 Todo el mundo deberia aprender a programar, porque te enseña a pensar...\n",
        "</font>\n",
        "</p>\n",
        "<p align=\"right\"><b>\n",
        "<font color=\"DeepPink\">\n",
        "Steve Jobs (1995)\n",
        "</font>\n",
        "</p>\n",
        "<br>\n",
        "<br>\n",
        "\n"
      ],
      "metadata": {
        "id": "rGyq57WV2bpw"
      }
    },
    {
      "cell_type": "markdown",
      "source": [
        "<p align=\"justify\">\n",
        "En este colab, vamos a desarrollar todo tipo de funciones. Las funciones son el método principal y más importante de organización y reutilización de código en Python. Como regla general, si se puede anticipar la necesidad de repetir el mismo código o de utilizar un código similar más de una vez, entonces vale la pena escribir una función reutilizable. <br><br> Las funciones también pueden ayudar a que el código sea más legible al asignar un nombre a un grupo de instrucciones de Python.\n",
        "</p>\n"
      ],
      "metadata": {
        "id": "xvkv1nfK4Sb5"
      }
    },
    {
      "cell_type": "markdown",
      "source": [
        "<p>\n",
        "<font color=\"DeepPink\">\n",
        "\n",
        "**👀 Antes que nada, verificamos la versión de Python con la cual estamos trabajando...**\n",
        "\n",
        "</font>\n",
        "</p>"
      ],
      "metadata": {
        "id": "3-DeGerFPc93"
      }
    },
    {
      "cell_type": "code",
      "source": [
        "!python3 -V"
      ],
      "metadata": {
        "colab": {
          "base_uri": "https://localhost:8080/"
        },
        "id": "DNQXRjfXPh6h",
        "outputId": "549cd000-1510-4db1-dc07-e9914282a583"
      },
      "execution_count": null,
      "outputs": [
        {
          "output_type": "stream",
          "name": "stdout",
          "text": [
            "Python 3.9.16\n"
          ]
        }
      ]
    },
    {
      "cell_type": "markdown",
      "source": [
        "<p align=\"justify\">\n",
        "El comando <code>!python3 -V</code> en Google Colab se utiliza para verificar la versión de Python que está instalada en el entorno de ejecución de Colab. Al ejecutar este comando en una celda de código precedido por el signo de exclamación (`!`), se mostrará la versión de Python que está siendo utilizada.\n",
        "<br><br>\n",
        "Este comando imprime la información de la versión de Python, y la salida típicamente se ve algo así:\n",
        "</p>\n",
        "\n",
        "```\n",
        "Python 3.x.x\n",
        "```\n",
        "<p align=\"justify\">\n",
        "Donde \"3.x.x\" es la versión específica de Python que está instalada en ese momento en Google Colab. Es útil para confirmar la versión de Python antes de ejecutar código, ya que algunas bibliotecas y funciones pueden variar entre diferentes versiones de Python.</p>"
      ],
      "metadata": {
        "id": "QC2t2I7sUuKe"
      }
    },
    {
      "cell_type": "markdown",
      "source": [
        "# **<font color=\"DeepPink\">Funciones</font>**"
      ],
      "metadata": {
        "id": "XT98imCoES2-"
      }
    },
    {
      "cell_type": "markdown",
      "source": [
        "## **<font color=\"DeepPink\">Declarando funciones</font>**"
      ],
      "metadata": {
        "id": "v8abc96k3sr9"
      }
    },
    {
      "cell_type": "markdown",
      "source": [
        "<p align=\"justify\">\n",
        "Las funciones se declaran con la palabra clave <code>def</code>. Una función contiene un bloque de código con un uso opcional de la palabra clave <code>return</code>.<br><br> La sintaxis quedaría así:\n",
        "</p>\n"
      ],
      "metadata": {
        "id": "OrOEIgsY5jih"
      }
    },
    {
      "cell_type": "markdown",
      "source": [
        "```python\n",
        "def nombre_funcion(x, y):\n",
        "    return x + y\n",
        "```"
      ],
      "metadata": {
        "id": "j9Di-6E1zT-X"
      }
    },
    {
      "cell_type": "markdown",
      "source": [
        "<p align=\"justify\">\n",
        "El nombre de la función es el identificador de la misma, con ese identificador vamos a llamar a la función para usarla. Los parametros de la función son una lista de idenfificadores opcionales. Todos los parametros que se definan en la función, deben estar separados por comas.<br><br>Luego tenemos el cuerpo de la función, es lo que está dentro de la misma, y en ella se encuentra una secuencia de instrucciones que se ejecutan cuando se llama a la función.</p>\n"
      ],
      "metadata": {
        "id": "aCPACZg5SwTR"
      }
    },
    {
      "cell_type": "code",
      "source": [
        "act = 1000\n",
        "pas = 600\n",
        "pneto = 400"
      ],
      "metadata": {
        "id": "xBOnvS-Mzrln"
      },
      "execution_count": null,
      "outputs": []
    },
    {
      "cell_type": "code",
      "source": [
        "def ecuacion_patrimonial(act, pas, pneto):\n",
        "  print(f\"El activo es de {act}, el pasivo de {pas} y el patrimonio neto de {pneto}\")\n",
        "  if act == (pas + pneto):\n",
        "    print(f\"El activo es igual al pasivo mas el patrimonio neto\")\n",
        "  else:\n",
        "    print(f\"No se cumple con la ecuación patrimonial\")"
      ],
      "metadata": {
        "id": "qV-AaXBDzriU"
      },
      "execution_count": null,
      "outputs": []
    },
    {
      "cell_type": "code",
      "source": [
        "ecuacion_patrimonial(act=act, pas=pas, pneto=pneto)"
      ],
      "metadata": {
        "colab": {
          "base_uri": "https://localhost:8080/"
        },
        "id": "5x_NTc7ozrfr",
        "outputId": "45b08878-a085-4e52-c361-89cc0ae651dd"
      },
      "execution_count": null,
      "outputs": [
        {
          "output_type": "stream",
          "name": "stdout",
          "text": [
            "El activo es de 1000, el pasivo de 600 y el patrimonio neto de 400\n",
            "El activo es igual al pasivo mas el patrimonio neto\n"
          ]
        }
      ]
    },
    {
      "cell_type": "code",
      "source": [
        "ecuacion_patrimonial(act=1200, pas=500, pneto=600)"
      ],
      "metadata": {
        "colab": {
          "base_uri": "https://localhost:8080/"
        },
        "id": "_2qaDlUPOSsP",
        "outputId": "44e21a00-6750-4e95-e10e-5cd4d54f258c"
      },
      "execution_count": null,
      "outputs": [
        {
          "output_type": "stream",
          "name": "stdout",
          "text": [
            "El activo es de 1200, el pasivo de 500 y el patrimonio neto de 600\n",
            "No se cumple con la ecuación patrimonial\n"
          ]
        }
      ]
    },
    {
      "cell_type": "markdown",
      "source": [
        "<p align=\"justify\">\n",
        "👀 Las funciones pueden tener un número arbitrario de argumentos, para ello se antepone uno de los argumentos con un <code>*</code>.</p>\n"
      ],
      "metadata": {
        "id": "6-Z9IchYWjE1"
      }
    },
    {
      "cell_type": "markdown",
      "source": [
        "```python\n",
        "def nombre_funcion(*args):\n",
        "    return\n",
        "```"
      ],
      "metadata": {
        "id": "zHRsyXaNXLyq"
      }
    },
    {
      "cell_type": "code",
      "source": [
        "def argumentos(*args, numero):\n",
        "  for i in args:\n",
        "    print(f\"{i*numero}\")"
      ],
      "metadata": {
        "id": "Qwt8Fu1FZVq9"
      },
      "execution_count": null,
      "outputs": []
    },
    {
      "cell_type": "code",
      "source": [
        "argumentos(1,2,3,4, numero=2)"
      ],
      "metadata": {
        "colab": {
          "base_uri": "https://localhost:8080/"
        },
        "id": "7X8N6i_OZk3c",
        "outputId": "f2881f31-e087-4214-cab4-e38ff4ab5849"
      },
      "execution_count": null,
      "outputs": [
        {
          "output_type": "stream",
          "name": "stdout",
          "text": [
            "2\n",
            "4\n",
            "6\n",
            "8\n"
          ]
        }
      ]
    },
    {
      "cell_type": "markdown",
      "source": [
        "<p align=\"justify\">\n",
        "👀 Las funciones tambien pueden tener un número arbitrario de argumentos con nombre, para ello se antepone a uno de los argumentos con dos <code>**</code>.</p>\n"
      ],
      "metadata": {
        "id": "mnp6BDOSXV2J"
      }
    },
    {
      "cell_type": "markdown",
      "source": [
        "```python\n",
        "def nombre_funcion(**kargs):\n",
        "    return\n",
        "```"
      ],
      "metadata": {
        "id": "z29s2nuyYuPd"
      }
    },
    {
      "cell_type": "code",
      "source": [
        "def nombre_argumentos(ejercicio, **kwargs):\n",
        "  print(f\"Ejercicio {ejercicio}\")\n",
        "  print(\"--------------\")\n",
        "  for nombre, valor in kwargs.items():\n",
        "    print(nombre, valor)"
      ],
      "metadata": {
        "id": "WegBsLXqbWjD"
      },
      "execution_count": null,
      "outputs": []
    },
    {
      "cell_type": "code",
      "source": [
        "nombre_argumentos(ejercicio= 2023, Activo=1000, Pasivo=400, PNeto=600)"
      ],
      "metadata": {
        "colab": {
          "base_uri": "https://localhost:8080/"
        },
        "id": "o2ncOFo8buHQ",
        "outputId": "21a7dc6c-0bb9-447f-ebbd-bb3b69cd6342"
      },
      "execution_count": null,
      "outputs": [
        {
          "output_type": "stream",
          "name": "stdout",
          "text": [
            "Ejercicio 2023\n",
            "--------------\n",
            "Activo 1000\n",
            "Pasivo 400\n",
            "PNeto 600\n"
          ]
        }
      ]
    },
    {
      "cell_type": "markdown",
      "source": [
        "## **<font color=\"DeepPink\">Espacios de nombres y funciones locales</font>**"
      ],
      "metadata": {
        "id": "igXspB1JN8Zd"
      }
    },
    {
      "cell_type": "markdown",
      "source": [
        "<p align=\"justify\">\n",
        "Las funciones pueden acceder a las variables creadas dentro de la función, así como a las que están fuera de la función. Un nombre alternativo que describe un ámbito variable en Python es un espacio de nombres. Las variables asignadas dentro de una función de forma predeterminada se asignan al espacio de nombres local. El espacio de nombres local se crea cuando se llama a la función y se rellena inmediatamente con los argumentos de la función. <br><br>Una vez finalizada la función, se destruye el espacio de nombres local. Por ejemplo:\n",
        "</p>\n"
      ],
      "metadata": {
        "id": "MxIOEipvOhOL"
      }
    },
    {
      "cell_type": "code",
      "source": [
        "def func():\n",
        "  a = []\n",
        "  for i in range(10):\n",
        "    a.append(i)"
      ],
      "metadata": {
        "id": "VnnJsuL-zrdV"
      },
      "execution_count": 4,
      "outputs": []
    },
    {
      "cell_type": "markdown",
      "source": [
        "<p align=\"justify\">\n",
        "👀 Cuando se llama a la función que acabamos de crear, se crea una lista vacía y se le asigna a la variable <code>a</code>, luego se le adicionan diez elementos a la lista y, a continuación se destruye cuando se cierra la función.\n",
        "</p>\n"
      ],
      "metadata": {
        "id": "HDEP7TsvPmAa"
      }
    },
    {
      "cell_type": "markdown",
      "source": [
        "Este código define una función en Python llamada `func()`. Dentro de la función, se crea una lista vacía llamada `a` y luego se utiliza un bucle `for` para iterar sobre los números en el rango de 0 a 9 (inclusive). En cada iteración, se agrega el valor actual de `i` al final de la lista `a` mediante el método `append()`.\n",
        "\n",
        "Aquí está el código desglosado:\n",
        "\n",
        "```python\n",
        "def func():\n",
        "    a = []  # Se crea una lista vacía llamada 'a' dentro de la función\n",
        "    for i in range(10):\n",
        "        a.append(i)  # Se agregan los números del rango al final de la lista 'a'\n",
        "\n",
        "# La función 'func()' se define pero no se llama aquí\n",
        "\n",
        "# Si llamamos a la función, la lista 'a' se construirá con los números del 0 al 9\n",
        "func()\n",
        "\n",
        "# Si queremos acceder a la lista resultante, podemos hacerlo, por ejemplo, imprimiéndola\n",
        "print(a)\n",
        "```\n",
        "\n",
        "Es importante señalar que la lista `a` se define localmente dentro de la función `func()`, por lo que no es accesible fuera de la función. Si intentas imprimir `a` fuera de la función, obtendrás un error, ya que `a` no existe en ese ámbito.\n",
        "\n",
        "Si deseas utilizar la lista fuera de la función, puedes hacer que la función devuelva la lista y luego asignarla a una variable fuera de la función. Por ejemplo:\n",
        "\n",
        "```python\n",
        "def func():\n",
        "    a = []\n",
        "    for i in range(10):\n",
        "        a.append(i)\n",
        "    return a\n",
        "\n",
        "# Llamamos a la función y asignamos su resultado a una variable\n",
        "resultado = func()\n",
        "\n",
        "# Ahora 'resultado' contendrá la lista [0, 1, 2, 3, 4, 5, 6, 7, 8, 9]\n",
        "print(resultado)\n",
        "```"
      ],
      "metadata": {
        "id": "JpXjCqKbV2_A"
      }
    },
    {
      "cell_type": "markdown",
      "source": [
        "<br>Supongamos en cambio que hubiéramos declarado lo siguiente:"
      ],
      "metadata": {
        "id": "XZIEJIjmV98Q"
      }
    },
    {
      "cell_type": "code",
      "source": [
        "a = []"
      ],
      "metadata": {
        "id": "ZpgLhdmiM3du"
      },
      "execution_count": 1,
      "outputs": []
    },
    {
      "cell_type": "code",
      "source": [
        "def func():\n",
        "  for i in range(10):\n",
        "    a.append(i)"
      ],
      "metadata": {
        "id": "dBSF3c-OM3aN"
      },
      "execution_count": 2,
      "outputs": []
    },
    {
      "cell_type": "code",
      "source": [
        "func()\n",
        "a"
      ],
      "metadata": {
        "colab": {
          "base_uri": "https://localhost:8080/"
        },
        "id": "3JOk0vgAM3Xi",
        "outputId": "9e4151ad-c2c4-427e-c393-0905de20a5f3"
      },
      "execution_count": 3,
      "outputs": [
        {
          "output_type": "execute_result",
          "data": {
            "text/plain": [
              "[0, 1, 2, 3, 4, 5, 6, 7, 8, 9]"
            ]
          },
          "metadata": {},
          "execution_count": 3
        }
      ]
    },
    {
      "cell_type": "markdown",
      "source": [
        "Este código en Python crea una lista vacía llamada `a` y define una función llamada `func()`. Dentro de la función, hay un bucle `for` que itera sobre los números en el rango de 0 a 9 (inclusive) y agrega cada número a la lista `a` utilizando el método `append()`.\n",
        "\n",
        "Aquí está el código desglosado:\n",
        "\n",
        "```python\n",
        "a = []  # Se crea una lista vacía llamada 'a'\n",
        "\n",
        "def func():\n",
        "    for i in range(10):\n",
        "        a.append(i)  # Se agregan los números del rango al final de la lista 'a'\n",
        "\n",
        "func()  # Se llama a la función, lo que agrega los números a la lista 'a'\n",
        "\n",
        "# La lista 'a' ahora contendrá los números del 0 al 9\n",
        "print(a)\n",
        "```\n",
        "\n",
        "Después de ejecutar este código, la lista `a` contendrá los números del 0 al 9, ya que la función `func()` se encarga de agregar esos números a la lista mediante el bucle `for` y el método `append()`. El resultado impreso sería:\n",
        "\n",
        "```\n",
        "[0, 1, 2, 3, 4, 5, 6, 7, 8, 9]\n",
        "```"
      ],
      "metadata": {
        "id": "EKONrR0RVUjo"
      }
    },
    {
      "cell_type": "markdown",
      "source": [
        "## **<font color=\"DeepPink\">Devolver varios valores</font>**"
      ],
      "metadata": {
        "id": "dK4NTkq5RUNY"
      }
    },
    {
      "cell_type": "code",
      "source": [
        "act = 1000\n",
        "pas = 600\n",
        "pneto = 400"
      ],
      "metadata": {
        "id": "D6694BjIUBw_"
      },
      "execution_count": null,
      "outputs": []
    },
    {
      "cell_type": "code",
      "source": [
        "def f():\n",
        "    a = act\n",
        "    b = pas\n",
        "    c = pneto\n",
        "    return a, b, c"
      ],
      "metadata": {
        "id": "eq1fnM7LQxqp"
      },
      "execution_count": null,
      "outputs": []
    },
    {
      "cell_type": "code",
      "source": [
        "activo, pasivo, pneto = f()"
      ],
      "metadata": {
        "id": "8w33s0XaQxnS"
      },
      "execution_count": null,
      "outputs": []
    },
    {
      "cell_type": "code",
      "source": [
        "activo"
      ],
      "metadata": {
        "colab": {
          "base_uri": "https://localhost:8080/"
        },
        "id": "qYzzfE-PQxZT",
        "outputId": "553d358c-2e5c-4c68-d8f7-95880a30f349"
      },
      "execution_count": null,
      "outputs": [
        {
          "output_type": "execute_result",
          "data": {
            "text/plain": [
              "1000"
            ]
          },
          "metadata": {},
          "execution_count": 12
        }
      ]
    },
    {
      "cell_type": "code",
      "source": [
        "pasivo"
      ],
      "metadata": {
        "colab": {
          "base_uri": "https://localhost:8080/"
        },
        "id": "NC9TumT8QxWC",
        "outputId": "dbb417e2-c689-4145-f31d-48c841c9b8f8"
      },
      "execution_count": null,
      "outputs": [
        {
          "output_type": "execute_result",
          "data": {
            "text/plain": [
              "600"
            ]
          },
          "metadata": {},
          "execution_count": 13
        }
      ]
    },
    {
      "cell_type": "code",
      "source": [
        "pneto"
      ],
      "metadata": {
        "colab": {
          "base_uri": "https://localhost:8080/"
        },
        "id": "vQx0GbB8QxTc",
        "outputId": "3c26c7a4-b158-4d0e-93d7-04fbee7f1564"
      },
      "execution_count": null,
      "outputs": [
        {
          "output_type": "execute_result",
          "data": {
            "text/plain": [
              "400"
            ]
          },
          "metadata": {},
          "execution_count": 14
        }
      ]
    },
    {
      "cell_type": "markdown",
      "source": [
        "<p align=\"justify\">\n",
        "En ciencia de datos es posible que te encuentres haciendo esto a menudo. Lo que está sucediendo es que la función en realidad solo devuelve un objeto, una tupla, que luego se desempaqueta en las variables de resultado. <br><br>En el ejemplo anterior, podríamos haber hecho esto en su lugar:\n",
        "</p>\n"
      ],
      "metadata": {
        "id": "oRSdbUS9SENJ"
      }
    },
    {
      "cell_type": "code",
      "source": [
        "def f():\n",
        "    a = act\n",
        "    b = pas\n",
        "    c = pneto\n",
        "    return a, b, c"
      ],
      "metadata": {
        "id": "Wtz2I1ffQxRK"
      },
      "execution_count": null,
      "outputs": []
    },
    {
      "cell_type": "code",
      "source": [
        "componentes = f()"
      ],
      "metadata": {
        "id": "XUWzyKpVR6I7"
      },
      "execution_count": null,
      "outputs": []
    },
    {
      "cell_type": "code",
      "source": [
        "componentes"
      ],
      "metadata": {
        "colab": {
          "base_uri": "https://localhost:8080/"
        },
        "id": "cnn8L_VvR6FY",
        "outputId": "07d4f347-43dd-408b-9f16-5fe89267734b"
      },
      "execution_count": null,
      "outputs": [
        {
          "output_type": "execute_result",
          "data": {
            "text/plain": [
              "(1000, 600, 400)"
            ]
          },
          "metadata": {},
          "execution_count": 17
        }
      ]
    },
    {
      "cell_type": "markdown",
      "source": [
        "<p align=\"justify\">\n",
        "👀 Otra alternativa...</p>\n"
      ],
      "metadata": {
        "id": "cfjxqCnmTPWA"
      }
    },
    {
      "cell_type": "code",
      "source": [
        "def f():\n",
        "    a = act\n",
        "    b = pas\n",
        "    c = pneto\n",
        "    return {\"Activo\" : a, \"Pasivo\" : b, \"Patrimonio Neto\" : c}"
      ],
      "metadata": {
        "id": "Dx0wr_8HR57z"
      },
      "execution_count": null,
      "outputs": []
    },
    {
      "cell_type": "code",
      "source": [
        "componentes = f()"
      ],
      "metadata": {
        "id": "sG6-X-M1R54S"
      },
      "execution_count": null,
      "outputs": []
    },
    {
      "cell_type": "code",
      "source": [
        "componentes"
      ],
      "metadata": {
        "colab": {
          "base_uri": "https://localhost:8080/"
        },
        "id": "q9aNG_CXR51n",
        "outputId": "c140a944-593f-447e-fc7d-58ed6e71a432"
      },
      "execution_count": null,
      "outputs": [
        {
          "output_type": "execute_result",
          "data": {
            "text/plain": [
              "{'Activo': 1000, 'Pasivo': 600, 'Patrimonio Neto': 400}"
            ]
          },
          "metadata": {},
          "execution_count": 20
        }
      ]
    },
    {
      "cell_type": "markdown",
      "source": [
        "## **<font color=\"DeepPink\">Las funciones son objetos</font>**"
      ],
      "metadata": {
        "id": "DOpaN4LjV5yM"
      }
    },
    {
      "cell_type": "markdown",
      "source": [
        "<p align=\"justify\">\n",
        "Dado que las funciones de Python son objetos, se pueden expresar fácilmente muchas construcciones que son difíciles de hacer en otros lenguajes. Supongamos que estuviéramos haciendo una limpieza de datos y necesitáramos aplicar un montón de transformaciones a la siguiente lista de cadenas:\n",
        "</p>\n"
      ],
      "metadata": {
        "id": "IbwuVrPPWAqN"
      }
    },
    {
      "cell_type": "code",
      "source": [
        "cuyo = [\"    Mendoza\", \"SAn Juan!\", \"San Luis###\", \"san luis\", \"La Rioja?\"]"
      ],
      "metadata": {
        "id": "wNBKOP3iR5zC"
      },
      "execution_count": null,
      "outputs": []
    },
    {
      "cell_type": "markdown",
      "source": [
        "<p align=\"justify\">\n",
        "Es muy probable que al trabajar con datos de encuestas enviadas por los usuarios ha visto resultados desordenados como estos. Es necesario que sucedan muchas cosas para que esta lista de cadenas sea uniforme y esté lista para el análisis:<br><li> eliminar los espacios en blanco,</li><li>eliminar los símbolos de puntuación y</li><li>estandarizar las mayúsculas adecuadas.</li></p>"
      ],
      "metadata": {
        "id": "eCsCeWtcW3PE"
      }
    },
    {
      "cell_type": "markdown",
      "source": [
        "<p align=\"justify\">\n",
        "Una forma de hacerlo es usar métodos de cadena integrados junto con el módulo de biblioteca estándar para expresiones regulares <code>re</code></p>\n",
        "\n",
        "\n"
      ],
      "metadata": {
        "id": "NQphFlCHXe3Y"
      }
    },
    {
      "cell_type": "code",
      "source": [
        "import re"
      ],
      "metadata": {
        "id": "F7m8N_z2YTPu"
      },
      "execution_count": null,
      "outputs": []
    },
    {
      "cell_type": "code",
      "source": [
        "def limpieza(palabras):\n",
        "  resultado = []\n",
        "  for i in palabras:\n",
        "    i = i.strip()\n",
        "    i = re.sub(\"[!#?]\", \"\", i)\n",
        "    i = i.title()\n",
        "    resultado.append(i)\n",
        "  return resultado"
      ],
      "metadata": {
        "id": "2XuRs86FUuVv"
      },
      "execution_count": null,
      "outputs": []
    },
    {
      "cell_type": "code",
      "source": [
        "cuyo"
      ],
      "metadata": {
        "colab": {
          "base_uri": "https://localhost:8080/"
        },
        "id": "808YBsmLUuS0",
        "outputId": "accba97c-073a-46e9-8477-9016b3deafd4"
      },
      "execution_count": null,
      "outputs": [
        {
          "output_type": "execute_result",
          "data": {
            "text/plain": [
              "['    Mendoza', 'SAn Juan!', 'San Luis###', 'san luis', 'La Rioja?']"
            ]
          },
          "metadata": {},
          "execution_count": 24
        }
      ]
    },
    {
      "cell_type": "code",
      "source": [
        "limpieza(cuyo)"
      ],
      "metadata": {
        "colab": {
          "base_uri": "https://localhost:8080/"
        },
        "id": "Z-Wow50XUuQn",
        "outputId": "31836af0-5ecd-4ff2-c14d-7eb4bfa96e51"
      },
      "execution_count": null,
      "outputs": [
        {
          "output_type": "execute_result",
          "data": {
            "text/plain": [
              "['Mendoza', 'San Juan', 'San Luis', 'San Luis', 'La Rioja']"
            ]
          },
          "metadata": {},
          "execution_count": 25
        }
      ]
    },
    {
      "cell_type": "markdown",
      "source": [
        "# **<font color=\"DeepPink\">Funciones anónimas (Lambda)</font>**"
      ],
      "metadata": {
        "id": "OUJ_qewRZ41Q"
      }
    },
    {
      "cell_type": "markdown",
      "source": [
        "<p align=\"justify\">\n",
        "Tambien se pueden declarar las llamadas funciones anónimas o funciones lambda.<br><br> Estas son una forma de escribir funciones que consisten en una sola declaración, cuyo resultado es el valor devuelto. Se definen con la palabra clave <code>lambda</code>, que no tiene otro significado que \"estamos declarando una función anónima\"...\n",
        "</p>\n"
      ],
      "metadata": {
        "id": "dlBUBqG8ah6U"
      }
    },
    {
      "cell_type": "code",
      "source": [
        "def potencia_cuadrada(x):\n",
        "  return x ** 2"
      ],
      "metadata": {
        "id": "L6HobBh1QxO0"
      },
      "execution_count": null,
      "outputs": []
    },
    {
      "cell_type": "code",
      "source": [
        "type(potencia_cuadrada)"
      ],
      "metadata": {
        "colab": {
          "base_uri": "https://localhost:8080/"
        },
        "id": "_YrILbu1CkNR",
        "outputId": "bc276884-08b0-4a4a-8cb9-9a432023d88c"
      },
      "execution_count": null,
      "outputs": [
        {
          "output_type": "execute_result",
          "data": {
            "text/plain": [
              "function"
            ]
          },
          "metadata": {},
          "execution_count": 27
        }
      ]
    },
    {
      "cell_type": "code",
      "source": [
        "calculo = lambda x: x**3"
      ],
      "metadata": {
        "id": "cutDdMp-ZYCP"
      },
      "execution_count": null,
      "outputs": []
    },
    {
      "cell_type": "code",
      "source": [
        "type(calculo)"
      ],
      "metadata": {
        "colab": {
          "base_uri": "https://localhost:8080/"
        },
        "id": "tlFWHdIZCoRK",
        "outputId": "249a2a2c-83ae-419a-e785-161daac32fbc"
      },
      "execution_count": null,
      "outputs": [
        {
          "output_type": "execute_result",
          "data": {
            "text/plain": [
              "function"
            ]
          },
          "metadata": {},
          "execution_count": 87
        }
      ]
    },
    {
      "cell_type": "code",
      "source": [
        "calculo(5)"
      ],
      "metadata": {
        "colab": {
          "base_uri": "https://localhost:8080/"
        },
        "id": "TOaFu0Mwe1k7",
        "outputId": "32bc1e4a-6d5f-4429-c068-bf2811e697b5"
      },
      "execution_count": null,
      "outputs": [
        {
          "output_type": "execute_result",
          "data": {
            "text/plain": [
              "125"
            ]
          },
          "metadata": {},
          "execution_count": 88
        }
      ]
    },
    {
      "cell_type": "markdown",
      "source": [
        "<p align=\"justify\">\n",
        "👀 Las funciones lambda generalmente son funciones cortas. Normalmente se utilizan con <code>sorted</code>, <code>filter</code> y <code>map</code>.Su conveniencia es porque estas funciones no son almacenadas en memoria. Por ese motivo, se utilizan cuando se requieren.\n",
        "</p>\n"
      ],
      "metadata": {
        "id": "-9eCl99FfVJ7"
      }
    },
    {
      "cell_type": "markdown",
      "source": [
        "# **<font color=\"DeepPink\">Generadores</font>**"
      ],
      "metadata": {
        "id": "exR7H4MHdaEE"
      }
    },
    {
      "cell_type": "markdown",
      "source": [
        "<p align=\"justify\">\n",
        "Muchos objetos en Python admiten la iteración. Esto se logra mediante el protocolo iterador, una forma genérica de hacer que los objetos sean iterables. <br><br>Por ejemplo, al iterar sobre un diccionario se obtienen las claves del diccionario:\n",
        "</p>\n"
      ],
      "metadata": {
        "id": "mwtr4HgxeHfQ"
      }
    },
    {
      "cell_type": "code",
      "source": [
        "componentes"
      ],
      "metadata": {
        "colab": {
          "base_uri": "https://localhost:8080/"
        },
        "id": "cKOZpQksZX_J",
        "outputId": "8afff657-83e8-4b0f-ad37-46417b482c51"
      },
      "execution_count": null,
      "outputs": [
        {
          "output_type": "execute_result",
          "data": {
            "text/plain": [
              "{'Activo': 1000, 'Pasivo': 600, 'Patrimonio Neto': 400}"
            ]
          },
          "metadata": {},
          "execution_count": 30
        }
      ]
    },
    {
      "cell_type": "code",
      "source": [
        "for key in componentes:\n",
        "  print(key)"
      ],
      "metadata": {
        "colab": {
          "base_uri": "https://localhost:8080/"
        },
        "id": "slcwZmWjZX8n",
        "outputId": "261af2c9-1a74-44de-c530-ac7063d18239"
      },
      "execution_count": null,
      "outputs": [
        {
          "output_type": "stream",
          "name": "stdout",
          "text": [
            "Activo\n",
            "Pasivo\n",
            "Patrimonio Neto\n"
          ]
        }
      ]
    },
    {
      "cell_type": "markdown",
      "source": [
        "<p align=\"justify\">\n",
        "👀 Un generador es una forma conveniente, similar a escribir una función normal, de construir un nuevo objeto iterable. <br><br>Mientras que las funciones normales ejecutan y devuelven un solo resultado a la vez, los generadores pueden devolver una secuencia de múltiples valores pausando y reanudando la ejecución cada vez que se utiliza el generador. <br><br>Para crear un generador, utilice la palabra clave <code>yield</code> en lugar de <code>return</code>.\n",
        "</p>\n"
      ],
      "metadata": {
        "id": "jdmPP5TAgcB1"
      }
    },
    {
      "cell_type": "code",
      "source": [
        "def cuadrado(n=10):\n",
        "  print(f\"Generando cuadrados desde el valor 1 al valor {n ** 2}\")\n",
        "  for i in range(1, n + 1):\n",
        "    yield i ** 2"
      ],
      "metadata": {
        "id": "osNhnJ5PZXgW"
      },
      "execution_count": null,
      "outputs": []
    },
    {
      "cell_type": "markdown",
      "source": [
        "<p align=\"justify\">\n",
        "👀 Cuando se llama al generador, no se ejecuta ningún código inmediatamente...\n",
        "</p>\n"
      ],
      "metadata": {
        "id": "7HcXVcjcB5IB"
      }
    },
    {
      "cell_type": "code",
      "source": [
        "generador = cuadrado()\n",
        "generador"
      ],
      "metadata": {
        "colab": {
          "base_uri": "https://localhost:8080/"
        },
        "id": "ophFKEmHgEOP",
        "outputId": "2675bac9-8572-4e88-e655-21af163374a4"
      },
      "execution_count": null,
      "outputs": [
        {
          "output_type": "execute_result",
          "data": {
            "text/plain": [
              "<generator object cuadrado at 0x7fba7c64e4a0>"
            ]
          },
          "metadata": {},
          "execution_count": 33
        }
      ]
    },
    {
      "cell_type": "code",
      "source": [
        "type(generador)"
      ],
      "metadata": {
        "colab": {
          "base_uri": "https://localhost:8080/"
        },
        "id": "HOZLXNcpgELF",
        "outputId": "cf3de645-e0fa-4bca-fba0-d315e39e83d7"
      },
      "execution_count": null,
      "outputs": [
        {
          "output_type": "execute_result",
          "data": {
            "text/plain": [
              "generator"
            ]
          },
          "metadata": {},
          "execution_count": 34
        }
      ]
    },
    {
      "cell_type": "markdown",
      "source": [
        "<p align=\"justify\">\n",
        "👀 No es hasta que se solicita elementos del generador que comienza a ejecutarse su código.\n",
        "</p>\n"
      ],
      "metadata": {
        "id": "eAmBSryvDJHa"
      }
    },
    {
      "cell_type": "code",
      "source": [
        "for i in generador:\n",
        "  print(i, end=\" \")"
      ],
      "metadata": {
        "colab": {
          "base_uri": "https://localhost:8080/"
        },
        "id": "3nhv3yoWgEIh",
        "outputId": "07f4993a-f630-41a5-c94e-7d661d38116d"
      },
      "execution_count": null,
      "outputs": [
        {
          "output_type": "stream",
          "name": "stdout",
          "text": [
            "Generando cuadrados desde el valor 1 al valor 100\n",
            "1 4 9 16 25 36 49 64 81 100 "
          ]
        }
      ]
    },
    {
      "cell_type": "markdown",
      "source": [
        "<p align=\"justify\">\n",
        "Dado que los generadores producen salida de un elemento a la vez en lugar de una lista completa a la vez, esto puede ayudar a usar menos memoria.</p>\n"
      ],
      "metadata": {
        "id": "3gAFcijBErhF"
      }
    },
    {
      "cell_type": "markdown",
      "source": [
        "## **<font color=\"DeepPink\">Expresiones Generadoras</font>**"
      ],
      "metadata": {
        "id": "vsWkdqwKFBvH"
      }
    },
    {
      "cell_type": "markdown",
      "source": [
        "<p align=\"justify\">\n",
        "Otra forma de hacer un generador es mediante el uso de una expresión. Este es un generador análogo para enumerar, para diccionarios y tambien establecer comprensiones. <br><br>Para crear una expresión generadora, se debe incluir una comprensión de lista entre paréntesis en lugar de hacerla entre corchetes.<br><br>Por ejemplo:\n",
        "</p>\n"
      ],
      "metadata": {
        "id": "1VpQa2kIFNp0"
      }
    },
    {
      "cell_type": "code",
      "source": [
        "generador = (x ** 2 for x in range(10))"
      ],
      "metadata": {
        "id": "mBfIrn4YCflu"
      },
      "execution_count": null,
      "outputs": []
    },
    {
      "cell_type": "markdown",
      "source": [
        "<p align=\"justify\">\n",
        "👀 Esto es equivalente al siguiente generador más detallado:\n",
        "</p>\n"
      ],
      "metadata": {
        "id": "nlZG8IGxGqqs"
      }
    },
    {
      "cell_type": "code",
      "source": [
        "def generador():\n",
        "  for x in range(10):\n",
        "    yield x ** 2\n",
        "generador = generador()"
      ],
      "metadata": {
        "id": "_gH7wAQ6GtZV"
      },
      "execution_count": null,
      "outputs": []
    },
    {
      "cell_type": "markdown",
      "source": [
        "## **<font color=\"DeepPink\">Expresiones Generadoras como argumentos</font>**"
      ],
      "metadata": {
        "id": "glUwHYfiKekH"
      }
    },
    {
      "cell_type": "markdown",
      "source": [
        "<p align=\"justify\">\n",
        "Las expresiones generadoras se pueden utilizar en lugar de las comprensiones de lista como argumentos de función en algunos casos:\n",
        "</p>\n"
      ],
      "metadata": {
        "id": "DAjfR8nIGrhs"
      }
    },
    {
      "cell_type": "code",
      "source": [
        "tuple(x ** 2 for x in range(11))"
      ],
      "metadata": {
        "colab": {
          "base_uri": "https://localhost:8080/"
        },
        "id": "y4_IhGcJJdYd",
        "outputId": "32e0497f-7448-4255-a293-7e0e209e3b3f"
      },
      "execution_count": null,
      "outputs": [
        {
          "output_type": "execute_result",
          "data": {
            "text/plain": [
              "(0, 1, 4, 9, 16, 25, 36, 49, 64, 81, 100)"
            ]
          },
          "metadata": {},
          "execution_count": 43
        }
      ]
    },
    {
      "cell_type": "code",
      "source": [
        "list(x ** 2 for x in range(11))"
      ],
      "metadata": {
        "colab": {
          "base_uri": "https://localhost:8080/"
        },
        "id": "ZrBulyxMCfiW",
        "outputId": "111a03c7-6f51-48a4-8c99-1277819a1b4d"
      },
      "execution_count": null,
      "outputs": [
        {
          "output_type": "execute_result",
          "data": {
            "text/plain": [
              "[0, 1, 4, 9, 16, 25, 36, 49, 64, 81, 100]"
            ]
          },
          "metadata": {},
          "execution_count": 39
        }
      ]
    },
    {
      "cell_type": "code",
      "source": [
        "dict((i, i ** 2) for i in range(11))"
      ],
      "metadata": {
        "colab": {
          "base_uri": "https://localhost:8080/"
        },
        "id": "bso525vFCffS",
        "outputId": "5bd6ee27-55e4-4bdc-f92c-16ca0986710a"
      },
      "execution_count": null,
      "outputs": [
        {
          "output_type": "execute_result",
          "data": {
            "text/plain": [
              "{0: 0, 1: 1, 2: 4, 3: 9, 4: 16, 5: 25, 6: 36, 7: 49, 8: 64, 9: 81, 10: 100}"
            ]
          },
          "metadata": {},
          "execution_count": 40
        }
      ]
    },
    {
      "cell_type": "code",
      "source": [
        "set(x ** 2 for x in range(11))"
      ],
      "metadata": {
        "colab": {
          "base_uri": "https://localhost:8080/"
        },
        "id": "mjqnHdJUZXdl",
        "outputId": "1a95657a-961d-42cd-91a3-7d49c3e873de"
      },
      "execution_count": null,
      "outputs": [
        {
          "output_type": "execute_result",
          "data": {
            "text/plain": [
              "{0, 1, 4, 9, 16, 25, 36, 49, 64, 81, 100}"
            ]
          },
          "metadata": {},
          "execution_count": 44
        }
      ]
    },
    {
      "cell_type": "markdown",
      "source": [
        "# **<font color=\"DeepPink\">Manejo de errores y excepciones</font>**"
      ],
      "metadata": {
        "id": "YHe_zh6lLZuH"
      }
    },
    {
      "cell_type": "markdown",
      "source": [
        "<p align=\"justify\">\n",
        "Manejar los errores o excepciones de Python es una parte importante de la creación de scripts robustos. En las aplicaciones de análisis de datos, muchas funciones solo funcionan en ciertos tipos de entrada. Ejemplo, la función <code>float()</code> que es capaz de convertir una cadena de caracteres a un número decimal, pero falla con entradas incorrectas.<br><br>Por ejemplo:\n",
        "\n",
        "</p>\n"
      ],
      "metadata": {
        "id": "JMI7HxFCLeoN"
      }
    },
    {
      "cell_type": "code",
      "source": [
        "float(\"45.90\")"
      ],
      "metadata": {
        "colab": {
          "base_uri": "https://localhost:8080/"
        },
        "id": "LvOvVv8gHCzr",
        "outputId": "3a0410a1-ad72-41e9-d959-e6131f4e35a2"
      },
      "execution_count": null,
      "outputs": [
        {
          "output_type": "execute_result",
          "data": {
            "text/plain": [
              "45.9"
            ]
          },
          "metadata": {},
          "execution_count": 45
        }
      ]
    },
    {
      "cell_type": "code",
      "source": [
        "float(\"numero\")"
      ],
      "metadata": {
        "colab": {
          "base_uri": "https://localhost:8080/",
          "height": 165
        },
        "id": "AMVK7roEM0va",
        "outputId": "2a18dbb0-6c26-479f-9d39-f295749dcc79"
      },
      "execution_count": null,
      "outputs": [
        {
          "output_type": "error",
          "ename": "ValueError",
          "evalue": "ignored",
          "traceback": [
            "\u001b[0;31m---------------------------------------------------------------------------\u001b[0m",
            "\u001b[0;31mValueError\u001b[0m                                Traceback (most recent call last)",
            "\u001b[0;32m<ipython-input-46-d7375b09a98c>\u001b[0m in \u001b[0;36m<module>\u001b[0;34m\u001b[0m\n\u001b[0;32m----> 1\u001b[0;31m \u001b[0mfloat\u001b[0m\u001b[0;34m(\u001b[0m\u001b[0;34m\"numero\"\u001b[0m\u001b[0;34m)\u001b[0m\u001b[0;34m\u001b[0m\u001b[0;34m\u001b[0m\u001b[0m\n\u001b[0m",
            "\u001b[0;31mValueError\u001b[0m: could not convert string to float: 'numero'"
          ]
        }
      ]
    },
    {
      "cell_type": "markdown",
      "source": [
        "<p align=\"justify\">\n",
        "Para evitar la falla por una entrada incorrecta,  generamos una función encerrando el bloque de la misma con <code>try</code> y <code>except</code>. Si la entrada de la función es correcta, entonces se ejecuta <code>try</code>, y si la entrada de la función no es la correcta, entonces se ejecuta <code>except</code>.<br><br>Por ejemplo:\n",
        "</p>\n"
      ],
      "metadata": {
        "id": "Phh5e7TeNrOd"
      }
    },
    {
      "cell_type": "code",
      "source": [
        "def a_decimal(x):\n",
        "  try:\n",
        "    return float(x)\n",
        "  except:\n",
        "    return x"
      ],
      "metadata": {
        "id": "ON4TzjLUHCwS"
      },
      "execution_count": null,
      "outputs": []
    },
    {
      "cell_type": "code",
      "source": [
        "a_decimal(\"45.98\")"
      ],
      "metadata": {
        "colab": {
          "base_uri": "https://localhost:8080/"
        },
        "id": "t_g33AkYHCnx",
        "outputId": "9e2a117a-f1fc-45be-9ac1-12cdf8a4116e"
      },
      "execution_count": null,
      "outputs": [
        {
          "output_type": "execute_result",
          "data": {
            "text/plain": [
              "45.98"
            ]
          },
          "metadata": {},
          "execution_count": 48
        }
      ]
    },
    {
      "cell_type": "code",
      "source": [
        "a_decimal(\"numero\")"
      ],
      "metadata": {
        "colab": {
          "base_uri": "https://localhost:8080/",
          "height": 35
        },
        "id": "50-3QzY-HCke",
        "outputId": "c13c82dd-9e27-4ab1-fc99-b0b8e6cf3477"
      },
      "execution_count": null,
      "outputs": [
        {
          "output_type": "execute_result",
          "data": {
            "text/plain": [
              "'numero'"
            ],
            "application/vnd.google.colaboratory.intrinsic+json": {
              "type": "string"
            }
          },
          "metadata": {},
          "execution_count": 49
        }
      ]
    },
    {
      "cell_type": "markdown",
      "source": [
        "<p align=\"justify\">\n",
        "👀 Pero, se pueden generar excepciones de distintos  errores...\n",
        "</p>\n"
      ],
      "metadata": {
        "id": "UClE-37hPvag"
      }
    },
    {
      "cell_type": "code",
      "source": [
        "float((298, 874))"
      ],
      "metadata": {
        "colab": {
          "base_uri": "https://localhost:8080/",
          "height": 165
        },
        "id": "HFRCSVcOHCg_",
        "outputId": "a8ec4f2f-fded-441b-fcc9-a9f10af90c79"
      },
      "execution_count": null,
      "outputs": [
        {
          "output_type": "error",
          "ename": "TypeError",
          "evalue": "ignored",
          "traceback": [
            "\u001b[0;31m---------------------------------------------------------------------------\u001b[0m",
            "\u001b[0;31mTypeError\u001b[0m                                 Traceback (most recent call last)",
            "\u001b[0;32m<ipython-input-50-51c9647241d0>\u001b[0m in \u001b[0;36m<module>\u001b[0;34m\u001b[0m\n\u001b[0;32m----> 1\u001b[0;31m \u001b[0mfloat\u001b[0m\u001b[0;34m(\u001b[0m\u001b[0;34m(\u001b[0m\u001b[0;36m298\u001b[0m\u001b[0;34m,\u001b[0m \u001b[0;36m874\u001b[0m\u001b[0;34m)\u001b[0m\u001b[0;34m)\u001b[0m\u001b[0;34m\u001b[0m\u001b[0;34m\u001b[0m\u001b[0m\n\u001b[0m",
            "\u001b[0;31mTypeError\u001b[0m: float() argument must be a string or a number, not 'tuple'"
          ]
        }
      ]
    },
    {
      "cell_type": "code",
      "source": [
        "def a_decimal(x):\n",
        "  try:\n",
        "    return float(x)\n",
        "  except (TypeError, ValueError):\n",
        "    return x"
      ],
      "metadata": {
        "id": "Ak_Em3NGP6xW"
      },
      "execution_count": null,
      "outputs": []
    },
    {
      "cell_type": "code",
      "source": [
        "a_decimal((298, 874))"
      ],
      "metadata": {
        "colab": {
          "base_uri": "https://localhost:8080/"
        },
        "id": "RpyzBMXDP6t-",
        "outputId": "03cc2066-b55b-40a9-945b-a6796dfb81f2"
      },
      "execution_count": null,
      "outputs": [
        {
          "output_type": "execute_result",
          "data": {
            "text/plain": [
              "(298, 874)"
            ]
          },
          "metadata": {},
          "execution_count": 52
        }
      ]
    },
    {
      "cell_type": "markdown",
      "source": [
        "<p align=\"justify\">\n",
        "Entonces, las excepciones son errores detectados por Python durante la ejecución del programa. Cuando el intérprete se encuentra con una situación excepcional, como el intentar dividir un número entre 0 o el intentar acceder a un archivo que no existe, este genera o lanza una excepción, informando al usuario de que existe algún problema.\n",
        "</p>"
      ],
      "metadata": {
        "id": "CAaT9RGIvqBV"
      }
    },
    {
      "cell_type": "markdown",
      "source": [
        "<p align=\"center\"><b>\n",
        "💗\n",
        "<font color=\"DeepPink\">\n",
        "Hemos llegado al final de nuestro colab, a seguir codeando...\n",
        "</font>\n",
        "</p>\n"
      ],
      "metadata": {
        "id": "GgHa2NAAYRqc"
      }
    },
    {
      "cell_type": "markdown",
      "source": [
        "<p align=\"center\">\n",
        "<img src=\"https://github.com/cristiandarioortegayubro/BDS/blob/main/images/Logo%20BDS%20Horizontal%208.png?raw=true\"/>\n",
        "</p>\n",
        "\n",
        "---"
      ],
      "metadata": {
        "id": "_jnpQT4hY1Cr"
      }
    }
  ]
}