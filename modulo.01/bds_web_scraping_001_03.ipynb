{
  "nbformat": 4,
  "nbformat_minor": 0,
  "metadata": {
    "colab": {
      "provenance": [],
      "include_colab_link": true
    },
    "kernelspec": {
      "name": "python3",
      "display_name": "Python 3"
    },
    "language_info": {
      "name": "python"
    }
  },
  "cells": [
    {
      "cell_type": "markdown",
      "metadata": {
        "id": "view-in-github",
        "colab_type": "text"
      },
      "source": [
        "<a href=\"https://colab.research.google.com/github/cristiandarioortegayubro/BDS/blob/main/modulo.01/bds_web_scraping_001_03.ipynb\" target=\"_parent\"><img src=\"https://colab.research.google.com/assets/colab-badge.svg\" alt=\"Open In Colab\"/></a>"
      ]
    },
    {
      "cell_type": "markdown",
      "source": [
        "<p align=\"center\">\n",
        "<img src=\"https://github.com/cristiandarioortegayubro/BDS/blob/main/images/Logo%20Pandas.png?raw=true\">\n",
        "</p>\n"
      ],
      "metadata": {
        "id": "XM-hn7ZLmgQc"
      }
    },
    {
      "cell_type": "markdown",
      "source": [
        " # **<font color=\"DeepPink\">Web Scraping en Administración Tributaria Mendoza</font>**"
      ],
      "metadata": {
        "id": "_o8tuKydjnRZ"
      }
    },
    {
      "cell_type": "markdown",
      "source": [
        "Scripts desarrollados por [Mauro Ariel Donnantuoni Moratto](https://www.linkedin.com/in/mauro-ariel-donnantuoni-moratto/)"
      ],
      "metadata": {
        "id": "aLhOatPmBJo2"
      }
    },
    {
      "cell_type": "markdown",
      "source": [
        "<p align=\"center\">\n",
        "<img src=\"https://atm.mendoza.gov.ar/wp-content/uploads/2023/01/Frente-Atm.png\">\n",
        "</p>\n",
        "\n"
      ],
      "metadata": {
        "id": "NoUQK_JWXFJS"
      }
    },
    {
      "cell_type": "markdown",
      "source": [
        "https://atm.mendoza.gov.ar/portalatm/zoneBottom/datosInteres/recaudacion/recaudacion_impuesto_ingresos.jsp\n"
      ],
      "metadata": {
        "id": "B8gzMopmXYz0"
      }
    },
    {
      "cell_type": "markdown",
      "source": [
        "<p align=\"justify\">\n",
        "👀 En la página web de la Administración Tributaria Mendoza, podemos ver la recaudación por ejercicios fiscales del Impuesto sobre los Ingresos Brutos. Lo que vamos a hacer, es tomar esos datos y generar nuestro <code>DataFrame</code> para gráficar.</p>"
      ],
      "metadata": {
        "id": "jhI41-bg5fR3"
      }
    },
    {
      "cell_type": "markdown",
      "source": [
        " # **<font color=\"DeepPink\">Habilitando bibliotecas requeridas</font>**"
      ],
      "metadata": {
        "id": "8kA2de5eXpZ2"
      }
    },
    {
      "cell_type": "markdown",
      "source": [
        " ## **<font color=\"DeepPink\">Para análisis de datos</font>**"
      ],
      "metadata": {
        "id": "riE9ZSRbOdsF"
      }
    },
    {
      "cell_type": "code",
      "source": [
        "import numpy as np\n",
        "import pandas as pd"
      ],
      "metadata": {
        "id": "dQtWrchXqRb3"
      },
      "execution_count": null,
      "outputs": []
    },
    {
      "cell_type": "markdown",
      "source": [
        " ## **<font color=\"DeepPink\">Para web scraping</font>**"
      ],
      "metadata": {
        "id": "Id0dcqVMX9o7"
      }
    },
    {
      "cell_type": "code",
      "source": [
        "import lxml\n",
        "import bs4\n",
        "import html5lib"
      ],
      "metadata": {
        "id": "0f7qDtvqYByE"
      },
      "execution_count": null,
      "outputs": []
    },
    {
      "cell_type": "markdown",
      "source": [
        " ## **<font color=\"DeepPink\">Configuraciones del DataFrame</font>**"
      ],
      "metadata": {
        "id": "85T0X5IIYlsr"
      }
    },
    {
      "cell_type": "code",
      "source": [
        "pd.options.display.precision = 2\n",
        "pd.options.display.float_format = \"${:,.2f}\".format"
      ],
      "metadata": {
        "id": "vn5fLW5NY0UP"
      },
      "execution_count": null,
      "outputs": []
    },
    {
      "cell_type": "markdown",
      "source": [
        " ## **<font color=\"DeepPink\">Para graficos</font>**"
      ],
      "metadata": {
        "id": "LB77esomjWEy"
      }
    },
    {
      "cell_type": "code",
      "source": [
        "import plotly.express as px\n",
        "from plotly.subplots import make_subplots\n",
        "import plotly.graph_objects as go"
      ],
      "metadata": {
        "id": "IXOgawSXjYwp"
      },
      "execution_count": null,
      "outputs": []
    },
    {
      "cell_type": "markdown",
      "source": [
        " # **<font color=\"DeepPink\">Obtención de datos y generación del DataFrame</font>**"
      ],
      "metadata": {
        "id": "49URVyIWZBU6"
      }
    },
    {
      "cell_type": "code",
      "source": [
        "data = \"https://atm.mendoza.gov.ar/portalatm/zoneBottom/datosInteres/recaudacion/recaudacion_impuesto_ingresos.jsp\"\n",
        "lista = pd.read_html(data)\n",
        "df = lista[0]\n",
        "recaudacion = df.iloc[2:,1:24]\n",
        "recaudacion.rename(columns = lambda col: f\"Año fiscal {col + 1999}\", inplace=True)\n",
        "recaudacion.index = recaudacion.index - 1\n",
        "recaudacion.index.name = \"Mes\"\n",
        "recaudacion = recaudacion.astype(\"Float32\")\n",
        "recaudacion"
      ],
      "metadata": {
        "id": "b0qnZphRZOVS",
        "colab": {
          "base_uri": "https://localhost:8080/",
          "height": 567
        },
        "outputId": "fc395c4d-36c6-4529-da36-3ae73b2f26d7"
      },
      "execution_count": null,
      "outputs": [
        {
          "output_type": "execute_result",
          "data": {
            "text/plain": [
              "     Año fiscal 2000  Año fiscal 2001  Año fiscal 2002  Año fiscal 2003  \\\n",
              "Mes                                                                       \n",
              "1     $18,843,926.00   $18,114,420.00   $12,722,708.00   $20,192,886.00   \n",
              "2     $16,258,743.00   $32,180,908.00   $11,237,981.00   $20,257,924.00   \n",
              "3     $17,468,328.00   $14,453,688.00   $11,460,186.00   $19,766,456.00   \n",
              "4     $17,463,084.00   $15,809,614.00   $12,300,935.00   $20,503,786.00   \n",
              "5     $15,978,692.00   $14,610,889.00   $14,265,621.00   $20,988,948.00   \n",
              "6     $14,676,011.00   $14,328,045.00   $16,351,168.00   $21,041,196.00   \n",
              "7     $15,299,790.00   $14,675,150.00   $17,106,546.00   $21,763,328.00   \n",
              "8     $15,802,483.00   $14,475,158.00   $18,373,950.00   $23,185,412.00   \n",
              "9     $15,756,538.00   $16,781,292.00   $18,684,200.00   $25,513,568.00   \n",
              "10    $15,731,005.00   $13,506,128.00   $18,518,490.00   $25,042,384.00   \n",
              "11    $15,660,556.00   $13,446,877.00   $21,317,298.00   $25,520,492.00   \n",
              "12    $16,032,799.00   $11,570,299.00   $19,508,400.00   $25,122,948.00   \n",
              "\n",
              "     Año fiscal 2004  Año fiscal 2005  Año fiscal 2006  Año fiscal 2007  \\\n",
              "Mes                                                                       \n",
              "1     $28,492,948.00   $37,455,920.00   $48,307,580.00   $61,131,912.00   \n",
              "2     $26,276,428.00   $35,131,740.00   $45,290,616.00   $58,230,196.00   \n",
              "3     $27,124,258.00   $33,982,256.00   $45,654,236.00   $58,267,060.00   \n",
              "4     $32,466,740.00   $39,149,216.00   $47,268,952.00   $61,113,108.00   \n",
              "5     $30,252,980.00   $39,887,132.00   $60,082,272.00   $65,113,468.00   \n",
              "6     $30,687,746.00   $39,160,680.00   $56,268,380.00   $65,906,756.00   \n",
              "7     $30,962,034.00   $39,205,416.00   $59,484,120.00   $66,270,872.00   \n",
              "8     $31,937,418.00   $40,688,412.00   $58,732,120.00   $67,496,824.00   \n",
              "9     $31,578,992.00   $43,003,892.00   $63,159,168.00   $70,058,016.00   \n",
              "10    $33,774,688.00   $41,477,904.00   $63,007,200.00   $72,036,144.00   \n",
              "11    $33,742,036.00   $42,190,328.00   $61,376,700.00   $75,454,992.00   \n",
              "12    $34,519,524.00   $45,989,900.00   $55,169,336.00   $66,286,136.00   \n",
              "\n",
              "     Año fiscal 2008  Año fiscal 2009  ...  Año fiscal 2013  Año fiscal 2014  \\\n",
              "Mes                                    ...                                     \n",
              "1     $88,818,880.00   $92,258,440.00  ...  $397,924,128.00  $617,487,232.00   \n",
              "2     $76,675,888.00   $87,810,744.00  ...  $384,301,376.00  $594,553,984.00   \n",
              "3     $74,072,264.00   $78,868,768.00  ...  $380,740,032.00  $574,800,384.00   \n",
              "4     $88,241,184.00   $85,345,416.00  ...  $409,508,288.00  $590,621,184.00   \n",
              "5     $90,479,856.00   $89,655,040.00  ...  $434,638,400.00  $608,269,504.00   \n",
              "6     $83,292,808.00   $87,674,064.00  ...  $443,506,240.00  $604,987,648.00   \n",
              "7     $88,028,896.00   $90,860,864.00  ...  $457,074,208.00  $604,665,536.00   \n",
              "8     $94,763,400.00   $93,054,928.00  ...  $476,677,280.00  $693,626,752.00   \n",
              "9     $91,342,608.00   $96,826,064.00  ...  $517,929,600.00  $673,022,272.00   \n",
              "10    $90,090,536.00  $104,056,432.00  ...  $485,045,472.00  $766,913,472.00   \n",
              "11    $85,291,056.00  $104,645,424.00  ...  $565,675,968.00  $728,167,680.00   \n",
              "12    $88,008,560.00  $106,053,128.00  ...  $581,997,312.00  $771,578,816.00   \n",
              "\n",
              "     Año fiscal 2015   Año fiscal 2016   Año fiscal 2017   Año fiscal 2018  \\\n",
              "Mes                                                                          \n",
              "1    $782,112,960.00   $990,329,984.00 $1,317,982,208.00 $1,642,808,064.00   \n",
              "2    $729,820,544.00   $919,810,304.00 $1,194,014,720.00 $1,497,939,072.00   \n",
              "3    $702,603,264.00   $965,441,664.00 $1,202,600,320.00 $1,492,442,496.00   \n",
              "4    $741,563,456.00 $1,046,270,144.00 $1,386,964,096.00 $1,611,327,488.00   \n",
              "5    $770,937,472.00 $1,043,528,832.00 $1,288,922,112.00 $1,630,360,960.00   \n",
              "6    $774,531,264.00   $991,656,640.00 $1,291,359,744.00 $1,725,683,968.00   \n",
              "7    $856,524,736.00 $1,105,998,080.00 $1,355,228,800.00 $1,734,466,048.00   \n",
              "8    $859,765,312.00 $1,127,364,480.00 $1,460,045,952.00 $1,884,253,312.00   \n",
              "9    $831,099,072.00 $1,141,604,480.00 $1,518,901,760.00 $2,059,133,824.00   \n",
              "10   $897,798,272.00 $1,098,256,384.00 $1,483,261,440.00 $2,154,164,736.00   \n",
              "11   $896,822,336.00 $1,175,329,152.00 $1,484,020,608.00 $2,203,835,392.00   \n",
              "12   $928,323,904.00 $1,192,269,568.00 $1,668,256,896.00 $2,105,064,960.00   \n",
              "\n",
              "      Año fiscal 2019   Año fiscal 2020   Año fiscal 2021    Año fiscal 2022  \n",
              "Mes                                                                           \n",
              "1   $2,195,529,728.00 $3,068,476,928.00 $4,210,333,184.00  $6,815,275,520.00  \n",
              "2   $2,103,363,712.00 $3,246,583,040.00 $4,035,920,128.00  $6,525,087,744.00  \n",
              "3   $2,143,791,360.00 $2,869,934,848.00 $3,969,197,824.00  $6,633,613,312.00  \n",
              "4   $2,277,286,912.00 $2,711,721,984.00 $4,446,800,384.00  $7,882,943,488.00  \n",
              "5   $2,456,052,992.00 $2,558,796,288.00 $4,285,918,464.00  $8,485,148,672.00  \n",
              "6   $2,334,065,920.00 $2,601,499,392.00 $4,477,259,264.00  $8,272,230,912.00  \n",
              "7   $2,419,755,008.00 $2,800,037,632.00 $4,653,112,320.00  $9,777,144,832.00  \n",
              "8   $2,761,171,712.00 $3,271,900,928.00 $4,977,782,272.00 $10,673,847,296.00  \n",
              "9   $2,874,249,728.00 $3,102,345,216.00 $5,349,090,816.00 $10,903,033,856.00  \n",
              "10  $2,863,717,888.00 $3,254,208,768.00 $5,368,896,000.00 $11,468,663,808.00  \n",
              "11  $2,963,817,472.00 $3,590,381,824.00 $5,800,018,432.00 $12,420,675,584.00  \n",
              "12  $2,857,067,520.00 $3,619,140,608.00 $6,548,177,920.00 $12,973,070,336.00  \n",
              "\n",
              "[12 rows x 23 columns]"
            ],
            "text/html": [
              "\n",
              "  <div id=\"df-7793f552-9613-4eb4-814a-a579a7d93a2b\">\n",
              "    <div class=\"colab-df-container\">\n",
              "      <div>\n",
              "<style scoped>\n",
              "    .dataframe tbody tr th:only-of-type {\n",
              "        vertical-align: middle;\n",
              "    }\n",
              "\n",
              "    .dataframe tbody tr th {\n",
              "        vertical-align: top;\n",
              "    }\n",
              "\n",
              "    .dataframe thead th {\n",
              "        text-align: right;\n",
              "    }\n",
              "</style>\n",
              "<table border=\"1\" class=\"dataframe\">\n",
              "  <thead>\n",
              "    <tr style=\"text-align: right;\">\n",
              "      <th></th>\n",
              "      <th>Año fiscal 2000</th>\n",
              "      <th>Año fiscal 2001</th>\n",
              "      <th>Año fiscal 2002</th>\n",
              "      <th>Año fiscal 2003</th>\n",
              "      <th>Año fiscal 2004</th>\n",
              "      <th>Año fiscal 2005</th>\n",
              "      <th>Año fiscal 2006</th>\n",
              "      <th>Año fiscal 2007</th>\n",
              "      <th>Año fiscal 2008</th>\n",
              "      <th>Año fiscal 2009</th>\n",
              "      <th>...</th>\n",
              "      <th>Año fiscal 2013</th>\n",
              "      <th>Año fiscal 2014</th>\n",
              "      <th>Año fiscal 2015</th>\n",
              "      <th>Año fiscal 2016</th>\n",
              "      <th>Año fiscal 2017</th>\n",
              "      <th>Año fiscal 2018</th>\n",
              "      <th>Año fiscal 2019</th>\n",
              "      <th>Año fiscal 2020</th>\n",
              "      <th>Año fiscal 2021</th>\n",
              "      <th>Año fiscal 2022</th>\n",
              "    </tr>\n",
              "    <tr>\n",
              "      <th>Mes</th>\n",
              "      <th></th>\n",
              "      <th></th>\n",
              "      <th></th>\n",
              "      <th></th>\n",
              "      <th></th>\n",
              "      <th></th>\n",
              "      <th></th>\n",
              "      <th></th>\n",
              "      <th></th>\n",
              "      <th></th>\n",
              "      <th></th>\n",
              "      <th></th>\n",
              "      <th></th>\n",
              "      <th></th>\n",
              "      <th></th>\n",
              "      <th></th>\n",
              "      <th></th>\n",
              "      <th></th>\n",
              "      <th></th>\n",
              "      <th></th>\n",
              "      <th></th>\n",
              "    </tr>\n",
              "  </thead>\n",
              "  <tbody>\n",
              "    <tr>\n",
              "      <th>1</th>\n",
              "      <td>$18,843,926.00</td>\n",
              "      <td>$18,114,420.00</td>\n",
              "      <td>$12,722,708.00</td>\n",
              "      <td>$20,192,886.00</td>\n",
              "      <td>$28,492,948.00</td>\n",
              "      <td>$37,455,920.00</td>\n",
              "      <td>$48,307,580.00</td>\n",
              "      <td>$61,131,912.00</td>\n",
              "      <td>$88,818,880.00</td>\n",
              "      <td>$92,258,440.00</td>\n",
              "      <td>...</td>\n",
              "      <td>$397,924,128.00</td>\n",
              "      <td>$617,487,232.00</td>\n",
              "      <td>$782,112,960.00</td>\n",
              "      <td>$990,329,984.00</td>\n",
              "      <td>$1,317,982,208.00</td>\n",
              "      <td>$1,642,808,064.00</td>\n",
              "      <td>$2,195,529,728.00</td>\n",
              "      <td>$3,068,476,928.00</td>\n",
              "      <td>$4,210,333,184.00</td>\n",
              "      <td>$6,815,275,520.00</td>\n",
              "    </tr>\n",
              "    <tr>\n",
              "      <th>2</th>\n",
              "      <td>$16,258,743.00</td>\n",
              "      <td>$32,180,908.00</td>\n",
              "      <td>$11,237,981.00</td>\n",
              "      <td>$20,257,924.00</td>\n",
              "      <td>$26,276,428.00</td>\n",
              "      <td>$35,131,740.00</td>\n",
              "      <td>$45,290,616.00</td>\n",
              "      <td>$58,230,196.00</td>\n",
              "      <td>$76,675,888.00</td>\n",
              "      <td>$87,810,744.00</td>\n",
              "      <td>...</td>\n",
              "      <td>$384,301,376.00</td>\n",
              "      <td>$594,553,984.00</td>\n",
              "      <td>$729,820,544.00</td>\n",
              "      <td>$919,810,304.00</td>\n",
              "      <td>$1,194,014,720.00</td>\n",
              "      <td>$1,497,939,072.00</td>\n",
              "      <td>$2,103,363,712.00</td>\n",
              "      <td>$3,246,583,040.00</td>\n",
              "      <td>$4,035,920,128.00</td>\n",
              "      <td>$6,525,087,744.00</td>\n",
              "    </tr>\n",
              "    <tr>\n",
              "      <th>3</th>\n",
              "      <td>$17,468,328.00</td>\n",
              "      <td>$14,453,688.00</td>\n",
              "      <td>$11,460,186.00</td>\n",
              "      <td>$19,766,456.00</td>\n",
              "      <td>$27,124,258.00</td>\n",
              "      <td>$33,982,256.00</td>\n",
              "      <td>$45,654,236.00</td>\n",
              "      <td>$58,267,060.00</td>\n",
              "      <td>$74,072,264.00</td>\n",
              "      <td>$78,868,768.00</td>\n",
              "      <td>...</td>\n",
              "      <td>$380,740,032.00</td>\n",
              "      <td>$574,800,384.00</td>\n",
              "      <td>$702,603,264.00</td>\n",
              "      <td>$965,441,664.00</td>\n",
              "      <td>$1,202,600,320.00</td>\n",
              "      <td>$1,492,442,496.00</td>\n",
              "      <td>$2,143,791,360.00</td>\n",
              "      <td>$2,869,934,848.00</td>\n",
              "      <td>$3,969,197,824.00</td>\n",
              "      <td>$6,633,613,312.00</td>\n",
              "    </tr>\n",
              "    <tr>\n",
              "      <th>4</th>\n",
              "      <td>$17,463,084.00</td>\n",
              "      <td>$15,809,614.00</td>\n",
              "      <td>$12,300,935.00</td>\n",
              "      <td>$20,503,786.00</td>\n",
              "      <td>$32,466,740.00</td>\n",
              "      <td>$39,149,216.00</td>\n",
              "      <td>$47,268,952.00</td>\n",
              "      <td>$61,113,108.00</td>\n",
              "      <td>$88,241,184.00</td>\n",
              "      <td>$85,345,416.00</td>\n",
              "      <td>...</td>\n",
              "      <td>$409,508,288.00</td>\n",
              "      <td>$590,621,184.00</td>\n",
              "      <td>$741,563,456.00</td>\n",
              "      <td>$1,046,270,144.00</td>\n",
              "      <td>$1,386,964,096.00</td>\n",
              "      <td>$1,611,327,488.00</td>\n",
              "      <td>$2,277,286,912.00</td>\n",
              "      <td>$2,711,721,984.00</td>\n",
              "      <td>$4,446,800,384.00</td>\n",
              "      <td>$7,882,943,488.00</td>\n",
              "    </tr>\n",
              "    <tr>\n",
              "      <th>5</th>\n",
              "      <td>$15,978,692.00</td>\n",
              "      <td>$14,610,889.00</td>\n",
              "      <td>$14,265,621.00</td>\n",
              "      <td>$20,988,948.00</td>\n",
              "      <td>$30,252,980.00</td>\n",
              "      <td>$39,887,132.00</td>\n",
              "      <td>$60,082,272.00</td>\n",
              "      <td>$65,113,468.00</td>\n",
              "      <td>$90,479,856.00</td>\n",
              "      <td>$89,655,040.00</td>\n",
              "      <td>...</td>\n",
              "      <td>$434,638,400.00</td>\n",
              "      <td>$608,269,504.00</td>\n",
              "      <td>$770,937,472.00</td>\n",
              "      <td>$1,043,528,832.00</td>\n",
              "      <td>$1,288,922,112.00</td>\n",
              "      <td>$1,630,360,960.00</td>\n",
              "      <td>$2,456,052,992.00</td>\n",
              "      <td>$2,558,796,288.00</td>\n",
              "      <td>$4,285,918,464.00</td>\n",
              "      <td>$8,485,148,672.00</td>\n",
              "    </tr>\n",
              "    <tr>\n",
              "      <th>6</th>\n",
              "      <td>$14,676,011.00</td>\n",
              "      <td>$14,328,045.00</td>\n",
              "      <td>$16,351,168.00</td>\n",
              "      <td>$21,041,196.00</td>\n",
              "      <td>$30,687,746.00</td>\n",
              "      <td>$39,160,680.00</td>\n",
              "      <td>$56,268,380.00</td>\n",
              "      <td>$65,906,756.00</td>\n",
              "      <td>$83,292,808.00</td>\n",
              "      <td>$87,674,064.00</td>\n",
              "      <td>...</td>\n",
              "      <td>$443,506,240.00</td>\n",
              "      <td>$604,987,648.00</td>\n",
              "      <td>$774,531,264.00</td>\n",
              "      <td>$991,656,640.00</td>\n",
              "      <td>$1,291,359,744.00</td>\n",
              "      <td>$1,725,683,968.00</td>\n",
              "      <td>$2,334,065,920.00</td>\n",
              "      <td>$2,601,499,392.00</td>\n",
              "      <td>$4,477,259,264.00</td>\n",
              "      <td>$8,272,230,912.00</td>\n",
              "    </tr>\n",
              "    <tr>\n",
              "      <th>7</th>\n",
              "      <td>$15,299,790.00</td>\n",
              "      <td>$14,675,150.00</td>\n",
              "      <td>$17,106,546.00</td>\n",
              "      <td>$21,763,328.00</td>\n",
              "      <td>$30,962,034.00</td>\n",
              "      <td>$39,205,416.00</td>\n",
              "      <td>$59,484,120.00</td>\n",
              "      <td>$66,270,872.00</td>\n",
              "      <td>$88,028,896.00</td>\n",
              "      <td>$90,860,864.00</td>\n",
              "      <td>...</td>\n",
              "      <td>$457,074,208.00</td>\n",
              "      <td>$604,665,536.00</td>\n",
              "      <td>$856,524,736.00</td>\n",
              "      <td>$1,105,998,080.00</td>\n",
              "      <td>$1,355,228,800.00</td>\n",
              "      <td>$1,734,466,048.00</td>\n",
              "      <td>$2,419,755,008.00</td>\n",
              "      <td>$2,800,037,632.00</td>\n",
              "      <td>$4,653,112,320.00</td>\n",
              "      <td>$9,777,144,832.00</td>\n",
              "    </tr>\n",
              "    <tr>\n",
              "      <th>8</th>\n",
              "      <td>$15,802,483.00</td>\n",
              "      <td>$14,475,158.00</td>\n",
              "      <td>$18,373,950.00</td>\n",
              "      <td>$23,185,412.00</td>\n",
              "      <td>$31,937,418.00</td>\n",
              "      <td>$40,688,412.00</td>\n",
              "      <td>$58,732,120.00</td>\n",
              "      <td>$67,496,824.00</td>\n",
              "      <td>$94,763,400.00</td>\n",
              "      <td>$93,054,928.00</td>\n",
              "      <td>...</td>\n",
              "      <td>$476,677,280.00</td>\n",
              "      <td>$693,626,752.00</td>\n",
              "      <td>$859,765,312.00</td>\n",
              "      <td>$1,127,364,480.00</td>\n",
              "      <td>$1,460,045,952.00</td>\n",
              "      <td>$1,884,253,312.00</td>\n",
              "      <td>$2,761,171,712.00</td>\n",
              "      <td>$3,271,900,928.00</td>\n",
              "      <td>$4,977,782,272.00</td>\n",
              "      <td>$10,673,847,296.00</td>\n",
              "    </tr>\n",
              "    <tr>\n",
              "      <th>9</th>\n",
              "      <td>$15,756,538.00</td>\n",
              "      <td>$16,781,292.00</td>\n",
              "      <td>$18,684,200.00</td>\n",
              "      <td>$25,513,568.00</td>\n",
              "      <td>$31,578,992.00</td>\n",
              "      <td>$43,003,892.00</td>\n",
              "      <td>$63,159,168.00</td>\n",
              "      <td>$70,058,016.00</td>\n",
              "      <td>$91,342,608.00</td>\n",
              "      <td>$96,826,064.00</td>\n",
              "      <td>...</td>\n",
              "      <td>$517,929,600.00</td>\n",
              "      <td>$673,022,272.00</td>\n",
              "      <td>$831,099,072.00</td>\n",
              "      <td>$1,141,604,480.00</td>\n",
              "      <td>$1,518,901,760.00</td>\n",
              "      <td>$2,059,133,824.00</td>\n",
              "      <td>$2,874,249,728.00</td>\n",
              "      <td>$3,102,345,216.00</td>\n",
              "      <td>$5,349,090,816.00</td>\n",
              "      <td>$10,903,033,856.00</td>\n",
              "    </tr>\n",
              "    <tr>\n",
              "      <th>10</th>\n",
              "      <td>$15,731,005.00</td>\n",
              "      <td>$13,506,128.00</td>\n",
              "      <td>$18,518,490.00</td>\n",
              "      <td>$25,042,384.00</td>\n",
              "      <td>$33,774,688.00</td>\n",
              "      <td>$41,477,904.00</td>\n",
              "      <td>$63,007,200.00</td>\n",
              "      <td>$72,036,144.00</td>\n",
              "      <td>$90,090,536.00</td>\n",
              "      <td>$104,056,432.00</td>\n",
              "      <td>...</td>\n",
              "      <td>$485,045,472.00</td>\n",
              "      <td>$766,913,472.00</td>\n",
              "      <td>$897,798,272.00</td>\n",
              "      <td>$1,098,256,384.00</td>\n",
              "      <td>$1,483,261,440.00</td>\n",
              "      <td>$2,154,164,736.00</td>\n",
              "      <td>$2,863,717,888.00</td>\n",
              "      <td>$3,254,208,768.00</td>\n",
              "      <td>$5,368,896,000.00</td>\n",
              "      <td>$11,468,663,808.00</td>\n",
              "    </tr>\n",
              "    <tr>\n",
              "      <th>11</th>\n",
              "      <td>$15,660,556.00</td>\n",
              "      <td>$13,446,877.00</td>\n",
              "      <td>$21,317,298.00</td>\n",
              "      <td>$25,520,492.00</td>\n",
              "      <td>$33,742,036.00</td>\n",
              "      <td>$42,190,328.00</td>\n",
              "      <td>$61,376,700.00</td>\n",
              "      <td>$75,454,992.00</td>\n",
              "      <td>$85,291,056.00</td>\n",
              "      <td>$104,645,424.00</td>\n",
              "      <td>...</td>\n",
              "      <td>$565,675,968.00</td>\n",
              "      <td>$728,167,680.00</td>\n",
              "      <td>$896,822,336.00</td>\n",
              "      <td>$1,175,329,152.00</td>\n",
              "      <td>$1,484,020,608.00</td>\n",
              "      <td>$2,203,835,392.00</td>\n",
              "      <td>$2,963,817,472.00</td>\n",
              "      <td>$3,590,381,824.00</td>\n",
              "      <td>$5,800,018,432.00</td>\n",
              "      <td>$12,420,675,584.00</td>\n",
              "    </tr>\n",
              "    <tr>\n",
              "      <th>12</th>\n",
              "      <td>$16,032,799.00</td>\n",
              "      <td>$11,570,299.00</td>\n",
              "      <td>$19,508,400.00</td>\n",
              "      <td>$25,122,948.00</td>\n",
              "      <td>$34,519,524.00</td>\n",
              "      <td>$45,989,900.00</td>\n",
              "      <td>$55,169,336.00</td>\n",
              "      <td>$66,286,136.00</td>\n",
              "      <td>$88,008,560.00</td>\n",
              "      <td>$106,053,128.00</td>\n",
              "      <td>...</td>\n",
              "      <td>$581,997,312.00</td>\n",
              "      <td>$771,578,816.00</td>\n",
              "      <td>$928,323,904.00</td>\n",
              "      <td>$1,192,269,568.00</td>\n",
              "      <td>$1,668,256,896.00</td>\n",
              "      <td>$2,105,064,960.00</td>\n",
              "      <td>$2,857,067,520.00</td>\n",
              "      <td>$3,619,140,608.00</td>\n",
              "      <td>$6,548,177,920.00</td>\n",
              "      <td>$12,973,070,336.00</td>\n",
              "    </tr>\n",
              "  </tbody>\n",
              "</table>\n",
              "<p>12 rows × 23 columns</p>\n",
              "</div>\n",
              "      <button class=\"colab-df-convert\" onclick=\"convertToInteractive('df-7793f552-9613-4eb4-814a-a579a7d93a2b')\"\n",
              "              title=\"Convert this dataframe to an interactive table.\"\n",
              "              style=\"display:none;\">\n",
              "        \n",
              "  <svg xmlns=\"http://www.w3.org/2000/svg\" height=\"24px\"viewBox=\"0 0 24 24\"\n",
              "       width=\"24px\">\n",
              "    <path d=\"M0 0h24v24H0V0z\" fill=\"none\"/>\n",
              "    <path d=\"M18.56 5.44l.94 2.06.94-2.06 2.06-.94-2.06-.94-.94-2.06-.94 2.06-2.06.94zm-11 1L8.5 8.5l.94-2.06 2.06-.94-2.06-.94L8.5 2.5l-.94 2.06-2.06.94zm10 10l.94 2.06.94-2.06 2.06-.94-2.06-.94-.94-2.06-.94 2.06-2.06.94z\"/><path d=\"M17.41 7.96l-1.37-1.37c-.4-.4-.92-.59-1.43-.59-.52 0-1.04.2-1.43.59L10.3 9.45l-7.72 7.72c-.78.78-.78 2.05 0 2.83L4 21.41c.39.39.9.59 1.41.59.51 0 1.02-.2 1.41-.59l7.78-7.78 2.81-2.81c.8-.78.8-2.07 0-2.86zM5.41 20L4 18.59l7.72-7.72 1.47 1.35L5.41 20z\"/>\n",
              "  </svg>\n",
              "      </button>\n",
              "      \n",
              "  <style>\n",
              "    .colab-df-container {\n",
              "      display:flex;\n",
              "      flex-wrap:wrap;\n",
              "      gap: 12px;\n",
              "    }\n",
              "\n",
              "    .colab-df-convert {\n",
              "      background-color: #E8F0FE;\n",
              "      border: none;\n",
              "      border-radius: 50%;\n",
              "      cursor: pointer;\n",
              "      display: none;\n",
              "      fill: #1967D2;\n",
              "      height: 32px;\n",
              "      padding: 0 0 0 0;\n",
              "      width: 32px;\n",
              "    }\n",
              "\n",
              "    .colab-df-convert:hover {\n",
              "      background-color: #E2EBFA;\n",
              "      box-shadow: 0px 1px 2px rgba(60, 64, 67, 0.3), 0px 1px 3px 1px rgba(60, 64, 67, 0.15);\n",
              "      fill: #174EA6;\n",
              "    }\n",
              "\n",
              "    [theme=dark] .colab-df-convert {\n",
              "      background-color: #3B4455;\n",
              "      fill: #D2E3FC;\n",
              "    }\n",
              "\n",
              "    [theme=dark] .colab-df-convert:hover {\n",
              "      background-color: #434B5C;\n",
              "      box-shadow: 0px 1px 3px 1px rgba(0, 0, 0, 0.15);\n",
              "      filter: drop-shadow(0px 1px 2px rgba(0, 0, 0, 0.3));\n",
              "      fill: #FFFFFF;\n",
              "    }\n",
              "  </style>\n",
              "\n",
              "      <script>\n",
              "        const buttonEl =\n",
              "          document.querySelector('#df-7793f552-9613-4eb4-814a-a579a7d93a2b button.colab-df-convert');\n",
              "        buttonEl.style.display =\n",
              "          google.colab.kernel.accessAllowed ? 'block' : 'none';\n",
              "\n",
              "        async function convertToInteractive(key) {\n",
              "          const element = document.querySelector('#df-7793f552-9613-4eb4-814a-a579a7d93a2b');\n",
              "          const dataTable =\n",
              "            await google.colab.kernel.invokeFunction('convertToInteractive',\n",
              "                                                     [key], {});\n",
              "          if (!dataTable) return;\n",
              "\n",
              "          const docLinkHtml = 'Like what you see? Visit the ' +\n",
              "            '<a target=\"_blank\" href=https://colab.research.google.com/notebooks/data_table.ipynb>data table notebook</a>'\n",
              "            + ' to learn more about interactive tables.';\n",
              "          element.innerHTML = '';\n",
              "          dataTable['output_type'] = 'display_data';\n",
              "          await google.colab.output.renderOutput(dataTable, element);\n",
              "          const docLink = document.createElement('div');\n",
              "          docLink.innerHTML = docLinkHtml;\n",
              "          element.appendChild(docLink);\n",
              "        }\n",
              "      </script>\n",
              "    </div>\n",
              "  </div>\n",
              "  "
            ]
          },
          "metadata": {},
          "execution_count": 5
        }
      ]
    },
    {
      "cell_type": "markdown",
      "source": [
        "# **<font color=\"DeepPink\">Gráficos</font>**\n"
      ],
      "metadata": {
        "id": "j8l2WhUAgp8k"
      }
    },
    {
      "cell_type": "markdown",
      "source": [
        "## **<font color=\"DeepPink\">Graficos para los primeros y últimos cinco ejercicios</font>**\n"
      ],
      "metadata": {
        "id": "gASNs-cA6kLU"
      }
    },
    {
      "cell_type": "code",
      "source": [
        "ejercicios = recaudacion.iloc[:, [0, 1, 2, 3, 4, 18, 19, 20, 21, 22]]"
      ],
      "metadata": {
        "id": "rEf1IsVz6-H0"
      },
      "execution_count": null,
      "outputs": []
    },
    {
      "cell_type": "code",
      "source": [
        "fig = make_subplots(rows=2, cols=5,\n",
        "                    subplot_titles=[f'Año {col[-4:]}' for col in ejercicios.columns],\n",
        "                    x_title='Mes',\n",
        "                    y_title='Recaudación')"
      ],
      "metadata": {
        "id": "k5NRTXWT7DK3"
      },
      "execution_count": null,
      "outputs": []
    },
    {
      "cell_type": "code",
      "source": [
        "for i, (col_name, ej) in enumerate(ejercicios.items()):\n",
        "  fig.add_trace(go.Scatter(x=ejercicios.index,\n",
        "                           y=ej,\n",
        "                           showlegend=True),\n",
        "                row=i // 5 + 1, col=i % 5 + 1)"
      ],
      "metadata": {
        "id": "1zwORX987U4R"
      },
      "execution_count": null,
      "outputs": []
    },
    {
      "cell_type": "code",
      "source": [
        "fig.update_layout(height=660, width=1000,\n",
        "                  title_text=\"Ejercicios 2000-2004 y 2018-2022\",\n",
        "                  showlegend=False,\n",
        "                  template=\"gridon\")\n",
        "\n",
        "fig.show()"
      ],
      "metadata": {
        "colab": {
          "base_uri": "https://localhost:8080/",
          "height": 697
        },
        "id": "bgA2EaPZ7pcw",
        "outputId": "0fb769cf-abb0-47ec-9541-4b4bf2dc2a87"
      },
      "execution_count": null,
      "outputs": [
        {
          "output_type": "display_data",
          "data": {
            "text/html": [
              "<html>\n",
              "<head><meta charset=\"utf-8\" /></head>\n",
              "<body>\n",
              "    <div>            <script src=\"https://cdnjs.cloudflare.com/ajax/libs/mathjax/2.7.5/MathJax.js?config=TeX-AMS-MML_SVG\"></script><script type=\"text/javascript\">if (window.MathJax && window.MathJax.Hub && window.MathJax.Hub.Config) {window.MathJax.Hub.Config({SVG: {font: \"STIX-Web\"}});}</script>                <script type=\"text/javascript\">window.PlotlyConfig = {MathJaxConfig: 'local'};</script>\n",
              "        <script src=\"https://cdn.plot.ly/plotly-2.18.2.min.js\"></script>                <div id=\"d5bb9080-1789-437f-8748-152962624934\" class=\"plotly-graph-div\" style=\"height:660px; width:1000px;\"></div>            <script type=\"text/javascript\">                                    window.PLOTLYENV=window.PLOTLYENV || {};                                    if (document.getElementById(\"d5bb9080-1789-437f-8748-152962624934\")) {                    Plotly.newPlot(                        \"d5bb9080-1789-437f-8748-152962624934\",                        [{\"showlegend\":true,\"x\":[1,2,3,4,5,6,7,8,9,10,11,12],\"y\":[18843926.0,16258743.0,17468328.0,17463084.0,15978692.0,14676011.0,15299790.0,15802483.0,15756538.0,15731005.0,15660556.0,16032799.0],\"type\":\"scatter\",\"xaxis\":\"x\",\"yaxis\":\"y\"},{\"showlegend\":true,\"x\":[1,2,3,4,5,6,7,8,9,10,11,12],\"y\":[18114420.0,32180908.0,14453688.0,15809614.0,14610889.0,14328045.0,14675150.0,14475158.0,16781292.0,13506128.0,13446877.0,11570299.0],\"type\":\"scatter\",\"xaxis\":\"x2\",\"yaxis\":\"y2\"},{\"showlegend\":true,\"x\":[1,2,3,4,5,6,7,8,9,10,11,12],\"y\":[12722708.0,11237981.0,11460186.0,12300935.0,14265621.0,16351168.0,17106546.0,18373950.0,18684200.0,18518490.0,21317298.0,19508400.0],\"type\":\"scatter\",\"xaxis\":\"x3\",\"yaxis\":\"y3\"},{\"showlegend\":true,\"x\":[1,2,3,4,5,6,7,8,9,10,11,12],\"y\":[20192886.0,20257924.0,19766456.0,20503786.0,20988948.0,21041196.0,21763328.0,23185412.0,25513568.0,25042384.0,25520492.0,25122948.0],\"type\":\"scatter\",\"xaxis\":\"x4\",\"yaxis\":\"y4\"},{\"showlegend\":true,\"x\":[1,2,3,4,5,6,7,8,9,10,11,12],\"y\":[28492948.0,26276428.0,27124258.0,32466740.0,30252980.0,30687746.0,30962034.0,31937418.0,31578992.0,33774688.0,33742036.0,34519524.0],\"type\":\"scatter\",\"xaxis\":\"x5\",\"yaxis\":\"y5\"},{\"showlegend\":true,\"x\":[1,2,3,4,5,6,7,8,9,10,11,12],\"y\":[1642808064.0,1497939072.0,1492442496.0,1611327488.0,1630360960.0,1725683968.0,1734466048.0,1884253312.0,2059133824.0,2154164736.0,2203835392.0,2105064960.0],\"type\":\"scatter\",\"xaxis\":\"x6\",\"yaxis\":\"y6\"},{\"showlegend\":true,\"x\":[1,2,3,4,5,6,7,8,9,10,11,12],\"y\":[2195529728.0,2103363712.0,2143791360.0,2277286912.0,2456052992.0,2334065920.0,2419755008.0,2761171712.0,2874249728.0,2863717888.0,2963817472.0,2857067520.0],\"type\":\"scatter\",\"xaxis\":\"x7\",\"yaxis\":\"y7\"},{\"showlegend\":true,\"x\":[1,2,3,4,5,6,7,8,9,10,11,12],\"y\":[3068476928.0,3246583040.0,2869934848.0,2711721984.0,2558796288.0,2601499392.0,2800037632.0,3271900928.0,3102345216.0,3254208768.0,3590381824.0,3619140608.0],\"type\":\"scatter\",\"xaxis\":\"x8\",\"yaxis\":\"y8\"},{\"showlegend\":true,\"x\":[1,2,3,4,5,6,7,8,9,10,11,12],\"y\":[4210333184.0,4035920128.0,3969197824.0,4446800384.0,4285918464.0,4477259264.0,4653112320.0,4977782272.0,5349090816.0,5368896000.0,5800018432.0,6548177920.0],\"type\":\"scatter\",\"xaxis\":\"x9\",\"yaxis\":\"y9\"},{\"showlegend\":true,\"x\":[1,2,3,4,5,6,7,8,9,10,11,12],\"y\":[6815275520.0,6525087744.0,6633613312.0,7882943488.0,8485148672.0,8272230912.0,9777144832.0,10673847296.0,10903033856.0,11468663808.0,12420675584.0,12973070336.0],\"type\":\"scatter\",\"xaxis\":\"x10\",\"yaxis\":\"y10\"}],                        {\"template\":{\"data\":{\"pie\":[{\"automargin\":true,\"type\":\"pie\"}]},\"layout\":{\"xaxis\":{\"showgrid\":true,\"title\":{\"standoff\":15}},\"yaxis\":{\"showgrid\":true,\"title\":{\"standoff\":15}}}},\"xaxis\":{\"anchor\":\"y\",\"domain\":[0.0,0.16799999999999998]},\"yaxis\":{\"anchor\":\"x\",\"domain\":[0.625,1.0]},\"xaxis2\":{\"anchor\":\"y2\",\"domain\":[0.208,0.376]},\"yaxis2\":{\"anchor\":\"x2\",\"domain\":[0.625,1.0]},\"xaxis3\":{\"anchor\":\"y3\",\"domain\":[0.416,0.584]},\"yaxis3\":{\"anchor\":\"x3\",\"domain\":[0.625,1.0]},\"xaxis4\":{\"anchor\":\"y4\",\"domain\":[0.624,0.792]},\"yaxis4\":{\"anchor\":\"x4\",\"domain\":[0.625,1.0]},\"xaxis5\":{\"anchor\":\"y5\",\"domain\":[0.832,1.0]},\"yaxis5\":{\"anchor\":\"x5\",\"domain\":[0.625,1.0]},\"xaxis6\":{\"anchor\":\"y6\",\"domain\":[0.0,0.16799999999999998]},\"yaxis6\":{\"anchor\":\"x6\",\"domain\":[0.0,0.375]},\"xaxis7\":{\"anchor\":\"y7\",\"domain\":[0.208,0.376]},\"yaxis7\":{\"anchor\":\"x7\",\"domain\":[0.0,0.375]},\"xaxis8\":{\"anchor\":\"y8\",\"domain\":[0.416,0.584]},\"yaxis8\":{\"anchor\":\"x8\",\"domain\":[0.0,0.375]},\"xaxis9\":{\"anchor\":\"y9\",\"domain\":[0.624,0.792]},\"yaxis9\":{\"anchor\":\"x9\",\"domain\":[0.0,0.375]},\"xaxis10\":{\"anchor\":\"y10\",\"domain\":[0.832,1.0]},\"yaxis10\":{\"anchor\":\"x10\",\"domain\":[0.0,0.375]},\"annotations\":[{\"font\":{\"size\":16},\"showarrow\":false,\"text\":\"A\\u00f1o 2000\",\"x\":0.08399999999999999,\"xanchor\":\"center\",\"xref\":\"paper\",\"y\":1.0,\"yanchor\":\"bottom\",\"yref\":\"paper\"},{\"font\":{\"size\":16},\"showarrow\":false,\"text\":\"A\\u00f1o 2001\",\"x\":0.292,\"xanchor\":\"center\",\"xref\":\"paper\",\"y\":1.0,\"yanchor\":\"bottom\",\"yref\":\"paper\"},{\"font\":{\"size\":16},\"showarrow\":false,\"text\":\"A\\u00f1o 2002\",\"x\":0.5,\"xanchor\":\"center\",\"xref\":\"paper\",\"y\":1.0,\"yanchor\":\"bottom\",\"yref\":\"paper\"},{\"font\":{\"size\":16},\"showarrow\":false,\"text\":\"A\\u00f1o 2003\",\"x\":0.708,\"xanchor\":\"center\",\"xref\":\"paper\",\"y\":1.0,\"yanchor\":\"bottom\",\"yref\":\"paper\"},{\"font\":{\"size\":16},\"showarrow\":false,\"text\":\"A\\u00f1o 2004\",\"x\":0.9159999999999999,\"xanchor\":\"center\",\"xref\":\"paper\",\"y\":1.0,\"yanchor\":\"bottom\",\"yref\":\"paper\"},{\"font\":{\"size\":16},\"showarrow\":false,\"text\":\"A\\u00f1o 2018\",\"x\":0.08399999999999999,\"xanchor\":\"center\",\"xref\":\"paper\",\"y\":0.375,\"yanchor\":\"bottom\",\"yref\":\"paper\"},{\"font\":{\"size\":16},\"showarrow\":false,\"text\":\"A\\u00f1o 2019\",\"x\":0.292,\"xanchor\":\"center\",\"xref\":\"paper\",\"y\":0.375,\"yanchor\":\"bottom\",\"yref\":\"paper\"},{\"font\":{\"size\":16},\"showarrow\":false,\"text\":\"A\\u00f1o 2020\",\"x\":0.5,\"xanchor\":\"center\",\"xref\":\"paper\",\"y\":0.375,\"yanchor\":\"bottom\",\"yref\":\"paper\"},{\"font\":{\"size\":16},\"showarrow\":false,\"text\":\"A\\u00f1o 2021\",\"x\":0.708,\"xanchor\":\"center\",\"xref\":\"paper\",\"y\":0.375,\"yanchor\":\"bottom\",\"yref\":\"paper\"},{\"font\":{\"size\":16},\"showarrow\":false,\"text\":\"A\\u00f1o 2022\",\"x\":0.9159999999999999,\"xanchor\":\"center\",\"xref\":\"paper\",\"y\":0.375,\"yanchor\":\"bottom\",\"yref\":\"paper\"},{\"font\":{\"size\":16},\"showarrow\":false,\"text\":\"Mes\",\"x\":0.5,\"xanchor\":\"center\",\"xref\":\"paper\",\"y\":0,\"yanchor\":\"top\",\"yref\":\"paper\",\"yshift\":-30},{\"font\":{\"size\":16},\"showarrow\":false,\"text\":\"Recaudaci\\u00f3n\",\"textangle\":-90,\"x\":0,\"xanchor\":\"right\",\"xref\":\"paper\",\"xshift\":-40,\"y\":0.5,\"yanchor\":\"middle\",\"yref\":\"paper\"}],\"title\":{\"text\":\"Ejercicios 2000-2004 y 2018-2022\"},\"height\":660,\"width\":1000,\"showlegend\":false},                        {\"responsive\": true}                    ).then(function(){\n",
              "                            \n",
              "var gd = document.getElementById('d5bb9080-1789-437f-8748-152962624934');\n",
              "var x = new MutationObserver(function (mutations, observer) {{\n",
              "        var display = window.getComputedStyle(gd).display;\n",
              "        if (!display || display === 'none') {{\n",
              "            console.log([gd, 'removed!']);\n",
              "            Plotly.purge(gd);\n",
              "            observer.disconnect();\n",
              "        }}\n",
              "}});\n",
              "\n",
              "// Listen for the removal of the full notebook cells\n",
              "var notebookContainer = gd.closest('#notebook-container');\n",
              "if (notebookContainer) {{\n",
              "    x.observe(notebookContainer, {childList: true});\n",
              "}}\n",
              "\n",
              "// Listen for the clearing of the current output cell\n",
              "var outputEl = gd.closest('.output');\n",
              "if (outputEl) {{\n",
              "    x.observe(outputEl, {childList: true});\n",
              "}}\n",
              "\n",
              "                        })                };                            </script>        </div>\n",
              "</body>\n",
              "</html>"
            ]
          },
          "metadata": {}
        }
      ]
    },
    {
      "cell_type": "markdown",
      "source": [
        "## **<font color=\"DeepPink\">Evolución interanual</font>**\n"
      ],
      "metadata": {
        "id": "QFwx2UL293ji"
      }
    },
    {
      "cell_type": "code",
      "source": [
        "df_annual_sum = ejercicios.sum().reset_index() \\\n",
        "                .rename(columns={'index': 'Año', 0: 'Recaudación'}) \\\n",
        "                .replace('Año fiscal', '', regex=True)"
      ],
      "metadata": {
        "id": "OEHCqw4L9-o7"
      },
      "execution_count": null,
      "outputs": []
    },
    {
      "cell_type": "code",
      "source": [
        "fig = make_subplots(rows=1,\n",
        "                    cols=2,\n",
        "                    subplot_titles=['Período 2000-2004', 'Período 2018-2022'],\n",
        "                    x_title='Año',\n",
        "                    y_title='Recaudación total')"
      ],
      "metadata": {
        "id": "3hl_wJP5-hHl"
      },
      "execution_count": null,
      "outputs": []
    },
    {
      "cell_type": "code",
      "source": [
        "for i, df in enumerate([df_annual_sum.iloc[:5], df_annual_sum.iloc[-5:]]):\n",
        "  fig.add_trace(go.Bar(x=df['Año'],\n",
        "                       y=df['Recaudación'],\n",
        "                       showlegend=True),\n",
        "  row=i // 2 + 1, col=i % 2 + 1)"
      ],
      "metadata": {
        "id": "IwMgues0-vuo"
      },
      "execution_count": null,
      "outputs": []
    },
    {
      "cell_type": "code",
      "source": [
        "fig.update_layout(\n",
        "                  title_text=\"Recaudación total por año 2000-2004 y 2018-2022\",\n",
        "                  showlegend=False,\n",
        "                  template=\"gridon\")\n",
        "\n",
        "fig.show()"
      ],
      "metadata": {
        "colab": {
          "base_uri": "https://localhost:8080/",
          "height": 542
        },
        "id": "OsrF4UtT-_ZE",
        "outputId": "5be9378c-4895-4106-9c81-551b9436bbaf"
      },
      "execution_count": null,
      "outputs": [
        {
          "output_type": "display_data",
          "data": {
            "text/html": [
              "<html>\n",
              "<head><meta charset=\"utf-8\" /></head>\n",
              "<body>\n",
              "    <div>            <script src=\"https://cdnjs.cloudflare.com/ajax/libs/mathjax/2.7.5/MathJax.js?config=TeX-AMS-MML_SVG\"></script><script type=\"text/javascript\">if (window.MathJax && window.MathJax.Hub && window.MathJax.Hub.Config) {window.MathJax.Hub.Config({SVG: {font: \"STIX-Web\"}});}</script>                <script type=\"text/javascript\">window.PlotlyConfig = {MathJaxConfig: 'local'};</script>\n",
              "        <script src=\"https://cdn.plot.ly/plotly-2.18.2.min.js\"></script>                <div id=\"5fd81f05-e31b-4273-9cb8-52d8132dfe7a\" class=\"plotly-graph-div\" style=\"height:525px; width:100%;\"></div>            <script type=\"text/javascript\">                                    window.PLOTLYENV=window.PLOTLYENV || {};                                    if (document.getElementById(\"5fd81f05-e31b-4273-9cb8-52d8132dfe7a\")) {                    Plotly.newPlot(                        \"5fd81f05-e31b-4273-9cb8-52d8132dfe7a\",                        [{\"showlegend\":true,\"x\":[\" 2000\",\" 2001\",\" 2002\",\" 2003\",\" 2004\"],\"y\":[194971968.0,193952480.0,191847472.0,268899328.0,371815776.0],\"type\":\"bar\",\"xaxis\":\"x\",\"yaxis\":\"y\"},{\"showlegend\":true,\"x\":[\" 2018\",\" 2019\",\" 2020\",\" 2021\",\" 2022\"],\"y\":[21741481984.0,30249869312.0,36695027712.0,58122502144.0,112830734336.0],\"type\":\"bar\",\"xaxis\":\"x2\",\"yaxis\":\"y2\"}],                        {\"template\":{\"data\":{\"pie\":[{\"automargin\":true,\"type\":\"pie\"}]},\"layout\":{\"xaxis\":{\"showgrid\":true,\"title\":{\"standoff\":15}},\"yaxis\":{\"showgrid\":true,\"title\":{\"standoff\":15}}}},\"xaxis\":{\"anchor\":\"y\",\"domain\":[0.0,0.45]},\"yaxis\":{\"anchor\":\"x\",\"domain\":[0.0,1.0]},\"xaxis2\":{\"anchor\":\"y2\",\"domain\":[0.55,1.0]},\"yaxis2\":{\"anchor\":\"x2\",\"domain\":[0.0,1.0]},\"annotations\":[{\"font\":{\"size\":16},\"showarrow\":false,\"text\":\"Per\\u00edodo 2000-2004\",\"x\":0.225,\"xanchor\":\"center\",\"xref\":\"paper\",\"y\":1.0,\"yanchor\":\"bottom\",\"yref\":\"paper\"},{\"font\":{\"size\":16},\"showarrow\":false,\"text\":\"Per\\u00edodo 2018-2022\",\"x\":0.775,\"xanchor\":\"center\",\"xref\":\"paper\",\"y\":1.0,\"yanchor\":\"bottom\",\"yref\":\"paper\"},{\"font\":{\"size\":16},\"showarrow\":false,\"text\":\"A\\u00f1o\",\"x\":0.5,\"xanchor\":\"center\",\"xref\":\"paper\",\"y\":0,\"yanchor\":\"top\",\"yref\":\"paper\",\"yshift\":-30},{\"font\":{\"size\":16},\"showarrow\":false,\"text\":\"Recaudaci\\u00f3n total\",\"textangle\":-90,\"x\":0,\"xanchor\":\"right\",\"xref\":\"paper\",\"xshift\":-40,\"y\":0.5,\"yanchor\":\"middle\",\"yref\":\"paper\"}],\"title\":{\"text\":\"Recaudaci\\u00f3n total por a\\u00f1o 2000-2004 y 2018-2022\"},\"showlegend\":false},                        {\"responsive\": true}                    ).then(function(){\n",
              "                            \n",
              "var gd = document.getElementById('5fd81f05-e31b-4273-9cb8-52d8132dfe7a');\n",
              "var x = new MutationObserver(function (mutations, observer) {{\n",
              "        var display = window.getComputedStyle(gd).display;\n",
              "        if (!display || display === 'none') {{\n",
              "            console.log([gd, 'removed!']);\n",
              "            Plotly.purge(gd);\n",
              "            observer.disconnect();\n",
              "        }}\n",
              "}});\n",
              "\n",
              "// Listen for the removal of the full notebook cells\n",
              "var notebookContainer = gd.closest('#notebook-container');\n",
              "if (notebookContainer) {{\n",
              "    x.observe(notebookContainer, {childList: true});\n",
              "}}\n",
              "\n",
              "// Listen for the clearing of the current output cell\n",
              "var outputEl = gd.closest('.output');\n",
              "if (outputEl) {{\n",
              "    x.observe(outputEl, {childList: true});\n",
              "}}\n",
              "\n",
              "                        })                };                            </script>        </div>\n",
              "</body>\n",
              "</html>"
            ]
          },
          "metadata": {}
        }
      ]
    },
    {
      "cell_type": "markdown",
      "source": [
        "## **<font color=\"DeepPink\">Comparativa del promedio de recaudación por mes, en cada período</font>**\n"
      ],
      "metadata": {
        "id": "D6e8Uoy-_cMR"
      }
    },
    {
      "cell_type": "code",
      "source": [
        "df_monthly_avg1 = ejercicios.T.iloc[:5].mean().reset_index() \\\n",
        "                  .rename(columns={0: 'Recaudación media'})"
      ],
      "metadata": {
        "id": "EZy53wf7_qFU"
      },
      "execution_count": null,
      "outputs": []
    },
    {
      "cell_type": "code",
      "source": [
        "df_monthly_avg2 = ejercicios.T.iloc[-5:].mean().reset_index() \\\n",
        "                  .rename(columns={0: 'Recaudación media'})"
      ],
      "metadata": {
        "id": "NBX5CGJxAPRq"
      },
      "execution_count": null,
      "outputs": []
    },
    {
      "cell_type": "code",
      "source": [
        "fig = make_subplots(rows=1,\n",
        "                    cols=2,\n",
        "                    subplot_titles=['Período 2000-2004', 'Período 2018-2022'],\n",
        "                    x_title='Mes de año',\n",
        "                    y_title='Recaudación promedio')\n"
      ],
      "metadata": {
        "id": "FTGeXvg1Atk3"
      },
      "execution_count": null,
      "outputs": []
    },
    {
      "cell_type": "code",
      "source": [
        "for i, df in enumerate([df_monthly_avg1, df_monthly_avg2]):\n",
        "  fig.add_trace(go.Bar(x=df['Mes'],\n",
        "                       y=df['Recaudación media'],\n",
        "                       showlegend=True),\n",
        "  row=i // 2 + 1, col=i % 2 + 1)"
      ],
      "metadata": {
        "id": "M7wiE8AGA2g0"
      },
      "execution_count": null,
      "outputs": []
    },
    {
      "cell_type": "code",
      "source": [
        "fig.update_layout(title_text=\"Recaudación media de cada mes del año, en los períodos 2000-2004 y 2018-2022\",\n",
        "                  showlegend=False,\n",
        "                  template=\"gridon\")\n",
        "\n",
        "fig.show()"
      ],
      "metadata": {
        "colab": {
          "base_uri": "https://localhost:8080/",
          "height": 542
        },
        "id": "vzyAqAVJA_qY",
        "outputId": "64156333-2f69-485e-b733-6bd964ef4360"
      },
      "execution_count": null,
      "outputs": [
        {
          "output_type": "display_data",
          "data": {
            "text/html": [
              "<html>\n",
              "<head><meta charset=\"utf-8\" /></head>\n",
              "<body>\n",
              "    <div>            <script src=\"https://cdnjs.cloudflare.com/ajax/libs/mathjax/2.7.5/MathJax.js?config=TeX-AMS-MML_SVG\"></script><script type=\"text/javascript\">if (window.MathJax && window.MathJax.Hub && window.MathJax.Hub.Config) {window.MathJax.Hub.Config({SVG: {font: \"STIX-Web\"}});}</script>                <script type=\"text/javascript\">window.PlotlyConfig = {MathJaxConfig: 'local'};</script>\n",
              "        <script src=\"https://cdn.plot.ly/plotly-2.18.2.min.js\"></script>                <div id=\"58fd3ebf-023a-4cf7-a275-4ca05a3d123e\" class=\"plotly-graph-div\" style=\"height:525px; width:100%;\"></div>            <script type=\"text/javascript\">                                    window.PLOTLYENV=window.PLOTLYENV || {};                                    if (document.getElementById(\"58fd3ebf-023a-4cf7-a275-4ca05a3d123e\")) {                    Plotly.newPlot(                        \"58fd3ebf-023a-4cf7-a275-4ca05a3d123e\",                        [{\"showlegend\":true,\"x\":[1,2,3,4,5,6,7,8,9,10,11,12],\"y\":[19673376.0,21242396.8,18054582.4,19708832.0,19219425.6,19416833.6,19961369.6,20754884.8,21662918.4,21314539.2,21937449.6,21350793.6],\"type\":\"bar\",\"xaxis\":\"x\",\"yaxis\":\"y\"},{\"showlegend\":true,\"x\":[1,2,3,4,5,6,7,8,9,10,11,12],\"y\":[3586484633.6,3481778585.6,3421795942.4,3786016358.4,3883255398.4,3882147840.0,4276903116.8,4713791488.0,4857570918.4,5021930291.2,5395745587.2,5620504166.4],\"type\":\"bar\",\"xaxis\":\"x2\",\"yaxis\":\"y2\"}],                        {\"template\":{\"data\":{\"pie\":[{\"automargin\":true,\"type\":\"pie\"}]},\"layout\":{\"xaxis\":{\"showgrid\":true,\"title\":{\"standoff\":15}},\"yaxis\":{\"showgrid\":true,\"title\":{\"standoff\":15}}}},\"xaxis\":{\"anchor\":\"y\",\"domain\":[0.0,0.45]},\"yaxis\":{\"anchor\":\"x\",\"domain\":[0.0,1.0]},\"xaxis2\":{\"anchor\":\"y2\",\"domain\":[0.55,1.0]},\"yaxis2\":{\"anchor\":\"x2\",\"domain\":[0.0,1.0]},\"annotations\":[{\"font\":{\"size\":16},\"showarrow\":false,\"text\":\"Per\\u00edodo 2000-2004\",\"x\":0.225,\"xanchor\":\"center\",\"xref\":\"paper\",\"y\":1.0,\"yanchor\":\"bottom\",\"yref\":\"paper\"},{\"font\":{\"size\":16},\"showarrow\":false,\"text\":\"Per\\u00edodo 2018-2022\",\"x\":0.775,\"xanchor\":\"center\",\"xref\":\"paper\",\"y\":1.0,\"yanchor\":\"bottom\",\"yref\":\"paper\"},{\"font\":{\"size\":16},\"showarrow\":false,\"text\":\"Mes de a\\u00f1o\",\"x\":0.5,\"xanchor\":\"center\",\"xref\":\"paper\",\"y\":0,\"yanchor\":\"top\",\"yref\":\"paper\",\"yshift\":-30},{\"font\":{\"size\":16},\"showarrow\":false,\"text\":\"Recaudaci\\u00f3n promedio\",\"textangle\":-90,\"x\":0,\"xanchor\":\"right\",\"xref\":\"paper\",\"xshift\":-40,\"y\":0.5,\"yanchor\":\"middle\",\"yref\":\"paper\"}],\"title\":{\"text\":\"Recaudaci\\u00f3n media de cada mes del a\\u00f1o, en los per\\u00edodos 2000-2004 y 2018-2022\"},\"showlegend\":false},                        {\"responsive\": true}                    ).then(function(){\n",
              "                            \n",
              "var gd = document.getElementById('58fd3ebf-023a-4cf7-a275-4ca05a3d123e');\n",
              "var x = new MutationObserver(function (mutations, observer) {{\n",
              "        var display = window.getComputedStyle(gd).display;\n",
              "        if (!display || display === 'none') {{\n",
              "            console.log([gd, 'removed!']);\n",
              "            Plotly.purge(gd);\n",
              "            observer.disconnect();\n",
              "        }}\n",
              "}});\n",
              "\n",
              "// Listen for the removal of the full notebook cells\n",
              "var notebookContainer = gd.closest('#notebook-container');\n",
              "if (notebookContainer) {{\n",
              "    x.observe(notebookContainer, {childList: true});\n",
              "}}\n",
              "\n",
              "// Listen for the clearing of the current output cell\n",
              "var outputEl = gd.closest('.output');\n",
              "if (outputEl) {{\n",
              "    x.observe(outputEl, {childList: true});\n",
              "}}\n",
              "\n",
              "                        })                };                            </script>        </div>\n",
              "</body>\n",
              "</html>"
            ]
          },
          "metadata": {}
        }
      ]
    },
    {
      "cell_type": "markdown",
      "source": [
        "## **<font color=\"DeepPink\">Descripción estadística de los períodos considerados</font>**\n"
      ],
      "metadata": {
        "id": "otNHAQ7NBVXE"
      }
    },
    {
      "cell_type": "code",
      "source": [
        "ejercicios['Año fiscal 2001'].describe()"
      ],
      "metadata": {
        "colab": {
          "base_uri": "https://localhost:8080/"
        },
        "id": "gZVv1uPEBbZo",
        "outputId": "cacc7fae-99b4-4f84-d299-e188cd30527a"
      },
      "execution_count": null,
      "outputs": [
        {
          "output_type": "execute_result",
          "data": {
            "text/plain": [
              "count           $12.00\n",
              "mean    $16,162,706.67\n",
              "std      $5,310,180.00\n",
              "min     $11,570,299.00\n",
              "25%     $14,122,565.75\n",
              "50%     $14,543,023.50\n",
              "75%     $16,052,533.50\n",
              "max     $32,180,908.00\n",
              "Name: Año fiscal 2001, dtype: Float64"
            ]
          },
          "metadata": {},
          "execution_count": 19
        }
      ]
    },
    {
      "cell_type": "markdown",
      "source": [
        "# **<font color=\"DeepPink\">¿Conclusión?...</font>**\n"
      ],
      "metadata": {
        "id": "bkwpQWWsBo41"
      }
    },
    {
      "cell_type": "markdown",
      "source": [
        "<p align=\"justify\">\n",
        "La serie de gráficos que muestran la recaudación mensual por año en concepto de ingresos brutos en la Provincia de Mendoza indican que el comportamiento anual habitual tiende a ser una progresión lineal ascendente, con breves picos en alguno de los dos primeros meses del año.\n",
        "<br><br>\n",
        "Los años 2000 y 2001, sin embargo, son la excepción, posiblemente debido a la crisis económica. Este impacto se ve reflejado en los promedios de recaudación por cada mes del año del período 2000-2004, que son parejos para todos los meses del año, en contra de lo esperado (contrariamente a lo que se verifica para el período 2018-2022).\n",
        "<br><br>\n",
        "En cuanto a la recaudación absoluta total por año, también se comprueba un ascenso gradual permanente, salvo por el aplanamiento de los años 2000-2002.\n",
        "<br><br>\n",
        "Esa evolución parece explicarse por el proceso inflacionario que sucitó la salida de la convertibilidad a partir del año 2002.\n",
        "<br><br>\n",
        "Por último, si focalizamos en el año neurálgico de la crisis económica, 2001, vemos que los datos estadísticos son consistentes con esa situación ya que el valor, tanto de todos los cuartiles como del promedio de recaudación son mucho más cercanos al ingreso mensual mínimo que al máximo; lo que habla de un achatamiento en la recaudación, y que condice con la caída anómala del gráfico de evolución mensual correspondiente a ese año."
      ],
      "metadata": {
        "id": "BeiH6_pKBwTh"
      }
    }
  ]
}