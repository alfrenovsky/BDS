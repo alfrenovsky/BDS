{
  "nbformat": 4,
  "nbformat_minor": 0,
  "metadata": {
    "colab": {
      "provenance": [],
      "include_colab_link": true
    },
    "kernelspec": {
      "name": "python3",
      "display_name": "Python 3"
    },
    "language_info": {
      "name": "python"
    }
  },
  "cells": [
    {
      "cell_type": "markdown",
      "metadata": {
        "id": "view-in-github",
        "colab_type": "text"
      },
      "source": [
        "<a href=\"https://colab.research.google.com/github/cristiandarioortegayubro/BDS/blob/main/modulo.01/bds_web_scraping_001_02.ipynb\" target=\"_parent\"><img src=\"https://colab.research.google.com/assets/colab-badge.svg\" alt=\"Open In Colab\"/></a>"
      ]
    },
    {
      "cell_type": "markdown",
      "source": [
        "<p align=\"center\">\n",
        "<img src=\"https://github.com/cristiandarioortegayubro/BDS/blob/main/images/Logo%20Pandas.png?raw=true\">\n",
        "</p>\n"
      ],
      "metadata": {
        "id": "XM-hn7ZLmgQc"
      }
    },
    {
      "cell_type": "markdown",
      "source": [
        " # **<font color=\"DeepPink\">Web Scraping en Administración Tributaria Mendoza</font>**"
      ],
      "metadata": {
        "id": "_o8tuKydjnRZ"
      }
    },
    {
      "cell_type": "markdown",
      "source": [
        "<p align=\"center\">\n",
        "<img src=\"https://atm.mendoza.gov.ar/wp-content/uploads/2023/01/Frente-Atm.png\">\n",
        "</p>\n",
        "\n"
      ],
      "metadata": {
        "id": "NoUQK_JWXFJS"
      }
    },
    {
      "cell_type": "markdown",
      "source": [
        "https://atm.mendoza.gov.ar/portalatm/zoneBottom/datosInteres/recaudacion/recaudacion_impuesto_ingresos.jsp\n"
      ],
      "metadata": {
        "id": "B8gzMopmXYz0"
      }
    },
    {
      "cell_type": "markdown",
      "source": [
        "<p align=\"justify\">\n",
        "👀 En la página web de la Administración Tributaria Mendoza, podemos ver la recaudación por ejercicios fiscales del Impuesto sobre los Ingresos Brutos. Lo que vamos a hacer, es tomar esos datos y generar nuestro <code>DataFrame</code> para gráficar.</p>"
      ],
      "metadata": {
        "id": "jhI41-bg5fR3"
      }
    },
    {
      "cell_type": "markdown",
      "source": [
        " # **<font color=\"DeepPink\">Habilitando bibliotecas requeridas</font>**"
      ],
      "metadata": {
        "id": "8kA2de5eXpZ2"
      }
    },
    {
      "cell_type": "markdown",
      "source": [
        " ## **<font color=\"DeepPink\">Para análisis de datos</font>**"
      ],
      "metadata": {
        "id": "riE9ZSRbOdsF"
      }
    },
    {
      "cell_type": "code",
      "source": [
        "import numpy as np\n",
        "import pandas as pd"
      ],
      "metadata": {
        "id": "dQtWrchXqRb3"
      },
      "execution_count": null,
      "outputs": []
    },
    {
      "cell_type": "markdown",
      "source": [
        " ## **<font color=\"DeepPink\">Para web scraping</font>**"
      ],
      "metadata": {
        "id": "Id0dcqVMX9o7"
      }
    },
    {
      "cell_type": "code",
      "source": [
        "import lxml\n",
        "import bs4\n",
        "import html5lib"
      ],
      "metadata": {
        "id": "0f7qDtvqYByE"
      },
      "execution_count": null,
      "outputs": []
    },
    {
      "cell_type": "markdown",
      "source": [
        " ## **<font color=\"DeepPink\">Configuraciones del DataFrame</font>**"
      ],
      "metadata": {
        "id": "85T0X5IIYlsr"
      }
    },
    {
      "cell_type": "code",
      "source": [
        "pd.options.display.precision = 2\n",
        "pd.options.display.float_format = \"{:.2f}\".format"
      ],
      "metadata": {
        "id": "vn5fLW5NY0UP"
      },
      "execution_count": null,
      "outputs": []
    },
    {
      "cell_type": "markdown",
      "source": [
        " ## **<font color=\"DeepPink\">Para graficos</font>**"
      ],
      "metadata": {
        "id": "LB77esomjWEy"
      }
    },
    {
      "cell_type": "code",
      "source": [
        "import plotly.express as px\n",
        "import plotly.graph_objects as go"
      ],
      "metadata": {
        "id": "IXOgawSXjYwp"
      },
      "execution_count": null,
      "outputs": []
    },
    {
      "cell_type": "markdown",
      "source": [
        " # **<font color=\"DeepPink\">Obtención de datos y generación del DataFrame</font>**"
      ],
      "metadata": {
        "id": "49URVyIWZBU6"
      }
    },
    {
      "cell_type": "code",
      "source": [
        "data = \"https://atm.mendoza.gov.ar/portalatm/zoneBottom/datosInteres/recaudacion/recaudacion_impuesto_ingresos.jsp\"\n",
        "lista = pd.read_html(data)\n",
        "df = lista[0]\n",
        "df.columns = df.loc[1]\n",
        "df.columns.name = None\n",
        "df = df.loc[2:13]\n",
        "df = df.dropna(axis=1, how=\"all\")\n",
        "df.set_index(\"Meses\", inplace=True)\n",
        "df = df.astype(\"float\")\n",
        "Meses = {\"Enero\":\"1\", \"Febrero\":\"2\", \"Marzo\":\"3\", \"Abril\":\"4\", \"Mayo\":\"5\", \"Junio\":\"6\", \"Julio\":\"7\", \"Agosto\":\"8\", \"Septiembre\":\"9\", \"Octubre\":\"10\", \"Noviembre\":\"11\", \"Diciembre\":\"12\"}\n",
        "df.index = df.index.map(Meses)\n",
        "lista = []\n",
        "for i, j in enumerate(df.columns):\n",
        "  datos = pd.DataFrame(df[j])\n",
        "  datos = datos.rename(columns={j:\"iibb\"})\n",
        "  datos[\"Año\"] = 2000+i\n",
        "  datos[\"Año\"] = datos.Año.astype(\"str\")\n",
        "  datos = datos[[\"Año\",\"iibb\"]]\n",
        "  lista.append(datos)\n",
        "iibb = pd.concat(lista)\n",
        "iibb.index.name = \"Mes\"\n",
        "iibb.reset_index(inplace=True)\n",
        "iibb[\"Fecha\"] = iibb.Año + iibb.Mes\n",
        "iibb.Fecha = pd.to_datetime(iibb.Fecha, format=\"%Y%m\")\n"
      ],
      "metadata": {
        "id": "b0qnZphRZOVS"
      },
      "execution_count": null,
      "outputs": []
    },
    {
      "cell_type": "markdown",
      "source": [
        "# **<font color=\"DeepPink\">Gráfico</font>**\n"
      ],
      "metadata": {
        "id": "j8l2WhUAgp8k"
      }
    },
    {
      "cell_type": "markdown",
      "source": [
        "<p align=\"justify\">\n",
        "👀 En este caso, el eje $X$ posee datos de tipo fecha. Por ese motivo, se genera una serie de tiempo, y el parametro <code>color</code> lo que hace es separar esa serie de tiempo por los distintos ejercicios fiscales, pero como tenemos ese eje con datos de tipo fecha, podemos agregar los botones con los selectores de meses que se quieren visualizar, desde el ultimo dato, hacia atrás.</p>"
      ],
      "metadata": {
        "id": "-GfmLts9HSzE"
      }
    },
    {
      "cell_type": "code",
      "source": [
        "fig = px.line(iibb.query(\"Año > '2002' & Año < '2005'\"),\n",
        "              x=\"Fecha\",\n",
        "              y=\"iibb\",\n",
        "              color=\"Año\",\n",
        "              template=\"gridon\",\n",
        "              title=\"Ingresos Brutos\",\n",
        "              markers=True,\n",
        "              labels={\"iibb\":\"Recaudación\"})\n",
        "\n",
        "fig.update_xaxes(rangeselector=dict(buttons=list([\n",
        "    dict(count=3, label=\"3m\", step=\"month\", stepmode=\"backward\"),\n",
        "    dict(count=6, label=\"6m\", step=\"month\", stepmode=\"backward\"),\n",
        "    dict(count=9, label=\"9m\", step=\"month\", stepmode=\"backward\"),\n",
        "    dict(count=12, label=\"12m\", step=\"month\", stepmode=\"backward\"),\n",
        "    dict(count=15, label=\"15m\", step=\"month\", stepmode=\"backward\"),\n",
        "    dict(count=18, label=\"18m\", step=\"month\", stepmode=\"backward\"),\n",
        "    dict(count=21, label=\"21m\", step=\"month\", stepmode=\"backward\"),\n",
        "    dict(label = \"Máx.\", step=\"all\")])))\n",
        "\n",
        "fig.show()"
      ],
      "metadata": {
        "colab": {
          "base_uri": "https://localhost:8080/",
          "height": 542
        },
        "id": "4jdpfqKDkFld",
        "outputId": "7bd74723-2288-4db4-81ad-3dce99f23d94"
      },
      "execution_count": null,
      "outputs": [
        {
          "output_type": "display_data",
          "data": {
            "text/html": [
              "<html>\n",
              "<head><meta charset=\"utf-8\" /></head>\n",
              "<body>\n",
              "    <div>            <script src=\"https://cdnjs.cloudflare.com/ajax/libs/mathjax/2.7.5/MathJax.js?config=TeX-AMS-MML_SVG\"></script><script type=\"text/javascript\">if (window.MathJax && window.MathJax.Hub && window.MathJax.Hub.Config) {window.MathJax.Hub.Config({SVG: {font: \"STIX-Web\"}});}</script>                <script type=\"text/javascript\">window.PlotlyConfig = {MathJaxConfig: 'local'};</script>\n",
              "        <script charset=\"utf-8\" src=\"https://cdn.plot.ly/plotly-2.24.1.min.js\"></script>                <div id=\"051370d2-acc5-4ed9-84d9-e1e112c84388\" class=\"plotly-graph-div\" style=\"height:525px; width:100%;\"></div>            <script type=\"text/javascript\">                                    window.PLOTLYENV=window.PLOTLYENV || {};                                    if (document.getElementById(\"051370d2-acc5-4ed9-84d9-e1e112c84388\")) {                    Plotly.newPlot(                        \"051370d2-acc5-4ed9-84d9-e1e112c84388\",                        [{\"hovertemplate\":\"A\\u00f1o=2003\\u003cbr\\u003eFecha=%{x}\\u003cbr\\u003eRecaudaci\\u00f3n=%{y}\\u003cextra\\u003e\\u003c\\u002fextra\\u003e\",\"legendgroup\":\"2003\",\"line\":{\"color\":\"#1F77B4\",\"dash\":\"solid\"},\"marker\":{\"symbol\":\"circle\"},\"mode\":\"lines+markers\",\"name\":\"2003\",\"orientation\":\"v\",\"showlegend\":true,\"x\":[\"2003-01-01T00:00:00\",\"2003-02-01T00:00:00\",\"2003-03-01T00:00:00\",\"2003-04-01T00:00:00\",\"2003-05-01T00:00:00\",\"2003-06-01T00:00:00\",\"2003-07-01T00:00:00\",\"2003-08-01T00:00:00\",\"2003-09-01T00:00:00\",\"2003-10-01T00:00:00\",\"2003-11-01T00:00:00\",\"2003-12-01T00:00:00\"],\"xaxis\":\"x\",\"y\":[20192886.0,20257924.0,19766456.0,20503786.0,20988947.0,21041197.0,21763328.0,23185411.0,25513569.0,25042384.0,25520492.0,25122948.0],\"yaxis\":\"y\",\"type\":\"scatter\"},{\"hovertemplate\":\"A\\u00f1o=2004\\u003cbr\\u003eFecha=%{x}\\u003cbr\\u003eRecaudaci\\u00f3n=%{y}\\u003cextra\\u003e\\u003c\\u002fextra\\u003e\",\"legendgroup\":\"2004\",\"line\":{\"color\":\"#FF7F0E\",\"dash\":\"solid\"},\"marker\":{\"symbol\":\"circle\"},\"mode\":\"lines+markers\",\"name\":\"2004\",\"orientation\":\"v\",\"showlegend\":true,\"x\":[\"2004-01-01T00:00:00\",\"2004-02-01T00:00:00\",\"2004-03-01T00:00:00\",\"2004-04-01T00:00:00\",\"2004-05-01T00:00:00\",\"2004-06-01T00:00:00\",\"2004-07-01T00:00:00\",\"2004-08-01T00:00:00\",\"2004-09-01T00:00:00\",\"2004-10-01T00:00:00\",\"2004-11-01T00:00:00\",\"2004-12-01T00:00:00\"],\"xaxis\":\"x\",\"y\":[28492948.0,26276427.0,27124258.0,32466739.0,30252979.0,30687746.0,30962034.0,31937418.0,31578993.0,33774686.0,33742035.0,34519525.0],\"yaxis\":\"y\",\"type\":\"scatter\"}],                        {\"template\":{\"data\":{\"pie\":[{\"automargin\":true,\"type\":\"pie\"}]},\"layout\":{\"xaxis\":{\"showgrid\":true,\"title\":{\"standoff\":15}},\"yaxis\":{\"showgrid\":true,\"title\":{\"standoff\":15}}}},\"xaxis\":{\"anchor\":\"y\",\"domain\":[0.0,1.0],\"title\":{\"text\":\"Fecha\"},\"rangeselector\":{\"buttons\":[{\"count\":3,\"label\":\"3m\",\"step\":\"month\",\"stepmode\":\"backward\"},{\"count\":6,\"label\":\"6m\",\"step\":\"month\",\"stepmode\":\"backward\"},{\"count\":9,\"label\":\"9m\",\"step\":\"month\",\"stepmode\":\"backward\"},{\"count\":12,\"label\":\"12m\",\"step\":\"month\",\"stepmode\":\"backward\"},{\"count\":15,\"label\":\"15m\",\"step\":\"month\",\"stepmode\":\"backward\"},{\"count\":18,\"label\":\"18m\",\"step\":\"month\",\"stepmode\":\"backward\"},{\"count\":21,\"label\":\"21m\",\"step\":\"month\",\"stepmode\":\"backward\"},{\"label\":\"M\\u00e1x.\",\"step\":\"all\"}]}},\"yaxis\":{\"anchor\":\"x\",\"domain\":[0.0,1.0],\"title\":{\"text\":\"Recaudaci\\u00f3n\"}},\"legend\":{\"title\":{\"text\":\"A\\u00f1o\"},\"tracegroupgap\":0},\"title\":{\"text\":\"Ingresos Brutos\"}},                        {\"responsive\": true}                    ).then(function(){\n",
              "                            \n",
              "var gd = document.getElementById('051370d2-acc5-4ed9-84d9-e1e112c84388');\n",
              "var x = new MutationObserver(function (mutations, observer) {{\n",
              "        var display = window.getComputedStyle(gd).display;\n",
              "        if (!display || display === 'none') {{\n",
              "            console.log([gd, 'removed!']);\n",
              "            Plotly.purge(gd);\n",
              "            observer.disconnect();\n",
              "        }}\n",
              "}});\n",
              "\n",
              "// Listen for the removal of the full notebook cells\n",
              "var notebookContainer = gd.closest('#notebook-container');\n",
              "if (notebookContainer) {{\n",
              "    x.observe(notebookContainer, {childList: true});\n",
              "}}\n",
              "\n",
              "// Listen for the clearing of the current output cell\n",
              "var outputEl = gd.closest('.output');\n",
              "if (outputEl) {{\n",
              "    x.observe(outputEl, {childList: true});\n",
              "}}\n",
              "\n",
              "                        })                };                            </script>        </div>\n",
              "</body>\n",
              "</html>"
            ]
          },
          "metadata": {}
        }
      ]
    }
  ]
}